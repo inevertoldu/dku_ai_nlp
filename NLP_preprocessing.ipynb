{
 "cells": [
  {
   "cell_type": "markdown",
   "id": "d532a009",
   "metadata": {},
   "source": [
    "# 텍스트 데이터를 이용한 머신러닝/딥러닝 분석"
   ]
  },
  {
   "cell_type": "markdown",
   "id": "677ec11e",
   "metadata": {},
   "source": [
    "### 시작하기 전에"
   ]
  },
  {
   "cell_type": "markdown",
   "id": "4d19a72f",
   "metadata": {},
   "source": [
    "데스크톱에서 실행하는 경우, 아나콘다를 설치한 뒤에, 가상환경을 설치하고 진행하는 것을 추천합니다."
   ]
  },
  {
   "cell_type": "markdown",
   "id": "9da8408b",
   "metadata": {},
   "source": [
    "<img src='https://dojang.io/pluginfile.php/14099/mod_page/content/4/047005.png' width=500 height=500></img>\n",
    "<img src='https://dojang.io/pluginfile.php/14099/mod_page/content/4/047006.png' width=500 height=500></img>"
   ]
  },
  {
   "cell_type": "markdown",
   "id": "020a9fb7",
   "metadata": {},
   "source": [
    "한국어 품사 분석을 위한 라이브러리 koNLPy의 설명에 대해서는 아래의 링크를 참고하시기 바랍니다.<p>\n",
    "https://konlpy.org/ko/latest/"
   ]
  },
  {
   "cell_type": "markdown",
   "id": "rolled-truck",
   "metadata": {},
   "source": [
    "# 한국어 데이터 처리하기"
   ]
  },
  {
   "cell_type": "markdown",
   "id": "alike-mailman",
   "metadata": {},
   "source": [
    "일반적인 텍스트 데이터는 모델을 학습하기 이전에 여러 가지 작업을 거치게 됩니다. 이를 전처리(Preprocessing)이라고 합니다."
   ]
  },
  {
   "cell_type": "markdown",
   "id": "9d880a43",
   "metadata": {},
   "source": [
    "<b>토크나이징(Tokenizing)</b>이란?<br>\n",
    "주어진 텍스트를 분석할 수 있는 단위인 토큰(token)으로 쪼개는 것<br>토크나이징은 단어, 문장 등의 단위에 따라 쪼갤 수 있다."
   ]
  },
  {
   "cell_type": "markdown",
   "id": "printable-oxford",
   "metadata": {},
   "source": [
    "예를 들어 '아빠가 방에 들어가신다.'는 문장은 품사를 고려한다면<br>\n",
    "'아빠', '가', '방', '에', '들어가신다'로 나눌 수 있고 띄어쓰기를 기준으로 한다면<br>\n",
    "'아빠가', '방에', '들어가신다'로 나눌 수 있다.<br>\n",
    "그리고 실제 분석에서 의미가 있는 것들은 조사가 아니라 명사나 동사이므로 여기서 '가', '에' 등은 제외하기도 한다."
   ]
  },
  {
   "cell_type": "markdown",
   "id": "69dfa0c1",
   "metadata": {},
   "source": [
    "일반적인 토크나이징은 ntlk나 spacy 등의 라이브러리에서 제공되는 함수로도 가능하다."
   ]
  },
  {
   "cell_type": "code",
   "execution_count": 2,
   "id": "existing-feelings",
   "metadata": {},
   "outputs": [
    {
     "name": "stdout",
     "output_type": "stream",
     "text": [
      "spacy                     3.0.1\r\n",
      "spacy-legacy              3.0.1\r\n"
     ]
    }
   ],
   "source": [
    "!pip list | grep spacy"
   ]
  },
  {
   "cell_type": "code",
   "execution_count": null,
   "id": "external-challenge",
   "metadata": {},
   "outputs": [],
   "source": [
    "!pip install nltk spacy"
   ]
  },
  {
   "cell_type": "markdown",
   "id": "241d7d24",
   "metadata": {},
   "source": [
    "<b>Q</b>. 한국어 품사 분석기를 사용하는 이유는 무엇일까요?<br>\n",
    "<b>A</b>. 영어와 달리 한국어는 띄어쓰기 단위로만 쪼갤 수가 없다."
   ]
  },
  {
   "cell_type": "markdown",
   "id": "interracial-diary",
   "metadata": {},
   "source": [
    "## NTLK를 이용한 토크나이징\n",
    "### NTLK를 이용하면 띄어쓰기를 일반적으로 기준으로 하게 된다."
   ]
  },
  {
   "cell_type": "code",
   "execution_count": 14,
   "id": "7e926c3b",
   "metadata": {},
   "outputs": [
    {
     "name": "stdout",
     "output_type": "stream",
     "text": [
      "Requirement already satisfied: nltk in /Users/jhohunkoog/opt/anaconda3/envs/nlp/lib/python3.8/site-packages (3.7)\n",
      "Requirement already satisfied: click in /Users/jhohunkoog/opt/anaconda3/envs/nlp/lib/python3.8/site-packages (from nltk) (8.0.4)\n",
      "Requirement already satisfied: joblib in /Users/jhohunkoog/opt/anaconda3/envs/nlp/lib/python3.8/site-packages (from nltk) (1.1.0)\n",
      "Requirement already satisfied: tqdm in /Users/jhohunkoog/opt/anaconda3/envs/nlp/lib/python3.8/site-packages (from nltk) (4.63.0)\n",
      "Requirement already satisfied: regex>=2021.8.3 in /Users/jhohunkoog/opt/anaconda3/envs/nlp/lib/python3.8/site-packages (from nltk) (2022.3.2)\n"
     ]
    }
   ],
   "source": [
    "# NTLK가 설치되어 있지 않다면 다음 코드를 사용할 수 있다.\n",
    "!pip install nltk"
   ]
  },
  {
   "cell_type": "code",
   "execution_count": 3,
   "id": "e505a6ed",
   "metadata": {},
   "outputs": [
    {
     "data": {
      "text/plain": [
       "['We',\n",
       " 'hold',\n",
       " 'these',\n",
       " 'truths',\n",
       " 'to',\n",
       " 'be',\n",
       " 'self-evident',\n",
       " ',',\n",
       " 'that',\n",
       " 'all',\n",
       " 'men',\n",
       " 'are',\n",
       " 'created',\n",
       " 'equal',\n",
       " ',',\n",
       " 'that',\n",
       " 'they',\n",
       " 'are',\n",
       " 'endowed',\n",
       " 'by',\n",
       " 'their',\n",
       " 'Creator',\n",
       " 'with',\n",
       " 'certain',\n",
       " 'unalienable',\n",
       " 'Rights',\n",
       " ',',\n",
       " 'that',\n",
       " 'among',\n",
       " 'these',\n",
       " 'are',\n",
       " 'Life',\n",
       " ',',\n",
       " 'Liberty',\n",
       " 'and',\n",
       " 'the',\n",
       " 'pursuit',\n",
       " 'of',\n",
       " 'Happiness',\n",
       " '.',\n",
       " 'That',\n",
       " 'to',\n",
       " 'secure',\n",
       " 'these',\n",
       " 'rights',\n",
       " ',',\n",
       " 'Governments',\n",
       " 'are',\n",
       " 'instituted',\n",
       " 'among',\n",
       " 'Men',\n",
       " ',',\n",
       " 'deriving',\n",
       " 'their',\n",
       " 'just',\n",
       " 'powers',\n",
       " 'from',\n",
       " 'the',\n",
       " 'consent',\n",
       " 'of',\n",
       " 'the',\n",
       " 'governed',\n",
       " '.',\n",
       " 'That',\n",
       " 'whenever',\n",
       " 'any',\n",
       " 'Form',\n",
       " 'of',\n",
       " 'Government',\n",
       " 'becomes',\n",
       " 'destructive',\n",
       " 'of',\n",
       " 'these',\n",
       " 'ends',\n",
       " ',',\n",
       " 'it',\n",
       " 'is',\n",
       " 'the',\n",
       " 'Right',\n",
       " 'of',\n",
       " 'the',\n",
       " 'People',\n",
       " 'to',\n",
       " 'alter',\n",
       " 'or',\n",
       " 'to',\n",
       " 'abolish',\n",
       " 'it',\n",
       " ',',\n",
       " 'and',\n",
       " 'to',\n",
       " 'institute',\n",
       " 'new',\n",
       " 'Government',\n",
       " ',',\n",
       " 'laying',\n",
       " 'its',\n",
       " 'foundation',\n",
       " 'on',\n",
       " 'such',\n",
       " 'principles',\n",
       " 'and',\n",
       " 'organizing',\n",
       " 'its',\n",
       " 'powers',\n",
       " 'in',\n",
       " 'such',\n",
       " 'form',\n",
       " ',',\n",
       " 'as',\n",
       " 'to',\n",
       " 'them',\n",
       " 'shall',\n",
       " 'seem',\n",
       " 'most',\n",
       " 'likely',\n",
       " 'to',\n",
       " 'effect',\n",
       " 'their',\n",
       " 'Safety',\n",
       " 'and',\n",
       " 'Happiness',\n",
       " '.']"
      ]
     },
     "execution_count": 3,
     "metadata": {},
     "output_type": "execute_result"
    }
   ],
   "source": [
    "from nltk.tokenize import word_tokenize, sent_tokenize\n",
    "\n",
    "sentence = '''We hold these truths to be self-evident, that all men are created equal, \n",
    "that they are endowed by their Creator with certain unalienable Rights, that among these are Life, \n",
    "Liberty and the pursuit of Happiness. That to secure these rights, Governments are instituted among Men, \n",
    "deriving their just powers from the consent of the governed. That whenever any Form of Government becomes \n",
    "destructive of these ends, it is the Right of the People to alter or to abolish it, \n",
    "and to institute new Government, laying its foundation on such principles and organizing its powers in such form, \n",
    "as to them shall seem most likely to effect their Safety and Happiness.'''\n",
    "\n",
    "word_tokenize(sentence)"
   ]
  },
  {
   "cell_type": "code",
   "execution_count": 6,
   "id": "c811dbaa",
   "metadata": {},
   "outputs": [
    {
     "data": {
      "text/plain": [
       "['We hold these truths to be self-evident, that all men are created equal, that they are endowed by their Creator with certain unalienable Rights, that among these are Life, Liberty and the pursuit of Happiness.',\n",
       " 'That to secure these rights, Governments are instituted among Men, deriving their just powers from the consent of the governed.',\n",
       " 'That whenever any Form of Government becomes destructive of these ends, it is the Right of the People to alter or to abolish it, and to institute new Government, laying its foundation on such principles and organizing its powers in such form, as to them shall seem most likely to effect their Safety and Happiness.']"
      ]
     },
     "execution_count": 6,
     "metadata": {},
     "output_type": "execute_result"
    }
   ],
   "source": [
    "from nltk.tokenize import sent_tokenize\n",
    "\n",
    "sent_tokenize(sentence.replace('\\n', ''))"
   ]
  },
  {
   "cell_type": "markdown",
   "id": "accomplished-enzyme",
   "metadata": {},
   "source": [
    "## KoNLPy를 이용한 토크나이징"
   ]
  },
  {
   "cell_type": "markdown",
   "id": "military-robin",
   "metadata": {},
   "source": [
    "KoNLPy에 대한 설명 참고 https://konlpy.org/en/latest/"
   ]
  },
  {
   "cell_type": "code",
   "execution_count": null,
   "id": "dried-layout",
   "metadata": {},
   "outputs": [],
   "source": [
    "# KoNLPy를 설치하지 않았을 경우 실행합니다.\n",
    "!pip install konlpy"
   ]
  },
  {
   "cell_type": "code",
   "execution_count": null,
   "id": "cd7ecaba",
   "metadata": {},
   "outputs": [],
   "source": [
    "# MeCab 설치를 위한 코드입니다. (아래는 Mac에서의 실행 코드)\n",
    "!bash <(curl -s https://raw.githubusercontent.com/konlpy/konlpy/master/scripts/mecab.sh)"
   ]
  },
  {
   "cell_type": "markdown",
   "id": "16106152",
   "metadata": {},
   "source": [
    "### 꼬꼬마 형태소 분석기의 실행"
   ]
  },
  {
   "cell_type": "code",
   "execution_count": 7,
   "id": "dc01c2ff",
   "metadata": {},
   "outputs": [
    {
     "name": "stdout",
     "output_type": "stream",
     "text": [
      "['아버지', '가', '방', '에', '들어가', 'ㅂ니다', '.']\n",
      "[('아버지', 'NNG'), ('가', 'JKS'), ('방', 'NNG'), ('에', 'JKM'), ('들어가', 'VV'), ('ㅂ니다', 'EFN'), ('.', 'SF')]\n",
      "['아버지', '방']\n",
      "['오늘 날씨는 어 때요?', '내일은 덥다 던데.']\n"
     ]
    }
   ],
   "source": [
    "from konlpy.tag import Kkma\n",
    "# 꼬꼬마 형태소 분석기 객체 생성\n",
    "kkma = Kkma()\n",
    "text = \"아버지가 방에 들어갑니다.\"\n",
    "\n",
    "# 형태소 추출\n",
    "morphs = kkma.morphs(text)\n",
    "print(morphs)\n",
    "\n",
    "# 형태소와 품사 태그 추출\n",
    "pos = kkma.pos(text)\n",
    "print(pos)\n",
    "\n",
    "# 명사만 추출\n",
    "nouns = kkma.nouns(text)\n",
    "print(nouns)\n",
    "\n",
    "# 문장 분리\n",
    "sentences = \"오늘 날씨는 어때요? 내일은 덥다던데.\"\n",
    "s = kkma.sentences(sentences)\n",
    "print(s)"
   ]
  },
  {
   "cell_type": "markdown",
   "id": "8656c328",
   "metadata": {},
   "source": [
    "|  품사  |  설명  |\n",
    "|-------|-------|\n",
    "|NNG    |일반명사 |\n",
    "|JKS    |주격 조사 |\n",
    "|JKM    |부사격 조사 |\n",
    "|VV     |동사    |\n",
    "|EFN    |평서형 종결 어미|\n",
    "|SF     |마침표, 물음표, 느낌표|"
   ]
  },
  {
   "cell_type": "markdown",
   "id": "67da99dc",
   "metadata": {},
   "source": [
    "### 코모란 형태소 분석기의 실행"
   ]
  },
  {
   "cell_type": "code",
   "execution_count": 8,
   "id": "661fa22a",
   "metadata": {},
   "outputs": [
    {
     "name": "stdout",
     "output_type": "stream",
     "text": [
      "['아버지', '가', '방', '에', '들어가', 'ㅂ니다', '.']\n",
      "[('아버지', 'NNG'), ('가', 'JKS'), ('방', 'NNG'), ('에', 'JKB'), ('들어가', 'VV'), ('ㅂ니다', 'EF'), ('.', 'SF')]\n",
      "['아버지', '방']\n"
     ]
    }
   ],
   "source": [
    "from konlpy.tag import Komoran\n",
    "\n",
    "# 코모란 형태소 분석기 객체 생성\n",
    "komoran = Komoran()\n",
    "text = \"아버지가 방에 들어갑니다.\"\n",
    "\n",
    "# 형태소 추출\n",
    "morphs = komoran.morphs(text)\n",
    "print(morphs)\n",
    "\n",
    "# 형태소와 품사 태그 추출\n",
    "pos = komoran.pos(text)\n",
    "print(pos)\n",
    "\n",
    "# 명사만 추출\n",
    "nouns = komoran.nouns(text)\n",
    "print(nouns)"
   ]
  },
  {
   "cell_type": "markdown",
   "id": "d85a8e7c",
   "metadata": {},
   "source": [
    "### 트위터(Okt)의 형태소 분석기의 실행"
   ]
  },
  {
   "cell_type": "code",
   "execution_count": 9,
   "id": "cad6e8cc",
   "metadata": {},
   "outputs": [
    {
     "name": "stdout",
     "output_type": "stream",
     "text": [
      "['아버지', '가', '방', '에', '들어갑니다', '.']\n",
      "[('아버지', 'Noun'), ('가', 'Josa'), ('방', 'Noun'), ('에', 'Josa'), ('들어갑니다', 'Verb'), ('.', 'Punctuation')]\n",
      "['아버지', '방']\n",
      "오늘 날씨가 좋아요ㅋㅋ\n",
      "['오늘', '오늘 날씨', '좋아욬', '날씨']\n"
     ]
    }
   ],
   "source": [
    "from konlpy.tag import Okt\n",
    "\n",
    "# Okt 형태소 분석기 객체 생성\n",
    "okt = Okt()\n",
    "text = \"아버지가 방에 들어갑니다.\"\n",
    "\n",
    "# 형태소 추출\n",
    "morphs = okt.morphs(text)\n",
    "print(morphs)\n",
    "\n",
    "# 형태소와 품사 태그 추출\n",
    "pos = okt.pos(text)\n",
    "print(pos)\n",
    "\n",
    "# 명사만 추출\n",
    "nouns = okt.nouns(text)\n",
    "print(nouns)\n",
    "\n",
    "# 정규화, 어구 추출\n",
    "text = \"오늘 날씨가 좋아욬ㅋㅋ\"\n",
    "print(okt.normalize(text))\n",
    "print(okt.phrases(text))"
   ]
  },
  {
   "cell_type": "markdown",
   "id": "e315aff9",
   "metadata": {},
   "source": [
    "### 사용자 사전 구축"
   ]
  },
  {
   "cell_type": "code",
   "execution_count": 10,
   "id": "a9fe9c67",
   "metadata": {},
   "outputs": [
    {
     "name": "stdout",
     "output_type": "stream",
     "text": [
      "[('우리', 'NP'), ('챗봇은', 'NA'), ('엔', 'NNB'), ('엘', 'NNP'), ('피', 'NNG'), ('를', 'JKO'), ('좋아하', 'VV'), ('아', 'EF'), ('.', 'SF')]\n"
     ]
    }
   ],
   "source": [
    "from konlpy.tag import Komoran\n",
    "\n",
    "komoran = Komoran()\n",
    "text = \"우리 챗봇은 엔엘피를 좋아해.\"\n",
    "pos = komoran.pos(text)\n",
    "print(pos)"
   ]
  },
  {
   "cell_type": "code",
   "execution_count": 11,
   "id": "f23cb71b",
   "metadata": {},
   "outputs": [
    {
     "name": "stdout",
     "output_type": "stream",
     "text": [
      "[('우리', 'NP'), ('챗봇은', 'NA'), ('엔엘피', 'NNG'), ('를', 'JKO'), ('좋아하', 'VV'), ('아', 'EF'), ('.', 'SF')]\n"
     ]
    }
   ],
   "source": [
    "# 사용자 사전 추가하기\n",
    "from konlpy.tag import Komoran\n",
    "\n",
    "komoran = Komoran(userdic='user_dic.tsv') # 사용자 사전 위치와 파일명\n",
    "text = \"우리 챗봇은 엔엘피를 좋아해.\"\n",
    "pos = komoran.pos(text)\n",
    "print(pos)"
   ]
  },
  {
   "cell_type": "markdown",
   "id": "f9cbc398",
   "metadata": {},
   "source": [
    "|형태소 분석기|장점| 단점|\n",
    "|---|--|--|\n",
    "|Kkma      |분석 품질이 좋음. 품사 태그가 다양함 | 분석 속도가 느림|\n",
    "|Komoran   |자소 분리된 문장이나 오탈자에 강하고 사용자 사전 관리에 용이함|보통의 분석 속도와 품질|\n",
    "|Okt       |매우 분석 속도가 빠르고 정규화 기능을 지원함 |사용자 사전 관리가 어려움|"
   ]
  },
  {
   "cell_type": "markdown",
   "id": "62da9d10",
   "metadata": {},
   "source": [
    "<H7> 아래는 여러 가지 형태소 분석기의 성능을 비교한 그림입니다.<p>\n",
    "아래에서 보듯이 시간이 지날수록 가장 성능이 탁월한 것은(소요 시간이 적은 것) 꼬꼬마 < 코모란 < 한나눔 < 트위터 < 미캡 입니다. </H7>"
   ]
  },
  {
   "cell_type": "markdown",
   "id": "bc3a1a66",
   "metadata": {},
   "source": [
    "<img src='https://konlpy.org/ko/v0.6.0/_images/time.png' width=600 height=600></img>"
   ]
  },
  {
   "cell_type": "code",
   "execution_count": 12,
   "id": "8da23481",
   "metadata": {
    "scrolled": false
   },
   "outputs": [
    {
     "data": {
      "text/html": [
       "\n",
       "        <iframe\n",
       "            width=\"960\"\n",
       "            height=\"1800\"\n",
       "            src=\"http://kkma.snu.ac.kr/documents/index.jsp?doc=postag\"\n",
       "            frameborder=\"0\"\n",
       "            allowfullscreen\n",
       "        ></iframe>\n",
       "        "
      ],
      "text/plain": [
       "<IPython.lib.display.IFrame at 0x7fe4a049d4f0>"
      ]
     },
     "execution_count": 12,
     "metadata": {},
     "output_type": "execute_result"
    }
   ],
   "source": [
    "from IPython.display import IFrame\n",
    "\n",
    "IFrame(src='http://kkma.snu.ac.kr/documents/index.jsp?doc=postag', width=960, height=1800)"
   ]
  },
  {
   "cell_type": "markdown",
   "id": "large-trailer",
   "metadata": {},
   "source": [
    "# 트랜스포머(BERT)를 이용한 토크나이징"
   ]
  },
  {
   "cell_type": "markdown",
   "id": "minus-subcommittee",
   "metadata": {},
   "source": [
    "인코더와 디코더로 이뤄진 구조임!"
   ]
  },
  {
   "cell_type": "markdown",
   "id": "capable-senegal",
   "metadata": {},
   "source": [
    "<img src='https://pytorch.org/tutorials/_images/bert.png' width=600 height=400></img>"
   ]
  },
  {
   "cell_type": "code",
   "execution_count": null,
   "id": "growing-arrangement",
   "metadata": {},
   "outputs": [],
   "source": [
    "!pip install transformers"
   ]
  },
  {
   "cell_type": "code",
   "execution_count": 13,
   "id": "choice-nickname",
   "metadata": {},
   "outputs": [],
   "source": [
    "from transformers import *\n",
    "\n",
    "tokenizer = BertTokenizer.from_pretrained(\n",
    "    \"bert-base-multilingual-cased\", cache_dir='bert_ckpt', \n",
    "    do_lower_case=False)"
   ]
  },
  {
   "cell_type": "code",
   "execution_count": 14,
   "id": "unlikely-output",
   "metadata": {},
   "outputs": [
    {
     "name": "stdout",
     "output_type": "stream",
     "text": [
      "[101, 9248, 16439, 12424, 9321, 118610, 119081, 48345, 119, 79633, 9519, 119285, 58303, 48345, 119, 102]\n",
      "['[ C L S ]', '만', '# # 나', '# # 서', '반', '# # 갑', '# # 습', '# # 니 다', '.', '좋 은', '아', '# # 침', '# # 입', '# # 니 다', '.', '[ S E P ]']\n"
     ]
    }
   ],
   "source": [
    "test_sentence = '만나서 반갑습니다. 좋은 아침입니다.'\n",
    "\n",
    "encode = tokenizer.encode(test_sentence)\n",
    "token_print = [tokenizer.decode(token) for token in encode]\n",
    "\n",
    "print(encode)\n",
    "print(token_print)"
   ]
  },
  {
   "cell_type": "markdown",
   "id": "individual-winter",
   "metadata": {},
   "source": [
    "## 사전 훈련된 모델을 이용한 토크나이징"
   ]
  },
  {
   "cell_type": "code",
   "execution_count": 5,
   "id": "crude-pregnancy",
   "metadata": {
    "scrolled": true
   },
   "outputs": [
    {
     "name": "stdout",
     "output_type": "stream",
     "text": [
      "Collecting emoji==0.6.0\n",
      "  Downloading emoji-0.6.0.tar.gz (51 kB)\n",
      "\u001b[K     |████████████████████████████████| 51 kB 6.3 MB/s eta 0:00:011\n",
      "\u001b[?25hBuilding wheels for collected packages: emoji\n",
      "  Building wheel for emoji (setup.py) ... \u001b[?25ldone\n",
      "\u001b[?25h  Created wheel for emoji: filename=emoji-0.6.0-py3-none-any.whl size=49714 sha256=45e199d95ebed90f56a4364d53824e420b64a17636beeae647a3fd2046ade3b9\n",
      "  Stored in directory: /Users/jhohunkoog/Library/Caches/pip/wheels/43/3d/82/e7baffa5e86346c6178d7750dba6e8ef063282a37fc563f8f8\n",
      "Successfully built emoji\n",
      "Installing collected packages: emoji\n",
      "Successfully installed emoji-0.6.0\n",
      "Collecting soynlp==0.0.493\n",
      "  Using cached soynlp-0.0.493-py3-none-any.whl (416 kB)\n",
      "Requirement already satisfied: scipy>=1.1.0 in /Users/jhohunkoog/anaconda3/envs/nlp/lib/python3.8/site-packages (from soynlp==0.0.493) (1.6.0)\n",
      "Requirement already satisfied: numpy>=1.12.1 in /Users/jhohunkoog/anaconda3/envs/nlp/lib/python3.8/site-packages (from soynlp==0.0.493) (1.19.5)\n",
      "Requirement already satisfied: scikit-learn>=0.20.0 in /Users/jhohunkoog/anaconda3/envs/nlp/lib/python3.8/site-packages (from soynlp==0.0.493) (0.24.1)\n",
      "Collecting psutil>=5.0.1\n",
      "  Downloading psutil-5.9.4-cp36-abi3-macosx_10_9_x86_64.whl (243 kB)\n",
      "\u001b[K     |████████████████████████████████| 243 kB 6.1 MB/s eta 0:00:01\n",
      "\u001b[?25hRequirement already satisfied: threadpoolctl>=2.0.0 in /Users/jhohunkoog/anaconda3/envs/nlp/lib/python3.8/site-packages (from scikit-learn>=0.20.0->soynlp==0.0.493) (2.1.0)\n",
      "Requirement already satisfied: joblib>=0.11 in /Users/jhohunkoog/anaconda3/envs/nlp/lib/python3.8/site-packages (from scikit-learn>=0.20.0->soynlp==0.0.493) (1.0.0)\n",
      "Installing collected packages: psutil, soynlp\n",
      "Successfully installed psutil-5.9.4 soynlp-0.0.493\n"
     ]
    }
   ],
   "source": [
    "!pip install emoji==0.6.0\n",
    "!pip install soynlp==0.0.493"
   ]
  },
  {
   "cell_type": "code",
   "execution_count": 15,
   "id": "large-first",
   "metadata": {},
   "outputs": [
    {
     "name": "stderr",
     "output_type": "stream",
     "text": [
      "/Users/jhohunkoog/anaconda3/envs/nlp/lib/python3.8/site-packages/transformers/models/auto/modeling_auto.py:758: FutureWarning: The class `AutoModelWithLMHead` is deprecated and will be removed in a future version. Please use `AutoModelForCausalLM` for causal language models, `AutoModelForMaskedLM` for masked language models and `AutoModelForSeq2SeqLM` for encoder-decoder models.\n",
      "  warnings.warn(\n",
      "Some weights of the model checkpoint at beomi/kcbert-base were not used when initializing BertForMaskedLM: ['cls.seq_relationship.weight', 'cls.seq_relationship.bias']\n",
      "- This IS expected if you are initializing BertForMaskedLM from the checkpoint of a model trained on another task or with another architecture (e.g. initializing a BertForSequenceClassification model from a BertForPreTraining model).\n",
      "- This IS NOT expected if you are initializing BertForMaskedLM from the checkpoint of a model that you expect to be exactly identical (initializing a BertForSequenceClassification model from a BertForSequenceClassification model).\n"
     ]
    }
   ],
   "source": [
    "from transformers import AutoTokenizer, AutoModelWithLMHead\n",
    "\n",
    "# Base Model (108M)\n",
    "tokenizer = AutoTokenizer.from_pretrained(\"beomi/kcbert-base\")\n",
    "model = AutoModelWithLMHead.from_pretrained(\"beomi/kcbert-base\")"
   ]
  },
  {
   "cell_type": "code",
   "execution_count": 16,
   "id": "federal-injury",
   "metadata": {},
   "outputs": [
    {
     "name": "stdout",
     "output_type": "stream",
     "text": [
      "re.compile('https?:\\\\/\\\\/(www\\\\.)?[-a-zA-Z0-9@:%._\\\\+~#=]{1,256}\\\\.[a-zA-Z0-9()]{1,6}\\\\b([-a-zA-Z0-9()@:%_\\\\+.~#?&//=]*)')\n"
     ]
    }
   ],
   "source": [
    "import re\n",
    "\n",
    "from soynlp.normalizer import repeat_normalize\n",
    "\n",
    "pattern = re.compile(f'[^ .,?!/@$%~％·∼()\\x00-\\x7Fㄱ-ㅣ가-힣]+')\n",
    "url_pattern = re.compile(\n",
    "    r'https?:\\/\\/(www\\.)?[-a-zA-Z0-9@:%._\\+~#=]{1,256}\\.[a-zA-Z0-9()]{1,6}\\b([-a-zA-Z0-9()@:%_\\+.~#?&//=]*)')\n",
    "\n",
    "print(url_pattern)"
   ]
  },
  {
   "cell_type": "code",
   "execution_count": 17,
   "id": "fifty-seafood",
   "metadata": {},
   "outputs": [],
   "source": [
    "# 이모티콘을 제거하기 위한 전처리 함수\n",
    "def clean(x): \n",
    "    x = pattern.sub(' ', x)\n",
    "    x = url_pattern.sub('', x)\n",
    "    x = x.strip()\n",
    "    x = repeat_normalize(x, num_repeats=2)\n",
    "\n",
    "    return x"
   ]
  },
  {
   "cell_type": "code",
   "execution_count": 18,
   "id": "introductory-hurricane",
   "metadata": {
    "scrolled": true
   },
   "outputs": [],
   "source": [
    "test_sent = '나는 2022년에는 더 나은 해가 되기를 기대한다.'"
   ]
  },
  {
   "cell_type": "code",
   "execution_count": 21,
   "id": "english-tomorrow",
   "metadata": {},
   "outputs": [
    {
     "data": {
      "text/plain": [
       "'test_sent wow 2002년 완전!!!'"
      ]
     },
     "execution_count": 21,
     "metadata": {},
     "output_type": "execute_result"
    }
   ],
   "source": [
    "clean('test_sent wow 2002년 완전!!!')"
   ]
  },
  {
   "cell_type": "code",
   "execution_count": 22,
   "id": "former-arrival",
   "metadata": {},
   "outputs": [],
   "source": [
    "encode = tokenizer.encode(test_sent)\n",
    "token_print = [tokenizer.decode(token) for token in encode]"
   ]
  },
  {
   "cell_type": "code",
   "execution_count": 23,
   "id": "skilled-disorder",
   "metadata": {},
   "outputs": [
    {
     "data": {
      "text/plain": [
       "[2, 8616, 15289, 13970, 8182, 832, 14112, 25767, 24739, 9298, 8008, 17, 3]"
      ]
     },
     "execution_count": 23,
     "metadata": {},
     "output_type": "execute_result"
    }
   ],
   "source": [
    "encode"
   ]
  },
  {
   "cell_type": "code",
   "execution_count": 24,
   "id": "sustainable-component",
   "metadata": {},
   "outputs": [
    {
     "data": {
      "text/plain": [
       "['[CLS]',\n",
       " '나는',\n",
       " '202',\n",
       " '##2년',\n",
       " '##에는',\n",
       " '더',\n",
       " '나은',\n",
       " '해가',\n",
       " '되기를',\n",
       " '기대',\n",
       " '##한다',\n",
       " '.',\n",
       " '[SEP]']"
      ]
     },
     "execution_count": 24,
     "metadata": {},
     "output_type": "execute_result"
    }
   ],
   "source": [
    "token_print"
   ]
  },
  {
   "cell_type": "markdown",
   "id": "danish-rental",
   "metadata": {},
   "source": [
    "# 임베딩"
   ]
  },
  {
   "cell_type": "markdown",
   "id": "brazilian-workshop",
   "metadata": {},
   "source": [
    "<b>Q</b>. 임베딩이란?<br>\n",
    "<b>A</b>. 주어진 토큰들을 행렬이나 숫자로 기호화하는 과정"
   ]
  },
  {
   "cell_type": "markdown",
   "id": "indie-literature",
   "metadata": {},
   "source": [
    "자연어 처리가 이뤄지는 과정<p>\n",
    "<img src='https://images.deepai.org/glossary-terms/6124ba1752f943a3aabb3338a7a19e13/nlp.png' width=600 height=400></img>"
   ]
  },
  {
   "cell_type": "markdown",
   "id": "crucial-upset",
   "metadata": {},
   "source": [
    "## 원핫 인코딩"
   ]
  },
  {
   "cell_type": "markdown",
   "id": "legitimate-bathroom",
   "metadata": {},
   "source": [
    "<h7>단어를 0 또는 1로 구성된 행렬로 나타내는 방식을 원핫 인코딩이라고 한다.</h7>\n",
    "<img src='https://mblogthumb-phinf.pstatic.net/MjAyMDAzMDFfMjgx/MDAxNTgzMDIyNzg0MTc2.yzaPKdZzM5RdLJor5Ps0KfU5w3TWHU2cnXFDkTczOKIg.z4NJn4MGiwF49FmX6Mg7qgouuNhhlL1CivvrG0Bza1og.PNG.handuelly/image.png?type=w800' width=400 height=300></img>"
   ]
  },
  {
   "cell_type": "markdown",
   "id": "interim-portable",
   "metadata": {},
   "source": [
    "|  |서울|로마|도쿄|베이징|결과|\n",
    "|--|--|--|--|--|--|\n",
    "|서울|1|0|0|0|[1, 0, 0, 0]|\n",
    "|로마|0|1|0|0|[0, 1, 0, 0]|\n",
    "|도쿄|0|0|1|0|[0, 0, 1, 0]|\n",
    "|베이징|0|0|0|1|[0, 0, 0, 1]|"
   ]
  },
  {
   "cell_type": "markdown",
   "id": "bright-cleaner",
   "metadata": {},
   "source": [
    "Sent 1: 나는 나는 나는 나비가 좋아.<br>\n",
    "'나는', '나비가', '좋아.'<br>\n",
    "Sent 2: 나는 학교가 좋아.<br>\n",
    "'나는', '학교가', '좋아.'<br>\n",
    "나는 / 나비가 / 학교가 / 좋아.<br>\n",
    "Sent 1: [1, 1, 0, 1] <br>\n",
    "Sent 2: [1, 0, 1, 1] <br>"
   ]
  },
  {
   "cell_type": "code",
   "execution_count": 25,
   "id": "natural-christianity",
   "metadata": {},
   "outputs": [
    {
     "name": "stdout",
     "output_type": "stream",
     "text": [
      "['오늘', '날씨', '구름']\n",
      "{'오늘': 0, '날씨': 1, '구름': 2}\n",
      "[[1. 0. 0.]\n",
      " [0. 1. 0.]\n",
      " [0. 0. 1.]]\n"
     ]
    }
   ],
   "source": [
    "from konlpy.tag import Komoran\n",
    "import numpy as np\n",
    "\n",
    "komoran = Komoran()\n",
    "text = \"오늘 날씨는 구름이 많아요.\"\n",
    "\n",
    "# 명사만 추출\n",
    "nouns = komoran.nouns(text)\n",
    "print(nouns)\n",
    "\n",
    "# 단어 사전 구축 및 단어별 인덱스 부여\n",
    "dics = {}\n",
    "for word in nouns:\n",
    "    if word not in dics.keys():\n",
    "        dics[word] = len(dics)\n",
    "print(dics)\n",
    "\n",
    "# 원-핫 인코딩\n",
    "nb_classes = len(dics)\n",
    "targets = list(dics.values())\n",
    "one_hot_targets = np.eye(nb_classes)[targets]\n",
    "print(one_hot_targets)"
   ]
  },
  {
   "cell_type": "markdown",
   "id": "twelve-cycling",
   "metadata": {},
   "source": [
    "<img src='https://media.vlpt.us/images/ssu_hyun/post/c079d766-2412-4761-bb46-0d6d59ce1dfe/image.png' width=600 height=600></img>"
   ]
  },
  {
   "cell_type": "markdown",
   "id": "wicked-ground",
   "metadata": {},
   "source": [
    "## Word2Vec"
   ]
  },
  {
   "cell_type": "markdown",
   "id": "parental-diversity",
   "metadata": {},
   "source": [
    "<h7> CBOW 및 Skip-gram의 비교</h7>\n",
    "<img src='https://media.vlpt.us/post-images/dscwinterstudy/b345e300-450b-11ea-bc90-a1015e18ffb0/fig-3-23.png' width=800 height=250></img>"
   ]
  },
  {
   "cell_type": "code",
   "execution_count": 36,
   "id": "vietnamese-bennett",
   "metadata": {},
   "outputs": [
    {
     "name": "stdout",
     "output_type": "stream",
     "text": [
      "Requirement already satisfied: gensim in /Users/jhohunkoog/anaconda3/envs/nlp/lib/python3.8/site-packages (3.8.3)\n",
      "Collecting gensim\n",
      "  Downloading gensim-4.2.0-cp38-cp38-macosx_10_9_x86_64.whl (24.0 MB)\n",
      "\u001b[K     |████████████████████████████████| 24.0 MB 11.6 MB/s eta 0:00:01\n",
      "\u001b[?25hRequirement already satisfied: smart-open>=1.8.1 in /Users/jhohunkoog/anaconda3/envs/nlp/lib/python3.8/site-packages (from gensim) (3.0.0)\n",
      "Requirement already satisfied: numpy>=1.17.0 in /Users/jhohunkoog/anaconda3/envs/nlp/lib/python3.8/site-packages (from gensim) (1.19.5)\n",
      "Requirement already satisfied: scipy>=0.18.1 in /Users/jhohunkoog/anaconda3/envs/nlp/lib/python3.8/site-packages (from gensim) (1.6.0)\n",
      "Requirement already satisfied: requests in /Users/jhohunkoog/anaconda3/envs/nlp/lib/python3.8/site-packages (from smart-open>=1.8.1->gensim) (2.25.1)\n",
      "Requirement already satisfied: chardet<5,>=3.0.2 in /Users/jhohunkoog/anaconda3/envs/nlp/lib/python3.8/site-packages (from requests->smart-open>=1.8.1->gensim) (4.0.0)\n",
      "Requirement already satisfied: urllib3<1.27,>=1.21.1 in /Users/jhohunkoog/anaconda3/envs/nlp/lib/python3.8/site-packages (from requests->smart-open>=1.8.1->gensim) (1.26.3)\n",
      "Requirement already satisfied: idna<3,>=2.5 in /Users/jhohunkoog/anaconda3/envs/nlp/lib/python3.8/site-packages (from requests->smart-open>=1.8.1->gensim) (2.10)\n",
      "Requirement already satisfied: certifi>=2017.4.17 in /Users/jhohunkoog/anaconda3/envs/nlp/lib/python3.8/site-packages (from requests->smart-open>=1.8.1->gensim) (2020.12.5)\n",
      "Installing collected packages: gensim\n",
      "  Attempting uninstall: gensim\n",
      "    Found existing installation: gensim 3.8.3\n",
      "    Uninstalling gensim-3.8.3:\n",
      "      Successfully uninstalled gensim-3.8.3\n",
      "Successfully installed gensim-4.2.0\n"
     ]
    }
   ],
   "source": [
    "!pip install -U gensim"
   ]
  },
  {
   "cell_type": "code",
   "execution_count": 26,
   "id": "binary-agent",
   "metadata": {},
   "outputs": [
    {
     "name": "stdout",
     "output_type": "stream",
     "text": [
      "1) 말뭉치 데이터 읽기 시작\n",
      "200000\n",
      "1) 말뭉치 데이터 읽기 완료:  1.820617914199829\n",
      "2) 형태소에서 명사만 추출 시작\n",
      "2) 형태소에서 명사만 추출 완료:  97.76333904266357\n"
     ]
    }
   ],
   "source": [
    "from gensim.models import Word2Vec\n",
    "from konlpy.tag import Komoran\n",
    "import time\n",
    "\n",
    "# 네이버 영화 리뷰 데이터 읽어옴\n",
    "def read_review_data(filename):\n",
    "    with open(filename, 'r') as f:\n",
    "        data = [line.split('\\t') for line in f.read().splitlines()]\n",
    "        data = data[1:] # header 제거\n",
    "    return data\n",
    "\n",
    "# 측정 시작\n",
    "start = time.time()\n",
    "\n",
    "# 리뷰 파일 읽어오기\n",
    "print('1) 말뭉치 데이터 읽기 시작')\n",
    "review_data = read_review_data('Data/naver_ratings.txt') # 네이버 리뷰 파일의 위치를 쓰도록 한다.\n",
    "print(len(review_data)) # 리뷰 데이터 전체 개수\n",
    "print('1) 말뭉치 데이터 읽기 완료: ', time.time() - start)\n",
    "\n",
    "# 문장단위로 명사만 추출해 학습 입력 데이터로 만듬\n",
    "print('2) 형태소에서 명사만 추출 시작')\n",
    "komoran = Komoran()\n",
    "docs = [komoran.nouns(sentence[1]) for sentence in review_data]\n",
    "print('2) 형태소에서 명사만 추출 완료: ', time.time() - start)"
   ]
  },
  {
   "cell_type": "code",
   "execution_count": 28,
   "id": "muslim-playback",
   "metadata": {},
   "outputs": [
    {
     "name": "stdout",
     "output_type": "stream",
     "text": [
      "3) word2vec 모델 학습 시작\n",
      "3) word2vec 모델 학습 완료:  168.87497210502625\n",
      "4) 학습된 모델 저장 시작\n",
      "4) 학습된 모델 저장 완료:  168.9125280380249\n",
      "corpus_count :  200000\n",
      "corpus_total_words :  1076896\n"
     ]
    }
   ],
   "source": [
    "# word2vec 모델 학습\n",
    "print('3) word2vec 모델 학습 시작')\n",
    "model = Word2Vec(sentences=docs, vector_size=200, window=4, min_count=2, sg=1) #최근 모델은 size 대신 vector_size를 사용\n",
    "print('3) word2vec 모델 학습 완료: ', time.time() - start)\n",
    "\n",
    "# 모델 저장\n",
    "print('4) 학습된 모델 저장 시작')\n",
    "model.save('nvmc.model')\n",
    "print('4) 학습된 모델 저장 완료: ', time.time() - start)\n",
    "\n",
    "# 학습된 말뭉치 개수, 코퍼스 내 전체 단어 개수\n",
    "print(\"corpus_count : \", model.corpus_count)\n",
    "print(\"corpus_total_words : \", model.corpus_total_words)"
   ]
  },
  {
   "cell_type": "markdown",
   "id": "labeled-peace",
   "metadata": {},
   "source": [
    "<h7>Word2Vec 시각화</h7>\n",
    "<img src='http://i.imgur.com/agTBWiT.png' width=600 height=400></img>"
   ]
  },
  {
   "cell_type": "code",
   "execution_count": 29,
   "id": "subtle-missile",
   "metadata": {},
   "outputs": [
    {
     "name": "stdout",
     "output_type": "stream",
     "text": [
      "corpus_total_words :  1076896\n",
      "사랑 :  [-2.21389290e-02 -5.08001745e-01  2.13389114e-01  1.40953958e-01\n",
      " -3.10916215e-01 -1.60796270e-01 -2.86193252e-01  1.40388459e-01\n",
      " -5.82833737e-02  4.07176167e-01 -1.24549933e-01 -1.21551514e-01\n",
      "  5.58783673e-02 -1.92945063e-01 -1.88722312e-01  5.42096317e-01\n",
      "  1.18679725e-01 -3.28630954e-01 -2.99021184e-01 -4.57938671e-01\n",
      "  3.77344638e-01  1.38364896e-01  7.23910332e-02  5.06731607e-02\n",
      " -2.45302886e-01 -4.29838314e-04 -1.12482328e-02 -1.26052462e-02\n",
      " -1.41943738e-01 -2.07670778e-01  1.57791957e-01  1.61013767e-01\n",
      "  3.25612098e-01  2.98887957e-02  3.28076743e-02  2.20663100e-01\n",
      "  1.76203847e-02 -2.35409141e-02 -2.33035907e-01 -2.08418980e-01\n",
      " -1.88349202e-01  1.72829449e-01 -5.38652949e-02 -2.99537659e-01\n",
      "  4.72471327e-01  3.22984397e-01  8.41140673e-02 -1.99797377e-01\n",
      "  4.23310697e-01 -9.45597142e-02  1.38528958e-01 -1.37206227e-01\n",
      "  6.44442514e-02  6.20920546e-02 -2.72534072e-01 -2.00317413e-01\n",
      " -1.21695753e-02 -2.20805913e-01 -1.08219169e-01  1.09705456e-01\n",
      " -5.24611324e-02  9.95053053e-02 -4.02379066e-01  2.28927597e-01\n",
      " -2.62120180e-03  2.21179295e-02 -4.12232339e-01  7.54496381e-02\n",
      " -1.81741267e-01  6.86846018e-01  1.62678197e-01 -9.35243722e-03\n",
      "  3.44337225e-01  2.02357665e-01  2.91760653e-01  8.74951780e-02\n",
      "  4.40635353e-01 -2.73602813e-01 -2.38026366e-01 -3.03751200e-01\n",
      "  1.04251079e-01  1.40993714e-01 -1.36644050e-01  2.36030802e-01\n",
      " -4.13887292e-01 -2.73704946e-01  2.86998842e-02  1.14616103e-01\n",
      " -2.11463124e-02  3.17959249e-01  4.33878094e-01  9.97454450e-02\n",
      "  1.39465734e-01  3.82058434e-02  5.41817784e-01  4.25881557e-02\n",
      "  1.06079079e-01  2.04812419e-02 -3.93776983e-01  1.91636816e-01\n",
      " -5.49103677e-01  6.36639774e-01  1.58912420e-01  1.99631110e-01\n",
      " -1.57480821e-01 -4.72108573e-01 -6.79901764e-02  2.17558935e-01\n",
      " -1.48080647e-01 -2.50715673e-01 -2.80915555e-02 -4.54333693e-01\n",
      "  2.06758037e-01  1.29322201e-01  2.13725969e-01 -6.23465896e-01\n",
      "  1.51539803e-01 -2.20419139e-01  1.37933582e-01 -9.91265103e-02\n",
      " -4.33371402e-04 -3.50794345e-02 -1.43676862e-01 -2.60699719e-01\n",
      "  1.65652946e-01  4.15856868e-01 -3.12421173e-01 -1.35060623e-01\n",
      " -2.90193021e-01  1.58145085e-01 -2.82949150e-01  5.89158952e-01\n",
      "  2.27346774e-02  4.29806918e-01 -1.96746945e-01  1.37521401e-01\n",
      " -4.44760732e-03  1.18133277e-01 -1.75995231e-01  3.77134904e-02\n",
      "  2.63288826e-01 -4.00526449e-02 -3.03175271e-01 -5.01054786e-02\n",
      " -8.49037617e-02 -2.31796002e-04 -1.52902544e-01 -6.33166581e-02\n",
      "  6.93133622e-02 -2.09685370e-01 -2.18602493e-01 -4.05985862e-01\n",
      "  4.27204847e-01 -4.37736869e-01 -9.87436622e-02 -6.47248924e-02\n",
      "  3.78466338e-01 -4.69483947e-03  2.37506211e-01 -6.51240023e-03\n",
      "  1.82620555e-01  4.18130569e-02  3.93411554e-02 -3.55276205e-02\n",
      "  8.83685350e-02  4.10846174e-01 -3.06983143e-02 -1.61467493e-01\n",
      " -1.57020241e-01  3.99694182e-02 -5.36796093e-01 -9.97503251e-02\n",
      "  2.69598961e-01 -6.77584410e-01  2.58876290e-02  2.09165793e-02\n",
      "  1.33862078e-01 -2.07622573e-01  2.51743585e-01  2.45524019e-01\n",
      "  6.54652268e-02  6.78702295e-02  3.88564281e-02  2.77755726e-02\n",
      " -2.30469182e-01 -2.61143267e-01 -4.56812568e-02 -1.57304570e-01\n",
      "  4.09007311e-01 -6.95097893e-02  1.64823011e-01  2.78672529e-03\n",
      " -2.72216529e-01  1.11836150e-01  2.60128498e-01  2.41021835e-03\n",
      "  2.47783866e-02 -2.09248737e-01 -2.57026047e-01  4.96032611e-02]\n",
      "일요일 = 월요일\t 0.91084003\n",
      "안성기 = 배우\t 0.6969566\n",
      "대기업 = 삼성\t 0.8578988\n",
      "일요일 != 삼성\t 0.62891763\n",
      "히어로 != 삼성\t 0.4305041\n",
      "[('정려원', 0.9455754160881042), ('공효진', 0.9432348012924194), ('정재영', 0.9430366158485413), ('한석규', 0.9428485631942749), ('지진희', 0.9422171711921692)]\n",
      "[('엑스맨', 0.823042094707489), ('반지의 제왕', 0.8182868957519531), ('포터', 0.7964518666267395), ('스타워즈', 0.7954098582267761), ('해리', 0.7845639586448669)]\n"
     ]
    }
   ],
   "source": [
    "from gensim.models import Word2Vec\n",
    "\n",
    "# 모델 로딩\n",
    "model = Word2Vec.load('nvmc.model')\n",
    "print(\"corpus_total_words : \", model.corpus_total_words)\n",
    "\n",
    "# '사랑'이란 단어로 생성한 단어 임베딩 벡터\n",
    "print('사랑 : ', model.wv['사랑'])\n",
    "\n",
    "# 단어 유사도 계산\n",
    "print(\"일요일 = 월요일\\t\", model.wv.similarity(w1='일요일', w2='월요일'))\n",
    "print(\"안성기 = 배우\\t\", model.wv.similarity(w1='안성기', w2='배우'))\n",
    "print(\"대기업 = 삼성\\t\", model.wv.similarity(w1='대기업', w2='삼성'))\n",
    "print(\"일요일 != 삼성\\t\", model.wv.similarity(w1='일요일', w2='삼성'))\n",
    "print(\"히어로 != 삼성\\t\", model.wv.similarity(w1='히어로', w2='삼성'))\n",
    "\n",
    "# 가장 유사한 단어 추출\n",
    "print(model.wv.most_similar(\"안성기\", topn=5))\n",
    "print(model.wv.most_similar(\"시리즈\", topn=5))"
   ]
  },
  {
   "cell_type": "code",
   "execution_count": 30,
   "id": "behavioral-slovenia",
   "metadata": {},
   "outputs": [
    {
     "data": {
      "image/png": "[encoded data removed]",
      "text/plain": [
       "<Figure size 1080x720 with 1 Axes>"
      ]
     },
     "metadata": {
      "needs_background": "light"
     },
     "output_type": "display_data"
    }
   ],
   "source": [
    "import matplotlib.pyplot as plt\n",
    "from sklearn.manifold import TSNE\n",
    "from matplotlib import rc\n",
    "\n",
    "words = ['일요일', '월요일', '안성기', '배우', '대기업', '삼성', '한석규', '지진희', '문소리', '스타워즈', '엑스맨']\n",
    "vecs = []\n",
    "\n",
    "for word in words:\n",
    "    vecs.append(model.wv[word])\n",
    "    \n",
    "# 한글 깨짐을 방지하는 코드\n",
    "rc('font', family='AppleGothic')\n",
    "plt.rcParams['axes.unicode_minus'] = False\n",
    "\n",
    "tsne_model = TSNE(\n",
    "    perplexity=40, n_components=2, init='pca', n_iter=2500, \n",
    "    random_state=23)\n",
    "new_values = tsne_model.fit_transform(vecs)\n",
    "\n",
    "x = []\n",
    "y = []\n",
    "\n",
    "for value in new_values:\n",
    "    x.append(value[0])\n",
    "    y.append(value[1])\n",
    "\n",
    "plt.figure(figsize=(15, 10)) \n",
    "\n",
    "for i in range(len(x)):\n",
    "    plt.scatter(x[i],y[i])\n",
    "    plt.annotate(\n",
    "        words[i], xy=(x[i], y[i]), xytext=(5, 2), \n",
    "        textcoords='offset points', ha='right', \n",
    "        va='bottom', fontweight='extra bold', fontsize=11)\n",
    "plt.show()"
   ]
  },
  {
   "cell_type": "markdown",
   "id": "dangerous-wallpaper",
   "metadata": {},
   "source": [
    "## CountVectorizer"
   ]
  },
  {
   "cell_type": "code",
   "execution_count": 32,
   "id": "scenic-inclusion",
   "metadata": {},
   "outputs": [
    {
     "name": "stdout",
     "output_type": "stream",
     "text": [
      "{'나는': 0, '학교가': 4, '좋다': 3, '너를': 1, '부른다': 2}\n",
      "나는 학교가 학교가 학교가 학교가 좋다 [[1 0 0 1 4]]\n",
      "학교가 너를 부른다 [[0 1 1 0 1]]\n",
      "나는 너를 부른다 [[1 1 1 0 0]]\n"
     ]
    }
   ],
   "source": [
    "from sklearn.feature_extraction.text import CountVectorizer\n",
    "\n",
    "texts = ['나는 학교가 학교가 학교가 학교가 좋다', '학교가 너를 부른다', '나는 너를 부른다']\n",
    "cnt_vec = CountVectorizer()\n",
    "cnt_vec.fit(texts)\n",
    "print(cnt_vec.vocabulary_)\n",
    "\n",
    "for text in texts:\n",
    "    print(text, cnt_vec.transform([text]).toarray())"
   ]
  },
  {
   "cell_type": "markdown",
   "id": "crucial-format",
   "metadata": {},
   "source": [
    "## TF-IDF Vectorizer"
   ]
  },
  {
   "cell_type": "markdown",
   "id": "informal-trout",
   "metadata": {},
   "source": [
    "TF(Term Frequency): 특정 단어가 하나의 문서 내에서 얼마나 자주 등장하는지 확인함<p>\n",
    "DF(Document Frequency): 특정 단어가 여러 문서에 걸쳐서 얼마나 등장하는지 확인함<p>\n",
    "IDF(Inverse Document Frequency): DF의 역수"
   ]
  },
  {
   "cell_type": "markdown",
   "id": "adjacent-trauma",
   "metadata": {},
   "source": [
    "<img src='https://img1.daumcdn.net/thumb/R800x0/?scode=mtistory2&fname=https%3A%2F%2Fblog.kakaocdn.net%2Fdn%2FbKcggU%2FbtqCkQ2NEH1%2FAp9xO7HQSDzfKixMyuGNCk%2Fimg.png' width=600 height=350></img>"
   ]
  },
  {
   "cell_type": "code",
   "execution_count": 33,
   "id": "spatial-programming",
   "metadata": {},
   "outputs": [
    {
     "name": "stdout",
     "output_type": "stream",
     "text": [
      "{'나는': 0, '학교가': 4, '좋다': 3, '너를': 1, '부른다': 2}\n",
      "[[0.2310701  0.         0.         0.30382942 0.92428042]\n",
      " [0.         0.57735027 0.57735027 0.         0.57735027]\n",
      " [0.57735027 0.57735027 0.57735027 0.         0.        ]]\n"
     ]
    }
   ],
   "source": [
    "from sklearn.feature_extraction.text import TfidfVectorizer\n",
    "\n",
    "tfidf_vec = TfidfVectorizer()\n",
    "tfidf_vec.fit(texts)\n",
    "print(tfidf_vec.vocabulary_)\n",
    "print(tfidf_vec.transform(texts).toarray())"
   ]
  },
  {
   "cell_type": "code",
   "execution_count": 34,
   "id": "adjacent-samba",
   "metadata": {},
   "outputs": [],
   "source": [
    "import tensorflow as tf\n",
    "from tensorflow.keras import preprocessing\n",
    "\n",
    "samples = ['수학을 배우는 것은 매우 즐겁다', '수학 시간이 되면 행복해', '수학 시간이 기다려져',\n",
    "          '수학은 어려워서 배우고 싶지 않아', '수학은 재미없어']\n",
    "labels = [[1], [1], [1], [0], [0]]\n",
    "tokenizer = preprocessing.text.Tokenizer()\n",
    "tokenizer.fit_on_texts(samples)\n",
    "sequences = tokenizer.texts_to_sequences(samples)\n",
    "\n",
    "word_index = tokenizer.word_index"
   ]
  },
  {
   "cell_type": "code",
   "execution_count": 35,
   "id": "working-underwear",
   "metadata": {},
   "outputs": [
    {
     "data": {
      "text/plain": [
       "{'수학': 1,\n",
       " '시간이': 2,\n",
       " '수학은': 3,\n",
       " '수학을': 4,\n",
       " '배우는': 5,\n",
       " '것은': 6,\n",
       " '매우': 7,\n",
       " '즐겁다': 8,\n",
       " '되면': 9,\n",
       " '행복해': 10,\n",
       " '기다려져': 11,\n",
       " '어려워서': 12,\n",
       " '배우고': 13,\n",
       " '싶지': 14,\n",
       " '않아': 15,\n",
       " '재미없어': 16}"
      ]
     },
     "execution_count": 35,
     "metadata": {},
     "output_type": "execute_result"
    }
   ],
   "source": [
    "word_index"
   ]
  },
  {
   "cell_type": "code",
   "execution_count": 36,
   "id": "returning-prague",
   "metadata": {},
   "outputs": [
    {
     "data": {
      "text/plain": [
       "[[4, 5, 6, 7, 8], [1, 2, 9, 10], [1, 2, 11], [3, 12, 13, 14, 15], [3, 16]]"
      ]
     },
     "execution_count": 36,
     "metadata": {},
     "output_type": "execute_result"
    }
   ],
   "source": [
    "sequences"
   ]
  },
  {
   "cell_type": "markdown",
   "id": "determined-executive",
   "metadata": {},
   "source": [
    "# 토픽 분석"
   ]
  },
  {
   "cell_type": "markdown",
   "id": "broken-commission",
   "metadata": {},
   "source": [
    "토픽은 문서(Document) 내에서 여러 개의 단어로 구성된 하나의 의미를 갖는 덩어리라고 생각할 수 있다.<br>\n",
    "즉, 하나의 글은 1개 이상의 토픽으로 구성될 수 있고, 그 토픽들은 여러 개의 단어(Terms)들로 구성되어 있다."
   ]
  },
  {
   "cell_type": "markdown",
   "id": "assumed-reset",
   "metadata": {},
   "source": [
    "<img src='https://www.analyticsvidhya.com/wp-content/uploads/2016/08/Modeling1.png'>"
   ]
  },
  {
   "cell_type": "code",
   "execution_count": 37,
   "id": "treated-latex",
   "metadata": {},
   "outputs": [],
   "source": [
    "import pandas as pd\n",
    "import matplotlib.pyplot as plt\n",
    "import urllib.request\n",
    "from gensim.models.word2vec import Word2Vec\n",
    "\n",
    "df = pd.read_excel('Data/future_sentence.xlsx', index_col=0, engine='openpyxl')"
   ]
  },
  {
   "cell_type": "code",
   "execution_count": 49,
   "id": "literary-check",
   "metadata": {},
   "outputs": [
    {
     "name": "stdout",
     "output_type": "stream",
     "text": [
      "CPU times: user 17.8 s, sys: 1.59 s, total: 19.4 s\n",
      "Wall time: 4min 51s\n"
     ]
    }
   ],
   "source": [
    "%%time\n",
    "# 교정을 하고자 할 때는 수행하는 명령어\n",
    "# 수행된 결과를 확인하고 수행하는 것이 좋다.\n",
    "# 이 코드는 반드시 실행할 필요는 없다.\n",
    "# 한글 띄어쓰기 등의 교정이므로 오랜 시간이 걸린다.\n",
    "\n",
    "from hanspell import spell_checker\n",
    "\n",
    "try:\n",
    "    for i in range(len(df)):\n",
    "        t = df.Sentence[i].replace('&', ' ')\n",
    "        result = spell_checker.check(t)\n",
    "        # 0-result, 1-original, 2-revised, 3-error number, 4-checked words, 5-time\n",
    "        df.Sentence[i] = result[2]\n",
    "        \n",
    "except Exception as e:\n",
    "    print(i)\n",
    "    print(df.Sentence[i])"
   ]
  },
  {
   "cell_type": "code",
   "execution_count": 50,
   "id": "disabled-horizon",
   "metadata": {},
   "outputs": [
    {
     "name": "stdout",
     "output_type": "stream",
     "text": [
      "CPU times: user 9min 12s, sys: 2.73 s, total: 9min 15s\n",
      "Wall time: 3min 41s\n"
     ]
    }
   ],
   "source": [
    "%%time\n",
    "from konlpy.tag import Kkma\n",
    "\n",
    "# 형태소 분석기 꼬꼬마를 사용한 토큰화 작업 (다소 시간 소요)\n",
    "kkma = Kkma()\n",
    "\n",
    "stopwords = ['ㆍ', 'ㄴ', '의','가','이','은','들','는','좀','잘','걍','과','도','를','으로','자','에','와','한','하다']\n",
    "tokenized_data = []\n",
    "for sentence in df['Sentence']:\n",
    "    temp_X = kkma.morphs(sentence) # 토큰화\n",
    "    temp_X = [word for word in temp_X if (not word in stopwords) and (len(word) > 1)] # 불용어 제거\n",
    "    tokenized_data.append(temp_X)"
   ]
  },
  {
   "cell_type": "code",
   "execution_count": 51,
   "id": "referenced-paris",
   "metadata": {},
   "outputs": [
    {
     "name": "stdout",
     "output_type": "stream",
     "text": [
      "문장 최대 길이 : 89\n",
      "문장 평균 길이 : 25.326416600159618\n"
     ]
    },
    {
     "data": {
      "image/png": "[encoded data removed]",
      "text/plain": [
       "<Figure size 432x288 with 1 Axes>"
      ]
     },
     "metadata": {
      "needs_background": "light"
     },
     "output_type": "display_data"
    }
   ],
   "source": [
    "# 리뷰 길이 분포 확인\n",
    "print('문장 최대 길이 :',max(len(l) for l in tokenized_data))\n",
    "print('문장 평균 길이 :',sum(map(len, tokenized_data))/len(tokenized_data))\n",
    "plt.hist([len(s) for s in tokenized_data], bins=100)\n",
    "plt.xlabel('length of samples')\n",
    "plt.ylabel('number of samples')\n",
    "plt.show()"
   ]
  },
  {
   "cell_type": "code",
   "execution_count": 53,
   "id": "difficult-quilt",
   "metadata": {},
   "outputs": [
    {
     "name": "stdout",
     "output_type": "stream",
     "text": [
      "CPU Processor count: 16\n"
     ]
    }
   ],
   "source": [
    "from gensim.models import Word2Vec\n",
    "import multiprocessing\n",
    "\n",
    "num_scores = multiprocessing.cpu_count()\n",
    "print('CPU Processor count:', num_scores)\n",
    "model = Word2Vec(sentences=tokenized_data, size=100, window=5, min_count=10, workers=num_scores, sg=0)\n",
    "# size: 벡터 크기, window: 고려할 앞뒤 폭, min_count: 단어의 최소 빈도, \n",
    "# workers: CPU 코어 수, sg: 0-CBOW, 1-skip-gram"
   ]
  },
  {
   "cell_type": "code",
   "execution_count": 39,
   "id": "quarterly-president",
   "metadata": {},
   "outputs": [
    {
     "data": {
      "text/plain": [
       "[('과거', 0.8002863526344299),\n",
       " ('현재', 0.7682797312736511),\n",
       " ('암울', 0.7673295140266418),\n",
       " ('비참', 0.7672737240791321),\n",
       " ('김신', 0.7627039551734924),\n",
       " ('통일', 0.7502927780151367),\n",
       " ('젊은이들', 0.7351928949356079),\n",
       " ('자화상', 0.7303406000137329),\n",
       " ('발달', 0.7296354174613953),\n",
       " ('대처', 0.7292187809944153)]"
      ]
     },
     "execution_count": 39,
     "metadata": {},
     "output_type": "execute_result"
    }
   ],
   "source": [
    "model.wv.most_similar('미래', topn=10)"
   ]
  },
  {
   "cell_type": "code",
   "execution_count": 42,
   "id": "oriental-louis",
   "metadata": {},
   "outputs": [
    {
     "data": {
      "text/plain": [
       "[('서프라이즈', 0.7098009586334229),\n",
       " ('B급 영화', 0.7021039724349976),\n",
       " ('저예산 영화', 0.6917040348052979),\n",
       " ('분장', 0.691387951374054),\n",
       " ('단점', 0.688869297504425),\n",
       " ('엑스트라', 0.688224732875824),\n",
       " ('공포 영화', 0.6829286217689514),\n",
       " ('코미디 영화', 0.6813628673553467),\n",
       " ('액션 영화', 0.6788080930709839),\n",
       " ('성인영화', 0.677447497844696)]"
      ]
     },
     "execution_count": 42,
     "metadata": {},
     "output_type": "execute_result"
    }
   ],
   "source": [
    "# 영화배우 : 안성기 = 영화 : ? 의 관계를 추론함\n",
    "model.wv.most_similar(positive=['현재', '인공지능'], negative=['미래'])\n",
    "model.wv.most_similar(positive=['영화', '안성기'], negative=['영화배우'])"
   ]
  },
  {
   "cell_type": "code",
   "execution_count": 44,
   "id": "stylish-valentine",
   "metadata": {},
   "outputs": [],
   "source": [
    "from gensim import corpora\n",
    "dictionary = corpora.Dictionary(tokenized_data)\n",
    "\n",
    "corpus = [dictionary.doc2bow(text) for text in tokenized_data]"
   ]
  },
  {
   "cell_type": "code",
   "execution_count": 96,
   "id": "royal-diana",
   "metadata": {},
   "outputs": [
    {
     "name": "stderr",
     "output_type": "stream",
     "text": [
      "/Users/jhohunkoog/anaconda3/envs/nlp/lib/python3.8/site-packages/ipykernel/ipkernel.py:283: DeprecationWarning: `should_run_async` will not call `transform_cell` automatically in the future. Please pass the result to `transformed_cell` argument and any exception that happen during thetransform in `preprocessing_exc_tuple` in IPython 7.17 and above.\n",
      "  and should_run_async(code)\n"
     ]
    },
    {
     "data": {
      "text/plain": [
       "['lda_corpus.pkl']"
      ]
     },
     "execution_count": 96,
     "metadata": {},
     "output_type": "execute_result"
    }
   ],
   "source": [
    "# 변수를 저장하기 위한 코드\n",
    "import joblib\n",
    "\n",
    "joblib.dump(tokenized_data, 'lda_tokenized.pkl')\n",
    "joblib.dump(corpus, 'lda_corpus.pkl')"
   ]
  },
  {
   "cell_type": "code",
   "execution_count": 38,
   "id": "japanese-davis",
   "metadata": {},
   "outputs": [],
   "source": [
    "# 변수를 불러오기 위한 코드\n",
    "import joblib\n",
    "\n",
    "tokenized_data = joblib.load('lda_tokenized.pkl')\n",
    "corpus = joblib.load('lda_corpus.pkl')"
   ]
  },
  {
   "cell_type": "code",
   "execution_count": 45,
   "id": "contemporary-singapore",
   "metadata": {},
   "outputs": [
    {
     "name": "stdout",
     "output_type": "stream",
     "text": [
      "핵심\n"
     ]
    }
   ],
   "source": [
    "print(dictionary[108])"
   ]
  },
  {
   "cell_type": "code",
   "execution_count": 46,
   "id": "military-addition",
   "metadata": {},
   "outputs": [
    {
     "data": {
      "text/plain": [
       "[(0, '0.055*\"교육\" + 0.033*\"구축\" + 0.030*\"미래\" + 0.019*\"학교\"'),\n",
       " (1, '0.086*\"학교\" + 0.046*\"미래\" + 0.037*\"교육\" + 0.035*\"환경\"'),\n",
       " (2, '0.056*\"기자\" + 0.046*\"뉴스\" + 0.035*\"교육청\" + 0.032*\"밝히\"'),\n",
       " (3, '0.064*\"미래\" + 0.049*\"교육\" + 0.035*\"학교\" + 0.027*\"정책\"'),\n",
       " (4, '0.092*\"교육\" + 0.042*\"미래\" + 0.020*\"위하\" + 0.019*\"교육청\"'),\n",
       " (5, '0.063*\"교육\" + 0.051*\"학습\" + 0.039*\"지원\" + 0.032*\"미래\"'),\n",
       " (6, '0.068*\"부산\" + 0.063*\"교육\" + 0.052*\"미래\" + 0.029*\"위하\"'),\n",
       " (7, '0.121*\"코로나\" + 0.074*\"19\" + 0.054*\"교육\" + 0.042*\"미래\"'),\n",
       " (8, '0.048*\"교육\" + 0.040*\"산업\" + 0.039*\"미래\" + 0.036*\"혁명\"'),\n",
       " (9, '0.073*\"교육\" + 0.073*\"미래\" + 0.020*\"위하\" + 0.018*\"서울\"'),\n",
       " (10, '0.067*\"교육\" + 0.051*\"지역\" + 0.036*\"사업\" + 0.031*\"미래\"'),\n",
       " (11, '0.093*\"교육\" + 0.031*\"미래\" + 0.017*\"ㄴ다\" + 0.016*\"학생\"'),\n",
       " (12, '0.052*\"SW\" + 0.048*\"미래\" + 0.047*\"인천\" + 0.043*\"교육\"'),\n",
       " (13, '0.083*\"교육\" + 0.049*\"미래\" + 0.023*\"에서\" + 0.017*\"대전\"'),\n",
       " (14, '0.091*\"교육\" + 0.044*\"미래\" + 0.036*\"원격\" + 0.030*\"수업\"'),\n",
       " (15, '0.045*\"학교\" + 0.041*\"교육\" + 0.040*\"미래\" + 0.039*\"교육청\"'),\n",
       " (16, '0.105*\"교육\" + 0.052*\"미래\" + 0.028*\"혁신\" + 0.024*\"학교\"'),\n",
       " (17, '0.078*\"교육\" + 0.062*\"미래\" + 0.027*\"ㄴ다\" + 0.024*\"에서\"'),\n",
       " (18, '0.058*\"교육\" + 0.046*\"지구\" + 0.027*\"선정\" + 0.027*\"미래형\"'),\n",
       " (19, '0.081*\"과학\" + 0.042*\"교육\" + 0.041*\"정보\" + 0.032*\"수학\"')]"
      ]
     },
     "execution_count": 46,
     "metadata": {},
     "output_type": "execute_result"
    }
   ],
   "source": [
    "import gensim\n",
    "\n",
    "NUM_TOPICS = 20 #20개의 토픽, k=20\n",
    "ldamodel = gensim.models.ldamodel.LdaModel(\n",
    "    corpus, num_topics = NUM_TOPICS, id2word=dictionary, passes=15)\n",
    "topics = ldamodel.print_topics(num_words=4)\n",
    "\n",
    "[topic for topic in topics]"
   ]
  },
  {
   "cell_type": "code",
   "execution_count": 47,
   "id": "imported-anime",
   "metadata": {},
   "outputs": [
    {
     "name": "stdout",
     "output_type": "stream",
     "text": [
      "Perplexity:  -7.143892927179541\n"
     ]
    },
    {
     "ename": "KeyboardInterrupt",
     "evalue": "",
     "output_type": "error",
     "traceback": [
      "\u001b[0;31m---------------------------------------------------------------------------\u001b[0m",
      "\u001b[0;31mKeyboardInterrupt\u001b[0m                         Traceback (most recent call last)",
      "\u001b[0;32m<ipython-input-47-17a5137be4f0>\u001b[0m in \u001b[0;36m<module>\u001b[0;34m\u001b[0m\n\u001b[1;32m      8\u001b[0m     \u001b[0mmodel\u001b[0m\u001b[0;34m=\u001b[0m\u001b[0mldamodel\u001b[0m\u001b[0;34m,\u001b[0m \u001b[0mtexts\u001b[0m\u001b[0;34m=\u001b[0m\u001b[0mtokenized_data\u001b[0m\u001b[0;34m,\u001b[0m \u001b[0mdictionary\u001b[0m\u001b[0;34m=\u001b[0m\u001b[0mdictionary\u001b[0m\u001b[0;34m,\u001b[0m\u001b[0;34m\u001b[0m\u001b[0;34m\u001b[0m\u001b[0m\n\u001b[1;32m      9\u001b[0m     coherence='c_v')\n\u001b[0;32m---> 10\u001b[0;31m \u001b[0mcoherence_lda\u001b[0m \u001b[0;34m=\u001b[0m \u001b[0mcoherence_model_lda\u001b[0m\u001b[0;34m.\u001b[0m\u001b[0mget_coherence\u001b[0m\u001b[0;34m(\u001b[0m\u001b[0;34m)\u001b[0m\u001b[0;34m\u001b[0m\u001b[0;34m\u001b[0m\u001b[0m\n\u001b[0m\u001b[1;32m     11\u001b[0m \u001b[0mprint\u001b[0m\u001b[0;34m(\u001b[0m\u001b[0;34m'Coherence Score: '\u001b[0m\u001b[0;34m,\u001b[0m \u001b[0mcoherence_lda\u001b[0m\u001b[0;34m)\u001b[0m\u001b[0;34m\u001b[0m\u001b[0;34m\u001b[0m\u001b[0m\n",
      "\u001b[0;32m~/anaconda3/envs/nlp/lib/python3.8/site-packages/gensim/models/coherencemodel.py\u001b[0m in \u001b[0;36mget_coherence\u001b[0;34m(self)\u001b[0m\n\u001b[1;32m    613\u001b[0m \u001b[0;34m\u001b[0m\u001b[0m\n\u001b[1;32m    614\u001b[0m         \"\"\"\n\u001b[0;32m--> 615\u001b[0;31m         \u001b[0mconfirmed_measures\u001b[0m \u001b[0;34m=\u001b[0m \u001b[0mself\u001b[0m\u001b[0;34m.\u001b[0m\u001b[0mget_coherence_per_topic\u001b[0m\u001b[0;34m(\u001b[0m\u001b[0;34m)\u001b[0m\u001b[0;34m\u001b[0m\u001b[0;34m\u001b[0m\u001b[0m\n\u001b[0m\u001b[1;32m    616\u001b[0m         \u001b[0;32mreturn\u001b[0m \u001b[0mself\u001b[0m\u001b[0;34m.\u001b[0m\u001b[0maggregate_measures\u001b[0m\u001b[0;34m(\u001b[0m\u001b[0mconfirmed_measures\u001b[0m\u001b[0;34m)\u001b[0m\u001b[0;34m\u001b[0m\u001b[0;34m\u001b[0m\u001b[0m\n\u001b[1;32m    617\u001b[0m \u001b[0;34m\u001b[0m\u001b[0m\n",
      "\u001b[0;32m~/anaconda3/envs/nlp/lib/python3.8/site-packages/gensim/models/coherencemodel.py\u001b[0m in \u001b[0;36mget_coherence_per_topic\u001b[0;34m(self, segmented_topics, with_std, with_support)\u001b[0m\n\u001b[1;32m    573\u001b[0m             \u001b[0msegmented_topics\u001b[0m \u001b[0;34m=\u001b[0m \u001b[0mmeasure\u001b[0m\u001b[0;34m.\u001b[0m\u001b[0mseg\u001b[0m\u001b[0;34m(\u001b[0m\u001b[0mself\u001b[0m\u001b[0;34m.\u001b[0m\u001b[0mtopics\u001b[0m\u001b[0;34m)\u001b[0m\u001b[0;34m\u001b[0m\u001b[0;34m\u001b[0m\u001b[0m\n\u001b[1;32m    574\u001b[0m         \u001b[0;32mif\u001b[0m \u001b[0mself\u001b[0m\u001b[0;34m.\u001b[0m\u001b[0m_accumulator\u001b[0m \u001b[0;32mis\u001b[0m \u001b[0;32mNone\u001b[0m\u001b[0;34m:\u001b[0m\u001b[0;34m\u001b[0m\u001b[0;34m\u001b[0m\u001b[0m\n\u001b[0;32m--> 575\u001b[0;31m             \u001b[0mself\u001b[0m\u001b[0;34m.\u001b[0m\u001b[0mestimate_probabilities\u001b[0m\u001b[0;34m(\u001b[0m\u001b[0msegmented_topics\u001b[0m\u001b[0;34m)\u001b[0m\u001b[0;34m\u001b[0m\u001b[0;34m\u001b[0m\u001b[0m\n\u001b[0m\u001b[1;32m    576\u001b[0m \u001b[0;34m\u001b[0m\u001b[0m\n\u001b[1;32m    577\u001b[0m         \u001b[0mkwargs\u001b[0m \u001b[0;34m=\u001b[0m \u001b[0mdict\u001b[0m\u001b[0;34m(\u001b[0m\u001b[0mwith_std\u001b[0m\u001b[0;34m=\u001b[0m\u001b[0mwith_std\u001b[0m\u001b[0;34m,\u001b[0m \u001b[0mwith_support\u001b[0m\u001b[0;34m=\u001b[0m\u001b[0mwith_support\u001b[0m\u001b[0;34m)\u001b[0m\u001b[0;34m\u001b[0m\u001b[0;34m\u001b[0m\u001b[0m\n",
      "\u001b[0;32m~/anaconda3/envs/nlp/lib/python3.8/site-packages/gensim/models/coherencemodel.py\u001b[0m in \u001b[0;36mestimate_probabilities\u001b[0;34m(self, segmented_topics)\u001b[0m\n\u001b[1;32m    545\u001b[0m                 \u001b[0mkwargs\u001b[0m\u001b[0;34m[\u001b[0m\u001b[0;34m'model'\u001b[0m\u001b[0;34m]\u001b[0m \u001b[0;34m=\u001b[0m \u001b[0mself\u001b[0m\u001b[0;34m.\u001b[0m\u001b[0mkeyed_vectors\u001b[0m\u001b[0;34m\u001b[0m\u001b[0;34m\u001b[0m\u001b[0m\n\u001b[1;32m    546\u001b[0m \u001b[0;34m\u001b[0m\u001b[0m\n\u001b[0;32m--> 547\u001b[0;31m             \u001b[0mself\u001b[0m\u001b[0;34m.\u001b[0m\u001b[0m_accumulator\u001b[0m \u001b[0;34m=\u001b[0m \u001b[0mself\u001b[0m\u001b[0;34m.\u001b[0m\u001b[0mmeasure\u001b[0m\u001b[0;34m.\u001b[0m\u001b[0mprob\u001b[0m\u001b[0;34m(\u001b[0m\u001b[0;34m**\u001b[0m\u001b[0mkwargs\u001b[0m\u001b[0;34m)\u001b[0m\u001b[0;34m\u001b[0m\u001b[0;34m\u001b[0m\u001b[0m\n\u001b[0m\u001b[1;32m    548\u001b[0m \u001b[0;34m\u001b[0m\u001b[0m\n\u001b[1;32m    549\u001b[0m         \u001b[0;32mreturn\u001b[0m \u001b[0mself\u001b[0m\u001b[0;34m.\u001b[0m\u001b[0m_accumulator\u001b[0m\u001b[0;34m\u001b[0m\u001b[0;34m\u001b[0m\u001b[0m\n",
      "\u001b[0;32m~/anaconda3/envs/nlp/lib/python3.8/site-packages/gensim/topic_coherence/probability_estimation.py\u001b[0m in \u001b[0;36mp_boolean_sliding_window\u001b[0;34m(texts, segmented_topics, dictionary, window_size, processes)\u001b[0m\n\u001b[1;32m    154\u001b[0m         \u001b[0maccumulator\u001b[0m \u001b[0;34m=\u001b[0m \u001b[0mParallelWordOccurrenceAccumulator\u001b[0m\u001b[0;34m(\u001b[0m\u001b[0mprocesses\u001b[0m\u001b[0;34m,\u001b[0m \u001b[0mtop_ids\u001b[0m\u001b[0;34m,\u001b[0m \u001b[0mdictionary\u001b[0m\u001b[0;34m)\u001b[0m\u001b[0;34m\u001b[0m\u001b[0;34m\u001b[0m\u001b[0m\n\u001b[1;32m    155\u001b[0m     \u001b[0mlogger\u001b[0m\u001b[0;34m.\u001b[0m\u001b[0minfo\u001b[0m\u001b[0;34m(\u001b[0m\u001b[0;34m\"using %s to estimate probabilities from sliding windows\"\u001b[0m\u001b[0;34m,\u001b[0m \u001b[0maccumulator\u001b[0m\u001b[0;34m)\u001b[0m\u001b[0;34m\u001b[0m\u001b[0;34m\u001b[0m\u001b[0m\n\u001b[0;32m--> 156\u001b[0;31m     \u001b[0;32mreturn\u001b[0m \u001b[0maccumulator\u001b[0m\u001b[0;34m.\u001b[0m\u001b[0maccumulate\u001b[0m\u001b[0;34m(\u001b[0m\u001b[0mtexts\u001b[0m\u001b[0;34m,\u001b[0m \u001b[0mwindow_size\u001b[0m\u001b[0;34m)\u001b[0m\u001b[0;34m\u001b[0m\u001b[0;34m\u001b[0m\u001b[0m\n\u001b[0m\u001b[1;32m    157\u001b[0m \u001b[0;34m\u001b[0m\u001b[0m\n\u001b[1;32m    158\u001b[0m \u001b[0;34m\u001b[0m\u001b[0m\n",
      "\u001b[0;32m~/anaconda3/envs/nlp/lib/python3.8/site-packages/gensim/topic_coherence/text_analysis.py\u001b[0m in \u001b[0;36maccumulate\u001b[0;34m(self, texts, window_size)\u001b[0m\n\u001b[1;32m    442\u001b[0m             \u001b[0minterrupted\u001b[0m \u001b[0;34m=\u001b[0m \u001b[0;32mTrue\u001b[0m\u001b[0;34m\u001b[0m\u001b[0;34m\u001b[0m\u001b[0m\n\u001b[1;32m    443\u001b[0m \u001b[0;34m\u001b[0m\u001b[0m\n\u001b[0;32m--> 444\u001b[0;31m         \u001b[0maccumulators\u001b[0m \u001b[0;34m=\u001b[0m \u001b[0mself\u001b[0m\u001b[0;34m.\u001b[0m\u001b[0mterminate_workers\u001b[0m\u001b[0;34m(\u001b[0m\u001b[0minput_q\u001b[0m\u001b[0;34m,\u001b[0m \u001b[0moutput_q\u001b[0m\u001b[0;34m,\u001b[0m \u001b[0mworkers\u001b[0m\u001b[0;34m,\u001b[0m \u001b[0minterrupted\u001b[0m\u001b[0;34m)\u001b[0m\u001b[0;34m\u001b[0m\u001b[0;34m\u001b[0m\u001b[0m\n\u001b[0m\u001b[1;32m    445\u001b[0m         \u001b[0;32mreturn\u001b[0m \u001b[0mself\u001b[0m\u001b[0;34m.\u001b[0m\u001b[0mmerge_accumulators\u001b[0m\u001b[0;34m(\u001b[0m\u001b[0maccumulators\u001b[0m\u001b[0;34m)\u001b[0m\u001b[0;34m\u001b[0m\u001b[0;34m\u001b[0m\u001b[0m\n\u001b[1;32m    446\u001b[0m \u001b[0;34m\u001b[0m\u001b[0m\n",
      "\u001b[0;32m~/anaconda3/envs/nlp/lib/python3.8/site-packages/gensim/topic_coherence/text_analysis.py\u001b[0m in \u001b[0;36mterminate_workers\u001b[0;34m(self, input_q, output_q, workers, interrupted)\u001b[0m\n\u001b[1;32m    515\u001b[0m         \u001b[0;32mif\u001b[0m \u001b[0;32mnot\u001b[0m \u001b[0minterrupted\u001b[0m\u001b[0;34m:\u001b[0m\u001b[0;34m\u001b[0m\u001b[0;34m\u001b[0m\u001b[0m\n\u001b[1;32m    516\u001b[0m             \u001b[0;32mfor\u001b[0m \u001b[0m_\u001b[0m \u001b[0;32min\u001b[0m \u001b[0mworkers\u001b[0m\u001b[0;34m:\u001b[0m\u001b[0;34m\u001b[0m\u001b[0;34m\u001b[0m\u001b[0m\n\u001b[0;32m--> 517\u001b[0;31m                 \u001b[0minput_q\u001b[0m\u001b[0;34m.\u001b[0m\u001b[0mput\u001b[0m\u001b[0;34m(\u001b[0m\u001b[0;32mNone\u001b[0m\u001b[0;34m,\u001b[0m \u001b[0mblock\u001b[0m\u001b[0;34m=\u001b[0m\u001b[0;32mTrue\u001b[0m\u001b[0;34m)\u001b[0m\u001b[0;34m\u001b[0m\u001b[0;34m\u001b[0m\u001b[0m\n\u001b[0m\u001b[1;32m    518\u001b[0m \u001b[0;34m\u001b[0m\u001b[0m\n\u001b[1;32m    519\u001b[0m         \u001b[0maccumulators\u001b[0m \u001b[0;34m=\u001b[0m \u001b[0;34m[\u001b[0m\u001b[0;34m]\u001b[0m\u001b[0;34m\u001b[0m\u001b[0;34m\u001b[0m\u001b[0m\n",
      "\u001b[0;32m~/anaconda3/envs/nlp/lib/python3.8/multiprocessing/queues.py\u001b[0m in \u001b[0;36mput\u001b[0;34m(self, obj, block, timeout)\u001b[0m\n\u001b[1;32m     81\u001b[0m         \u001b[0;32mif\u001b[0m \u001b[0mself\u001b[0m\u001b[0;34m.\u001b[0m\u001b[0m_closed\u001b[0m\u001b[0;34m:\u001b[0m\u001b[0;34m\u001b[0m\u001b[0;34m\u001b[0m\u001b[0m\n\u001b[1;32m     82\u001b[0m             \u001b[0;32mraise\u001b[0m \u001b[0mValueError\u001b[0m\u001b[0;34m(\u001b[0m\u001b[0;34mf\"Queue {self!r} is closed\"\u001b[0m\u001b[0;34m)\u001b[0m\u001b[0;34m\u001b[0m\u001b[0;34m\u001b[0m\u001b[0m\n\u001b[0;32m---> 83\u001b[0;31m         \u001b[0;32mif\u001b[0m \u001b[0;32mnot\u001b[0m \u001b[0mself\u001b[0m\u001b[0;34m.\u001b[0m\u001b[0m_sem\u001b[0m\u001b[0;34m.\u001b[0m\u001b[0macquire\u001b[0m\u001b[0;34m(\u001b[0m\u001b[0mblock\u001b[0m\u001b[0;34m,\u001b[0m \u001b[0mtimeout\u001b[0m\u001b[0;34m)\u001b[0m\u001b[0;34m:\u001b[0m\u001b[0;34m\u001b[0m\u001b[0;34m\u001b[0m\u001b[0m\n\u001b[0m\u001b[1;32m     84\u001b[0m             \u001b[0;32mraise\u001b[0m \u001b[0mFull\u001b[0m\u001b[0;34m\u001b[0m\u001b[0;34m\u001b[0m\u001b[0m\n\u001b[1;32m     85\u001b[0m \u001b[0;34m\u001b[0m\u001b[0m\n",
      "\u001b[0;31mKeyboardInterrupt\u001b[0m: "
     ]
    }
   ],
   "source": [
    "from gensim.models import CoherenceModel\n",
    "\n",
    "# Compute Perplexity\n",
    "print('Perplexity: ', ldamodel.log_perplexity(corpus))  \n",
    "\n",
    "# Compute Coherence Score\n",
    "coherence_model_lda = CoherenceModel(\n",
    "    model=ldamodel, texts=tokenized_data, dictionary=dictionary, \n",
    "    coherence='c_v')\n",
    "coherence_lda = coherence_model_lda.get_coherence()\n",
    "print('Coherence Score: ', coherence_lda)"
   ]
  },
  {
   "cell_type": "markdown",
   "id": "danish-dairy",
   "metadata": {},
   "source": [
    "### 최적의 모델을 찾기 위해서는 Coherence 및 Perplexity 점수를 비교해야 한다."
   ]
  },
  {
   "cell_type": "code",
   "execution_count": 66,
   "id": "dominican-freight",
   "metadata": {
    "scrolled": false
   },
   "outputs": [
    {
     "name": "stdout",
     "output_type": "stream",
     "text": [
      "topic 2 finished\n",
      "topic 3 finished\n",
      "topic 4 finished\n",
      "topic 5 finished\n",
      "topic 6 finished\n",
      "topic 7 finished\n",
      "topic 8 finished\n",
      "topic 9 finished\n",
      "topic 10 finished\n",
      "topic 11 finished\n",
      "topic 12 finished\n",
      "topic 13 finished\n",
      "topic 14 finished\n",
      "topic 15 finished\n",
      "topic 16 finished\n",
      "topic 17 finished\n",
      "topic 18 finished\n",
      "topic 19 finished\n",
      "topic 20 finished\n",
      "topic 21 finished\n",
      "topic 22 finished\n",
      "topic 23 finished\n",
      "topic 24 finished\n",
      "topic 25 finished\n",
      "topic 26 finished\n",
      "topic 27 finished\n",
      "topic 28 finished\n",
      "topic 29 finished\n",
      "CPU times: user 12min 39s, sys: 8.51 s, total: 12min 47s\n",
      "Wall time: 13min 32s\n"
     ]
    }
   ],
   "source": [
    "%%time\n",
    "\n",
    "df_topics = pd.DataFrame(columns=['topic', 'coherence', 'perplexity'])\n",
    "lda_list = []\n",
    "\n",
    "for i in range(2, 30):\n",
    "    NUM_TOPICS = i\n",
    "    ldamodel = gensim.models.ldamodel.LdaModel(corpus, num_topics = NUM_TOPICS, id2word=dictionary, passes=15)\n",
    "    topics = ldamodel.print_topics(num_words=4)\n",
    "    [topic for topic in topics]\n",
    "\n",
    "    # Compute Coherence Score\n",
    "    coherence_model_lda = CoherenceModel(\n",
    "        model=ldamodel, texts=tokenized_data, dictionary=dictionary, coherence='c_v')\n",
    "    coherence_lda = coherence_model_lda.get_coherence()\n",
    "    \n",
    "    df_topics.loc[len(df_topics)] = [i, coherence_lda, ldamodel.log_perplexity(corpus)]\n",
    "    \n",
    "    lda_list.append(ldamodel)\n",
    "    \n",
    "    print('topic %d finished' % i)"
   ]
  },
  {
   "cell_type": "code",
   "execution_count": null,
   "id": "drawn-laugh",
   "metadata": {},
   "outputs": [],
   "source": [
    "import joblib\n",
    "\n",
    "joblib.dump(lda_list, 'lda_list.pkl')"
   ]
  },
  {
   "cell_type": "code",
   "execution_count": 48,
   "id": "honey-stick",
   "metadata": {},
   "outputs": [
    {
     "ename": "FileNotFoundError",
     "evalue": "[Errno 2] No such file or directory: 'lda_list.pkl'",
     "output_type": "error",
     "traceback": [
      "\u001b[0;31m---------------------------------------------------------------------------\u001b[0m",
      "\u001b[0;31mFileNotFoundError\u001b[0m                         Traceback (most recent call last)",
      "\u001b[0;32m<ipython-input-48-5676cfcd94d7>\u001b[0m in \u001b[0;36m<module>\u001b[0;34m\u001b[0m\n\u001b[1;32m      2\u001b[0m \u001b[0;32mimport\u001b[0m \u001b[0mjoblib\u001b[0m\u001b[0;34m\u001b[0m\u001b[0;34m\u001b[0m\u001b[0m\n\u001b[1;32m      3\u001b[0m \u001b[0;34m\u001b[0m\u001b[0m\n\u001b[0;32m----> 4\u001b[0;31m \u001b[0mlda_list\u001b[0m \u001b[0;34m=\u001b[0m \u001b[0mjoblib\u001b[0m\u001b[0;34m.\u001b[0m\u001b[0mload\u001b[0m\u001b[0;34m(\u001b[0m\u001b[0;34m'lda_list.pkl'\u001b[0m\u001b[0;34m)\u001b[0m\u001b[0;34m\u001b[0m\u001b[0;34m\u001b[0m\u001b[0m\n\u001b[0m",
      "\u001b[0;32m~/anaconda3/envs/nlp/lib/python3.8/site-packages/joblib/numpy_pickle.py\u001b[0m in \u001b[0;36mload\u001b[0;34m(filename, mmap_mode)\u001b[0m\n\u001b[1;32m    575\u001b[0m             \u001b[0mobj\u001b[0m \u001b[0;34m=\u001b[0m \u001b[0m_unpickle\u001b[0m\u001b[0;34m(\u001b[0m\u001b[0mfobj\u001b[0m\u001b[0;34m)\u001b[0m\u001b[0;34m\u001b[0m\u001b[0;34m\u001b[0m\u001b[0m\n\u001b[1;32m    576\u001b[0m     \u001b[0;32melse\u001b[0m\u001b[0;34m:\u001b[0m\u001b[0;34m\u001b[0m\u001b[0;34m\u001b[0m\u001b[0m\n\u001b[0;32m--> 577\u001b[0;31m         \u001b[0;32mwith\u001b[0m \u001b[0mopen\u001b[0m\u001b[0;34m(\u001b[0m\u001b[0mfilename\u001b[0m\u001b[0;34m,\u001b[0m \u001b[0;34m'rb'\u001b[0m\u001b[0;34m)\u001b[0m \u001b[0;32mas\u001b[0m \u001b[0mf\u001b[0m\u001b[0;34m:\u001b[0m\u001b[0;34m\u001b[0m\u001b[0;34m\u001b[0m\u001b[0m\n\u001b[0m\u001b[1;32m    578\u001b[0m             \u001b[0;32mwith\u001b[0m \u001b[0m_read_fileobject\u001b[0m\u001b[0;34m(\u001b[0m\u001b[0mf\u001b[0m\u001b[0;34m,\u001b[0m \u001b[0mfilename\u001b[0m\u001b[0;34m,\u001b[0m \u001b[0mmmap_mode\u001b[0m\u001b[0;34m)\u001b[0m \u001b[0;32mas\u001b[0m \u001b[0mfobj\u001b[0m\u001b[0;34m:\u001b[0m\u001b[0;34m\u001b[0m\u001b[0;34m\u001b[0m\u001b[0m\n\u001b[1;32m    579\u001b[0m                 \u001b[0;32mif\u001b[0m \u001b[0misinstance\u001b[0m\u001b[0;34m(\u001b[0m\u001b[0mfobj\u001b[0m\u001b[0;34m,\u001b[0m \u001b[0mstr\u001b[0m\u001b[0;34m)\u001b[0m\u001b[0;34m:\u001b[0m\u001b[0;34m\u001b[0m\u001b[0;34m\u001b[0m\u001b[0m\n",
      "\u001b[0;31mFileNotFoundError\u001b[0m: [Errno 2] No such file or directory: 'lda_list.pkl'"
     ]
    }
   ],
   "source": [
    "#다시 불러올 때는\n",
    "import joblib\n",
    "\n",
    "lda_list = joblib.load('lda_list.pkl')"
   ]
  },
  {
   "cell_type": "code",
   "execution_count": null,
   "id": "periodic-dancing",
   "metadata": {},
   "outputs": [],
   "source": [
    "df_topics.coherence.idxmax(), df_topics.coherence.max()"
   ]
  },
  {
   "cell_type": "code",
   "execution_count": 89,
   "id": "naked-schedule",
   "metadata": {},
   "outputs": [
    {
     "data": {
      "image/png": "[encoded data removed]",
      "text/plain": [
       "<Figure size 864x432 with 2 Axes>"
      ]
     },
     "metadata": {
      "needs_background": "light"
     },
     "output_type": "display_data"
    }
   ],
   "source": [
    "import matplotlib.pyplot as plt\n",
    "\n",
    "plt.figure(figsize=(12, 6))\n",
    "plt.subplot(1, 2, 1)\n",
    "plt.plot(df_topics.topic, df_topics.coherence, 'r-')\n",
    "plt.axvline(df_topics.coherence.idxmax()+2, linestyle='--', color='gray')\n",
    "\n",
    "plt.subplot(1, 2, 2)\n",
    "plt.plot(df_topics.topic, df_topics.perplexity, 'b-')\n",
    "plt.show()"
   ]
  },
  {
   "cell_type": "markdown",
   "id": "fuzzy-screen",
   "metadata": {},
   "source": [
    "### 최적화된 값을 찾도록 한다."
   ]
  },
  {
   "cell_type": "code",
   "execution_count": 90,
   "id": "balanced-nowhere",
   "metadata": {},
   "outputs": [],
   "source": [
    "ldamodel = lda_list[df_topics.coherence.idxmax()]"
   ]
  },
  {
   "cell_type": "code",
   "execution_count": null,
   "id": "drawn-preference",
   "metadata": {},
   "outputs": [],
   "source": [
    "!pip install pyldavis"
   ]
  },
  {
   "cell_type": "code",
   "execution_count": 91,
   "id": "consecutive-exception",
   "metadata": {},
   "outputs": [
    {
     "data": {
      "text/html": [
       "\n",
       "<link rel=\"stylesheet\" type=\"text/css\" href=\"https://cdn.jsdelivr.net/gh/bmabey/pyLDAvis/pyLDAvis/js/ldavis.v1.0.0.css\">\n",
       "\n",
       "\n",
       "<div id=\"ldavis_el73931406138274970886311302808\"></div>\n",
       "<script type=\"text/javascript\">\n",
       "\n",
       "var ldavis_el73931406138274970886311302808_data = {\"mdsDat\": {\"x\": [0.08230740672390045, 0.009169536621471392, 0.13390247010434156, 0.10924946908764202, 0.09162194206049236, 0.11704823280824105, 0.048843197903848334, 0.02819359486085229, 0.009555894396355973, -0.16223681347809543, 0.02154585895380563, -0.09021854826912139, -0.1095524520519477, -0.2894297897217866], \"y\": [-0.005379134800413174, -0.13289901375111435, 0.06451547441800358, -0.0644166570412333, -0.036385310290174305, 0.06689970284510566, 0.13353518881840543, 0.092940029570981, -0.07844004370956655, -0.039352566707912366, 0.08790237463821704, -0.1958402066656764, -0.04353339139655555, 0.1504535540719328], \"topics\": [1, 2, 3, 4, 5, 6, 7, 8, 9, 10, 11, 12, 13, 14], \"cluster\": [1, 1, 1, 1, 1, 1, 1, 1, 1, 1, 1, 1, 1, 1], \"Freq\": [14.547184389082338, 12.322670446731305, 12.243611671462276, 9.839203897664419, 8.959519808618541, 8.248289788384303, 7.432464629699063, 5.577418103334357, 5.398688718278585, 4.0588696704124985, 3.5451986122814936, 3.5185762674286427, 2.9606814728881523, 1.3476225237340234]}, \"tinfo\": {\"Term\": [\"\\ud559\\uad50\", \"\\ucf54\\ub85c\\ub098\", \"\\uc544\\uc774\", \"\\uae30\\uc790\", \"\\uc9c0\\uad6c\", \"19\", \"\\uc6b0\\ub9ac\", \"\\uc218\\uc5c5\", \"\\uad50\\uc721\\ubd80\", \"\\uacbd\\ub0a8\", \"\\uc0ac\\uc5c5\", \"\\ud658\\uacbd\", \"\\uc6d0\\uaca9\", \"\\ubbf8\\ub798\", \"\\ubc1d\\ud788\", \"\\uc9c0\\uc5ed\", \"\\uad50\\uc721\", \"\\uc0dd\\ud0dc\", \"\\uad50\\uc721\\uccad\", \"\\uc608\\uc0b0\", \"\\ud611\\ub825\", \"\\uc5d0\\uc11c\", \"\\ud504\\ub85c\\uadf8\\ub7a8\", \"\\ub274\\uc2a4\", \"\\ubd80\\uc0b0\", \"\\uc9c0\\uc6d0\", \"\\uacbd\\uc81c\", \"\\uad50\\uc721\\uac10\", \"\\uc11c\\uc6b8\", \"\\ubd80\\ucd1d\\ub9ac\", \"\\ub300\\uc804\", \"\\ubc15\\ub78c\\ud68c\", \"\\ub3c4\\ubbfc\", \"\\ucd94\\uacbd\", \"\\ud6a8\\uc728\\uc131\", \"\\uacf5\\uacf5\\uc131\", \"\\uc644\\uc131\", \"\\uc2dc\\ud765\", \"\\ud68c\\uc7a5\", \"\\ub3d9\\ub825\", \"\\uce74\\ud398\", \"\\uc758\\ub8b0\", \"\\ub300\\ubcc0\\uc778\", \"\\uc5c6\\uc774\", \"\\uc7ac\\uc778\", \"\\uc548\\uc804\\uacfc\", \"\\uc9d1\\ud589\", \"\\uc778\\uad8c\", \"\\ud559\\ub144\\uc81c\", \"\\ubaa8\\ubc14\\uc77c\", \"\\uc18c\\uc678\", \"\\uc5ec\\uc758\\ub3c4\", \"\\uac80\\ud1a0\", \"\\ub178\\ub3d9\", \"\\uc815\\uc2dd\", \"\\uc8fc\\ub3c4\\uc131\", \"\\uacc4\\uce35\", \"\\ucf54\\ub9ac\\uc544\", \"\\uc2dc\\ud765\\uc2dc\", \"\\ubd80\\ubd84\", \"\\uae09\\uc2dd\", \"\\uc911\\uc810\", \"\\ubb34\\uc0c1\", \"\\ubcf4\\uace0\", \"\\uacf5\\ub3d9\\uccb4\", \"\\uc548\\uc815\\uc801\", \"\\ud559\\uc0dd\", \"\\uc911\\uc2ec\", \"\\uc720\\uce58\\uc6d0\", \"\\uc131\\uc7a5\", \"\\ubcf5\\uc9c0\", \"\\uc804\\uc2dc\", \"\\uad50\\uc721\", \"\\uad50\\uc0ac\", \"\\uc9c0\\ud5a5\", \"\\ud559\\ubd80\\ubaa8\", \"\\uc18c\\ud1b5\", \"\\uc2a4\\uc2a4\\ub85c\", \"\\uacfc\\uc815\", \"\\ubc29\\ubc95\", \"\\uace0\\uad50\", \"\\ucc38\\uc5ec\", \"\\ubbf8\\ub798\", \"\\ucda9\\ub0a8\", \"\\uc815\\ucc45\", \"\\ud568\\uaed8\", \"\\ud589\\ubcf5\", \"\\ub098\\uac00\", \"\\ub9de\\ucda4\", \"\\ud601\\uc2e0\", \"\\uc774\\ubc88\", \"\\ub77c\\uace0\", \"\\ud559\\uad50\", \"\\u3134\\ub2e4\", \"\\ud1b5\\ud558\", \"\\ub300\\ud558\", \"\\uc9c0\\uc6d0\", \"\\uac15\\ud654\", \"\\ud559\\uc2b5\", \"\\uc704\\ud558\", \"\\uad50\\uc721\\uccad\", \"\\uc5ed\\ub7c9\", \"\\uc6b4\\uc601\", \"\\ucd94\\uc9c4\", \"\\uc5d0\\uc11c\", \"\\uace1\\uc131\\uad70\", \"\\ud30c\\uc774\\ub0b8\\uc15c\", \"\\uc218\\uc6d0\", \"\\ud68c\\uacac\", \"\\uc721\\uac10\", \"\\ubb34\\uc548\", \"\\uc5b4\\ub5a0\\ud558\", \"\\ub0a8\\ub3c4\", \"\\uc758\\uc815\\ubd80\", \"\\uc8fc\\uccb4\", \"\\uc0ad\\uac10\", \"\\uaf43\\ud53c\\uc6b0\", \"\\ud558\\uc6b0\\uc2a4\", \"\\uc885\\uba85\", \"\\ud2b9\\uac15\", \"\\uc138\\ucd9c\", \"\\uc2ec\\ud654\", \"\\uc7a0\\uc7ac\\ub825\", \"\\ud504\\ub808\\uc2a4\", \"\\uc81c\\uc8fc\", \"\\ub300\\uad6c\\uc2dc\", \"\\uc804\\uc561\", \"\\uc7ac\\ub2e8\", \"\\ucc28\\ub840\", \"480\", \"\\uc99d\\uac00\", \"\\ud3b8\\uc9d1\", \"\\uc138\\uc0c1\", \"TV\", \"\\ud5e4\\ub7f4\\ub4dc\", \"\\uc11c\\uc6b8\\uc2dc\", \"\\uc0ac\\uc9c4\", \"\\uc804\\ub77c\", \"\\uad11\\uc8fc\\uc2dc\", \"\\ube5b\\ub098\", \"\\uc7a5\\uc11d\", \"\\uc2e0\\ub144\", \"\\uac1c\\ucd5c\", \"\\uae30\\uc790\", \"\\uac78\\uce58\", \"CBS\", \"\\uc6d0\\ub144\", \"\\ub274\\uc2a4\", \"\\ud1a0\\ub860\\ud68c\", \"31\", \"\\uccad\\uc8fc\", \"\\ub300\\uad6c\", \"\\uc2dc\\uc2a4\", \"\\uad50\\uc721\\uccad\", \"\\uacbd\\uae30\\ub3c4\", \"\\ud29c\\ube0c\", \"\\ubc1d\\ud788\", \"\\uc81c\\uacf5\", \"2020\", \"\\uad50\\uc721\\uac10\", \"\\uad50\\uc721\", \"\\u3134\\ub2e4\\uace0\", \"\\ubbf8\\ub798\", \"\\uacfc\\ud559\", \"2021\", \"\\uc5f0\\ud569\", \"\\uc628\\ub77c\\uc778\", \"\\ub2e4\\uace0\", \"\\uc704\\ud558\", \"\\ucda9\\ubd81\", \"\\uae4c\\uc9c0\", \"\\uc5d0\\uc11c\", \"\\ud1b5\\ud558\", \"\\ucd94\\uc9c4\", \"\\u3134\\ub2e4\", \"\\uc9c0\\uc18d\", \"\\ud559\\uad50\", \"SW\", \"\\uc608\\ube44\", \"\\uc18c\\ud504\\ud2b8\\uc6e8\\uc5b4\", \"\\ud398\\uc2a4\\ud2f0\\ubc8c\", \"\\ud1b5\\uc2e0\", \"\\uae30\\uae30\", \"ICT\", \"\\uace0\\ub3c4\\ud654\", \"TP\", \"\\uc2e4\\uc2b5\\uc2e4\", \"\\ubb34\\uc120\", \"\\uc7a5\\ube44\", \"\\uc5d0\\uc774\", \"\\ud55c\\ucef4\", \"\\ub178\\ud2b8\\ubd81\", \"\\uc0b0\\ud558\", \"\\uc624\\ud504\", \"\\uc778\\ucc9c\\uad11\\uc5ed\\uc2dc\", \"\\uacbd\\uc0c1\\ub0a8\\ub3c4\", \"\\uc81c\\uc791\\uc2e4\", \"2024\", \"\\uac15\\uc0ac\", \"\\ub4e4\\uc5b4\\uc11c\", \"\\uc778\\ucc9c\\uc2dc\", \"\\ub77c\\uc778\", \"\\uac70\\ub9ac\", \"\\ub2e8\\ub9d0\\uae30\", \"45\", \"\\ubc30\\ucd9c\", \"\\uc9c0\\ub2a5\", \"\\uc778\\ucc9c\", \"AR\", \"\\ud0d0\\uad6c\", \"\\uc11c\\ube44\\uc2a4\", \"\\ubcf4\\uae09\", \"\\ucf58\\ud150\\uce20\", \"\\uad50\\uc2e4\", \"\\uad6c\\ucd95\", \"\\uc815\\ubcf4\", \"\\uc735\\ud569\", \"\\uac15\\ud654\", \"\\uc6d0\\uaca9\", \"\\ud559\\uc2b5\", \"\\uc13c\\ud130\", \"\\uc778\\ud504\\ub77c\", \"\\uc591\\uc131\", \"\\uae30\\ubc18\", \"\\uc2dc\\uc2a4\\ud15c\", \"\\ub514\\uc9c0\\ud138\", \"\\uad50\\uc6d0\", \"\\uae30\\uc220\", \"\\uc704\\ud558\", \"\\ubbf8\\ub798\\ud615\", \"\\uc218\\uc5c5\", \"\\uad50\\uc721\", \"\\uc5ed\\ub7c9\", \"\\uc9c0\\uc6d0\", \"\\ub300\\ud559\", \"\\ud658\\uacbd\", \"\\ud655\\ub300\", \"\\ubbf8\\ub798\", \"\\ud65c\\uc6a9\", \"\\ud50c\\ub7ab\\ud3fc\", \"\\uc0ac\\uc5c5\", \"\\uacfc\\ud559\", \"\\uc2a4\\ub9c8\\ud2b8\", \"\\u3134\\ub2e4\", \"\\uc870\\uc131\", \"\\uc6b4\\uc601\", \"\\uad8c\\uc5ed\", \"\\ubc14\\uc774\\ub7ec\\uc2a4\", \"\\uac10\\uc5fc\\uc99d\", \"\\uc0ac\\ud0dc\", \"\\ucd08\\uc810\", \"\\ud55c\\uad6d\\ud615\", \"\\uc7a5\\uae30\\ud654\", \"\\ub4f1\\uad50\", \"\\uac15\\uc88c\", \"\\uac1c\\ud559\", \"\\ucf00\\uc774\", \"\\uc5f0\\uc138\\ub300\", \"K-MOOC\", \"\\ubcd1\\ud589\", \"\\uacf5\\ub9bd\", \"\\uc5ed\\uc784\", \"OSE\", \"92\", \"\\uc2e0\\uc885\", \"\\uad00\\uad11\", \"\\ubcd1\\uc870\", \"\\uc778\\ud558\", \"1082\", \"628\", \"\\uad70\\uc11c\", \"\\uacf5\\uac1c\", \"\\ub4b7\\ubc1b\\uce68\", \"KERIS\", \"\\ub514\\ub4dc\", \"\\uc0ac\\uc0c1\", \"\\ud559\\uacfc\", \"\\ucf54\\ub85c\\ub098\", \"\\ud3ec\\uc2a4\\ud2b8\", \"19\", \"\\ub300\\uc548\", \"\\uc774\\ud6c4\", \"\\uc218\\uc5c5\", \"\\uc6d0\\uaca9\", \"\\uacc4\\uae30\", \"\\uc624\\ud504\\ub77c\\uc778\", \"\\ub9de\\ucd94\", \"\\ud0dd\\ud2b8\", \"\\uc2dc\\ub300\", \"\\ub300\\ube44\", \"\\uc804\\ud658\", \"\\uad50\\uc721\", \"\\uc900\\ube44\", \"\\uc0c1\\ud669\", \"\\ubbf8\\ub798\", \"\\uc704\\ud558\", \"\\uc628\\ub77c\\uc778\", \"\\ub300\\ud559\", \"\\ub300\\ud558\", \"\\ud601\\uc2e0\", \"\\ub530\\ub974\", \"\\ud559\\uad50\", \"\\uc5d0\\uc11c\", \"\\ub77c\\uace0\", \"\\ud559\\uc0dd\", \"\\u3134\\ub2e4\", \"\\uc8fc\\ub825\", \"\\ucf8c\\uc801\", \"\\uc544\\uc57c\", \"\\ubd80\\uc871\", \"\\uc6d0\\uc8fc\", \"\\uc9c0\\uae08\", \"\\ud589\\ub3d9\", \"\\ub54c\\ubb38\", \"\\ud601\\uc2e0\\uc801\", \"\\ud5a5\\ud558\", \"\\uc758\\uc2dd\", \"\\uc0ac\\uace0\", \"\\uc0ac\\ubb3c\", \"\\uc778\\ud130\\ub137\", \"\\uc784\\uc885\", \"\\uacc4\\uace0\", \"\\ubc1c\\ud718\", \"\\ub300\\ud3ed\", \"\\uc9c1\\uba74\", \"\\uc7a5\\ud559\\uc0ac\", \"\\ucc44\\uc6b0\", \"\\uc790\\uc758\", \"\\ucd5c\\uc0c1\", \"\\uc774\\ud55c\\ubcf5\", \"\\ucc28\\uadfc\\ucc28\\uadfc\", \"\\uc778\\uc815\\ubc1b\", \"\\ube48\\ud2c8\", \"\\ub4dc\\ub7ec\\ub0b4\", \"\\ubb34\\uc5ed\\ub7c9\", \"\\uac15\\ub989\", \"\\uacbd\\uc7c1\\ub825\", \"\\ubaa8\\uc2b5\", \"\\uc9c1\\uc5c5\", \"\\uad6d\\ub0b4\", \"\\uc778\\uac04\", \"\\ud601\\uba85\", \"\\uc0b0\\uc5c5\", \"\\uc5b4\\ub835\", \"\\ub77c\\uba70\", \"\\ub9d0\\ud558\", \"\\ub77c\\uace0\", \"\\uc0ac\\ud68c\", \"\\uc6b0\\ub9ac\", \"\\ub178\\ub825\", \"\\uc5b4\\uc57c\", \"\\ubcc0\\ud654\", \"\\uc778\\uacf5\\uc9c0\\ub2a5\", \"\\uc5ec\\uac74\", \"\\uadf8\\ub3d9\\uc548\", \"\\uac00\\uce58\", \"\\uad50\\uc721\", \"\\uc5d0\\uc11c\", \"\\ud0a4\\uc6b0\", \"\\ub3c4\\ub85d\", \"\\uc2dc\\ub300\", \"\\ubbf8\\ub798\", \"\\uacfc\\uc7a5\", \"\\uc815\\ucc45\", \"AI\", \"\\ub300\\ube44\", \"\\ub9cc\\ub4e4\", \"\\uc704\\ud558\", \"\\uc5ed\\ub7c9\", \"\\u3134\\ub2e4\", \"\\uad50\\uc721\\uac10\", \"\\ud559\\uc0dd\", \"\\ub098\\uac00\", \"\\uc778\\uc7ac\", \"\\ud601\\uc2e0\", \"\\uad50\\uc721\\uccad\", \"\\ucf54\\ub85c\\ub098\", \"\\uc0dd\\ud0dc\", \"\\uae30\\ud6c4\", \"\\uc778\\uc2dd\", \"\\ud574\\uc591\", \"\\uc7ac\\ub09c\", \"\\ucd08\\uccad\", \"\\ub9ac\\ubaa8\\ub378\\ub9c1\", \"\\uc124\\ubb38\", \"\\ud734\\uc2dd\", \"\\uc5b4\\ub9b0\\uc774\", \"\\uc811\\ud558\", \"\\uc774\\uc288\", \"\\ub5a0\\uc624\\ub974\", \"\\ud310\\ub2e8\", \"\\uc18c\\uba78\", \"\\ud604\\ub300\", \"\\uacbd\\ud76c\", \"\\uc0ac\\ubc94\\ub300\", \"\\uc5b4\\ub824\\uc6cc\\uc9c0\", \"\\uc784\\uba85\", \"\\ud611\\ub3d9\\uc870\\ud569\", \"\\uac1c\\ucd95\", \"\\ud558\\uacbd\", \"\\ub0a0\\ub85c\", \"\\ud559\\ub839\", \"WM\", \"\\ubd80\\ubb38\\uc7a5\", \"\\ub0a8\\ud615\", \"\\uc740\\ud589\", \"\\uc0dd\\ud0dc\\uc801\", \"\\uac00\\uc6b4\\ub370\", \"\\ud615\\uc131\", \"\\ubabd\\uc2e4\", \"\\ud559\\uad50\", \"\\uc778\\uad6c\", \"\\ud658\\uacbd\", \"\\uc608\\uc220\", \"\\uc704\\uae30\", \"\\uac00\\ub2a5\", \"\\uc870\\uc0ac\", \"\\uacf5\\uac04\", \"\\uc9c0\\uc18d\", \"\\uc774\\uc0c1\", \"\\ud504\\ub85c\\uc81d\\ud2b8\", \"\\ud558\\ub098\", \"\\ucd94\\uc9c4\", \"\\uadf9\\ubcf5\", \"\\ubbf8\\ub798\", \"\\uc138\\ub300\", \"\\uc911\\uc694\", \"\\uc704\\ud558\", \"\\uacfc\\uc815\", \"\\ubcc0\\ud654\", \"\\uad50\\uc721\", \"\\uad00\\uacc4\\uc790\", \"\\ud1b5\\ud558\", \"\\uad50\\uc721\\uccad\", \"\\uc2dc\\uc124\", \"\\uc2dc\\ubbfc\", \"\\ub2e4\\uc591\", \"\\uc6b4\\uc601\", \"\\uc0ac\\ud68c\", \"\\u3134\\ub2e4\", \"\\uc911\\uc2ec\", \"\\uc774\\ubc88\", \"\\ub300\\uc751\", \"\\ubbf8\\ub798\\ud615\", \"\\ud559\\uc0dd\", \"\\ub77c\\uace0\", \"\\uc804\\ud658\", \"\\ub3c5\\uc11c\", \"\\ud2b9\\ud654\", \"\\ucd5c\\ub300\", \"\\uad50\\uc721\\uad00\", \"\\ubcc4\\ub3c4\", \"\\uc9c0\\uad6c\", \"\\uc778\\uc131\", \"\\uc21c\\ucc9c\", \"\\ubc29\\uacfc\", \"\\uc131\\uad50\\uc721\", \"\\uc778\\uc81c\", \"\\uc591\\uc0ac\", \"\\uc804\\ub2ec\", \"\\ucda9\\uccad\\ubd81\\ub3c4\", \"\\ud559\\uc6d0\", \"\\uc9c4\\uad6c\", \"\\uc778\\ubb3c\", \"\\uc6d0\\ud65c\", \"5000\", \"\\uc0ac\\uc6a9\", \"\\ub4dc\\ub9bc\", \"\\ud559\\uc5c5\", \"\\ubbf8\\uc219\", \"\\uae4a\\uc774\", \"\\ucc38\\uac00\\uc790\", \"\\ubc1c\\uc871\", \"\\uad6c\\uc5f0\", \"\\uc778\\uc81c\\uad70\", \"\\ub367\\ubd99\\uc774\", \"\\uc0dd\\ud0dc\\uacc4\", \"\\ub3c4\\uc11c\\uad00\", \"\\uccad\\uc18c\\ub144\", \"2019\", \"\\ub9c8\\uc744\", \"\\uacf5\\ubaa8\", \"\\uc120\\uc815\", \"\\uc790\\uce58\", \"\\uc9c0\\uc790\\uccb4\", \"\\ucea0\\ud37c\\uc2a4\", \"\\uc9c0\\uc5ed\", \"\\ud611\\ub825\", \"\\uc601\\uc5b4\", \"\\ud504\\ub85c\\uadf8\\ub7a8\", \"\\uc6b8\\uc0b0\", \"\\uccb4\\ud5d8\", \"\\uc9c4\\ub85c\", \"\\uc0ac\\uc5c5\", \"\\uc6b4\\uc601\", \"22\", \"\\uac1c\\ubc1c\", \"\\uc5f0\\uacc4\", \"\\uad50\\uc721\", \"\\uc124\\ub9bd\", \"\\uc9c0\\uc6d0\", \"\\uc13c\\ud130\", \"\\ubbf8\\ub798\\ud615\", \"\\ubbf8\\ub798\", \"\\uc608\\uc815\", \"\\ub2e4\\uc591\", \"\\ubaa8\\ub378\", \"\\uad50\\uc721\\ubd80\", \"\\ud559\\uad50\", \"\\u3134\\ub2e4\", \"\\uad50\\uc721\\uccad\", \"\\ud601\\uc2e0\", \"\\uad6c\\ucd95\", \"\\ud1b5\\ud558\", \"\\ubd80\\ubb38\", \"\\ud55c\\uad6d\\ud310\", \"PC\", \"\\ub2f4\\ub2f9\", \"\\uc120\\ubb3c\", \"\\uc758\\ud639\", \"\\ud64d\\ubcf4\", \"150\", \"\\ud559\\ubd80\", \"\\uc7a5\\ud559\\uae08\", \"\\uce74\\ub4dc\", \"\\uace0\\ub4f1\\ud559\\uc0dd\", \"\\uc0ac\\uc6a9\\uc790\", \"\\uc67c\\ucabd\", \"\\uc0c1\\ub2f9\", \"\\uacc4\\uc815\", \"\\uc218\\uc0c1\\uc790\", \"\\uae30\\ud68d\\ub2e8\", \"\\uc18c\\uc18d\", \"\\ub2e4\\ub978\", \"\\ub2e8\\uc7ac\", \"42\", \"\\uc0ac\\uc124\", \"\\uac01\\uacc4\", \"\\uc0ac\\uc6a9\\ud558\", \"\\uc678\\ubd80\", \"\\ub274\\ub51c\", \"\\ubc14\\ub77c\\ubcf4\", \"\\uacbd\\ucca0\", \"\\uc608\\ubd09\", \"\\uc758\\uc6d0\", \"\\uc120\\uc0dd\\ub2d8\", \"\\uc870\\uc9c1\", \"\\uc721\\uc131\", \"\\uae30\\ucd08\", \"\\uae30\\uad00\", \"\\ud559\\ub825\", \"\\ucc45\\uc784\", \"\\ub300\\uc0c1\", \"\\uc0ac\\uc5c5\", \"\\uadf8\\ub9ac\", \"\\uc2a4\\ub9c8\\ud2b8\", \"\\ucd94\\uc9c4\", \"\\ud0dc\\ube14\\ub9bf\", \"\\ud601\\uc2e0\", \"\\uad50\\uc721\\ubd80\", \"\\ubbf8\\ub798\", \"\\uadf8\\ub9b0\", \"\\ubd80\\ud130\", \"\\ud559\\uad50\", \"\\uad50\\uc721\", \"\\uacfc\\uc81c\", \"\\uc9c0\\uc6d0\", \"\\uc815\\ucc45\", \"\\uc778\\uc7ac\", \"\\ub300\\uad6c\", \"\\uc9c0\\uc5ed\", \"\\uac00\\ub2a5\", \"\\uacc4\\ud68d\", \"\\uc9c0\\uc18d\", \"\\u3134\\ub2e4\", \"\\uc5d0\\uc11c\", \"\\uc5ec\\ub860\", \"\\uc9c1\\uc18d\", \"\\ub300\\ud1b5\\ub839\", \"\\uc219\\uc758\", \"\\uc624\\uc0b0\\uc2dc\", \"\\ubbf8\\ub798\\uc0ac\", \"\\uad8c\\uace0\", \"\\uac1c\\ubc1c\\uc6d0\", \"\\ub458\\uc9f8\", \"\\uc624\\uc0b0\", \"\\uc9c4\\uacbd\", \"\\uc870\\ud76c\", \"\\ucd1d\\ud68c\", \"\\ud310\\uacb0\", \"\\uc548\\ub3d9\", \"\\uc804\\uad50\\uc870\", \"\\uc6d0\\ud0c1\", \"\\ubd84\\uacfc\", \"\\uc804\\ud1b5\", \"\\uc8fc\\ubaa9\\ubc1b\", \"\\uc815\\uae30\", \"70\", \"\\uac00\\uc838\\uc624\", \"\\uc548\\ub3d9\\uc2dc\", \"\\ub300\\ubc95\\uc6d0\", \"\\ud654\\uace0\", \"\\ub300\\ud68c\", \"\\ub300\\uad6d\\ubbfc\", \"\\ud68c\\uc758\", \"\\uae0d\\uc815\\uc801\", \"\\ud559\\uc220\", \"\\uc815\\ubcf4\\uc6d0\", \"\\ubc1c\\ud45c\", \"\\uc5f0\\uad6c\", \"\\uc5f4\\ub9ac\", \"\\uacb0\\uacfc\", \"\\uad6d\\ud68c\", \"\\uc8fc\\uc81c\", \"\\uac15\\uc5f0\", \"\\ubc29\\ud5a5\", \"\\ucc38\\uc11d\", \"\\uad6d\\uac00\", \"\\ub17c\\uc758\", \"\\ud3ec\\ub7fc\", \"\\uac04\\ub2f4\\ud68c\", \"KT\", \"\\ud1a0\\ub860\", \"AI\", \"\\uc5d0\\uc11c\", \"\\uc9c4\\ud589\", \"\\uacf5\\uc720\", \"\\uad6d\\uc81c\", \"\\uad50\\uc721\", \"\\ubd84\\uc57c\", \"\\ubbf8\\ub798\", \"\\ud601\\uc2e0\", \"\\uc815\\ucc45\", \"\\uccb4\\uc81c\", \"\\uad50\\uc218\", \"\\ubc29\\uc548\", \"\\u3134\\ub2e4\", \"\\ub300\\ud558\", \"\\uc11c\\uc6b8\", \"\\ud559\\uad50\", \"\\uad50\\uc6d0\", \"\\uacfc\\uc815\", \"\\ud568\\uaed8\", \"\\ubd80\\uc0b0\\uc2dc\", \"\\uc2a4\\ud29c\\ub514\\uc624\", \"\\ud559\\ub144\\ub3c4\", \"\\uc9c4\\uc8fc\", \"\\ubaa8\\uc9d1\", \"\\ub300\\uc785\", \"\\ud559\\uc704\", \"\\uc2e0\\uc785\\uc0dd\", \"\\uad6c\\ubbf8\", \"\\uacbd\\ud76c\\ub300\", \"\\uccb4\\uc721\", \"\\uc2e4\\uc6a9\", \"\\ubbf8\\uc6a9\", \"\\ubc15\\ucc28\", \"\\uacc4\\uc5f4\", \"\\uc548\\ub0b4\", \"\\uc801\\uc808\", \"\\ubb34\\uc6a9\", \"\\ud55c\\ub9c8\\ub2f9\", \"\\uac00\\ud558\", \"\\uc0b0\\ud559\", \"\\ubc31\\ubc94\", \"\\ucd2c\\uc601\", \"\\uc804\\uacf5\", \"\\uac10\\uc561\", \"\\ub18d\\uc5c5\", \"TF\", \"\\ubc00\\ucc29\", \"\\ucc38\\uad00\", \"\\uccb4\\uacb0\", \"\\ud1a1\\ud1a1\", \"\\uad50\\uc721\\uc6d0\", \"\\uc6b8\\uc0b0\\uc2dc\", \"\\ud559\\uc0ac\", \"\\ubd80\\uc0b0\", \"\\ub300\\ud559\\uad50\", \"\\ud611\\uc57d\", \"\\uacbd\\ub0a8\", \"\\uae00\\ub85c\\ubc8c\", \"\\uc2dc\\ubc94\", \"\\ud50c\\ub7ab\\ud3fc\", \"\\ud648\\ud398\\uc774\\uc9c0\", \"\\ucde8\\ub4dd\", \"\\uc5c5\\ubb34\", \"\\uae30\\uc790\", \"\\uc2dc\\uc2a4\", \"\\uc9c0\\uc6d0\", \"\\uc6b8\\uc0b0\", \"\\u3134\\ub2e4\\uace0\", \"\\uc6b4\\uc601\", \"\\uad50\\uc721\\uccad\", \"\\ubbf8\\ub798\", \"\\ubc1d\\ud788\", \"\\uc218\\uc5c5\", \"\\uae4c\\uc9c0\", \"\\ud559\\uad50\", \"\\uc5d0\\uc11c\", \"\\ud65c\\uc6a9\", \"2021\", \"\\uc544\\uc774\", \"\\uacfc\\uc815\", \"\\uc5b4\\ub514\", \"\\uae30\\ub300\\ub418\", \"\\uc0ac\\uc5c5\\ube44\", \"\\ud2b9\\uc218\", \"\\uac74\\ubb3c\", \"\\uc774\\uc5b4\\uc9c0\", \"\\uc7ac\\uc6d0\", \"\\uc138\\uc785\", \"\\ubd80\\uc9c0\", \"\\ubc30\\ubd84\", \"\\ubc1c\\ub9de\\ucd94\", \"\\uc2ec\\uc0ac\", \"\\uc77c\\ud658\", \"\\ubbf8\\ub124\\ub974\\ubc14\", \"\\ubb3c\\ub860\", \"\\ud558\\ubc18\\uae30\", \"\\uacfc\\ud559\\uace0\", \"\\uc5f0\\ud76c\", \"\\ud540\\uc14b\", \"\\uc784\\uc0c1\", \"\\uae34\\ucd95\", \"\\uc138\\ubc00\", \"2835\", \"\\uc778\\uc218\", \"\\uc7ac\\uc815\", \"\\uc778\\uac00\", \"\\uad00\\uacc4\", \"\\uc9c8\\ubb38\", \"\\ub3d9\\ub9ac\", \"\\ube44\\uc6a9\", \"\\ud6a8\\uc728\\uc801\", \"\\uc608\\uc0b0\", \"\\uc5b8\\uc81c\", \"\\ud22c\\uc790\", \"\\uaddc\\ubaa8\", \"\\ud3b8\\uc131\", \"\\ubc29\\ubb38\", \"\\uac10\\uc18c\", \"\\uad50\\ubd80\\uae08\", \"\\ub4e4\\uc774\", \"\\ud22c\\uc785\", \"\\ud328\\ub7ec\\ub2e4\\uc784\", \"\\uc870\\uc131\", \"\\ub300\\uc751\", \"\\uc0ac\\uc5c5\", \"\\uae30\\ubc18\", \"\\ubbf8\\ub798\", \"\\uad50\\uc721\", \"\\uad50\\uc721\\uccad\", \"\\ud655\\ubcf4\", \"\\uc804\\ud658\", \"\\ubcc0\\ud654\", \"\\u3134\\ub2e4\", \"\\uc704\\ud558\", \"10\", \"\\uc2dc\\uc124\", \"\\ud1b5\\ud558\", \"\\uacc4\\ud68d\", \"\\ud559\\uad50\", \"\\uad50\\uc721\\ubd80\", \"\\uc7a5\\uad00\", \"\\ubd80\\ucd1d\\ub9ac\", \"DB\", \"\\uae08\\uc9c0\", \"\\uc7ac\\ud310\\ub9e4\", \"News\", \"\\uace0\\uc591\", \"\\ucc38\\uac00\", \"\\uc81c\\ucc9c\", \"\\uc740\\ud61c\", \"\\uace0\\uc591\\uc2dc\", \"\\uc810\\uac80\", \"\\uc2e0\\ub77c\", \"\\ud604\\ud589\", \"\\ub2e4\\uadf8\", \"\\uc911\\uad6c\", \"\\uc7a5\\uc774\", \"\\uad8c\\ud615\", \"\\uc77c\\ubc18\\uc9c1\", \"300\", \"\\ub2e8\\uacc4\", \"\\ud1b5\\ucc30\\ub825\", \"\\ub6f0\\uc5b4\\ub098\", \"\\uc2b9\\uc9c4\", \"\\uc0ac\\ubb34\\uad00\", \"\\uc9c0\\ub825\", \"\\ub294\\ub2e4\\uace0\", \"\\uc120\\ud638\", \"\\uc0c1\\uc740\", \"\\ud559\\uae30\\uc81c\", \"\\uc81c\\ub3c4\", \"\\uad6c\\uccb4\\uc801\", \"\\uacf5\\ubc31\", \"\\ub300\\ud654\", \"18\", \"\\uc11c\\uc6b8\", \"\\uad50\\uc721\\ubd80\", \"\\uc138\\uc885\", \"\\uc785\\uc2dc\", \"\\uad6c\\uccad\\uc7a5\", \"\\uc720\\uc544\", \"\\ud611\\uc758\", \"\\ub2e4\\uace0\", \"20\", \"\\ubc1d\\ud788\", \"\\ub274\\uc2a4\", \"\\uae30\\uc790\", \"\\uc5f0\\ud569\", \"\\uc8fc\\uad00\", \"\\uad50\\uc721\", \"\\ubd80\\ud130\", \"\\ubbf8\\ub798\", \"\\uc5d0\\uc11c\", \"\\u3134\\ub2e4\\uace0\", \"10\", \"\\uacbd\\uc81c\", \"\\ucf54\\ub85c\\ub098\", \"\\uc704\\ud558\", \"2021\", \"\\uacfc\\uc81c\", \"19\", \"\\ud14c\\ub9c8\", \"\\ucde8\\uc784\", \"\\uc8fc\\ub144\", \"\\uadf8\\ub987\", \"\\uc2dc\\ud5d8\", \"\\uad50\\ubcf4\", \"\\ud30c\\ud06c\", \"\\uc548\\uc131\", \"\\uc774\\ucc9c\", \"\\uc124\\uc131\", \"\\ubd80\\ucc9c\", \"\\uac78\\ub9de\", \"\\uc2dc\\ub300\\uc801\", \"\\ucca0\\uc800\", \"\\uace0\\ucc3d\", \"\\ucc44\\ud305\", \"\\ud5e4\\uce58\", \"2016\", \"\\ub300\\uc2e0\", \"556\", \"\\uacf5\\uc870\", \"\\ud0a4\\uc6cc\\ub4dc\", \"\\uac01\\uc624\", \"\\ub9c8\\uc2a4\\ud06c\", \"\\uc2dc\\ud5d8\\uc7a5\", \"\\uac10\\ub3c5\\uad00\", \"\\ubcf4\\uc5ec\\uc8fc\", \"\\uadf8\\ub7f0\", \"\\uc758\\uacb0\", \"\\ub2f9\\uc77c\", \"\\uc218\\ub2a5\", \"\\uc758\\ub839\\uad70\", \"\\uc870\\uac10\\ub3c4\", \"\\uac74\\ub9bd\", \"\\ud604\\uc7ac\", \"\\ub7ec\\ub2dd\", \"\\uacbd\\ub0a8\", \"\\ubc15\\uc885\\ud6c8\", \"\\ubc29\\uc2dd\", \"\\uc218\\ud5d8\\uc0dd\", \"\\uc544\\ub2c8\", \"\\uc0dd\\uac01\", \"\\uad50\\uc721\\uac10\", \"\\ubc14\\ud0d5\", \"\\u3134\\ub2e4\\ub294\", \"\\ubbf8\\ub798\", \"\\ub77c\\ub294\", \"\\uad50\\uc721\", \"\\ub9cc\\ub4e4\", \"\\ubaa8\\ub4e0\", \"\\u3134\\ub2e4\", \"\\ub300\\ud55c\\ubbfc\\uad6d\", \"\\uad50\\uc721\\uccad\", \"\\uc5d0\\uc11c\", \"\\uae30\\ud68d\", \"\\ub77c\\uace0\", \"\\uc790\\uc0b0\", \"\\ucd08\\ub4f1\\ud559\\uc0dd\", \"\\ud22c\\uc5b4\", \"\\uad6d\\ub0b4\\uc678\", \"\\ub9ac\\ub354\", \"\\ub3d9\\uc544\\uc2dc\\uc544\", \"\\ubc15\\uc0ac\", \"\\uc5ed\\uc0ac\", \"\\uad6d\\uc5b4\", \"\\uac04\\ubd80\", \"\\uc704\\ucd09\", \"\\ub86f\\ub370\", \"\\uc120\\uc804\", \"\\ubc29\\ud559\", \"\\ub9c8\\ub2e4\", \"\\uc0c1\\ud558\\uc774\", \"\\ub300\\uc7a5\", \"\\uc911\\uad6d\", \"\\ubcc0\\ud558\", \"\\uae30\\ud589\", \"\\uc138\\uacc4\\ub85c\", \"\\uc6b4\\uc6a9\", \"\\uc694\\uac15\", \"\\uc774\\uba54\\uc77c\", \"\\uc784\\uc2dc\", \"\\ubd80\\ubaa8\", \"\\uc0c1\\ub2f4\", \"\\uc54c\\ub9ac\", \"\\ucea0\\ud504\", \"\\ud574\\uc678\", \"\\uc2a4\\ucfe8\", \"\\uacbd\\uc81c\", \"\\ud504\\ub85c\\uadf8\\ub7a8\", \"\\uc544\\uc774\", \"\\uc6b0\\ub9ac\", \"\\uae00\\ub85c\\ubc8c\", \"\\uc9c4\\ud589\", \"\\ub300\\uc0c1\", \"\\uad6d\\uc81c\", \"\\uacbd\\uc601\", \"\\uc790\\ub140\", \"\\ud3c9\\ud654\", \"\\ubbf8\\ub798\", \"\\ub2e4\\uc591\", \"\\ud568\\uaed8\", \"\\uad50\\uc2e4\", \"\\uc5d0\\uc11c\", \"\\uad50\\uc721\"], \"Freq\": [1534.0, 678.0, 245.0, 417.0, 308.0, 467.0, 223.0, 595.0, 381.0, 290.0, 534.0, 574.0, 394.0, 4190.0, 430.0, 365.0, 6668.0, 207.0, 1035.0, 168.0, 352.0, 852.0, 138.0, 237.0, 200.0, 732.0, 133.0, 422.0, 181.0, 123.0, 95.59621534336803, 38.52359309268138, 30.966506571812683, 20.197331555021417, 20.12504747594143, 19.553694664584725, 19.25652929188304, 16.04327029496989, 15.325416225332384, 15.283297536794988, 14.148403315320428, 13.731875862264372, 13.666179478842162, 25.874206542527787, 13.17195639495004, 13.171946721388135, 13.24262418306162, 12.910000369194611, 12.945758690779014, 12.791545991399058, 12.525372292652746, 12.525323118713057, 12.453820179756955, 11.738268417853005, 11.7261135873185, 11.286635608641184, 10.909562583947665, 10.518425812503583, 10.487614711703786, 10.4895655466881, 28.311549138985136, 67.91722686643757, 54.46898306376882, 21.18178092947829, 85.24519455029329, 18.849647992307283, 338.432400848902, 158.3694031346681, 29.04632388065602, 75.25784809254253, 56.930040397237974, 23.91332717643386, 1470.2701766018217, 95.12953047183095, 40.87769307667991, 73.12587243702258, 45.38708844943238, 25.12486180436661, 139.45495840019584, 29.513750391939205, 52.38145097616426, 74.859013584212, 668.8972433736321, 39.506049713385686, 151.24893927945422, 105.56040329391656, 59.53104837531746, 72.11930607552866, 42.706263912069005, 134.0988103576728, 87.06696487166269, 112.40294571557983, 199.3143274665926, 149.91692849928762, 104.1115939273006, 85.89441953499085, 124.3247465928188, 76.88014311837523, 81.77194084230109, 116.36927377198785, 103.78598183355491, 74.95545254737051, 76.8616988603417, 73.7877891349404, 71.80637279692068, 46.68165847077438, 27.467881741331286, 25.581683053830407, 23.17447658031579, 21.94116078125668, 20.615204228446043, 18.331988566949082, 74.09137427956136, 15.487236070032784, 13.17873823564876, 12.748886667845916, 12.711468724200724, 12.45046361266266, 21.64288385790677, 11.654790802988106, 11.22521306165803, 10.344063372361116, 10.309137864191232, 10.04918640414314, 35.16342172031755, 51.38816330176252, 9.598903694033117, 100.69033975119578, 31.993601008698406, 9.252843026896873, 9.258248539012635, 9.226951060892151, 9.218552577628916, 9.183760226970726, 9.190306113673822, 80.92071849924353, 93.44770739244751, 20.745073091031216, 22.2864511834022, 15.059382547764395, 48.29897458491716, 23.181460862518925, 100.27796937467181, 275.80337698541024, 26.051957145029498, 29.19482950771781, 38.06595774871892, 149.43109135409134, 83.92852680781348, 27.04386178968163, 30.48485128670582, 125.46894507198336, 86.60786899512576, 431.2966067769324, 74.06775828271807, 41.33604128663079, 174.66774758936347, 100.14236995907052, 62.79183269487547, 151.62395383960177, 922.8134701427899, 74.5120700734319, 576.8777388954666, 68.91442873976976, 79.99779354280336, 52.66940351356904, 96.90153190788098, 60.37089529189853, 138.21490773744426, 60.134948375484264, 67.95855173776893, 97.73749340058104, 74.74143969162749, 76.46009754933723, 82.40895240440868, 61.75460806183286, 64.36091710970538, 144.7178926376913, 50.46925934179251, 42.05753519069282, 38.53846247420307, 31.975164798501034, 32.25102581299501, 26.103276917063045, 21.88963134185685, 17.594276660687107, 17.271793351703458, 16.020052999542834, 14.844189556427533, 13.558172495529233, 13.036405270396559, 13.287504551674177, 11.759825838527178, 10.994322175411051, 10.959226543723128, 23.255995124887647, 10.843792331638754, 11.235820992938905, 27.839645965399825, 10.222257630000916, 19.690871392387184, 9.82217000697499, 9.822073663098491, 9.822056701148403, 9.776917559574416, 9.418886752552499, 40.49252526083631, 103.64243264579325, 20.038363400580472, 18.88557228045277, 51.44473702048107, 36.0278387534608, 110.39569873465602, 93.6551387331903, 281.89438828198644, 74.67104737575885, 126.9481629222507, 173.16235017889827, 202.09914392640135, 201.2248300319492, 156.62878567456957, 64.32531081998584, 107.82222623949195, 164.9658256809541, 85.99767315077645, 104.43680554795903, 106.59147799676015, 66.74630488255151, 309.98214008371235, 149.02749807084692, 193.0542830998037, 849.0666966547303, 133.48613979886147, 205.43532339835104, 100.35917445811788, 169.41834572077056, 82.59083969345251, 428.95923946249957, 93.6204115150583, 78.76357241473319, 130.9464826473927, 77.68241500221681, 82.40896959374176, 110.38305190467047, 81.7252537400376, 82.65724369261274, 35.36660249516028, 52.34743643791456, 51.54383401064112, 26.415590196652467, 24.51707771745709, 23.754933013434883, 24.10381996111751, 22.181768463191506, 19.516348080038068, 14.357662968555694, 14.069578791482831, 13.666841949287283, 12.899726854855821, 47.461174084668336, 12.125821365277705, 11.730274032509149, 11.730274032509149, 11.692170613974653, 47.39171511417514, 10.956678238164958, 9.789633187214433, 59.86529260334118, 8.987207928972763, 8.987248821829356, 8.985179643285791, 20.2793520792868, 8.214189541763654, 7.852167263305534, 7.846657632427349, 7.775513331004469, 52.994228391109225, 559.5276877031533, 115.07256824083863, 361.9151893357526, 60.81693371433532, 60.67569960195155, 289.44905194972114, 191.14522439735012, 36.64581392555269, 57.81363583097004, 23.492673493157106, 20.984159545985907, 126.52945117226753, 84.2730369984611, 75.51947940205613, 649.4026752928418, 59.89332220296372, 51.783415988367146, 378.04648999470913, 151.68553266207178, 77.04721035291135, 59.37715620991472, 66.29220150726869, 87.30162084339062, 53.661159258318406, 100.69492774874244, 80.73557590324157, 67.87088822886626, 59.57383013107572, 58.37547532816588, 18.653532086515337, 15.924218448020575, 42.54367280573151, 15.549766291631942, 15.2145785914416, 31.93486199365064, 14.395372214166258, 14.313312261199115, 14.014646403580548, 12.292135105992038, 11.999460895955801, 11.996890068048831, 11.510381987501969, 11.510380001539893, 11.137801600369665, 20.67922134755836, 10.734325601225988, 9.975186632891699, 9.605671578223209, 9.564334770598945, 9.526220186442472, 9.228889888319802, 7.997940944760764, 7.997940944760764, 7.544139673638292, 7.209306467678458, 7.1349585019417034, 7.1349585019417034, 6.838725944356365, 6.835635290876087, 26.723099732478655, 39.26837251550427, 61.79628425411058, 17.664346222201413, 19.79162538726383, 80.39303172699597, 105.92154150959715, 37.34536543762226, 54.11938500167508, 115.12405285664671, 180.91364610175043, 120.64930916127534, 98.75168617855209, 71.7463117264465, 54.30651426421821, 123.38899150776724, 72.43354993081181, 31.652007373097607, 20.835427194621058, 43.31088570288448, 742.6095597190985, 178.52590006661413, 43.77905640260554, 95.46650771296042, 96.62650021751745, 440.3890921320562, 46.51508855080233, 105.98636331174738, 69.19321448888901, 60.77620277778529, 64.81630500720561, 137.18725741339196, 72.24643258404113, 101.0974648631051, 75.28763958055954, 78.57196011053452, 52.78317808214287, 56.9902083678725, 66.97415607246107, 67.68676692830526, 59.74513495925732, 206.79667082890043, 87.1403044850193, 40.41792427935892, 25.439393086918425, 19.640066644710423, 16.9249019667574, 15.654627888249024, 15.22398746041307, 14.514160250665741, 14.396407865700239, 14.019409175286775, 13.981164560913536, 13.978383699528045, 13.565913942881902, 12.77303021043893, 12.358350939667629, 10.88777530986528, 10.49408139542709, 10.398691999308813, 10.394795868071153, 10.101127947038291, 10.06169218789671, 10.050646445582153, 9.56863961365326, 19.013487930338208, 9.192089773647513, 9.192087031180664, 8.892408536969103, 8.853119042726169, 8.43948282351333, 51.63975856201792, 16.388369408924834, 14.872461716254273, 724.2389534876526, 23.391002545796535, 280.5976823766874, 36.60337228891834, 89.8440988954139, 103.7257567033123, 36.53066035117937, 88.97734041928773, 92.64602242630951, 22.082156585204203, 36.42390160165829, 29.690326402466784, 136.34143958464134, 31.338113841000734, 396.8572146541686, 36.11832497540886, 33.31249251509695, 161.74360094160963, 85.4695498007756, 74.554860835404, 352.02711097837243, 36.286679530371885, 78.62859422624376, 114.94081526454156, 34.920927382650426, 42.557801686272114, 51.674372150282295, 69.32104202745016, 56.67227664658891, 86.97697047270228, 47.90319135891246, 47.24751872788849, 43.23295314517315, 47.974447960909906, 49.432014242133384, 46.23463064814843, 41.43508329413942, 34.86547298104731, 19.068437871750394, 17.789920796115343, 63.232398229534844, 12.520861256661876, 285.8418909712551, 11.229642965641903, 11.769929389282206, 9.204153730932218, 9.164686798477295, 9.811752724544272, 8.760668871982185, 7.1322476867196425, 14.346628636530275, 21.36580675786979, 7.346783644776603, 6.625431383289483, 14.592201392905748, 13.790341103294526, 17.127235151121788, 6.272743451274459, 5.887790939532839, 5.886221718746259, 5.881554419545858, 5.8674956840264025, 5.8461897020605775, 5.846066553237693, 5.807342632409802, 11.189906670878731, 26.96384087322612, 31.241750909309513, 51.33189566726409, 12.671522926932486, 108.30061032732038, 44.23365023546752, 121.37120957681165, 127.3472240859371, 37.89049572393852, 15.655810180932376, 234.51663792678522, 226.746377194022, 15.839279686104778, 77.33180004389466, 64.46871685768699, 72.51867286748886, 48.723288930688895, 144.1308517802884, 130.77021769506393, 27.12587671705111, 60.77850265897137, 42.653928437555436, 546.2684745010956, 47.17049347874622, 134.5840057654434, 79.74396834508018, 91.20396221359874, 284.56953875040574, 44.68762869210797, 57.708391795883706, 49.36756732754758, 66.59663625846999, 107.02900276557395, 80.00094822452786, 81.66774571320519, 57.880408048658936, 50.16927522563885, 45.723176023276, 33.44872052354315, 29.569601983696487, 23.94912081372246, 25.80878130600205, 13.76970771733443, 13.430647262729003, 12.662215563970653, 12.625771049732863, 11.86062045755164, 11.70707975244759, 11.407386395331017, 10.907596224790344, 11.738872117457904, 10.634014492397009, 10.603603060335699, 9.80449536402715, 9.725268508547941, 10.907360093910077, 9.37612118560688, 8.919690084347655, 7.774530728575486, 7.77194008847286, 7.3616985363399685, 6.970133576920204, 6.9396912376756115, 21.237289936589928, 43.47036481215427, 6.55145312746423, 6.520630011721614, 6.5206293935779485, 33.31805484292914, 26.188586082183342, 35.9608786338062, 84.72296861623501, 42.0748387274949, 55.56586379090727, 34.55006709258331, 20.41194204167569, 50.81897539266201, 125.65147722385505, 32.85349515246698, 62.81434498788276, 104.92817621780515, 21.254100971720206, 105.7602272626294, 74.60140511293795, 257.06638752179606, 28.632886853408984, 49.29862384874143, 132.26923429532496, 272.7537067000622, 42.5244121429277, 75.32635411368173, 62.50886827863062, 46.03230821324659, 41.02410576179594, 42.322081358296046, 35.72086828389285, 35.33509718505096, 33.26088397158302, 39.15524234662255, 33.443649272910385, 20.3114005357745, 17.949808840509853, 17.206757971950953, 15.889992259077827, 13.201484604126987, 12.375633725748447, 11.139843100522238, 10.42974494138644, 9.115404879165188, 40.81122398671493, 8.781858767808197, 8.03306029190793, 7.626937324909372, 7.626479598528346, 7.624182589931271, 14.596019524974425, 6.802494329111952, 6.761733944465294, 6.427094674810085, 6.424929299943502, 6.421496651253369, 6.015583699888459, 6.012528002335642, 5.644039717219711, 5.643075200976293, 5.629703008963784, 23.32827810479833, 5.605374702228421, 72.92420594290549, 5.227214329597065, 22.95115943364327, 13.21760614610135, 111.0349567685679, 98.69205915492239, 48.73332960885653, 51.26564187587656, 20.319772441033752, 125.95777976622246, 35.71047197700636, 121.69990246625579, 31.576416543961553, 55.79918892757885, 45.64458959634662, 74.39627313101235, 22.19472739804478, 12.070108247267102, 41.92130320265158, 77.5267577894719, 172.15055444318963, 54.711238538408075, 44.751543288563056, 34.275331640313155, 410.89602042621897, 37.61987428461671, 247.5608476736477, 92.81520185025825, 75.36335024882426, 46.257682072802204, 41.73302867460003, 35.2968476823752, 68.57032217994006, 43.744789371040476, 37.25392533382898, 60.683532691019025, 38.27199735883326, 37.906924370688444, 36.044723525491754, 55.94408741305838, 21.552555640967658, 19.916626438054372, 19.147477040142334, 37.219637683459226, 15.661439207211393, 21.132466707341734, 14.854138592772593, 12.138427847706138, 32.583688626096034, 11.400405811883308, 10.597803361639833, 10.19505139163779, 10.154526801471185, 9.425056288183123, 9.381814644039137, 9.050034463111814, 9.020576919625924, 8.652532165281299, 8.614232500441204, 8.611305819451662, 8.259373555067603, 8.59616229211813, 30.925623530447826, 6.703990607595685, 29.900991886228248, 6.30081128638859, 6.286070368874554, 5.7803541989008815, 33.52735206178968, 36.24903762654613, 97.64945165828107, 37.68708252872535, 23.356524735827705, 122.92903702373235, 30.895897880311185, 47.738152551730664, 109.34757461114548, 27.646493856328142, 26.393462336273576, 51.001895783094994, 15.880883601161994, 12.301588738421328, 27.45691726302028, 60.73623288602454, 34.93846034274944, 74.86200578083496, 29.83702955660312, 33.51405469166197, 52.79342041086394, 71.45450340346478, 115.02360473355591, 49.37250910220936, 46.929863181556385, 34.71086478686669, 52.6254812838329, 45.23208231412755, 31.326657098762187, 29.247678956427364, 28.692775562439007, 28.930879459532278, 23.582662778608803, 22.983930404954307, 23.09760966880509, 19.783704555440412, 18.754435014319405, 16.338798985833034, 35.27390341957104, 13.731829869442517, 11.070974257911331, 10.325261641820072, 10.32399174585304, 33.34865940757156, 7.702541414808764, 7.307720857241758, 8.32864098954487, 6.9124806682103985, 6.915165052259522, 6.908976666900375, 6.5229923377995185, 6.157722400834169, 6.128003613316086, 6.128002827489373, 5.411471886358359, 5.40597620724608, 66.06585361561562, 5.311396854550438, 12.353474885408772, 12.522799324582294, 4.262576337741444, 4.260909599284713, 27.95616877253479, 129.5184876491713, 19.65116859380193, 23.601675070085527, 22.64520451558946, 96.36584171340218, 16.89103870788263, 37.61912465967751, 16.25591941414306, 13.787912750243992, 18.422621256715704, 20.56603748215029, 62.778105530195646, 45.59365955944493, 70.00359983774533, 46.10890413153415, 119.72127798319708, 140.63842598369763, 54.99134863828605, 18.282310325586, 29.111403192326254, 32.49501270672294, 38.89267000596189, 33.56218109852343, 23.66299312844416, 20.762621464145838, 26.578947736446853, 23.18410247171809, 24.08631012007831, 20.204829090547317, 79.73122194607004, 120.5418469530302, 30.1930233685996, 21.437119779925748, 19.527699641499005, 19.86436389379847, 17.258083335013755, 11.960917446209098, 12.047367521457513, 64.12419902927317, 9.258126551623937, 8.857457703448636, 8.490948817434619, 8.118895440199237, 8.01375912705904, 15.720973169350852, 8.54085235812938, 5.797302550725462, 5.0402034053402085, 5.021574881944189, 19.933998772713696, 3.887461642427578, 3.8874589126879138, 3.887458522725104, 3.8874554030226305, 3.887453843171394, 3.1305797063270555, 3.1289461521192696, 3.1264843169047194, 3.1220401057495435, 17.04328558029527, 20.7026279484789, 7.074672527833905, 13.590367685390742, 30.888046284200566, 85.99205301003879, 149.25445294917003, 32.413668145504104, 11.364321923578661, 11.125169431573699, 22.349390976538285, 13.485884169993163, 47.18419587892312, 27.252073607247347, 100.3302617337613, 62.28443560767898, 73.8238094965357, 32.373820185807666, 15.431761151527445, 143.396213250026, 32.44266889969953, 106.67877515545558, 49.376753974456996, 25.990770097878407, 25.000029024945153, 23.153438134487285, 32.004341343038696, 30.155655572369746, 22.552684828385036, 21.311027645344158, 21.87115930553649, 68.87858454115707, 24.55086351750711, 24.513461778041304, 23.18094080791116, 19.285614481329343, 15.323068450753917, 74.0597859781387, 13.476218436879044, 13.476218436879044, 13.476218436879044, 11.882374862667536, 11.062218084935258, 10.656448718762348, 9.839839042409434, 9.142504505482593, 8.696471437010313, 7.8771218627371695, 7.546612734526406, 7.508004783712723, 7.470975145353688, 6.756396642498235, 6.731805156302581, 6.360745538872415, 6.3260174147663735, 6.32565450134125, 6.325583624939961, 6.306076864273874, 5.95202167678648, 5.949485220388471, 5.917021859808828, 16.773006679828175, 14.510979770035124, 6.876805804344946, 17.56976111987533, 31.106851885254695, 26.42005534809966, 104.79677592589245, 44.209118553773166, 28.823754996389333, 13.340200060174208, 23.500322997382405, 21.44974401810386, 62.48623665872809, 21.089076324881322, 19.985866763442612, 127.55881095166201, 24.322607379679326, 139.83627318805992, 31.93922434200186, 21.571211732129093, 36.46342253944244, 15.75179980215579, 26.899749457080787, 22.312983147612726, 16.109184867977852, 16.464023633457284, 56.01911408565876, 35.318166808528034, 18.733835732479722, 15.586423327213623, 12.73892140837787, 12.124657052755408, 11.043386801561091, 9.386479401720035, 7.770545302671107, 7.037704932662861, 7.734670439523292, 4.920912064841201, 4.113449541985431, 4.113433710183512, 4.113429826911343, 4.1134268397789056, 4.113390695476412, 4.11335873315933, 3.3422107793461744, 3.304741384903225, 3.299403976663911, 57.99319759741888, 2.91897085468226, 2.109241247663053, 1.6883100776600775, 7.628197688347744, 9.86943897421406, 6.206389559867214, 7.354798002300159, 6.581706620123168, 21.241049498301038, 58.92813659447119, 51.20233674343428, 76.43894113424395, 68.46225561434085, 17.61604718981055, 27.167522643995028, 17.642356657467026, 13.559095972034639, 8.108391773631139, 9.029107240869081, 8.55701186905022, 42.38435046442347, 15.216012930699495, 13.99456730789036, 11.444619625418255, 9.478463963147249, 9.92645616332797], \"Total\": [1534.0, 678.0, 245.0, 417.0, 308.0, 467.0, 223.0, 595.0, 381.0, 290.0, 534.0, 574.0, 394.0, 4190.0, 430.0, 365.0, 6668.0, 207.0, 1035.0, 168.0, 352.0, 852.0, 138.0, 237.0, 200.0, 732.0, 133.0, 422.0, 181.0, 123.0, 96.50286355920174, 39.428807512015005, 31.871751934695503, 21.10248960603626, 21.030279400450556, 20.459606205649703, 20.161764190011667, 16.948434606554738, 16.232211639421877, 16.19370537432499, 15.05356431225963, 14.637044606235756, 14.571344706081147, 27.631501567461225, 14.077128312153473, 14.077119663399657, 14.153148794340035, 13.815164247566893, 13.854853439710835, 13.696883971666079, 13.430530332131193, 13.43463480251488, 13.359250432966517, 12.643423421558449, 12.631277682566962, 12.191955497938356, 11.814716708492105, 11.423586425595433, 11.393963696471682, 11.397171098707995, 31.316315022448947, 76.69441019301097, 65.35711675735921, 24.019150074370433, 117.01555530858067, 21.66558513516714, 636.6136655104237, 266.27505764542076, 37.406176245746515, 120.89268974681679, 86.34914568103494, 30.68926905467598, 6668.733866066498, 196.2023459605585, 64.9771342839349, 143.6205531756068, 74.9849744540754, 33.68030952670451, 371.5659909672097, 42.140934373595314, 94.75184756847673, 164.78561677390113, 4190.590611746676, 64.87595270848178, 483.51088378562997, 313.30383570476545, 130.04703316399076, 179.72585861812902, 78.76490453605136, 620.1235624988559, 286.79709621170286, 471.3294805494931, 1534.5767073527534, 888.0859134765371, 441.9967232785897, 311.3103630726997, 732.0227957382712, 295.3596846460921, 392.2276054013076, 1156.8584583057523, 1035.0069491114969, 364.7642366990849, 466.4357178463284, 551.0560556499963, 852.5359639924443, 47.58931643151698, 28.404465447353665, 26.494437584170747, 24.092894122950003, 22.851171038527205, 21.53438908038243, 19.237648431341896, 78.19177932124354, 16.39363270876947, 14.090770860521781, 13.656802008410473, 13.617133962302187, 13.356075749815071, 23.303031877880766, 12.560408351520511, 12.130949518511569, 11.249697335428984, 11.214822241303347, 10.955536664006623, 38.33721903038188, 56.161631791803764, 10.505586134133234, 110.34434937673493, 35.098298977348534, 10.158465874583731, 10.165663172930845, 10.132575817110466, 10.124186689642942, 10.089403079837687, 10.125510273874664, 89.65230837519614, 105.64499411574509, 23.20406766854651, 25.09050385104555, 16.77097619967874, 55.9534946750169, 26.571756350138198, 135.8501311647863, 417.41117820400706, 31.205764694170753, 35.89492863253809, 48.773895901519055, 237.49871676493854, 124.45204582486868, 33.013176394100924, 38.65470711452863, 214.8349642650266, 139.4807822424763, 1035.0069491114969, 122.94555443845135, 57.777299547009285, 430.70540379417815, 206.02565767953533, 112.65244391349465, 422.81523403799247, 6668.733866066498, 153.07183893329918, 4190.590611746676, 163.87377339804513, 214.45860059519768, 101.9578803257899, 325.3752667460164, 133.04654406694578, 1156.8584583057523, 160.39299833824137, 226.58553877257916, 852.5359639924443, 441.9967232785897, 551.0560556499963, 888.0859134765371, 201.2187021634628, 1534.5767073527534, 145.6256459923446, 51.37666866815672, 42.96638397234205, 39.44654413767652, 32.88247050923564, 33.285865253101896, 27.011254924092796, 22.797248051031286, 18.506442972707287, 18.17899965676583, 16.92741940625802, 15.753346810074142, 14.465499529312694, 13.943888414884826, 14.213578906870973, 12.667231172190899, 11.901562722597038, 11.866445129883939, 25.19550505156097, 11.751086700910365, 12.193825169228807, 30.221899199091016, 11.129468489054847, 21.46345004922292, 10.7293866765631, 10.72928636077832, 10.729357823326799, 10.684130245272403, 10.326107192229642, 44.589155900192814, 115.97396577743203, 22.52570899279956, 21.248958653231522, 66.21059396334354, 45.688649397323715, 163.93429027303964, 137.70182428339032, 489.98802448908907, 106.80231567106004, 197.06432650859918, 295.3596846460921, 394.1186880407001, 392.2276054013076, 298.97923044905224, 99.8297306292202, 194.9203371263031, 339.2545677144881, 146.0095357768795, 188.8040776294372, 219.3230260740419, 119.64005832078035, 1156.8584583057523, 390.0943062898666, 595.9850672317818, 6668.733866066498, 364.7642366990849, 732.0227957382712, 230.61606967047288, 574.4846591478596, 170.53083363596113, 4190.590611746676, 219.71915708185801, 164.16947297828426, 534.6703304321857, 163.87377339804513, 206.78390359380631, 888.0859134765371, 290.1852079882151, 466.4357178463284, 36.287302302373746, 54.00444990684818, 53.23673988731574, 27.329713535214935, 25.427777268582506, 24.662528175653023, 25.0287620549018, 23.091384938457878, 20.423781703178644, 15.265397306445923, 14.977014231402897, 14.574281785201865, 13.807159814087463, 50.91452383334321, 13.03326047681426, 12.637706575871862, 12.637707470034323, 12.599604986246757, 51.29575144386979, 11.864110044200897, 10.697063393236402, 65.57329144229176, 9.894636999993889, 9.894683194101459, 9.892609441424023, 22.41896635649328, 9.12164531797717, 8.759598152878693, 8.754092797432854, 8.683146026518214, 59.18385832938369, 678.5474967100004, 135.2172657278084, 467.2269257024058, 76.54779582608487, 89.61268040781785, 595.9850672317818, 394.1186880407001, 53.630272714507214, 96.03701817190594, 32.48882982655426, 28.097800318102323, 343.8722093591395, 210.7717338486701, 207.14063243482715, 6668.733866066498, 158.71009752727082, 130.884460200336, 4190.590611746676, 1156.8584583057523, 325.3752667460164, 230.61606967047288, 311.3103630726997, 620.1235624988559, 202.4036569781217, 1534.5767073527534, 852.5359639924443, 471.3294805494931, 636.6136655104237, 888.0859134765371, 19.55980106751433, 16.830232634701698, 44.981681893124396, 16.45657295891651, 16.120428546485858, 33.88910852037968, 15.3013212909883, 15.222225564432703, 14.920496471021709, 13.19975025640237, 12.905435490210042, 12.905315067481999, 12.416465318615934, 12.416463977419971, 12.043751951367847, 22.421404854964667, 11.70121189794174, 10.881108391174632, 10.511562126865394, 10.470377533509437, 10.432118706233881, 10.134739471694624, 8.903799516746723, 8.903799925118866, 8.451715128004173, 8.115546281936899, 8.040844932367206, 8.04084500598071, 7.744573028430511, 7.741483844074446, 32.30499884601918, 48.541240530449464, 84.23527799804292, 21.947814550624706, 24.940574053687182, 124.91337900338603, 175.49906783823891, 55.446806149832035, 96.65773224057635, 254.77788048548962, 471.3294805494931, 282.02398299777275, 223.66366526089598, 153.6135904090032, 105.15720735077346, 328.90103834861793, 163.4599167850001, 50.990595333821865, 29.032695022673337, 85.8922650954011, 6668.733866066498, 852.5359639924443, 92.78152175589092, 332.82630852254664, 343.8722093591395, 4190.590611746676, 111.79138735922946, 483.51088378562997, 227.80278334919197, 210.7717338486701, 241.12309771762426, 1156.8584583057523, 364.7642366990849, 888.0859134765371, 422.81523403799247, 636.6136655104237, 179.72585861812902, 256.49619052660586, 620.1235624988559, 1035.0069491114969, 678.5474967100004, 207.71188020728601, 88.0469590226608, 41.32357920355096, 26.3448488585344, 20.545460271332477, 17.83078523058546, 16.58060254122696, 16.132665943212114, 15.419542031081965, 15.301721911783291, 14.924874796912688, 14.886468115665977, 14.883739618241362, 14.471224162834039, 13.678775087541437, 13.263690475999427, 11.793113168577454, 11.399366928444662, 11.304014920874192, 11.303378156578388, 11.006400692445599, 10.966987538549235, 10.955959252556477, 10.47393677966849, 20.87240026434143, 10.097390218798056, 10.097389660309124, 9.797742998954167, 9.75840192102902, 9.34480400999257, 59.912788010169315, 18.577030411960287, 16.93072569561025, 1534.5767073527534, 29.95717587282323, 574.4846591478596, 55.95662248052565, 176.86728995983304, 228.26569211925096, 58.67741349751576, 190.61940370911742, 201.2187021634628, 30.487165067024872, 63.174867611102655, 50.34075363638466, 551.0560556499963, 57.03317477110998, 4190.590611746676, 73.70970428150206, 64.40100306538189, 1156.8584583057523, 371.5659909672097, 328.90103834861793, 6668.733866066498, 90.57464234426585, 441.9967232785897, 1035.0069491114969, 83.91448838699225, 134.44051807498744, 222.12708124004996, 466.4357178463284, 282.02398299777275, 888.0859134765371, 266.27505764542076, 286.79709621170286, 199.68889884831182, 390.0943062898666, 636.6136655104237, 471.3294805494931, 207.14063243482715, 35.79380457556608, 19.979890129988256, 18.693120330144875, 67.33359612340784, 13.423688011635322, 308.6310730201684, 12.134325690773808, 12.906155223265875, 10.106968212314525, 10.067524751635412, 10.802989913213235, 9.67632466555487, 8.035070038110765, 16.180395247839023, 24.122854454256732, 8.344374145221932, 7.528433357086731, 16.613718677712335, 15.71344349096413, 19.56264856532816, 7.175562722661432, 6.790627916232459, 6.789028455738073, 6.78446311674119, 6.770315787267341, 6.749009515122313, 6.748912249850156, 6.710226802041135, 12.950527401637677, 31.348174289254143, 37.17398474855553, 62.74500813276529, 14.970439635299323, 137.7286011812586, 54.47279156443197, 158.73517662900744, 175.53889920215565, 49.17264061878506, 19.06900984431536, 365.62133333599286, 352.68490803464795, 19.48002565639529, 138.31043347220148, 115.02439422833164, 146.0735824205671, 104.04253132218042, 534.6703304321857, 466.4357178463284, 47.229409497787316, 173.67391136559598, 98.85056774012656, 6668.733866066498, 122.31296246980483, 732.0227957382712, 298.97923044905224, 390.0943062898666, 4190.590611746676, 124.72482392004761, 222.12708124004996, 158.15101067229898, 381.4071291305814, 1534.5767073527534, 888.0859134765371, 1035.0069491114969, 620.1235624988559, 489.98802448908907, 441.9967232785897, 34.444318009772104, 30.517730401774983, 25.239577675976918, 27.301349887500887, 14.674265228198458, 14.335264196945717, 13.566635821643816, 13.531916871214099, 12.765048443514901, 12.61198508275557, 12.312113952319585, 11.812046143287095, 12.728464755410537, 11.53843411219859, 11.508046860562871, 10.70891579404959, 10.629705167351592, 11.925189982092474, 10.28055405500879, 9.824807752483911, 8.678954434496855, 8.676430122976912, 8.26611822547881, 7.874551816468674, 7.844112208766661, 24.034654061460788, 49.40990571434169, 7.457402386366458, 7.425052241801082, 7.425052726050144, 38.6011451093197, 32.666796478698124, 47.82454555170366, 139.63242963436787, 69.75698897470438, 105.14637114284896, 59.0208945681662, 30.85055888614961, 134.6650243038493, 534.6703304321857, 71.31243599736887, 206.78390359380631, 551.0560556499963, 37.91351425403956, 620.1235624988559, 381.4071291305814, 4190.590611746676, 69.99583775903677, 206.29406484242014, 1534.5767073527534, 6668.733866066498, 158.71766868758718, 732.0227957382712, 483.51088378562997, 256.49619052660586, 214.8349642650266, 365.62133333599286, 228.26569211925096, 230.58625135200379, 201.2187021634628, 888.0859134765371, 852.5359639924443, 21.252913480402356, 18.85701454750789, 18.112594501821395, 16.79842032648254, 14.107346334857551, 13.281795234216125, 12.046022788253909, 11.33557744007667, 10.021354015567939, 44.99733437178695, 9.690668116066622, 8.939011975950578, 8.532772315308035, 8.5323140378499, 8.530149467235146, 16.501116407281284, 7.708363080249365, 7.66764048642955, 7.332972492459908, 7.330800934581081, 7.332202533801581, 6.921455938452444, 6.918917773081141, 6.549869405813397, 6.5489087792508895, 6.53557600362227, 27.089195121272528, 6.511228617139974, 85.23180472937904, 6.133081519224679, 27.570037753370375, 16.050250696679512, 167.93493591396327, 147.74108500000128, 70.62069683194306, 75.65578722640183, 26.941373371399326, 210.88179873523652, 52.75608230769212, 243.15772593974864, 49.09179141103094, 99.63719616508257, 80.14303435776411, 157.38509904882298, 33.5346574135776, 15.659931238521919, 91.7028666084378, 227.80278334919197, 852.5359639924443, 152.20318536276244, 111.6855473515137, 76.7812003282512, 6668.733866066498, 99.99844767070253, 4190.590611746676, 620.1235624988559, 483.51088378562997, 165.72293186334193, 188.1589055326739, 123.323680792173, 888.0859134765371, 311.3103630726997, 181.78468485307155, 1534.5767073527534, 219.3230260740419, 371.5659909672097, 313.30383570476545, 57.04351793513509, 22.47281363782786, 20.824920230845965, 20.054798149544876, 39.079286483563365, 16.568727126855936, 22.374590122003443, 15.761538684360678, 13.045686633798875, 35.09491851270561, 12.307733791276897, 11.50503342358777, 11.102257961391931, 11.061788427916152, 10.332242419294579, 10.291012172952124, 9.957244744542104, 9.927817095834587, 9.559753931632061, 9.521462893566941, 9.5193657200068, 9.166565595031823, 9.559505503122551, 34.46114345605503, 7.6112028850287565, 34.14319953395642, 7.208236561402423, 7.193295415586763, 6.6875928907638045, 38.874841279438876, 42.959596815409945, 119.58193389401545, 44.90419711372539, 29.778092798608377, 200.87191362469764, 49.76795286345748, 90.99025460672286, 290.09555539649597, 46.12381837139172, 46.79441069135875, 164.16947297828426, 26.11669228838897, 16.619958398440893, 81.84409974225078, 417.41117820400706, 139.4807822424763, 732.0227957382712, 115.02439422833164, 153.07183893329918, 466.4357178463284, 1035.0069491114969, 4190.590611746676, 430.70540379417815, 595.9850672317818, 226.58553877257916, 1534.5767073527534, 852.5359639924443, 219.71915708185801, 214.45860059519768, 245.69185739139596, 371.5659909672097, 24.50228148383168, 23.896344773653038, 24.152124944618475, 20.738234913229224, 19.663637984037326, 17.37337075765764, 37.59959025454203, 14.641001180788448, 11.98481973098704, 11.233983806329285, 11.232713758514853, 36.50562132336203, 8.611252166870317, 8.216457212885784, 9.366691280500335, 7.821363475588957, 7.824438751265833, 7.817849459286001, 7.431745087001983, 7.066438754449122, 7.0367156918908815, 7.036715651289582, 6.320180091362269, 6.31468709782387, 77.53072704199707, 6.244915096270314, 14.773243622362521, 15.139835790655189, 5.171285398214727, 5.169618994395634, 34.56569714817854, 168.47319106401125, 24.683761718415724, 30.185449130393398, 30.139973113411184, 148.8453141441907, 23.24452467496272, 61.301103432364414, 22.704147344001534, 19.773298858616602, 33.9701801403232, 44.306630827753544, 290.1852079882151, 199.68889884831182, 534.6703304321857, 339.2545677144881, 4190.590611746676, 6668.733866066498, 1035.0069491114969, 45.44408521645946, 207.14063243482715, 328.90103834861793, 888.0859134765371, 1156.8584583057523, 170.20508534590644, 83.91448838699225, 441.9967232785897, 230.58625135200379, 1534.5767073527534, 381.4071291305814, 80.64030120037361, 123.81606123570778, 31.10444151113716, 22.347392802223627, 20.43727031028131, 20.79349095077672, 18.16657966530766, 12.869354987504252, 13.083886671568617, 69.98099783172458, 10.166532967910861, 9.76587314970835, 9.40756397029239, 9.027288047231389, 8.922179773581943, 17.733889111124775, 9.81241242209516, 6.705690404542093, 5.948637779579181, 5.949847780768107, 23.634364061442934, 4.795869640033131, 4.79587000853334, 4.79587000960407, 4.795870282597346, 4.795870159032756, 4.038990709820712, 4.037349647452648, 4.034875091529838, 4.030520145790008, 22.86792199910242, 30.002272786323648, 9.792201833790134, 20.483117801186236, 53.52700197127939, 181.78468485307155, 381.4071291305814, 61.34449722607448, 17.72279706680582, 17.30422631377117, 42.540400839885, 22.345014204699034, 133.04654406694578, 61.37392308305765, 430.70540379417815, 237.49871676493854, 417.41117820400706, 101.9578803257899, 34.483834548845884, 6668.733866066498, 206.29406484242014, 4190.590611746676, 852.5359639924443, 153.07183893329918, 170.20508534590644, 133.26365373422672, 678.5474967100004, 1156.8584583057523, 214.45860059519768, 158.71766868758718, 467.2269257024058, 71.27767691478664, 25.45740542373392, 25.42026626929488, 24.24199958336844, 20.192242717486067, 16.229689719551846, 78.73640194306313, 14.382829340867433, 14.382829353463217, 14.382829394611171, 12.788967356124335, 11.968778005021955, 11.563296346818, 10.746533463622313, 10.049046603156327, 9.603038428291264, 8.783740564276354, 8.45336416812899, 8.41462026055624, 8.377604364566928, 7.662987169033017, 7.638420723588695, 7.267355168625921, 7.232574607554978, 7.232210609263483, 7.232140622121849, 7.229940056864625, 6.858592044959023, 6.856034506097992, 6.823589508926138, 20.085654573744456, 17.392524156800295, 8.002028825870106, 23.519755768956138, 56.585366896620286, 45.90961906656661, 290.09555539649597, 94.86775724448641, 55.88852479414654, 20.0892778722483, 48.52250242913244, 53.38527614512168, 422.81523403799247, 63.84377690224331, 58.84586185769661, 4190.590611746676, 99.70825959241758, 6668.733866066498, 241.12309771762426, 83.27564074508581, 888.0859134765371, 47.11179890004735, 1035.0069491114969, 852.5359639924443, 88.68118436525843, 471.3294805494931, 56.952812284783356, 36.23929464151585, 19.64678292569113, 16.491840813761012, 13.642940103223042, 13.098052537996356, 11.94743193927374, 10.290556310722243, 8.674463920661996, 7.941488967430271, 8.749034779584344, 5.824753824894092, 5.017328115068103, 5.017327263213466, 5.017326688921322, 5.017327016322989, 5.017325681027129, 5.017324992607182, 4.246018894609507, 4.208567469075226, 4.208132331353274, 74.5112523204371, 3.82275380156926, 3.013024126179565, 2.5920966221270687, 12.335972964278657, 16.60571283098502, 10.680278303087878, 12.714283427511345, 12.889499361633852, 44.820174536539255, 133.26365373422672, 138.31043347220148, 245.69185739139596, 223.66366526089598, 46.12381837139172, 152.20318536276244, 134.6650243038493, 76.7812003282512, 26.684080976544962, 35.21170785328157, 33.91497579435278, 4190.590611746676, 222.12708124004996, 313.30383570476545, 137.70182428339032, 852.5359639924443, 6668.733866066498], \"Category\": [\"Default\", \"Default\", \"Default\", \"Default\", \"Default\", \"Default\", \"Default\", \"Default\", \"Default\", \"Default\", \"Default\", \"Default\", \"Default\", \"Default\", \"Default\", \"Default\", \"Default\", \"Default\", \"Default\", \"Default\", \"Default\", \"Default\", \"Default\", \"Default\", \"Default\", \"Default\", \"Default\", \"Default\", \"Default\", \"Default\", \"Topic1\", \"Topic1\", \"Topic1\", \"Topic1\", \"Topic1\", \"Topic1\", \"Topic1\", \"Topic1\", \"Topic1\", \"Topic1\", \"Topic1\", \"Topic1\", \"Topic1\", \"Topic1\", \"Topic1\", \"Topic1\", \"Topic1\", \"Topic1\", \"Topic1\", \"Topic1\", \"Topic1\", \"Topic1\", \"Topic1\", \"Topic1\", \"Topic1\", \"Topic1\", \"Topic1\", \"Topic1\", \"Topic1\", \"Topic1\", \"Topic1\", \"Topic1\", \"Topic1\", \"Topic1\", \"Topic1\", \"Topic1\", \"Topic1\", \"Topic1\", \"Topic1\", \"Topic1\", \"Topic1\", \"Topic1\", \"Topic1\", \"Topic1\", \"Topic1\", \"Topic1\", \"Topic1\", \"Topic1\", \"Topic1\", \"Topic1\", \"Topic1\", \"Topic1\", \"Topic1\", \"Topic1\", \"Topic1\", \"Topic1\", \"Topic1\", \"Topic1\", \"Topic1\", \"Topic1\", \"Topic1\", \"Topic1\", \"Topic1\", \"Topic1\", \"Topic1\", \"Topic1\", \"Topic1\", \"Topic1\", \"Topic1\", \"Topic1\", \"Topic1\", \"Topic1\", \"Topic1\", \"Topic1\", \"Topic1\", \"Topic2\", \"Topic2\", \"Topic2\", \"Topic2\", \"Topic2\", \"Topic2\", \"Topic2\", \"Topic2\", \"Topic2\", \"Topic2\", \"Topic2\", \"Topic2\", \"Topic2\", \"Topic2\", \"Topic2\", \"Topic2\", \"Topic2\", \"Topic2\", \"Topic2\", \"Topic2\", \"Topic2\", \"Topic2\", \"Topic2\", \"Topic2\", \"Topic2\", \"Topic2\", \"Topic2\", \"Topic2\", \"Topic2\", \"Topic2\", \"Topic2\", \"Topic2\", \"Topic2\", \"Topic2\", \"Topic2\", \"Topic2\", \"Topic2\", \"Topic2\", \"Topic2\", \"Topic2\", \"Topic2\", \"Topic2\", \"Topic2\", \"Topic2\", \"Topic2\", \"Topic2\", \"Topic2\", \"Topic2\", \"Topic2\", \"Topic2\", \"Topic2\", \"Topic2\", \"Topic2\", \"Topic2\", \"Topic2\", \"Topic2\", \"Topic2\", \"Topic2\", \"Topic2\", \"Topic2\", \"Topic2\", \"Topic2\", \"Topic2\", \"Topic2\", \"Topic2\", \"Topic2\", \"Topic2\", \"Topic2\", \"Topic2\", \"Topic2\", \"Topic2\", \"Topic2\", \"Topic3\", \"Topic3\", \"Topic3\", \"Topic3\", \"Topic3\", \"Topic3\", \"Topic3\", \"Topic3\", \"Topic3\", \"Topic3\", \"Topic3\", \"Topic3\", \"Topic3\", \"Topic3\", \"Topic3\", \"Topic3\", \"Topic3\", \"Topic3\", \"Topic3\", \"Topic3\", \"Topic3\", \"Topic3\", \"Topic3\", \"Topic3\", \"Topic3\", \"Topic3\", \"Topic3\", \"Topic3\", \"Topic3\", \"Topic3\", \"Topic3\", \"Topic3\", \"Topic3\", \"Topic3\", \"Topic3\", \"Topic3\", \"Topic3\", \"Topic3\", \"Topic3\", \"Topic3\", \"Topic3\", \"Topic3\", \"Topic3\", \"Topic3\", \"Topic3\", \"Topic3\", \"Topic3\", \"Topic3\", \"Topic3\", \"Topic3\", \"Topic3\", \"Topic3\", \"Topic3\", \"Topic3\", \"Topic3\", \"Topic3\", \"Topic3\", \"Topic3\", \"Topic3\", \"Topic3\", \"Topic3\", \"Topic3\", \"Topic3\", \"Topic3\", \"Topic3\", \"Topic3\", \"Topic3\", \"Topic3\", \"Topic3\", \"Topic4\", \"Topic4\", \"Topic4\", \"Topic4\", \"Topic4\", \"Topic4\", \"Topic4\", \"Topic4\", \"Topic4\", \"Topic4\", \"Topic4\", \"Topic4\", \"Topic4\", \"Topic4\", \"Topic4\", \"Topic4\", \"Topic4\", \"Topic4\", \"Topic4\", \"Topic4\", \"Topic4\", \"Topic4\", \"Topic4\", \"Topic4\", \"Topic4\", \"Topic4\", \"Topic4\", \"Topic4\", \"Topic4\", \"Topic4\", \"Topic4\", \"Topic4\", \"Topic4\", \"Topic4\", \"Topic4\", \"Topic4\", \"Topic4\", \"Topic4\", \"Topic4\", \"Topic4\", \"Topic4\", \"Topic4\", \"Topic4\", \"Topic4\", \"Topic4\", \"Topic4\", \"Topic4\", \"Topic4\", \"Topic4\", \"Topic4\", \"Topic4\", \"Topic4\", \"Topic4\", \"Topic4\", \"Topic4\", \"Topic4\", \"Topic4\", \"Topic4\", \"Topic4\", \"Topic4\", \"Topic5\", \"Topic5\", \"Topic5\", \"Topic5\", \"Topic5\", \"Topic5\", \"Topic5\", \"Topic5\", \"Topic5\", \"Topic5\", \"Topic5\", \"Topic5\", \"Topic5\", \"Topic5\", \"Topic5\", \"Topic5\", \"Topic5\", \"Topic5\", \"Topic5\", \"Topic5\", \"Topic5\", \"Topic5\", \"Topic5\", \"Topic5\", \"Topic5\", \"Topic5\", \"Topic5\", \"Topic5\", \"Topic5\", \"Topic5\", \"Topic5\", \"Topic5\", \"Topic5\", \"Topic5\", \"Topic5\", \"Topic5\", \"Topic5\", \"Topic5\", \"Topic5\", \"Topic5\", \"Topic5\", \"Topic5\", \"Topic5\", \"Topic5\", \"Topic5\", \"Topic5\", \"Topic5\", \"Topic5\", \"Topic5\", \"Topic5\", \"Topic5\", \"Topic5\", \"Topic5\", \"Topic5\", \"Topic5\", \"Topic5\", \"Topic5\", \"Topic5\", \"Topic5\", \"Topic5\", \"Topic5\", \"Topic5\", \"Topic5\", \"Topic5\", \"Topic5\", \"Topic5\", \"Topic5\", \"Topic5\", \"Topic5\", \"Topic5\", \"Topic5\", \"Topic6\", \"Topic6\", \"Topic6\", \"Topic6\", \"Topic6\", \"Topic6\", \"Topic6\", \"Topic6\", \"Topic6\", \"Topic6\", \"Topic6\", \"Topic6\", \"Topic6\", \"Topic6\", \"Topic6\", \"Topic6\", \"Topic6\", \"Topic6\", \"Topic6\", \"Topic6\", \"Topic6\", \"Topic6\", \"Topic6\", \"Topic6\", \"Topic6\", \"Topic6\", \"Topic6\", \"Topic6\", \"Topic6\", \"Topic6\", \"Topic6\", \"Topic6\", \"Topic6\", \"Topic6\", \"Topic6\", \"Topic6\", \"Topic6\", \"Topic6\", \"Topic6\", \"Topic6\", \"Topic6\", \"Topic6\", \"Topic6\", \"Topic6\", \"Topic6\", \"Topic6\", \"Topic6\", \"Topic6\", \"Topic6\", \"Topic6\", \"Topic6\", \"Topic6\", \"Topic6\", \"Topic6\", \"Topic6\", \"Topic6\", \"Topic6\", \"Topic6\", \"Topic6\", \"Topic6\", \"Topic6\", \"Topic6\", \"Topic6\", \"Topic6\", \"Topic6\", \"Topic6\", \"Topic6\", \"Topic6\", \"Topic6\", \"Topic6\", \"Topic7\", \"Topic7\", \"Topic7\", \"Topic7\", \"Topic7\", \"Topic7\", \"Topic7\", \"Topic7\", \"Topic7\", \"Topic7\", \"Topic7\", \"Topic7\", \"Topic7\", \"Topic7\", \"Topic7\", \"Topic7\", \"Topic7\", \"Topic7\", \"Topic7\", \"Topic7\", \"Topic7\", \"Topic7\", \"Topic7\", \"Topic7\", \"Topic7\", \"Topic7\", \"Topic7\", \"Topic7\", \"Topic7\", \"Topic7\", \"Topic7\", \"Topic7\", \"Topic7\", \"Topic7\", \"Topic7\", \"Topic7\", \"Topic7\", \"Topic7\", \"Topic7\", \"Topic7\", \"Topic7\", \"Topic7\", \"Topic7\", \"Topic7\", \"Topic7\", \"Topic7\", \"Topic7\", \"Topic7\", \"Topic7\", \"Topic7\", \"Topic7\", \"Topic7\", \"Topic7\", \"Topic7\", \"Topic7\", \"Topic7\", \"Topic7\", \"Topic7\", \"Topic7\", \"Topic7\", \"Topic7\", \"Topic7\", \"Topic7\", \"Topic7\", \"Topic7\", \"Topic7\", \"Topic7\", \"Topic8\", \"Topic8\", \"Topic8\", \"Topic8\", \"Topic8\", \"Topic8\", \"Topic8\", \"Topic8\", \"Topic8\", \"Topic8\", \"Topic8\", \"Topic8\", \"Topic8\", \"Topic8\", \"Topic8\", \"Topic8\", \"Topic8\", \"Topic8\", \"Topic8\", \"Topic8\", \"Topic8\", \"Topic8\", \"Topic8\", \"Topic8\", \"Topic8\", \"Topic8\", \"Topic8\", \"Topic8\", \"Topic8\", \"Topic8\", \"Topic8\", \"Topic8\", \"Topic8\", \"Topic8\", \"Topic8\", \"Topic8\", \"Topic8\", \"Topic8\", \"Topic8\", \"Topic8\", \"Topic8\", \"Topic8\", \"Topic8\", \"Topic8\", \"Topic8\", \"Topic8\", \"Topic8\", \"Topic8\", \"Topic8\", \"Topic8\", \"Topic8\", \"Topic8\", \"Topic8\", \"Topic8\", \"Topic8\", \"Topic8\", \"Topic8\", \"Topic8\", \"Topic8\", \"Topic8\", \"Topic8\", \"Topic8\", \"Topic9\", \"Topic9\", \"Topic9\", \"Topic9\", \"Topic9\", \"Topic9\", \"Topic9\", \"Topic9\", \"Topic9\", \"Topic9\", \"Topic9\", \"Topic9\", \"Topic9\", \"Topic9\", \"Topic9\", \"Topic9\", \"Topic9\", \"Topic9\", \"Topic9\", \"Topic9\", \"Topic9\", \"Topic9\", \"Topic9\", \"Topic9\", \"Topic9\", \"Topic9\", \"Topic9\", \"Topic9\", \"Topic9\", \"Topic9\", \"Topic9\", \"Topic9\", \"Topic9\", \"Topic9\", \"Topic9\", \"Topic9\", \"Topic9\", \"Topic9\", \"Topic9\", \"Topic9\", \"Topic9\", \"Topic9\", \"Topic9\", \"Topic9\", \"Topic9\", \"Topic9\", \"Topic9\", \"Topic9\", \"Topic9\", \"Topic9\", \"Topic9\", \"Topic9\", \"Topic9\", \"Topic9\", \"Topic9\", \"Topic9\", \"Topic9\", \"Topic9\", \"Topic9\", \"Topic9\", \"Topic9\", \"Topic9\", \"Topic9\", \"Topic9\", \"Topic9\", \"Topic9\", \"Topic9\", \"Topic10\", \"Topic10\", \"Topic10\", \"Topic10\", \"Topic10\", \"Topic10\", \"Topic10\", \"Topic10\", \"Topic10\", \"Topic10\", \"Topic10\", \"Topic10\", \"Topic10\", \"Topic10\", \"Topic10\", \"Topic10\", \"Topic10\", \"Topic10\", \"Topic10\", \"Topic10\", \"Topic10\", \"Topic10\", \"Topic10\", \"Topic10\", \"Topic10\", \"Topic10\", \"Topic10\", \"Topic10\", \"Topic10\", \"Topic10\", \"Topic10\", \"Topic10\", \"Topic10\", \"Topic10\", \"Topic10\", \"Topic10\", \"Topic10\", \"Topic10\", \"Topic10\", \"Topic10\", \"Topic10\", \"Topic10\", \"Topic10\", \"Topic10\", \"Topic10\", \"Topic10\", \"Topic10\", \"Topic10\", \"Topic10\", \"Topic10\", \"Topic10\", \"Topic10\", \"Topic10\", \"Topic10\", \"Topic10\", \"Topic10\", \"Topic10\", \"Topic10\", \"Topic10\", \"Topic10\", \"Topic10\", \"Topic11\", \"Topic11\", \"Topic11\", \"Topic11\", \"Topic11\", \"Topic11\", \"Topic11\", \"Topic11\", \"Topic11\", \"Topic11\", \"Topic11\", \"Topic11\", \"Topic11\", \"Topic11\", \"Topic11\", \"Topic11\", \"Topic11\", \"Topic11\", \"Topic11\", \"Topic11\", \"Topic11\", \"Topic11\", \"Topic11\", \"Topic11\", \"Topic11\", \"Topic11\", \"Topic11\", \"Topic11\", \"Topic11\", \"Topic11\", \"Topic11\", \"Topic11\", \"Topic11\", \"Topic11\", \"Topic11\", \"Topic11\", \"Topic11\", \"Topic11\", \"Topic11\", \"Topic11\", \"Topic11\", \"Topic11\", \"Topic11\", \"Topic11\", \"Topic11\", \"Topic11\", \"Topic11\", \"Topic11\", \"Topic11\", \"Topic11\", \"Topic11\", \"Topic11\", \"Topic11\", \"Topic11\", \"Topic11\", \"Topic11\", \"Topic11\", \"Topic11\", \"Topic11\", \"Topic11\", \"Topic12\", \"Topic12\", \"Topic12\", \"Topic12\", \"Topic12\", \"Topic12\", \"Topic12\", \"Topic12\", \"Topic12\", \"Topic12\", \"Topic12\", \"Topic12\", \"Topic12\", \"Topic12\", \"Topic12\", \"Topic12\", \"Topic12\", \"Topic12\", \"Topic12\", \"Topic12\", \"Topic12\", \"Topic12\", \"Topic12\", \"Topic12\", \"Topic12\", \"Topic12\", \"Topic12\", \"Topic12\", \"Topic12\", \"Topic12\", \"Topic12\", \"Topic12\", \"Topic12\", \"Topic12\", \"Topic12\", \"Topic12\", \"Topic12\", \"Topic12\", \"Topic12\", \"Topic12\", \"Topic12\", \"Topic12\", \"Topic12\", \"Topic12\", \"Topic12\", \"Topic12\", \"Topic12\", \"Topic12\", \"Topic12\", \"Topic12\", \"Topic12\", \"Topic12\", \"Topic12\", \"Topic12\", \"Topic12\", \"Topic12\", \"Topic12\", \"Topic12\", \"Topic12\", \"Topic12\", \"Topic12\", \"Topic13\", \"Topic13\", \"Topic13\", \"Topic13\", \"Topic13\", \"Topic13\", \"Topic13\", \"Topic13\", \"Topic13\", \"Topic13\", \"Topic13\", \"Topic13\", \"Topic13\", \"Topic13\", \"Topic13\", \"Topic13\", \"Topic13\", \"Topic13\", \"Topic13\", \"Topic13\", \"Topic13\", \"Topic13\", \"Topic13\", \"Topic13\", \"Topic13\", \"Topic13\", \"Topic13\", \"Topic13\", \"Topic13\", \"Topic13\", \"Topic13\", \"Topic13\", \"Topic13\", \"Topic13\", \"Topic13\", \"Topic13\", \"Topic13\", \"Topic13\", \"Topic13\", \"Topic13\", \"Topic13\", \"Topic13\", \"Topic13\", \"Topic13\", \"Topic13\", \"Topic13\", \"Topic13\", \"Topic13\", \"Topic13\", \"Topic13\", \"Topic13\", \"Topic13\", \"Topic13\", \"Topic13\", \"Topic13\", \"Topic13\", \"Topic14\", \"Topic14\", \"Topic14\", \"Topic14\", \"Topic14\", \"Topic14\", \"Topic14\", \"Topic14\", \"Topic14\", \"Topic14\", \"Topic14\", \"Topic14\", \"Topic14\", \"Topic14\", \"Topic14\", \"Topic14\", \"Topic14\", \"Topic14\", \"Topic14\", \"Topic14\", \"Topic14\", \"Topic14\", \"Topic14\", \"Topic14\", \"Topic14\", \"Topic14\", \"Topic14\", \"Topic14\", \"Topic14\", \"Topic14\", \"Topic14\", \"Topic14\", \"Topic14\", \"Topic14\", \"Topic14\", \"Topic14\", \"Topic14\", \"Topic14\", \"Topic14\", \"Topic14\", \"Topic14\", \"Topic14\", \"Topic14\", \"Topic14\", \"Topic14\", \"Topic14\", \"Topic14\", \"Topic14\"], \"logprob\": [30.0, 29.0, 28.0, 27.0, 26.0, 25.0, 24.0, 23.0, 22.0, 21.0, 20.0, 19.0, 18.0, 17.0, 16.0, 15.0, 14.0, 13.0, 12.0, 11.0, 10.0, 9.0, 8.0, 7.0, 6.0, 5.0, 4.0, 3.0, 2.0, 1.0, -4.9759, -5.8847, -6.1031, -6.5304, -6.534, -6.5628, -6.5781, -6.7607, -6.8065, -6.8092, -6.8864, -6.9163, -6.9211, -6.2827, -6.9579, -6.9579, -6.9525, -6.978, -6.9752, -6.9872, -7.0082, -7.0082, -7.014, -7.0731, -7.0742, -7.1124, -7.1463, -7.1829, -7.1858, -7.1856, -6.1927, -5.3177, -5.5384, -6.4828, -5.0905, -6.5995, -3.7117, -4.4711, -6.1671, -5.2151, -5.4942, -6.3615, -2.2428, -4.9807, -5.8254, -5.2438, -5.7208, -6.3121, -4.5982, -6.1511, -5.5774, -5.2204, -3.0304, -5.8595, -4.5171, -4.8767, -5.4495, -5.2577, -5.7816, -4.6374, -5.0693, -4.8139, -4.2411, -4.5259, -4.8905, -5.0829, -4.7131, -5.1937, -5.132, -4.7792, -4.8937, -5.2191, -5.194, -5.2348, -5.262, -5.5267, -6.057, -6.1282, -6.227, -6.2817, -6.344, -6.4614, -5.0647, -6.63, -6.7914, -6.8246, -6.8275, -6.8483, -6.2954, -6.9143, -6.9519, -7.0336, -7.037, -7.0625, -5.81, -5.4306, -7.1084, -4.758, -5.9045, -7.1451, -7.1445, -7.1479, -7.1488, -7.1526, -7.1519, -4.9766, -4.8326, -6.3377, -6.266, -6.658, -5.4926, -6.2267, -4.7621, -3.7503, -6.1099, -5.996, -5.7307, -4.3632, -4.9401, -6.0726, -5.9528, -4.538, -4.9086, -3.3032, -5.065, -5.6483, -4.2071, -4.7634, -5.2302, -4.3486, -2.5426, -5.0591, -3.0124, -5.1372, -4.988, -5.406, -4.7963, -5.2695, -4.4412, -5.2734, -5.1511, -4.7877, -5.056, -5.0333, -4.9583, -5.2469, -5.2055, -4.3888, -5.4422, -5.6246, -5.7119, -5.8986, -5.89, -6.1015, -6.2776, -6.496, -6.5145, -6.5897, -6.666, -6.7566, -6.7958, -6.7768, -6.8989, -6.9662, -6.9694, -6.217, -6.98, -6.9445, -6.0371, -7.039, -6.3834, -7.0789, -7.079, -7.079, -7.0836, -7.1209, -5.6625, -4.7226, -6.3659, -6.4252, -5.4231, -5.7793, -4.6595, -4.824, -3.7221, -5.0505, -4.5198, -4.2094, -4.0548, -4.0592, -4.3097, -5.1996, -4.6831, -4.2579, -4.9093, -4.715, -4.6946, -5.1627, -3.6271, -4.3595, -4.1006, -2.6195, -4.4696, -4.0385, -4.7548, -4.2312, -4.9497, -3.3022, -4.8243, -4.9971, -4.4888, -5.011, -4.9519, -4.6596, -4.9602, -4.9489, -5.5792, -5.1871, -5.2025, -5.871, -5.9456, -5.9772, -5.9626, -6.0457, -6.1737, -6.4807, -6.5009, -6.53, -6.5878, -5.285, -6.6496, -6.6828, -6.6828, -6.686, -5.2865, -6.751, -6.8636, -5.0529, -6.9492, -6.9492, -6.9494, -6.1354, -7.0391, -7.0842, -7.0849, -7.094, -5.1748, -2.8179, -4.3994, -3.2536, -5.0371, -5.0394, -3.477, -3.8919, -5.5437, -5.0877, -5.9883, -6.1012, -4.3045, -4.7109, -4.8206, -2.6689, -5.0524, -5.1979, -3.2099, -4.1232, -4.8005, -5.0611, -4.9509, -4.6756, -5.1623, -4.5329, -4.7538, -4.9274, -5.0577, -5.0781, -6.1253, -6.2835, -5.3008, -6.3073, -6.329, -5.5876, -6.3844, -6.3901, -6.4112, -6.5423, -6.5664, -6.5667, -6.6081, -6.6081, -6.641, -6.0222, -6.6779, -6.7512, -6.7889, -6.7933, -6.7973, -6.829, -6.9721, -6.9721, -7.0305, -7.0759, -7.0863, -7.0863, -7.1287, -7.1292, -5.7658, -5.3809, -4.9275, -6.1798, -6.066, -4.6644, -4.3886, -5.4311, -5.0601, -4.3053, -3.8533, -4.2584, -4.4587, -4.7782, -5.0567, -4.236, -4.7686, -5.5965, -6.0146, -5.2829, -2.4411, -3.8666, -5.2721, -4.4925, -4.4804, -2.9636, -5.2115, -4.388, -4.8144, -4.9441, -4.8797, -4.13, -4.7712, -4.4352, -4.73, -4.6873, -5.0851, -5.0084, -4.847, -4.8364, -4.9612, -3.6369, -4.5011, -5.2693, -5.7323, -5.991, -6.1398, -6.2178, -6.2457, -6.2935, -6.3016, -6.3281, -6.3309, -6.3311, -6.361, -6.4213, -6.4543, -6.581, -6.6178, -6.6269, -6.6273, -6.6559, -6.6599, -6.661, -6.7101, -6.0234, -6.7502, -6.7502, -6.7834, -6.7878, -6.8357, -5.0243, -6.172, -6.2691, -2.3835, -5.8162, -3.3317, -5.3685, -4.4705, -4.3268, -5.3704, -4.4802, -4.4398, -5.8738, -5.3734, -5.5778, -4.0534, -5.5238, -2.985, -5.3818, -5.4627, -3.8826, -4.5204, -4.6571, -3.1049, -5.3771, -4.6039, -4.2242, -5.4155, -5.2177, -5.0236, -4.7298, -4.9313, -4.5029, -5.0994, -5.1132, -5.202, -5.0979, -5.068, -5.1349, -5.2445, -5.3129, -5.9164, -5.9858, -4.7176, -6.337, -3.209, -6.4459, -6.3989, -6.6448, -6.6491, -6.5809, -6.6942, -6.8998, -6.2009, -5.8027, -6.8702, -6.9735, -6.184, -6.2405, -6.0238, -7.0282, -7.0916, -7.0918, -7.0926, -7.095, -7.0987, -7.0987, -7.1053, -6.4494, -5.5699, -5.4227, -4.9261, -6.3251, -4.1795, -5.075, -4.0656, -4.0175, -5.2297, -6.1136, -3.4069, -3.4406, -6.102, -4.5163, -4.6983, -4.5806, -4.9783, -3.8937, -3.991, -5.564, -4.7572, -5.1113, -2.5613, -5.0107, -3.9623, -4.4856, -4.3513, -3.2135, -5.0647, -4.809, -4.9651, -4.6658, -4.1913, -4.4824, -4.4618, -4.8061, -4.949, -5.0418, -5.0673, -5.1906, -5.4014, -5.3266, -5.9548, -5.9798, -6.0387, -6.0416, -6.1041, -6.1171, -6.1431, -6.1879, -6.1144, -6.2133, -6.2161, -6.2945, -6.3026, -6.1879, -6.3391, -6.3891, -6.5265, -6.5268, -6.581, -6.6357, -6.6401, -5.5216, -4.8052, -6.6976, -6.7023, -6.7023, -5.0712, -5.312, -4.9949, -4.1379, -4.8379, -4.5597, -5.0349, -5.5612, -4.649, -3.7438, -5.0853, -4.4371, -3.924, -5.5208, -3.9161, -4.2652, -3.028, -5.2228, -4.6794, -3.6925, -2.9687, -4.8272, -4.2555, -4.442, -4.748, -4.8632, -4.832, -5.0016, -5.0124, -5.0729, -4.9098, -5.0675, -5.5336, -5.6572, -5.6994, -5.7791, -5.9644, -6.029, -6.1342, -6.2001, -6.3348, -4.8358, -6.3721, -6.4612, -6.5131, -6.5131, -6.5134, -5.864, -6.6275, -6.6335, -6.6842, -6.6846, -6.6851, -6.7504, -6.7509, -6.8141, -6.8143, -6.8167, -5.3951, -6.821, -4.2553, -6.8909, -5.4114, -5.9632, -3.8349, -3.9527, -4.6584, -4.6077, -5.5331, -3.7088, -4.9693, -3.7432, -5.0923, -4.523, -4.7239, -4.2353, -5.4449, -6.054, -4.8089, -4.1941, -3.3964, -4.5427, -4.7436, -5.0103, -2.5264, -4.9172, -3.0331, -4.0141, -4.2224, -4.7105, -4.8134, -4.9809, -4.3169, -4.7664, -4.927, -4.4391, -4.9, -4.9096, -4.96, -4.2351, -5.189, -5.2679, -5.3073, -4.6427, -5.5083, -5.2087, -5.5612, -5.7631, -4.7757, -5.8258, -5.8988, -5.9376, -5.9416, -6.0161, -6.0207, -6.0567, -6.06, -6.1016, -6.1061, -6.1064, -6.1481, -6.1082, -4.8279, -6.3568, -4.8616, -6.4188, -6.4212, -6.505, -4.7471, -4.6691, -3.6781, -4.6302, -5.1086, -3.4479, -4.8289, -4.3938, -3.565, -4.94, -4.9864, -4.3276, -5.4944, -5.7498, -4.9469, -4.153, -4.7059, -3.9438, -4.8637, -4.7475, -4.2931, -3.9904, -3.5144, -4.3601, -4.4108, -4.7124, -4.2963, -4.4477, -4.815, -4.8837, -4.9028, -4.8946, -4.9637, -4.9894, -4.9845, -5.1393, -5.1927, -5.3306, -4.561, -5.5045, -5.7199, -5.7896, -5.7897, -4.6172, -6.0826, -6.1352, -6.0045, -6.1909, -6.1905, -6.1914, -6.2488, -6.3065, -6.3113, -6.3113, -6.4357, -6.4367, -3.9335, -6.4543, -5.6102, -5.5966, -6.6743, -6.6747, -4.7935, -3.2604, -5.146, -4.9629, -5.0042, -3.556, -5.2974, -4.4967, -5.3357, -5.5004, -5.2106, -5.1005, -3.9846, -4.3044, -3.8756, -4.2932, -3.339, -3.178, -4.117, -5.2182, -4.7531, -4.6431, -4.4634, -4.6108, -4.9603, -5.091, -4.8441, -4.9807, -4.9425, -5.1183, -3.738, -3.3246, -4.709, -5.0515, -5.1448, -5.1277, -5.2684, -5.635, -5.6278, -3.9558, -5.8911, -5.9354, -5.9776, -6.0224, -6.0355, -5.3616, -5.9718, -6.3592, -6.4992, -6.5029, -5.1242, -6.7589, -6.7589, -6.7589, -6.7589, -6.7589, -6.9754, -6.9759, -6.9767, -6.9782, -5.2809, -5.0864, -6.1601, -5.5073, -4.6863, -3.6624, -3.111, -4.6381, -5.6862, -5.7074, -5.0098, -5.515, -4.2626, -4.8115, -3.5082, -3.9849, -3.815, -4.6393, -5.3802, -3.151, -4.6372, -3.4468, -4.2172, -4.8589, -4.8978, -4.9745, -4.6508, -4.7103, -5.0008, -5.0574, -5.0315, -3.7117, -4.7433, -4.7448, -4.8007, -4.9846, -5.2146, -3.6391, -5.3431, -5.3431, -5.3431, -5.4689, -5.5405, -5.5778, -5.6576, -5.7311, -5.7811, -5.88, -5.9229, -5.928, -5.933, -6.0335, -6.0372, -6.0939, -6.0993, -6.0994, -6.0994, -6.1025, -6.1603, -6.1607, -6.1662, -5.1242, -5.2691, -6.0159, -5.0778, -4.5066, -4.6699, -3.292, -4.1551, -4.5828, -5.3532, -4.787, -4.8783, -3.8091, -4.8953, -4.949, -3.0954, -4.7526, -3.0035, -4.4802, -4.8726, -4.3477, -5.1871, -4.6519, -4.8388, -5.1646, -5.1428, -3.1312, -3.5925, -4.2266, -4.4105, -4.6123, -4.6617, -4.7551, -4.9177, -5.1066, -5.2056, -5.1112, -5.5634, -5.7427, -5.7427, -5.7427, -5.7427, -5.7427, -5.7427, -5.9503, -5.9616, -5.9632, -3.0966, -6.0857, -6.4106, -6.6332, -5.1251, -4.8675, -5.3313, -5.1616, -5.2726, -4.101, -3.0806, -3.2211, -2.8204, -2.9306, -4.2881, -3.8549, -4.2866, -4.5499, -5.064, -4.9565, -5.0102, -3.4101, -4.4346, -4.5183, -4.7194, -4.9079, -4.8617], \"loglift\": [30.0, 29.0, 28.0, 27.0, 26.0, 25.0, 24.0, 23.0, 22.0, 21.0, 20.0, 19.0, 18.0, 17.0, 16.0, 15.0, 14.0, 13.0, 12.0, 11.0, 10.0, 9.0, 8.0, 7.0, 6.0, 5.0, 4.0, 3.0, 2.0, 1.0, 1.9183, 1.9045, 1.899, 1.8839, 1.8838, 1.8825, 1.8818, 1.8729, 1.8703, 1.8699, 1.8658, 1.8639, 1.8636, 1.8621, 1.8613, 1.8613, 1.8613, 1.86, 1.8599, 1.8594, 1.858, 1.8577, 1.8576, 1.8535, 1.8534, 1.8506, 1.8481, 1.8452, 1.8449, 1.8448, 1.8269, 1.8062, 1.7455, 1.8021, 1.611, 1.7885, 1.2959, 1.4082, 1.6748, 1.4538, 1.5112, 1.6783, 0.4158, 1.2039, 1.4643, 1.2528, 1.4257, 1.6347, 0.9478, 1.5716, 1.3351, 1.1387, 0.0928, 1.4317, 0.7656, 0.8399, 1.1464, 1.0147, 1.3157, 0.3964, 0.7357, 0.4943, -0.1134, 0.1488, 0.4819, 0.6401, 0.1549, 0.5818, 0.3599, -0.3689, -0.3721, 0.3454, 0.1247, -0.0829, -0.5465, 2.0745, 2.0602, 2.0587, 2.0549, 2.0531, 2.0501, 2.0455, 2.0399, 2.0369, 2.0268, 2.0249, 2.0249, 2.0235, 2.0198, 2.0189, 2.0161, 2.0098, 2.0095, 2.0074, 2.0073, 2.0049, 2.0035, 2.0022, 2.0011, 2.0004, 2.0002, 2.0001, 2.0, 1.9997, 1.9968, 1.9913, 1.971, 1.9817, 1.9752, 1.9861, 1.9466, 1.9572, 1.7901, 1.6793, 1.9132, 1.8871, 1.8459, 1.6304, 1.6998, 1.8943, 1.8563, 1.5559, 1.6172, 1.2184, 1.587, 1.7589, 1.1912, 1.3723, 1.5092, 1.0682, 0.116, 1.3738, 0.1108, 1.2275, 1.1076, 1.4332, 0.8824, 1.3035, -0.0309, 1.1127, 0.8895, -0.0722, 0.3165, 0.1187, -0.2836, 0.9125, -1.0778, 2.0939, 2.0823, 2.0788, 2.0769, 2.0722, 2.0686, 2.066, 2.0595, 2.0496, 2.049, 2.0451, 2.0407, 2.0354, 2.0329, 2.0328, 2.0258, 2.0209, 2.0206, 2.0201, 2.0198, 2.0183, 2.0181, 2.0151, 2.014, 2.0118, 2.0118, 2.0118, 2.0114, 2.0082, 2.0038, 1.9877, 1.9832, 1.9823, 1.8478, 1.8626, 1.7048, 1.7147, 1.5473, 1.7423, 1.6604, 1.5662, 1.4323, 1.4327, 1.4537, 1.6607, 1.5081, 1.3792, 1.5708, 1.508, 1.3786, 1.5166, 0.7832, 1.1379, 0.9729, 0.0391, 1.0949, 0.8295, 1.2682, 0.8791, 1.3751, -0.1791, 1.2471, 1.3657, 0.6933, 1.3537, 1.1802, 0.0151, 0.833, 0.3697, 2.2931, 2.2876, 2.2865, 2.2848, 2.2823, 2.2813, 2.2811, 2.2786, 2.2733, 2.2575, 2.2563, 2.2545, 2.2508, 2.2486, 2.2466, 2.2443, 2.2443, 2.244, 2.2396, 2.2392, 2.2302, 2.2277, 2.2226, 2.2226, 2.2226, 2.2185, 2.214, 2.2094, 2.2094, 2.2084, 2.2083, 2.1259, 2.1575, 2.0634, 2.0887, 1.9288, 1.5966, 1.5952, 1.938, 1.8113, 1.9946, 2.0269, 1.319, 1.4021, 1.3098, -0.0103, 1.3443, 1.3916, -0.0868, 0.2871, 0.8782, 0.962, 0.7721, 0.3582, 0.9912, -0.4051, -0.0382, 0.3808, -0.0502, -0.4034, 2.365, 2.3571, 2.3567, 2.3558, 2.3546, 2.3531, 2.3514, 2.3509, 2.3498, 2.3412, 2.3397, 2.3395, 2.3367, 2.3367, 2.3343, 2.3316, 2.3262, 2.3255, 2.3223, 2.3219, 2.3216, 2.3188, 2.3052, 2.3052, 2.2989, 2.294, 2.2929, 2.2929, 2.2881, 2.288, 2.2228, 2.2005, 2.1027, 2.1953, 2.1812, 1.9718, 1.9075, 2.0172, 1.8325, 1.6181, 1.4549, 1.5633, 1.5949, 1.6511, 1.7516, 1.432, 1.5986, 1.9356, 2.0807, 1.7278, 0.2174, 0.849, 1.6614, 1.1636, 1.143, 0.1595, 1.5356, 0.8947, 1.2209, 1.1689, 1.0987, 0.2803, 0.7933, 0.2395, 0.6868, 0.3203, 1.1872, 0.9082, 0.1868, -0.3148, -0.0174, 2.4907, 2.4848, 2.473, 2.4602, 2.4501, 2.443, 2.4377, 2.4372, 2.4347, 2.4342, 2.4326, 2.4324, 2.4324, 2.4306, 2.4267, 2.4245, 2.4153, 2.4124, 2.4117, 2.4114, 2.4093, 2.409, 2.4089, 2.4048, 2.4019, 2.4012, 2.4012, 2.3982, 2.3978, 2.3933, 2.3466, 2.3698, 2.3655, 1.7443, 2.2477, 1.7786, 2.0707, 1.8178, 1.7064, 2.0213, 1.7333, 1.7196, 2.1726, 1.9445, 1.9672, 1.0985, 1.8964, 0.1381, 1.7818, 1.836, 0.5277, 1.0256, 1.0109, -0.4463, 1.5804, 0.7686, 0.2974, 1.6185, 1.3449, 1.0369, 0.5888, 0.8905, 0.1717, 0.7798, 0.6918, 0.965, 0.3994, -0.0604, 0.1733, 0.8859, 2.573, 2.5526, 2.5498, 2.5365, 2.5297, 2.5226, 2.5218, 2.5072, 2.5057, 2.5054, 2.5031, 2.4999, 2.4801, 2.479, 2.4779, 2.472, 2.4715, 2.4696, 2.4688, 2.4664, 2.4648, 2.4567, 2.4566, 2.4565, 2.4562, 2.4557, 2.4557, 2.4548, 2.4532, 2.4487, 2.4255, 2.3985, 2.4326, 2.3589, 2.3911, 2.3309, 2.2784, 2.3387, 2.4021, 2.1552, 2.1576, 2.3924, 2.0179, 2.0203, 1.899, 1.8407, 1.2884, 1.3276, 2.0448, 1.5494, 1.7588, 0.0972, 1.6465, 0.9057, 1.2778, 1.146, -0.0903, 1.5729, 1.2515, 1.4351, 0.8541, -0.0636, 0.1923, 0.0598, 0.2278, 0.3203, 0.3306, 2.8571, 2.8549, 2.834, 2.8302, 2.8228, 2.8213, 2.8175, 2.8171, 2.813, 2.812, 2.8101, 2.8068, 2.8055, 2.8048, 2.8046, 2.7982, 2.7975, 2.7972, 2.7944, 2.7898, 2.7764, 2.7764, 2.7706, 2.7644, 2.7639, 2.7627, 2.7584, 2.7569, 2.7566, 2.7566, 2.7393, 2.6654, 2.6013, 2.3868, 2.3809, 2.2487, 2.351, 2.4734, 1.9119, 1.4383, 2.1114, 1.695, 1.2279, 2.3077, 1.1177, 1.2547, 0.0952, 1.9926, 1.455, 0.4353, -0.3102, 1.5694, 0.6125, 0.8407, 1.1687, 1.2307, 0.7302, 1.0317, 1.0107, 1.0864, -0.2351, -0.3519, 2.8737, 2.8697, 2.8677, 2.8634, 2.8526, 2.8483, 2.8408, 2.8357, 2.8243, 2.8214, 2.8205, 2.8122, 2.8068, 2.8068, 2.8067, 2.7963, 2.794, 2.7933, 2.7872, 2.7871, 2.7864, 2.7787, 2.7786, 2.7702, 2.7701, 2.7698, 2.7695, 2.7692, 2.7631, 2.7592, 2.7357, 2.7248, 2.5053, 2.5156, 2.5481, 2.5298, 2.6369, 2.4037, 2.5288, 2.2269, 2.4777, 2.3392, 2.3561, 2.1697, 2.5063, 2.6586, 2.1363, 1.8412, 1.3192, 1.8959, 2.0045, 2.1125, 0.1322, 1.9414, 0.0901, 1.0197, 1.0603, 1.6429, 1.413, 1.668, 0.3578, 0.9566, 1.3339, -0.3113, 1.1732, 0.6364, 0.7566, 3.1848, 3.1625, 3.1597, 3.158, 3.1555, 3.148, 3.1472, 3.145, 3.1322, 3.13, 3.1277, 3.1221, 3.119, 3.1187, 3.1124, 3.1118, 3.1087, 3.1084, 3.1046, 3.1041, 3.104, 3.1001, 3.098, 3.096, 3.0773, 3.0716, 3.0697, 3.0695, 3.0585, 3.0563, 3.0344, 3.0016, 3.0291, 2.9614, 2.7132, 2.7275, 2.5592, 2.2286, 2.6924, 2.6316, 2.0352, 2.7068, 2.9034, 2.1121, 1.2767, 1.8199, 0.9241, 1.8549, 1.6853, 1.0255, 0.5312, -0.3912, 1.0382, 0.6627, 1.3282, -0.1685, 0.2679, 1.2564, 1.2119, 1.0568, 0.6514, 3.3013, 3.3006, 3.2949, 3.2925, 3.2922, 3.2782, 3.2757, 3.2755, 3.2603, 3.2552, 3.2552, 3.2491, 3.2281, 3.2224, 3.2221, 3.216, 3.216, 3.216, 3.2091, 3.2019, 3.2013, 3.2013, 3.1843, 3.1842, 3.1796, 3.1777, 3.1607, 3.1498, 3.1463, 3.1463, 3.1274, 3.0766, 3.1116, 3.0935, 3.0537, 2.9048, 3.0203, 2.8513, 3.0055, 2.979, 2.7277, 2.5721, 1.8087, 1.8626, 1.3065, 1.3438, -0.2159, -0.5194, 0.4046, 2.429, 1.3773, 1.0249, 0.2113, -0.2005, 1.3665, 1.9429, 0.5284, 1.0424, -0.8148, 0.4016, 3.3358, 3.3203, 3.3174, 3.3055, 3.3016, 3.3014, 3.2958, 3.2739, 3.2646, 3.2597, 3.2535, 3.2495, 3.2446, 3.2411, 3.2397, 3.2266, 3.2083, 3.2015, 3.1814, 3.1775, 3.1768, 3.1371, 3.1371, 3.1371, 3.1371, 3.1371, 3.0923, 3.0922, 3.092, 3.0917, 3.0531, 2.9761, 3.022, 2.9369, 2.7973, 2.5985, 2.4089, 2.7092, 2.9027, 2.9054, 2.7035, 2.8422, 2.3105, 2.5353, 1.8902, 2.0087, 1.6147, 2.1999, 2.5431, -0.4925, 1.4973, -0.3237, 0.4984, 1.5739, 1.429, 1.5969, 0.293, -0.3, 1.0949, 1.3392, 0.2855, 3.4855, 3.4835, 3.4834, 3.475, 3.4738, 3.4623, 3.4585, 3.4546, 3.4546, 3.4546, 3.4462, 3.441, 3.4381, 3.4316, 3.4252, 3.4206, 3.4108, 3.4063, 3.4057, 3.4052, 3.3938, 3.3934, 3.3865, 3.3858, 3.3858, 3.3858, 3.383, 3.378, 3.3779, 3.3772, 3.3395, 3.3386, 3.3682, 3.2281, 2.9214, 2.9672, 2.5016, 2.7562, 2.8576, 3.1103, 2.7947, 2.6079, 1.6078, 2.4121, 2.4399, 0.0277, 2.1089, -0.345, 1.4983, 2.169, 0.327, 2.4242, -0.1303, -0.1233, 1.8141, 0.1654, 4.2903, 4.2811, 4.2592, 4.2504, 4.2383, 4.2296, 4.2281, 4.2149, 4.1968, 4.186, 4.1836, 4.1382, 4.1082, 4.1082, 4.1082, 4.1082, 4.1082, 4.1082, 4.0675, 4.0651, 4.0636, 4.0562, 4.0371, 3.9502, 3.8781, 3.8262, 3.7865, 3.764, 3.7595, 3.6347, 3.5601, 3.4908, 3.3131, 3.1392, 3.123, 3.3443, 2.5836, 2.2743, 2.5729, 3.1157, 2.9459, 2.9297, -0.287, 1.6259, 1.1983, 1.8193, -0.1924, -2.2032]}, \"token.table\": {\"Topic\": [1, 2, 4, 7, 8, 9, 10, 11, 12, 4, 8, 1, 12, 1, 2, 4, 5, 6, 10, 12, 2, 3, 8, 12, 14, 13, 1, 7, 1, 2, 3, 4, 9, 10, 12, 1, 2, 4, 5, 7, 8, 10, 11, 12, 13, 3, 2, 7, 12, 11, 12, 2, 3, 8, 3, 2, 7, 11, 13, 4, 9, 4, 1, 3, 5, 9, 11, 3, 7, 2, 10, 12, 3, 4, 4, 3, 9, 12, 4, 8, 3, 10, 3, 2, 6, 1, 2, 3, 4, 5, 6, 7, 8, 9, 10, 11, 12, 13, 2, 3, 6, 10, 11, 12, 13, 1, 2, 4, 7, 8, 12, 13, 1, 2, 3, 6, 8, 10, 11, 13, 3, 4, 6, 9, 2, 3, 5, 6, 13, 10, 8, 13, 9, 12, 14, 13, 6, 11, 10, 4, 12, 5, 3, 8, 1, 2, 5, 6, 9, 4, 1, 2, 3, 4, 5, 6, 1, 3, 4, 6, 7, 9, 10, 11, 9, 2, 9, 10, 12, 6, 4, 3, 1, 13, 14, 11, 13, 2, 4, 6, 1, 1, 6, 9, 10, 11, 2, 3, 5, 6, 7, 9, 11, 13, 1, 2, 3, 7, 8, 10, 11, 13, 3, 5, 3, 4, 9, 14, 5, 7, 12, 2, 5, 6, 9, 12, 14, 8, 6, 10, 11, 5, 8, 1, 2, 3, 4, 5, 10, 8, 1, 1, 2, 3, 4, 5, 6, 7, 8, 11, 12, 1, 3, 6, 8, 10, 11, 3, 8, 12, 12, 13, 2, 1, 3, 6, 7, 8, 9, 4, 14, 1, 1, 2, 3, 4, 7, 4, 2, 7, 8, 11, 13, 4, 12, 1, 2, 3, 4, 9, 12, 13, 1, 5, 6, 13, 1, 2, 3, 4, 5, 6, 7, 9, 10, 13, 1, 2, 4, 5, 6, 8, 12, 2, 3, 5, 8, 11, 2, 11, 1, 2, 3, 4, 6, 4, 2, 9, 13, 11, 12, 1, 2, 3, 4, 5, 8, 10, 12, 1, 2, 3, 5, 6, 9, 10, 11, 13, 1, 3, 5, 7, 8, 13, 14, 1, 3, 7, 8, 9, 11, 12, 1, 2, 3, 4, 5, 6, 7, 8, 9, 10, 11, 12, 13, 14, 1, 2, 3, 4, 5, 6, 9, 10, 12, 13, 3, 7, 1, 2, 3, 4, 7, 8, 11, 12, 3, 7, 10, 14, 1, 2, 3, 4, 5, 6, 7, 8, 9, 10, 11, 13, 10, 7, 8, 12, 1, 11, 12, 13, 1, 2, 3, 4, 5, 6, 7, 8, 10, 11, 1, 4, 5, 9, 12, 5, 13, 14, 14, 4, 6, 9, 14, 8, 9, 4, 9, 4, 12, 2, 11, 5, 7, 11, 13, 13, 1, 2, 6, 7, 8, 11, 1, 6, 8, 1, 3, 5, 6, 12, 10, 14, 12, 1, 10, 9, 2, 3, 6, 7, 8, 3, 11, 1, 2, 3, 4, 5, 6, 9, 11, 1, 3, 5, 9, 13, 2, 3, 9, 10, 12, 1, 4, 7, 8, 11, 14, 1, 2, 3, 4, 5, 12, 13, 8, 6, 11, 7, 1, 2, 3, 6, 7, 8, 10, 11, 12, 13, 2, 1, 2, 3, 4, 5, 6, 8, 9, 12, 6, 2, 13, 6, 1, 1, 2, 3, 5, 6, 10, 12, 13, 3, 1, 2, 4, 5, 9, 12, 3, 10, 3, 6, 8, 2, 10, 12, 12, 2, 3, 6, 11, 12, 13, 12, 8, 1, 2, 3, 4, 5, 6, 7, 8, 14, 2, 11, 12, 3, 8, 2, 8, 13, 2, 3, 4, 5, 8, 9, 11, 13, 2, 8, 9, 11, 9, 9, 1, 1, 3, 4, 5, 6, 1, 2, 6, 7, 8, 10, 11, 13, 14, 13, 4, 6, 8, 1, 3, 4, 5, 6, 8, 11, 12, 10, 14, 1, 9, 5, 1, 2, 4, 5, 6, 8, 9, 10, 11, 12, 13, 1, 3, 4, 5, 7, 8, 10, 11, 1, 2, 4, 9, 10, 1, 3, 9, 13, 8, 12, 8, 9, 2, 7, 1, 2, 3, 4, 5, 6, 7, 11, 12, 13, 1, 6, 7, 7, 1, 11, 14, 9, 4, 5, 7, 3, 1, 3, 11, 4, 4, 3, 4, 5, 10, 11, 1, 2, 3, 4, 5, 6, 7, 8, 11, 5, 6, 12, 1, 2, 3, 4, 5, 6, 7, 11, 12, 13, 1, 2, 4, 8, 9, 11, 12, 13, 14, 1, 4, 5, 9, 11, 3, 4, 13, 14, 14, 6, 14, 13, 1, 2, 5, 7, 8, 9, 1, 2, 4, 5, 6, 7, 8, 12, 13, 1, 2, 3, 4, 5, 6, 7, 11, 13, 1, 4, 6, 9, 10, 1, 3, 5, 8, 14, 2, 3, 4, 6, 7, 8, 11, 1, 2, 3, 5, 6, 7, 12, 13, 1, 1, 2, 4, 5, 10, 12, 6, 10, 1, 8, 10, 3, 2, 5, 10, 11, 11, 1, 2, 3, 4, 5, 6, 7, 8, 9, 10, 11, 12, 13, 14, 9, 1, 2, 3, 4, 6, 7, 10, 11, 12, 13, 7, 10, 10, 8, 4, 12, 1, 2, 4, 5, 8, 10, 13, 1, 14, 1, 2, 3, 5, 8, 10, 13, 10, 11, 7, 2, 3, 4, 8, 9, 11, 5, 1, 2, 3, 4, 5, 6, 9, 10, 12, 7, 4, 11, 1, 4, 7, 11, 13, 1, 2, 4, 10, 11, 13, 1, 2, 4, 5, 6, 7, 9, 14, 1, 2, 4, 5, 6, 7, 8, 9, 11, 11, 3, 10, 14, 1, 2, 3, 4, 5, 6, 8, 11, 13, 7, 4, 3, 4, 1, 11, 1, 3, 10, 13, 1, 2, 3, 4, 5, 10, 8, 14, 8, 6, 1, 1, 2, 6, 7, 10, 11, 13, 10, 5, 11, 13, 4, 12, 1, 2, 7, 8, 10, 11, 12, 9, 3, 5, 6, 7, 8, 9, 12, 11, 5, 1, 2, 5, 12, 5, 6, 4, 8, 1, 2, 3, 4, 5, 6, 7, 8, 11, 12, 13, 11, 4, 7, 8, 8, 2, 12, 4, 1, 2, 3, 4, 5, 6, 7, 8, 10, 11, 12, 2, 3, 4, 5, 6, 9, 3, 10, 7, 14, 8, 12, 14, 2, 4, 5, 6, 11, 12, 1, 4, 7, 12, 13, 6, 2, 7, 6, 3, 8, 11, 2, 9, 12, 2, 9, 13, 8, 1, 8, 11, 14, 1, 2, 4, 7, 8, 9, 12, 12, 2, 3, 4, 6, 7, 11, 13, 14, 6, 13, 7, 1, 2, 5, 8, 14, 1, 2, 3, 6, 13, 11, 2, 11, 1, 2, 4, 7, 10, 12, 2, 1, 2, 3, 4, 5, 7, 10, 12, 6, 8, 1, 1, 2, 4, 8, 13, 3, 10, 13, 8, 1, 3, 4, 8, 10, 2, 4, 10, 13, 9, 7, 1, 2, 3, 4, 6, 7, 8, 11, 12, 1, 7, 8, 3, 6, 14, 10, 12, 2, 3, 4, 5, 6, 8, 12, 13, 1, 2, 3, 5, 6, 7, 1, 2, 3, 10, 3, 4, 6, 7, 11, 2, 3, 9, 10, 12, 1, 3, 4, 5, 10, 12, 13, 13, 1, 1, 2, 5, 12, 10, 4, 11, 12, 3, 10, 10, 11, 2, 3, 6, 8, 13, 5, 13, 1, 5, 8, 10, 14, 10, 9, 9, 13, 1, 1, 10, 11, 1, 14, 7, 1, 2, 3, 5, 6, 7, 9, 11, 2, 6, 4, 5, 11, 6, 1, 4, 5, 6, 12, 2, 11, 1, 2, 3, 8, 10, 1, 6, 1, 2, 3, 4, 5, 6, 7, 8, 9, 10, 11, 12, 13, 14, 3, 1, 5, 6, 9, 1, 1, 2, 3, 4, 5, 7, 9, 12, 14, 4, 1, 3, 4, 5, 6, 7, 8, 6, 7, 8, 9, 10, 11, 4, 2, 10, 12, 11, 1, 2, 3, 4, 9, 7, 13, 8, 3, 1, 2, 5, 7, 11, 2, 6, 10, 1, 3, 4, 7, 8, 9, 10, 11, 12, 1, 9, 9, 3, 1, 3, 4, 11, 13, 1, 2, 3, 4, 5, 6, 7, 9, 10, 11, 12, 13, 1, 2, 8, 8, 14, 1, 4, 5, 6, 13, 14, 1, 2, 3, 4, 5, 6, 7, 10, 13, 1, 14, 2, 5, 7, 10, 4, 10, 3, 4, 1, 2, 13, 5, 9, 2, 7, 2, 4, 5, 6, 12, 13, 14, 1, 2, 3, 4, 5, 6, 7, 8, 9, 10, 11, 12, 13, 1, 12, 1, 7, 2, 2, 6, 8, 10, 13, 1, 2, 3, 4, 5, 7, 11, 6, 3, 12, 13, 11, 13, 1, 5, 1, 8, 2, 8, 14, 1, 2, 3, 4, 5, 6, 7, 9, 11, 3, 6, 11, 14, 6, 11, 13, 5, 1, 3, 4, 5, 12, 11, 5, 7, 8, 1, 3, 5, 11, 5, 6, 1, 7, 7, 11, 6, 1, 2, 3, 5, 6, 7, 8, 10, 11, 13, 5, 7, 7, 1, 3, 4, 5, 3, 3, 4, 5, 1, 3, 4, 4, 6, 12, 11, 6, 11, 14, 5, 5, 7, 12, 6, 8, 14, 14, 5, 1, 2, 7, 12, 2, 12, 4, 3, 2, 7, 12, 12, 8, 5, 6, 2, 7, 8, 1, 11, 1, 5, 11, 12, 10, 4, 10, 7, 9, 7, 2, 13, 1, 11, 2, 9, 1, 2, 3, 4, 5, 6, 8, 11, 13, 12, 6, 9, 2, 3, 7, 14, 3, 9, 1, 1, 2, 4, 5, 6, 8, 9, 12, 13, 2, 3, 5, 6, 7, 10, 12, 10, 12, 3, 2, 10, 12, 13, 1, 6, 9, 11, 1, 2, 3, 4, 5, 6, 7, 11, 13, 7, 8, 9, 9, 1, 2, 1, 3, 4, 12, 13, 13, 1, 5, 9, 1, 2, 4, 5, 6, 9, 11, 12, 2, 1, 2, 4, 5, 7, 8, 2, 12, 14, 1, 2, 4, 5, 6, 7, 8, 3, 5, 6, 1, 2, 4, 12, 2, 1, 2, 7, 8, 9, 11, 12, 5, 12, 3, 11, 12, 1, 2, 6, 8, 9, 12, 1, 2, 3, 6, 7, 8, 1, 2, 3, 4, 5, 6, 7, 8, 10, 11, 12, 3, 7, 8, 1, 3, 4, 6, 5, 9, 4, 5, 8, 9, 9, 7, 1, 4, 7, 10, 10, 1, 2, 3, 4, 9, 10, 11, 14, 5, 11, 1, 5, 2, 11, 12, 7, 10, 1, 2, 3, 4, 9, 1, 2, 3, 4, 7, 8, 9, 13, 5, 13, 1, 4, 8, 13, 1, 3, 7, 14, 2, 4, 7, 1, 2, 10, 10, 1, 2, 3, 4, 7, 9, 11, 1, 3, 5, 7, 14, 4, 6, 9, 10, 7, 5, 1, 1, 2, 3, 4, 5, 6, 7, 8, 9, 12, 14, 1, 2, 3, 4, 1, 2, 4, 7, 8, 11, 12, 13, 7, 13, 6, 10, 13, 8, 1, 4, 7, 8, 14, 4, 1, 2, 4, 5, 6, 12, 1, 3, 6, 7, 8, 5, 1, 3, 4, 5, 7, 13, 2, 3, 4, 8, 4, 8, 12, 11, 13, 1, 4, 6, 9, 11, 12, 13, 1, 2, 9, 1, 10, 3, 12, 1, 2, 3, 4, 5, 6, 7, 8, 9, 10, 11, 12, 13, 14, 14, 3, 11, 13, 1, 10, 11, 2, 7, 9, 11, 2, 11, 7, 2, 3, 11, 13, 9, 6, 4, 5, 11, 3, 1, 2, 3, 4, 6, 11, 2, 1, 14, 1, 2, 4, 9, 2, 4, 5, 6, 12, 2, 1, 5, 6, 7, 14, 1, 2, 6, 8, 1, 2, 3, 9, 10, 11, 11, 6, 3, 6, 11, 2, 4, 11, 1, 2, 3, 4, 5, 6, 7, 8, 9, 10, 11, 12, 10, 1, 1, 3, 4, 8, 5, 6, 8, 1, 2, 3, 6, 8, 3, 10, 1, 2, 3, 4, 5, 6, 7, 8, 9, 12, 1, 9, 1, 3, 4, 5, 6, 7, 10, 12, 13, 7, 2, 7, 10, 8, 4, 10, 3, 1, 2, 3, 4, 5, 7, 8, 9, 11, 14, 6, 4, 14, 5, 1, 2, 5, 6, 7, 5, 2, 13, 2, 3, 4, 5, 6, 1, 2, 3, 4, 5, 6, 7, 8, 9, 10, 5, 6, 1, 4, 6, 13, 12, 6, 1, 2, 3, 4, 6, 7, 8, 9, 12, 1, 2, 3, 7, 9, 10, 1, 12, 2, 6, 1, 10, 11, 8, 9, 1, 2, 3, 5, 6, 8, 10, 11, 1, 5, 6, 7, 8, 11, 1, 2, 3, 4, 5, 6, 11, 12, 13, 1, 3, 4, 5, 6, 10, 11, 2, 1, 4, 9, 12, 14, 1, 1, 3, 4, 5, 11, 6], \"Freq\": [0.02350106045228221, 0.25263639986203373, 0.06462791624377608, 0.07050318135684663, 0.0998795069221994, 0.1586321580529049, 0.04112685579149387, 0.14100636271369327, 0.1468816278267638, 0.9095836461717149, 0.9606916835008332, 0.3923253540571509, 0.5791469512272227, 0.012841725658211792, 0.032104314145529486, 0.7747841147121115, 0.09417265482688648, 0.004280575219403931, 0.03638488936493341, 0.04708632741344324, 0.2769906035987599, 0.22810990884603755, 0.01629356491757411, 0.439926252774501, 0.01629356491757411, 0.946368787726161, 0.0667983054847678, 0.8683779713019814, 0.01775372047441591, 0.5592421949441012, 0.026630580711623865, 0.09764546260928751, 0.19529092521857502, 0.03550744094883182, 0.07101488189766364, 0.1305613294234421, 0.37303236978126314, 0.03264033235586052, 0.009325809244531578, 0.03264033235586052, 0.05129195084492368, 0.13522423404570788, 0.07926937857851842, 0.10724680631211315, 0.04662904622265789, 0.9020959253834939, 0.33877196793556347, 0.5716776958912633, 0.06351974398791814, 0.7911166972652335, 0.8403576333770534, 0.8178552611140014, 0.15145467798407433, 0.9220381984999118, 0.9359676239837003, 0.8859605486806637, 0.8909568426583626, 0.06363977447559734, 0.8355610620151145, 0.9095793997088448, 0.8668696374510952, 0.9524108107435699, 0.06584642987880862, 0.28094476748291675, 0.30289357744251966, 0.34240143536980483, 0.004389761991920574, 0.8878743841711302, 0.08878743841711302, 0.8079135717715855, 0.16715453209067285, 0.9644924821832371, 0.96256172003357, 0.9415404887785889, 0.91328390416756, 0.19157172239813477, 0.7662868895925391, 0.9618394548248244, 0.9495393075408327, 0.9508875428943191, 0.9957037375657205, 0.8323811169194827, 0.9726342348200476, 0.8920250215778659, 0.8913194206602938, 0.1689025776940926, 0.09233340913943729, 0.12386189030900123, 0.06530899670838247, 0.11372773564735568, 0.0979634950625737, 0.09008137477018271, 0.04391467020046407, 0.0776951857392826, 0.027024412431054814, 0.04391467020046407, 0.013512206215527407, 0.04053661864658222, 0.4899660219844954, 0.01306576058625321, 0.045730162051886236, 0.22211792996630458, 0.006532880293126605, 0.16985488762129172, 0.05226304234501284, 0.11895483860747381, 0.0849677418624813, 0.20392258046995512, 0.18692903209745887, 0.03398709674499252, 0.01699354837249626, 0.3398709674499252, 0.0657128973729599, 0.24532815019238363, 0.0657128973729599, 0.45560942178585534, 0.15771095369510377, 0.004380859824863993, 0.004380859824863993, 0.004380859824863993, 0.05007278244989691, 0.06676370993319587, 0.8679282291315464, 0.8671876436143962, 0.03492747567744174, 0.02328498378496116, 0.5006271513766649, 0.31434728109697563, 0.1164249189248058, 0.9452329017719261, 0.8889394803854545, 0.8256098485323449, 0.6560377143167887, 0.29819896105308574, 0.8814467952683034, 0.8296298860184014, 0.35888424136236546, 0.6198909623531768, 0.9196969395953177, 0.976769052914707, 0.018784020248359748, 0.9042194159402659, 0.9264804907046397, 0.06617717790747425, 0.05686548107387769, 0.01895516035795923, 0.01895516035795923, 0.22746192429551076, 0.6823857728865323, 0.9792505761500238, 0.2606990865807006, 0.03385702423125982, 0.585726519200795, 0.04401413150063777, 0.023699916961881878, 0.05078553634688974, 0.00575791719168994, 0.22455877047590767, 0.01151583438337988, 0.13243209540886863, 0.35123294869308636, 0.17849543294238815, 0.0863687578753491, 0.00575791719168994, 0.8821782615718573, 0.736105288545507, 0.2281926394491072, 0.014722105770910142, 0.014722105770910142, 0.9118274243359674, 0.9171068213264518, 0.9320284372831843, 0.21258724151377154, 0.7653140694495776, 0.04251744830275431, 0.966250498276257, 0.9190579017661229, 0.8331793902444188, 0.032045361163246876, 0.1281814446529875, 0.8982539896390964, 0.07930655697289687, 0.13217759495482811, 0.6741057342696234, 0.06608879747741406, 0.026435518990965624, 0.6018924420487742, 0.01626736329861552, 0.00813368164930776, 0.2440104494792328, 0.01626736329861552, 0.01626736329861552, 0.0813368164930776, 0.00813368164930776, 0.07583708054379153, 0.03102426022246017, 0.0965199206920983, 0.0034471400247177964, 0.041365680296613555, 0.3757382626942398, 0.013788560098871186, 0.3619497025953686, 0.9128612406432015, 0.039689619158400066, 0.3372797439758525, 0.18737763554214026, 0.1499021084337122, 0.2998042168674244, 0.8357839642308826, 0.030954961638180838, 0.12381984655272335, 0.13507058748290177, 0.1275666659560739, 0.02251176458048363, 0.09004705832193452, 0.17259019511704116, 0.4427313700828447, 0.9427543096049681, 0.9327477692073124, 0.940307070040719, 0.05698830727519509, 0.9366050047194107, 0.04460023831997194, 0.0186461852492034, 0.0745847409968136, 0.0559385557476102, 0.6899088542205258, 0.1491694819936272, 0.8710597017345693, 0.9338013476169549, 0.9310422138258713, 0.05637803608747999, 0.18214442428262764, 0.2515327763902953, 0.01301031602018769, 0.043367720067292295, 0.01301031602018769, 0.18214442428262764, 0.15178702023552304, 0.09974575615477228, 0.00433677200672923, 0.5488019635967503, 0.052769419576610604, 0.052769419576610604, 0.01055388391532212, 0.17941602656047606, 0.1477543748145097, 0.9650287592060823, 0.9312527115593272, 0.9357842980461836, 0.8852575433933232, 0.8956073501712262, 0.9876166233157598, 0.026230278254515637, 0.18885800343251258, 0.4668989529303783, 0.19410405908341571, 0.08918294606535317, 0.03147633390541876, 0.8921017892605622, 0.04460508946302811, 0.9775359212181324, 0.7263991507440807, 0.042729361808475336, 0.0256376170850852, 0.0769128512552556, 0.11964221306373093, 0.9207212593769306, 0.01835778874701458, 0.8077427048686415, 0.03671557749402916, 0.05507336624104374, 0.07343115498805831, 0.2042441561098713, 0.7148545463845495, 0.18802790959071555, 0.16116677964918477, 0.21488903953224636, 0.008953709980510264, 0.4029169491229619, 0.017907419961020528, 0.9134818897110748, 0.339918851511263, 0.42042594792182525, 0.1789046586901384, 0.053671397607041524, 0.3740923641536036, 0.0026913119723280836, 0.04575230352957742, 0.005382623944656167, 0.048443615501905506, 0.2287615176478871, 0.09419591903148292, 0.10226985494846717, 0.07804804719751442, 0.0161478718339685, 0.1197094196072068, 0.13231041114480752, 0.1449114026824082, 0.037802974612802145, 0.17011338575760965, 0.27092131805841535, 0.13231041114480752, 0.4210557831752662, 0.4759761027198662, 0.03661354636306663, 0.06712483499895548, 0.8946328577072118, 0.1353798834653051, 0.8122793007918306, 0.11040617706212875, 0.0441624708248515, 0.02208123541242575, 0.4195434728360892, 0.3974622374236635, 0.9271660460850775, 0.8768257556965415, 0.07971143233604923, 0.9242320869467736, 0.7047170614943715, 0.26426889806038933, 0.48419400662567685, 0.1274194754278097, 0.08154846427379821, 0.010193558034224776, 0.11212913837647254, 0.09683880132513537, 0.07135490623957343, 0.010193558034224776, 0.20195695703279523, 0.053146567640209266, 0.40922857082961134, 0.015943970292062782, 0.031887940584125564, 0.22321558408887893, 0.0053146567640209265, 0.053146567640209266, 0.0053146567640209265, 0.014524135830502874, 0.6826343840336351, 0.11619308664402299, 0.014524135830502874, 0.02178620374575431, 0.06535861123726293, 0.0798827470677658, 0.1641414521968462, 0.4878648718072928, 0.06839227174868591, 0.03647587826596582, 0.17326042176333764, 0.013678454349737183, 0.05471381739894873, 0.2204316485742545, 0.1384070827442428, 0.12731052356431435, 0.09731982307802121, 0.11141545230657898, 0.05278363285587591, 0.08187461232758025, 0.04093730616379013, 0.06163088949933238, 0.0028491165461978474, 0.021143443842836656, 0.021443350847699588, 0.02099349034040519, 0.0014995350243146566, 0.14190595600585348, 0.35949508854816214, 0.009460397067056899, 0.06149258093586984, 0.17738244500731684, 0.016555694867349573, 0.04493688606852027, 0.021285893400878022, 0.016555694867349573, 0.14663615453938192, 0.0445542815580747, 0.9356399127195686, 0.002621870236876544, 0.03408431307939507, 0.04457179402690125, 0.10487480947506175, 0.17566530587072846, 0.19664026776574078, 0.05243740473753088, 0.3906586652946051, 0.10871207361073287, 0.04181233600412803, 0.8195217856809094, 0.033449868803302425, 0.1004824171366955, 0.41642232486457464, 0.03671472933840797, 0.02898531263558524, 0.0657000419739932, 0.11111036510307676, 0.07922652120393299, 0.007729416702822731, 0.005797062527117048, 0.06859857323755174, 0.05313973983190627, 0.02608678137202672, 0.9198442624637556, 0.8890321547940138, 0.2889467526219803, 0.6356828557683566, 0.06666161641299681, 0.166654041032492, 0.6999469723364665, 0.033330808206498405, 0.08775724681197287, 0.02040866204929602, 0.5755242697901477, 0.08571638060704327, 0.01020433102464801, 0.004081732409859203, 0.10204331024648008, 0.05102165512324004, 0.03469472548380323, 0.028572126869014426, 0.07025488742579772, 0.20072824978799347, 0.06021847493639804, 0.5620390994063817, 0.11040053738339642, 0.8201272139638915, 0.13668786899398191, 0.9701767183351289, 0.9222471928143632, 0.31257651479003173, 0.05209608579833862, 0.4428167292858783, 0.18233630029418516, 0.22270579592536793, 0.7423526530845598, 0.909770071616662, 0.9131644687511394, 0.9645247174439435, 0.894762453682011, 0.2322497095024035, 0.7631061883650402, 0.723322446765616, 0.13777570414583162, 0.10333177810937372, 0.8748151166695973, 0.9487666197213974, 0.21034199421477395, 0.1542507957575009, 0.07011399807159131, 0.014022799614318264, 0.46275238727250273, 0.08413679768590958, 0.14286563773156577, 0.44288347696785385, 0.4143103494215407, 0.03506730964963037, 0.10520192894889109, 0.22793751272259738, 0.5435432995692707, 0.07013461929926074, 0.6070616221437336, 0.39025389994954307, 0.9397069352050071, 0.8941026420231224, 0.06386447443022303, 0.8152508627721747, 0.02853165513362589, 0.19021103422417263, 0.10461606882329494, 0.14265827566812947, 0.5325908958276834, 0.9613690302678232, 0.9624902979035813, 0.0471622242488578, 0.07663861440439393, 0.48636043756634606, 0.13559139471546616, 0.05305750227996502, 0.0029476390155536124, 0.06190041932662586, 0.13559139471546616, 0.07522564036093239, 0.560013100464719, 0.2925441569591815, 0.041792022422740216, 0.016716808969096088, 0.661218516445927, 0.002395719262485243, 0.011978596312426213, 0.1461388750115998, 0.17728322542390795, 0.1290193302819252, 0.11468384913948906, 0.10034836799705293, 0.6020902079823176, 0.0430064434273084, 0.7128316278743675, 0.16914523759874783, 0.14659253925224813, 0.12403984090574842, 0.1804215867719977, 0.14659253925224813, 0.03382904751974957, 0.1804215867719977, 0.922417170419776, 0.988109083672142, 0.8526705160071205, 0.8843735895909779, 0.1500537067995559, 0.3001074135991118, 0.013240032952901992, 0.022066721588169986, 0.11916029657611793, 0.07944019771741195, 0.15446705111718992, 0.05296013181160797, 0.07061350908214396, 0.03530675454107198, 0.9546795996859054, 0.400610132307012, 0.0166920888461255, 0.09458850346137783, 0.022256118461500666, 0.29489356961488383, 0.02782014807687583, 0.05564029615375166, 0.05564029615375166, 0.02782014807687583, 0.9547508458721583, 0.9463910482964966, 0.03836720466066878, 0.9185789013817448, 0.9491100313494729, 0.2929428306452928, 0.058588566129058564, 0.032549203405032534, 0.4687085290324685, 0.019529522043019523, 0.019529522043019523, 0.058588566129058564, 0.039059044086039045, 0.9146183438511523, 0.13725459845824192, 0.07486614461358651, 0.14973228922717302, 0.012477690768931085, 0.5739737753708299, 0.037433072306793255, 0.08786522765730878, 0.8786522765730879, 0.040477713346849825, 0.06071657002027474, 0.8702708369572713, 0.6273718108021229, 0.1052637266446515, 0.2610540420787357, 0.7427598168784023, 0.4509700001663287, 0.09771016670270455, 0.0676455000249493, 0.007516166669438812, 0.35325983346362416, 0.015032333338877624, 0.89664187485748, 0.916048458833672, 0.07203083888141042, 0.004501927430088151, 0.13955975033273268, 0.1260539680424682, 0.09454047603185116, 0.23410022636458383, 0.2611117909451127, 0.004501927430088151, 0.06752891145132225, 0.0846225434625845, 0.04231127173129225, 0.8462254346258451, 0.932022229537252, 0.921770019692906, 0.036628225495099795, 0.9523338628725948, 0.8793026005083137, 0.581841975432809, 0.02327367901731236, 0.08378524446232449, 0.041892622231162246, 0.19084416794196135, 0.02327367901731236, 0.004654735803462472, 0.04654735803462472, 0.9080932724508718, 0.03561150088042635, 0.017805750440213174, 0.017805750440213174, 0.9214850764425273, 0.9161831691731585, 0.9607898435178255, 0.16131195288458994, 0.11861173006219848, 0.39853541300898687, 0.2894126213517643, 0.028466815214927634, 0.08168416451758345, 0.04455499882777279, 0.029703332551848528, 0.1633683290351669, 0.37871749003606875, 0.12623916334535626, 0.007425833137962132, 0.03712916568981066, 0.1336649964833184, 0.950726206564569, 0.7968877397670711, 0.16982853470445775, 0.026127466877608887, 0.07511684468446259, 0.04507010681067755, 0.24538169263591114, 0.09514800326698594, 0.2153349547621261, 0.020031158582523356, 0.23035832369901862, 0.07010905503883175, 0.9656746639315402, 0.7972374636005558, 0.9947891332893635, 0.9385734328834274, 0.9190240222320297, 0.2762516453071515, 0.06103234024227766, 0.21200707663106977, 0.06103234024227766, 0.1252769089183594, 0.044971198073257224, 0.14133805108737985, 0.032122284338040874, 0.019273370602824524, 0.01284891373521635, 0.01284891373521635, 0.04769832395339098, 0.43362112684900894, 0.25583646484091527, 0.013008633805470267, 0.06504316902735134, 0.10840528171225224, 0.017344845073960356, 0.06070695775886125, 0.08037300652036729, 0.040186503260183644, 0.1808392646708264, 0.06027975489027547, 0.6228908005328465, 0.33961768333121156, 0.14858273645740505, 0.14858273645740505, 0.33961768333121156, 0.2929241562850614, 0.6834896979984766, 0.07383017439412386, 0.8490470055324244, 0.0772169324836565, 0.8493862573202215, 0.1832787806672671, 0.05408226314771816, 0.11417366664518279, 0.057086833322591395, 0.28543416661295695, 0.08412796489645048, 0.1261919473446757, 0.06009140349746463, 0.012018280699492925, 0.02103199122411262, 0.9726481325381264, 0.13450266453327375, 0.8339165201062974, 0.977822849932305, 0.9262858409034908, 0.7735020777195767, 0.9161667328168828, 0.898082233799815, 0.8770347586562477, 0.8705552705957472, 0.8361713543456543, 0.8985155050157507, 0.0505732506826614, 0.2022930027306456, 0.7080255095572596, 0.952736271931433, 0.9138582586588535, 0.5508355608935479, 0.18537735222379018, 0.1535983775568547, 0.005296495777822576, 0.09533692400080637, 0.17292177682235868, 0.0444655997543208, 0.12845617706803789, 0.2667935985259248, 0.07410933292386801, 0.09387182170356614, 0.07410933292386801, 0.1333967992629624, 0.0148218665847736, 0.9197078272648594, 0.9406238189521765, 0.8340509632001617, 0.23762570478177245, 0.03394652925453892, 0.03394652925453892, 0.1442727493317904, 0.3840201121919715, 0.09759627160679939, 0.006364974235226048, 0.006364974235226048, 0.01909492270567814, 0.03394652925453892, 0.19055592864289525, 0.1604681504361223, 0.12035111282709174, 0.04011703760903058, 0.19055592864289525, 0.02005851880451529, 0.010029259402257644, 0.24070222565418348, 0.010029259402257644, 0.23795302731450527, 0.11380362175911121, 0.5586723249992732, 0.04138313518513135, 0.031037351388848514, 0.9320197231630819, 0.4138566249580718, 0.5663301183636772, 0.8584053764866041, 0.9528737868554336, 0.96498302520772, 0.7972373034493319, 0.8295801046742802, 0.05082459227758805, 0.043563936237932616, 0.007260656039655436, 0.784150852282787, 0.007260656039655436, 0.10890984059483154, 0.20736296303954369, 0.13271229634530796, 0.05391437039028136, 0.2695718519514068, 0.09953422225898097, 0.05391437039028136, 0.02073629630395437, 0.029030814825536117, 0.13271229634530796, 0.24334922592909744, 0.007849975029970886, 0.027474912604898098, 0.13344957550950506, 0.4513735642233259, 0.09419970035965063, 0.003924987514985443, 0.011774962544956328, 0.03139990011988354, 0.030779809717328292, 0.7079356234985507, 0.061559619434656584, 0.061559619434656584, 0.09233942915198487, 0.54592842146236, 0.3047042352348056, 0.025392019602900467, 0.08887206861015164, 0.0380880294043507, 0.0695537761866906, 0.2402766813722039, 0.07587684674911702, 0.09484605843639628, 0.3098304575588945, 0.18969211687279255, 0.018969211687279254, 0.12008313488227482, 0.06004156744113741, 0.2041413292998672, 0.22815795627632215, 0.012008313488227482, 0.04803325395290993, 0.04803325395290993, 0.2641828967410046, 0.9491209845167937, 0.02060103922092204, 0.1030051961046102, 0.061803117662766124, 0.8034405296159596, 0.9467931308203924, 0.02558900353568628, 0.8859632049847195, 0.059064213665647965, 0.8262298381441314, 0.09180331534934794, 0.061202210232898624, 0.9452120028457995, 0.9751843863140166, 0.9038587375059715, 0.9065436956706352, 0.8540902823021908, 0.8519486949949637, 0.15964336819843988, 0.13768942219805652, 0.10237220471917895, 0.090202082479836, 0.10499713304531173, 0.09473604958861082, 0.06800950663162238, 0.061327870892375264, 0.05918020226190298, 0.027442432500479202, 0.02863558173963047, 0.025533393717837173, 0.030544620522272505, 0.010022453608870666, 0.9034923207584163, 0.02563482685791707, 0.05126965371583414, 0.38195892018296435, 0.12817413428958535, 0.12304716891800194, 0.23327692440704534, 0.02563482685791707, 0.010253930743166828, 0.015380896114750242, 0.005126965371583414, 0.8837788851700588, 0.9007176769603958, 0.8341100501724041, 0.9386646498782638, 0.9628836158815498, 0.018516992613106728, 0.015663233732728342, 0.14096910359455508, 0.10964263612909839, 0.3445911421200235, 0.015663233732728342, 0.046989701198185026, 0.3289279083872952, 0.9891245122773663, 0.9206999509108456, 0.10540989152119105, 0.06324593491271463, 0.10540989152119105, 0.10540989152119105, 0.010540989152119106, 0.14757384812966748, 0.46380352269324066, 0.9040129509947449, 0.8902568172735279, 0.8890193422539961, 0.10122968105165128, 0.08336561968959517, 0.04763749696548296, 0.07145624544822443, 0.660970270396076, 0.029773435603426848, 0.9400735663914365, 0.05107899693432491, 0.40631020288667546, 0.03714836140678176, 0.048757224346401055, 0.04411367917055333, 0.04643545175847719, 0.01857418070339088, 0.11376685680826913, 0.23217725879238596, 0.8904747507797864, 0.25812530408344964, 0.7313550282364406, 0.7118968870988636, 0.09491958494651513, 0.07118968870988635, 0.023729896236628783, 0.09491958494651513, 0.0894638034984182, 0.07157104279873457, 0.19682036769652006, 0.05367828209905092, 0.05367828209905092, 0.5188900602908256, 0.07297868456559403, 0.04865245637706268, 0.2838059955328657, 0.05676119910657313, 0.2189360536967821, 0.016217485459020894, 0.2838059955328657, 0.7972372121961415, 0.1439394938603454, 0.07402602541389192, 0.1233767090231532, 0.03290045573950752, 0.02467534180463064, 0.01645022786975376, 0.04523812664182284, 0.5017319500274897, 0.03701301270694596, 0.8901561700993328, 0.8715772393659119, 0.8727368955212529, 0.7065441945650834, 0.09425327495360966, 0.003040428224309989, 0.042565995140339846, 0.09425327495360966, 0.37397267159012865, 0.22803211682324917, 0.02432342579447991, 0.09729370317791965, 0.039525566916029854, 0.9684372870355688, 0.9348360042741127, 0.058922283351206396, 0.9231157725022335, 0.8743023768525428, 0.08326689303357551, 0.04377454852314267, 0.7879418734165681, 0.15321091983099933, 0.8298823991359608, 0.6601107579054953, 0.06948534293742056, 0.023161780979140185, 0.023161780979140185, 0.023161780979140185, 0.18529424783312148, 0.324254925945673, 0.648509851891346, 0.9580680328940657, 0.8913194699593747, 0.8774107112539198, 0.1294357161777108, 0.004978296776065799, 0.0647178580888554, 0.13939230972984237, 0.6123305034560933, 0.014934890328197399, 0.029869780656394798, 0.9817066342871474, 0.9722558906975143, 0.9178277393325521, 0.9383087520552222, 0.016152993238838488, 0.9772560909497285, 0.08725408563619844, 0.26660970611060636, 0.07755918723217639, 0.2375250108985402, 0.12118623005027561, 0.04847449202011024, 0.15511837446435278, 0.9129275182357385, 0.22000341517746924, 0.01000015523533951, 0.1000015523533951, 0.11000170758873462, 0.12000186282407413, 0.3800058989429014, 0.060000931412037065, 0.7737514126933506, 0.8705552785656341, 0.059626821247242355, 0.8944023187086353, 0.9298494408894243, 0.834050915537624, 0.9664586250652567, 0.8772416979619417, 0.9213250560992646, 0.8468303754020563, 0.009351556866748883, 0.029924981973596426, 0.24501078990882072, 0.0018703113733497766, 0.0018703113733497766, 0.06920152081394174, 0.2693248377623678, 0.23565923304207184, 0.13092179613448435, 0.0056109341200493296, 0.0018703113733497766, 0.952297160301202, 0.10223564530749164, 0.8690029851136789, 0.9427688437365641, 0.8923890701329754, 0.8803067365227814, 0.10412230216936123, 0.9513455004385036, 0.028366381876335597, 0.0354579773454195, 0.12410292070896825, 0.04609537054904535, 0.42904152587957595, 0.20211047086889114, 0.0496411682835873, 0.028366381876335597, 0.01772898867270975, 0.021274786407251698, 0.021274786407251698, 0.9519066024384051, 0.2792037621827388, 0.011396071925826073, 0.6039918120687818, 0.07407446751786947, 0.028490179814565184, 0.9473262022993857, 0.9454411422690431, 0.3613214356449937, 0.6022023927416562, 0.955852903040923, 0.743517440303843, 0.7972372514262485, 0.03820163212918354, 0.3972969741435088, 0.32853403631097844, 0.11460489638755061, 0.06876293783253036, 0.04584195855502025, 0.18731756622961282, 0.056195269868883846, 0.037463513245922564, 0.3184398625903418, 0.3933668890821869, 0.9965727516087399, 0.09569935308890928, 0.8612941778001836, 0.8560907207305207, 0.7702694832829222, 0.12082658561300741, 0.09061993920975556, 0.31905878125475096, 0.20353749838665147, 0.473087158412217, 0.903490400503843, 0.06692521485213652, 0.022308404950712173, 0.9540511761431999, 0.12244849300139922, 0.7959152045090949, 0.06122424650069961, 0.7972370768391945, 0.037798805075343035, 0.05039840676712405, 0.05039840676712405, 0.7622759023527512, 0.0062998008458905064, 0.03149900422945253, 0.056698207613014556, 0.743061726618808, 0.04087874170519205, 0.01635149668207682, 0.19621796018492182, 0.1716907151618066, 0.3842601720288052, 0.0817574834103841, 0.0817574834103841, 0.024527245023115228, 0.9297905289058137, 0.9038555379702079, 0.8939635334433125, 0.6203849062922749, 0.024815396251690998, 0.1406205787595823, 0.20679496876409165, 0.7129053375170937, 0.13566734661977972, 0.20350101992966957, 0.10853387729582377, 0.48840244783120695, 0.054266938647911885, 0.8526705209269627, 0.8889602963571398, 0.9562187603925916, 0.01630138064893863, 0.08150690324469315, 0.04890414194681589, 0.21191794843620218, 0.1141096645425704, 0.5216441807660361, 0.9067715584187566, 0.0033447139404902764, 0.016723569702451382, 0.5251200886569735, 0.09699670427421803, 0.0434812812263736, 0.2675771152392221, 0.03679185334539304, 0.013378855761961106, 0.9503774948270286, 0.87543919830032, 0.9679439067941202, 0.6001202284540389, 0.09335203553729494, 0.06668002538378211, 0.08001603046053853, 0.13336005076756421, 0.9775083708937637, 0.09957355348599681, 0.8463752046309728, 0.940759865166751, 0.06879366993276508, 0.32383361700057706, 0.48491147830656356, 0.041947359715100656, 0.07886103626438923, 0.9813380607684176, 0.09955559441799733, 0.19911118883599466, 0.6471113637169826, 0.9524705114549469, 0.9297889102067862, 0.019343865409646954, 0.004835966352411738, 0.3965492408977625, 0.10639125975305823, 0.14507899057235213, 0.009671932704823477, 0.30466588020193947, 0.009671932704823477, 0.004835966352411738, 0.7422734633771091, 0.20783656974559053, 0.029690938535084362, 0.26773657452442773, 0.24542519331405874, 0.4685390054177485, 0.9789606390437918, 0.8340509630139508, 0.16575925139815328, 0.07270142605182162, 0.3693232443432538, 0.28208153308106787, 0.0494369697152387, 0.029080570420728643, 0.03198862746280151, 0.9512858332154561, 0.3421587528719756, 0.03719116879043213, 0.18595584395216067, 0.08925880509703712, 0.31984405159771634, 0.02231470127425928, 0.10685036794198417, 0.128220441530381, 0.17096058870717468, 0.5556219132983177, 0.20258718520215876, 0.1191689324718581, 0.41709126365150334, 0.01191689324718581, 0.25025475819090204, 0.6237418417166416, 0.007169446456513122, 0.007169446456513122, 0.25093062597795923, 0.10754169684769682, 0.0273954709787756, 0.5890026260436755, 0.0068488677446939, 0.13697735489387802, 0.1849194291067353, 0.0547909419575512, 0.9409554087593445, 0.8296218575707422, 0.944039987847141, 0.8776577024812406, 0.8655807202552638, 0.07526788871784902, 0.8503795483360777, 0.9516837347158046, 0.9162552195268958, 0.03898958380965514, 0.01949479190482757, 0.935144965123148, 0.9561032632419525, 0.0547860830057996, 0.9039703695956934, 0.8889128037699933, 0.08243597917980502, 0.2266989427444638, 0.20608994794951255, 0.4946158750788301, 0.9559446910448384, 0.044462543769527366, 0.25234861528695995, 0.21164722572454703, 0.10582361286227351, 0.11803402973099739, 0.30933056067433795, 0.8745495436935453, 0.9378499205352163, 0.9160487985721737, 0.9038555413476085, 0.9234843711529884, 0.8769668523357619, 0.046156150122934836, 0.046156150122934836, 0.37452207578181945, 0.5617831136727292, 0.930105211541485, 0.06669391296802628, 0.05130300997540482, 0.5540725077343721, 0.07182421396556675, 0.02052120399016193, 0.0872151169581882, 0.1436484279311335, 0.979500623884224, 0.9356652952797743, 0.8846414366928891, 0.05410591174346817, 0.6673062448361073, 0.2524942548028514, 0.914929710571927, 0.03803828668307231, 0.23773929176920194, 0.5135168702214762, 0.0855861450369127, 0.11411486004921693, 0.16204985470329406, 0.8102492735164702, 0.3054587939598794, 0.07331011055037107, 0.19549362813432283, 0.08552846230876623, 0.3298954974766698, 0.9409550160175705, 0.03619057753913733, 0.0844539151906536, 0.11495116234283406, 0.0598215232600463, 0.0950106545894853, 0.20996181693231936, 0.016421594620404868, 0.030497247152180464, 0.0387080444623829, 0.20175101962211692, 0.0527836969941585, 0.0011729710443146332, 0.05747558117141703, 0.025805362974921933, 0.0105567393988317, 0.9678200169742212, 0.17650313633483575, 0.6275667069683049, 0.19611459592759528, 0.9410474483153716, 0.9676481862809163, 0.20561226253623058, 0.07676191134685942, 0.3646190788975822, 0.03838095567342971, 0.19738777203478136, 0.019190477836714855, 0.08224490501449223, 0.010965987335265631, 0.874588285438218, 0.9495393747240989, 0.040465119133314534, 0.07081395848330044, 0.08093023826662907, 0.10116279783328634, 0.2630232743665445, 0.43500003068313126, 0.010116279783328633, 0.02030579374721645, 0.11506616456755989, 0.10152896873608225, 0.6700911936581428, 0.03384298957869408, 0.054148783325910534, 0.9605962205434392, 0.5198224975906431, 0.1569275464424583, 0.3138550928849166, 0.8953869010211544, 0.05664061924394274, 0.04248046443295705, 0.02832030962197137, 0.1699218577318282, 0.6938475857382985, 0.8213541543641243, 0.15400390394327332, 0.942754248120167, 0.9732043998989375, 0.08903493728150945, 0.11277758722324531, 0.011871324970867927, 0.011871324970867927, 0.7716361231064153, 0.10722591418179599, 0.661226470787742, 0.21445182836359197, 0.06414120099402379, 0.05612355086977082, 0.04810590074551784, 0.36079425559138384, 0.04008825062126487, 0.26458245410034814, 0.04810590074551784, 0.09621180149103568, 0.008017650124252974, 0.06667061597944303, 0.911165085052388, 0.9215056957862138, 0.9242483744689026, 0.020825302972443466, 0.24990363566932158, 0.6039337862008606, 0.052063257431108664, 0.07288856040355213, 0.09220123059758442, 0.29811731226552296, 0.22435632778745543, 0.23664982520046668, 0.009220123059758441, 0.012293497413011256, 0.003073374353252814, 0.01536687176626407, 0.052247364005297836, 0.006146748706505628, 0.036880492239033766, 0.018440246119516883, 0.9423778505163146, 0.08321318022242602, 0.8737383923354731, 0.9533355993575116, 0.784774577627386, 0.11177497234894349, 0.044709988939577394, 0.4426288905018162, 0.04918098783353513, 0.044709988939577394, 0.30402792478912627, 0.1650816973355552, 0.00857567258886001, 0.17794520621884521, 0.06860538071088008, 0.03644660850265504, 0.14793035215783518, 0.28085327728516535, 0.11362766180239513, 0.0021439181472150026, 0.21473266790889098, 0.7784059211697297, 0.06955046408781278, 0.10432569613171917, 0.5564037127025022, 0.26081424032929795, 0.13361779935190166, 0.8462460625620438, 0.51253595967299, 0.4846255856313916, 0.06150831186537562, 0.7791052836280913, 0.14351939435254313, 0.9304963547802143, 0.908104603678522, 0.060191220243877235, 0.9028683036581585, 0.084809350578089, 0.2035424413874136, 0.10742517739891272, 0.5088561034685339, 0.04523165364164746, 0.03957769693644153, 0.9143865810966716, 0.1002715580001765, 0.11928857762089963, 0.26796709465564406, 0.13139031737954163, 0.11842416763813948, 0.14003441720714305, 0.03544080929316583, 0.0008644099827601422, 0.012966149741402134, 0.014694969706922417, 0.029389939413844834, 0.025932299482804268, 0.0034576399310405686, 0.4466342494400286, 0.5171554467200331, 0.7752730407267333, 0.21386842502806436, 0.9627515352673994, 0.021484980300461712, 0.2721430838058484, 0.6087411085130818, 0.021484980300461712, 0.07161660100153905, 0.06596830705141718, 0.17253249536524493, 0.6444596150407678, 0.010148970315602643, 0.04567036642021189, 0.04567036642021189, 0.015223455473403964, 0.9222821598078791, 0.07144796666122047, 0.9145339732636221, 0.8751414530751551, 0.11499193457885876, 0.8624395093414406, 0.956477238173862, 0.929840764312301, 0.10362386889487007, 0.8548969183826781, 0.9149893904830518, 0.9068545805224706, 0.6637849271177085, 0.3033503516917754, 0.08368285563911045, 0.07322249868422163, 0.11506392650377686, 0.11157714085214726, 0.1638789256265913, 0.04184142781955522, 0.08716964129074005, 0.017433928258148008, 0.09840206504621253, 0.7216151436722252, 0.06560137669747503, 0.09840206504621253, 0.9404514147494065, 0.9209496661980635, 0.9038555405560557, 0.898492785920636, 0.06695481010828638, 0.01115913501804773, 0.6807072361009117, 0.11159135018047732, 0.12275048519852505, 0.8006513976444897, 0.8019061612995723, 0.04009530806497861, 0.12028592419493583, 0.1284718627846938, 0.40988641936068976, 0.44047495811895016, 0.012235415503304172, 0.20028590229839136, 0.7677626254771669, 0.9409949651731099, 0.9298083237212559, 0.9065192644667285, 0.7918048705411026, 0.9679703639166564, 0.007797386759989887, 0.11696080139984831, 0.26511114983965617, 0.22222552265971177, 0.015594773519979774, 0.06627778745991404, 0.1793398954797674, 0.02339216027996966, 0.06627778745991404, 0.035088240419954494, 0.8625420590084224, 0.9256696600048575, 0.8941575563697644, 0.04311312428166508, 0.8967529850586337, 0.03449049942533207, 0.02586787456899905, 0.9269835978340369, 0.9318166443015109, 0.04659083221507554, 0.9664587294597452, 0.1903240635855096, 0.6410915826038218, 0.16027289565095545, 0.9150066845859556, 0.07625055704882963, 0.8405285689379645, 0.9290170401440617, 0.8846912720672057, 0.8490839882001838, 0.7715761761838972, 0.913336644960601, 0.22569800832916267, 0.11284900416458134, 0.6206695229051974, 0.25559680426467135, 0.4543943186927491, 0.25559680426467135, 0.983270145115592, 0.888034667801393, 0.1936892629185547, 0.06266417329717947, 0.7234863644310721, 0.01139348605403263, 0.8916770845614255, 0.9920597865974905, 0.9588968062964855, 0.9521786183496969, 0.8578552649622416, 0.035743969373426734, 0.08935992343356684, 0.917205638415095, 0.9514759113065919, 0.9550753989525174, 0.9734510561394641, 0.9153164667741012, 0.054375235649946604, 0.027187617824973302, 0.026596034510753746, 0.930861207876381, 0.9234838037795297, 0.12898111989306085, 0.8512753912942017, 0.9786042703530063, 0.903864495741475, 0.08705456926655991, 0.8995638824211191, 0.06060196021396103, 0.9090294032094155, 0.8711809563325057, 0.9050137372451228, 0.0861917844995355, 0.7820323109436598, 0.19550807773591494, 0.9518745429642849, 0.8182220792686008, 0.0724145708337521, 0.1496567797230877, 0.009655276111166948, 0.366900492224344, 0.033793466389084315, 0.19793316027892244, 0.009655276111166948, 0.14000150361192074, 0.014482914166750422, 0.921576582250485, 0.9380313195589417, 0.8183080012233562, 0.27152969313246883, 0.7022319649977642, 0.009363092866636856, 0.009363092866636856, 0.12460864554681139, 0.809956196054274, 0.9500226581640099, 0.3122990713626781, 0.06825079043025414, 0.012409234623682572, 0.21922981168505878, 0.04550052695350277, 0.13029696354866702, 0.15511543279603215, 0.04136411541227524, 0.014477440394296335, 0.4853764386741869, 0.16502798914922354, 0.019415057546967474, 0.08736775896135364, 0.11649034528180485, 0.08251399457461177, 0.03883011509393495, 0.21864688886888162, 0.7433994221541974, 0.9360836388985048, 0.9129509360671892, 0.0521686249181251, 0.917158662500195, 0.8747781534314644, 0.06816933060911673, 0.6305663081343297, 0.22155032447962936, 0.06816933060911673, 0.14473515135790688, 0.01723037516165558, 0.28257815265115155, 0.13439692626091354, 0.020676450193986697, 0.06202935058196009, 0.12061262613158906, 0.21710272703686032, 0.003446075032331116, 0.14636835372397258, 0.7527515334375733, 0.08363905927084148, 0.8949534939122036, 0.042912870962048495, 0.944083161165067, 0.05799819034530592, 0.11599638069061184, 0.2029936662085707, 0.4349864275897944, 0.17399457103591776, 0.9834672750929238, 0.9022342643770384, 0.9713800224459304, 0.8184644561410219, 0.10906583753525666, 0.2039056962615668, 0.004741992936315507, 0.004741992936315507, 0.07587188698104812, 0.5974911099757539, 0.004741992936315507, 0.004741992936315507, 0.9225896956725198, 0.15121911191489332, 0.006300796329787222, 0.3780477797872333, 0.29613742749999944, 0.012601592659574444, 0.15121911191489332, 0.056389210157668276, 0.9022273625226924, 0.7972375729883618, 0.5933713859538327, 0.015022060403894498, 0.015022060403894498, 0.045066181211683494, 0.18026472484673398, 0.07135478691849886, 0.07135478691849886, 0.09316625074781235, 0.3726650029912494, 0.5124143791129678, 0.8866356730414849, 0.026077519795337793, 0.013038759897668896, 0.06519379948834447, 0.8853332878434556, 0.0032401144519063124, 0.01296045780762525, 0.9266727332452054, 0.022680801163344186, 0.0032401144519063124, 0.0032401144519063124, 0.0259209156152505, 0.9442561754245132, 0.02950800548201604, 0.8970791034828051, 0.06728093276121039, 0.8340509370267711, 0.004969716975848677, 0.30812245250261794, 0.46218367875392696, 0.16400066020300633, 0.03478801883094074, 0.024848584879243383, 0.019145491145526924, 0.04376112261834726, 0.10666773638222145, 0.0711118242548143, 0.6427414884569754, 0.11487294687316156, 0.1693936318949488, 0.03005370888458769, 0.28004592369729436, 0.036884097267448526, 0.06010741776917538, 0.015026854442293845, 0.18442048633724265, 0.10245582574291258, 0.10245582574291258, 0.0027321553531443354, 0.015026854442293845, 0.1220190724861716, 0.7727874590790867, 0.101682560405143, 0.6309912010098748, 0.12312023434339021, 0.15390029292923776, 0.07695014646461888, 0.9513333869227727, 0.9545519496021626, 0.14245812782001863, 0.7360336604034295, 0.09497208521334574, 0.023743021303336435, 0.928728534731106, 0.8388885587073377, 0.23067489511266373, 0.20184053322358075, 0.4709612441883551, 0.09611453963027655, 0.9474042001480422, 0.09855247092397484, 0.09198230619570986, 0.02628065891305996, 0.11826296510876982, 0.36135906005457447, 0.0657016472826499, 0.0657016472826499, 0.17739444766315474, 0.13210182908552195, 0.8586618890558927, 0.9185235164911719, 0.9465534366501013, 0.911725095870085, 0.05698281849188031, 0.9324476643663673, 0.8862215867809234, 0.8971837996129467, 0.14259002979522759, 0.08148001702584434, 0.08148001702584434, 0.020370004256461086, 0.6518401362067547, 0.4551368102891281, 0.20026019652721636, 0.1335067976848109, 0.018205472411565123, 0.06675339884240546, 0.042479435626985286, 0.05461641723469537, 0.030342454019275204, 0.9585780493491066, 0.9372033723707002, 0.16207161816587884, 0.16207161816587884, 0.6482864726635154, 0.9305326255997457, 0.01593752283662232, 0.04781256850986696, 0.8128136646677383, 0.09562513701973392, 0.77610211638945, 0.10348028218526001, 0.077610211638945, 0.0514471553883311, 0.07717073308249665, 0.8746016416016287, 0.8937469875889131, 0.15688836606776943, 0.11464919058798535, 0.04223917547978408, 0.16292253399345288, 0.22326421325028728, 0.27757172458143825, 0.02413667170273376, 0.0273834593067172, 0.39706015994739935, 0.07530451309347229, 0.49974813234758886, 0.9658024623885447, 0.9831767730201472, 0.9534072549334284, 0.9375616393335344, 0.9414712923236676, 0.962921100495612, 0.8984928271299448, 0.9477554721448175, 0.13428760874919257, 0.13791700358025183, 0.12702881908707406, 0.05081152763482963, 0.021776368986355554, 0.2467988485120296, 0.05081152763482963, 0.1905432286306111, 0.005444092246588888, 0.0308498560640037, 0.003629394831059259, 0.6165612731691024, 0.2620385410968685, 0.09248419097536535, 0.01541403182922756, 0.230683386328207, 0.3740811670187141, 0.28679556138101414, 0.006234686116978568, 0.024938744467914272, 0.012469372233957136, 0.024938744467914272, 0.024938744467914272, 0.8652446238524225, 0.061803187418030175, 0.18050586698709353, 0.7220234679483741, 0.9820325199634256, 0.8934290279150329, 0.9300123020432041, 0.1573233232607684, 0.8390577240574314, 0.39325849769723786, 0.550561896776133, 0.9347657539541925, 0.00442120855879032, 0.03094845991153224, 0.8252922643075263, 0.0884241711758064, 0.00294747237252688, 0.04715955796043008, 0.9629200139243176, 0.671000556483883, 0.07930006576627707, 0.15250012647360978, 0.09150007588416587, 0.9506701628716725, 0.43112032701123815, 0.010778008175280953, 0.03233402452584286, 0.47423235971236194, 0.04311203270112381, 0.9164198010699847, 0.09412225947815292, 0.8941614650424526, 0.4220131083811428, 0.5538922047502499, 0.7473894668712026, 0.0711799492258288, 0.17794987306457202, 0.014029637935528014, 0.968045017551433, 0.23990525938450574, 0.010904784517477534, 0.05452392258738767, 0.4580009497340564, 0.0654287071048652, 0.11995262969225287, 0.0654287071048652, 0.07231701126605, 0.6749587718164668, 0.24909192769417224, 0.1396661152519884, 0.8379966915119305, 0.9731628890539784, 0.8340510272861309, 0.2352958619886623, 0.1696845158572084, 0.17194697606863785, 0.00452492042285889, 0.02941198274858279, 0.17873435670292617, 0.10407316972575448, 0.006787380634288335, 0.015837221480006117, 0.00452492042285889, 0.06108642570859502, 0.002262460211429445, 0.002262460211429445, 0.015837221480006117, 0.9670794486742476, 0.323813413840064, 0.5298764953746502, 0.11775033230547782, 0.1656427233665228, 0.03312854467330456, 0.7950850721593095, 0.709621258200917, 0.051923506697628075, 0.17307835565876023, 0.051923506697628075, 0.9553829512674505, 0.9644022301648105, 0.9509561802585933, 0.9505547657653767, 0.03810181727848573, 0.012700605759495243, 0.939844826202648, 0.9376119965242112, 0.9674371595981307, 0.13541991092316633, 0.3836897476156379, 0.47396968823108215, 0.9886797653016703, 0.07390222569817674, 0.013436768308759409, 0.11421253062445497, 0.12093091477883468, 0.020155152463139113, 0.6449648788204516, 0.8882242938465922, 0.70765198670719, 0.26536949501519624, 0.10166146666169829, 0.36216897498230016, 0.06353841666356143, 0.47018428331035456, 0.07395505260496794, 0.8504831049571313, 0.007395505260496794, 0.022186515781490383, 0.03697752630248397, 0.9127804786463863, 0.007230112543902817, 0.0433806752634169, 0.014460225087805634, 0.5567186658805169, 0.36873573973904367, 0.17411987418342934, 0.0949744768273251, 0.5698468609639505, 0.14246171524098764, 0.10355152935313801, 0.00609126643253753, 0.48121004817046487, 0.08527773005552541, 0.31065458805941404, 0.01218253286507506, 0.941905288468909, 0.9127452712702073, 0.39729242324144803, 0.595938634862172, 0.8949846176881445, 0.89846750084254, 0.8955144442430932, 0.08448249473991445, 0.129677453754194, 0.0417053117601428, 0.034537211301368255, 0.06581619512147535, 0.0104263279400357, 0.47179133928661543, 0.06972606809898874, 0.08601720550529453, 0.039750375271386106, 0.034537211301368255, 0.01563949191005355, 0.7443208051282376, 0.960387832380549, 0.9382993516726311, 0.11860206544167758, 0.01694315220595394, 0.27109043529526305, 0.5930103272083879, 0.047910158263321914, 0.9102930070031163, 0.9400669377088362, 0.5082837963361825, 0.0557023338450611, 0.048739542114428464, 0.2019209601883465, 0.18103258499644856, 0.1679086714456631, 0.7723798886500503, 0.5309342515118625, 0.03298703929511571, 0.08796543812030858, 0.09424868370033061, 0.1240941002054353, 0.07696975835527001, 0.03141622790011021, 0.0015708113950055102, 0.007854056975027552, 0.010995679765038572, 0.14508503890282157, 0.834238973691224, 0.20906228646528263, 0.5124575558478269, 0.04844126149805329, 0.00254954007884491, 0.1019816031537964, 0.00764862023653473, 0.06373850197112275, 0.02294586070960419, 0.028044940867294012, 0.8835707204126844, 0.08290892787138956, 0.8705437426495904, 0.9385646791959932, 0.9830350948462121, 0.973136242524111, 0.9414468263895471, 0.9323080917746557, 0.3383297231633213, 0.1819320209463143, 0.04468505777628772, 0.01915073904698045, 0.08937011555257544, 0.10213727491722908, 0.05106863745861454, 0.11490443428188271, 0.012767159364653636, 0.04468505777628772, 0.9489521133426909, 0.3879126612847908, 0.5430777257987072, 0.9149536653573367, 0.4613715402821941, 0.10765335939917862, 0.06920573104232912, 0.023068577014109706, 0.3383391295402757, 0.9091081093886269, 0.8888440934400462, 0.9107737121171541, 0.1280887614093466, 0.1921331421140199, 0.008005547588084163, 0.6404438070467331, 0.02401664276425249, 0.2160859675449717, 0.0741787649781246, 0.027413891404959093, 0.14029462071949655, 0.10804298377248585, 0.01612581847350535, 0.09352974714633103, 0.17093367581915672, 0.14997011180359976, 0.00322516369470107, 0.9383065789526858, 0.9047255755639, 0.3004310289453186, 0.03534482693474336, 0.10603448080423009, 0.5478448174885221, 0.8862019200166709, 0.9085622338703009, 0.011341568376969048, 0.053872449790602975, 0.09356793910999464, 0.03402470513090714, 0.04536627350787619, 0.6436340053929934, 0.002835392094242262, 0.06804941026181428, 0.051037057696360716, 0.08792150362231117, 0.05495093976394449, 0.16485281929183346, 0.14287244338625565, 0.010990187952788897, 0.5275290217338671, 0.358021701249026, 0.5817852645296673, 0.053829916721037326, 0.8612786675365972, 0.07657937605250131, 0.6126350084200105, 0.2680278161837546, 0.9582331368591894, 0.9180522109565502, 0.16419318080490183, 0.10555275908886547, 0.48671550024310184, 0.09382467474565818, 0.0058640421716036365, 0.07036850605924364, 0.0058640421716036365, 0.07623254823084728, 0.17604051136455637, 0.1540354474439868, 0.08802025568227818, 0.13203038352341728, 0.022005063920569546, 0.3960911505702518, 0.08355314495464337, 0.0017406905198884036, 0.2941766978611402, 0.04003588195743328, 0.05918347767620572, 0.48913403608864137, 0.020888286238660844, 0.0034813810397768073, 0.005222071559665211, 0.0773714965312129, 0.427818863172589, 0.050063909520196584, 0.2139094315862945, 0.07282023202937685, 0.14108919955691765, 0.01820505800734421, 0.9546383212671428, 0.035198128322230786, 0.04693083776297438, 0.8564877891742825, 0.035198128322230786, 0.02346541888148719, 0.9240884934971336, 0.9510097140968805, 0.0867912481886131, 0.028930416062871032, 0.057860832125742064, 0.8100516497603889, 0.9727915375024581], \"Term\": [\"10\", \"10\", \"10\", \"10\", \"10\", \"10\", \"10\", \"10\", \"10\", \"1082\", \"150\", \"18\", \"18\", \"19\", \"19\", \"19\", \"19\", \"19\", \"19\", \"19\", \"20\", \"20\", \"20\", \"20\", \"20\", \"2016\", \"2019\", \"2019\", \"2020\", \"2020\", \"2020\", \"2020\", \"2020\", \"2020\", \"2020\", \"2021\", \"2021\", \"2021\", \"2021\", \"2021\", \"2021\", \"2021\", \"2021\", \"2021\", \"2021\", \"2024\", \"22\", \"22\", \"22\", \"2835\", \"300\", \"31\", \"31\", \"42\", \"45\", \"480\", \"5000\", \"5000\", \"556\", \"628\", \"70\", \"92\", \"AI\", \"AI\", \"AI\", \"AI\", \"AI\", \"AR\", \"AR\", \"CBS\", \"CBS\", \"DB\", \"ICT\", \"K-MOOC\", \"KERIS\", \"KT\", \"KT\", \"News\", \"OSE\", \"PC\", \"SW\", \"TF\", \"TP\", \"TV\", \"WM\", \"\\u3134\\ub2e4\", \"\\u3134\\ub2e4\", \"\\u3134\\ub2e4\", \"\\u3134\\ub2e4\", \"\\u3134\\ub2e4\", \"\\u3134\\ub2e4\", \"\\u3134\\ub2e4\", \"\\u3134\\ub2e4\", \"\\u3134\\ub2e4\", \"\\u3134\\ub2e4\", \"\\u3134\\ub2e4\", \"\\u3134\\ub2e4\", \"\\u3134\\ub2e4\", \"\\u3134\\ub2e4\\uace0\", \"\\u3134\\ub2e4\\uace0\", \"\\u3134\\ub2e4\\uace0\", \"\\u3134\\ub2e4\\uace0\", \"\\u3134\\ub2e4\\uace0\", \"\\u3134\\ub2e4\\uace0\", \"\\u3134\\ub2e4\\uace0\", \"\\u3134\\ub2e4\\ub294\", \"\\u3134\\ub2e4\\ub294\", \"\\u3134\\ub2e4\\ub294\", \"\\u3134\\ub2e4\\ub294\", \"\\u3134\\ub2e4\\ub294\", \"\\u3134\\ub2e4\\ub294\", \"\\u3134\\ub2e4\\ub294\", \"\\uac00\\ub2a5\", \"\\uac00\\ub2a5\", \"\\uac00\\ub2a5\", \"\\uac00\\ub2a5\", \"\\uac00\\ub2a5\", \"\\uac00\\ub2a5\", \"\\uac00\\ub2a5\", \"\\uac00\\ub2a5\", \"\\uac00\\uc6b4\\ub370\", \"\\uac00\\uc6b4\\ub370\", \"\\uac00\\uc6b4\\ub370\", \"\\uac00\\uc838\\uc624\", \"\\uac00\\uce58\", \"\\uac00\\uce58\", \"\\uac00\\uce58\", \"\\uac00\\uce58\", \"\\uac00\\uce58\", \"\\uac00\\ud558\", \"\\uac01\\uacc4\", \"\\uac01\\uc624\", \"\\uac04\\ub2f4\\ud68c\", \"\\uac04\\ub2f4\\ud68c\", \"\\uac04\\ubd80\", \"\\uac10\\ub3c5\\uad00\", \"\\uac10\\uc18c\", \"\\uac10\\uc18c\", \"\\uac10\\uc561\", \"\\uac10\\uc5fc\\uc99d\", \"\\uac10\\uc5fc\\uc99d\", \"\\uac15\\ub989\", \"\\uac15\\uc0ac\", \"\\uac15\\uc0ac\", \"\\uac15\\uc5f0\", \"\\uac15\\uc5f0\", \"\\uac15\\uc5f0\", \"\\uac15\\uc5f0\", \"\\uac15\\uc5f0\", \"\\uac15\\uc88c\", \"\\uac15\\ud654\", \"\\uac15\\ud654\", \"\\uac15\\ud654\", \"\\uac15\\ud654\", \"\\uac15\\ud654\", \"\\uac15\\ud654\", \"\\uac1c\\ubc1c\", \"\\uac1c\\ubc1c\", \"\\uac1c\\ubc1c\", \"\\uac1c\\ubc1c\", \"\\uac1c\\ubc1c\", \"\\uac1c\\ubc1c\", \"\\uac1c\\ubc1c\", \"\\uac1c\\ubc1c\", \"\\uac1c\\ubc1c\\uc6d0\", \"\\uac1c\\ucd5c\", \"\\uac1c\\ucd5c\", \"\\uac1c\\ucd5c\", \"\\uac1c\\ucd5c\", \"\\uac1c\\ucd95\", \"\\uac1c\\ud559\", \"\\uac70\\ub9ac\", \"\\uac74\\ub9bd\", \"\\uac74\\ub9bd\", \"\\uac74\\ub9bd\", \"\\uac74\\ubb3c\", \"\\uac78\\ub9de\", \"\\uac78\\uce58\", \"\\uac78\\uce58\", \"\\uac78\\uce58\", \"\\uac80\\ud1a0\", \"\\uacb0\\uacfc\", \"\\uacb0\\uacfc\", \"\\uacb0\\uacfc\", \"\\uacb0\\uacfc\", \"\\uacb0\\uacfc\", \"\\uacbd\\uae30\\ub3c4\", \"\\uacbd\\uae30\\ub3c4\", \"\\uacbd\\uae30\\ub3c4\", \"\\uacbd\\uae30\\ub3c4\", \"\\uacbd\\uae30\\ub3c4\", \"\\uacbd\\uae30\\ub3c4\", \"\\uacbd\\uae30\\ub3c4\", \"\\uacbd\\uae30\\ub3c4\", \"\\uacbd\\ub0a8\", \"\\uacbd\\ub0a8\", \"\\uacbd\\ub0a8\", \"\\uacbd\\ub0a8\", \"\\uacbd\\ub0a8\", \"\\uacbd\\ub0a8\", \"\\uacbd\\ub0a8\", \"\\uacbd\\ub0a8\", \"\\uacbd\\uc0c1\\ub0a8\\ub3c4\", \"\\uacbd\\uc0c1\\ub0a8\\ub3c4\", \"\\uacbd\\uc601\", \"\\uacbd\\uc601\", \"\\uacbd\\uc601\", \"\\uacbd\\uc601\", \"\\uacbd\\uc7c1\\ub825\", \"\\uacbd\\uc7c1\\ub825\", \"\\uacbd\\uc7c1\\ub825\", \"\\uacbd\\uc81c\", \"\\uacbd\\uc81c\", \"\\uacbd\\uc81c\", \"\\uacbd\\uc81c\", \"\\uacbd\\uc81c\", \"\\uacbd\\uc81c\", \"\\uacbd\\ucca0\", \"\\uacbd\\ud76c\", \"\\uacbd\\ud76c\\ub300\", \"\\uacbd\\ud76c\\ub300\", \"\\uacc4\\uace0\", \"\\uacc4\\uace0\", \"\\uacc4\\uae30\", \"\\uacc4\\uae30\", \"\\uacc4\\uae30\", \"\\uacc4\\uae30\", \"\\uacc4\\uae30\", \"\\uacc4\\uc5f4\", \"\\uacc4\\uc815\", \"\\uacc4\\uce35\", \"\\uacc4\\ud68d\", \"\\uacc4\\ud68d\", \"\\uacc4\\ud68d\", \"\\uacc4\\ud68d\", \"\\uacc4\\ud68d\", \"\\uacc4\\ud68d\", \"\\uacc4\\ud68d\", \"\\uacc4\\ud68d\", \"\\uacc4\\ud68d\", \"\\uacc4\\ud68d\", \"\\uace0\\uad50\", \"\\uace0\\uad50\", \"\\uace0\\uad50\", \"\\uace0\\uad50\", \"\\uace0\\uad50\", \"\\uace0\\uad50\", \"\\uace0\\ub3c4\\ud654\", \"\\uace0\\ub4f1\\ud559\\uc0dd\", \"\\uace0\\uc591\", \"\\uace0\\uc591\\uc2dc\", \"\\uace0\\ucc3d\", \"\\uace1\\uc131\\uad70\", \"\\uacf5\\uac04\", \"\\uacf5\\uac04\", \"\\uacf5\\uac04\", \"\\uacf5\\uac04\", \"\\uacf5\\uac04\", \"\\uacf5\\uac04\", \"\\uacf5\\uac1c\", \"\\uacf5\\uac1c\", \"\\uacf5\\uacf5\\uc131\", \"\\uacf5\\ub3d9\\uccb4\", \"\\uacf5\\ub3d9\\uccb4\", \"\\uacf5\\ub3d9\\uccb4\", \"\\uacf5\\ub3d9\\uccb4\", \"\\uacf5\\ub3d9\\uccb4\", \"\\uacf5\\ub9bd\", \"\\uacf5\\ubaa8\", \"\\uacf5\\ubaa8\", \"\\uacf5\\ubaa8\", \"\\uacf5\\ubaa8\", \"\\uacf5\\ubaa8\", \"\\uacf5\\ubc31\", \"\\uacf5\\ubc31\", \"\\uacf5\\uc720\", \"\\uacf5\\uc720\", \"\\uacf5\\uc720\", \"\\uacf5\\uc720\", \"\\uacf5\\uc720\", \"\\uacf5\\uc720\", \"\\uacf5\\uc870\", \"\\uacfc\\uc7a5\", \"\\uacfc\\uc7a5\", \"\\uacfc\\uc7a5\", \"\\uacfc\\uc7a5\", \"\\uacfc\\uc815\", \"\\uacfc\\uc815\", \"\\uacfc\\uc815\", \"\\uacfc\\uc815\", \"\\uacfc\\uc815\", \"\\uacfc\\uc815\", \"\\uacfc\\uc815\", \"\\uacfc\\uc815\", \"\\uacfc\\uc815\", \"\\uacfc\\uc815\", \"\\uacfc\\uc81c\", \"\\uacfc\\uc81c\", \"\\uacfc\\uc81c\", \"\\uacfc\\uc81c\", \"\\uacfc\\uc81c\", \"\\uacfc\\uc81c\", \"\\uacfc\\uc81c\", \"\\uacfc\\ud559\", \"\\uacfc\\ud559\", \"\\uacfc\\ud559\", \"\\uacfc\\ud559\", \"\\uacfc\\ud559\\uace0\", \"\\uad00\\uacc4\", \"\\uad00\\uacc4\", \"\\uad00\\uacc4\\uc790\", \"\\uad00\\uacc4\\uc790\", \"\\uad00\\uacc4\\uc790\", \"\\uad00\\uacc4\\uc790\", \"\\uad00\\uacc4\\uc790\", \"\\uad00\\uad11\", \"\\uad11\\uc8fc\\uc2dc\", \"\\uad11\\uc8fc\\uc2dc\", \"\\uad50\\ubcf4\", \"\\uad50\\ubd80\\uae08\", \"\\uad50\\ubd80\\uae08\", \"\\uad50\\uc0ac\", \"\\uad50\\uc0ac\", \"\\uad50\\uc0ac\", \"\\uad50\\uc0ac\", \"\\uad50\\uc0ac\", \"\\uad50\\uc0ac\", \"\\uad50\\uc0ac\", \"\\uad50\\uc0ac\", \"\\uad50\\uc218\", \"\\uad50\\uc218\", \"\\uad50\\uc218\", \"\\uad50\\uc218\", \"\\uad50\\uc218\", \"\\uad50\\uc218\", \"\\uad50\\uc218\", \"\\uad50\\uc218\", \"\\uad50\\uc218\", \"\\uad50\\uc2e4\", \"\\uad50\\uc2e4\", \"\\uad50\\uc2e4\", \"\\uad50\\uc2e4\", \"\\uad50\\uc2e4\", \"\\uad50\\uc2e4\", \"\\uad50\\uc2e4\", \"\\uad50\\uc6d0\", \"\\uad50\\uc6d0\", \"\\uad50\\uc6d0\", \"\\uad50\\uc6d0\", \"\\uad50\\uc6d0\", \"\\uad50\\uc6d0\", \"\\uad50\\uc6d0\", \"\\uad50\\uc721\", \"\\uad50\\uc721\", \"\\uad50\\uc721\", \"\\uad50\\uc721\", \"\\uad50\\uc721\", \"\\uad50\\uc721\", \"\\uad50\\uc721\", \"\\uad50\\uc721\", \"\\uad50\\uc721\", \"\\uad50\\uc721\", \"\\uad50\\uc721\", \"\\uad50\\uc721\", \"\\uad50\\uc721\", \"\\uad50\\uc721\", \"\\uad50\\uc721\\uac10\", \"\\uad50\\uc721\\uac10\", \"\\uad50\\uc721\\uac10\", \"\\uad50\\uc721\\uac10\", \"\\uad50\\uc721\\uac10\", \"\\uad50\\uc721\\uac10\", \"\\uad50\\uc721\\uac10\", \"\\uad50\\uc721\\uac10\", \"\\uad50\\uc721\\uac10\", \"\\uad50\\uc721\\uac10\", \"\\uad50\\uc721\\uad00\", \"\\uad50\\uc721\\uad00\", \"\\uad50\\uc721\\ubd80\", \"\\uad50\\uc721\\ubd80\", \"\\uad50\\uc721\\ubd80\", \"\\uad50\\uc721\\ubd80\", \"\\uad50\\uc721\\ubd80\", \"\\uad50\\uc721\\ubd80\", \"\\uad50\\uc721\\ubd80\", \"\\uad50\\uc721\\ubd80\", \"\\uad50\\uc721\\uc6d0\", \"\\uad50\\uc721\\uc6d0\", \"\\uad50\\uc721\\uc6d0\", \"\\uad50\\uc721\\uc6d0\", \"\\uad50\\uc721\\uccad\", \"\\uad50\\uc721\\uccad\", \"\\uad50\\uc721\\uccad\", \"\\uad50\\uc721\\uccad\", \"\\uad50\\uc721\\uccad\", \"\\uad50\\uc721\\uccad\", \"\\uad50\\uc721\\uccad\", \"\\uad50\\uc721\\uccad\", \"\\uad50\\uc721\\uccad\", \"\\uad50\\uc721\\uccad\", \"\\uad50\\uc721\\uccad\", \"\\uad50\\uc721\\uccad\", \"\\uad6c\\ubbf8\", \"\\uad6c\\uc5f0\", \"\\uad6c\\uccad\\uc7a5\", \"\\uad6c\\uccad\\uc7a5\", \"\\uad6c\\uccb4\\uc801\", \"\\uad6c\\uccb4\\uc801\", \"\\uad6c\\uccb4\\uc801\", \"\\uad6c\\uccb4\\uc801\", \"\\uad6c\\ucd95\", \"\\uad6c\\ucd95\", \"\\uad6c\\ucd95\", \"\\uad6c\\ucd95\", \"\\uad6c\\ucd95\", \"\\uad6c\\ucd95\", \"\\uad6c\\ucd95\", \"\\uad6c\\ucd95\", \"\\uad6c\\ucd95\", \"\\uad6c\\ucd95\", \"\\uad6d\\uac00\", \"\\uad6d\\uac00\", \"\\uad6d\\uac00\", \"\\uad6d\\uac00\", \"\\uad6d\\uac00\", \"\\uad6d\\ub0b4\", \"\\uad6d\\ub0b4\", \"\\uad6d\\ub0b4\\uc678\", \"\\uad6d\\uc5b4\", \"\\uad6d\\uc81c\", \"\\uad6d\\uc81c\", \"\\uad6d\\uc81c\", \"\\uad6d\\uc81c\", \"\\uad6d\\ud68c\", \"\\uad6d\\ud68c\", \"\\uad70\\uc11c\", \"\\uad8c\\uace0\", \"\\uad8c\\uc5ed\", \"\\uad8c\\ud615\", \"\\uaddc\\ubaa8\", \"\\uaddc\\ubaa8\", \"\\uadf8\\ub3d9\\uc548\", \"\\uadf8\\ub3d9\\uc548\", \"\\uadf8\\ub3d9\\uc548\", \"\\uadf8\\ub7f0\", \"\\uadf8\\ub987\", \"\\uadf8\\ub9ac\", \"\\uadf8\\ub9ac\", \"\\uadf8\\ub9ac\", \"\\uadf8\\ub9ac\", \"\\uadf8\\ub9ac\", \"\\uadf8\\ub9ac\", \"\\uadf8\\ub9b0\", \"\\uadf8\\ub9b0\", \"\\uadf8\\ub9b0\", \"\\uadf9\\ubcf5\", \"\\uadf9\\ubcf5\", \"\\uadf9\\ubcf5\", \"\\uadf9\\ubcf5\", \"\\uadf9\\ubcf5\", \"\\uae00\\ub85c\\ubc8c\", \"\\uae00\\ub85c\\ubc8c\", \"\\uae08\\uc9c0\", \"\\uae09\\uc2dd\", \"\\uae09\\uc2dd\", \"\\uae0d\\uc815\\uc801\", \"\\uae30\\uad00\", \"\\uae30\\uad00\", \"\\uae30\\uad00\", \"\\uae30\\uad00\", \"\\uae30\\uad00\", \"\\uae30\\uae30\", \"\\uae30\\ub300\\ub418\", \"\\uae30\\ubc18\", \"\\uae30\\ubc18\", \"\\uae30\\ubc18\", \"\\uae30\\ubc18\", \"\\uae30\\ubc18\", \"\\uae30\\ubc18\", \"\\uae30\\ubc18\", \"\\uae30\\ubc18\", \"\\uae30\\uc220\", \"\\uae30\\uc220\", \"\\uae30\\uc220\", \"\\uae30\\uc220\", \"\\uae30\\uc220\", \"\\uae30\\uc790\", \"\\uae30\\uc790\", \"\\uae30\\uc790\", \"\\uae30\\uc790\", \"\\uae30\\uc790\", \"\\uae30\\ucd08\", \"\\uae30\\ucd08\", \"\\uae30\\ucd08\", \"\\uae30\\ucd08\", \"\\uae30\\ucd08\", \"\\uae30\\ud589\", \"\\uae30\\ud68d\", \"\\uae30\\ud68d\", \"\\uae30\\ud68d\", \"\\uae30\\ud68d\", \"\\uae30\\ud68d\", \"\\uae30\\ud68d\", \"\\uae30\\ud68d\", \"\\uae30\\ud68d\\ub2e8\", \"\\uae30\\ud6c4\", \"\\uae34\\ucd95\", \"\\uae4a\\uc774\", \"\\uae4c\\uc9c0\", \"\\uae4c\\uc9c0\", \"\\uae4c\\uc9c0\", \"\\uae4c\\uc9c0\", \"\\uae4c\\uc9c0\", \"\\uae4c\\uc9c0\", \"\\uae4c\\uc9c0\", \"\\uae4c\\uc9c0\", \"\\uae4c\\uc9c0\", \"\\uae4c\\uc9c0\", \"\\uaf43\\ud53c\\uc6b0\", \"\\ub098\\uac00\", \"\\ub098\\uac00\", \"\\ub098\\uac00\", \"\\ub098\\uac00\", \"\\ub098\\uac00\", \"\\ub098\\uac00\", \"\\ub098\\uac00\", \"\\ub098\\uac00\", \"\\ub098\\uac00\", \"\\ub0a0\\ub85c\", \"\\ub0a8\\ub3c4\", \"\\ub0a8\\ub3c4\", \"\\ub0a8\\ud615\", \"\\ub178\\ub3d9\", \"\\ub178\\ub825\", \"\\ub178\\ub825\", \"\\ub178\\ub825\", \"\\ub178\\ub825\", \"\\ub178\\ub825\", \"\\ub178\\ub825\", \"\\ub178\\ub825\", \"\\ub178\\ub825\", \"\\ub178\\ud2b8\\ubd81\", \"\\ub17c\\uc758\", \"\\ub17c\\uc758\", \"\\ub17c\\uc758\", \"\\ub17c\\uc758\", \"\\ub17c\\uc758\", \"\\ub17c\\uc758\", \"\\ub18d\\uc5c5\", \"\\ub18d\\uc5c5\", \"\\ub274\\ub51c\", \"\\ub274\\ub51c\", \"\\ub274\\ub51c\", \"\\ub274\\uc2a4\", \"\\ub274\\uc2a4\", \"\\ub274\\uc2a4\", \"\\ub294\\ub2e4\\uace0\", \"\\ub2e4\\uace0\", \"\\ub2e4\\uace0\", \"\\ub2e4\\uace0\", \"\\ub2e4\\uace0\", \"\\ub2e4\\uace0\", \"\\ub2e4\\uace0\", \"\\ub2e4\\uadf8\", \"\\ub2e4\\ub978\", \"\\ub2e4\\uc591\", \"\\ub2e4\\uc591\", \"\\ub2e4\\uc591\", \"\\ub2e4\\uc591\", \"\\ub2e4\\uc591\", \"\\ub2e4\\uc591\", \"\\ub2e4\\uc591\", \"\\ub2e4\\uc591\", \"\\ub2e4\\uc591\", \"\\ub2e8\\uacc4\", \"\\ub2e8\\uacc4\", \"\\ub2e8\\uacc4\", \"\\ub2e8\\ub9d0\\uae30\", \"\\ub2e8\\uc7ac\", \"\\ub2f4\\ub2f9\", \"\\ub2f4\\ub2f9\", \"\\ub2f9\\uc77c\", \"\\ub300\\uad6c\", \"\\ub300\\uad6c\", \"\\ub300\\uad6c\", \"\\ub300\\uad6c\", \"\\ub300\\uad6c\", \"\\ub300\\uad6c\", \"\\ub300\\uad6c\", \"\\ub300\\uad6c\", \"\\ub300\\uad6c\\uc2dc\", \"\\ub300\\uad6c\\uc2dc\", \"\\ub300\\uad6c\\uc2dc\", \"\\ub300\\uad6c\\uc2dc\", \"\\ub300\\uad6d\\ubbfc\", \"\\ub300\\ubc95\\uc6d0\", \"\\ub300\\ubcc0\\uc778\", \"\\ub300\\ube44\", \"\\ub300\\ube44\", \"\\ub300\\ube44\", \"\\ub300\\ube44\", \"\\ub300\\ube44\", \"\\ub300\\uc0c1\", \"\\ub300\\uc0c1\", \"\\ub300\\uc0c1\", \"\\ub300\\uc0c1\", \"\\ub300\\uc0c1\", \"\\ub300\\uc0c1\", \"\\ub300\\uc0c1\", \"\\ub300\\uc0c1\", \"\\ub300\\uc0c1\", \"\\ub300\\uc2e0\", \"\\ub300\\uc548\", \"\\ub300\\uc548\", \"\\ub300\\uc548\", \"\\ub300\\uc751\", \"\\ub300\\uc751\", \"\\ub300\\uc751\", \"\\ub300\\uc751\", \"\\ub300\\uc751\", \"\\ub300\\uc751\", \"\\ub300\\uc751\", \"\\ub300\\uc751\", \"\\ub300\\uc785\", \"\\ub300\\uc7a5\", \"\\ub300\\uc804\", \"\\ub300\\ud1b5\\ub839\", \"\\ub300\\ud3ed\", \"\\ub300\\ud558\", \"\\ub300\\ud558\", \"\\ub300\\ud558\", \"\\ub300\\ud558\", \"\\ub300\\ud558\", \"\\ub300\\ud558\", \"\\ub300\\ud558\", \"\\ub300\\ud558\", \"\\ub300\\ud558\", \"\\ub300\\ud558\", \"\\ub300\\ud558\", \"\\ub300\\ud559\", \"\\ub300\\ud559\", \"\\ub300\\ud559\", \"\\ub300\\ud559\", \"\\ub300\\ud559\", \"\\ub300\\ud559\", \"\\ub300\\ud559\", \"\\ub300\\ud559\", \"\\ub300\\ud559\\uad50\", \"\\ub300\\ud559\\uad50\", \"\\ub300\\ud559\\uad50\", \"\\ub300\\ud559\\uad50\", \"\\ub300\\ud559\\uad50\", \"\\ub300\\ud55c\\ubbfc\\uad6d\", \"\\ub300\\ud55c\\ubbfc\\uad6d\", \"\\ub300\\ud55c\\ubbfc\\uad6d\", \"\\ub300\\ud55c\\ubbfc\\uad6d\", \"\\ub300\\ud654\", \"\\ub300\\ud654\", \"\\ub300\\ud68c\", \"\\ub300\\ud68c\", \"\\ub367\\ubd99\\uc774\", \"\\ub367\\ubd99\\uc774\", \"\\ub3c4\\ub85d\", \"\\ub3c4\\ub85d\", \"\\ub3c4\\ub85d\", \"\\ub3c4\\ub85d\", \"\\ub3c4\\ub85d\", \"\\ub3c4\\ub85d\", \"\\ub3c4\\ub85d\", \"\\ub3c4\\ub85d\", \"\\ub3c4\\ub85d\", \"\\ub3c4\\ub85d\", \"\\ub3c4\\ubbfc\", \"\\ub3c4\\uc11c\\uad00\", \"\\ub3c4\\uc11c\\uad00\", \"\\ub3c5\\uc11c\", \"\\ub3d9\\ub825\", \"\\ub3d9\\ub9ac\", \"\\ub3d9\\uc544\\uc2dc\\uc544\", \"\\ub458\\uc9f8\", \"\\ub4b7\\ubc1b\\uce68\", \"\\ub4dc\\ub7ec\\ub0b4\", \"\\ub4dc\\ub9bc\", \"\\ub4e4\\uc5b4\\uc11c\", \"\\ub4e4\\uc774\", \"\\ub4e4\\uc774\", \"\\ub4e4\\uc774\", \"\\ub4f1\\uad50\", \"\\ub514\\ub4dc\", \"\\ub514\\uc9c0\\ud138\", \"\\ub514\\uc9c0\\ud138\", \"\\ub514\\uc9c0\\ud138\", \"\\ub514\\uc9c0\\ud138\", \"\\ub514\\uc9c0\\ud138\", \"\\ub530\\ub974\", \"\\ub530\\ub974\", \"\\ub530\\ub974\", \"\\ub530\\ub974\", \"\\ub530\\ub974\", \"\\ub530\\ub974\", \"\\ub530\\ub974\", \"\\ub530\\ub974\", \"\\ub530\\ub974\", \"\\ub54c\\ubb38\", \"\\ub5a0\\uc624\\ub974\", \"\\ub6f0\\uc5b4\\ub098\", \"\\ub77c\\uace0\", \"\\ub77c\\uace0\", \"\\ub77c\\uace0\", \"\\ub77c\\uace0\", \"\\ub77c\\uace0\", \"\\ub77c\\uace0\", \"\\ub77c\\uace0\", \"\\ub77c\\uace0\", \"\\ub77c\\uace0\", \"\\ub77c\\uace0\", \"\\ub77c\\ub294\", \"\\ub77c\\ub294\", \"\\ub77c\\ub294\", \"\\ub77c\\ub294\", \"\\ub77c\\ub294\", \"\\ub77c\\ub294\", \"\\ub77c\\ub294\", \"\\ub77c\\ub294\", \"\\ub77c\\ub294\", \"\\ub77c\\uba70\", \"\\ub77c\\uba70\", \"\\ub77c\\uba70\", \"\\ub77c\\uba70\", \"\\ub77c\\uba70\", \"\\ub77c\\uc778\", \"\\ub7ec\\ub2dd\", \"\\ub7ec\\ub2dd\", \"\\ub86f\\ub370\", \"\\ub9ac\\ub354\", \"\\ub9ac\\ubaa8\\ub378\\ub9c1\", \"\\ub9c8\\ub2e4\", \"\\ub9c8\\uc2a4\\ud06c\", \"\\ub9c8\\uc744\", \"\\ub9c8\\uc744\", \"\\ub9c8\\uc744\", \"\\ub9c8\\uc744\", \"\\ub9c8\\uc744\", \"\\ub9c8\\uc744\", \"\\ub9cc\\ub4e4\", \"\\ub9cc\\ub4e4\", \"\\ub9cc\\ub4e4\", \"\\ub9cc\\ub4e4\", \"\\ub9cc\\ub4e4\", \"\\ub9cc\\ub4e4\", \"\\ub9cc\\ub4e4\", \"\\ub9cc\\ub4e4\", \"\\ub9cc\\ub4e4\", \"\\ub9d0\\ud558\", \"\\ub9d0\\ud558\", \"\\ub9d0\\ud558\", \"\\ub9d0\\ud558\", \"\\ub9d0\\ud558\", \"\\ub9d0\\ud558\", \"\\ub9d0\\ud558\", \"\\ub9d0\\ud558\", \"\\ub9d0\\ud558\", \"\\ub9de\\ucd94\", \"\\ub9de\\ucd94\", \"\\ub9de\\ucd94\", \"\\ub9de\\ucd94\", \"\\ub9de\\ucd94\", \"\\ub9de\\ucda4\", \"\\ub9de\\ucda4\", \"\\ub9de\\ucda4\", \"\\ub9de\\ucda4\", \"\\ub9de\\ucda4\", \"\\ubaa8\\ub378\", \"\\ubaa8\\ub378\", \"\\ubaa8\\ub378\", \"\\ubaa8\\ub378\", \"\\ubaa8\\ub378\", \"\\ubaa8\\ub378\", \"\\ubaa8\\ub378\", \"\\ubaa8\\ub4e0\", \"\\ubaa8\\ub4e0\", \"\\ubaa8\\ub4e0\", \"\\ubaa8\\ub4e0\", \"\\ubaa8\\ub4e0\", \"\\ubaa8\\ub4e0\", \"\\ubaa8\\ub4e0\", \"\\ubaa8\\ub4e0\", \"\\ubaa8\\ubc14\\uc77c\", \"\\ubaa8\\uc2b5\", \"\\ubaa8\\uc2b5\", \"\\ubaa8\\uc2b5\", \"\\ubaa8\\uc2b5\", \"\\ubaa8\\uc9d1\", \"\\ubaa8\\uc9d1\", \"\\ubabd\\uc2e4\", \"\\ubabd\\uc2e4\", \"\\ubb34\\uc0c1\", \"\\ubb34\\uc0c1\", \"\\ubb34\\uc0c1\", \"\\ubb34\\uc120\", \"\\ubb34\\uc548\", \"\\ubb34\\uc5ed\\ub7c9\", \"\\ubb34\\uc6a9\", \"\\ubb3c\\ub860\", \"\\ubbf8\\ub124\\ub974\\ubc14\", \"\\ubbf8\\ub798\", \"\\ubbf8\\ub798\", \"\\ubbf8\\ub798\", \"\\ubbf8\\ub798\", \"\\ubbf8\\ub798\", \"\\ubbf8\\ub798\", \"\\ubbf8\\ub798\", \"\\ubbf8\\ub798\", \"\\ubbf8\\ub798\", \"\\ubbf8\\ub798\", \"\\ubbf8\\ub798\", \"\\ubbf8\\ub798\", \"\\ubbf8\\ub798\", \"\\ubbf8\\ub798\", \"\\ubbf8\\ub798\\uc0ac\", \"\\ubbf8\\ub798\\ud615\", \"\\ubbf8\\ub798\\ud615\", \"\\ubbf8\\ub798\\ud615\", \"\\ubbf8\\ub798\\ud615\", \"\\ubbf8\\ub798\\ud615\", \"\\ubbf8\\ub798\\ud615\", \"\\ubbf8\\ub798\\ud615\", \"\\ubbf8\\ub798\\ud615\", \"\\ubbf8\\ub798\\ud615\", \"\\ubbf8\\ub798\\ud615\", \"\\ubbf8\\uc219\", \"\\ubbf8\\uc6a9\", \"\\ubc00\\ucc29\", \"\\ubc14\\ub77c\\ubcf4\", \"\\ubc14\\uc774\\ub7ec\\uc2a4\", \"\\ubc14\\uc774\\ub7ec\\uc2a4\", \"\\ubc14\\ud0d5\", \"\\ubc14\\ud0d5\", \"\\ubc14\\ud0d5\", \"\\ubc14\\ud0d5\", \"\\ubc14\\ud0d5\", \"\\ubc14\\ud0d5\", \"\\ubc14\\ud0d5\", \"\\ubc15\\ub78c\\ud68c\", \"\\ubc15\\uc0ac\", \"\\ubc15\\uc885\\ud6c8\", \"\\ubc15\\uc885\\ud6c8\", \"\\ubc15\\uc885\\ud6c8\", \"\\ubc15\\uc885\\ud6c8\", \"\\ubc15\\uc885\\ud6c8\", \"\\ubc15\\uc885\\ud6c8\", \"\\ubc15\\uc885\\ud6c8\", \"\\ubc15\\ucc28\", \"\\ubc1c\\ub9de\\ucd94\", \"\\ubc1c\\uc871\", \"\\ubc1c\\ud45c\", \"\\ubc1c\\ud45c\", \"\\ubc1c\\ud45c\", \"\\ubc1c\\ud45c\", \"\\ubc1c\\ud45c\", \"\\ubc1c\\ud45c\", \"\\ubc1c\\ud718\", \"\\ubc1d\\ud788\", \"\\ubc1d\\ud788\", \"\\ubc1d\\ud788\", \"\\ubc1d\\ud788\", \"\\ubc1d\\ud788\", \"\\ubc1d\\ud788\", \"\\ubc1d\\ud788\", \"\\ubc1d\\ud788\", \"\\ubc1d\\ud788\", \"\\ubc29\\uacfc\", \"\\ubc29\\ubb38\", \"\\ubc29\\ubb38\", \"\\ubc29\\ubc95\", \"\\ubc29\\ubc95\", \"\\ubc29\\ubc95\", \"\\ubc29\\ubc95\", \"\\ubc29\\ubc95\", \"\\ubc29\\uc2dd\", \"\\ubc29\\uc2dd\", \"\\ubc29\\uc2dd\", \"\\ubc29\\uc2dd\", \"\\ubc29\\uc2dd\", \"\\ubc29\\uc2dd\", \"\\ubc29\\uc548\", \"\\ubc29\\uc548\", \"\\ubc29\\uc548\", \"\\ubc29\\uc548\", \"\\ubc29\\uc548\", \"\\ubc29\\uc548\", \"\\ubc29\\uc548\", \"\\ubc29\\ud559\", \"\\ubc29\\ud5a5\", \"\\ubc29\\ud5a5\", \"\\ubc29\\ud5a5\", \"\\ubc29\\ud5a5\", \"\\ubc29\\ud5a5\", \"\\ubc29\\ud5a5\", \"\\ubc29\\ud5a5\", \"\\ubc29\\ud5a5\", \"\\ubc29\\ud5a5\", \"\\ubc30\\ubd84\", \"\\ubc30\\ucd9c\", \"\\ubc31\\ubc94\", \"\\ubcc0\\ud558\", \"\\ubcc0\\ud654\", \"\\ubcc0\\ud654\", \"\\ubcc0\\ud654\", \"\\ubcc0\\ud654\", \"\\ubcc0\\ud654\", \"\\ubcc0\\ud654\", \"\\ubcc0\\ud654\", \"\\ubcc0\\ud654\", \"\\ubcc0\\ud654\", \"\\ubcc4\\ub3c4\", \"\\ubcd1\\uc870\", \"\\ubcd1\\ud589\", \"\\ubcd1\\ud589\", \"\\ubcf4\\uace0\", \"\\ubcf4\\uace0\", \"\\ubcf4\\uae09\", \"\\ubcf4\\uae09\", \"\\ubcf4\\uae09\", \"\\ubcf4\\uc5ec\\uc8fc\", \"\\ubcf5\\uc9c0\", \"\\ubcf5\\uc9c0\", \"\\ubcf5\\uc9c0\", \"\\ubcf5\\uc9c0\", \"\\ubcf5\\uc9c0\", \"\\ubcf5\\uc9c0\", \"\\ubd80\\ubaa8\", \"\\ubd80\\ubaa8\", \"\\ubd80\\ubb38\", \"\\ubd80\\ubb38\\uc7a5\", \"\\ubd80\\ubd84\", \"\\ubd80\\uc0b0\", \"\\ubd80\\uc0b0\", \"\\ubd80\\uc0b0\", \"\\ubd80\\uc0b0\", \"\\ubd80\\uc0b0\", \"\\ubd80\\uc0b0\", \"\\ubd80\\uc0b0\", \"\\ubd80\\uc0b0\\uc2dc\", \"\\ubd80\\uc871\", \"\\ubd80\\uc9c0\", \"\\ubd80\\ucc9c\", \"\\ubd80\\ucd1d\\ub9ac\", \"\\ubd80\\ucd1d\\ub9ac\", \"\\ubd80\\ud130\", \"\\ubd80\\ud130\", \"\\ubd80\\ud130\", \"\\ubd80\\ud130\", \"\\ubd80\\ud130\", \"\\ubd80\\ud130\", \"\\ubd80\\ud130\", \"\\ubd84\\uacfc\", \"\\ubd84\\uc57c\", \"\\ubd84\\uc57c\", \"\\ubd84\\uc57c\", \"\\ubd84\\uc57c\", \"\\ubd84\\uc57c\", \"\\ubd84\\uc57c\", \"\\ubd84\\uc57c\", \"\\ube44\\uc6a9\", \"\\ube48\\ud2c8\", \"\\ube5b\\ub098\", \"\\ube5b\\ub098\", \"\\uc0ac\\uace0\", \"\\uc0ac\\ubb34\\uad00\", \"\\uc0ac\\ubb3c\", \"\\uc0ac\\ubc94\\ub300\", \"\\uc0ac\\uc0c1\", \"\\uc0ac\\uc124\", \"\\uc0ac\\uc5c5\", \"\\uc0ac\\uc5c5\", \"\\uc0ac\\uc5c5\", \"\\uc0ac\\uc5c5\", \"\\uc0ac\\uc5c5\", \"\\uc0ac\\uc5c5\", \"\\uc0ac\\uc5c5\", \"\\uc0ac\\uc5c5\", \"\\uc0ac\\uc5c5\", \"\\uc0ac\\uc5c5\", \"\\uc0ac\\uc5c5\", \"\\uc0ac\\uc5c5\\ube44\", \"\\uc0ac\\uc6a9\", \"\\uc0ac\\uc6a9\", \"\\uc0ac\\uc6a9\\uc790\", \"\\uc0ac\\uc6a9\\ud558\", \"\\uc0ac\\uc9c4\", \"\\uc0ac\\uc9c4\", \"\\uc0ac\\ud0dc\", \"\\uc0ac\\ud68c\", \"\\uc0ac\\ud68c\", \"\\uc0ac\\ud68c\", \"\\uc0ac\\ud68c\", \"\\uc0ac\\ud68c\", \"\\uc0ac\\ud68c\", \"\\uc0ac\\ud68c\", \"\\uc0ac\\ud68c\", \"\\uc0ac\\ud68c\", \"\\uc0ac\\ud68c\", \"\\uc0ac\\ud68c\", \"\\uc0ad\\uac10\", \"\\uc0b0\\uc5c5\", \"\\uc0b0\\uc5c5\", \"\\uc0b0\\uc5c5\", \"\\uc0b0\\uc5c5\", \"\\uc0b0\\uc5c5\", \"\\uc0b0\\ud558\", \"\\uc0b0\\ud559\", \"\\uc0c1\\ub2f4\", \"\\uc0c1\\ub2f4\", \"\\uc0c1\\ub2f9\", \"\\uc0c1\\uc740\", \"\\uc0c1\\ud558\\uc774\", \"\\uc0c1\\ud669\", \"\\uc0c1\\ud669\", \"\\uc0c1\\ud669\", \"\\uc0c1\\ud669\", \"\\uc0c1\\ud669\", \"\\uc0c1\\ud669\", \"\\uc0dd\\uac01\", \"\\uc0dd\\uac01\", \"\\uc0dd\\uac01\", \"\\uc0dd\\uac01\", \"\\uc0dd\\uac01\", \"\\uc0dd\\ud0dc\", \"\\uc0dd\\ud0dc\\uacc4\", \"\\uc0dd\\ud0dc\\uacc4\", \"\\uc0dd\\ud0dc\\uc801\", \"\\uc11c\\ube44\\uc2a4\", \"\\uc11c\\ube44\\uc2a4\", \"\\uc11c\\ube44\\uc2a4\", \"\\uc11c\\uc6b8\", \"\\uc11c\\uc6b8\", \"\\uc11c\\uc6b8\", \"\\uc11c\\uc6b8\\uc2dc\", \"\\uc11c\\uc6b8\\uc2dc\", \"\\uc11c\\uc6b8\\uc2dc\", \"\\uc120\\ubb3c\", \"\\uc120\\uc0dd\\ub2d8\", \"\\uc120\\uc0dd\\ub2d8\", \"\\uc120\\uc0dd\\ub2d8\", \"\\uc120\\uc804\", \"\\uc120\\uc815\", \"\\uc120\\uc815\", \"\\uc120\\uc815\", \"\\uc120\\uc815\", \"\\uc120\\uc815\", \"\\uc120\\uc815\", \"\\uc120\\uc815\", \"\\uc120\\ud638\", \"\\uc124\\ub9bd\", \"\\uc124\\ub9bd\", \"\\uc124\\ub9bd\", \"\\uc124\\ub9bd\", \"\\uc124\\ub9bd\", \"\\uc124\\ub9bd\", \"\\uc124\\ub9bd\", \"\\uc124\\ub9bd\", \"\\uc124\\ubb38\", \"\\uc124\\uc131\", \"\\uc131\\uad50\\uc721\", \"\\uc131\\uc7a5\", \"\\uc131\\uc7a5\", \"\\uc131\\uc7a5\", \"\\uc131\\uc7a5\", \"\\uc138\\uacc4\\ub85c\", \"\\uc138\\ub300\", \"\\uc138\\ub300\", \"\\uc138\\ub300\", \"\\uc138\\ub300\", \"\\uc138\\ub300\", \"\\uc138\\ubc00\", \"\\uc138\\uc0c1\", \"\\uc138\\uc785\", \"\\uc138\\uc885\", \"\\uc138\\uc885\", \"\\uc138\\uc885\", \"\\uc138\\uc885\", \"\\uc138\\uc885\", \"\\uc138\\uc885\", \"\\uc138\\ucd9c\", \"\\uc13c\\ud130\", \"\\uc13c\\ud130\", \"\\uc13c\\ud130\", \"\\uc13c\\ud130\", \"\\uc13c\\ud130\", \"\\uc13c\\ud130\", \"\\uc13c\\ud130\", \"\\uc13c\\ud130\", \"\\uc18c\\uba78\", \"\\uc18c\\uc18d\", \"\\uc18c\\uc678\", \"\\uc18c\\ud1b5\", \"\\uc18c\\ud1b5\", \"\\uc18c\\ud1b5\", \"\\uc18c\\ud1b5\", \"\\uc18c\\ud1b5\", \"\\uc18c\\ud504\\ud2b8\\uc6e8\\uc5b4\", \"\\uc218\\ub2a5\", \"\\uc218\\ub2a5\", \"\\uc218\\uc0c1\\uc790\", \"\\uc218\\uc5c5\", \"\\uc218\\uc5c5\", \"\\uc218\\uc5c5\", \"\\uc218\\uc5c5\", \"\\uc218\\uc5c5\", \"\\uc218\\uc6d0\", \"\\uc218\\ud5d8\\uc0dd\", \"\\uc218\\ud5d8\\uc0dd\", \"\\uc218\\ud5d8\\uc0dd\", \"\\uc219\\uc758\", \"\\uc21c\\ucc9c\", \"\\uc2a4\\ub9c8\\ud2b8\", \"\\uc2a4\\ub9c8\\ud2b8\", \"\\uc2a4\\ub9c8\\ud2b8\", \"\\uc2a4\\ub9c8\\ud2b8\", \"\\uc2a4\\ub9c8\\ud2b8\", \"\\uc2a4\\ub9c8\\ud2b8\", \"\\uc2a4\\ub9c8\\ud2b8\", \"\\uc2a4\\ub9c8\\ud2b8\", \"\\uc2a4\\ub9c8\\ud2b8\", \"\\uc2a4\\uc2a4\\ub85c\", \"\\uc2a4\\uc2a4\\ub85c\", \"\\uc2a4\\uc2a4\\ub85c\", \"\\uc2a4\\ucfe8\", \"\\uc2a4\\ucfe8\", \"\\uc2a4\\ucfe8\", \"\\uc2a4\\ud29c\\ub514\\uc624\", \"\\uc2b9\\uc9c4\", \"\\uc2dc\\ub300\", \"\\uc2dc\\ub300\", \"\\uc2dc\\ub300\", \"\\uc2dc\\ub300\", \"\\uc2dc\\ub300\", \"\\uc2dc\\ub300\", \"\\uc2dc\\ub300\", \"\\uc2dc\\ub300\\uc801\", \"\\uc2dc\\ubbfc\", \"\\uc2dc\\ubbfc\", \"\\uc2dc\\ubbfc\", \"\\uc2dc\\ubbfc\", \"\\uc2dc\\ubbfc\", \"\\uc2dc\\ubbfc\", \"\\uc2dc\\ubc94\", \"\\uc2dc\\ubc94\", \"\\uc2dc\\ubc94\", \"\\uc2dc\\ubc94\", \"\\uc2dc\\uc124\", \"\\uc2dc\\uc124\", \"\\uc2dc\\uc124\", \"\\uc2dc\\uc124\", \"\\uc2dc\\uc124\", \"\\uc2dc\\uc2a4\", \"\\uc2dc\\uc2a4\", \"\\uc2dc\\uc2a4\", \"\\uc2dc\\uc2a4\", \"\\uc2dc\\uc2a4\", \"\\uc2dc\\uc2a4\\ud15c\", \"\\uc2dc\\uc2a4\\ud15c\", \"\\uc2dc\\uc2a4\\ud15c\", \"\\uc2dc\\uc2a4\\ud15c\", \"\\uc2dc\\uc2a4\\ud15c\", \"\\uc2dc\\uc2a4\\ud15c\", \"\\uc2dc\\ud5d8\", \"\\uc2dc\\ud5d8\\uc7a5\", \"\\uc2dc\\ud765\", \"\\uc2dc\\ud765\\uc2dc\", \"\\uc2e0\\ub144\", \"\\uc2e0\\ub144\", \"\\uc2e0\\ub77c\", \"\\uc2e0\\uc785\\uc0dd\", \"\\uc2e0\\uc885\", \"\\uc2e0\\uc885\", \"\\uc2e0\\uc885\", \"\\uc2e4\\uc2b5\\uc2e4\", \"\\uc2e4\\uc6a9\", \"\\uc2ec\\uc0ac\", \"\\uc2ec\\uc0ac\", \"\\uc2ec\\ud654\", \"\\uc544\\ub2c8\", \"\\uc544\\ub2c8\", \"\\uc544\\ub2c8\", \"\\uc544\\ub2c8\", \"\\uc544\\uc57c\", \"\\uc544\\uc57c\", \"\\uc544\\uc774\", \"\\uc544\\uc774\", \"\\uc544\\uc774\", \"\\uc544\\uc774\", \"\\uc544\\uc774\", \"\\uc548\\ub0b4\", \"\\uc548\\ub3d9\", \"\\uc548\\ub3d9\\uc2dc\", \"\\uc548\\uc131\", \"\\uc548\\uc804\\uacfc\", \"\\uc548\\uc815\\uc801\", \"\\uc548\\uc815\\uc801\", \"\\uc548\\uc815\\uc801\", \"\\uc54c\\ub9ac\", \"\\uc54c\\ub9ac\", \"\\uc591\\uc0ac\", \"\\uc591\\uc131\", \"\\uc591\\uc131\", \"\\uc591\\uc131\", \"\\uc591\\uc131\", \"\\uc591\\uc131\", \"\\uc591\\uc131\", \"\\uc591\\uc131\", \"\\uc5b4\\ub514\", \"\\uc5b4\\ub5a0\\ud558\", \"\\uc5b4\\ub824\\uc6cc\\uc9c0\", \"\\uc5b4\\ub835\", \"\\uc5b4\\ub835\", \"\\uc5b4\\ub835\", \"\\uc5b4\\ub9b0\\uc774\", \"\\uc5b4\\uc57c\", \"\\uc5b4\\uc57c\", \"\\uc5b4\\uc57c\", \"\\uc5b4\\uc57c\", \"\\uc5b4\\uc57c\", \"\\uc5b8\\uc81c\", \"\\uc5b8\\uc81c\", \"\\uc5c5\\ubb34\", \"\\uc5c5\\ubb34\", \"\\uc5c5\\ubb34\", \"\\uc5c5\\ubb34\", \"\\uc5c5\\ubb34\", \"\\uc5c6\\uc774\", \"\\uc5c6\\uc774\", \"\\uc5d0\\uc11c\", \"\\uc5d0\\uc11c\", \"\\uc5d0\\uc11c\", \"\\uc5d0\\uc11c\", \"\\uc5d0\\uc11c\", \"\\uc5d0\\uc11c\", \"\\uc5d0\\uc11c\", \"\\uc5d0\\uc11c\", \"\\uc5d0\\uc11c\", \"\\uc5d0\\uc11c\", \"\\uc5d0\\uc11c\", \"\\uc5d0\\uc11c\", \"\\uc5d0\\uc11c\", \"\\uc5d0\\uc11c\", \"\\uc5d0\\uc774\", \"\\uc5ec\\uac74\", \"\\uc5ec\\uac74\", \"\\uc5ec\\uac74\", \"\\uc5ec\\ub860\", \"\\uc5ec\\uc758\\ub3c4\", \"\\uc5ed\\ub7c9\", \"\\uc5ed\\ub7c9\", \"\\uc5ed\\ub7c9\", \"\\uc5ed\\ub7c9\", \"\\uc5ed\\ub7c9\", \"\\uc5ed\\ub7c9\", \"\\uc5ed\\ub7c9\", \"\\uc5ed\\ub7c9\", \"\\uc5ed\\uc0ac\", \"\\uc5ed\\uc784\", \"\\uc5f0\\uacc4\", \"\\uc5f0\\uacc4\", \"\\uc5f0\\uacc4\", \"\\uc5f0\\uacc4\", \"\\uc5f0\\uacc4\", \"\\uc5f0\\uacc4\", \"\\uc5f0\\uacc4\", \"\\uc5f0\\uad6c\", \"\\uc5f0\\uad6c\", \"\\uc5f0\\uad6c\", \"\\uc5f0\\uad6c\", \"\\uc5f0\\uad6c\", \"\\uc5f0\\uad6c\", \"\\uc5f0\\uc138\\ub300\", \"\\uc5f0\\ud569\", \"\\uc5f0\\ud569\", \"\\uc5f0\\ud569\", \"\\uc5f0\\ud76c\", \"\\uc5f4\\ub9ac\", \"\\uc5f4\\ub9ac\", \"\\uc5f4\\ub9ac\", \"\\uc5f4\\ub9ac\", \"\\uc5f4\\ub9ac\", \"\\uc601\\uc5b4\", \"\\uc601\\uc5b4\", \"\\uc608\\ubd09\", \"\\uc608\\ube44\", \"\\uc608\\uc0b0\", \"\\uc608\\uc0b0\", \"\\uc608\\uc0b0\", \"\\uc608\\uc0b0\", \"\\uc608\\uc0b0\", \"\\uc608\\uc220\", \"\\uc608\\uc220\", \"\\uc608\\uc220\", \"\\uc608\\uc815\", \"\\uc608\\uc815\", \"\\uc608\\uc815\", \"\\uc608\\uc815\", \"\\uc608\\uc815\", \"\\uc608\\uc815\", \"\\uc608\\uc815\", \"\\uc608\\uc815\", \"\\uc608\\uc815\", \"\\uc624\\uc0b0\", \"\\uc624\\uc0b0\", \"\\uc624\\uc0b0\\uc2dc\", \"\\uc624\\ud504\", \"\\uc624\\ud504\\ub77c\\uc778\", \"\\uc624\\ud504\\ub77c\\uc778\", \"\\uc624\\ud504\\ub77c\\uc778\", \"\\uc624\\ud504\\ub77c\\uc778\", \"\\uc624\\ud504\\ub77c\\uc778\", \"\\uc628\\ub77c\\uc778\", \"\\uc628\\ub77c\\uc778\", \"\\uc628\\ub77c\\uc778\", \"\\uc628\\ub77c\\uc778\", \"\\uc628\\ub77c\\uc778\", \"\\uc628\\ub77c\\uc778\", \"\\uc628\\ub77c\\uc778\", \"\\uc628\\ub77c\\uc778\", \"\\uc628\\ub77c\\uc778\", \"\\uc628\\ub77c\\uc778\", \"\\uc628\\ub77c\\uc778\", \"\\uc628\\ub77c\\uc778\", \"\\uc644\\uc131\", \"\\uc678\\ubd80\", \"\\uc678\\ubd80\", \"\\uc67c\\ucabd\", \"\\uc694\\uac15\", \"\\uc6b0\\ub9ac\", \"\\uc6b0\\ub9ac\", \"\\uc6b0\\ub9ac\", \"\\uc6b0\\ub9ac\", \"\\uc6b0\\ub9ac\", \"\\uc6b0\\ub9ac\", \"\\uc6b4\\uc601\", \"\\uc6b4\\uc601\", \"\\uc6b4\\uc601\", \"\\uc6b4\\uc601\", \"\\uc6b4\\uc601\", \"\\uc6b4\\uc601\", \"\\uc6b4\\uc601\", \"\\uc6b4\\uc601\", \"\\uc6b4\\uc601\", \"\\uc6b4\\uc6a9\", \"\\uc6b4\\uc6a9\", \"\\uc6b8\\uc0b0\", \"\\uc6b8\\uc0b0\", \"\\uc6b8\\uc0b0\", \"\\uc6b8\\uc0b0\", \"\\uc6b8\\uc0b0\\uc2dc\", \"\\uc6b8\\uc0b0\\uc2dc\", \"\\uc6d0\\uaca9\", \"\\uc6d0\\uaca9\", \"\\uc6d0\\ub144\", \"\\uc6d0\\ub144\", \"\\uc6d0\\ub144\", \"\\uc6d0\\uc8fc\", \"\\uc6d0\\ud0c1\", \"\\uc6d0\\ud65c\", \"\\uc6d0\\ud65c\", \"\\uc704\\uae30\", \"\\uc704\\uae30\", \"\\uc704\\uae30\", \"\\uc704\\uae30\", \"\\uc704\\uae30\", \"\\uc704\\uae30\", \"\\uc704\\ucd09\", \"\\uc704\\ud558\", \"\\uc704\\ud558\", \"\\uc704\\ud558\", \"\\uc704\\ud558\", \"\\uc704\\ud558\", \"\\uc704\\ud558\", \"\\uc704\\ud558\", \"\\uc704\\ud558\", \"\\uc704\\ud558\", \"\\uc704\\ud558\", \"\\uc704\\ud558\", \"\\uc704\\ud558\", \"\\uc704\\ud558\", \"\\uc720\\uc544\", \"\\uc720\\uc544\", \"\\uc720\\uce58\\uc6d0\", \"\\uc720\\uce58\\uc6d0\", \"\\uc721\\uac10\", \"\\uc721\\uc131\", \"\\uc721\\uc131\", \"\\uc721\\uc131\", \"\\uc721\\uc131\", \"\\uc721\\uc131\", \"\\uc735\\ud569\", \"\\uc735\\ud569\", \"\\uc735\\ud569\", \"\\uc735\\ud569\", \"\\uc735\\ud569\", \"\\uc735\\ud569\", \"\\uc735\\ud569\", \"\\uc740\\ud589\", \"\\uc740\\ud61c\", \"\\uc740\\ud61c\", \"\\uc758\\uacb0\", \"\\uc758\\ub839\\uad70\", \"\\uc758\\ub839\\uad70\", \"\\uc758\\ub8b0\", \"\\uc758\\uc2dd\", \"\\uc758\\uc6d0\", \"\\uc758\\uc6d0\", \"\\uc758\\uc815\\ubd80\", \"\\uc758\\ud639\", \"\\uc774\\uba54\\uc77c\", \"\\uc774\\ubc88\", \"\\uc774\\ubc88\", \"\\uc774\\ubc88\", \"\\uc774\\ubc88\", \"\\uc774\\ubc88\", \"\\uc774\\ubc88\", \"\\uc774\\ubc88\", \"\\uc774\\ubc88\", \"\\uc774\\ubc88\", \"\\uc774\\uc0c1\", \"\\uc774\\uc0c1\", \"\\uc774\\uc0c1\", \"\\uc774\\uc0c1\", \"\\uc774\\uc288\", \"\\uc774\\uc5b4\\uc9c0\", \"\\uc774\\ucc9c\", \"\\uc774\\ud55c\\ubcf5\", \"\\uc774\\ud6c4\", \"\\uc774\\ud6c4\", \"\\uc774\\ud6c4\", \"\\uc774\\ud6c4\", \"\\uc774\\ud6c4\", \"\\uc778\\uac00\", \"\\uc778\\uac04\", \"\\uc778\\uac04\", \"\\uc778\\uac04\", \"\\uc778\\uacf5\\uc9c0\\ub2a5\", \"\\uc778\\uacf5\\uc9c0\\ub2a5\", \"\\uc778\\uacf5\\uc9c0\\ub2a5\", \"\\uc778\\uacf5\\uc9c0\\ub2a5\", \"\\uc778\\uad6c\", \"\\uc778\\uad6c\", \"\\uc778\\uad8c\", \"\\uc778\\ubb3c\", \"\\uc778\\uc131\", \"\\uc778\\uc218\", \"\\uc778\\uc2dd\", \"\\uc778\\uc7ac\", \"\\uc778\\uc7ac\", \"\\uc778\\uc7ac\", \"\\uc778\\uc7ac\", \"\\uc778\\uc7ac\", \"\\uc778\\uc7ac\", \"\\uc778\\uc7ac\", \"\\uc778\\uc7ac\", \"\\uc778\\uc7ac\", \"\\uc778\\uc7ac\", \"\\uc778\\uc815\\ubc1b\", \"\\uc778\\uc81c\", \"\\uc778\\uc81c\\uad70\", \"\\uc778\\ucc9c\", \"\\uc778\\ucc9c\", \"\\uc778\\ucc9c\", \"\\uc778\\ucc9c\", \"\\uc778\\ucc9c\\uad11\\uc5ed\\uc2dc\", \"\\uc778\\ucc9c\\uc2dc\", \"\\uc778\\ucc9c\\uc2dc\", \"\\uc778\\ud130\\ub137\", \"\\uc778\\ud504\\ub77c\", \"\\uc778\\ud504\\ub77c\", \"\\uc778\\ud504\\ub77c\", \"\\uc778\\ud558\", \"\\uc778\\ud558\", \"\\uc77c\\ubc18\\uc9c1\", \"\\uc77c\\ud658\", \"\\uc784\\uba85\", \"\\uc784\\uc0c1\", \"\\uc784\\uc2dc\", \"\\uc784\\uc885\", \"\\uc785\\uc2dc\", \"\\uc785\\uc2dc\", \"\\uc785\\uc2dc\", \"\\uc790\\ub140\", \"\\uc790\\ub140\", \"\\uc790\\ub140\", \"\\uc790\\uc0b0\", \"\\uc790\\uc758\", \"\\uc790\\uce58\", \"\\uc790\\uce58\", \"\\uc790\\uce58\", \"\\uc790\\uce58\", \"\\uc7a0\\uc7ac\\ub825\", \"\\uc7a5\\uad00\", \"\\uc7a5\\uae30\\ud654\", \"\\uc7a5\\ube44\", \"\\uc7a5\\uc11d\", \"\\uc7a5\\uc11d\", \"\\uc7a5\\uc11d\", \"\\uc7a5\\uc774\", \"\\uc7a5\\ud559\\uae08\", \"\\uc7a5\\ud559\\uc0ac\", \"\\uc7ac\\ub09c\", \"\\uc7ac\\ub2e8\", \"\\uc7ac\\ub2e8\", \"\\uc7ac\\ub2e8\", \"\\uc7ac\\uc6d0\", \"\\uc7ac\\uc6d0\", \"\\uc7ac\\uc778\", \"\\uc7ac\\uc815\", \"\\uc7ac\\uc815\", \"\\uc7ac\\ud310\\ub9e4\", \"\\uc801\\uc808\", \"\\uc804\\uacf5\", \"\\uc804\\uacf5\", \"\\uc804\\uad50\\uc870\", \"\\uc804\\uad50\\uc870\", \"\\uc804\\ub2ec\", \"\\uc804\\ub77c\", \"\\uc804\\ub77c\", \"\\uc804\\uc2dc\", \"\\uc804\\uc2dc\", \"\\uc804\\uc561\", \"\\uc804\\ud1b5\", \"\\uc804\\ud658\", \"\\uc804\\ud658\", \"\\uc804\\ud658\", \"\\uc804\\ud658\", \"\\uc804\\ud658\", \"\\uc804\\ud658\", \"\\uc804\\ud658\", \"\\uc804\\ud658\", \"\\uc804\\ud658\", \"\\uc810\\uac80\", \"\\uc811\\ud558\", \"\\uc815\\uae30\", \"\\uc815\\ubcf4\", \"\\uc815\\ubcf4\", \"\\uc815\\ubcf4\", \"\\uc815\\ubcf4\", \"\\uc815\\ubcf4\\uc6d0\", \"\\uc815\\ubcf4\\uc6d0\", \"\\uc815\\uc2dd\", \"\\uc815\\ucc45\", \"\\uc815\\ucc45\", \"\\uc815\\ucc45\", \"\\uc815\\ucc45\", \"\\uc815\\ucc45\", \"\\uc815\\ucc45\", \"\\uc815\\ucc45\", \"\\uc815\\ucc45\", \"\\uc815\\ucc45\", \"\\uc81c\\uacf5\", \"\\uc81c\\uacf5\", \"\\uc81c\\uacf5\", \"\\uc81c\\uacf5\", \"\\uc81c\\uacf5\", \"\\uc81c\\uacf5\", \"\\uc81c\\uacf5\", \"\\uc81c\\ub3c4\", \"\\uc81c\\ub3c4\", \"\\uc81c\\uc791\\uc2e4\", \"\\uc81c\\uc8fc\", \"\\uc81c\\uc8fc\", \"\\uc81c\\ucc9c\", \"\\uc870\\uac10\\ub3c4\", \"\\uc870\\uc0ac\", \"\\uc870\\uc0ac\", \"\\uc870\\uc0ac\", \"\\uc870\\uc0ac\", \"\\uc870\\uc131\", \"\\uc870\\uc131\", \"\\uc870\\uc131\", \"\\uc870\\uc131\", \"\\uc870\\uc131\", \"\\uc870\\uc131\", \"\\uc870\\uc131\", \"\\uc870\\uc131\", \"\\uc870\\uc131\", \"\\uc870\\uc9c1\", \"\\uc870\\uc9c1\", \"\\uc870\\uc9c1\", \"\\uc870\\ud76c\", \"\\uc885\\uba85\", \"\\uc885\\uba85\", \"\\uc8fc\\uad00\", \"\\uc8fc\\uad00\", \"\\uc8fc\\uad00\", \"\\uc8fc\\uad00\", \"\\uc8fc\\uad00\", \"\\uc8fc\\ub144\", \"\\uc8fc\\ub3c4\\uc131\", \"\\uc8fc\\ub825\", \"\\uc8fc\\ubaa9\\ubc1b\", \"\\uc8fc\\uc81c\", \"\\uc8fc\\uc81c\", \"\\uc8fc\\uc81c\", \"\\uc8fc\\uc81c\", \"\\uc8fc\\uc81c\", \"\\uc8fc\\uc81c\", \"\\uc8fc\\uc81c\", \"\\uc8fc\\uc81c\", \"\\uc8fc\\uccb4\", \"\\uc900\\ube44\", \"\\uc900\\ube44\", \"\\uc900\\ube44\", \"\\uc900\\ube44\", \"\\uc900\\ube44\", \"\\uc900\\ube44\", \"\\uc911\\uad6c\", \"\\uc911\\uad6c\", \"\\uc911\\uad6d\", \"\\uc911\\uc2ec\", \"\\uc911\\uc2ec\", \"\\uc911\\uc2ec\", \"\\uc911\\uc2ec\", \"\\uc911\\uc2ec\", \"\\uc911\\uc2ec\", \"\\uc911\\uc2ec\", \"\\uc911\\uc694\", \"\\uc911\\uc694\", \"\\uc911\\uc694\", \"\\uc911\\uc810\", \"\\uc911\\uc810\", \"\\uc911\\uc810\", \"\\uc911\\uc810\", \"\\uc99d\\uac00\", \"\\uc9c0\\uad6c\", \"\\uc9c0\\uad6c\", \"\\uc9c0\\uad6c\", \"\\uc9c0\\uad6c\", \"\\uc9c0\\uad6c\", \"\\uc9c0\\uad6c\", \"\\uc9c0\\uad6c\", \"\\uc9c0\\uae08\", \"\\uc9c0\\uae08\", \"\\uc9c0\\ub2a5\", \"\\uc9c0\\ub2a5\", \"\\uc9c0\\ub825\", \"\\uc9c0\\uc18d\", \"\\uc9c0\\uc18d\", \"\\uc9c0\\uc18d\", \"\\uc9c0\\uc18d\", \"\\uc9c0\\uc18d\", \"\\uc9c0\\uc18d\", \"\\uc9c0\\uc5ed\", \"\\uc9c0\\uc5ed\", \"\\uc9c0\\uc5ed\", \"\\uc9c0\\uc5ed\", \"\\uc9c0\\uc5ed\", \"\\uc9c0\\uc5ed\", \"\\uc9c0\\uc6d0\", \"\\uc9c0\\uc6d0\", \"\\uc9c0\\uc6d0\", \"\\uc9c0\\uc6d0\", \"\\uc9c0\\uc6d0\", \"\\uc9c0\\uc6d0\", \"\\uc9c0\\uc6d0\", \"\\uc9c0\\uc6d0\", \"\\uc9c0\\uc6d0\", \"\\uc9c0\\uc6d0\", \"\\uc9c0\\uc6d0\", \"\\uc9c0\\uc790\\uccb4\", \"\\uc9c0\\uc790\\uccb4\", \"\\uc9c0\\uc790\\uccb4\", \"\\uc9c0\\ud5a5\", \"\\uc9c0\\ud5a5\", \"\\uc9c0\\ud5a5\", \"\\uc9c0\\ud5a5\", \"\\uc9c1\\uba74\", \"\\uc9c1\\uc18d\", \"\\uc9c1\\uc5c5\", \"\\uc9c1\\uc5c5\", \"\\uc9c1\\uc5c5\", \"\\uc9c1\\uc5c5\", \"\\uc9c4\\uacbd\", \"\\uc9c4\\uad6c\", \"\\uc9c4\\ub85c\", \"\\uc9c4\\ub85c\", \"\\uc9c4\\ub85c\", \"\\uc9c4\\ub85c\", \"\\uc9c4\\uc8fc\", \"\\uc9c4\\ud589\", \"\\uc9c4\\ud589\", \"\\uc9c4\\ud589\", \"\\uc9c4\\ud589\", \"\\uc9c4\\ud589\", \"\\uc9c4\\ud589\", \"\\uc9c4\\ud589\", \"\\uc9c4\\ud589\", \"\\uc9c8\\ubb38\", \"\\uc9c8\\ubb38\", \"\\uc9d1\\ud589\", \"\\ucc28\\uadfc\\ucc28\\uadfc\", \"\\ucc28\\ub840\", \"\\ucc28\\ub840\", \"\\ucc38\\uac00\", \"\\ucc38\\uac00\\uc790\", \"\\ucc38\\uad00\", \"\\ucc38\\uc11d\", \"\\ucc38\\uc11d\", \"\\ucc38\\uc11d\", \"\\ucc38\\uc11d\", \"\\ucc38\\uc11d\", \"\\ucc38\\uc5ec\", \"\\ucc38\\uc5ec\", \"\\ucc38\\uc5ec\", \"\\ucc38\\uc5ec\", \"\\ucc38\\uc5ec\", \"\\ucc38\\uc5ec\", \"\\ucc38\\uc5ec\", \"\\ucc38\\uc5ec\", \"\\ucc44\\uc6b0\", \"\\ucc44\\ud305\", \"\\ucc45\\uc784\", \"\\ucc45\\uc784\", \"\\ucc45\\uc784\", \"\\ucca0\\uc800\", \"\\uccad\\uc18c\\ub144\", \"\\uccad\\uc18c\\ub144\", \"\\uccad\\uc18c\\ub144\", \"\\uccad\\uc18c\\ub144\", \"\\uccad\\uc8fc\", \"\\uccad\\uc8fc\", \"\\uccad\\uc8fc\", \"\\uccb4\\uacb0\", \"\\uccb4\\uacb0\", \"\\uccb4\\uacb0\", \"\\uccb4\\uc721\", \"\\uccb4\\uc81c\", \"\\uccb4\\uc81c\", \"\\uccb4\\uc81c\", \"\\uccb4\\uc81c\", \"\\uccb4\\uc81c\", \"\\uccb4\\uc81c\", \"\\uccb4\\uc81c\", \"\\uccb4\\ud5d8\", \"\\uccb4\\ud5d8\", \"\\uccb4\\ud5d8\", \"\\uccb4\\ud5d8\", \"\\ucd08\\ub4f1\\ud559\\uc0dd\", \"\\ucd08\\uc810\", \"\\ucd08\\uccad\", \"\\ucd1d\\ud68c\", \"\\ucd2c\\uc601\", \"\\ucd5c\\ub300\", \"\\ucd5c\\uc0c1\", \"\\ucd94\\uacbd\", \"\\ucd94\\uc9c4\", \"\\ucd94\\uc9c4\", \"\\ucd94\\uc9c4\", \"\\ucd94\\uc9c4\", \"\\ucd94\\uc9c4\", \"\\ucd94\\uc9c4\", \"\\ucd94\\uc9c4\", \"\\ucd94\\uc9c4\", \"\\ucd94\\uc9c4\", \"\\ucd94\\uc9c4\", \"\\ucd94\\uc9c4\", \"\\ucda9\\ub0a8\", \"\\ucda9\\ub0a8\", \"\\ucda9\\ub0a8\", \"\\ucda9\\ub0a8\", \"\\ucda9\\ubd81\", \"\\ucda9\\ubd81\", \"\\ucda9\\ubd81\", \"\\ucda9\\ubd81\", \"\\ucda9\\ubd81\", \"\\ucda9\\ubd81\", \"\\ucda9\\ubd81\", \"\\ucda9\\ubd81\", \"\\ucda9\\uccad\\ubd81\\ub3c4\", \"\\ucda9\\uccad\\ubd81\\ub3c4\", \"\\ucde8\\ub4dd\", \"\\ucde8\\ub4dd\", \"\\ucde8\\uc784\", \"\\uce74\\ub4dc\", \"\\uce74\\ud398\", \"\\ucea0\\ud37c\\uc2a4\", \"\\ucea0\\ud37c\\uc2a4\", \"\\ucea0\\ud504\", \"\\ucea0\\ud504\", \"\\ucf00\\uc774\", \"\\ucf54\\ub85c\\ub098\", \"\\ucf54\\ub85c\\ub098\", \"\\ucf54\\ub85c\\ub098\", \"\\ucf54\\ub85c\\ub098\", \"\\ucf54\\ub85c\\ub098\", \"\\ucf54\\ub85c\\ub098\", \"\\ucf54\\ub9ac\\uc544\", \"\\ucf58\\ud150\\uce20\", \"\\ucf58\\ud150\\uce20\", \"\\ucf58\\ud150\\uce20\", \"\\ucf58\\ud150\\uce20\", \"\\ucf8c\\uc801\", \"\\ud0a4\\uc6b0\", \"\\ud0a4\\uc6b0\", \"\\ud0a4\\uc6b0\", \"\\ud0a4\\uc6b0\", \"\\ud0a4\\uc6b0\", \"\\ud0a4\\uc6cc\\ub4dc\", \"\\ud0d0\\uad6c\", \"\\ud0d0\\uad6c\", \"\\ud0dc\\ube14\\ub9bf\", \"\\ud0dc\\ube14\\ub9bf\", \"\\ud0dd\\ud2b8\", \"\\ud0dd\\ud2b8\", \"\\ud0dd\\ud2b8\", \"\\ud14c\\ub9c8\", \"\\ud14c\\ub9c8\", \"\\ud1a0\\ub860\", \"\\ud1a0\\ub860\", \"\\ud1a0\\ub860\", \"\\ud1a0\\ub860\", \"\\ud1a0\\ub860\", \"\\ud1a0\\ub860\", \"\\ud1a0\\ub860\", \"\\ud1a0\\ub860\\ud68c\", \"\\ud1a0\\ub860\\ud68c\", \"\\ud1a0\\ub860\\ud68c\", \"\\ud1a1\\ud1a1\", \"\\ud1a1\\ud1a1\", \"\\ud1b5\\uc2e0\", \"\\ud1b5\\ucc30\\ub825\", \"\\ud1b5\\ud558\", \"\\ud1b5\\ud558\", \"\\ud1b5\\ud558\", \"\\ud1b5\\ud558\", \"\\ud1b5\\ud558\", \"\\ud1b5\\ud558\", \"\\ud1b5\\ud558\", \"\\ud1b5\\ud558\", \"\\ud1b5\\ud558\", \"\\ud1b5\\ud558\", \"\\ud1b5\\ud558\", \"\\ud1b5\\ud558\", \"\\ud1b5\\ud558\", \"\\ud1b5\\ud558\", \"\\ud22c\\uc5b4\", \"\\ud22c\\uc785\", \"\\ud22c\\uc785\", \"\\ud22c\\uc785\", \"\\ud22c\\uc790\", \"\\ud22c\\uc790\", \"\\ud22c\\uc790\", \"\\ud29c\\ube0c\", \"\\ud29c\\ube0c\", \"\\ud29c\\ube0c\", \"\\ud29c\\ube0c\", \"\\ud2b9\\uac15\", \"\\ud2b9\\uc218\", \"\\ud2b9\\ud654\", \"\\ud30c\\uc774\\ub0b8\\uc15c\", \"\\ud30c\\ud06c\", \"\\ud30c\\ud06c\", \"\\ud30c\\ud06c\", \"\\ud310\\uacb0\", \"\\ud310\\ub2e8\", \"\\ud328\\ub7ec\\ub2e4\\uc784\", \"\\ud328\\ub7ec\\ub2e4\\uc784\", \"\\ud328\\ub7ec\\ub2e4\\uc784\", \"\\ud398\\uc2a4\\ud2f0\\ubc8c\", \"\\ud3b8\\uc131\", \"\\ud3b8\\uc131\", \"\\ud3b8\\uc131\", \"\\ud3b8\\uc131\", \"\\ud3b8\\uc131\", \"\\ud3b8\\uc131\", \"\\ud3b8\\uc9d1\", \"\\ud3c9\\ud654\", \"\\ud3c9\\ud654\", \"\\ud3ec\\ub7fc\", \"\\ud3ec\\ub7fc\", \"\\ud3ec\\ub7fc\", \"\\ud3ec\\ub7fc\", \"\\ud3ec\\uc2a4\\ud2b8\", \"\\ud3ec\\uc2a4\\ud2b8\", \"\\ud3ec\\uc2a4\\ud2b8\", \"\\ud3ec\\uc2a4\\ud2b8\", \"\\ud3ec\\uc2a4\\ud2b8\", \"\\ud504\\ub808\\uc2a4\", \"\\ud504\\ub85c\\uadf8\\ub7a8\", \"\\ud504\\ub85c\\uadf8\\ub7a8\", \"\\ud504\\ub85c\\uadf8\\ub7a8\", \"\\ud504\\ub85c\\uadf8\\ub7a8\", \"\\ud504\\ub85c\\uadf8\\ub7a8\", \"\\ud504\\ub85c\\uc81d\\ud2b8\", \"\\ud504\\ub85c\\uc81d\\ud2b8\", \"\\ud504\\ub85c\\uc81d\\ud2b8\", \"\\ud504\\ub85c\\uc81d\\ud2b8\", \"\\ud50c\\ub7ab\\ud3fc\", \"\\ud50c\\ub7ab\\ud3fc\", \"\\ud50c\\ub7ab\\ud3fc\", \"\\ud50c\\ub7ab\\ud3fc\", \"\\ud50c\\ub7ab\\ud3fc\", \"\\ud50c\\ub7ab\\ud3fc\", \"\\ud540\\uc14b\", \"\\ud558\\uacbd\", \"\\ud558\\ub098\", \"\\ud558\\ub098\", \"\\ud558\\ubc18\\uae30\", \"\\ud558\\uc6b0\\uc2a4\", \"\\ud559\\uacfc\", \"\\ud559\\uacfc\", \"\\ud559\\uad50\", \"\\ud559\\uad50\", \"\\ud559\\uad50\", \"\\ud559\\uad50\", \"\\ud559\\uad50\", \"\\ud559\\uad50\", \"\\ud559\\uad50\", \"\\ud559\\uad50\", \"\\ud559\\uad50\", \"\\ud559\\uad50\", \"\\ud559\\uad50\", \"\\ud559\\uae30\\uc81c\", \"\\ud559\\ub144\\ub3c4\", \"\\ud559\\ub144\\uc81c\", \"\\ud559\\ub825\", \"\\ud559\\ub825\", \"\\ud559\\ub825\", \"\\ud559\\ub825\", \"\\ud559\\ub839\", \"\\ud559\\ub839\", \"\\ud559\\ubd80\", \"\\ud559\\ubd80\\ubaa8\", \"\\ud559\\ubd80\\ubaa8\", \"\\ud559\\ubd80\\ubaa8\", \"\\ud559\\ubd80\\ubaa8\", \"\\ud559\\ubd80\\ubaa8\", \"\\ud559\\uc0ac\", \"\\ud559\\uc0ac\", \"\\ud559\\uc0dd\", \"\\ud559\\uc0dd\", \"\\ud559\\uc0dd\", \"\\ud559\\uc0dd\", \"\\ud559\\uc0dd\", \"\\ud559\\uc0dd\", \"\\ud559\\uc0dd\", \"\\ud559\\uc0dd\", \"\\ud559\\uc0dd\", \"\\ud559\\uc0dd\", \"\\ud559\\uc220\", \"\\ud559\\uc220\", \"\\ud559\\uc2b5\", \"\\ud559\\uc2b5\", \"\\ud559\\uc2b5\", \"\\ud559\\uc2b5\", \"\\ud559\\uc2b5\", \"\\ud559\\uc2b5\", \"\\ud559\\uc2b5\", \"\\ud559\\uc2b5\", \"\\ud559\\uc2b5\", \"\\ud559\\uc5c5\", \"\\ud559\\uc6d0\", \"\\ud559\\uc6d0\", \"\\ud559\\uc704\", \"\\ud55c\\uad6d\\ud310\", \"\\ud55c\\uad6d\\ud615\", \"\\ud55c\\ub9c8\\ub2f9\", \"\\ud55c\\ucef4\", \"\\ud568\\uaed8\", \"\\ud568\\uaed8\", \"\\ud568\\uaed8\", \"\\ud568\\uaed8\", \"\\ud568\\uaed8\", \"\\ud568\\uaed8\", \"\\ud568\\uaed8\", \"\\ud568\\uaed8\", \"\\ud568\\uaed8\", \"\\ud568\\uaed8\", \"\\ud574\\uc591\", \"\\ud574\\uc678\", \"\\ud574\\uc678\", \"\\ud589\\ub3d9\", \"\\ud589\\ubcf5\", \"\\ud589\\ubcf5\", \"\\ud589\\ubcf5\", \"\\ud589\\ubcf5\", \"\\ud589\\ubcf5\", \"\\ud5a5\\ud558\", \"\\ud5e4\\ub7f4\\ub4dc\", \"\\ud5e4\\uce58\", \"\\ud601\\uba85\", \"\\ud601\\uba85\", \"\\ud601\\uba85\", \"\\ud601\\uba85\", \"\\ud601\\uba85\", \"\\ud601\\uc2e0\", \"\\ud601\\uc2e0\", \"\\ud601\\uc2e0\", \"\\ud601\\uc2e0\", \"\\ud601\\uc2e0\", \"\\ud601\\uc2e0\", \"\\ud601\\uc2e0\", \"\\ud601\\uc2e0\", \"\\ud601\\uc2e0\", \"\\ud601\\uc2e0\", \"\\ud601\\uc2e0\\uc801\", \"\\ud604\\ub300\", \"\\ud604\\uc7ac\", \"\\ud604\\uc7ac\", \"\\ud604\\uc7ac\", \"\\ud604\\uc7ac\", \"\\ud604\\ud589\", \"\\ud611\\ub3d9\\uc870\\ud569\", \"\\ud611\\ub825\", \"\\ud611\\ub825\", \"\\ud611\\ub825\", \"\\ud611\\ub825\", \"\\ud611\\ub825\", \"\\ud611\\ub825\", \"\\ud611\\ub825\", \"\\ud611\\ub825\", \"\\ud611\\ub825\", \"\\ud611\\uc57d\", \"\\ud611\\uc57d\", \"\\ud611\\uc57d\", \"\\ud611\\uc57d\", \"\\ud611\\uc57d\", \"\\ud611\\uc57d\", \"\\ud611\\uc758\", \"\\ud611\\uc758\", \"\\ud615\\uc131\", \"\\ud615\\uc131\", \"\\ud648\\ud398\\uc774\\uc9c0\", \"\\ud648\\ud398\\uc774\\uc9c0\", \"\\ud648\\ud398\\uc774\\uc9c0\", \"\\ud64d\\ubcf4\", \"\\ud654\\uace0\", \"\\ud655\\ub300\", \"\\ud655\\ub300\", \"\\ud655\\ub300\", \"\\ud655\\ub300\", \"\\ud655\\ub300\", \"\\ud655\\ub300\", \"\\ud655\\ub300\", \"\\ud655\\ub300\", \"\\ud655\\ubcf4\", \"\\ud655\\ubcf4\", \"\\ud655\\ubcf4\", \"\\ud655\\ubcf4\", \"\\ud655\\ubcf4\", \"\\ud655\\ubcf4\", \"\\ud658\\uacbd\", \"\\ud658\\uacbd\", \"\\ud658\\uacbd\", \"\\ud658\\uacbd\", \"\\ud658\\uacbd\", \"\\ud658\\uacbd\", \"\\ud658\\uacbd\", \"\\ud658\\uacbd\", \"\\ud658\\uacbd\", \"\\ud65c\\uc6a9\", \"\\ud65c\\uc6a9\", \"\\ud65c\\uc6a9\", \"\\ud65c\\uc6a9\", \"\\ud65c\\uc6a9\", \"\\ud65c\\uc6a9\", \"\\ud65c\\uc6a9\", \"\\ud68c\\uacac\", \"\\ud68c\\uc758\", \"\\ud68c\\uc758\", \"\\ud68c\\uc758\", \"\\ud68c\\uc758\", \"\\ud68c\\uc758\", \"\\ud68c\\uc7a5\", \"\\ud6a8\\uc728\\uc131\", \"\\ud6a8\\uc728\\uc801\", \"\\ud6a8\\uc728\\uc801\", \"\\ud6a8\\uc728\\uc801\", \"\\ud6a8\\uc728\\uc801\", \"\\ud734\\uc2dd\"]}, \"R\": 30, \"lambda.step\": 0.01, \"plot.opts\": {\"xlab\": \"PC1\", \"ylab\": \"PC2\"}, \"topic.order\": [3, 4, 7, 14, 13, 8, 11, 5, 2, 9, 12, 10, 1, 6]};\n",
       "\n",
       "function LDAvis_load_lib(url, callback){\n",
       "  var s = document.createElement('script');\n",
       "  s.src = url;\n",
       "  s.async = true;\n",
       "  s.onreadystatechange = s.onload = callback;\n",
       "  s.onerror = function(){console.warn(\"failed to load library \" + url);};\n",
       "  document.getElementsByTagName(\"head\")[0].appendChild(s);\n",
       "}\n",
       "\n",
       "if(typeof(LDAvis) !== \"undefined\"){\n",
       "   // already loaded: just create the visualization\n",
       "   !function(LDAvis){\n",
       "       new LDAvis(\"#\" + \"ldavis_el73931406138274970886311302808\", ldavis_el73931406138274970886311302808_data);\n",
       "   }(LDAvis);\n",
       "}else if(typeof define === \"function\" && define.amd){\n",
       "   // require.js is available: use it to load d3/LDAvis\n",
       "   require.config({paths: {d3: \"https://d3js.org/d3.v5\"}});\n",
       "   require([\"d3\"], function(d3){\n",
       "      window.d3 = d3;\n",
       "      LDAvis_load_lib(\"https://cdn.jsdelivr.net/gh/bmabey/pyLDAvis/pyLDAvis/js/ldavis.v3.0.0.js\", function(){\n",
       "        new LDAvis(\"#\" + \"ldavis_el73931406138274970886311302808\", ldavis_el73931406138274970886311302808_data);\n",
       "      });\n",
       "    });\n",
       "}else{\n",
       "    // require.js not available: dynamically load d3 & LDAvis\n",
       "    LDAvis_load_lib(\"https://d3js.org/d3.v5.js\", function(){\n",
       "         LDAvis_load_lib(\"https://cdn.jsdelivr.net/gh/bmabey/pyLDAvis/pyLDAvis/js/ldavis.v3.0.0.js\", function(){\n",
       "                 new LDAvis(\"#\" + \"ldavis_el73931406138274970886311302808\", ldavis_el73931406138274970886311302808_data);\n",
       "            })\n",
       "         });\n",
       "}\n",
       "</script>"
      ],
      "text/plain": [
       "<IPython.core.display.HTML object>"
      ]
     },
     "execution_count": 91,
     "metadata": {},
     "output_type": "execute_result"
    }
   ],
   "source": [
    "import pyLDAvis.gensim\n",
    "\n",
    "pyLDAvis.enable_notebook()\n",
    "vis = pyLDAvis.gensim.prepare(ldamodel, corpus, dictionary)\n",
    "pyLDAvis.display(vis)"
   ]
  },
  {
   "cell_type": "code",
   "execution_count": 92,
   "id": "satisfactory-hopkins",
   "metadata": {},
   "outputs": [
    {
     "name": "stdout",
     "output_type": "stream",
     "text": [
      "0 번째 문서의 topic 비율: [(6, 0.9612849)]\n",
      "1 번째 문서의 topic 비율: [(1, 0.9535621)]\n",
      "2 번째 문서의 topic 비율: [(3, 0.14951678), (6, 0.2797355), (7, 0.47211677), (10, 0.07558295)]\n",
      "3 번째 문서의 topic 비율: [(3, 0.07011374), (7, 0.89091647)]\n",
      "4 번째 문서의 topic 비율: [(0, 0.070290945), (2, 0.61764634), (4, 0.15605475), (6, 0.14199714)]\n"
     ]
    },
    {
     "name": "stderr",
     "output_type": "stream",
     "text": [
      "/Users/jhohunkoog/anaconda3/envs/nlp/lib/python3.8/site-packages/ipykernel/ipkernel.py:283: DeprecationWarning: `should_run_async` will not call `transform_cell` automatically in the future. Please pass the result to `transformed_cell` argument and any exception that happen during thetransform in `preprocessing_exc_tuple` in IPython 7.17 and above.\n",
      "  and should_run_async(code)\n"
     ]
    }
   ],
   "source": [
    "for i, topic_list in enumerate(ldamodel[corpus]):\n",
    "    if i==5: # 처음 5개까지만 살펴보자\n",
    "        break\n",
    "    print(i, '번째 문서의 topic 비율:', topic_list)\n",
    "    # (토픽번호, 토픽비율)로 출력됨"
   ]
  },
  {
   "cell_type": "code",
   "execution_count": 95,
   "id": "conditional-adjustment",
   "metadata": {},
   "outputs": [
    {
     "name": "stderr",
     "output_type": "stream",
     "text": [
      "/Users/jhohunkoog/anaconda3/envs/nlp/lib/python3.8/site-packages/ipykernel/ipkernel.py:283: DeprecationWarning: `should_run_async` will not call `transform_cell` automatically in the future. Please pass the result to `transformed_cell` argument and any exception that happen during thetransform in `preprocessing_exc_tuple` in IPython 7.17 and above.\n",
      "  and should_run_async(code)\n"
     ]
    },
    {
     "data": {
      "text/plain": [
       "[(0,\n",
       "  '0.050*\"교육\" + 0.045*\"미래\" + 0.037*\"경남\" + 0.026*\"파크\" + 0.024*\"테마\" + 0.022*\"교육감\" + 0.016*\"박종훈\" + 0.013*\"ㄴ다\"'),\n",
       " (1,\n",
       "  '0.080*\"교육\" + 0.048*\"미래\" + 0.033*\"에서\" + 0.025*\"주제\" + 0.024*\"방향\" + 0.022*\"발표\" + 0.019*\"연구\" + 0.018*\"혁신\"'),\n",
       " (2,\n",
       "  '0.106*\"교육\" + 0.048*\"미래\" + 0.024*\"학생\" + 0.014*\"학교\" + 0.011*\"중심\" + 0.011*\"정책\" + 0.011*\"ㄴ다\" + 0.010*\"과정\"'),\n",
       " (3,\n",
       "  '0.079*\"교육\" + 0.049*\"미래\" + 0.037*\"교육청\" + 0.024*\"기자\" + 0.015*\"밝히\" + 0.013*\"교육감\" + 0.013*\"뉴스\" + 0.012*\"위하\"'),\n",
       " (4,\n",
       "  '0.051*\"교육\" + 0.048*\"미래\" + 0.025*\"학교\" + 0.024*\"사업\" + 0.020*\"혁신\" + 0.020*\"추진\" + 0.016*\"육성\" + 0.014*\"지원\"'),\n",
       " (5,\n",
       "  '0.060*\"아이\" + 0.053*\"우리\" + 0.046*\"경제\" + 0.045*\"운용\" + 0.044*\"자산\" + 0.040*\"프로그램\" + 0.033*\"미래\" + 0.028*\"초등학생\"'),\n",
       " (6,\n",
       "  '0.073*\"교육\" + 0.037*\"미래\" + 0.027*\"위하\" + 0.024*\"구축\" + 0.018*\"지원\" + 0.017*\"원격\" + 0.017*\"학습\" + 0.017*\"수업\"'),\n",
       " (7,\n",
       "  '0.092*\"학교\" + 0.051*\"미래\" + 0.045*\"교육\" + 0.036*\"환경\" + 0.026*\"생태\" + 0.021*\"위하\" + 0.017*\"추진\" + 0.015*\"교육청\"'),\n",
       " (8,\n",
       "  '0.032*\"부산\" + 0.030*\"미래\" + 0.028*\"경남\" + 0.025*\"교육원\" + 0.019*\"지원\" + 0.018*\"교육청\" + 0.016*\"기자\" + 0.014*\"부산시\"'),\n",
       " (9,\n",
       "  '0.045*\"교육부\" + 0.043*\"교육\" + 0.036*\"부총리\" + 0.032*\"미래\" + 0.030*\"밝히\" + 0.026*\"서울\" + 0.024*\"장관\" + 0.022*\"기자\"'),\n",
       " (10,\n",
       "  '0.077*\"교육\" + 0.040*\"지구\" + 0.040*\"미래\" + 0.033*\"지역\" + 0.032*\"협력\" + 0.020*\"사업\" + 0.019*\"지원\" + 0.018*\"운영\"'),\n",
       " (11,\n",
       "  '0.042*\"교육\" + 0.038*\"예산\" + 0.035*\"미래\" + 0.029*\"편성\" + 0.021*\"사업\" + 0.020*\"재정\" + 0.019*\"조성\" + 0.016*\"교육청\"'),\n",
       " (12,\n",
       "  '0.087*\"교육\" + 0.052*\"미래\" + 0.021*\"라고\" + 0.021*\"에서\" + 0.016*\"위하\" + 0.014*\"변화\" + 0.014*\"사회\" + 0.013*\"말하\"'),\n",
       " (13,\n",
       "  '0.069*\"교육\" + 0.060*\"코로나\" + 0.040*\"미래\" + 0.039*\"19\" + 0.031*\"수업\" + 0.020*\"원격\" + 0.016*\"위하\" + 0.014*\"시대\"')]"
      ]
     },
     "execution_count": 95,
     "metadata": {},
     "output_type": "execute_result"
    }
   ],
   "source": [
    "topics = ldamodel.print_topics(num_words=8)\n",
    "\n",
    "[topic for topic in topics]"
   ]
  },
  {
   "cell_type": "code",
   "execution_count": null,
   "id": "afraid-reception",
   "metadata": {},
   "outputs": [],
   "source": []
  }
 ],
 "metadata": {
  "kernelspec": {
   "display_name": "Python 3",
   "language": "python",
   "name": "python3"
  },
  "language_info": {
   "codemirror_mode": {
    "name": "ipython",
    "version": 3
   },
   "file_extension": ".py",
   "mimetype": "text/x-python",
   "name": "python",
   "nbconvert_exporter": "python",
   "pygments_lexer": "ipython3",
   "version": "3.8.5"
  }
 },
 "nbformat": 4,
 "nbformat_minor": 5
}
