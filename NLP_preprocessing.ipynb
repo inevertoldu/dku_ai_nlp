{
 "cells": [
  {
   "cell_type": "markdown",
   "id": "d532a009",
   "metadata": {},
   "source": [
    "# 텍스트 데이터를 이용한 머신러닝/딥러닝 분석"
   ]
  },
  {
   "cell_type": "markdown",
   "id": "677ec11e",
   "metadata": {},
   "source": [
    "### 시작하기 전에"
   ]
  },
  {
   "cell_type": "markdown",
   "id": "4d19a72f",
   "metadata": {},
   "source": [
    "데스크톱에서 실행하는 경우, 아나콘다를 설치한 뒤에, 가상환경을 설치하고 진행하는 것을 추천합니다."
   ]
  },
  {
   "cell_type": "markdown",
   "id": "9da8408b",
   "metadata": {},
   "source": [
    "<img src='https://dojang.io/pluginfile.php/14099/mod_page/content/4/047005.png' width=500 height=500></img>\n",
    "<img src='https://dojang.io/pluginfile.php/14099/mod_page/content/4/047006.png' width=500 height=500></img>"
   ]
  },
  {
   "cell_type": "markdown",
   "id": "020a9fb7",
   "metadata": {},
   "source": [
    "한국어 품사 분석을 위한 라이브러리 koNLPy의 설명에 대해서는 아래의 링크를 참고하시기 바랍니다.<p>\n",
    "https://konlpy.org/ko/latest/"
   ]
  },
  {
   "cell_type": "markdown",
   "id": "rolled-truck",
   "metadata": {},
   "source": [
    "# 한국어 데이터 처리하기"
   ]
  },
  {
   "cell_type": "markdown",
   "id": "alike-mailman",
   "metadata": {},
   "source": [
    "일반적인 텍스트 데이터는 모델을 학습하기 이전에 여러 가지 작업을 거치게 됩니다. 이를 전처리(Preprocessing)이라고 합니다."
   ]
  },
  {
   "cell_type": "markdown",
   "id": "9d880a43",
   "metadata": {},
   "source": [
    "<b>토크나이징(Tokenizing)</b>이란?<br>\n",
    "주어진 텍스트를 분석할 수 있는 단위인 토큰(token)으로 쪼개는 것<br>토크나이징은 단어, 문장 등의 단위에 따라 쪼갤 수 있다."
   ]
  },
  {
   "cell_type": "markdown",
   "id": "printable-oxford",
   "metadata": {},
   "source": [
    "예를 들어 '아빠가 방에 들어가신다.'는 문장은 품사를 고려한다면<br>\n",
    "'아빠', '가', '방', '에', '들어가신다'로 나눌 수 있고 띄어쓰기를 기준으로 한다면<br>\n",
    "'아빠가', '방에', '들어가신다'로 나눌 수 있다.<br>\n",
    "그리고 실제 분석에서 의미가 있는 것들은 조사가 아니라 명사나 동사이므로 여기서 '가', '에' 등은 제외하기도 한다."
   ]
  },
  {
   "cell_type": "markdown",
   "id": "69dfa0c1",
   "metadata": {},
   "source": [
    "일반적인 토크나이징은 ntlk나 spacy 등의 라이브러리에서 제공되는 함수로도 가능하다."
   ]
  },
  {
   "cell_type": "code",
   "execution_count": 2,
   "id": "existing-feelings",
   "metadata": {},
   "outputs": [
    {
     "name": "stdout",
     "output_type": "stream",
     "text": [
      "spacy                        3.4.4\r\n",
      "spacy-legacy                 3.0.10\r\n",
      "spacy-loggers                1.0.4\r\n"
     ]
    }
   ],
   "source": [
    "!pip list | grep spacy"
   ]
  },
  {
   "cell_type": "markdown",
   "id": "241d7d24",
   "metadata": {},
   "source": [
    "<b>Q</b>. 한국어 품사 분석기를 사용하는 이유는 무엇일까요?<br>\n",
    "<b>A</b>. 영어와 달리 한국어는 띄어쓰기 단위로만 쪼갤 수가 없다."
   ]
  },
  {
   "cell_type": "markdown",
   "id": "interracial-diary",
   "metadata": {},
   "source": [
    "## NTLK를 이용한 토크나이징\n",
    "### NTLK를 이용하면 띄어쓰기를 일반적으로 기준으로 하게 된다."
   ]
  },
  {
   "cell_type": "code",
   "execution_count": 3,
   "id": "7e926c3b",
   "metadata": {},
   "outputs": [
    {
     "name": "stdout",
     "output_type": "stream",
     "text": [
      "Requirement already satisfied: nltk in /home/hunkoog/anaconda3/envs/nlp/lib/python3.9/site-packages (3.7)\r\n",
      "Requirement already satisfied: click in /home/hunkoog/anaconda3/envs/nlp/lib/python3.9/site-packages (from nltk) (8.1.3)\r\n",
      "Requirement already satisfied: tqdm in /home/hunkoog/anaconda3/envs/nlp/lib/python3.9/site-packages (from nltk) (4.64.1)\r\n",
      "Requirement already satisfied: regex>=2021.8.3 in /home/hunkoog/anaconda3/envs/nlp/lib/python3.9/site-packages (from nltk) (2022.10.31)\r\n",
      "Requirement already satisfied: joblib in /home/hunkoog/anaconda3/envs/nlp/lib/python3.9/site-packages (from nltk) (1.2.0)\r\n"
     ]
    }
   ],
   "source": [
    "# NTLK가 설치되어 있지 않다면 다음 코드를 사용할 수 있다.\n",
    "!pip install nltk"
   ]
  },
  {
   "cell_type": "code",
   "execution_count": 3,
   "id": "e505a6ed",
   "metadata": {},
   "outputs": [
    {
     "data": {
      "text/plain": [
       "['We',\n",
       " 'hold',\n",
       " 'these',\n",
       " 'truths',\n",
       " 'to',\n",
       " 'be',\n",
       " 'self-evident',\n",
       " ',',\n",
       " 'that',\n",
       " 'all',\n",
       " 'men',\n",
       " 'are',\n",
       " 'created',\n",
       " 'equal',\n",
       " ',',\n",
       " 'that',\n",
       " 'they',\n",
       " 'are',\n",
       " 'endowed',\n",
       " 'by',\n",
       " 'their',\n",
       " 'Creator',\n",
       " 'with',\n",
       " 'certain',\n",
       " 'unalienable',\n",
       " 'Rights',\n",
       " ',',\n",
       " 'that',\n",
       " 'among',\n",
       " 'these',\n",
       " 'are',\n",
       " 'Life',\n",
       " ',',\n",
       " 'Liberty',\n",
       " 'and',\n",
       " 'the',\n",
       " 'pursuit',\n",
       " 'of',\n",
       " 'Happiness',\n",
       " '.',\n",
       " 'That',\n",
       " 'to',\n",
       " 'secure',\n",
       " 'these',\n",
       " 'rights',\n",
       " ',',\n",
       " 'Governments',\n",
       " 'are',\n",
       " 'instituted',\n",
       " 'among',\n",
       " 'Men',\n",
       " ',',\n",
       " 'deriving',\n",
       " 'their',\n",
       " 'just',\n",
       " 'powers',\n",
       " 'from',\n",
       " 'the',\n",
       " 'consent',\n",
       " 'of',\n",
       " 'the',\n",
       " 'governed',\n",
       " '.',\n",
       " 'That',\n",
       " 'whenever',\n",
       " 'any',\n",
       " 'Form',\n",
       " 'of',\n",
       " 'Government',\n",
       " 'becomes',\n",
       " 'destructive',\n",
       " 'of',\n",
       " 'these',\n",
       " 'ends',\n",
       " ',',\n",
       " 'it',\n",
       " 'is',\n",
       " 'the',\n",
       " 'Right',\n",
       " 'of',\n",
       " 'the',\n",
       " 'People',\n",
       " 'to',\n",
       " 'alter',\n",
       " 'or',\n",
       " 'to',\n",
       " 'abolish',\n",
       " 'it',\n",
       " ',',\n",
       " 'and',\n",
       " 'to',\n",
       " 'institute',\n",
       " 'new',\n",
       " 'Government',\n",
       " ',',\n",
       " 'laying',\n",
       " 'its',\n",
       " 'foundation',\n",
       " 'on',\n",
       " 'such',\n",
       " 'principles',\n",
       " 'and',\n",
       " 'organizing',\n",
       " 'its',\n",
       " 'powers',\n",
       " 'in',\n",
       " 'such',\n",
       " 'form',\n",
       " ',',\n",
       " 'as',\n",
       " 'to',\n",
       " 'them',\n",
       " 'shall',\n",
       " 'seem',\n",
       " 'most',\n",
       " 'likely',\n",
       " 'to',\n",
       " 'effect',\n",
       " 'their',\n",
       " 'Safety',\n",
       " 'and',\n",
       " 'Happiness',\n",
       " '.']"
      ]
     },
     "execution_count": 3,
     "metadata": {},
     "output_type": "execute_result"
    }
   ],
   "source": [
    "from nltk.tokenize import word_tokenize, sent_tokenize\n",
    "\n",
    "sentence = '''We hold these truths to be self-evident, that all men are created equal, \n",
    "that they are endowed by their Creator with certain unalienable Rights, that among these are Life, \n",
    "Liberty and the pursuit of Happiness. That to secure these rights, Governments are instituted among Men, \n",
    "deriving their just powers from the consent of the governed. That whenever any Form of Government becomes \n",
    "destructive of these ends, it is the Right of the People to alter or to abolish it, \n",
    "and to institute new Government, laying its foundation on such principles and organizing its powers in such form, \n",
    "as to them shall seem most likely to effect their Safety and Happiness.'''\n",
    "\n",
    "word_tokenize(sentence)"
   ]
  },
  {
   "cell_type": "code",
   "execution_count": 4,
   "id": "c811dbaa",
   "metadata": {},
   "outputs": [
    {
     "data": {
      "text/plain": [
       "['We hold these truths to be self-evident, that all men are created equal, that they are endowed by their Creator with certain unalienable Rights, that among these are Life, Liberty and the pursuit of Happiness.',\n",
       " 'That to secure these rights, Governments are instituted among Men, deriving their just powers from the consent of the governed.',\n",
       " 'That whenever any Form of Government becomes destructive of these ends, it is the Right of the People to alter or to abolish it, and to institute new Government, laying its foundation on such principles and organizing its powers in such form, as to them shall seem most likely to effect their Safety and Happiness.']"
      ]
     },
     "execution_count": 4,
     "metadata": {},
     "output_type": "execute_result"
    }
   ],
   "source": [
    "from nltk.tokenize import sent_tokenize\n",
    "\n",
    "sent_tokenize(sentence.replace('\\n', ''))"
   ]
  },
  {
   "cell_type": "markdown",
   "id": "accomplished-enzyme",
   "metadata": {},
   "source": [
    "## KoNLPy를 이용한 토크나이징"
   ]
  },
  {
   "cell_type": "markdown",
   "id": "military-robin",
   "metadata": {},
   "source": [
    "KoNLPy에 대한 설명 참고 https://konlpy.org/en/latest/"
   ]
  },
  {
   "cell_type": "code",
   "execution_count": 6,
   "id": "dried-layout",
   "metadata": {},
   "outputs": [
    {
     "name": "stdout",
     "output_type": "stream",
     "text": [
      "Requirement already satisfied: konlpy in /home/hunkoog/anaconda3/envs/nlp/lib/python3.9/site-packages (0.6.0)\r\n",
      "Requirement already satisfied: lxml>=4.1.0 in /home/hunkoog/anaconda3/envs/nlp/lib/python3.9/site-packages (from konlpy) (4.9.1)\r\n",
      "Requirement already satisfied: JPype1>=0.7.0 in /home/hunkoog/anaconda3/envs/nlp/lib/python3.9/site-packages (from konlpy) (1.4.1)\r\n",
      "Requirement already satisfied: numpy>=1.6 in /home/hunkoog/anaconda3/envs/nlp/lib/python3.9/site-packages (from konlpy) (1.23.5)\r\n",
      "Requirement already satisfied: packaging in /home/hunkoog/anaconda3/envs/nlp/lib/python3.9/site-packages (from JPype1>=0.7.0->konlpy) (21.3)\r\n",
      "Requirement already satisfied: pyparsing!=3.0.5,>=2.0.2 in /home/hunkoog/anaconda3/envs/nlp/lib/python3.9/site-packages (from packaging->JPype1>=0.7.0->konlpy) (3.0.9)\r\n"
     ]
    }
   ],
   "source": [
    "# KoNLPy를 설치하지 않았을 경우 실행합니다.\n",
    "!pip install konlpy"
   ]
  },
  {
   "cell_type": "code",
   "execution_count": 7,
   "id": "cd7ecaba",
   "metadata": {},
   "outputs": [
    {
     "name": "stdout",
     "output_type": "stream",
     "text": [
      "mecab-ko is already installed\n",
      "mecab-ko-dic is already installed\n",
      "Install mecab-python\n",
      "/tmp ~/Dropbox/Code\n",
      "'mecab-python-0.996'에 복제합니다...\n",
      "오브젝트 묶음 푸는 중: 100% (17/17), 59.65 KiB | 1.70 MiB/s, 완료.\n",
      "~/Dropbox/Code\n",
      "Processing /tmp/mecab-python-0.996\n",
      "  Preparing metadata (setup.py) ... \u001b[?25ldone\n",
      "\u001b[?25hBuilding wheels for collected packages: mecab-python\n",
      "  Building wheel for mecab-python (setup.py) ... \u001b[?25ldone\n",
      "\u001b[?25h  Created wheel for mecab-python: filename=mecab_python-0.996_ko_0.9.2-cp39-cp39-linux_x86_64.whl size=44366 sha256=d9a371e323d43e8688601ca96cddf6b06abf61860c11b4ab3eb6918e97b0c2f1\n",
      "  Stored in directory: /home/hunkoog/.cache/pip/wheels/b6/27/e4/78b33c1e019f1d25b5f0bff038da4eca25a1c2163ef435788a\n",
      "\u001b[33m  WARNING: Built wheel for mecab-python is invalid: Metadata 1.2 mandates PEP 440 version, but '0.996-ko-0.9.2' is not\u001b[0m\u001b[33m\n",
      "\u001b[0mFailed to build mecab-python\n",
      "Installing collected packages: mecab-python\n",
      "  Running setup.py install for mecab-python ... \u001b[?25ldone\n",
      "\u001b[33m  DEPRECATION: mecab-python was installed using the legacy 'setup.py install' method, because a wheel could not be built for it. A possible replacement is to fix the wheel build issue reported above. Discussion can be found at https://github.com/pypa/pip/issues/8368\u001b[0m\u001b[33m\n",
      "\u001b[0m\u001b[?25hSuccessfully installed mecab-python-0.996-ko-0.9.2\n",
      "Done.\n"
     ]
    }
   ],
   "source": [
    "# MeCab 설치를 위한 코드입니다. (아래는 Mac에서의 실행 코드)\n",
    "!bash <(curl -s https://raw.githubusercontent.com/konlpy/konlpy/master/scripts/mecab.sh)"
   ]
  },
  {
   "cell_type": "markdown",
   "id": "16106152",
   "metadata": {},
   "source": [
    "### 꼬꼬마 형태소 분석기의 실행"
   ]
  },
  {
   "cell_type": "code",
   "execution_count": 5,
   "id": "dc01c2ff",
   "metadata": {},
   "outputs": [
    {
     "name": "stdout",
     "output_type": "stream",
     "text": [
      "['아버지', '가', '방', '에', '들어가', 'ㅂ니다', '.']\n",
      "[('아버지', 'NNG'), ('가', 'JKS'), ('방', 'NNG'), ('에', 'JKM'), ('들어가', 'VV'), ('ㅂ니다', 'EFN'), ('.', 'SF')]\n",
      "['아버지', '방']\n",
      "['오늘 날씨는 어 때요?', '내일은 덥다 던데.']\n"
     ]
    }
   ],
   "source": [
    "from konlpy.tag import Kkma\n",
    "# 꼬꼬마 형태소 분석기 객체 생성\n",
    "kkma = Kkma()\n",
    "text = \"아버지가 방에 들어갑니다.\"\n",
    "\n",
    "# 형태소 추출\n",
    "morphs = kkma.morphs(text)\n",
    "print(morphs)\n",
    "\n",
    "# 형태소와 품사 태그 추출\n",
    "pos = kkma.pos(text)\n",
    "print(pos)\n",
    "\n",
    "# 명사만 추출\n",
    "nouns = kkma.nouns(text)\n",
    "print(nouns)\n",
    "\n",
    "# 문장 분리\n",
    "sentences = \"오늘 날씨는 어때요? 내일은 덥다던데.\"\n",
    "s = kkma.sentences(sentences)\n",
    "print(s)"
   ]
  },
  {
   "cell_type": "markdown",
   "id": "8656c328",
   "metadata": {},
   "source": [
    "|  품사  |  설명  |\n",
    "|-------|-------|\n",
    "|NNG    |일반명사 |\n",
    "|JKS    |주격 조사 |\n",
    "|JKM    |부사격 조사 |\n",
    "|VV     |동사    |\n",
    "|EFN    |평서형 종결 어미|\n",
    "|SF     |마침표, 물음표, 느낌표|"
   ]
  },
  {
   "cell_type": "markdown",
   "id": "67da99dc",
   "metadata": {},
   "source": [
    "### 코모란 형태소 분석기의 실행"
   ]
  },
  {
   "cell_type": "code",
   "execution_count": 6,
   "id": "661fa22a",
   "metadata": {},
   "outputs": [
    {
     "name": "stdout",
     "output_type": "stream",
     "text": [
      "['아버지', '가', '방', '에', '들어가', 'ㅂ니다', '.']\n",
      "[('아버지', 'NNG'), ('가', 'JKS'), ('방', 'NNG'), ('에', 'JKB'), ('들어가', 'VV'), ('ㅂ니다', 'EF'), ('.', 'SF')]\n",
      "['아버지', '방']\n"
     ]
    }
   ],
   "source": [
    "from konlpy.tag import Komoran\n",
    "\n",
    "# 코모란 형태소 분석기 객체 생성\n",
    "komoran = Komoran()\n",
    "text = \"아버지가 방에 들어갑니다.\"\n",
    "\n",
    "# 형태소 추출\n",
    "morphs = komoran.morphs(text)\n",
    "print(morphs)\n",
    "\n",
    "# 형태소와 품사 태그 추출\n",
    "pos = komoran.pos(text)\n",
    "print(pos)\n",
    "\n",
    "# 명사만 추출\n",
    "nouns = komoran.nouns(text)\n",
    "print(nouns)"
   ]
  },
  {
   "cell_type": "markdown",
   "id": "d85a8e7c",
   "metadata": {},
   "source": [
    "### 트위터(Okt)의 형태소 분석기의 실행"
   ]
  },
  {
   "cell_type": "code",
   "execution_count": 7,
   "id": "cad6e8cc",
   "metadata": {},
   "outputs": [
    {
     "name": "stdout",
     "output_type": "stream",
     "text": [
      "['아버지', '가', '방', '에', '들어갑니다', '.']\n",
      "[('아버지', 'Noun'), ('가', 'Josa'), ('방', 'Noun'), ('에', 'Josa'), ('들어갑니다', 'Verb'), ('.', 'Punctuation')]\n",
      "['아버지', '방']\n",
      "오늘 날씨가 좋아요ㅋㅋ\n",
      "['오늘', '오늘 날씨', '좋아욬', '날씨']\n"
     ]
    }
   ],
   "source": [
    "from konlpy.tag import Okt\n",
    "\n",
    "# Okt 형태소 분석기 객체 생성\n",
    "okt = Okt()\n",
    "text = \"아버지가 방에 들어갑니다.\"\n",
    "\n",
    "# 형태소 추출\n",
    "morphs = okt.morphs(text)\n",
    "print(morphs)\n",
    "\n",
    "# 형태소와 품사 태그 추출\n",
    "pos = okt.pos(text)\n",
    "print(pos)\n",
    "\n",
    "# 명사만 추출\n",
    "nouns = okt.nouns(text)\n",
    "print(nouns)\n",
    "\n",
    "# 정규화, 어구 추출\n",
    "text = \"오늘 날씨가 좋아욬ㅋㅋ\"\n",
    "print(okt.normalize(text))\n",
    "print(okt.phrases(text))"
   ]
  },
  {
   "cell_type": "markdown",
   "id": "e315aff9",
   "metadata": {},
   "source": [
    "### 사용자 사전 구축"
   ]
  },
  {
   "cell_type": "code",
   "execution_count": 8,
   "id": "a9fe9c67",
   "metadata": {},
   "outputs": [
    {
     "name": "stdout",
     "output_type": "stream",
     "text": [
      "[('우리', 'NP'), ('챗봇은', 'NA'), ('엔', 'NNB'), ('엘', 'NNP'), ('피', 'NNG'), ('를', 'JKO'), ('좋아하', 'VV'), ('아', 'EF'), ('.', 'SF')]\n"
     ]
    }
   ],
   "source": [
    "from konlpy.tag import Komoran\n",
    "\n",
    "komoran = Komoran()\n",
    "text = \"우리 챗봇은 엔엘피를 좋아해.\"\n",
    "pos = komoran.pos(text)\n",
    "print(pos)"
   ]
  },
  {
   "cell_type": "code",
   "execution_count": 9,
   "id": "f23cb71b",
   "metadata": {},
   "outputs": [
    {
     "name": "stdout",
     "output_type": "stream",
     "text": [
      "[('우리', 'NP'), ('챗봇은', 'NA'), ('엔엘피', 'NNG'), ('를', 'JKO'), ('좋아하', 'VV'), ('아', 'EF'), ('.', 'SF')]\n"
     ]
    }
   ],
   "source": [
    "# 사용자 사전 추가하기\n",
    "from konlpy.tag import Komoran\n",
    "\n",
    "komoran = Komoran(userdic='user_dic.tsv') # 사용자 사전 위치와 파일명\n",
    "text = \"우리 챗봇은 엔엘피를 좋아해.\"\n",
    "pos = komoran.pos(text)\n",
    "print(pos)"
   ]
  },
  {
   "cell_type": "markdown",
   "id": "f9cbc398",
   "metadata": {},
   "source": [
    "|형태소 분석기|장점| 단점|\n",
    "|---|--|--|\n",
    "|Kkma      |분석 품질이 좋음. 품사 태그가 다양함 | 분석 속도가 느림|\n",
    "|Komoran   |자소 분리된 문장이나 오탈자에 강하고 사용자 사전 관리에 용이함|보통의 분석 속도와 품질|\n",
    "|Okt       |매우 분석 속도가 빠르고 정규화 기능을 지원함 |사용자 사전 관리가 어려움|"
   ]
  },
  {
   "cell_type": "markdown",
   "id": "62da9d10",
   "metadata": {},
   "source": [
    "<H7> 아래는 여러 가지 형태소 분석기의 성능을 비교한 그림입니다.<p>\n",
    "아래에서 보듯이 시간이 지날수록 가장 성능이 탁월한 것은(소요 시간이 적은 것) 꼬꼬마 < 한나눔 < 코모란 < 트위터 < 미캡 입니다. </H7>"
   ]
  },
  {
   "cell_type": "markdown",
   "id": "bc3a1a66",
   "metadata": {},
   "source": [
    "<img src='https://konlpy.org/ko/v0.6.0/_images/time.png' width=600 height=600></img>"
   ]
  },
  {
   "cell_type": "code",
   "execution_count": 12,
   "id": "8da23481",
   "metadata": {
    "scrolled": false
   },
   "outputs": [
    {
     "data": {
      "text/html": [
       "\n",
       "        <iframe\n",
       "            width=\"960\"\n",
       "            height=\"1800\"\n",
       "            src=\"http://kkma.snu.ac.kr/documents/index.jsp?doc=postag\"\n",
       "            frameborder=\"0\"\n",
       "            allowfullscreen\n",
       "        ></iframe>\n",
       "        "
      ],
      "text/plain": [
       "<IPython.lib.display.IFrame at 0x7fe4a049d4f0>"
      ]
     },
     "execution_count": 12,
     "metadata": {},
     "output_type": "execute_result"
    }
   ],
   "source": [
    "from IPython.display import IFrame\n",
    "\n",
    "IFrame(src='http://kkma.snu.ac.kr/documents/index.jsp?doc=postag', width=960, height=1800)"
   ]
  },
  {
   "cell_type": "markdown",
   "id": "large-trailer",
   "metadata": {},
   "source": [
    "# 트랜스포머(BERT)를 이용한 토크나이징"
   ]
  },
  {
   "cell_type": "markdown",
   "id": "minus-subcommittee",
   "metadata": {},
   "source": [
    "인코더와 디코더로 이뤄진 구조임!"
   ]
  },
  {
   "cell_type": "markdown",
   "id": "capable-senegal",
   "metadata": {},
   "source": [
    "<img src='https://pytorch.org/tutorials/_images/bert.png' width=600 height=400></img>"
   ]
  },
  {
   "cell_type": "code",
   "execution_count": 17,
   "id": "growing-arrangement",
   "metadata": {},
   "outputs": [
    {
     "name": "stdout",
     "output_type": "stream",
     "text": [
      "Collecting transformers==4.12.5\n",
      "  Downloading transformers-4.12.5-py3-none-any.whl (3.1 MB)\n",
      "\u001b[2K     \u001b[90m━━━━━━━━━━━━━━━━━━━━━━━━━━━━━━━━━━━━━━━━\u001b[0m \u001b[32m3.1/3.1 MB\u001b[0m \u001b[31m61.8 MB/s\u001b[0m eta \u001b[36m0:00:00\u001b[0m00:01\u001b[0m\n",
      "\u001b[?25hRequirement already satisfied: numpy>=1.17 in /home/hunkoog/anaconda3/envs/nlp/lib/python3.9/site-packages (from transformers==4.12.5) (1.23.5)\n",
      "Requirement already satisfied: huggingface-hub<1.0,>=0.1.0 in /home/hunkoog/anaconda3/envs/nlp/lib/python3.9/site-packages (from transformers==4.12.5) (0.11.1)\n",
      "Collecting sacremoses\n",
      "  Using cached sacremoses-0.0.53-py3-none-any.whl\n",
      "Requirement already satisfied: tqdm>=4.27 in /home/hunkoog/anaconda3/envs/nlp/lib/python3.9/site-packages (from transformers==4.12.5) (4.64.1)\n",
      "Requirement already satisfied: pyyaml>=5.1 in /home/hunkoog/anaconda3/envs/nlp/lib/python3.9/site-packages (from transformers==4.12.5) (6.0)\n",
      "Requirement already satisfied: packaging>=20.0 in /home/hunkoog/anaconda3/envs/nlp/lib/python3.9/site-packages (from transformers==4.12.5) (21.3)\n",
      "Collecting tokenizers<0.11,>=0.10.1\n",
      "  Downloading tokenizers-0.10.3-cp39-cp39-manylinux_2_5_x86_64.manylinux1_x86_64.manylinux_2_12_x86_64.manylinux2010_x86_64.whl (3.3 MB)\n",
      "\u001b[2K     \u001b[90m━━━━━━━━━━━━━━━━━━━━━━━━━━━━━━━━━━━━━━━━\u001b[0m \u001b[32m3.3/3.3 MB\u001b[0m \u001b[31m81.9 MB/s\u001b[0m eta \u001b[36m0:00:00\u001b[0m:00:01\u001b[0m\n",
      "\u001b[?25hRequirement already satisfied: filelock in /home/hunkoog/anaconda3/envs/nlp/lib/python3.9/site-packages (from transformers==4.12.5) (3.8.0)\n",
      "Requirement already satisfied: requests in /home/hunkoog/anaconda3/envs/nlp/lib/python3.9/site-packages (from transformers==4.12.5) (2.28.1)\n",
      "Requirement already satisfied: regex!=2019.12.17 in /home/hunkoog/anaconda3/envs/nlp/lib/python3.9/site-packages (from transformers==4.12.5) (2022.10.31)\n",
      "Requirement already satisfied: typing-extensions>=3.7.4.3 in /home/hunkoog/anaconda3/envs/nlp/lib/python3.9/site-packages (from huggingface-hub<1.0,>=0.1.0->transformers==4.12.5) (4.4.0)\n",
      "Requirement already satisfied: pyparsing!=3.0.5,>=2.0.2 in /home/hunkoog/anaconda3/envs/nlp/lib/python3.9/site-packages (from packaging>=20.0->transformers==4.12.5) (3.0.9)\n",
      "Requirement already satisfied: charset-normalizer<3,>=2 in /home/hunkoog/anaconda3/envs/nlp/lib/python3.9/site-packages (from requests->transformers==4.12.5) (2.1.1)\n",
      "Requirement already satisfied: idna<4,>=2.5 in /home/hunkoog/anaconda3/envs/nlp/lib/python3.9/site-packages (from requests->transformers==4.12.5) (3.4)\n",
      "Requirement already satisfied: urllib3<1.27,>=1.21.1 in /home/hunkoog/anaconda3/envs/nlp/lib/python3.9/site-packages (from requests->transformers==4.12.5) (1.26.13)\n",
      "Requirement already satisfied: certifi>=2017.4.17 in /home/hunkoog/anaconda3/envs/nlp/lib/python3.9/site-packages (from requests->transformers==4.12.5) (2022.9.24)\n",
      "Requirement already satisfied: six in /home/hunkoog/anaconda3/envs/nlp/lib/python3.9/site-packages (from sacremoses->transformers==4.12.5) (1.16.0)\n",
      "Requirement already satisfied: joblib in /home/hunkoog/anaconda3/envs/nlp/lib/python3.9/site-packages (from sacremoses->transformers==4.12.5) (1.2.0)\n",
      "Requirement already satisfied: click in /home/hunkoog/anaconda3/envs/nlp/lib/python3.9/site-packages (from sacremoses->transformers==4.12.5) (8.1.3)\n",
      "Installing collected packages: tokenizers, sacremoses, transformers\n",
      "  Attempting uninstall: tokenizers\n",
      "    Found existing installation: tokenizers 0.13.2\n",
      "    Uninstalling tokenizers-0.13.2:\n",
      "      Successfully uninstalled tokenizers-0.13.2\n",
      "  Attempting uninstall: transformers\n",
      "    Found existing installation: transformers 4.24.0\n",
      "    Uninstalling transformers-4.24.0:\n",
      "      Successfully uninstalled transformers-4.24.0\n",
      "Successfully installed sacremoses-0.0.53 tokenizers-0.10.3 transformers-4.12.5\n"
     ]
    }
   ],
   "source": [
    "!pip install transformers==4.12.5"
   ]
  },
  {
   "cell_type": "code",
   "execution_count": 10,
   "id": "choice-nickname",
   "metadata": {
    "scrolled": false
   },
   "outputs": [
    {
     "name": "stderr",
     "output_type": "stream",
     "text": [
      "2022-12-27 07:49:40.526008: I tensorflow/core/platform/cpu_feature_guard.cc:193] This TensorFlow binary is optimized with oneAPI Deep Neural Network Library (oneDNN) to use the following CPU instructions in performance-critical operations:  AVX2 AVX512F AVX512_VNNI FMA\n",
      "To enable them in other operations, rebuild TensorFlow with the appropriate compiler flags.\n",
      "2022-12-27 07:49:40.641290: I tensorflow/core/util/port.cc:104] oneDNN custom operations are on. You may see slightly different numerical results due to floating-point round-off errors from different computation orders. To turn them off, set the environment variable `TF_ENABLE_ONEDNN_OPTS=0`.\n",
      "2022-12-27 07:49:41.416734: W tensorflow/compiler/xla/stream_executor/platform/default/dso_loader.cc:64] Could not load dynamic library 'libnvinfer.so.7'; dlerror: libnvinfer.so.7: cannot open shared object file: No such file or directory\n",
      "2022-12-27 07:49:41.416799: W tensorflow/compiler/xla/stream_executor/platform/default/dso_loader.cc:64] Could not load dynamic library 'libnvinfer_plugin.so.7'; dlerror: libnvinfer_plugin.so.7: cannot open shared object file: No such file or directory\n",
      "2022-12-27 07:49:41.416805: W tensorflow/compiler/tf2tensorrt/utils/py_utils.cc:38] TF-TRT Warning: Cannot dlopen some TensorRT libraries. If you would like to use Nvidia GPU with TensorRT, please make sure the missing libraries mentioned above are installed properly.\n"
     ]
    }
   ],
   "source": [
    "from transformers import *"
   ]
  },
  {
   "cell_type": "code",
   "execution_count": 11,
   "id": "3e977e95",
   "metadata": {},
   "outputs": [
    {
     "data": {
      "application/vnd.jupyter.widget-view+json": {
       "model_id": "6cad034980c54ba784047e8e9952420a",
       "version_major": 2,
       "version_minor": 0
      },
      "text/plain": [
       "Downloading:   0%|          | 0.00/625 [00:00<?, ?B/s]"
      ]
     },
     "metadata": {},
     "output_type": "display_data"
    }
   ],
   "source": [
    "tokenizer = BertTokenizer.from_pretrained(\"bert-base-multilingual-cased\", cache_dir='bert_ckpt', \n",
    "    do_lower_case=False)"
   ]
  },
  {
   "cell_type": "code",
   "execution_count": 12,
   "id": "unlikely-output",
   "metadata": {},
   "outputs": [
    {
     "name": "stdout",
     "output_type": "stream",
     "text": [
      "[101, 9248, 16439, 12424, 9321, 118610, 119081, 48345, 119, 79633, 9519, 119285, 58303, 48345, 119, 102]\n",
      "['[ C L S ]', '만', '# # 나', '# # 서', '반', '# # 갑', '# # 습', '# # 니 다', '.', '좋 은', '아', '# # 침', '# # 입', '# # 니 다', '.', '[ S E P ]']\n"
     ]
    }
   ],
   "source": [
    "test_sentence = '만나서 반갑습니다. 좋은 아침입니다.'\n",
    "\n",
    "encode = tokenizer.encode(test_sentence)\n",
    "token_print = [tokenizer.decode(token) for token in encode]\n",
    "\n",
    "print(encode)\n",
    "print(token_print)"
   ]
  },
  {
   "cell_type": "markdown",
   "id": "individual-winter",
   "metadata": {},
   "source": [
    "## 사전 훈련된 모델을 이용한 토크나이징"
   ]
  },
  {
   "cell_type": "code",
   "execution_count": 15,
   "id": "crude-pregnancy",
   "metadata": {
    "scrolled": false
   },
   "outputs": [
    {
     "name": "stdout",
     "output_type": "stream",
     "text": [
      "Collecting emoji==0.6.0\n",
      "  Downloading emoji-0.6.0.tar.gz (51 kB)\n",
      "\u001b[2K     \u001b[90m━━━━━━━━━━━━━━━━━━━━━━━━━━━━━━━━━━━━━━━━\u001b[0m \u001b[32m51.0/51.0 kB\u001b[0m \u001b[31m8.9 MB/s\u001b[0m eta \u001b[36m0:00:00\u001b[0m\n",
      "\u001b[?25h  Preparing metadata (setup.py) ... \u001b[?25ldone\n",
      "\u001b[?25hBuilding wheels for collected packages: emoji\n",
      "  Building wheel for emoji (setup.py) ... \u001b[?25ldone\n",
      "\u001b[?25h  Created wheel for emoji: filename=emoji-0.6.0-py3-none-any.whl size=49719 sha256=dea4d44b5f3a677949d4c702b98663d0c73e3998208e15f647a2053e3a9998dc\n",
      "  Stored in directory: /home/hunkoog/.cache/pip/wheels/0c/36/55/8b9f5855d13a832763d32c3c3790043ff3307052e5f1d47de3\n",
      "Successfully built emoji\n",
      "Installing collected packages: emoji\n",
      "Successfully installed emoji-0.6.0\n",
      "Collecting soynlp==0.0.493\n",
      "  Downloading soynlp-0.0.493-py3-none-any.whl (416 kB)\n",
      "\u001b[2K     \u001b[90m━━━━━━━━━━━━━━━━━━━━━━━━━━━━━━━━━━━━━━\u001b[0m \u001b[32m416.8/416.8 kB\u001b[0m \u001b[31m26.2 MB/s\u001b[0m eta \u001b[36m0:00:00\u001b[0m\n",
      "\u001b[?25hCollecting scikit-learn>=0.20.0\n",
      "  Downloading scikit_learn-1.2.0-cp38-cp38-manylinux_2_17_x86_64.manylinux2014_x86_64.whl (9.7 MB)\n",
      "\u001b[2K     \u001b[90m━━━━━━━━━━━━━━━━━━━━━━━━━━━━━━━━━━━━━━━━\u001b[0m \u001b[32m9.7/9.7 MB\u001b[0m \u001b[31m83.5 MB/s\u001b[0m eta \u001b[36m0:00:00\u001b[0m:00:01\u001b[0m00:01\u001b[0m\n",
      "\u001b[?25hRequirement already satisfied: numpy>=1.12.1 in /home/hunkoog/anaconda3/envs/knlp/lib/python3.8/site-packages (from soynlp==0.0.493) (1.24.1)\n",
      "Requirement already satisfied: psutil>=5.0.1 in /home/hunkoog/anaconda3/envs/knlp/lib/python3.8/site-packages (from soynlp==0.0.493) (5.9.4)\n",
      "Requirement already satisfied: scipy>=1.1.0 in /home/hunkoog/anaconda3/envs/knlp/lib/python3.8/site-packages (from soynlp==0.0.493) (1.9.3)\n",
      "Requirement already satisfied: joblib>=1.1.1 in /home/hunkoog/anaconda3/envs/knlp/lib/python3.8/site-packages (from scikit-learn>=0.20.0->soynlp==0.0.493) (1.2.0)\n",
      "Collecting threadpoolctl>=2.0.0\n",
      "  Using cached threadpoolctl-3.1.0-py3-none-any.whl (14 kB)\n",
      "Installing collected packages: threadpoolctl, scikit-learn, soynlp\n",
      "Successfully installed scikit-learn-1.2.0 soynlp-0.0.493 threadpoolctl-3.1.0\n"
     ]
    }
   ],
   "source": [
    "!pip install emoji==0.6.0\n",
    "!pip install soynlp==0.0.493"
   ]
  },
  {
   "cell_type": "code",
   "execution_count": 13,
   "id": "large-first",
   "metadata": {},
   "outputs": [
    {
     "data": {
      "application/vnd.jupyter.widget-view+json": {
       "model_id": "cd09e7a6fd6745709983870e22ac6c28",
       "version_major": 2,
       "version_minor": 0
      },
      "text/plain": [
       "Downloading:   0%|          | 0.00/49.0 [00:00<?, ?B/s]"
      ]
     },
     "metadata": {},
     "output_type": "display_data"
    },
    {
     "data": {
      "application/vnd.jupyter.widget-view+json": {
       "model_id": "e9becf68d28d4c218afc77b6bba4d5b0",
       "version_major": 2,
       "version_minor": 0
      },
      "text/plain": [
       "Downloading:   0%|          | 0.00/619 [00:00<?, ?B/s]"
      ]
     },
     "metadata": {},
     "output_type": "display_data"
    },
    {
     "data": {
      "application/vnd.jupyter.widget-view+json": {
       "model_id": "cfaa28a3888f468ab05d78982685924c",
       "version_major": 2,
       "version_minor": 0
      },
      "text/plain": [
       "Downloading:   0%|          | 0.00/244k [00:00<?, ?B/s]"
      ]
     },
     "metadata": {},
     "output_type": "display_data"
    },
    {
     "name": "stderr",
     "output_type": "stream",
     "text": [
      "/home/hunkoog/anaconda3/envs/nlp/lib/python3.9/site-packages/transformers/models/auto/modeling_auto.py:694: FutureWarning: The class `AutoModelWithLMHead` is deprecated and will be removed in a future version. Please use `AutoModelForCausalLM` for causal language models, `AutoModelForMaskedLM` for masked language models and `AutoModelForSeq2SeqLM` for encoder-decoder models.\n",
      "  warnings.warn(\n"
     ]
    },
    {
     "data": {
      "application/vnd.jupyter.widget-view+json": {
       "model_id": "d14e3821aeed46d2adf3e96a9d7761ad",
       "version_major": 2,
       "version_minor": 0
      },
      "text/plain": [
       "Downloading:   0%|          | 0.00/418M [00:00<?, ?B/s]"
      ]
     },
     "metadata": {},
     "output_type": "display_data"
    },
    {
     "name": "stderr",
     "output_type": "stream",
     "text": [
      "Some weights of the model checkpoint at beomi/kcbert-base were not used when initializing BertForMaskedLM: ['cls.seq_relationship.weight', 'cls.seq_relationship.bias']\n",
      "- This IS expected if you are initializing BertForMaskedLM from the checkpoint of a model trained on another task or with another architecture (e.g. initializing a BertForSequenceClassification model from a BertForPreTraining model).\n",
      "- This IS NOT expected if you are initializing BertForMaskedLM from the checkpoint of a model that you expect to be exactly identical (initializing a BertForSequenceClassification model from a BertForSequenceClassification model).\n"
     ]
    }
   ],
   "source": [
    "from transformers import AutoTokenizer, AutoModelWithLMHead\n",
    "\n",
    "# Base Model (108M)\n",
    "tokenizer = AutoTokenizer.from_pretrained(\"beomi/kcbert-base\")\n",
    "model = AutoModelWithLMHead.from_pretrained(\"beomi/kcbert-base\")"
   ]
  },
  {
   "cell_type": "code",
   "execution_count": 16,
   "id": "federal-injury",
   "metadata": {
    "collapsed": true
   },
   "outputs": [
    {
     "ename": "ModuleNotFoundError",
     "evalue": "No module named 'soynlp'",
     "output_type": "error",
     "traceback": [
      "\u001b[0;31m---------------------------------------------------------------------------\u001b[0m",
      "\u001b[0;31mModuleNotFoundError\u001b[0m                       Traceback (most recent call last)",
      "Cell \u001b[0;32mIn[16], line 3\u001b[0m\n\u001b[1;32m      1\u001b[0m \u001b[38;5;28;01mimport\u001b[39;00m \u001b[38;5;21;01mre\u001b[39;00m\n\u001b[0;32m----> 3\u001b[0m \u001b[38;5;28;01mfrom\u001b[39;00m \u001b[38;5;21;01msoynlp\u001b[39;00m\u001b[38;5;21;01m.\u001b[39;00m\u001b[38;5;21;01mnormalizer\u001b[39;00m \u001b[38;5;28;01mimport\u001b[39;00m repeat_normalize\n\u001b[1;32m      5\u001b[0m pattern \u001b[38;5;241m=\u001b[39m re\u001b[38;5;241m.\u001b[39mcompile(\u001b[38;5;124mf\u001b[39m\u001b[38;5;124m'\u001b[39m\u001b[38;5;124m[^ .,?!/@$%~％·∼()\u001b[39m\u001b[38;5;130;01m\\x00\u001b[39;00m\u001b[38;5;124m-\u001b[39m\u001b[38;5;130;01m\\x7F\u001b[39;00m\u001b[38;5;124mㄱ-ㅣ가-힣]+\u001b[39m\u001b[38;5;124m'\u001b[39m)\n\u001b[1;32m      6\u001b[0m url_pattern \u001b[38;5;241m=\u001b[39m re\u001b[38;5;241m.\u001b[39mcompile(\n\u001b[1;32m      7\u001b[0m     \u001b[38;5;124mr\u001b[39m\u001b[38;5;124m'\u001b[39m\u001b[38;5;124mhttps?:\u001b[39m\u001b[38;5;124m\\\u001b[39m\u001b[38;5;124m/\u001b[39m\u001b[38;5;124m\\\u001b[39m\u001b[38;5;124m/(www\u001b[39m\u001b[38;5;124m\\\u001b[39m\u001b[38;5;124m.)?[-a-zA-Z0-9@:\u001b[39m\u001b[38;5;124m%\u001b[39m\u001b[38;5;124m._\u001b[39m\u001b[38;5;124m\\\u001b[39m\u001b[38;5;124m+~#=]\u001b[39m\u001b[38;5;124m{\u001b[39m\u001b[38;5;124m1,256}\u001b[39m\u001b[38;5;124m\\\u001b[39m\u001b[38;5;124m.[a-zA-Z0-9()]\u001b[39m\u001b[38;5;124m{\u001b[39m\u001b[38;5;124m1,6}\u001b[39m\u001b[38;5;124m\\\u001b[39m\u001b[38;5;124mb([-a-zA-Z0-9()@:\u001b[39m\u001b[38;5;124m%\u001b[39m\u001b[38;5;124m_\u001b[39m\u001b[38;5;124m\\\u001b[39m\u001b[38;5;124m+.~#?&//=]*)\u001b[39m\u001b[38;5;124m'\u001b[39m)\n",
      "\u001b[0;31mModuleNotFoundError\u001b[0m: No module named 'soynlp'"
     ]
    }
   ],
   "source": [
    "import re\n",
    "\n",
    "from soynlp.normalizer import repeat_normalize\n",
    "\n",
    "pattern = re.compile(f'[^ .,?!/@$%~％·∼()\\x00-\\x7Fㄱ-ㅣ가-힣]+')\n",
    "url_pattern = re.compile(\n",
    "    r'https?:\\/\\/(www\\.)?[-a-zA-Z0-9@:%._\\+~#=]{1,256}\\.[a-zA-Z0-9()]{1,6}\\b([-a-zA-Z0-9()@:%_\\+.~#?&//=]*)')\n",
    "\n",
    "print(url_pattern)"
   ]
  },
  {
   "cell_type": "code",
   "execution_count": 17,
   "id": "fifty-seafood",
   "metadata": {},
   "outputs": [],
   "source": [
    "# 이모티콘을 제거하기 위한 전처리 함수\n",
    "def clean(x): \n",
    "    x = pattern.sub(' ', x)\n",
    "    x = url_pattern.sub('', x)\n",
    "    x = x.strip()\n",
    "    x = repeat_normalize(x, num_repeats=2)\n",
    "\n",
    "    return x"
   ]
  },
  {
   "cell_type": "code",
   "execution_count": 17,
   "id": "introductory-hurricane",
   "metadata": {
    "scrolled": true
   },
   "outputs": [],
   "source": [
    "test_sent = '나는 2022년에는 더 나은 해가 되기를 기대한다.'"
   ]
  },
  {
   "cell_type": "code",
   "execution_count": 21,
   "id": "english-tomorrow",
   "metadata": {},
   "outputs": [
    {
     "data": {
      "text/plain": [
       "'test_sent wow 2002년 완전!!!'"
      ]
     },
     "execution_count": 21,
     "metadata": {},
     "output_type": "execute_result"
    }
   ],
   "source": [
    "clean('test_sent wow 2002년 완전!!!')"
   ]
  },
  {
   "cell_type": "code",
   "execution_count": 18,
   "id": "former-arrival",
   "metadata": {},
   "outputs": [],
   "source": [
    "encode = tokenizer.encode(test_sent)\n",
    "token_print = [tokenizer.decode(token) for token in encode]"
   ]
  },
  {
   "cell_type": "code",
   "execution_count": 19,
   "id": "skilled-disorder",
   "metadata": {},
   "outputs": [
    {
     "data": {
      "text/plain": [
       "[2, 8616, 15289, 13970, 8182, 832, 14112, 25767, 24739, 9298, 8008, 17, 3]"
      ]
     },
     "execution_count": 19,
     "metadata": {},
     "output_type": "execute_result"
    }
   ],
   "source": [
    "encode"
   ]
  },
  {
   "cell_type": "code",
   "execution_count": 20,
   "id": "sustainable-component",
   "metadata": {},
   "outputs": [
    {
     "data": {
      "text/plain": [
       "['[CLS]',\n",
       " '나는',\n",
       " '202',\n",
       " '##2년',\n",
       " '##에는',\n",
       " '더',\n",
       " '나은',\n",
       " '해가',\n",
       " '되기를',\n",
       " '기대',\n",
       " '##한다',\n",
       " '.',\n",
       " '[SEP]']"
      ]
     },
     "execution_count": 20,
     "metadata": {},
     "output_type": "execute_result"
    }
   ],
   "source": [
    "token_print"
   ]
  },
  {
   "cell_type": "markdown",
   "id": "danish-rental",
   "metadata": {},
   "source": [
    "# 임베딩"
   ]
  },
  {
   "cell_type": "markdown",
   "id": "brazilian-workshop",
   "metadata": {},
   "source": [
    "<b>Q</b>. 임베딩이란?<br>\n",
    "<b>A</b>. 주어진 토큰들을 행렬이나 숫자로 기호화하는 과정"
   ]
  },
  {
   "cell_type": "markdown",
   "id": "indie-literature",
   "metadata": {},
   "source": [
    "자연어 처리가 이뤄지는 과정<p>\n",
    "<img src='https://images.deepai.org/glossary-terms/6124ba1752f943a3aabb3338a7a19e13/nlp.png' width=600 height=400></img>"
   ]
  },
  {
   "cell_type": "markdown",
   "id": "crucial-upset",
   "metadata": {},
   "source": [
    "## 원핫 인코딩"
   ]
  },
  {
   "cell_type": "markdown",
   "id": "legitimate-bathroom",
   "metadata": {},
   "source": [
    "<h7>단어를 0 또는 1로 구성된 행렬로 나타내는 방식을 원핫 인코딩이라고 한다.</h7>\n",
    "<img src='https://mblogthumb-phinf.pstatic.net/MjAyMDAzMDFfMjgx/MDAxNTgzMDIyNzg0MTc2.yzaPKdZzM5RdLJor5Ps0KfU5w3TWHU2cnXFDkTczOKIg.z4NJn4MGiwF49FmX6Mg7qgouuNhhlL1CivvrG0Bza1og.PNG.handuelly/image.png?type=w800' width=400 height=300></img>"
   ]
  },
  {
   "cell_type": "markdown",
   "id": "interim-portable",
   "metadata": {},
   "source": [
    "|  |서울|로마|도쿄|베이징|결과|\n",
    "|--|--|--|--|--|--|\n",
    "|서울|1|0|0|0|[1, 0, 0, 0]|\n",
    "|로마|0|1|0|0|[0, 1, 0, 0]|\n",
    "|도쿄|0|0|1|0|[0, 0, 1, 0]|\n",
    "|베이징|0|0|0|1|[0, 0, 0, 1]|"
   ]
  },
  {
   "cell_type": "markdown",
   "id": "bright-cleaner",
   "metadata": {},
   "source": [
    "Sent 1: 나는 나는 나는 나비가 좋아.<br>\n",
    "'나는', '나비가', '좋아.'<br>\n",
    "Sent 2: 나는 학교가 좋아.<br>\n",
    "'나는', '학교가', '좋아.'<br>\n",
    "나는 / 나비가 / 학교가 / 좋아.<br>\n",
    "Sent 1: [1, 1, 0, 1] <br>\n",
    "Sent 2: [1, 0, 1, 1] <br>"
   ]
  },
  {
   "cell_type": "code",
   "execution_count": 21,
   "id": "natural-christianity",
   "metadata": {},
   "outputs": [
    {
     "name": "stdout",
     "output_type": "stream",
     "text": [
      "['오늘', '날씨', '구름']\n",
      "{'오늘': 0, '날씨': 1, '구름': 2}\n",
      "[[1. 0. 0.]\n",
      " [0. 1. 0.]\n",
      " [0. 0. 1.]]\n"
     ]
    }
   ],
   "source": [
    "from konlpy.tag import Komoran\n",
    "import numpy as np\n",
    "\n",
    "komoran = Komoran()\n",
    "text = \"오늘 날씨는 구름이 많아요.\"\n",
    "\n",
    "# 명사만 추출\n",
    "nouns = komoran.nouns(text)\n",
    "print(nouns)\n",
    "\n",
    "# 단어 사전 구축 및 단어별 인덱스 부여\n",
    "dics = {}\n",
    "for word in nouns:\n",
    "    if word not in dics.keys():\n",
    "        dics[word] = len(dics)\n",
    "print(dics)\n",
    "\n",
    "# 원-핫 인코딩\n",
    "nb_classes = len(dics)\n",
    "targets = list(dics.values())\n",
    "one_hot_targets = np.eye(nb_classes)[targets]\n",
    "print(one_hot_targets)"
   ]
  },
  {
   "cell_type": "markdown",
   "id": "twelve-cycling",
   "metadata": {},
   "source": [
    "<img src='https://media.vlpt.us/images/ssu_hyun/post/c079d766-2412-4761-bb46-0d6d59ce1dfe/image.png' width=600 height=600></img>"
   ]
  },
  {
   "cell_type": "markdown",
   "id": "wicked-ground",
   "metadata": {},
   "source": [
    "## Word2Vec"
   ]
  },
  {
   "cell_type": "markdown",
   "id": "parental-diversity",
   "metadata": {},
   "source": [
    "<h7> CBOW 및 Skip-gram의 비교</h7>\n",
    "<img src='https://media.vlpt.us/post-images/dscwinterstudy/b345e300-450b-11ea-bc90-a1015e18ffb0/fig-3-23.png' width=800 height=250></img>"
   ]
  },
  {
   "cell_type": "code",
   "execution_count": 36,
   "id": "vietnamese-bennett",
   "metadata": {},
   "outputs": [
    {
     "name": "stdout",
     "output_type": "stream",
     "text": [
      "Requirement already satisfied: gensim in /Users/jhohunkoog/anaconda3/envs/nlp/lib/python3.8/site-packages (3.8.3)\n",
      "Collecting gensim\n",
      "  Downloading gensim-4.2.0-cp38-cp38-macosx_10_9_x86_64.whl (24.0 MB)\n",
      "\u001b[K     |████████████████████████████████| 24.0 MB 11.6 MB/s eta 0:00:01\n",
      "\u001b[?25hRequirement already satisfied: smart-open>=1.8.1 in /Users/jhohunkoog/anaconda3/envs/nlp/lib/python3.8/site-packages (from gensim) (3.0.0)\n",
      "Requirement already satisfied: numpy>=1.17.0 in /Users/jhohunkoog/anaconda3/envs/nlp/lib/python3.8/site-packages (from gensim) (1.19.5)\n",
      "Requirement already satisfied: scipy>=0.18.1 in /Users/jhohunkoog/anaconda3/envs/nlp/lib/python3.8/site-packages (from gensim) (1.6.0)\n",
      "Requirement already satisfied: requests in /Users/jhohunkoog/anaconda3/envs/nlp/lib/python3.8/site-packages (from smart-open>=1.8.1->gensim) (2.25.1)\n",
      "Requirement already satisfied: chardet<5,>=3.0.2 in /Users/jhohunkoog/anaconda3/envs/nlp/lib/python3.8/site-packages (from requests->smart-open>=1.8.1->gensim) (4.0.0)\n",
      "Requirement already satisfied: urllib3<1.27,>=1.21.1 in /Users/jhohunkoog/anaconda3/envs/nlp/lib/python3.8/site-packages (from requests->smart-open>=1.8.1->gensim) (1.26.3)\n",
      "Requirement already satisfied: idna<3,>=2.5 in /Users/jhohunkoog/anaconda3/envs/nlp/lib/python3.8/site-packages (from requests->smart-open>=1.8.1->gensim) (2.10)\n",
      "Requirement already satisfied: certifi>=2017.4.17 in /Users/jhohunkoog/anaconda3/envs/nlp/lib/python3.8/site-packages (from requests->smart-open>=1.8.1->gensim) (2020.12.5)\n",
      "Installing collected packages: gensim\n",
      "  Attempting uninstall: gensim\n",
      "    Found existing installation: gensim 3.8.3\n",
      "    Uninstalling gensim-3.8.3:\n",
      "      Successfully uninstalled gensim-3.8.3\n",
      "Successfully installed gensim-4.2.0\n"
     ]
    }
   ],
   "source": [
    "!pip install -U gensim"
   ]
  },
  {
   "cell_type": "code",
   "execution_count": 22,
   "id": "binary-agent",
   "metadata": {},
   "outputs": [
    {
     "name": "stdout",
     "output_type": "stream",
     "text": [
      "1) 말뭉치 데이터 읽기 시작\n",
      "200000\n",
      "1) 말뭉치 데이터 읽기 완료:  0.5267596244812012\n",
      "2) 형태소에서 명사만 추출 시작\n",
      "2) 형태소에서 명사만 추출 완료:  113.59613180160522\n"
     ]
    }
   ],
   "source": [
    "from gensim.models import Word2Vec\n",
    "from konlpy.tag import Komoran\n",
    "import time\n",
    "\n",
    "# 네이버 영화 리뷰 데이터 읽어옴\n",
    "def read_review_data(filename):\n",
    "    with open(filename, 'r') as f:\n",
    "        data = [line.split('\\t') for line in f.read().splitlines()]\n",
    "        data = data[1:] # header 제거\n",
    "    return data\n",
    "\n",
    "# 측정 시작\n",
    "start = time.time()\n",
    "\n",
    "# 리뷰 파일 읽어오기\n",
    "print('1) 말뭉치 데이터 읽기 시작')\n",
    "review_data = read_review_data('Data/naver_ratings.txt') # 네이버 리뷰 파일의 위치를 쓰도록 한다.\n",
    "print(len(review_data)) # 리뷰 데이터 전체 개수\n",
    "print('1) 말뭉치 데이터 읽기 완료: ', time.time() - start)\n",
    "\n",
    "# 문장단위로 명사만 추출해 학습 입력 데이터로 만듬\n",
    "print('2) 형태소에서 명사만 추출 시작')\n",
    "komoran = Komoran()\n",
    "docs = [komoran.nouns(sentence[1]) for sentence in review_data]\n",
    "print('2) 형태소에서 명사만 추출 완료: ', time.time() - start)"
   ]
  },
  {
   "cell_type": "code",
   "execution_count": 23,
   "id": "muslim-playback",
   "metadata": {},
   "outputs": [
    {
     "name": "stdout",
     "output_type": "stream",
     "text": [
      "3) word2vec 모델 학습 시작\n",
      "3) word2vec 모델 학습 완료:  460.8936173915863\n",
      "4) 학습된 모델 저장 시작\n",
      "4) 학습된 모델 저장 완료:  460.9416048526764\n",
      "corpus_count :  200000\n",
      "corpus_total_words :  1076896\n"
     ]
    }
   ],
   "source": [
    "# word2vec 모델 학습\n",
    "print('3) word2vec 모델 학습 시작')\n",
    "model = Word2Vec(sentences=docs, vector_size=200, window=4, min_count=2, sg=1) #최근 모델은 size 대신 vector_size를 사용\n",
    "print('3) word2vec 모델 학습 완료: ', time.time() - start)\n",
    "\n",
    "# 모델 저장\n",
    "print('4) 학습된 모델 저장 시작')\n",
    "model.save('nvmc.model')\n",
    "print('4) 학습된 모델 저장 완료: ', time.time() - start)\n",
    "\n",
    "# 학습된 말뭉치 개수, 코퍼스 내 전체 단어 개수\n",
    "print(\"corpus_count : \", model.corpus_count)\n",
    "print(\"corpus_total_words : \", model.corpus_total_words)"
   ]
  },
  {
   "cell_type": "markdown",
   "id": "labeled-peace",
   "metadata": {},
   "source": [
    "<h7>Word2Vec 시각화</h7>\n",
    "<img src='http://i.imgur.com/agTBWiT.png' width=600 height=400></img>"
   ]
  },
  {
   "cell_type": "code",
   "execution_count": 24,
   "id": "subtle-missile",
   "metadata": {},
   "outputs": [
    {
     "name": "stdout",
     "output_type": "stream",
     "text": [
      "corpus_total_words :  1076896\n",
      "사랑 :  [ 2.59252712e-02 -4.61046845e-01  4.59488392e-01  2.30080739e-01\n",
      " -3.04111451e-01  1.64228398e-02 -2.34961390e-01  6.27019331e-02\n",
      "  5.58735505e-02  3.05059165e-01 -3.96318167e-01  8.81529376e-02\n",
      "  3.57904971e-01 -1.73446894e-01 -1.59450412e-01  2.64062107e-01\n",
      " -1.02299519e-01 -3.55237514e-01 -4.26822096e-01 -3.27834487e-01\n",
      "  2.42506459e-01  2.82673150e-01 -1.43905774e-01  1.82188749e-01\n",
      " -1.90220878e-01  1.51761118e-02  4.10798341e-02  1.05792314e-01\n",
      " -9.57181156e-02 -2.41303682e-01  9.72758904e-02  3.62694770e-01\n",
      "  1.61752045e-01 -1.48776006e-02 -2.45976508e-01  3.84427994e-01\n",
      " -7.91173279e-02 -2.39552349e-01 -3.35476361e-02 -3.23798358e-01\n",
      " -3.92834693e-01  1.07165001e-01 -9.08850282e-02 -4.36967850e-01\n",
      "  5.74442804e-01  4.66109216e-01 -1.63454577e-01 -2.59486556e-01\n",
      "  4.01609063e-01  2.18106925e-01  2.01980487e-01 -1.24797463e-01\n",
      " -1.50801435e-01 -8.38546231e-02  4.25467975e-02 -1.74611777e-01\n",
      " -2.21267059e-01 -5.07517278e-01 -4.94943671e-02 -7.89339915e-02\n",
      "  1.90189913e-01  2.49181733e-01 -2.32228324e-01 -1.28581583e-01\n",
      " -3.95494848e-02  1.07448526e-01 -4.26126093e-01  3.01854730e-01\n",
      " -3.01688820e-01  6.22817934e-01  3.62207890e-02 -1.64869040e-01\n",
      "  5.00435889e-01  1.92163840e-01  2.90613502e-01 -2.00687662e-01\n",
      "  1.84082165e-01 -3.10264498e-01 -2.33305305e-01 -1.06637709e-01\n",
      "  1.67467073e-01 -1.11568823e-01 -8.26245248e-02  5.09383202e-01\n",
      " -7.91810751e-02 -3.47018570e-01 -1.25282943e-01  1.86383456e-01\n",
      " -1.40132923e-02  9.45563987e-02  4.42898095e-01  1.40775219e-01\n",
      "  4.69441086e-01 -3.28510068e-04  4.97764736e-01 -4.15626578e-02\n",
      "  3.93592641e-02  1.29726693e-01 -2.28601262e-01 -1.69436112e-01\n",
      " -1.78159252e-01  2.62790889e-01  8.17613527e-02  2.81555116e-01\n",
      " -1.60054654e-01 -5.83230317e-01  2.21072480e-01  3.13331366e-01\n",
      "  1.34455010e-01 -2.81412989e-01  6.79175854e-02 -3.56121778e-01\n",
      " -4.97202575e-02  2.64062643e-01  3.71800929e-01 -4.11663473e-01\n",
      " -9.48969498e-02 -1.01593629e-01  3.16572726e-01  3.01387087e-02\n",
      "  2.99104806e-02  6.57902062e-02  1.98924616e-02 -4.11300242e-01\n",
      "  5.65028489e-02  4.47117478e-01  5.05236126e-02 -5.30275814e-02\n",
      " -3.39796811e-01  8.49352777e-02 -1.98708009e-02  6.40751123e-01\n",
      "  1.55510530e-01  3.12261134e-01 -1.43853635e-01  1.24328747e-01\n",
      "  1.38618678e-01  1.66086510e-01 -7.41827935e-02  6.55548647e-02\n",
      "  3.73578608e-01  5.83791696e-02 -3.50273192e-01  6.43580183e-02\n",
      " -3.24387610e-01 -7.52244294e-02  1.00666381e-01 -3.57166417e-02\n",
      "  2.10174724e-01 -1.85425386e-01 -3.00580025e-01 -3.30382466e-01\n",
      "  2.68847764e-01 -1.24522865e-01 -2.43631192e-02  7.96411932e-02\n",
      "  4.57182497e-01 -1.34071673e-03  2.85150141e-01  1.61365107e-01\n",
      "  1.64707720e-01  3.35405499e-01 -1.33204699e-01  2.66817629e-01\n",
      " -6.52586222e-02  5.50077140e-01 -1.90662786e-01 -4.29329783e-01\n",
      " -2.43711203e-01  2.55594980e-02 -2.17442781e-01  1.26679763e-01\n",
      "  3.75865430e-01 -3.90539110e-01  3.05131804e-02 -1.87014267e-01\n",
      "  1.68125406e-01 -2.01943681e-01  2.14538395e-01 -1.05303742e-01\n",
      " -5.12997620e-03  6.83000982e-02  2.35739037e-01 -1.61694527e-01\n",
      " -3.53166342e-01 -1.27100512e-01 -4.52764705e-02 -1.61837295e-01\n",
      "  3.48224729e-01  8.53121579e-02  9.06859413e-02 -2.07454383e-01\n",
      " -3.84239823e-01  4.45347056e-02  1.16622604e-01 -2.66923398e-01\n",
      "  7.38371536e-02 -2.08906665e-01  3.87266167e-02  8.57165605e-02]\n",
      "일요일 = 월요일\t 0.9120636\n",
      "안성기 = 배우\t 0.69840235\n",
      "대기업 = 삼성\t 0.85366595\n",
      "일요일 != 삼성\t 0.6270035\n",
      "히어로 != 삼성\t 0.43529293\n",
      "[('한석규', 0.9468225240707397), ('정재영', 0.9448748230934143), ('이나영', 0.944530725479126), ('황정민', 0.9344455599784851), ('최강희', 0.9326817393302917)]\n",
      "[('엑스맨', 0.7987314462661743), ('포터', 0.7851372957229614), ('스타워즈', 0.768399178981781), ('반지의 제왕', 0.7677204012870789), ('마블', 0.7653757333755493)]\n"
     ]
    }
   ],
   "source": [
    "from gensim.models import Word2Vec\n",
    "\n",
    "# 모델 로딩\n",
    "model = Word2Vec.load('nvmc.model')\n",
    "print(\"corpus_total_words : \", model.corpus_total_words)\n",
    "\n",
    "# '사랑'이란 단어로 생성한 단어 임베딩 벡터\n",
    "print('사랑 : ', model.wv['사랑'])\n",
    "\n",
    "# 단어 유사도 계산\n",
    "print(\"일요일 = 월요일\\t\", model.wv.similarity(w1='일요일', w2='월요일'))\n",
    "print(\"안성기 = 배우\\t\", model.wv.similarity(w1='안성기', w2='배우'))\n",
    "print(\"대기업 = 삼성\\t\", model.wv.similarity(w1='대기업', w2='삼성'))\n",
    "print(\"일요일 != 삼성\\t\", model.wv.similarity(w1='일요일', w2='삼성'))\n",
    "print(\"히어로 != 삼성\\t\", model.wv.similarity(w1='히어로', w2='삼성'))\n",
    "\n",
    "# 가장 유사한 단어 추출\n",
    "print(model.wv.most_similar(\"안성기\", topn=5))\n",
    "print(model.wv.most_similar(\"시리즈\", topn=5))"
   ]
  },
  {
   "cell_type": "code",
   "execution_count": 71,
   "id": "behavioral-slovenia",
   "metadata": {},
   "outputs": [],
   "source": [
    "import matplotlib.pyplot as plt\n",
    "from sklearn.manifold import TSNE\n",
    "from matplotlib import rc\n",
    "\n",
    "words = ['일요일', '월요일', '안성기', '배우', '대기업', '삼성', '한석규', '지진희', '문소리', '스타워즈', '엑스맨']\n",
    "vecs = []\n",
    "\n",
    "for word in words:\n",
    "    vecs.append(model.wv[word])\n",
    "\n",
    "vecs = np.array(vecs)"
   ]
  },
  {
   "cell_type": "code",
   "execution_count": 72,
   "id": "2b387a06",
   "metadata": {},
   "outputs": [
    {
     "data": {
      "text/plain": [
       "(11, 200)"
      ]
     },
     "execution_count": 72,
     "metadata": {},
     "output_type": "execute_result"
    }
   ],
   "source": [
    "vecs.shape"
   ]
  },
  {
   "cell_type": "code",
   "execution_count": 78,
   "id": "222fe9f1",
   "metadata": {
    "scrolled": false
   },
   "outputs": [
    {
     "name": "stderr",
     "output_type": "stream",
     "text": [
      "/home/hunkoog/anaconda3/envs/nlp/lib/python3.9/site-packages/sklearn/manifold/_t_sne.py:800: FutureWarning: The default initialization in TSNE will change from 'random' to 'pca' in 1.2.\n",
      "  warnings.warn(\n",
      "/home/hunkoog/anaconda3/envs/nlp/lib/python3.9/site-packages/sklearn/manifold/_t_sne.py:810: FutureWarning: The default learning rate in TSNE will change from 200.0 to 'auto' in 1.2.\n",
      "  warnings.warn(\n"
     ]
    }
   ],
   "source": [
    "# 한글 깨짐을 방지하는 코드\n",
    "rc('font', family='DejaVu Sans')\n",
    "plt.rcParams['axes.unicode_minus'] = False\n",
    "\n",
    "new_values = TSNE(perplexity=5, n_components=2).fit_transform(vecs)\n",
    "\n",
    "x = []\n",
    "y = []\n",
    "\n",
    "for value in new_values:\n",
    "    x.append(value[0])\n",
    "    y.append(value[1])"
   ]
  },
  {
   "cell_type": "code",
   "execution_count": 82,
   "id": "30b5ec96",
   "metadata": {},
   "outputs": [
    {
     "data": {
      "image/png": "[encoded data removed]",
      "text/plain": [
       "<Figure size 1400x800 with 1 Axes>"
      ]
     },
     "metadata": {},
     "output_type": "display_data"
    }
   ],
   "source": [
    "plt.figure(figsize=(14, 8)) \n",
    "\n",
    "n_words = ['Sunday', 'Monday', 'Ahn', 'Actor', 'Large cap', 'Samsung', 'Han', 'Ji', 'Moon',\n",
    "          'Star wars', 'X-man']\n",
    "\n",
    "for i in range(len(x)):\n",
    "    plt.scatter(x[i], y[i])\n",
    "    plt.annotate(\n",
    "        n_words[i], xy=(x[i], y[i]), xytext=(5, 2), \n",
    "        textcoords='offset points', ha='right', \n",
    "        va='bottom', fontweight='extra bold', fontsize=11)\n",
    "plt.show()"
   ]
  },
  {
   "cell_type": "markdown",
   "id": "dangerous-wallpaper",
   "metadata": {},
   "source": [
    "## CountVectorizer"
   ]
  },
  {
   "cell_type": "code",
   "execution_count": 45,
   "id": "scenic-inclusion",
   "metadata": {},
   "outputs": [
    {
     "name": "stdout",
     "output_type": "stream",
     "text": [
      "{'나는': 0, '학교가': 4, '좋다': 3, '너를': 1, '부른다': 2}\n",
      "나는 학교가 학교가 학교가 학교가 좋다 [[1 0 0 1 4]]\n",
      "학교가 너를 부른다 [[0 1 1 0 1]]\n",
      "나는 너를 부른다 [[1 1 1 0 0]]\n"
     ]
    }
   ],
   "source": [
    "from sklearn.feature_extraction.text import CountVectorizer\n",
    "\n",
    "texts = ['나는 학교가 학교가 학교가 학교가 좋다', '학교가 너를 부른다', '나는 너를 부른다']\n",
    "cnt_vec = CountVectorizer()\n",
    "cnt_vec.fit(texts)\n",
    "print(cnt_vec.vocabulary_)\n",
    "\n",
    "for text in texts:\n",
    "    print(text, cnt_vec.transform([text]).toarray())"
   ]
  },
  {
   "cell_type": "markdown",
   "id": "crucial-format",
   "metadata": {},
   "source": [
    "## TF-IDF Vectorizer"
   ]
  },
  {
   "cell_type": "markdown",
   "id": "informal-trout",
   "metadata": {},
   "source": [
    "TF(Term Frequency): 특정 단어가 하나의 문서 내에서 얼마나 자주 등장하는지 확인함<p>\n",
    "DF(Document Frequency): 특정 단어가 여러 문서에 걸쳐서 얼마나 등장하는지 확인함<p>\n",
    "IDF(Inverse Document Frequency): DF의 역수"
   ]
  },
  {
   "cell_type": "markdown",
   "id": "adjacent-trauma",
   "metadata": {},
   "source": [
    "<img src='https://img1.daumcdn.net/thumb/R800x0/?scode=mtistory2&fname=https%3A%2F%2Fblog.kakaocdn.net%2Fdn%2FbKcggU%2FbtqCkQ2NEH1%2FAp9xO7HQSDzfKixMyuGNCk%2Fimg.png' width=600 height=350></img>"
   ]
  },
  {
   "cell_type": "code",
   "execution_count": 83,
   "id": "spatial-programming",
   "metadata": {},
   "outputs": [
    {
     "name": "stdout",
     "output_type": "stream",
     "text": [
      "{'나는': 0, '학교가': 4, '좋다': 3, '너를': 1, '부른다': 2}\n",
      "[[0.2310701  0.         0.         0.30382942 0.92428042]\n",
      " [0.         0.57735027 0.57735027 0.         0.57735027]\n",
      " [0.57735027 0.57735027 0.57735027 0.         0.        ]]\n"
     ]
    }
   ],
   "source": [
    "from sklearn.feature_extraction.text import TfidfVectorizer\n",
    "\n",
    "tfidf_vec = TfidfVectorizer()\n",
    "tfidf_vec.fit(texts)\n",
    "print(tfidf_vec.vocabulary_)\n",
    "print(tfidf_vec.transform(texts).toarray())"
   ]
  },
  {
   "cell_type": "code",
   "execution_count": 84,
   "id": "adjacent-samba",
   "metadata": {},
   "outputs": [],
   "source": [
    "import tensorflow as tf\n",
    "from tensorflow.keras import preprocessing\n",
    "\n",
    "samples = ['수학을 배우는 것은 매우 즐겁다', '수학 시간이 되면 행복해', '수학 시간이 기다려져',\n",
    "          '수학은 어려워서 배우고 싶지 않아', '수학은 재미없어']\n",
    "labels = [[1], [1], [1], [0], [0]]\n",
    "tokenizer = preprocessing.text.Tokenizer()\n",
    "tokenizer.fit_on_texts(samples)\n",
    "sequences = tokenizer.texts_to_sequences(samples)\n",
    "\n",
    "word_index = tokenizer.word_index"
   ]
  },
  {
   "cell_type": "code",
   "execution_count": 85,
   "id": "working-underwear",
   "metadata": {},
   "outputs": [
    {
     "data": {
      "text/plain": [
       "{'수학': 1,\n",
       " '시간이': 2,\n",
       " '수학은': 3,\n",
       " '수학을': 4,\n",
       " '배우는': 5,\n",
       " '것은': 6,\n",
       " '매우': 7,\n",
       " '즐겁다': 8,\n",
       " '되면': 9,\n",
       " '행복해': 10,\n",
       " '기다려져': 11,\n",
       " '어려워서': 12,\n",
       " '배우고': 13,\n",
       " '싶지': 14,\n",
       " '않아': 15,\n",
       " '재미없어': 16}"
      ]
     },
     "execution_count": 85,
     "metadata": {},
     "output_type": "execute_result"
    }
   ],
   "source": [
    "word_index"
   ]
  },
  {
   "cell_type": "code",
   "execution_count": 86,
   "id": "returning-prague",
   "metadata": {},
   "outputs": [
    {
     "data": {
      "text/plain": [
       "[[4, 5, 6, 7, 8], [1, 2, 9, 10], [1, 2, 11], [3, 12, 13, 14, 15], [3, 16]]"
      ]
     },
     "execution_count": 86,
     "metadata": {},
     "output_type": "execute_result"
    }
   ],
   "source": [
    "sequences"
   ]
  },
  {
   "cell_type": "markdown",
   "id": "determined-executive",
   "metadata": {},
   "source": [
    "# 토픽 분석"
   ]
  },
  {
   "cell_type": "markdown",
   "id": "broken-commission",
   "metadata": {},
   "source": [
    "토픽은 문서(Document) 내에서 여러 개의 단어로 구성된 하나의 의미를 갖는 덩어리라고 생각할 수 있다.<br>\n",
    "즉, 하나의 글은 1개 이상의 토픽으로 구성될 수 있고, 그 토픽들은 여러 개의 단어(Terms)들로 구성되어 있다."
   ]
  },
  {
   "cell_type": "markdown",
   "id": "assumed-reset",
   "metadata": {},
   "source": [
    "<img src='https://www.analyticsvidhya.com/wp-content/uploads/2016/08/Modeling1.png'>"
   ]
  },
  {
   "cell_type": "code",
   "execution_count": 14,
   "id": "treated-latex",
   "metadata": {
    "scrolled": true
   },
   "outputs": [],
   "source": [
    "import pandas as pd\n",
    "import matplotlib.pyplot as plt\n",
    "import urllib.request\n",
    "from gensim.models.word2vec import Word2Vec\n",
    "\n",
    "df = pd.read_excel('Data/future_sentence.xlsx', index_col=0, engine='openpyxl')"
   ]
  },
  {
   "cell_type": "code",
   "execution_count": 15,
   "id": "0400861d",
   "metadata": {
    "scrolled": true
   },
   "outputs": [
    {
     "name": "stdout",
     "output_type": "stream",
     "text": [
      "/home/hunkoog/anaconda3/envs/knlp/bin/python\n"
     ]
    }
   ],
   "source": [
    "#현재 파이썬이 구동 중인 주소를 나타냅니다. 자신이 실행하고 있는 가상환경과 일치하는지 확인해 보기 바랍니다.\n",
    "from sys import executable\n",
    "print(executable)"
   ]
  },
  {
   "cell_type": "code",
   "execution_count": null,
   "id": "9363c107",
   "metadata": {},
   "outputs": [],
   "source": [
    "!pip install soyspacing"
   ]
  },
  {
   "cell_type": "markdown",
   "id": "c4200f46",
   "metadata": {},
   "source": [
    "### 교정을 하는 방법으로 2가지가 있습니다."
   ]
  },
  {
   "cell_type": "markdown",
   "id": "536d14eb",
   "metadata": {},
   "source": [
    "#### 1안: soyspacing을 이용하기"
   ]
  },
  {
   "cell_type": "code",
   "execution_count": 16,
   "id": "088bdb23",
   "metadata": {},
   "outputs": [
    {
     "name": "stdout",
     "output_type": "stream",
     "text": [
      "all tags length = 694236 --> 57795, (num_doc = 15602)"
     ]
    }
   ],
   "source": [
    "from soyspacing.countbase import CountSpace\n",
    "\n",
    "# 주어진 텍스트 파일을 통해서 모델 훈련하기\n",
    "corpus_fname = 'Data/134963_norm.txt'\n",
    "model_fname = 'soy_model'\n",
    "\n",
    "model = CountSpace()\n",
    "model.train(corpus_fname)\n",
    "model.save_model(model_fname, json_format=False)\n",
    "\n",
    "# 학습된 모델을 불러와서 실행하기\n",
    "model = CountSpace()\n",
    "model.load_model(model_fname, json_format=False)"
   ]
  },
  {
   "cell_type": "code",
   "execution_count": 20,
   "id": "e99d2a6f",
   "metadata": {},
   "outputs": [
    {
     "name": "stdout",
     "output_type": "stream",
     "text": [
      "CPU times: user 3.47 s, sys: 3.37 ms, total: 3.48 s\n",
      "Wall time: 3.47 s\n"
     ]
    }
   ],
   "source": [
    "%%time\n",
    "\n",
    "# with parameters\n",
    "verbose=False\n",
    "mc = 10  # min_count\n",
    "ft = 0.3 # force_abs_threshold\n",
    "nt =-0.3 # nonspace_threshold\n",
    "st = 0.3 # space_threshold\n",
    "\n",
    "try:\n",
    "    for i in range(len(df)):\n",
    "        sent = df.Sentence[i].replace('&', ' ')\n",
    "        sent_corrected, tags = model.correct(doc=sent, verbose=verbose, force_abs_threshold=ft,\n",
    "                                             nonspace_threshold=nt, space_threshold=st, min_count=mc)\n",
    "        df.Sentence[i] = sent_corrected\n",
    "        \n",
    "except Exception as e:\n",
    "    print(i)\n",
    "    print(df.Sentence[i])"
   ]
  },
  {
   "cell_type": "markdown",
   "id": "bd91b45d",
   "metadata": {},
   "source": [
    "#### 2안: hanspell을 이용하기"
   ]
  },
  {
   "cell_type": "code",
   "execution_count": 22,
   "id": "literary-check",
   "metadata": {},
   "outputs": [
    {
     "name": "stdout",
     "output_type": "stream",
     "text": [
      "CPU times: user 25.9 s, sys: 377 ms, total: 26.2 s\n",
      "Wall time: 4min 12s\n"
     ]
    }
   ],
   "source": [
    "%%time\n",
    "# 교정을 하고자 할 때는 수행하는 명령어\n",
    "# 수행된 결과를 확인하고 수행하는 것이 좋다.\n",
    "# 이 코드는 반드시 실행할 필요는 없다.\n",
    "# 한글 띄어쓰기 등의 교정이므로 오랜 시간이 걸린다.\n",
    "\n",
    "from hanspell import spell_checker\n",
    "\n",
    "try:\n",
    "    for i in range(len(df)):\n",
    "        t = df.Sentence[i].replace('&', ' ')\n",
    "        result = spell_checker.check(t)\n",
    "        # 0-result, 1-original, 2-revised, 3-error number, 4-checked words, 5-time\n",
    "        df.Sentence[i] = result[2]\n",
    "        \n",
    "except Exception as e:\n",
    "    print(i)\n",
    "    print(df.Sentence[i])"
   ]
  },
  {
   "cell_type": "markdown",
   "id": "21a9ac5b",
   "metadata": {},
   "source": [
    "### 여기서부터는 공통 코드입니다."
   ]
  },
  {
   "cell_type": "code",
   "execution_count": 23,
   "id": "disabled-horizon",
   "metadata": {},
   "outputs": [
    {
     "name": "stdout",
     "output_type": "stream",
     "text": [
      "CPU times: user 8min 10s, sys: 3.63 s, total: 8min 14s\n",
      "Wall time: 2min 14s\n"
     ]
    }
   ],
   "source": [
    "%%time\n",
    "from konlpy.tag import Kkma\n",
    "\n",
    "# 형태소 분석기 꼬꼬마를 사용한 토큰화 작업 (다소 시간 소요)\n",
    "kkma = Kkma()\n",
    "\n",
    "stopwords = ['ㆍ', 'ㄴ', '의','가','이','은','들','는','좀','잘','걍','과','도','를','으로','자','에','와','한','하다']\n",
    "tokenized_data = []\n",
    "for sentence in df['Sentence']:\n",
    "    temp_X = kkma.morphs(sentence) # 토큰화\n",
    "    temp_X = [word for word in temp_X if (not word in stopwords) and (len(word) > 1)] # 불용어 제거\n",
    "    tokenized_data.append(temp_X)"
   ]
  },
  {
   "cell_type": "code",
   "execution_count": 24,
   "id": "referenced-paris",
   "metadata": {},
   "outputs": [
    {
     "name": "stdout",
     "output_type": "stream",
     "text": [
      "문장 최대 길이 : 89\n",
      "문장 평균 길이 : 25.326416600159618\n"
     ]
    },
    {
     "data": {
      "image/png": "[encoded data removed]",
      "text/plain": [
       "<Figure size 640x480 with 1 Axes>"
      ]
     },
     "metadata": {},
     "output_type": "display_data"
    }
   ],
   "source": [
    "# 리뷰 길이 분포 확인\n",
    "print('문장 최대 길이 :',max(len(l) for l in tokenized_data))\n",
    "print('문장 평균 길이 :',sum(map(len, tokenized_data))/len(tokenized_data))\n",
    "plt.hist([len(s) for s in tokenized_data], bins=100)\n",
    "plt.xlabel('length of samples')\n",
    "plt.ylabel('number of samples')\n",
    "plt.show()"
   ]
  },
  {
   "cell_type": "code",
   "execution_count": 25,
   "id": "difficult-quilt",
   "metadata": {},
   "outputs": [
    {
     "name": "stdout",
     "output_type": "stream",
     "text": [
      "CPU Processor count: 80\n"
     ]
    }
   ],
   "source": [
    "from gensim.models import Word2Vec\n",
    "import multiprocessing\n",
    "\n",
    "num_scores = multiprocessing.cpu_count()\n",
    "print('CPU Processor count:', num_scores)\n",
    "model = Word2Vec(sentences=tokenized_data, vector_size=100, window=5, min_count=10, workers=num_scores, sg=0)\n",
    "# size: 벡터 크기, window: 고려할 앞뒤 폭, min_count: 단어의 최소 빈도, \n",
    "# workers: CPU 코어 수, sg: 0-CBOW, 1-skip-gram"
   ]
  },
  {
   "cell_type": "code",
   "execution_count": 26,
   "id": "quarterly-president",
   "metadata": {},
   "outputs": [
    {
     "data": {
      "text/plain": [
       "[('사회', 0.9752250909805298),\n",
       " ('재난', 0.9743802547454834),\n",
       " ('기르', 0.9636759161949158),\n",
       " ('기후', 0.963604211807251),\n",
       " ('극복', 0.9625287652015686),\n",
       " ('공공성', 0.9621127247810364),\n",
       " ('전문가', 0.9603736996650696),\n",
       " ('새롭', 0.9599313735961914),\n",
       " ('개선', 0.9598098993301392),\n",
       " ('복지', 0.9596497416496277)]"
      ]
     },
     "execution_count": 26,
     "metadata": {},
     "output_type": "execute_result"
    }
   ],
   "source": [
    "model.wv.most_similar('미래', topn=10)"
   ]
  },
  {
   "cell_type": "code",
   "execution_count": 27,
   "id": "oriental-louis",
   "metadata": {},
   "outputs": [
    {
     "data": {
      "text/plain": [
       "[('사회', 0.9761632084846497),\n",
       " ('극복', 0.9672544002532959),\n",
       " ('재난', 0.9660968780517578),\n",
       " ('대전환', 0.9652632474899292),\n",
       " ('기후', 0.964938759803772),\n",
       " ('새롭', 0.957588255405426),\n",
       " ('패러다임', 0.9569243788719177),\n",
       " ('흔들림', 0.9546582698822021),\n",
       " ('원년', 0.9536045789718628),\n",
       " ('급변', 0.9522645473480225)]"
      ]
     },
     "execution_count": 27,
     "metadata": {},
     "output_type": "execute_result"
    }
   ],
   "source": [
    "# 현재 : 컴퓨터 = 미래 : ? 에서 ?를 추론함.\n",
    "model.wv.most_similar(positive=['현재', '미래'], negative=['컴퓨터'])"
   ]
  },
  {
   "cell_type": "code",
   "execution_count": 28,
   "id": "6f400a2e",
   "metadata": {},
   "outputs": [
    {
     "data": {
      "text/plain": [
       "[('흔들림', 0.9730426073074341),\n",
       " ('대전환', 0.9698816537857056),\n",
       " ('원년', 0.9635171890258789),\n",
       " ('극복', 0.9569639563560486),\n",
       " ('소멸', 0.9534119367599487),\n",
       " ('사회', 0.9503545165061951),\n",
       " ('감소', 0.9491053223609924),\n",
       " ('학령', 0.9486213326454163),\n",
       " ('급변', 0.9482210278511047),\n",
       " ('걸맞', 0.9480537176132202)]"
      ]
     },
     "execution_count": 28,
     "metadata": {},
     "output_type": "execute_result"
    }
   ],
   "source": [
    "# 현재 : 교사 = 미래 : ? 에서 ?를 추론함.\n",
    "model.wv.most_similar(positive=['현재', '미래'], negative=['교사'])"
   ]
  },
  {
   "cell_type": "code",
   "execution_count": 29,
   "id": "stylish-valentine",
   "metadata": {},
   "outputs": [],
   "source": [
    "from gensim import corpora\n",
    "dictionary = corpora.Dictionary(tokenized_data)\n",
    "\n",
    "corpus = [dictionary.doc2bow(text) for text in tokenized_data]"
   ]
  },
  {
   "cell_type": "code",
   "execution_count": 30,
   "id": "royal-diana",
   "metadata": {},
   "outputs": [
    {
     "data": {
      "text/plain": [
       "['lda_corpus.pkl']"
      ]
     },
     "execution_count": 30,
     "metadata": {},
     "output_type": "execute_result"
    }
   ],
   "source": [
    "# 변수를 저장하기 위한 코드\n",
    "import joblib\n",
    "\n",
    "joblib.dump(tokenized_data, 'lda_tokenized.pkl')\n",
    "joblib.dump(corpus, 'lda_corpus.pkl')"
   ]
  },
  {
   "cell_type": "code",
   "execution_count": 31,
   "id": "japanese-davis",
   "metadata": {},
   "outputs": [],
   "source": [
    "# 변수를 불러오기 위한 코드\n",
    "import joblib\n",
    "\n",
    "tokenized_data = joblib.load('lda_tokenized.pkl')\n",
    "corpus = joblib.load('lda_corpus.pkl')"
   ]
  },
  {
   "cell_type": "code",
   "execution_count": 32,
   "id": "contemporary-singapore",
   "metadata": {},
   "outputs": [
    {
     "name": "stdout",
     "output_type": "stream",
     "text": [
      "핵심\n"
     ]
    }
   ],
   "source": [
    "print(dictionary[108])"
   ]
  },
  {
   "cell_type": "code",
   "execution_count": 33,
   "id": "military-addition",
   "metadata": {},
   "outputs": [
    {
     "data": {
      "text/plain": [
       "[(0, '0.039*\"교육원\" + 0.034*\"교수\" + 0.030*\"미래\" + 0.024*\"농업\"'),\n",
       " (1, '0.054*\"경남\" + 0.054*\"미래\" + 0.043*\"교육청\" + 0.041*\"교육\"'),\n",
       " (2, '0.074*\"기자\" + 0.055*\"밝히\" + 0.055*\"교육청\" + 0.044*\"뉴스\"'),\n",
       " (3, '0.068*\"학교\" + 0.053*\"교육\" + 0.048*\"미래\" + 0.034*\"위하\"'),\n",
       " (4, '0.079*\"교육\" + 0.058*\"미래\" + 0.031*\"방향\" + 0.023*\"학교\"'),\n",
       " (5, '0.078*\"교육\" + 0.040*\"미래\" + 0.038*\"코로나\" + 0.026*\"19\"'),\n",
       " (6, '0.043*\"미래\" + 0.040*\"교육\" + 0.037*\"대학\" + 0.034*\"혁신\"'),\n",
       " (7, '0.036*\"우리\" + 0.034*\"아이\" + 0.033*\"미래\" + 0.029*\"나눔\"'),\n",
       " (8, '0.069*\"교육\" + 0.062*\"미래\" + 0.035*\"학교\" + 0.024*\"ㄴ다\"'),\n",
       " (9, '0.083*\"교육\" + 0.046*\"지구\" + 0.033*\"사업\" + 0.029*\"미래\"'),\n",
       " (10, '0.102*\"교육\" + 0.041*\"미래\" + 0.021*\"교육감\" + 0.014*\"정책\"'),\n",
       " (11, '0.078*\"교육\" + 0.055*\"미래\" + 0.021*\"우리\" + 0.015*\"아이\"'),\n",
       " (12, '0.071*\"교육\" + 0.056*\"미래\" + 0.028*\"환경\" + 0.019*\"학교\"'),\n",
       " (13, '0.078*\"교육\" + 0.034*\"미래\" + 0.032*\"편성\" + 0.032*\"예산\"'),\n",
       " (14, '0.070*\"교육\" + 0.041*\"미래\" + 0.028*\"AI\" + 0.018*\"위하\"'),\n",
       " (15, '0.055*\"교육\" + 0.034*\"직업\" + 0.033*\"육성\" + 0.032*\"평생\"'),\n",
       " (16, '0.067*\"교육\" + 0.039*\"미래\" + 0.037*\"구축\" + 0.032*\"지원\"'),\n",
       " (17, '0.053*\"미래\" + 0.048*\"교육\" + 0.025*\"교육부\" + 0.020*\"에서\"'),\n",
       " (18, '0.103*\"교육\" + 0.044*\"미래\" + 0.030*\"학생\" + 0.024*\"강화\"'),\n",
       " (19, '0.094*\"교육\" + 0.048*\"혁신\" + 0.040*\"학교\" + 0.037*\"미래\"')]"
      ]
     },
     "execution_count": 33,
     "metadata": {},
     "output_type": "execute_result"
    }
   ],
   "source": [
    "import gensim\n",
    "\n",
    "NUM_TOPICS = 20 #20개의 토픽, k=20\n",
    "ldamodel = gensim.models.ldamodel.LdaModel(\n",
    "    corpus, num_topics = NUM_TOPICS, id2word=dictionary, passes=15)\n",
    "topics = ldamodel.print_topics(num_words=4)\n",
    "\n",
    "[topic for topic in topics]"
   ]
  },
  {
   "cell_type": "code",
   "execution_count": 34,
   "id": "imported-anime",
   "metadata": {
    "scrolled": true
   },
   "outputs": [
    {
     "name": "stdout",
     "output_type": "stream",
     "text": [
      "Perplexity:  -7.145198941481208\n",
      "Coherence Score:  0.3869541115641656\n"
     ]
    }
   ],
   "source": [
    "from gensim.models import CoherenceModel\n",
    "\n",
    "# Compute Perplexity\n",
    "print('Perplexity: ', ldamodel.log_perplexity(corpus))  \n",
    "\n",
    "# Compute Coherence Score\n",
    "coherence_model_lda = CoherenceModel(\n",
    "    model=ldamodel, texts=tokenized_data, dictionary=dictionary, \n",
    "    coherence='c_v')\n",
    "coherence_lda = coherence_model_lda.get_coherence()\n",
    "print('Coherence Score: ', coherence_lda)"
   ]
  },
  {
   "cell_type": "markdown",
   "id": "danish-dairy",
   "metadata": {},
   "source": [
    "### 최적의 모델을 찾기 위해서는 Coherence 및 Perplexity 점수를 비교해야 한다."
   ]
  },
  {
   "cell_type": "code",
   "execution_count": 36,
   "id": "dominican-freight",
   "metadata": {
    "scrolled": false
   },
   "outputs": [
    {
     "name": "stdout",
     "output_type": "stream",
     "text": [
      "topic 2 finished\n",
      "topic 3 finished\n",
      "topic 4 finished\n",
      "topic 5 finished\n",
      "topic 6 finished\n",
      "topic 7 finished\n",
      "topic 8 finished\n",
      "topic 9 finished\n",
      "topic 10 finished\n",
      "topic 11 finished\n",
      "topic 12 finished\n",
      "topic 13 finished\n",
      "topic 14 finished\n",
      "topic 15 finished\n",
      "topic 16 finished\n",
      "topic 17 finished\n",
      "topic 18 finished\n",
      "topic 19 finished\n",
      "topic 20 finished\n",
      "topic 21 finished\n",
      "topic 22 finished\n",
      "topic 23 finished\n",
      "topic 24 finished\n",
      "topic 25 finished\n",
      "topic 26 finished\n",
      "topic 27 finished\n",
      "topic 28 finished\n",
      "topic 29 finished\n",
      "CPU times: user 9min 47s, sys: 57.5 s, total: 10min 45s\n",
      "Wall time: 10min 31s\n"
     ]
    }
   ],
   "source": [
    "%%time\n",
    "\n",
    "df_topics = pd.DataFrame(columns=['topic', 'coherence', 'perplexity'])\n",
    "lda_list = []\n",
    "\n",
    "for i in range(2, 30):\n",
    "    NUM_TOPICS = i\n",
    "    ldamodel = gensim.models.ldamodel.LdaModel(corpus, num_topics = NUM_TOPICS, id2word=dictionary, passes=15)\n",
    "    topics = ldamodel.print_topics(num_words=4)\n",
    "    [topic for topic in topics]\n",
    "\n",
    "    # Compute Coherence Score\n",
    "    coherence_model_lda = CoherenceModel(\n",
    "        model=ldamodel, texts=tokenized_data, dictionary=dictionary, coherence='c_v')\n",
    "    coherence_lda = coherence_model_lda.get_coherence()\n",
    "    \n",
    "    df_topics.loc[len(df_topics)] = [i, coherence_lda, ldamodel.log_perplexity(corpus)]\n",
    "    \n",
    "    lda_list.append(ldamodel)\n",
    "    \n",
    "    print('topic %d finished' % i)"
   ]
  },
  {
   "cell_type": "code",
   "execution_count": 37,
   "id": "drawn-laugh",
   "metadata": {},
   "outputs": [
    {
     "data": {
      "text/plain": [
       "['lda_list.pkl']"
      ]
     },
     "execution_count": 37,
     "metadata": {},
     "output_type": "execute_result"
    }
   ],
   "source": [
    "import joblib\n",
    "\n",
    "joblib.dump(lda_list, 'lda_list.pkl')"
   ]
  },
  {
   "cell_type": "code",
   "execution_count": 38,
   "id": "honey-stick",
   "metadata": {},
   "outputs": [],
   "source": [
    "#다시 불러올 때는\n",
    "import joblib\n",
    "\n",
    "lda_list = joblib.load('lda_list.pkl')"
   ]
  },
  {
   "cell_type": "code",
   "execution_count": 39,
   "id": "periodic-dancing",
   "metadata": {},
   "outputs": [
    {
     "data": {
      "text/plain": [
       "(17, 0.4357735448610111)"
      ]
     },
     "execution_count": 39,
     "metadata": {},
     "output_type": "execute_result"
    }
   ],
   "source": [
    "df_topics.coherence.idxmax(), df_topics.coherence.max()"
   ]
  },
  {
   "cell_type": "code",
   "execution_count": 40,
   "id": "naked-schedule",
   "metadata": {},
   "outputs": [
    {
     "data": {
      "image/png": "[encoded data removed]",
      "text/plain": [
       "<Figure size 1200x600 with 2 Axes>"
      ]
     },
     "metadata": {},
     "output_type": "display_data"
    }
   ],
   "source": [
    "import matplotlib.pyplot as plt\n",
    "\n",
    "plt.figure(figsize=(12, 6))\n",
    "plt.subplot(1, 2, 1)\n",
    "plt.plot(df_topics.topic, df_topics.coherence, 'r-')\n",
    "plt.axvline(df_topics.coherence.idxmax()+2, linestyle='--', color='gray')\n",
    "\n",
    "plt.subplot(1, 2, 2)\n",
    "plt.plot(df_topics.topic, df_topics.perplexity, 'b-')\n",
    "plt.show()"
   ]
  },
  {
   "cell_type": "markdown",
   "id": "fuzzy-screen",
   "metadata": {},
   "source": [
    "### 최적화된 값을 찾도록 한다."
   ]
  },
  {
   "cell_type": "code",
   "execution_count": 41,
   "id": "balanced-nowhere",
   "metadata": {},
   "outputs": [],
   "source": [
    "ldamodel = lda_list[df_topics.coherence.idxmax()]"
   ]
  },
  {
   "cell_type": "code",
   "execution_count": 42,
   "id": "drawn-preference",
   "metadata": {
    "scrolled": false
   },
   "outputs": [
    {
     "name": "stdout",
     "output_type": "stream",
     "text": [
      "Requirement already satisfied: pyldavis in /home/hunkoog/anaconda3/envs/knlp/lib/python3.8/site-packages (3.3.1)\n",
      "Requirement already satisfied: gensim in /home/hunkoog/anaconda3/envs/knlp/lib/python3.8/site-packages (from pyldavis) (4.3.0)\n",
      "Requirement already satisfied: pandas>=1.2.0 in /home/hunkoog/anaconda3/envs/knlp/lib/python3.8/site-packages (from pyldavis) (1.5.2)\n",
      "Requirement already satisfied: numpy>=1.20.0 in /home/hunkoog/anaconda3/envs/knlp/lib/python3.8/site-packages (from pyldavis) (1.24.1)\n",
      "Requirement already satisfied: funcy in /home/hunkoog/anaconda3/envs/knlp/lib/python3.8/site-packages (from pyldavis) (1.17)\n",
      "Requirement already satisfied: setuptools in /home/hunkoog/anaconda3/envs/knlp/lib/python3.8/site-packages (from pyldavis) (65.5.0)\n",
      "Requirement already satisfied: numexpr in /home/hunkoog/anaconda3/envs/knlp/lib/python3.8/site-packages (from pyldavis) (2.8.4)\n",
      "Requirement already satisfied: future in /home/hunkoog/anaconda3/envs/knlp/lib/python3.8/site-packages (from pyldavis) (0.18.2)\n",
      "Requirement already satisfied: joblib in /home/hunkoog/anaconda3/envs/knlp/lib/python3.8/site-packages (from pyldavis) (1.2.0)\n",
      "Requirement already satisfied: scipy in /home/hunkoog/anaconda3/envs/knlp/lib/python3.8/site-packages (from pyldavis) (1.9.3)\n",
      "Requirement already satisfied: jinja2 in /home/hunkoog/anaconda3/envs/knlp/lib/python3.8/site-packages (from pyldavis) (3.1.2)\n",
      "Requirement already satisfied: sklearn in /home/hunkoog/anaconda3/envs/knlp/lib/python3.8/site-packages (from pyldavis) (0.0.post1)\n",
      "Requirement already satisfied: scikit-learn in /home/hunkoog/anaconda3/envs/knlp/lib/python3.8/site-packages (from pyldavis) (1.2.0)\n",
      "Requirement already satisfied: python-dateutil>=2.8.1 in /home/hunkoog/anaconda3/envs/knlp/lib/python3.8/site-packages (from pandas>=1.2.0->pyldavis) (2.8.2)\n",
      "Requirement already satisfied: pytz>=2020.1 in /home/hunkoog/anaconda3/envs/knlp/lib/python3.8/site-packages (from pandas>=1.2.0->pyldavis) (2022.7)\n",
      "Requirement already satisfied: FuzzyTM>=0.4.0 in /home/hunkoog/anaconda3/envs/knlp/lib/python3.8/site-packages (from gensim->pyldavis) (2.0.5)\n",
      "Requirement already satisfied: smart-open>=1.8.1 in /home/hunkoog/anaconda3/envs/knlp/lib/python3.8/site-packages (from gensim->pyldavis) (6.3.0)\n",
      "Requirement already satisfied: MarkupSafe>=2.0 in /home/hunkoog/anaconda3/envs/knlp/lib/python3.8/site-packages (from jinja2->pyldavis) (2.1.1)\n",
      "Requirement already satisfied: threadpoolctl>=2.0.0 in /home/hunkoog/anaconda3/envs/knlp/lib/python3.8/site-packages (from scikit-learn->pyldavis) (3.1.0)\n",
      "Requirement already satisfied: pyfume in /home/hunkoog/anaconda3/envs/knlp/lib/python3.8/site-packages (from FuzzyTM>=0.4.0->gensim->pyldavis) (0.2.25)\n",
      "Requirement already satisfied: six>=1.5 in /home/hunkoog/anaconda3/envs/knlp/lib/python3.8/site-packages (from python-dateutil>=2.8.1->pandas>=1.2.0->pyldavis) (1.16.0)\n",
      "Requirement already satisfied: simpful in /home/hunkoog/anaconda3/envs/knlp/lib/python3.8/site-packages (from pyfume->FuzzyTM>=0.4.0->gensim->pyldavis) (2.9.0)\n",
      "Requirement already satisfied: fst-pso in /home/hunkoog/anaconda3/envs/knlp/lib/python3.8/site-packages (from pyfume->FuzzyTM>=0.4.0->gensim->pyldavis) (1.8.1)\n",
      "Requirement already satisfied: miniful in /home/hunkoog/anaconda3/envs/knlp/lib/python3.8/site-packages (from fst-pso->pyfume->FuzzyTM>=0.4.0->gensim->pyldavis) (0.0.6)\n",
      "Requirement already satisfied: requests in /home/hunkoog/anaconda3/envs/knlp/lib/python3.8/site-packages (from simpful->pyfume->FuzzyTM>=0.4.0->gensim->pyldavis) (2.28.1)\n",
      "Requirement already satisfied: charset-normalizer<3,>=2 in /home/hunkoog/anaconda3/envs/knlp/lib/python3.8/site-packages (from requests->simpful->pyfume->FuzzyTM>=0.4.0->gensim->pyldavis) (2.1.1)\n",
      "Requirement already satisfied: certifi>=2017.4.17 in /home/hunkoog/anaconda3/envs/knlp/lib/python3.8/site-packages (from requests->simpful->pyfume->FuzzyTM>=0.4.0->gensim->pyldavis) (2022.12.7)\n",
      "Requirement already satisfied: idna<4,>=2.5 in /home/hunkoog/anaconda3/envs/knlp/lib/python3.8/site-packages (from requests->simpful->pyfume->FuzzyTM>=0.4.0->gensim->pyldavis) (3.4)\n",
      "Requirement already satisfied: urllib3<1.27,>=1.21.1 in /home/hunkoog/anaconda3/envs/knlp/lib/python3.8/site-packages (from requests->simpful->pyfume->FuzzyTM>=0.4.0->gensim->pyldavis) (1.26.13)\n"
     ]
    }
   ],
   "source": [
    "!pip install pyldavis"
   ]
  },
  {
   "cell_type": "code",
   "execution_count": 48,
   "id": "consecutive-exception",
   "metadata": {},
   "outputs": [
    {
     "name": "stderr",
     "output_type": "stream",
     "text": [
      "/home/hunkoog/anaconda3/envs/knlp/lib/python3.8/site-packages/pyLDAvis/_prepare.py:246: FutureWarning: In a future version of pandas all arguments of DataFrame.drop except for the argument 'labels' will be keyword-only.\n",
      "  default_term_info = default_term_info.sort_values(\n"
     ]
    },
    {
     "data": {
      "text/html": [
       "\n",
       "<link rel=\"stylesheet\" type=\"text/css\" href=\"https://cdn.jsdelivr.net/gh/bmabey/pyLDAvis@3.3.1/pyLDAvis/js/ldavis.v1.0.0.css\">\n",
       "\n",
       "\n",
       "<div id=\"ldavis_el2059671399708420691368058211507\"></div>\n",
       "<script type=\"text/javascript\">\n",
       "\n",
       "var ldavis_el2059671399708420691368058211507_data = {\"mdsDat\": {\"x\": [0.1532450641478927, 0.10547527740270389, 0.10025882838002893, 0.08698062825416829, 0.09839778288510576, 0.07868261704679551, 0.09265855745345748, 0.09351088769396053, 0.06181872505272834, 0.015397546472153223, 0.04279137074754285, -0.026136572043198282, -0.048081091146042525, -0.0009471857306828967, -0.047872883481883316, -0.19219428821521628, -0.16405505300055953, -0.19032230912268377, -0.25960790279627016], \"y\": [-0.05028801576340354, -0.02975991622237934, -0.05982104260338926, -0.001286276750287025, 0.0156919360382676, -0.019612886831826413, -0.11103635545390116, -0.06052591469162499, -0.009367941109544047, 0.17378187428457037, 0.07923252072634772, 0.10244597212463068, 0.24879361305080874, -0.10545582485894958, -0.0011032322902928401, 0.11891138474025874, -0.018275281600552064, -0.1290234043380479, -0.14330120845068556], \"topics\": [1, 2, 3, 4, 5, 6, 7, 8, 9, 10, 11, 12, 13, 14, 15, 16, 17, 18, 19], \"cluster\": [1, 1, 1, 1, 1, 1, 1, 1, 1, 1, 1, 1, 1, 1, 1, 1, 1, 1, 1], \"Freq\": [11.18859227950072, 8.780899722983627, 8.166173496825698, 7.4916874328009735, 7.440062598816594, 7.192515554021826, 6.770204293815417, 6.744516286570497, 6.2073415523965485, 5.975671408367879, 4.981648002876003, 4.476948159064838, 4.350427766273006, 2.4847553118607317, 2.310367009869302, 1.7637415304215667, 1.4346030864524428, 1.2060551095835625, 1.0337893974987713]}, \"tinfo\": {\"Term\": [\"\\ud559\\uad50\", \"\\ucf54\\ub85c\\ub098\", \"\\uae30\\uc790\", \"\\uad50\\uc721\\uccad\", \"\\uacfc\\uc815\", \"\\ubd80\\uc0b0\", \"\\uad50\\uc6d0\", \"\\ud658\\uacbd\", \"\\uc6d0\\uaca9\", \"\\uc218\\uc5c5\", \"\\uc9c0\\uad6c\", \"\\uc608\\uc0b0\", \"19\", \"\\uc591\\uc131\", \"\\uacbd\\ub0a8\", \"\\ud601\\uc2e0\", \"\\uccb4\\uc81c\", \"\\uccb4\\ud5d8\", \"\\ub274\\uc2a4\", \"\\uc0dd\\ud0dc\", \"\\ud3b8\\uc131\", \"\\uc815\\ucc45\", \"\\uad50\\uc721\\ubd80\", \"\\uc870\\uc131\", \"\\uad50\\uc721\\uac10\", \"\\ud611\\ub825\", \"\\ub300\\ud559\", \"\\uc13c\\ud130\", \"\\uc0ac\\uc5c5\", \"\\uc2a4\\ub9c8\\ud2b8\", \"\\ubcf4\\ud3b8\\uc801\", \"\\uc6d0\\uc8fc\", \"\\uc6d0\\ud65c\", \"\\uc5b4\\ub9b0\\uc774\", \"\\uc811\\ud558\", \"\\uc774\\uc288\", \"\\ub5a0\\uc624\\ub974\", \"\\uc548\\ucc29\", \"\\ud310\\ub2e8\", \"\\uaf43\\ud53c\\uc6b0\", \"\\ud558\\uc6b0\\uc2a4\", \"\\uc18c\\uc678\", \"\\ud604\\ub300\", \"\\uc758\\uc2dd\", \"\\uc790\\uc5f0\", \"\\uc8fc\\ub3c4\\uc131\", \"\\uc784\\uba85\", \"\\uc5b4\\ub824\\uc6cc\\uc9c0\", \"\\uc7a0\\uc7ac\\ub825\", \"\\ub0a0\\ub85c\", \"WM\", \"\\ubd80\\ubb38\\uc7a5\", \"\\uc904\\uc774\", \"\\ub0a8\\ud615\", \"\\ub2f9\\ud558\", \"\\ub0b4\\ub193\", \"\\uae30\\uac00\", \"\\ubd80\\uc751\", \"\\uc640\\uc774\", \"\\ub9c8\\uc911\\ubb3c\", \"\\uc6b0\\uc120\", \"\\ucd5c\\uc120\", \"\\uae30\\ub300\\ub418\", \"\\ub2e4\\ud558\", \"\\uc0b4\\uc544\\uac00\", \"\\uc911\\uc694\", \"\\ud559\\uc2b5\\uc790\", \"\\uc778\\ud504\\ub77c\", \"\\uac1c\\ubcc4\\ud654\", \"\\uc790\\uc0b0\", \"\\ub354\\uc6b1\", \"\\ubcf4\\ub2e4\", \"\\uae30\\ub974\", \"\\ubcf5\\uc9c0\", \"\\uae30\\ud68c\", \"\\ubcc0\\ud654\", \"\\ud544\\uc694\", \"\\ud559\\uc0dd\", \"\\ubb38\\uc81c\", \"\\uc6b4\\uc6a9\", \"\\ub77c\\uace0\", \"\\ud658\\uacbd\", \"\\uad50\\uc721\", \"\\ub300\\uc804\\ud658\", \"\\uc120\\uc81c\", \"\\uc900\\ube44\", \"\\ubbf8\\ub798\", \"\\ub3c4\\ub85d\", \"\\uc704\\ud558\", \"\\uad00\\uacc4\\uc790\", \"19\", \"\\uc544\\uc774\", \"\\uc5ed\\ub7c9\", \"\\uad6c\\ucd95\", \"\\ub9d0\\ud558\", \"\\ucf54\\ub85c\\ub098\", \"\\uc218\\uc5c5\", \"\\uc6b0\\ub9ac\", \"\\uad50\\uc721\\uac10\", \"\\ud559\\uc2b5\", \"\\ucd94\\uc9c4\", \"\\ub098\\uac00\", \"\\ud1b5\\ud558\", \"\\ubc1d\\ud788\", \"\\uc628\\ub77c\\uc778\", \"\\ub2e4\\uc591\", \"\\ud559\\uad50\", \"\\uad50\\uc721\\uccad\", \"\\uae30\\uc5ec\", \"\\uac15\\uc0ac\", \"\\uc7a5\\ud559\", \"\\uacc4\\uace0\", \"\\uc774\\uc0ac\\uc7a5\", \"\\ud2b9\\ud654\", \"\\uc77c\\uc120\", \"\\uad6d\\ub0b4\\uc678\", \"\\uc804\\ubc18\", \"\\ud601\\uc2e0\\uc801\", \"\\uacbd\\uacc4\", \"\\uc548\\uc804\\uacfc\", \"\\uc7ac\\uc778\", \"\\uc815\\uc2dd\", \"\\uc778\\ucc9c\\uad11\\uc5ed\\uc2dc\", \"\\ubc1c\\ud718\", \"\\ub77c\\uc778\", \"\\uac70\\ub9ac\", \"\\uc73c\\uba74\", \"\\uc131\\uc218\", \"\\uc8fc\\uccb4\\uc801\", \"\\uc790\\ubb38\", \"\\uc131\\uad50\\uc721\", \"\\ubd88\\uade0\\ud615\", \"\\uc811\\uadfc\", \"\\uc77c\\ud658\", \"\\ubd80\\uc640\", \"\\ub0b4\\ub2e4\\ubcf4\", \"\\uc800\\ubcc0\", \"\\uc804\\ud30c\", \"SW\", \"\\uc9c1\\uc5c5\", \"\\uc778\\ucc9c\\uc2dc\", \"\\ud574\\uc18c\", \"\\ud398\\uc2a4\\ud2f0\\ubc8c\", \"\\uc778\\ucc9c\", \"\\uc0b0\\uc5c5\", \"\\uc804\\ubb38\", \"\\ucc28\\uc9c8\", \"\\uc778\\uc7ac\", \"\\ud1b5\\uc2e0\", \"\\ubd84\\uc57c\", \"\\ucde8\\uc5c5\", \"\\ub3c4\\uc2dc\", \"\\ud601\\uba85\", \"\\uc591\\uc131\", \"\\uc7ac\\ub2e8\", \"\\uc9c0\\uc5ed\", \"\\uad50\\uc721\", \"\\ud504\\ub85c\\uadf8\\ub7a8\", \"\\uae30\\uc220\", \"\\uc721\\uc131\", \"\\uc704\\ud558\", \"\\uc2dc\\ubbfc\", \"\\ubbf8\\ub798\", \"AI\", \"\\uaca9\\ucc28\", \"\\ucd94\\uc9c4\", \"\\ud575\\uc2ec\", \"\\u3134\\ub2e4\", \"\\uc815\\ucc45\", \"\\uc0ac\\ud68c\", \"\\uc0ac\\uc5c5\", \"\\uae30\\ubc18\", \"\\uc5d0\\uc11c\", \"\\ud559\\uc2b5\", \"\\ud604\\uc7a5\", \"\\uc9c0\\uc6d0\", \"\\ud559\\uc0dd\", \"\\ud611\\ub825\", \"\\ud559\\ub144\", \"\\uc704\\ud574\", \"\\uad70\\uc778\", \"\\uacbd\\uc7c1\\ub825\", \"\\uc11c\\ub85c\", \"\\ud559\\ub144\\uc81c\", \"\\ud654\\uc131\", \"\\ubc84\\ub10c\\uc2a4\", \"\\ucde8\\uc9c0\", \"\\uae30\\ub150\", \"\\uc0b0\\ud559\", \"\\uc720\\ud68c\", \"\\ubbf8\\ub9ac\", \"\\uacbd\\uc6b0\", \"\\ubb34\\uc5ed\\ub7c9\", \"\\uc815\\uc9c4\", \"\\ub2e4\\uc591\\uc131\", \"132\", \"\\uc774\\ub04c\\uc5b4\\ub0b4\", \"\\uc8fc\\ub3c4\\uc801\", \"40\", \"2835\", \"\\ucc28\\ub144\", \"\\ub3cc\\ubcf4\", \"\\uace0\\uc2dc\", \"\\ub193\\uce58\", \"\\uc120\\ub3c4\\uc801\", \"\\uc774\\ubca4\\ud2b8\", \"\\uad6c\\uc870\\uc801\", \"\\uad50\\uacfc\", \"\\ubc30\\uc6c0\\ud130\", \"\\uc544\\uc6b0\\ub974\", \"\\ubaa9\\ud45c\", \"\\uad11\\uc8fc\\uc2dc\", \"\\ub098\\ub214\", \"\\uc644\\uc131\", \"\\uacfc\\uc815\", \"\\uac1c\\uad50\", \"\\uc124\\uacc4\", \"\\ub9c8\\uc744\", \"\\uc9c4\\ud559\", \"\\uacf5\\ub3d9\\uccb4\", \"\\uc790\\ub140\", \"\\uc790\\uae30\", \"\\uc131\\uc7a5\", \"\\uc6b4\\uc601\", \"\\uc911\\uc2ec\", \"\\ud559\\uad50\", \"\\u3134\\ub2e4\\ub294\", \"\\uc608\\uc220\", \"\\uc9c0\\uc6d0\", \"\\uac15\\ud654\", \"\\uad50\\uc721\", \"\\ubc18\\uc601\", \"\\uc9c0\\ud5a5\", \"\\uc5ed\\ub7c9\", \"\\ubbf8\\ub798\", \"\\ud559\\uc0dd\", \"\\uc0ac\\ud68c\", \"\\ud611\\ub825\", \"\\ubb38\\ud654\", \"\\ud559\\uc2b5\", \"\\ubbf8\\ub798\\ud615\", \"\\u3134\\ub2e4\", \"\\ud601\\uc2e0\", \"\\ud568\\uaed8\", \"\\uc9c0\\uc5ed\", \"\\ud1b5\\ud558\", \"\\uc704\\ud558\", \"\\uad6c\\ucd95\", \"\\uacc4\\ud68d\", \"\\ud655\\ub300\", \"\\ucd94\\uc9c4\", \"\\uc0ac\\uc5c5\", \"\\ubcf4\\uace0\", \"\\uad70\\uc0b0\", \"\\uc218\\ud5d8\\uc0dd\", \"\\ub300\\ud1b5\\ub839\", \"\\uc785\\uc2dc\", \"\\uc2dc\\ud765\", \"\\uc5d0\\uc774\", \"\\uc9c0\\ubc29\", \"\\uc21c\\ucc9c\", \"\\ucda9\\uc8fc\", \"\\uc625\\ucc9c\", \"\\ubc30\\ucd9c\", \"\\uc6b4\\ub3d9\", \"\\uc218\\ub2a5\", \"\\ud68c\\uc7a5\", \"\\uc801\\uc808\", \"\\ud1b5\\uc77c\", \"\\uc99d\\uac00\", \"\\uc790\\uc758\", \"\\uc0b4\\ud3b4\\ubcf4\", \"\\ubc29\\uacfc\", \"\\uc0ac\\ud558\\uad6c\", \"\\ub178\\uba40\", \"\\uc720\\ud559\\uc0dd\", \"\\uac10\\uc131\", \"\\uc601\\uc7ac\", \"\\ubc1c\\ub3cb\\uc6c0\", \"\\ucc28\\uadfc\\ucc28\\uadfc\", \"\\uc131\\uacf5\", \"\\uc5ec\\uc6b8\", \"\\uc9c0\\uad6c\", \"\\ucd5c\\ub300\", \"\\ub2e4\\ubb38\\ud654\", \"\\uc790\\uce58\", \"\\uc9c0\\uc790\\uccb4\", \"\\uc2dc\\ud5d8\", \"\\uad00\\uacc4\", \"\\ub514\\uc790\\uc778\", \"\\ud611\\ub825\", \"\\uc8fc\\ubbfc\", \"\\uc2dc\\uc791\\ud558\", \"5000\", \"\\uc120\\uc815\", \"\\uc9c0\\uc5ed\", \"\\uac15\\uc6d0\", \"\\ub098\\uc544\\uac00\", \"\\uad50\\uc721\\ubd80\", \"\\uad50\\uc721\", \"\\uc0ac\\uc5c5\", \"\\ud611\\uc758\\ud68c\", \"\\uc62c\\ud574\", \"\\ud601\\uc2e0\", \"\\ub9c8\\uc744\", \"\\ubbf8\\ub798\", \"\\uc5d0\\uc11c\", \"\\ubbf8\\ub798\\ud615\", \"\\uc9c0\\uc6d0\", \"\\ud1b5\\ud558\", \"\\ub77c\\uace0\", \"\\uccb4\\uc81c\", \"\\ud568\\uaed8\", \"\\uad50\\uc721\\uccad\", \"\\ud589\\ubcf5\", \"\\ub9cc\\ub4e4\", \"\\ubcc0\\ud654\", \"\\ub3c4\\ub85d\", \"\\uc704\\ud558\", \"\\u3134\\ub2e4\", \"\\ucf54\\ub85c\\ub098\", \"\\uad6c\\ucd95\", \"\\ub2e4\\uc591\", \"\\uc2dc\\ub300\", \"\\ud14c\\ub9c8\", \"\\uccb4\\uacb0\", \"\\uae30\\uc5c5\", \"\\uc0ac\\ubc94\", \"\\ubc29\\ubb38\", \"\\uad50\\uc721\\ub300\", \"\\uc9c4\\uc8fc\", \"\\uc758\\ub839\\uad70\", \"\\uc5ec\\ub7ec\\ubd84\", \"\\ud398\\uc774\\uc9c0\", \"\\uc2ac\\ub85c\\uac74\", \"\\ubaa8\\ubc14\\uc77c\", \"\\ubd80\\uc9c0\", \"\\uac1c\\ub144\", \"\\ub4e4\\uc5b4\\uc11c\", \"\\uc0ac\\ubc94\\ub300\", \"\\uad50\\uccb4\", \"\\ucd09\\uc9c4\", \"45\", \"2015\", \"\\ubd80\\ud68c\\uc7a5\", \"\\uc5f0\\uad6c\\ud68c\", \"\\ubbf8\\uad6d\", \"\\ud30c\\ud06c\", \"\\uc591\\uc0ac\", \"\\ub514\\ub4dc\", \"\\uacfc\\ubaa9\", \"\\ubcf4\\uc644\", \"\\uc804\\uc0b0\\ub9dd\", \"\\ubc15\\uc815\", \"\\uc774\\uc5b4\\uc9c0\", \"\\ud611\\uc57d\", \"\\uac74\\ub9bd\", \"\\uccad\\uc0ac\\uc9c4\", \"\\uc11c\\ube44\\uc2a4\", \"\\uc218\\uc900\", \"ICT\", \"\\ucef4\\ud4e8\\ud130\", \"\\ub4e4\\uc774\", \"2022\", \"\\uad50\\ubcf4\", \"\\uc5c5\\ubb34\", \"\\uc2dc\\ubc94\", \"\\ud50c\\ub7ab\\ud3fc\", \"\\uacbd\\ub0a8\", \"\\uad6c\\ucd95\", \"\\uacc4\\ud68d\", \"AI\", \"\\uc735\\ud569\", \"\\ubaa8\\ub378\", \"\\ud65c\\uc6a9\", \"\\uac1c\\ubc1c\", \"\\uad50\\uc721\", \"\\ubbf8\\ub798\", \"\\ubbf8\\ub798\\ud615\", \"\\uc2dc\\uc2a4\\ud15c\", \"\\uc6b4\\uc601\", \"\\uc704\\ud558\", \"\\ucf58\\ud150\\uce20\", \"\\uc218\\uc5c5\", \"\\uad50\\uc2e4\", \"\\uad50\\uc721\\uccad\", \"\\uc9c0\\uc6d0\", \"\\u3134\\ub2e4\", \"\\uc608\\uc815\", \"\\uc5d0\\uc11c\", \"\\uc0ac\\uc5c5\", \"\\uae30\\ubc18\", \"\\ud559\\uc2b5\", \"\\ud611\\uce58\", \"\\uc5ec\\ub860\", \"\\ud559\\ub839\", \"\\uc911\\uc7a5\\uae30\", \"\\ud559\\uae09\", \"\\uc2a4\\ud3ec\\uce20\", \"\\uc124\\ubb38\", \"\\uc758\\ub8b0\", \"\\uc0ad\\uac10\", \"\\uc18c\\uba78\", \"\\uc870\\uc0ac\", \"\\ubd80\\uc871\", \"\\ubcd1\\uc870\", \"\\ud765\\ubbf8\", \"\\uc608\\uacb0\\uc704\", \"\\uc804\\uc561\", \"\\ucc44\\uc6b0\", \"\\ub0a8\\uc758\", \"\\uc2ec\\ub3c4\", \"\\ucd5c\\uc0c1\", \"\\uc774\\ud55c\\ubcf5\", \"\\ub85c\\uc368\", \"\\uacfc\\ubc00\", \"\\uc9c0\\ud45c\", \"\\ube48\\ud2c8\", \"\\ub4dc\\ub7ec\\ub0b4\", \"\\uc758\\uc758\", \"\\uc2ec\\uac01\", \"\\ud1b5\\ud3d0\\ud569\", \"\\ud14c\\ud06c\\ub178\", \"\\uacfc\\uc7a5\", \"\\uc778\\uad6c\", \"\\uc81c\\uace0\", \"\\uc790\\ub9ac\", \"\\uc704\\uc6d0\\ud68c\", \"\\uc8fc\\ub825\", \"\\uc774\\ubc88\", \"\\uc778\\uc2dd\", \"\\uc5f0\\uad6c\\uc18c\", \"\\uacbd\\uae30\\ub3c4\", \"\\uacbd\\uae30\", \"\\ub9d0\\ud558\", \"\\uc815\\ucc45\", \"\\uc5ec\\uac74\", \"\\uad50\\uc721\\uccad\", \"\\ub77c\\uace0\", \"\\uc801\\uadf9\", \"\\ubc14\\ub77c\", \"\\ub300\\ud558\", \"\\uad50\\uc721\", \"\\ubbf8\\ub798\", \"\\ud559\\uad50\", \"\\uc704\\ud558\", \"\\uc5d0\\uc11c\", \"\\uba74\\uc11c\", \"\\uc5f0\\uad6c\", \"\\uac00\\ub2a5\", \"\\u3134\\ub2e4\", \"\\ub9c8\\ub828\", \"\\ud604\\uc7a5\", \"\\uc9c0\\uc18d\", \"\\ubc1c\\uc804\", \"\\ub3c4\\ub85d\", \"\\ud559\\uc0dd\", \"\\ud1b5\\ud558\", \"\\ud3ec\\ub7fc\", \"\\ubc29\\ud5a5\", \"\\uc6b0\\ub9ac\", \"\\uc0dd\\ud0dc\", \"\\uadf8\\ub9b0\", \"\\ud55c\\uad6d\\ud310\", \"\\ub178\\ud6c4\", \"\\uc2e0\\uc785\\uc0dd\", \"\\uc911\\uc774\", \"\\ud734\\uc2dd\", \"\\ud589\\ub3d9\", \"\\ub178\\ud2b8\\ubd81\", \"\\ub300\\uc548\", \"\\uac1c\\ucd95\", \"480\", \"\\uc740\\ud589\", \"\\ud328\\ub4dc\", \"\\uc5d0\\ub108\\uc9c0\", \"\\uc0dd\\ud0dc\\uc801\", \"\\uc2e0\\ucd95\", \"\\ub2e4\\uc12f\", \"\\uacf5\\uc874\", \"\\uc2e0\\uc124\", \"\\ub274\\ub51c\", \"\\ubcf4\\uac15\", \"\\ub0b4\\uc9c4\", \"\\uad50\\uc591\", \"\\uc870\\ucc98\", \"\\ub2e8\\uc7a5\", \"\\uc11d\\uba74\", \"\\uc2a4\\ub9c8\\ud2b8\", \"\\ub179\\uc9c0\", \"\\uc81c\\ub85c\", \"\\uc7ac\\ub09c\", \"\\uce58\\uc720\", \"\\ub2f4\\ub2f9\", \"\\uae30\\ud6c4\", \"\\uacbd\\ud76c\\ub300\", \"\\ud22c\\uc785\", \"\\uacbd\\uc7c1\", \"\\ud559\\uc704\", \"\\ud559\\uad50\", \"\\uacf5\\uac04\", \"\\ud658\\uacbd\", \"\\uadf8\\ub9ac\", \"\\uae00\\ub85c\\ubc8c\", \"\\ud300\\uc7a5\", \"\\uc870\\uc131\", \"\\uc2a4\\ucfe8\", \"\\ucd94\\uc9c4\", \"\\uc0ac\\uc5c5\", \"\\ubbf8\\ub798\", \"\\uc804\\ud658\", \"\\uacbd\\uae30\\ub3c4\", \"\\uacfc\\uc815\", \"\\uc704\\ud558\", \"\\u3134\\ub2e4\", \"\\uad50\\uc721\", \"\\ubbf8\\ub798\\ud615\", \"\\uad50\\uc721\\uccad\", \"\\uae30\\ubc18\", \"\\uac00\\ub2a5\", \"\\uc704\\uae30\", \"\\ud559\\uc2b5\", \"\\uc6b4\\uc601\", \"\\uc911\\uc2ec\", \"\\ub300\\uc751\", \"\\ud601\\uc2e0\", \"\\uad6c\\ucd95\", \"\\ubc14\\uc774\\ub7ec\\uc2a4\", \"\\uac10\\uc5fc\\uc99d\", \"\\uc2e0\\uc885\", \"\\ube5b\\ub098\", \"\\ubcd1\\ud589\", \"92\", \"\\ub77c\\uba74\\uc11c\", \"\\ubc30\\uce58\", \"41\", \"\\uafc8\\uafb8\", \"\\ubbf8\\uc6a9\", \"\\uc870\\ud569\", \"67\", \"\\u3139\\uc9c0\", \"\\uacc4\\uc5f4\", \"\\uc7a5\\ud559\\uc0ac\", \"628\", \"1082\", \"\\uad70\\uc11c\", \"\\ubb38\\uc81c\\uc810\", \"\\uc5b4\\ub460\", \"\\uc21c\\ud658\", \"\\uc778\\uc6d0\", \"\\uc800\\ucd9c\\uc0b0\", \"\\ud0a4\\uc6cc\\ub4dc\", \"\\uac10\\ucd95\", \"\\ucd08\\uc720\", \"\\ucc3d\\uc6d0\", \"\\uaddc\\uc815\", \"\\uba38\\ub9ac\", \"\\ub2e8\\uacc4\", \"\\uc778\\ud558\", \"\\ucf54\\ub85c\\ub098\", \"19\", \"\\uc0c1\\ud669\", \"\\ud559\\ub825\", \"\\ud601\\uc2e0\", \"\\ud3ec\\uc2a4\\ud2b8\", \"\\uc55e\\ub2f9\\uae30\", \"\\uc720\\uce58\\uc6d0\", \"\\uc218\\uc5c5\", \"\\uc870\\uc9c1\", \"\\uc624\\ud504\\ub77c\\uc778\", \"\\uae30\\ucd08\", \"\\uc704\\uae30\", \"\\ucc45\\uc784\", \"\\uc124\\uc815\", \"\\uc2dc\\ub300\", \"\\uacfc\\uc81c\", \"\\uc9c0\\uc18d\", \"\\ud559\\uad50\", \"\\ubbf8\\ub798\", \"\\uad50\\uc721\", \"\\ubc29\\uc2dd\", \"\\uc900\\ube44\", \"\\uc0c8\\ub86d\", \"\\uc6d0\\uaca9\", \"\\ubcc0\\ud654\", \"\\ub300\\uc751\", \"\\uad50\\uc721\\uac10\", \"\\ub77c\\uace0\", \"\\u3134\\ub2e4\", \"\\uc815\\ucc45\", \"\\uc5d0\\uc11c\", \"\\uc9c0\\uc6d0\", \"\\uc608\\ube44\", \"\\uacf5\\uac1c\", \"\\ud0d0\\uad6c\", \"\\uac15\\uc88c\", \"\\uc2e4\\uc2b5\\uc2e4\", \"\\uc774\\uc0ac\", \"\\uc5f0\\uc138\\ub300\", \"\\ub9cc\\ub098\", \"K-MOOC\", \"\\uc5ed\\uc784\", \"OSE\", \"\\uac1c\\ubc1c\\uc6d0\", \"\\uc5ec\\ub300\", \"\\uc790\\ub85c\", \"\\uc2dc\\uc0ac\\uc810\", \"\\uc2e0\\ub77c\", \"\\ubcf4\\uace0\\uc11c\", \"\\uacb8\\ube44\", \"\\ubb38\\uba85\", \"\\uc804\\ub2ec\", \"\\ucf00\\uc774\", \"\\uc548\\ub3d9\\uc2dc\", \"\\ucc38\\uac00\\uc790\", \"\\uae4a\\uc774\", \"\\ubb38\\ub2e8\", \"\\uc7a5\\ubcd1\", \"\\uc624\\ud508\", \"AR\", \"\\uc774\\ud654\", \"\\uc6cc\\ud06c\\uc20d\", \"\\ub300\\ud559\", \"\\uac15\\uc5f0\", \"\\uc885\\ud569\", \"\\uc6d0\\uaca9\", \"\\uace0\\ub4f1\", \"\\uc124\\uce58\", \"\\uacfc\\ud559\", \"\\uc13c\\ud130\", \"\\uad50\\uc6d0\", \"\\ucca8\\ub2e8\", \"\\uc2e4\\ubb34\", \"\\uc9c0\\ub2a5\", \"\\uae30\\uc220\", \"\\uad50\\uc218\", \"\\ub514\\uc9c0\\ud138\", \"\\uc218\\uc5c5\", \"\\uc804\\ud658\", \"\\ud55c\\uad6d\", \"\\uac15\\ud654\", \"\\uad50\\uc721\", \"\\uacf5\\uc720\", \"\\uc5ed\\ub7c9\", \"\\uc591\\uc131\", \"\\uc704\\ud558\", \"\\uad50\\uc721\\ubd80\", \"\\ubbf8\\ub798\", \"\\u3134\\ub2e4\", \"\\uc735\\ud569\", \"\\uc628\\ub77c\\uc778\", \"\\uc9c0\\uc6d0\", \"\\ub9c8\\ub828\", \"\\ucf58\\ud150\\uce20\", \"\\ud559\\uc2b5\", \"\\uc5d0\\uc11c\", \"\\uae30\\ubc18\", \"\\ucf54\\ub85c\\ub098\", \"\\ud1b5\\ud558\", \"\\uc2dc\\ub300\", \"\\ud658\\uacbd\", \"\\uad50\\uc721\\uad00\", \"\\uc2ec\\uc0ac\", \"\\ub18d\\uc5c5\", \"DB\", \"\\ud30c\\uc774\\ub0b8\\uc15c\", \"\\uae08\\uc9c0\", \"\\uc7ac\\ud310\\ub9e4\", \"News\", \"22\", \"\\ubb34\\uc548\", \"\\uad6c\\ubbf8\", \"\\uad00\\uad11\", \"\\uc6b8\\uc0b0\", \"\\uae30\\uc220\\uc6d0\", \"\\ud504\\ub808\\uc2a4\", \"\\uac74\\uad6d\", \"\\ub4b7\\ubc1b\\uce68\", \"\\uc804\\ub2f4\", \"\\uc804\\uc790\", \"\\uc5f0\\ud569\", \"\\uc804\\uacbd\", \"\\ucde8\\uc7ac\", \"\\uc9c4\\uad6c\", \"\\u3134\\uac00\", \"\\uc6b8\\uc0b0\\uc2dc\", \"\\uc784\\uc0c1\", \"TF\", \"\\ub0a8\\uad6c\", \"\\ub0a8\\ub300\", \"29\", \"\\ub274\\uc2a4\", \"\\ub300\\uad6c\\uc2dc\", \"\\uc0ac\\uc9c4\", \"\\uc911\\uc559\", \"\\uae30\\uc790\", \"12\", \"\\ub2e4\\uace0\", \"\\ubd81\\uad6c\", \"\\ubc1d\\ud788\", \"\\ub300\\uad6c\", \"\\ub0a8\\ub3c4\", \"CBS\", \"\\uad50\\uc721\\uccad\", \"\\uc81c\\uacf5\", \"\\uc2dc\\uc2a4\", \"2021\", \"\\u3134\\ub2e4\\uace0\", \"\\ubbf8\\ub798\", \"\\uad50\\uc721\", \"\\uc124\\ub9bd\", \"\\uc2dc\\ub300\", \"10\", \"\\uc9c0\\uc6d0\", \"\\uad50\\uc721\\uac10\", \"\\ubbf8\\ub798\\ud615\", \"\\ucd94\\uc9c4\", \"\\uc5d0\\uc11c\", \"\\uc120\\uc815\", \"\\ucde8\\uc784\", \"\\uc885\\uba85\", \"\\uce74\\ud398\", \"\\uc124\\uc131\", \"\\uc774\\ucc9c\", \"\\uc548\\uc131\", \"\\uc5ec\\uc758\\ub3c4\", \"\\ud559\\ubd80\", \"\\uc0ac\\uc6a9\\uc790\", \"\\ucf54\\ub9ac\\uc544\", \"\\ubcf8\\uc9c8\", \"\\uace0\\ucc3d\", \"\\ud68d\\uae30\\uc801\", \"\\ucd2c\\uc601\", \"\\ubc1c\\ud45c\\ud68c\", \"\\uc870\\ud76c\", \"\\uc774\\ud2c0\\uac04\", \"\\ud310\\uacb0\", \"\\ucc38\\uc5ec\\uc790\", \"\\uc804\\uad50\\uc870\", \"\\uac04\\ubd80\", \"\\uc2e0\\uae30\", \"\\uae09\\uc18d\", \"\\uacf5\\uc9c1\", \"\\ubc15\\uc885\\ud6c8\", \"\\ub300\\ubc95\\uc6d0\", \"\\ud615\\uc2dd\", \"\\ubbfc\\uc8fc\\ub2f9\", \"\\ud3ec\\uc6a9\", \"\\uccad\\ub834\", \"\\ubc29\\ud5a5\\uc131\", \"\\uc624\\uc0b0\\uc2dc\", \"\\uc624\\uc0b0\", \"\\uac04\\ub2f4\\ud68c\", \"\\uc591\\uc0b0\", \"\\uacbd\\ub0a8\", \"\\uc774\\ub0a0\", \"\\uc790\\uc2e0\", \"\\uad50\\uc721\\uac10\", \"\\uad6d\\ud68c\", \"\\ucc38\\uc11d\", \"\\uc5f4\\ub9ac\", \"\\uc9c8\\uc758\", \"\\uacf5\\uac10\", \"\\uc624\\uc804\", \"\\uc5d0\\uc11c\", \"\\uc18c\\ud1b5\", \"\\uad50\\uc721\", \"\\ubbf8\\ub798\", \"\\ud604\\uc7ac\", \"\\ub300\\ud558\", \"\\ud1a0\\ub860\", \"\\uac00\\uc9c0\", \"AI\", \"\\uc5ed\\ub7c9\", \"\\ub9cc\\ub4e4\", \"\\uae30\\uc790\", \"\\ud0a4\\uc6b0\", \"\\uc2dc\\uac04\", \"\\uad50\\uc721\\uccad\", \"\\ub300\\uad6c\", \"\\u3134\\ub2e4\", \"\\uc81c\\uc2dc\", \"\\ud601\\uba85\", \"\\uc911\\uc2ec\", \"\\uc2dc\\uc2a4\\ud15c\", \"\\uc9c0\\uc6d0\", \"\\uc815\\ucc45\", \"\\ud559\\uc0dd\", \"\\ucf58\\uc11c\\ud2b8\", \"\\ub300\\ud654\", \"\\uc774\\ub2ec\", \"\\ud1a0\\ud06c\", \"\\uc758\\ud639\", \"\\ucc38\\uac00\", \"\\uc9c0\\ub09c\\ub2ec\", \"\\uce74\\ub4dc\", \"\\uae30\\ud68d\\ub2e8\", \"\\uacf5\\ubc31\", \"\\ub2e4\\ub978\", \"\\uc18c\\uc7a5\", \"KERIS\", \"\\uc2dc\\ud2f0\", \"\\ud1a0\\uc758\", \"\\uc721\\uc544\", \"\\uc5ec\\uace0\", \"\\uc6d0\\ud0c1\", \"\\uac01\\uc624\", \"\\ub2f9\\uc0ac\\uc790\", \"\\ubcc4\\ub3c4\", \"\\uc804\\ub0a0\", \"\\uac1c\\ubc29\\ud615\", \"\\uc778\\uc815\", \"\\ubc1c\\uc871\", \"\\ud1a0\\ub860\\uc790\", \"\\ucd95\\uc801\", \"\\ubd80\\ubaa8\\ub2d8\", \"\\uad50\\uac10\", \"\\uc544\\ud2b8\", \"\\ubd80\\ucd1d\\ub9ac\", \"\\uc740\\ud61c\", \"\\uc7a5\\uad00\", \"\\uc81c\\uc548\", \"\\uc9c4\\ub2e8\", \"\\ub098\\ub204\", \"\\uc758\\uacac\", \"\\ub300\\uc804\", \"24\", \"\\ud1a0\\ub860\", \"\\uad50\\uc721\\ubd80\", \"\\ub300\\ud558\", \"\\ud559\\ubd80\\ubaa8\", \"\\ud589\\uc0ac\", \"\\uc815\\ucc45\", \"\\ubd80\\ud130\", \"\\ubc29\\ud5a5\", \"\\ub124\\ud2b8\\uc6cc\\ud06c\", \"\\uad50\\uc0ac\", \"\\ucc28\\ub840\", \"\\ud559\\uc0dd\", \"\\ubbf8\\ub798\", \"\\uc5d0\\uc11c\", \"\\uad50\\uc721\", \"\\ub17c\\uc758\", \"10\", \"\\uc8fc\\uc81c\", \"\\ubc1c\\ud45c\", \"\\ucc38\\uc5ec\", \"\\uacfc\\uc81c\", \"\\ud568\\uaed8\", \"\\u3134\\ub2e4\", \"\\uae4c\\uc9c0\", \"\\uc9c0\\ub098\", \"\\ucd94\\uc9c4\", \"\\uc81c\\uc8fc\", \"\\ucc44\\ub110\", \"\\ucd94\\uacbd\", \"\\ucd95\\uc81c\", \"\\uc804\\ub7b5\", \"\\ud3ec\\uc2a4\\ud130\", \"\\ubc1c\\ub9de\\ucd94\", \"\\ud3b8\\uc9d1\", \"\\ud55c\\ub9c8\\ub2f9\", \"\\uc81c\\uc8fc\\ub3c4\", \"2016\", \"\\uad6d\\uc5b4\", \"\\uc5f0\\ud76c\", \"\\uc138\\ubc00\", \"\\uae34\\ucd95\", \"\\ubc8c\\uc774\", \"\\ud559\\uc5c5\", \"\\uc11d\\ubb38\", \"\\uc774\\uc0ac\\ud68c\", \"\\uc18c\\uc2a4\", \"\\uc11c\\uc6b8\\uc2dc\", \"\\ubc30\\ubd84\", \"\\uc601\\uaddc\", \"\\uac1c\\ucd5c\", \"\\ubc30\\uc131\", \"\\ud29c\\ube0c\", \"\\ud604\\uc0c1\", \"\\ud68c\\uc6d0\", \"\\uc900\\uc218\", \"\\ud3ec\\ud56d\", \"com\", \"\\uc911\\uacc4\", \"2020\", \"\\uc624\\ud6c4\", \"\\uc11c\\uc6b8\", \"\\ud3ec\\ub7fc\", \"\\uc8fc\\ucd5c\", \"\\ud1a0\\ub860\\ud68c\", \"\\u3134\\ub2e4\\uace0\", \"\\uc8fc\\uc81c\", \"\\uad6d\\uc81c\", \"\\uc628\\ub77c\\uc778\", \"\\uc2dc\\uc2a4\", \"\\ud55c\\uad6d\", \"20\", \"\\uae30\\uc790\", \"\\uae30\\uc870\", \"\\uc9c4\\ud589\", \"\\ubd80\\ud130\", \"\\uc804\\uc2dc\", \"\\ubc1d\\ud788\", \"\\ubbf8\\ub798\", \"\\uad50\\uc721\\uccad\", \"\\uad50\\uc721\", \"\\uae4c\\uc9c0\", \"\\ub274\\uc2a4\", \"11\", \"\\u3134\\ub2e4\", \"\\uc81c\\uacf5\", \"\\uc5d0\\uc11c\", \"\\uc7ac\\uc815\", \"\\uc608\\uc0b0\", \"\\uc7ac\\uc6d0\", \"\\uae09\\uc2dd\", \"\\uaddc\\ubaa8\", \"\\ud6a8\\uc728\\uc131\", \"\\ud3b8\\uc131\", \"\\uc138\\uc785\", \"\\ubb34\\uc0c1\", \"\\uad50\\uc721\\ube44\", \"\\uc138\\ucd9c\", \"\\ubd88\\uc694\\ubd88\\uae09\", \"\\ucd5c\\uc18c\\ud654\", \"\\ubd88\\uad6c\", \"\\ud22c\\ub370\\uc774\", \"\\uba38\\ub2c8\", \"\\ud540\\uc14b\", \"\\ubcf4\\ud1b5\", \"\\ub3c4\\ub798\", \"\\ubc95\\uc801\", \"\\uac78\\uc74c\", \"\\ud655\\uc2e4\", \"\\uc774\\uc591\", \"\\uc774\\ud574\\ub3c4\", \"\\uc0ac\\ubc95\", \"6463\", \"\\ucd95\\uc18c\", \"\\uc885\\ub2e8\", \"\\uad50\\ubd80\\uae08\", \"\\ud68c\\uacc4\", \"\\ub144\\ub3c4\", \"\\uc911\\uc810\", \"\\uac10\\uc18c\", \"\\uc804\\ub77c\", \"\\uace0\\uad50\", \"\\uc81c\\ucd9c\", \"\\ucd5c\\uadfc\", \"\\uc9d1\\uc911\", \"\\ud655\\ubcf4\", \"\\uc870\\uc131\", \"\\ub0b4\\ub144\\ub3c4\", \"\\ud328\\ub7ec\\ub2e4\\uc784\", \"\\ub300\\uc751\", \"\\uc0ac\\uc5c5\\ube44\", \"\\ud559\\uc810\\uc81c\", \"\\uae30\\ubc18\", \"\\ub530\\ub974\", \"\\uc548\\uc804\", \"\\uad50\\uc721\", \"\\uc0ac\\uc5c5\", \"\\ud658\\uacbd\", \"\\uad50\\uc721\\uccad\", \"\\ubbf8\\ub798\", \"2021\", \"\\uc704\\ud558\", \"\\ub0a8\\ub3c4\", \"\\ub3c4\\ub85d\", \"\\ubcc0\\ud654\", \"\\ud1b5\\ud558\", \"\\ubd80\\ubb38\", \"\\uc120\\ubb3c\", \"150\", \"\\uc67c\\ucabd\", \"\\uc0c1\\ub2f9\", \"\\uacc4\\uc815\", \"\\uc218\\uc0c1\\uc790\", \"\\uc18c\\uc18d\", \"TV\", \"\\uc99d\\uac15\", \"\\uc0ac\\uc124\", \"\\ud504\\ub9b0\\ud130\", \"\\ubc14\\ub77c\\ubcf4\", \"\\uacbd\\ucca0\", \"\\uc608\\ubd09\", \"\\uc601\\ub3c4\", \"\\uc544\\uc11c\", \"2024\", \"600\", \"\\uc0ac\\uac01\\uc9c0\\ub300\", \"\\uac01\\uc790\", \"\\uc804\\ud658\\uc810\", \"\\uc774\\uc218\", \"\\uc9c0\\uc5ed\\ubbfc\", \"\\ucc9c\\ub9cc\", \"84\", \"\\uc9c4\\ucc9c\", \"\\u5927\\u8cde\", \"\\ub2e4\\uc218\", \"\\ub0a8\\ub2e4\\ub974\", \"\\ubcf4\\uae09\", \"\\ud1a1\\ud1a1\", \"\\uace0\\ub3c4\\ud654\", \"\\uac15\\uc758\\uc2e4\", \"\\ub370\\uc774\\ud130\", \"\\uc758\\uc6d0\", \"\\uae30\\ub2a5\", \"\\uac00\\uc0c1\\ud604\\uc2e4\", \"\\ucc38\\uc0ac\\ub78c\", \"\\uc778\\uacf5\\uc9c0\\ub2a5\", \"\\uc120\\uc0dd\\ub2d8\", \"\\ud65c\\uc6a9\", \"\\ud50c\\ub7ab\\ud3fc\", \"\\uc804\\ubb38\\uac00\", \"\\uc544\\uc774\", \"\\ud3c9\\uac00\", \"\\uae30\\uad00\", \"\\ud074\\ub77c\\uc6b0\\ub4dc\", \"\\uad50\\uc0ac\", \"\\uc9c0\\uc6d0\", \"\\uc5f0\\uc218\", \"\\uc790\\ub8cc\", \"\\uac00\\uc6b4\\ub370\", \"\\uad50\\uc721\", \"\\ucf58\\ud150\\uce20\", \"\\ubd80\\ud130\", \"\\ub300\\uc0c1\", \"\\ubbf8\\ub798\", \"\\uad50\\uc721\\ubd80\", \"\\uc721\\uc131\", \"\\ucd08\\ub4f1\\ud559\\uad50\", \"\\ud559\\uc2b5\", \"\\ud559\\uc0dd\", \"\\ud559\\uad50\", \"\\uc5d0\\uc11c\", \"\\ud3c9\\uc0dd\", \"\\ubd80\\uc0b0\\uc2dc\", \"\\ub7ec\\ub2dd\", \"\\ub300\\uc785\", \"\\uc77c\\uac04\", \"\\ud558\\uacbd\", \"\\uc804\\ubb38\\uc9c1\", \"\\uc131\\uae30\", \"\\ubd80\\uc0b0\", \"556\", \"\\ucd5c\\uc2e0\", \"\\ub300\\uc0dd\", \"\\ub3c4\\uc131\", \"3,339\", \"\\ub80c\\ub514\\ub4dc\", \"\\ud559\\uacfc\", \"\\uc218\\ud559\", \"\\ub9e4\\uc8fc\", \"\\uadf8\\uac04\", \"\\ud604\\uc9c1\", \"\\uc218\\uc694\\uc77c\", \"\\ubc30\\ub355\", \"\\ub4dc\\ub9bc\", \"\\uc138\\ubd80\", \"\\ub3c5\\uc11c\", \"\\uc601\\uc5b4\", \"\\uc815\\uc2dc\", \"\\ub418\\uae30\", \"\\ucf54\\uce6d\", \"\\ud63c\\ud569\\ud615\", \"\\ud615\\uc124\", \"\\ub300\\ud559\\uad50\", \"\\uad50\\uc721\\uc6d0\", \"\\uad00\\ud558\", \"\\ucda9\\uccad\\ubd81\\ub3c4\", \"\\uc815\\ubcf4\", \"15\", \"\\uacfc\\ud559\", \"\\ud0d0\\uc0c9\", \"\\uc0ac\\ub840\", \"\\uc9c4\\ub85c\", \"\\uad50\\uc0ac\", \"\\uc624\\ud504\\ub77c\\uc778\", \"12\", \"\\uc13c\\ud130\", \"\\uad50\\uc721\", \"\\uc774\\ud574\", \"\\uad50\\uc218\", \"25\", \"\\ubbf8\\ub798\", \"\\ud568\\uaed8\", \"\\uae4c\\uc9c0\", \"\\uc735\\ud569\", \"2020\", \"\\uc628\\ub77c\\uc778\", \"\\ucc38\\uc5ec\", \"\\uace1\\uc131\\uad70\", \"\\uc0c1\\ub2f4\", \"\\uae30\\uc5d0\", \"\\ub2e4\\uc74c\", \"\\uace1\\uc131\", \"\\uae30\\uc058\", \"\\uc810\\uac80\", \"\\ucc38\\uc5ec\\ub85c\", \"\\uc2e0\\ub8b0\", \"\\ub108\\uc640\", \"\\uccb4\\ud5d8\", \"\\uc0ac\\uc774\", \"\\uc720\\ub3c4\", \"8348\", \"\\uc548\\ubd80\", \"\\uc778\\ud130\\ub137\\ub9dd\", \"\\ubb34\\ub8cc\", \"\\uc804\\ubb38\\uc801\", \"Hub\", \"\\uc624\\uae08\", \"\\uc0ac\\ud559\", \"\\uc120\\ud3ec\", \"\\uc624\\uae08\\ub3d9\", \"3010\", \"\\uc704\\uce58\", \"\\u3139\\ub77c\", \"\\uc0ac\\ub78c\", \"\\ud2b9\\uc9d5\", \"\\uacac\\uc778\", \"\\uc5b4\\ub290\\uc0c8\", \"\\ubbfc\\uac04\", \"\\uc7ac\\ub2e8\", \"\\ubc15\\ub78c\\ud68c\", \"\\uc9c4\\ub85c\", \"\\uac10\\uc0ac\", \"\\uc0dd\\uac01\", \"\\ucd9c\\ubc94\", \"\\uae30\\uad00\", \"\\ub2f9\\ubd80\", \"\\uc0ac\\uc774\\ubc84\", \"\\ucd5c\\ucd08\", \"\\ud589\\ubcf5\", \"\\uc124\\ub9bd\", \"\\ubbf8\\ub798\", \"\\uad11\\uc8fc\", \"\\uad50\\uc721\", \"\\ud76c\\ub9dd\", \"\\uc544\\uc774\", \"\\u3134\\ub2e4\", \"\\uc13c\\ud130\", \"\\ub098\\uac00\", \"\\uc81c\\uacf5\", \"\\uc5f0\\uacc4\", \"\\ud65c\\ub3d9\", \"\\ud559\\uc0dd\", \"\\uad8c\\uc5ed\", \"\\uc218\\ud589\", \"\\ucea0\\ud37c\\uc2a4\", \"\\uc790\\ubc1c\\uc801\", \"\\uc720\\uce58\", \"\\uc2e4\\uc6a9\", \"\\uacf5\\ud559\", \"\\ubb34\\uc6a9\", \"\\uacf5\\uc57d\", \"\\uad6d\\ud68c\\uc758\\uc6d0\", \"\\ub04a\\uc784\\uc5c6\\uc774\", \"\\uacbd\\ucc30\", \"\\ubc14\\uc774\\uc624\", \"\\ub355\\uc131\", \"\\uacbd\\uc601\", \"\\uae30\\uacc4\", \"\\uc784\\uae30\", \"\\ud655\\uc2e4\\uc131\", \"\\ud50c\\ub79c\", \"\\ub418\\ub3cc\\uc544\\ubcf4\", \"\\uc5ec\\uc790\", \"\\ub2f9\\uba74\", \"\\ub193\\uc774\", \"\\ud655\\uc815\", \"\\uc131\\uc5f4\", \"\\ubcc4\\ub85c\", \"\\uac70\\uc810\", \"\\uc5f4\\uc758\", \"\\uad50\\uc815\", \"\\uc81c\\uc870\", \"\\uc704\\uc6d0\\uc7a5\", \"\\ubaa8\\uc73c\", \"\\uc9c0\\ud61c\", \"\\uc804\\uacf5\", \"\\ubcf5\\ud569\", \"\\uc0ac\\uc804\", \"\\uac74\\uc124\", \"\\ubc14\\ub85c\", \"\\uc5ed\\ud560\", \"\\uc758\\uc9c0\", \"\\uc9c0\\uc0ac\", \"\\uc774\\uc57c\\uae30\", \"\\uc2dc\\uc124\", \"\\ucda9\\ubd81\", \"10\", \"\\ubb38\\ud654\", \"\\ud559\\uad50\", \"\\ub300\\ube44\", \"\\ud601\\uc2e0\", \"\\uc120\\uc815\", \"\\ub300\\ud45c\", \"\\uad50\\uc721\", \"\\uc801\\ud569\", \"\\uc219\\uc758\", \"\\uad8c\\uace0\", \"\\uc758\\uacb0\", \"\\uad50\\uc218\\uc9c4\", \"\\uc870\\ub9ac\", \"\\ud68c\\uc758\", \"\\ud559\\uae30\\uc81c\", \"\\uc801\\uc751\", \"\\uac1c\\ud1b5\", \"\\uad6d\\uac00\", \"\\uc801\\uc6a9\", \"\\uc11d\\uc9c4\", \"\\uc751\\ubaa8\", \"\\uc290\\ub7ad\", \"\\uc720\\ub7fd\", \"\\uc0ac\\ud68c\\uc801\", \"\\uc2ec\\uc758\", \"\\ud611\\ub3d9\\uc870\\ud569\", \"\\uc2e4\\ub825\", \"\\uc170\\ud504\", \"\\ubcf8\\uad50\", \"\\uc5b4\\ud559\", \"\\ud488\\uc9c8\", \"\\uc778\\ud134\", \"\\uc8fc\\ubc29\\uc7a5\", \"\\uc720\\uba85\", \"\\uc2a4\\ud0c0\", \"\\uba85\\uc7a5\", \"\\uc1a1\\ub144\", \"\\ubabd\\uc2e4\", \"\\uccb4\\uc81c\", \"\\uad50\\uc6d0\", \"\\uc591\\uc131\", \"\\uc11c\\ubd80\", \"\\uacb0\\uacfc\", \"\\ub17c\\uc758\", \"\\uc9d1\\ud604\\uc804\", \"\\ud55c\\uad6d\\ud615\", \"\\uc81c\\ub3c4\", \"\\ubc29\\ud5a5\", \"\\uacfc\\uc815\", \"\\uc81c\\uc548\", \"\\uc815\\ubd80\", \"\\ubc1c\\uc804\", \"\\ubc1c\\ud45c\", \"\\uc11c\\uc6b8\\uc2dc\", \"\\ub0b4\\uc6a9\", \"\\uc815\\ucc45\", \"\\uc124\\ub9bd\", \"\\ud559\\uad50\", \"\\uad50\\uc721\"], \"Freq\": [1542.0, 703.0, 418.0, 1033.0, 375.0, 190.0, 210.0, 575.0, 389.0, 603.0, 305.0, 168.0, 486.0, 191.0, 289.0, 628.0, 162.0, 143.0, 239.0, 207.0, 149.0, 480.0, 381.0, 293.0, 423.0, 354.0, 223.0, 288.0, 534.0, 206.0, 15.740599931043665, 15.401237599301522, 15.284326468137758, 14.451420375569043, 14.075531763032679, 14.036411342524259, 14.031121380755241, 14.033757681439942, 13.617016328519087, 12.821984427772, 12.545238577391377, 12.557530980348774, 12.404469297039643, 12.143093600462807, 12.138354211367359, 11.307794252804031, 10.43386057582611, 10.432885913390468, 10.395203925993172, 9.600081503162366, 9.22206686168719, 9.22206376161583, 9.265687965796324, 8.912925885606928, 8.424925052372362, 8.115286204831653, 8.08263129315203, 8.083922782880682, 7.703650049426748, 7.6672552116582, 18.396867555359943, 47.503683081769715, 22.22453310394914, 54.26860424270509, 29.682092048633297, 54.14090610323643, 20.446498335573086, 72.96431123701541, 24.473376949824726, 41.44157289875871, 36.930671462841886, 45.755173393028045, 52.24966416895776, 52.88087341869024, 66.39105880808034, 139.36738344163072, 70.25590041242084, 220.88866541056268, 33.188004910834735, 43.32772327583542, 164.03307889841284, 183.2007457167116, 937.304760349537, 46.538439902948966, 29.45176170668588, 68.82438666057188, 584.724131056936, 108.29476802470133, 234.05350285042837, 46.104057903960125, 130.9993831396026, 83.64909158873472, 104.50209608162588, 118.61648785917272, 80.12270833532773, 137.28012771533332, 121.8928119164961, 71.936813665168, 89.32165672485348, 81.75280025822458, 86.21720062373866, 58.3326688329364, 74.2250333774321, 68.49191020733497, 62.68626520786627, 59.487185008610304, 68.41208708989589, 56.39322946920669, 32.03196023514498, 30.005702200224736, 23.52025953162466, 21.61127219380395, 24.59983273129313, 18.373249395010344, 17.95052523075982, 15.213919280472316, 15.156606489866471, 14.082899647288473, 13.173588022279793, 13.103037000834252, 13.103477853482227, 11.662145642173146, 11.22649953209527, 10.842586945005507, 10.05800450427973, 10.058686706721737, 10.011503795172747, 10.040476475488012, 9.645582472769703, 8.847219737352308, 8.815608753441776, 8.443104810043387, 8.437162544549953, 8.059921138258993, 7.652795177632568, 7.610945804576332, 7.237738735265888, 7.234903848370642, 122.75336251582719, 70.97934726065465, 18.86167130884009, 61.96481956406551, 33.422964202105405, 89.88955518089656, 117.24905347283863, 54.775227193155445, 16.621304864702793, 131.19619094142902, 24.462563089566995, 59.08043649734951, 21.68478461614967, 37.471731564661134, 68.81700881565467, 78.91787918436108, 49.86141545591855, 110.21399503940535, 732.9346669838397, 56.992643996797135, 49.756050699868254, 52.49741454992605, 173.359408262897, 50.92860974679624, 342.79879760013955, 67.74006710728891, 39.7728033211059, 87.83534922910104, 40.45245601932144, 92.09007360621726, 71.5512606322657, 57.87438043465278, 71.09306972650802, 59.83311307921479, 73.24085711457091, 59.331790629620066, 49.471078876931934, 65.93346268774057, 60.520858781007696, 49.87356469313112, 18.713490587302523, 18.142612842959608, 17.268811474345473, 31.704957350321198, 13.686718936837957, 13.34036173664315, 10.678482678750758, 11.057083358334056, 9.16619507329386, 9.158180813764721, 9.121498946038466, 8.348147790481361, 11.2785375770971, 7.485321115379403, 7.102325037557453, 7.064402792339987, 7.064086928243356, 6.664200266744099, 6.634367853124736, 29.955727324709706, 12.05091308366805, 5.857359823978983, 5.85462022334717, 6.490446504373317, 5.848385753921256, 5.847720538703422, 5.84650957549055, 5.835731278852209, 5.830602786291863, 24.71603974169304, 13.049269892702185, 18.882087800416695, 49.883383208477646, 19.80162882437624, 33.06743396344837, 15.745674977982217, 194.52924636286352, 9.150448931307642, 34.21229559992686, 70.39240461066231, 21.646667942450136, 56.78365794790164, 22.427831530334235, 16.307771881449728, 53.06573660840496, 139.40401430070227, 89.89301766611317, 285.8429247998237, 31.07823953997842, 29.967377189041617, 165.51978089761172, 88.20685728359005, 640.2861589831376, 40.38845778067949, 31.355305750952354, 84.81549416727414, 331.6006667587199, 103.59188243726858, 64.18535110227009, 68.85782279233345, 42.234954036849594, 68.44069393339889, 65.95867187436906, 93.22017982094305, 75.90834385540659, 57.37339522246117, 60.318095734280156, 59.354042309173, 74.8249571556031, 55.014623514947786, 45.63463641613466, 41.75718289158071, 49.312253858923086, 44.52532170876588, 23.6922331829972, 21.318684823575307, 20.041352137419356, 17.73129528203477, 17.689345123145024, 16.377470229124867, 14.251951229291715, 44.7996643661973, 11.857671068798687, 11.394380202930204, 10.584047339965206, 9.883562550607879, 9.851510417292609, 19.089967635783836, 15.120738986686204, 9.50946185411983, 9.508560146563932, 9.494456643300113, 9.49353749941026, 9.461415620759174, 9.08328380992132, 8.964224370176312, 21.217138935834523, 8.262089771506304, 8.219390680558162, 7.8408478704199664, 7.835877684941501, 7.766985068886585, 7.418459322800759, 7.022901141628451, 269.78492255344963, 16.223628624348386, 10.597739013627066, 134.86055112498602, 39.65771937406361, 17.610899886988246, 13.44392909572641, 25.062830328567475, 215.09108189107624, 25.05380993180201, 16.437246963728384, 13.298406282849152, 87.84320095827871, 153.04286790589708, 20.630155547199006, 30.785282356725244, 121.14194912108776, 746.9938023045474, 120.48759173805455, 22.103152130572187, 48.81071198652921, 103.37725412621357, 44.262442614062856, 247.78469295069894, 93.04192529617909, 64.63393928037421, 81.01536506640174, 59.59691120054571, 57.679930754800665, 37.81240724267861, 46.19008413256825, 66.29660166208448, 33.36583653345054, 39.879004718573604, 41.71077629119101, 41.48248984344774, 54.04851031851856, 49.00834037737191, 43.236286130623505, 39.211319333986715, 35.26829002210717, 36.544649594768174, 70.96581313756148, 38.514940189357084, 27.08853652371644, 24.697371466241982, 23.12708904279883, 19.91396444974649, 19.468236054029205, 16.66775935420894, 14.981630030243519, 13.002434236619179, 12.738462249479035, 12.62964406931132, 11.512713284156758, 10.768213973987878, 10.395225907467784, 10.388693584303923, 10.314669383967354, 9.978877298966914, 9.94247044055605, 9.905832699730912, 9.197756739573915, 9.196505027056528, 9.161533762514418, 71.88618300390361, 8.378779710040428, 8.001016500445111, 7.999044104963167, 7.996726210439862, 7.927874600763092, 7.5901876308055, 16.069618880188738, 79.78855581743005, 20.56280835110145, 19.395178261512388, 54.19244981622355, 17.50302761180964, 22.53851204820989, 22.233696137404557, 17.02456173890835, 27.450007680664495, 13.866161225519344, 51.27868406319916, 29.662618173899766, 72.85427296695605, 108.79104158907694, 155.43679624928393, 84.40760918732434, 82.73621840719012, 71.31612112977938, 60.88137062672798, 74.03878550850888, 63.23840301757217, 582.9690718387079, 334.7235611871789, 80.66903579922598, 48.21188944599371, 73.16248779673153, 106.33397114644787, 44.92916699831847, 74.91945679287663, 41.33075242896547, 74.41474783527285, 59.939291216803646, 62.31450394861185, 36.01766982008263, 54.299526483323596, 47.32005004941549, 42.052246780292066, 42.20574400594207, 34.76555297695001, 20.309734784001467, 19.775536381209786, 18.23821295726395, 19.403609491926762, 17.15774100707575, 15.074250853093906, 13.580469055013243, 12.679685428108662, 12.638576687200842, 54.306972806827986, 15.213500833978598, 9.992992856443834, 9.989710215469266, 9.915688176067302, 9.542679561722965, 9.496164586942024, 9.871310345641099, 8.383685691535074, 7.973979733843201, 7.973979733843201, 7.600073534812764, 7.561408838885035, 7.148561334791811, 7.111448679169445, 7.111448679169445, 6.774168877627695, 6.738582753687286, 6.738259910172303, 6.405009275411988, 97.05904938318112, 26.059769100522196, 21.840131022403597, 50.30168528547943, 37.522467600273785, 15.588936753268916, 157.22014285004929, 28.929046021371718, 20.0285069938166, 70.04633550661137, 50.51100586057159, 107.65261487766368, 163.5861514331346, 28.543792470647993, 216.03204696203608, 125.81627250586757, 19.82524312249441, 38.4809541247563, 80.99966824845707, 522.4514521355815, 363.66749037331226, 203.19461540963988, 138.5847542491972, 106.64853168884282, 36.24388611498038, 42.44591888965574, 49.3346438064221, 82.64199632636497, 42.912876561149055, 44.25811207940249, 43.87906031274436, 39.245026675949575, 50.31096404724338, 61.25661869344386, 52.78963379503183, 39.256951957391905, 41.56628270869926, 40.17581721256897, 205.86506413104738, 68.49371608279213, 29.142302092704806, 24.687045223689147, 15.197546752662603, 15.168750210170877, 14.449244832752273, 14.441654394901256, 13.606367077680467, 71.7500889548624, 10.010176545847692, 9.258403553823998, 8.808085596413646, 8.804005248347828, 18.573682867741613, 8.392830269523277, 8.051717523191886, 8.27959648382766, 12.58873067115267, 27.786278924494958, 42.81258161752583, 6.4020601125514895, 6.4020601125514895, 6.022979794998237, 5.646074337479699, 5.635802935369916, 5.612987351766135, 176.6866887000542, 5.2383250352080175, 5.237288440715018, 17.359786071219002, 20.034367939281516, 22.353455297243315, 71.85605494883947, 29.506228921960293, 27.742849254386535, 12.877260351631811, 17.830013546021494, 632.1501526063639, 104.8979782527968, 236.26266377144796, 40.690824634174845, 28.716829388173345, 13.656755399492166, 89.88151701714573, 25.542768796871805, 125.91820270489893, 120.02078365370578, 343.04077757273683, 56.11442927267445, 42.94405616480292, 72.71745709395337, 125.92880350619976, 103.2271094851368, 266.38737981777405, 63.91897809854868, 83.58243804667615, 54.01627497942248, 45.9858648567501, 42.411575994592425, 52.36606156695847, 53.71388202000548, 45.467821225117454, 36.88156534952593, 41.16890216441401, 39.54858529265145, 55.7991032763879, 54.98299656457211, 53.01297617294315, 16.280199887526997, 50.32178066123071, 12.316029287633558, 15.360015261487266, 11.5418815918706, 11.505647623542787, 11.502811635676391, 10.693758266377024, 10.287891327050366, 10.227885591161364, 10.230043603014366, 9.87961970323077, 9.842988816200517, 9.462500754058862, 9.462180827119795, 9.460479533397097, 9.455643254668686, 8.956971340763088, 8.185734382151356, 8.212677761867822, 7.416055946128299, 6.989587356410031, 6.9891209208727005, 6.944282562368269, 6.600788668781132, 5.757485924666153, 5.755413874490705, 20.911406942981113, 50.125802986267104, 387.4096126990148, 246.1331773357203, 80.00244330846341, 37.737275114771144, 264.77325699485687, 74.5250848136495, 28.39101921602777, 25.21575630567954, 208.0520166411095, 29.632802175142647, 47.20348866580744, 35.96196764020649, 65.44048729146292, 20.186449509085307, 19.06267474091503, 83.0501211494948, 49.42838318890215, 56.058555054056555, 177.70865075435765, 302.3415538763445, 371.55283761032786, 26.93439784240134, 46.464813243159895, 38.80570850242573, 64.88389813668643, 55.542850768109915, 40.57813962451018, 48.66177545349986, 50.33533719152722, 51.85911631261506, 42.75032992185795, 46.36737904537152, 39.18843979060509, 48.257634070155355, 20.570384947637738, 19.411536337050723, 18.71098328022495, 16.503551954976352, 14.561288507549623, 13.098528980739578, 12.70155937216541, 12.361567814703891, 11.239696254529253, 11.239696254529253, 9.760442936511247, 8.9931270030316, 8.640324981082765, 8.25592436376488, 8.254888299132588, 7.47470892840554, 7.130131443428182, 6.747594504124161, 6.386270747381039, 12.362438769434624, 5.2699479118357155, 5.254975883553802, 5.253595495980964, 11.873267664081578, 4.887838538380944, 18.42507347101955, 17.961654006646544, 4.501613800629779, 22.114822966833874, 173.72517111393745, 38.182259131491925, 24.000157896118417, 243.16783100311105, 34.1650581752396, 41.00110067771383, 92.02023912894255, 152.55142230119577, 107.6254143503702, 22.108385056588865, 17.16552708330253, 27.64364084568382, 56.39947849926876, 77.10439774652961, 74.87375196912163, 165.111651725373, 72.66648025011119, 40.468095645328184, 76.84077227037149, 456.6810871291367, 41.199948035826424, 76.02281781804119, 53.23021044980673, 131.80063001961804, 74.72198294760729, 236.06854552908396, 103.8986967475965, 46.743543250866026, 56.57791827354849, 74.36622064271506, 42.665177331580644, 40.1730525067348, 49.738785464083385, 57.45147073339757, 46.71240902709512, 50.990742299992014, 47.06787413416454, 43.564404381122365, 41.39131591539833, 63.85714432635247, 37.017880734384796, 33.87922573545966, 31.323058339809254, 27.384477965065457, 22.234620925560932, 20.251683755583738, 20.48632761412619, 43.54085496302601, 20.155010454074713, 12.360233609964345, 11.196769730907134, 104.34974313242617, 9.999755970998761, 10.0016818870143, 9.92398958722651, 8.385105203818373, 7.601905097276339, 7.59970499651856, 91.87854947394895, 26.284165322509523, 7.196444806600507, 7.118688927742052, 14.811270363143404, 40.322018808609364, 6.411436670236458, 6.406078808969019, 6.403375373901814, 5.997500494702692, 65.13823610895848, 197.39054980765368, 45.69326611955078, 81.62668924212656, 22.15806907535318, 262.13661431398714, 52.42210937900296, 83.75717621578393, 17.040783063924383, 181.41105243340914, 101.54813138360421, 43.68285086997086, 24.19000054209707, 272.2925443246889, 83.68025613679191, 60.252041475498764, 76.71419406643538, 50.96761097941599, 216.5469661848515, 206.76189289333453, 38.36269199143615, 50.29357216351262, 39.69760345735948, 58.55144438813799, 47.69300273438704, 44.123599531711335, 44.18028822059238, 42.71858949125268, 38.702739352628214, 24.190828340151796, 21.385138485005772, 13.667885281834826, 13.270272186407734, 13.270272186407734, 13.27026997794913, 12.101091012916115, 11.329177311080144, 11.292225381726906, 10.160957921310334, 15.669202614820403, 8.997238265945093, 8.957475520904291, 8.58873084422709, 7.82448987969422, 7.823559566507509, 7.8175321308639925, 7.426087260316388, 7.381566391214413, 14.250221584461146, 6.659122162096139, 6.658009651074642, 6.642017098097624, 6.620751298090174, 81.86392089080294, 5.4904914469114345, 5.490204899407634, 5.490155761203707, 5.480058688468649, 18.74910683669541, 15.568171154858222, 11.450704371111815, 33.7021427659779, 25.64408906495409, 19.43816800556365, 158.8834023243748, 45.08331933910601, 15.24850891852846, 171.1064079818075, 18.26408957511884, 28.43655466998255, 37.010442463935725, 15.01560597843596, 28.70912704773985, 16.032271000772038, 154.41505453348, 28.917369234836716, 333.2291243827436, 234.05892683006334, 24.37650008032121, 52.150682803658434, 29.32508161145747, 26.316010386600816, 39.09466422866621, 45.79370980116656, 38.315701126967966, 45.21371115197201, 25.190836063471213, 19.725669563480402, 50.589002220636054, 30.366385302203145, 44.291560428259274, 24.60776103144203, 24.370323021607312, 27.08408799584256, 24.837831623375582, 27.268697467423706, 26.270984332593297, 24.38971770506297, 23.69203083568787, 19.592779316087437, 17.17108288563275, 14.447027928843704, 12.90544372313336, 12.171381760176555, 11.728664144137904, 10.959402257037285, 10.59016675266735, 9.00981311174372, 8.529075290643977, 7.872347772403345, 7.869474400342833, 7.469968013108507, 7.469261454342462, 6.681215226114774, 6.66093341704113, 6.659236485173239, 6.288966943957492, 6.252806417446359, 10.916536368753443, 5.516211461160437, 5.511022422132837, 5.509859378770751, 5.485314400513214, 5.118346433756222, 5.116610303754541, 5.10488261906757, 4.712677504475348, 4.346034038724671, 93.14335573534873, 52.8298474829453, 57.45104348965848, 29.964502311824308, 22.55357611560347, 23.54243884884975, 37.29747880148214, 50.85284048351259, 31.746792829742468, 42.10337641461587, 119.00250948114203, 95.25198907569191, 54.33945395034518, 33.838663261832785, 106.2520293777128, 53.14578642601186, 57.10983514712762, 16.490061455662403, 46.48080964704341, 17.60023000851737, 79.4743809915107, 200.3772239376757, 88.85850551786076, 241.79987464495082, 25.809341352787087, 34.46203068732321, 37.40917859741763, 33.44929380970401, 33.24938928151968, 32.859001670270175, 38.77076894219355, 49.90640501639483, 34.36253292311145, 28.683499360690256, 28.055842964712685, 36.909464846485356, 28.29660347786085, 19.74621225850212, 16.9840696619286, 52.497741037782404, 13.39643238383746, 10.619593651380356, 9.097191620072977, 8.701965853395842, 8.62451509579991, 7.515835326076691, 7.441642983385658, 7.085148863543448, 6.29687330332706, 6.296872339013682, 5.9238850853076315, 5.553817290354046, 5.150424753677037, 4.700462631027192, 4.367867089636616, 72.404335968718, 9.423631949170579, 3.966072902383954, 105.85950686242131, 3.5610140321894357, 44.61306741630932, 3.1929573127860613, 3.190012781885764, 3.185603941120688, 3.183458826010909, 35.73733422079074, 19.327478460291516, 80.20865528501344, 35.773499829726305, 125.68994803725465, 107.5953558027371, 20.700456276395144, 71.93068838087311, 80.03913670763501, 97.60152053147704, 36.35731057789541, 104.12321048069803, 55.58354770523772, 40.43710833206591, 29.58474678883176, 109.42610860848066, 21.810670268703063, 53.79773576017124, 59.91405536597657, 17.943765907661902, 75.56826359156709, 241.7028338907305, 113.98211902408204, 282.5891502523845, 50.51356983082265, 40.895913208393736, 27.204314142626693, 50.599470866551634, 32.471347527247744, 33.01235819043935, 76.98531377657817, 166.3788556298657, 37.00374195628446, 29.24012857391495, 29.23779110829047, 19.307538759800185, 140.48375492463552, 13.865196176460824, 58.80244406845846, 13.102445453330429, 10.858091813659746, 9.26019722845408, 8.525937809931253, 7.334038532303984, 6.974349718562543, 6.974349718562543, 6.57700204240969, 5.452623797008595, 5.051996288670588, 5.050581912675377, 5.046464910898043, 4.650835635487034, 4.285912859486059, 4.282905658187832, 4.25289257753869, 3.893578011651122, 3.8925778142962537, 3.493114081845271, 18.10036994942712, 6.97599156234826, 18.05335186143681, 50.67934786012875, 38.172668639378934, 15.152093273560782, 49.40326787539092, 13.246808740268344, 15.5526943449643, 19.276662623393843, 21.77385800298711, 80.63806976580338, 12.680554938889973, 20.172775564097538, 49.41306275961943, 13.42785437534995, 16.53961815564084, 50.337077681599354, 33.409539370798655, 23.193146861856803, 138.3209581263273, 45.741210491381, 43.88238556583777, 48.660500170118084, 57.418796603436924, 25.946192284209822, 38.692661110016765, 18.8345181125173, 20.67654897542581, 19.991274993434917, 19.70875889608634, 32.68181351545449, 13.398347159563105, 12.294062037484458, 10.358551327558724, 10.322011946899643, 9.541314663637124, 9.463574634725985, 9.128107784364406, 9.088954570504429, 7.938744030363483, 7.159149842068583, 6.747949940130174, 6.371361819288115, 6.33909859600119, 6.33909859600119, 6.3390361180132375, 5.592998242510016, 10.473035582991082, 4.776534871717991, 4.775511154521951, 4.773085267399567, 4.404076443456659, 4.40281254448726, 4.395740241096904, 4.358474681856539, 3.991877405825665, 3.2087104496377297, 3.1755425758121327, 3.175507239900914, 2.8040266945739685, 32.59604455297681, 29.70321128784696, 16.09485102927219, 7.894689879251826, 46.28588122898814, 21.91752808567389, 13.292720439209646, 10.721706168876349, 7.896096146095411, 46.65093703990642, 14.683897312360802, 46.914114809748376, 38.279947755843, 20.49970998392222, 39.94953985829134, 21.92293396797574, 24.360669375025406, 12.228575888046485, 32.12960437950998, 59.83869241089731, 19.805104295370253, 18.40604392921467, 17.385299046633634, 93.25138367171276, 22.911472984111253, 24.116224759276072, 20.936058300240802, 60.08008687175939, 25.795508119462223, 18.150336887964922, 12.979453759157401, 19.45509646148472, 20.04955505649545, 22.16992891470871, 18.689009809339282, 15.314452820968391, 53.492275363010776, 42.210013154003036, 14.912352983641636, 11.555226597434663, 9.316195198531238, 7.461676375833018, 7.423532952209597, 169.09410128166067, 7.0378303243315825, 6.728423926499405, 5.994616719175081, 5.98867193411043, 4.875034949180431, 36.253302551826735, 47.807678442152316, 38.267432950166466, 3.7552268191599727, 8.581015365903616, 3.0158266817333943, 2.6356475903400507, 2.635158511942321, 4.8696269384084125, 8.6859885572846, 23.830867629475, 12.936657657594159, 2.2498530892218547, 2.205585043553004, 3.7437219437895566, 6.721677694020408, 1.516061324420881, 27.4731763722031, 61.491048956141505, 14.843364390214795, 8.690425839310366, 38.82956582088849, 15.094554429768849, 40.85001397055301, 7.724075732589075, 19.350212051545256, 20.819710063092593, 27.06000794596049, 18.369733013333995, 16.391734210132704, 25.77072379095279, 64.9451387509855, 11.799260688953508, 17.100498335983506, 10.551995835454992, 31.61977615743507, 17.019962644590763, 15.511971700157359, 13.070855922151713, 11.907305183206248, 12.643309138345794, 11.961776240884651, 46.316581149040154, 14.942611462813087, 7.163222995707569, 28.38930605175042, 29.549299875166938, 5.188781195050054, 8.239498083001138, 3.998320114095038, 3.9973241590313124, 3.9613069641597365, 115.78000256930069, 6.344885642226333, 3.2173333014567063, 3.215798983710067, 3.2128225662782444, 3.1780255117577263, 3.177569509343492, 7.8230464053587, 2.3966676009203627, 2.39666712393039, 2.3954050084617036, 8.176464812042726, 2.025625209715484, 2.023888012233641, 5.189622287369196, 17.418175431228878, 29.544664804602167, 5.190703782634754, 4.678702745564505, 1.614837629006339, 9.80867171292431, 55.59630278118522, 21.052098737420206, 45.67410236678233, 6.182212981817876, 17.80835068523602, 10.628330010637576, 24.350948671290954, 11.63971665397089, 9.706364359558348, 9.593170823034157, 16.824296203345018, 15.63481422380801, 58.11681446874132, 10.57064220731046, 44.31922697603059, 9.604918768077026, 13.154339166629713, 17.964141970299966, 12.32922028770499, 11.09248704545117, 10.873244646212424, 9.98175611046447, 9.643370519771041, 10.30239258626745, 33.91078812141387, 22.02629563557807, 16.28002837279176, 12.000319536290393, 11.23068777928381, 10.109095430803832, 19.925349469442157, 8.600798225316467, 7.128363808723005, 6.39274435813009, 6.00445902547648, 4.149665525235746, 4.148098148930975, 4.14804494956467, 20.455476075340258, 3.0276903551851673, 3.0270359227795596, 3.0260513335026586, 3.024706913336073, 3.0227690128016573, 2.64158485988259, 7.820118109462272, 2.2547965948235085, 7.025379459561468, 2.228376559782088, 8.49594040299378, 20.692878915812425, 1.9058543322208297, 1.9058067468580038, 1.9058064795245047, 10.587346505883568, 10.845895426128433, 8.155899142907812, 18.965241525047865, 13.843380838593015, 9.197299996352934, 6.389644893542419, 8.750747723586322, 28.95341559823973, 8.73919570842655, 6.389800481638851, 12.20174356513008, 19.71522106187429, 16.520489508492748, 16.79341455498106, 14.17387241142689, 26.1138676089958, 14.26475083041868, 15.949331487830635, 12.014941609352942, 10.478044531473126, 10.879970823247868, 20.344417640054353, 15.295406982365565, 10.717477538255618, 5.780102860468652, 5.416642474896138, 4.227444401587912, 66.33979425635107, 3.1116982640681674, 2.712844183921832, 2.7109388085074366, 69.6715866394235, 16.893797659280292, 2.318791237351254, 2.318790091605364, 1.9588015452274987, 1.9559793439522495, 21.794748616938694, 3.472293597469162, 5.1363687404884555, 1.544760717889177, 0.8057114817679608, 0.8057114817679608, 0.8057109661823105, 0.8057094194253596, 0.8057077580938197, 0.8057064977733411, 0.8056987639885863, 0.8056949830271507, 0.8056808903527086, 0.8055380731275708, 7.690728540828836, 60.68538613614792, 77.09370284750895, 46.39214566807317, 2.276036812884322, 19.017194767515164, 17.997279274499462, 1.5621480992113075, 6.009342781462014, 5.547153014284783, 26.2516359656916, 34.652906611024534, 8.404903118101304, 11.757098943975635, 16.755213736055207, 10.574256552266167, 7.909213116007396, 6.02200144034861, 11.959199352932993, 7.130271356789573, 11.757968794255014, 11.233432577047962], \"Total\": [1542.0, 703.0, 418.0, 1033.0, 375.0, 190.0, 210.0, 575.0, 389.0, 603.0, 305.0, 168.0, 486.0, 191.0, 289.0, 628.0, 162.0, 143.0, 239.0, 207.0, 149.0, 480.0, 381.0, 293.0, 423.0, 354.0, 223.0, 288.0, 534.0, 206.0, 16.65670113059861, 16.31891454422052, 16.202727929879043, 15.369360066572051, 14.991529344493902, 14.95243109788558, 14.947633262962164, 14.95075287519581, 14.53308982092624, 13.738546969762345, 13.4612489110503, 13.474979338139983, 13.320687541211976, 13.059178926198465, 13.054421141232583, 12.223793533060228, 11.349867721644399, 11.348910010466556, 11.311673146911177, 10.51609693652224, 10.138063367778198, 10.138063054996506, 10.21188709262396, 9.828901877527706, 9.340945521159199, 9.031262476785582, 8.998638458604484, 9.001147082376212, 8.619634399217325, 8.583366316314445, 20.625604295521764, 53.78332031212095, 25.111834235723528, 62.91830311209617, 34.473084544804564, 64.53443408058575, 24.331822639613492, 101.14945051041418, 30.145910814098443, 55.89840907962975, 49.64835614888215, 68.3713751407914, 83.09212502182933, 86.8141933509936, 116.38825081084735, 334.45252117806587, 134.2313359312721, 640.8397858583253, 50.38635970509815, 72.86495549997338, 477.5290693452292, 575.8722524379832, 6684.891370251355, 86.91518821157953, 44.999284028021236, 161.67475531090108, 4198.281790874597, 335.7337877831594, 1164.321154450244, 91.4883183361363, 486.6285852919407, 244.27011986675126, 365.68152628075893, 497.70275625291566, 257.44252366810696, 703.7871342549038, 603.3095179802668, 222.83638104190447, 423.0266422915378, 397.3653529590879, 552.822011132452, 182.49463866315259, 441.63143261781875, 435.25092511218116, 323.5909165961239, 222.37457351381676, 1542.158253490285, 1033.4825522888939, 32.95265509755624, 30.92220233159689, 24.44401357454306, 22.529865817760477, 25.761640086789054, 19.290166900091315, 18.877208464350694, 16.130313868490035, 16.091993020196416, 14.999258524554996, 14.090124823921979, 14.019452721055563, 14.019975673494594, 12.578504872723906, 12.143645429885076, 11.761866390230068, 10.974382263717617, 10.975150153727215, 10.927875177934869, 10.97090607516045, 10.561952283051093, 9.763660326547472, 9.73219027277585, 9.359577457693803, 9.356857060525163, 8.976280473365234, 8.56920039905414, 8.527316317504921, 8.154104390516002, 8.151272467354431, 148.71754723037975, 85.08002299809661, 21.93518643175363, 75.79899127423177, 40.40031035540262, 118.60607292646645, 176.09504882504044, 77.61650888557298, 20.7261955301768, 256.2042737219071, 33.14107092715814, 100.15928175419648, 28.858106758314452, 57.83725152330052, 125.15218840796723, 191.59101951754312, 109.74676486790298, 362.9007891857777, 6684.891370251355, 134.3387058862149, 117.54961736830435, 138.68216392785124, 1164.321154450244, 135.78942920397628, 4198.281790874597, 226.26982986791947, 89.85328967190098, 552.822011132452, 104.62537256671722, 885.7796674634847, 480.5640913733495, 285.0468405286512, 534.6693313220792, 343.2315387177436, 850.819228438848, 397.3653529590879, 197.61381601775676, 734.7588844181762, 640.8397858583253, 354.11973412736535, 19.628098210163934, 19.07843701066149, 18.183360873190196, 33.72338380227554, 14.601363084274116, 14.254888995799964, 11.593211748445421, 12.024507152490688, 10.080726097054606, 10.072708575677007, 10.039891693788917, 9.262675442272641, 12.553145029889535, 8.40167798098551, 8.01685711007849, 7.978937140747689, 7.978615199015478, 7.578737469682364, 7.548904352939195, 34.1156099538178, 13.734700752896163, 6.771889504630972, 6.769147896274192, 7.504568843406224, 6.7629130889287055, 6.762247825904848, 6.761038959097237, 6.750258800894388, 6.7451305426014745, 28.72279475503527, 15.354896318717921, 23.816375516581942, 70.44317971497023, 25.801931874487575, 46.421544581911924, 20.60083769407266, 375.96202921647637, 11.243202149578494, 55.76170215875682, 137.52494559452072, 32.53715081926083, 118.12377441600655, 35.43460378762141, 23.756030918245397, 122.42613223219223, 469.3554265438504, 267.94135160939345, 1542.158253490285, 59.913098687768816, 57.20264808017176, 734.7588844181762, 297.4460257702334, 6684.891370251355, 100.70335343152091, 66.5383790681921, 365.68152628075893, 4198.281790874597, 640.8397858583253, 285.0468405286512, 354.11973412736535, 129.7184519368028, 397.3653529590879, 395.1494925504391, 885.7796674634847, 628.0292517357883, 312.54256342942534, 362.9007891857777, 441.63143261781875, 1164.321154450244, 497.70275625291566, 228.94330865324974, 173.68379951302686, 552.822011132452, 534.6693313220792, 24.62259507917326, 22.234446173499773, 20.956395718110986, 18.64669911524925, 18.60624140165691, 17.292578963770715, 15.167010308216135, 47.824928121700346, 12.772765865160327, 12.310479685270554, 11.500210119536185, 10.798654051057861, 10.76689829289748, 20.88321070160951, 16.541556317995497, 10.424498236908313, 10.423586697755571, 10.409483255376315, 10.408564100772296, 10.377138188741437, 9.998316199713702, 9.879292132636866, 23.461108388015187, 9.177116361153733, 9.147145259048644, 8.756266243324955, 8.7509243218551, 8.6821186142556, 8.333519519919937, 7.937931127037076, 305.6123080766421, 18.43683527464493, 12.02268104725547, 175.3967006562996, 48.86566818236522, 20.930746889041288, 15.616822251221041, 31.312260286231506, 354.11973412736535, 31.566072359304357, 19.755824367467678, 15.592311274175067, 156.19566570778863, 362.9007891857777, 29.961035456043525, 52.793406038635524, 381.42294101999215, 6684.891370251355, 534.6693313220792, 36.14721197892108, 145.1029766122855, 628.0292517357883, 137.52494559452072, 4198.281790874597, 850.819228438848, 395.1494925504391, 734.7588844181762, 441.63143261781875, 477.5290693452292, 162.26730670327282, 312.54256342942534, 1033.4825522888939, 129.86310937945038, 243.34326618518153, 334.45252117806587, 335.7337877831594, 1164.321154450244, 885.7796674634847, 703.7871342549038, 497.70275625291566, 222.37457351381676, 347.75154857365726, 71.88534568634816, 39.43262837310639, 28.005331760353588, 25.61417309056908, 24.044192458732418, 20.830738010306444, 20.385143917704134, 17.58459338458295, 15.898785681704044, 13.919288867312407, 13.660317991733365, 13.546523106385514, 12.429721310584057, 11.685590762961036, 11.311981590266827, 11.305449297030616, 11.23187689764577, 10.895795145952844, 10.859274219591265, 10.82263078251825, 10.114512842694321, 10.11326072398161, 10.078290491838906, 79.43452936867645, 9.295540826589063, 8.917781435055172, 8.91579982123994, 8.913481928239975, 8.844652917590158, 8.506948868145374, 18.062858344119437, 91.69150631811713, 23.68427313707219, 22.33441007065039, 67.18014248933339, 20.413449736328143, 27.478233870936815, 27.487826661495212, 20.417990525913464, 37.56213984354608, 16.360785909556835, 82.395358727757, 47.42981714288572, 165.70618452526767, 289.48357891158514, 497.70275625291566, 228.94330865324974, 226.26982986791947, 195.21891225330268, 157.3491892011256, 220.53135694442167, 173.08422412391639, 6684.891370251355, 4198.281790874597, 395.1494925504391, 149.18027006430967, 469.3554265438504, 1164.321154450244, 162.36224283056794, 603.3095179802668, 139.06622721381694, 1033.4825522888939, 734.7588844181762, 885.7796674634847, 122.30914651510373, 850.819228438848, 534.6693313220792, 343.2315387177436, 397.3653529590879, 35.68269138087173, 21.226540386505803, 20.697839512042293, 19.166172346712, 20.43805439361197, 18.07802263212431, 15.9909977699811, 14.49721062944248, 13.596508211815642, 13.558706290868972, 58.46870371184197, 16.44895093044406, 10.909721078481649, 10.90664048983517, 10.832434617962194, 10.459496909807065, 10.419568161966483, 10.832148349704024, 9.300655109774203, 8.890704024897428, 8.89070408611573, 8.51679082907997, 8.478134559739381, 8.065619139439482, 8.028196645960962, 8.028196750795237, 7.692038178177773, 7.655301883758334, 7.654983597896422, 7.321730127236704, 111.49340828978836, 29.825970474364425, 26.179576745611303, 65.51612491773541, 49.084974716494706, 19.55635937655025, 285.36248146951783, 41.11493501823268, 27.022451105003807, 122.92845883592267, 92.12862909342131, 257.44252366810696, 480.5640913733495, 51.051748962821094, 1033.4825522888939, 477.5290693452292, 31.490849000507534, 91.0374478433156, 309.7273824694425, 6684.891370251355, 4198.281790874597, 1542.158253490285, 1164.321154450244, 850.819228438848, 103.11358919972648, 147.38867975369456, 229.43891721686217, 885.7796674634847, 169.85369861575322, 197.61381601775676, 202.95566150661915, 151.778326242798, 335.7337877831594, 640.8397858583253, 441.63143261781875, 156.14327801768326, 240.34858044058006, 222.83638104190447, 207.02315233351513, 69.41093115020064, 30.06005557071779, 25.622524657009645, 16.114142812301896, 16.109725242879634, 15.365663920190407, 15.358365243139092, 14.533475090346608, 78.05896659924555, 10.927515880617669, 10.174822652663902, 9.724553954566382, 9.72243474530982, 20.589039311716938, 9.309566997030885, 8.968138012309987, 9.26905806584923, 14.124207908789119, 31.22168771379101, 48.57081789306284, 7.318492624474697, 7.318492754201667, 6.939406091600235, 6.562493447421664, 6.552222085153124, 6.529420860986003, 206.912188901077, 6.15474915360936, 6.153713065847636, 20.529875458241722, 23.855037177316802, 26.659077694674767, 87.88182903813588, 35.701663780016844, 35.13551228033637, 15.803994333008681, 22.839519199753298, 1542.158253490285, 189.9037844982796, 575.8722524379832, 69.91100658734871, 46.1451388410448, 17.334364274593607, 293.5501419468526, 44.56825707684138, 552.822011132452, 534.6693313220792, 4198.281790874597, 205.0586999350249, 122.92845883592267, 375.96202921647637, 1164.321154450244, 885.7796674634847, 6684.891370251355, 395.1494925504391, 1033.4825522888939, 343.2315387177436, 229.43891721686217, 179.69530373931653, 397.3653529590879, 469.3554265438504, 267.94135160939345, 203.00757074339796, 628.0292517357883, 497.70275625291566, 56.92248355284265, 56.1129952663394, 54.10885987337953, 17.196258937570374, 53.55938731970172, 13.231120275614497, 16.53996615949567, 12.456989222323518, 12.42074198659336, 12.417900217874442, 11.608903868529893, 11.202966383634575, 11.14297998952845, 11.145660725692935, 10.79470029827549, 10.758115820090149, 10.377591742039801, 10.37726105771036, 10.375581825411963, 10.373553846009214, 9.872078744312654, 9.101075293935137, 9.139844744326796, 8.331157479069848, 7.904705575790212, 7.905743727876759, 7.866713695987476, 7.515917026708917, 6.672588113065699, 6.672113818476669, 25.17399999602012, 68.65590184574707, 703.7871342549038, 486.6285852919407, 135.20203654245745, 59.605882707608394, 628.0292517357883, 138.29897130380638, 43.038297871838914, 37.53216802036866, 603.3095179802668, 47.627798381209566, 97.85488089469567, 70.24442901787967, 179.69530373931653, 31.24965183568688, 28.755056597971535, 347.75154857365726, 160.33898054310515, 202.95566150661915, 1542.158253490285, 4198.281790874597, 6684.891370251355, 57.486655526396085, 161.67475531090108, 121.99174715035355, 389.08758989500814, 334.45252117806587, 203.00757074339796, 423.0266422915378, 477.5290693452292, 885.7796674634847, 480.5640913733495, 850.819228438848, 734.7588844181762, 49.17755230897915, 21.49033435889087, 20.33146733770047, 19.631037212495055, 17.423429007301863, 15.491963097723461, 14.018441515525684, 13.628058264768939, 13.281466847531332, 12.159577279163459, 12.159577382951161, 10.680314265245125, 9.913033106243953, 9.560196118454103, 9.175797536799244, 9.174775903472973, 8.40021474127566, 8.050004513153965, 7.667471500788403, 7.306142641022485, 14.4752028316523, 6.189819047916933, 6.1748471160895635, 6.173467235457768, 14.073002431976834, 5.807716330688435, 22.013551073502185, 21.48082560002358, 5.421500204456779, 26.84057482146451, 223.42036631967224, 50.00014199736933, 30.835884898684576, 389.08758989500814, 46.54432700955147, 61.43301208227749, 156.104151613552, 288.3381045179006, 210.91192968921646, 31.444052088663543, 23.241999509331045, 43.667407526617104, 117.54961736830435, 184.12901958132707, 188.27021135690848, 603.3095179802668, 205.0586999350249, 95.17796156365881, 297.4460257702334, 6684.891370251355, 108.63076281688053, 365.68152628075893, 191.59101951754312, 1164.321154450244, 381.42294101999215, 4198.281790874597, 885.7796674634847, 195.21891225330268, 323.5909165961239, 734.7588844181762, 169.85369861575322, 162.36224283056794, 397.3653529590879, 850.819228438848, 343.2315387177436, 703.7871342549038, 441.63143261781875, 347.75154857365726, 575.8722524379832, 64.77658110601524, 37.9776593156953, 34.796237960863834, 32.245326524760614, 28.316588808376846, 23.15452128709387, 21.17137519105794, 21.541043034979527, 46.21771462855653, 21.461603608086293, 13.276999563112208, 12.113433752286321, 113.166398028227, 10.916413672435556, 10.919613733994444, 10.840931930695922, 9.301758757395168, 8.518579754540935, 8.516398677231376, 103.1162192670289, 29.509676739651436, 8.113115095226576, 8.035495643125383, 16.7767719551537, 45.85247393760536, 7.32810191577921, 7.322741466882045, 7.320152626456466, 6.914157431077579, 75.44929170330609, 239.41130554663567, 55.87890344950281, 105.37788788280733, 27.16132368226406, 418.16785449448116, 77.57546359076973, 135.5667144542826, 23.046355392095954, 435.25092511218116, 214.03031979836402, 77.44541335512187, 35.71828921769623, 1033.4825522888939, 205.10751622679965, 139.12011071995747, 216.25470417707265, 153.0310578656072, 4198.281790874597, 6684.891370251355, 121.2891553613842, 347.75154857365726, 168.36198800884088, 734.7588844181762, 423.0266422915378, 395.1494925504391, 552.822011132452, 850.819228438848, 156.19566570778863, 25.108721579599248, 22.70480309341936, 14.585778538582739, 14.188173330625332, 14.18817338576255, 14.188171984902002, 13.01898525573374, 12.247070634518037, 12.210129559093009, 11.078852424375496, 17.2663718640642, 9.915131506080503, 9.876236803328448, 9.506667419203087, 8.742383619770802, 8.741452830715172, 8.735427444686325, 8.343980494589767, 8.306574079746511, 16.076653914767288, 7.577137416129448, 7.577701552676603, 7.559910382845955, 7.538741353054703, 93.7313540815525, 6.408384681184814, 6.408099943790449, 6.408082255394929, 6.397951946343486, 21.90182717222802, 18.514939098292476, 13.816275316901649, 44.43765939388156, 33.31486296198779, 25.387125431864707, 289.48357891158514, 68.87541936730503, 20.348787338910284, 423.0266422915378, 26.334704284363546, 48.425733135250475, 69.63249953632493, 20.898885714134796, 54.75598171240167, 23.911159292250783, 850.819228438848, 74.23181400910985, 6684.891370251355, 4198.281790874597, 55.79204102497194, 309.7273824694425, 91.31088477940118, 81.3738514671412, 226.26982986791947, 365.68152628075893, 243.34326618518153, 418.16785449448116, 92.19493146490774, 44.315423855471344, 1033.4825522888939, 214.03031979836402, 885.7796674634847, 104.62523738256937, 125.15218840796723, 267.94135160939345, 149.18027006430967, 734.7588844181762, 480.5640913733495, 640.8397858583253, 24.615288827130087, 20.5103914304124, 18.153411450353808, 15.365011276065633, 13.82309263163531, 13.089434072004122, 12.646386022309219, 11.87703311409342, 11.5077747941345, 9.927443608771506, 9.484913447773376, 8.78994595766764, 8.787072806129089, 8.387566881240081, 8.386870714759006, 7.598813485694532, 7.57854546261084, 7.577096492499831, 7.206566703941585, 7.172762939646102, 12.708007649629751, 6.4338096662439455, 6.428620657703862, 6.427457623115014, 6.402923999811851, 6.035953809917989, 6.034218280853275, 6.022483882181794, 5.630295668772515, 5.263633258751034, 127.72801691274904, 72.090849665646, 83.35995905005241, 46.58428616937032, 34.09979605023907, 36.755896818189704, 64.15210406215593, 94.7324386949087, 53.553944537478614, 91.31088477940118, 381.42294101999215, 309.7273824694425, 140.91741319016677, 81.06007607072016, 480.5640913733495, 205.2621781493054, 240.34858044058006, 30.934876964777313, 191.8410655213198, 34.87665891997065, 640.8397858583253, 4198.281790874597, 850.819228438848, 6684.891370251355, 79.5167921482244, 168.36198800884088, 206.46646976871736, 164.9995440422626, 162.75598122557136, 160.33898054310515, 312.54256342942534, 885.7796674634847, 225.83087160694294, 123.56364905386683, 552.822011132452, 37.826922976350055, 29.213958271447122, 20.663480943923748, 17.90209613351644, 55.86907403818682, 14.313776965462372, 11.538495586447358, 10.014459856577055, 9.61923940851606, 9.541870750017472, 8.43319506562566, 8.358961649800522, 8.027341274369471, 7.214164984472639, 7.21416476547129, 6.841215104691144, 6.471087086356505, 6.067718825098405, 5.617926761627187, 5.285135309080706, 88.03152256306964, 11.55963376571419, 4.883350979628205, 132.62705101417157, 4.478305467945189, 56.95024250347801, 4.110225480953338, 4.10728139543154, 4.1028740151072105, 4.100744998478789, 46.8281564267619, 25.208942938477307, 111.45832271136622, 49.47037966101475, 183.6320622073365, 156.14327801768326, 29.268172014977868, 122.22582216257432, 153.0310578656072, 206.46646976871736, 76.87459668682136, 323.5909165961239, 139.12011071995747, 95.17796156365881, 61.58441769459697, 418.16785449448116, 39.60589035130005, 151.3841513402685, 205.2621781493054, 30.46408484760739, 435.25092511218116, 4198.281790874597, 1033.4825522888939, 6684.891370251355, 225.83087160694294, 239.41130554663567, 72.05879127722179, 885.7796674634847, 205.10751622679965, 850.819228438848, 77.92564267861647, 168.4680976480825, 37.92359636316664, 30.159267851771705, 30.158781368746688, 20.22591132094316, 149.15053489466814, 14.783711315547064, 62.87313693549648, 14.021061474675347, 11.776334963978014, 10.178464773056012, 9.453211602219401, 8.252314870351503, 7.892619067993982, 7.892619159416335, 7.495242369017875, 6.370864127930175, 5.970254260751081, 5.968873040923267, 5.964912141558429, 5.569101248234071, 5.2041532378678195, 5.201146032285354, 5.171167450200974, 4.81182150031335, 4.810830978067063, 4.4113637725003105, 23.031198879199565, 9.014924159317937, 24.891486034791907, 75.31722187505825, 61.64861357540379, 22.665856351388836, 93.38371692629757, 20.34344015607457, 25.468914881473694, 37.679371392230046, 45.54967194338966, 293.5501419468526, 22.05891240076463, 44.93401085449547, 203.00757074339796, 24.740269518990576, 36.47597924229056, 343.2315387177436, 202.9018837951571, 92.42145460626557, 6684.891370251355, 534.6693313220792, 575.8722524379832, 1033.4825522888939, 4198.281790874597, 216.25470417707265, 1164.321154450244, 77.44541335512187, 335.7337877831594, 334.45252117806587, 441.63143261781875, 33.599236849220695, 14.32480768153275, 13.211025267709683, 11.275489496370938, 11.238979791003144, 10.458260000264332, 10.380543589757316, 10.045390087271187, 10.006003605679235, 8.855820559807327, 8.076095213209388, 7.66492544491156, 7.288302399904727, 7.256053019088389, 7.256053331459558, 7.255995126803583, 6.509932624477537, 12.394441933048146, 5.693477801388745, 5.692462214847335, 5.69002759405646, 5.321010823385895, 5.3197469300637, 5.31269415081049, 5.275425504565441, 4.908822334620805, 4.125671199580958, 4.092481820020674, 4.092455053516178, 3.720968384084542, 46.342087713099474, 43.4248174845758, 23.144480495155502, 10.958441349293672, 78.04144322595177, 37.50992142542261, 21.282694067992523, 16.73692239280447, 12.364215898098236, 163.23473247091414, 32.10819535591839, 220.53135694442167, 165.70618452526767, 63.61307201428457, 244.27011986675126, 77.49904279716056, 102.87323787479927, 26.42138256461718, 191.8410655213198, 734.7588844181762, 75.76634594733761, 66.04701595516758, 59.98941884874107, 6684.891370251355, 162.36224283056794, 205.2621781493054, 132.6256747802942, 4198.281790874597, 381.42294101999215, 138.68216392785124, 32.75739963810866, 397.3653529590879, 640.8397858583253, 1542.158253490285, 850.819228438848, 89.21670827280072, 54.4134869020216, 43.66810839842553, 15.832502924676993, 12.475328267009838, 10.2362347242571, 8.381722791400353, 8.343618098051122, 190.7894138223028, 7.960664904695959, 7.648455529926849, 6.914642548630989, 6.908733787858101, 5.795063263367134, 43.411144950329124, 57.35392347276205, 47.09290846965227, 4.675245117582575, 11.062182407821666, 3.935844900625116, 3.555665860479694, 3.5551817320516936, 6.599434744484425, 11.89559848258494, 32.67906933547469, 18.07589949231851, 3.1699088391371713, 3.1680725059097776, 5.456971292970545, 10.769237767259908, 2.4360806302781826, 48.469044146139694, 117.24235827008684, 27.66678264017069, 14.983784903783143, 103.75039364715957, 37.609025182015344, 156.104151613552, 16.01260367591316, 86.86737008710297, 101.9497000439289, 191.8410655213198, 97.85488089469567, 77.57546359076973, 288.3381045179006, 6684.891370251355, 46.17082029926035, 184.12901958132707, 33.87578247826652, 4198.281790874597, 312.54256342942534, 225.83087160694294, 195.21891225330268, 111.45832271136622, 323.5909165961239, 162.75598122557136, 47.24488988731529, 16.01451929400327, 8.08041217909769, 32.10323236454144, 34.60126088427729, 6.105656345075049, 10.047775128859046, 4.91519501032921, 4.914198266514541, 4.878244369191929, 143.57848275213252, 7.997314646788996, 4.1342074073815125, 4.132676417374941, 4.129696695848488, 4.0949841119196755, 4.094458603123278, 10.366402118139588, 3.3135509671058876, 3.3135507968630504, 3.3122874029421903, 11.62526937026562, 2.9424993097782615, 2.9407654974987283, 7.671242824215916, 26.382687405430556, 44.77685597817968, 8.097341065607578, 7.31460374308748, 2.5317429631899997, 16.83328860906238, 109.74676486790298, 39.18882264107963, 101.9497000439289, 12.344916946519383, 54.76026054921022, 27.07556426968994, 102.87323787479927, 32.34061652449711, 33.22236152132668, 33.961647770061425, 129.86310937945038, 121.2891553613842, 4198.281790874597, 63.03970709336098, 6684.891370251355, 62.2995736111122, 244.27011986675126, 885.7796674634847, 288.3381045179006, 182.49463866315259, 205.10751622679965, 98.33056881363393, 86.88119403288346, 640.8397858583253, 34.83104260521369, 22.948425108585198, 17.385822231947824, 12.920348050588153, 12.150630375376997, 11.029062440566156, 21.879569830538323, 9.520753389255095, 8.048277001065975, 7.31266690578429, 6.924368212790165, 5.069574429469975, 5.068008227100901, 5.067954245774413, 25.356911580137382, 3.9475984457830053, 3.9469426762088866, 3.9459588074057197, 3.9446136845522846, 3.942676670826375, 3.561496612176985, 10.737634490126602, 3.17478950967328, 9.994528807331514, 3.175377113154639, 12.34426821508174, 30.37940634552797, 2.825763147015964, 2.8257150057962277, 2.8257148535206382, 16.300405637808915, 17.218158550507678, 12.844143649041042, 33.895079125889104, 24.59545517874952, 15.771701380548873, 10.446454258526783, 16.4242076381111, 98.23730537620311, 18.2234945932662, 12.149948968931122, 34.45003616085259, 83.88448944547227, 161.08350807976228, 168.36198800884088, 129.7184519368028, 1542.158253490285, 211.83109914086702, 628.0292517357883, 156.19566570778863, 82.1992555908311, 6684.891370251355, 21.263394480766586, 16.214181807974654, 11.636143082172401, 6.6986565774734075, 6.335626834193799, 5.146128972460188, 82.79433382669781, 4.030241272591159, 3.631394813387078, 3.629478958169564, 96.49527376726563, 23.46385117018204, 3.2373714760341854, 3.2373719366685316, 2.8773446723013336, 2.87452267389308, 34.12650267396283, 5.957659292032721, 10.719885880887732, 3.2492743390092396, 1.7242599880697291, 1.724260027201988, 1.7242598992197244, 1.724260094818416, 1.7242600553815917, 1.724260092746382, 1.7242602530594744, 1.7242601742940395, 1.7242604420237473, 1.7240813849502667, 16.532593288787147, 162.26730670327282, 210.91192968921646, 191.59101951754312, 5.908516763066785, 75.46071142087288, 79.5167921482244, 4.022039187363219, 23.860461343492666, 23.953814103808696, 240.34858044058006, 375.96202921647637, 46.58428616937032, 82.06616890310781, 151.778326242798, 164.9995440422626, 88.03152256306964, 46.722045832415816, 480.5640913733495, 121.2891553613842, 1542.158253490285, 6684.891370251355], \"Category\": [\"Default\", \"Default\", \"Default\", \"Default\", \"Default\", \"Default\", \"Default\", \"Default\", \"Default\", \"Default\", \"Default\", \"Default\", \"Default\", \"Default\", \"Default\", \"Default\", \"Default\", \"Default\", \"Default\", \"Default\", \"Default\", \"Default\", \"Default\", \"Default\", \"Default\", \"Default\", \"Default\", \"Default\", \"Default\", \"Default\", \"Topic1\", \"Topic1\", \"Topic1\", \"Topic1\", \"Topic1\", \"Topic1\", \"Topic1\", \"Topic1\", \"Topic1\", \"Topic1\", \"Topic1\", \"Topic1\", \"Topic1\", \"Topic1\", \"Topic1\", \"Topic1\", \"Topic1\", \"Topic1\", \"Topic1\", \"Topic1\", \"Topic1\", \"Topic1\", \"Topic1\", \"Topic1\", \"Topic1\", \"Topic1\", \"Topic1\", \"Topic1\", \"Topic1\", \"Topic1\", \"Topic1\", \"Topic1\", \"Topic1\", \"Topic1\", \"Topic1\", \"Topic1\", \"Topic1\", \"Topic1\", \"Topic1\", \"Topic1\", \"Topic1\", \"Topic1\", \"Topic1\", \"Topic1\", \"Topic1\", \"Topic1\", \"Topic1\", \"Topic1\", \"Topic1\", \"Topic1\", \"Topic1\", \"Topic1\", \"Topic1\", \"Topic1\", \"Topic1\", \"Topic1\", \"Topic1\", \"Topic1\", \"Topic1\", \"Topic1\", \"Topic1\", \"Topic1\", \"Topic1\", \"Topic1\", \"Topic1\", \"Topic1\", \"Topic1\", \"Topic1\", \"Topic1\", \"Topic1\", \"Topic1\", \"Topic1\", \"Topic1\", \"Topic1\", \"Topic1\", \"Topic1\", \"Topic1\", \"Topic1\", \"Topic2\", \"Topic2\", \"Topic2\", \"Topic2\", \"Topic2\", \"Topic2\", \"Topic2\", \"Topic2\", \"Topic2\", \"Topic2\", \"Topic2\", \"Topic2\", \"Topic2\", \"Topic2\", \"Topic2\", \"Topic2\", \"Topic2\", \"Topic2\", \"Topic2\", \"Topic2\", \"Topic2\", \"Topic2\", \"Topic2\", \"Topic2\", \"Topic2\", \"Topic2\", \"Topic2\", \"Topic2\", \"Topic2\", \"Topic2\", \"Topic2\", \"Topic2\", \"Topic2\", \"Topic2\", \"Topic2\", \"Topic2\", \"Topic2\", \"Topic2\", \"Topic2\", \"Topic2\", \"Topic2\", \"Topic2\", \"Topic2\", \"Topic2\", \"Topic2\", \"Topic2\", \"Topic2\", \"Topic2\", \"Topic2\", \"Topic2\", \"Topic2\", \"Topic2\", \"Topic2\", \"Topic2\", \"Topic2\", \"Topic2\", \"Topic2\", \"Topic2\", \"Topic2\", \"Topic2\", \"Topic2\", \"Topic2\", \"Topic2\", \"Topic2\", \"Topic2\", \"Topic2\", \"Topic2\", \"Topic2\", \"Topic2\", \"Topic2\", \"Topic3\", \"Topic3\", \"Topic3\", \"Topic3\", \"Topic3\", \"Topic3\", \"Topic3\", \"Topic3\", \"Topic3\", \"Topic3\", \"Topic3\", \"Topic3\", \"Topic3\", \"Topic3\", \"Topic3\", \"Topic3\", \"Topic3\", \"Topic3\", \"Topic3\", \"Topic3\", \"Topic3\", \"Topic3\", \"Topic3\", \"Topic3\", \"Topic3\", \"Topic3\", \"Topic3\", \"Topic3\", \"Topic3\", \"Topic3\", \"Topic3\", \"Topic3\", \"Topic3\", \"Topic3\", \"Topic3\", \"Topic3\", \"Topic3\", \"Topic3\", \"Topic3\", \"Topic3\", \"Topic3\", \"Topic3\", \"Topic3\", \"Topic3\", \"Topic3\", \"Topic3\", \"Topic3\", \"Topic3\", \"Topic3\", \"Topic3\", \"Topic3\", \"Topic3\", \"Topic3\", \"Topic3\", \"Topic3\", \"Topic3\", \"Topic3\", \"Topic3\", \"Topic3\", \"Topic3\", \"Topic3\", \"Topic3\", \"Topic3\", \"Topic3\", \"Topic3\", \"Topic3\", \"Topic3\", \"Topic3\", \"Topic3\", \"Topic3\", \"Topic3\", \"Topic3\", \"Topic3\", \"Topic3\", \"Topic4\", \"Topic4\", \"Topic4\", \"Topic4\", \"Topic4\", \"Topic4\", \"Topic4\", \"Topic4\", \"Topic4\", \"Topic4\", \"Topic4\", \"Topic4\", \"Topic4\", \"Topic4\", \"Topic4\", \"Topic4\", \"Topic4\", \"Topic4\", \"Topic4\", \"Topic4\", \"Topic4\", \"Topic4\", \"Topic4\", \"Topic4\", \"Topic4\", \"Topic4\", \"Topic4\", \"Topic4\", \"Topic4\", \"Topic4\", \"Topic4\", \"Topic4\", \"Topic4\", \"Topic4\", \"Topic4\", \"Topic4\", \"Topic4\", \"Topic4\", \"Topic4\", \"Topic4\", \"Topic4\", \"Topic4\", \"Topic4\", \"Topic4\", \"Topic4\", \"Topic4\", \"Topic4\", \"Topic4\", \"Topic4\", \"Topic4\", \"Topic4\", \"Topic4\", \"Topic4\", \"Topic4\", \"Topic4\", \"Topic4\", \"Topic4\", \"Topic4\", \"Topic4\", \"Topic4\", \"Topic4\", \"Topic4\", \"Topic4\", \"Topic4\", \"Topic4\", \"Topic4\", \"Topic4\", \"Topic4\", \"Topic4\", \"Topic4\", \"Topic4\", \"Topic4\", \"Topic5\", \"Topic5\", \"Topic5\", \"Topic5\", \"Topic5\", \"Topic5\", \"Topic5\", \"Topic5\", \"Topic5\", \"Topic5\", \"Topic5\", \"Topic5\", \"Topic5\", \"Topic5\", \"Topic5\", \"Topic5\", \"Topic5\", \"Topic5\", \"Topic5\", \"Topic5\", \"Topic5\", \"Topic5\", \"Topic5\", \"Topic5\", \"Topic5\", \"Topic5\", \"Topic5\", \"Topic5\", \"Topic5\", \"Topic5\", \"Topic5\", \"Topic5\", \"Topic5\", \"Topic5\", \"Topic5\", \"Topic5\", \"Topic5\", \"Topic5\", \"Topic5\", \"Topic5\", \"Topic5\", \"Topic5\", \"Topic5\", \"Topic5\", \"Topic5\", \"Topic5\", \"Topic5\", \"Topic5\", \"Topic5\", \"Topic5\", \"Topic5\", \"Topic5\", \"Topic5\", \"Topic5\", \"Topic5\", \"Topic5\", \"Topic5\", \"Topic5\", \"Topic5\", \"Topic5\", \"Topic5\", \"Topic5\", \"Topic5\", \"Topic5\", \"Topic5\", \"Topic5\", \"Topic5\", \"Topic5\", \"Topic5\", \"Topic6\", \"Topic6\", \"Topic6\", \"Topic6\", \"Topic6\", \"Topic6\", \"Topic6\", \"Topic6\", \"Topic6\", \"Topic6\", \"Topic6\", \"Topic6\", \"Topic6\", \"Topic6\", \"Topic6\", \"Topic6\", \"Topic6\", \"Topic6\", \"Topic6\", \"Topic6\", \"Topic6\", \"Topic6\", \"Topic6\", \"Topic6\", \"Topic6\", \"Topic6\", \"Topic6\", \"Topic6\", \"Topic6\", \"Topic6\", \"Topic6\", \"Topic6\", \"Topic6\", \"Topic6\", \"Topic6\", \"Topic6\", \"Topic6\", \"Topic6\", \"Topic6\", \"Topic6\", \"Topic6\", \"Topic6\", \"Topic6\", \"Topic6\", \"Topic6\", \"Topic6\", \"Topic6\", \"Topic6\", \"Topic6\", \"Topic6\", \"Topic6\", \"Topic6\", \"Topic6\", \"Topic6\", \"Topic6\", \"Topic6\", \"Topic6\", \"Topic6\", \"Topic6\", \"Topic6\", \"Topic6\", \"Topic6\", \"Topic6\", \"Topic6\", \"Topic6\", \"Topic6\", \"Topic6\", \"Topic6\", \"Topic7\", \"Topic7\", \"Topic7\", \"Topic7\", \"Topic7\", \"Topic7\", \"Topic7\", \"Topic7\", \"Topic7\", \"Topic7\", \"Topic7\", \"Topic7\", \"Topic7\", \"Topic7\", \"Topic7\", \"Topic7\", \"Topic7\", \"Topic7\", \"Topic7\", \"Topic7\", \"Topic7\", \"Topic7\", \"Topic7\", \"Topic7\", \"Topic7\", \"Topic7\", \"Topic7\", \"Topic7\", \"Topic7\", \"Topic7\", \"Topic7\", \"Topic7\", \"Topic7\", \"Topic7\", \"Topic7\", \"Topic7\", \"Topic7\", \"Topic7\", \"Topic7\", \"Topic7\", \"Topic7\", \"Topic7\", \"Topic7\", \"Topic7\", \"Topic7\", \"Topic7\", \"Topic7\", \"Topic7\", \"Topic7\", \"Topic7\", \"Topic7\", \"Topic7\", \"Topic7\", \"Topic7\", \"Topic7\", \"Topic7\", \"Topic7\", \"Topic7\", \"Topic7\", \"Topic7\", \"Topic7\", \"Topic7\", \"Topic7\", \"Topic7\", \"Topic7\", \"Topic7\", \"Topic8\", \"Topic8\", \"Topic8\", \"Topic8\", \"Topic8\", \"Topic8\", \"Topic8\", \"Topic8\", \"Topic8\", \"Topic8\", \"Topic8\", \"Topic8\", \"Topic8\", \"Topic8\", \"Topic8\", \"Topic8\", \"Topic8\", \"Topic8\", \"Topic8\", \"Topic8\", \"Topic8\", \"Topic8\", \"Topic8\", \"Topic8\", \"Topic8\", \"Topic8\", \"Topic8\", \"Topic8\", \"Topic8\", \"Topic8\", \"Topic8\", \"Topic8\", \"Topic8\", \"Topic8\", \"Topic8\", \"Topic8\", \"Topic8\", \"Topic8\", \"Topic8\", \"Topic8\", \"Topic8\", \"Topic8\", \"Topic8\", \"Topic8\", \"Topic8\", \"Topic8\", \"Topic8\", \"Topic8\", \"Topic8\", \"Topic8\", \"Topic8\", \"Topic8\", \"Topic8\", \"Topic8\", \"Topic8\", \"Topic8\", \"Topic8\", \"Topic8\", \"Topic8\", \"Topic8\", \"Topic8\", \"Topic8\", \"Topic8\", \"Topic8\", \"Topic8\", \"Topic9\", \"Topic9\", \"Topic9\", \"Topic9\", \"Topic9\", \"Topic9\", \"Topic9\", \"Topic9\", \"Topic9\", \"Topic9\", \"Topic9\", \"Topic9\", \"Topic9\", \"Topic9\", \"Topic9\", \"Topic9\", \"Topic9\", \"Topic9\", \"Topic9\", \"Topic9\", \"Topic9\", \"Topic9\", \"Topic9\", \"Topic9\", \"Topic9\", \"Topic9\", \"Topic9\", \"Topic9\", \"Topic9\", \"Topic9\", \"Topic9\", \"Topic9\", \"Topic9\", \"Topic9\", \"Topic9\", \"Topic9\", \"Topic9\", \"Topic9\", \"Topic9\", \"Topic9\", \"Topic9\", \"Topic9\", \"Topic9\", \"Topic9\", \"Topic9\", \"Topic9\", \"Topic9\", \"Topic9\", \"Topic9\", \"Topic9\", \"Topic9\", \"Topic9\", \"Topic9\", \"Topic9\", \"Topic9\", \"Topic9\", \"Topic9\", \"Topic9\", \"Topic9\", \"Topic9\", \"Topic9\", \"Topic9\", \"Topic9\", \"Topic9\", \"Topic9\", \"Topic9\", \"Topic9\", \"Topic9\", \"Topic9\", \"Topic10\", \"Topic10\", \"Topic10\", \"Topic10\", \"Topic10\", \"Topic10\", \"Topic10\", \"Topic10\", \"Topic10\", \"Topic10\", \"Topic10\", \"Topic10\", \"Topic10\", \"Topic10\", \"Topic10\", \"Topic10\", \"Topic10\", \"Topic10\", \"Topic10\", \"Topic10\", \"Topic10\", \"Topic10\", \"Topic10\", \"Topic10\", \"Topic10\", \"Topic10\", \"Topic10\", \"Topic10\", \"Topic10\", \"Topic10\", \"Topic10\", \"Topic10\", \"Topic10\", \"Topic10\", \"Topic10\", \"Topic10\", \"Topic10\", \"Topic10\", \"Topic10\", \"Topic10\", \"Topic10\", \"Topic10\", \"Topic10\", \"Topic10\", \"Topic10\", \"Topic10\", \"Topic10\", \"Topic10\", \"Topic10\", \"Topic10\", \"Topic10\", \"Topic10\", \"Topic10\", \"Topic10\", \"Topic10\", \"Topic10\", \"Topic10\", \"Topic10\", \"Topic11\", \"Topic11\", \"Topic11\", \"Topic11\", \"Topic11\", \"Topic11\", \"Topic11\", \"Topic11\", \"Topic11\", \"Topic11\", \"Topic11\", \"Topic11\", \"Topic11\", \"Topic11\", \"Topic11\", \"Topic11\", \"Topic11\", \"Topic11\", \"Topic11\", \"Topic11\", \"Topic11\", \"Topic11\", \"Topic11\", \"Topic11\", \"Topic11\", \"Topic11\", \"Topic11\", \"Topic11\", \"Topic11\", \"Topic11\", \"Topic11\", \"Topic11\", \"Topic11\", \"Topic11\", \"Topic11\", \"Topic11\", \"Topic11\", \"Topic11\", \"Topic11\", \"Topic11\", \"Topic11\", \"Topic11\", \"Topic11\", \"Topic11\", \"Topic11\", \"Topic11\", \"Topic11\", \"Topic11\", \"Topic11\", \"Topic11\", \"Topic11\", \"Topic11\", \"Topic11\", \"Topic11\", \"Topic11\", \"Topic11\", \"Topic11\", \"Topic11\", \"Topic11\", \"Topic11\", \"Topic11\", \"Topic11\", \"Topic11\", \"Topic11\", \"Topic11\", \"Topic11\", \"Topic11\", \"Topic11\", \"Topic11\", \"Topic12\", \"Topic12\", \"Topic12\", \"Topic12\", \"Topic12\", \"Topic12\", \"Topic12\", \"Topic12\", \"Topic12\", \"Topic12\", \"Topic12\", \"Topic12\", \"Topic12\", \"Topic12\", \"Topic12\", \"Topic12\", \"Topic12\", \"Topic12\", \"Topic12\", \"Topic12\", \"Topic12\", \"Topic12\", \"Topic12\", \"Topic12\", \"Topic12\", \"Topic12\", \"Topic12\", \"Topic12\", \"Topic12\", \"Topic12\", \"Topic12\", \"Topic12\", \"Topic12\", \"Topic12\", \"Topic12\", \"Topic12\", \"Topic12\", \"Topic12\", \"Topic12\", \"Topic12\", \"Topic12\", \"Topic12\", \"Topic12\", \"Topic12\", \"Topic12\", \"Topic12\", \"Topic12\", \"Topic12\", \"Topic12\", \"Topic12\", \"Topic12\", \"Topic12\", \"Topic12\", \"Topic12\", \"Topic12\", \"Topic12\", \"Topic12\", \"Topic12\", \"Topic12\", \"Topic12\", \"Topic12\", \"Topic12\", \"Topic12\", \"Topic12\", \"Topic12\", \"Topic13\", \"Topic13\", \"Topic13\", \"Topic13\", \"Topic13\", \"Topic13\", \"Topic13\", \"Topic13\", \"Topic13\", \"Topic13\", \"Topic13\", \"Topic13\", \"Topic13\", \"Topic13\", \"Topic13\", \"Topic13\", \"Topic13\", \"Topic13\", \"Topic13\", \"Topic13\", \"Topic13\", \"Topic13\", \"Topic13\", \"Topic13\", \"Topic13\", \"Topic13\", \"Topic13\", \"Topic13\", \"Topic13\", \"Topic13\", \"Topic13\", \"Topic13\", \"Topic13\", \"Topic13\", \"Topic13\", \"Topic13\", \"Topic13\", \"Topic13\", \"Topic13\", \"Topic13\", \"Topic13\", \"Topic13\", \"Topic13\", \"Topic13\", \"Topic13\", \"Topic13\", \"Topic13\", \"Topic13\", \"Topic13\", \"Topic13\", \"Topic13\", \"Topic13\", \"Topic13\", \"Topic13\", \"Topic13\", \"Topic13\", \"Topic13\", \"Topic13\", \"Topic13\", \"Topic13\", \"Topic14\", \"Topic14\", \"Topic14\", \"Topic14\", \"Topic14\", \"Topic14\", \"Topic14\", \"Topic14\", \"Topic14\", \"Topic14\", \"Topic14\", \"Topic14\", \"Topic14\", \"Topic14\", \"Topic14\", \"Topic14\", \"Topic14\", \"Topic14\", \"Topic14\", \"Topic14\", \"Topic14\", \"Topic14\", \"Topic14\", \"Topic14\", \"Topic14\", \"Topic14\", \"Topic14\", \"Topic14\", \"Topic14\", \"Topic14\", \"Topic14\", \"Topic14\", \"Topic14\", \"Topic14\", \"Topic14\", \"Topic14\", \"Topic14\", \"Topic14\", \"Topic14\", \"Topic14\", \"Topic14\", \"Topic14\", \"Topic14\", \"Topic14\", \"Topic14\", \"Topic14\", \"Topic14\", \"Topic14\", \"Topic14\", \"Topic14\", \"Topic14\", \"Topic14\", \"Topic14\", \"Topic14\", \"Topic14\", \"Topic14\", \"Topic14\", \"Topic14\", \"Topic14\", \"Topic15\", \"Topic15\", \"Topic15\", \"Topic15\", \"Topic15\", \"Topic15\", \"Topic15\", \"Topic15\", \"Topic15\", \"Topic15\", \"Topic15\", \"Topic15\", \"Topic15\", \"Topic15\", \"Topic15\", \"Topic15\", \"Topic15\", \"Topic15\", \"Topic15\", \"Topic15\", \"Topic15\", \"Topic15\", \"Topic15\", \"Topic15\", \"Topic15\", \"Topic15\", \"Topic15\", \"Topic15\", \"Topic15\", \"Topic15\", \"Topic15\", \"Topic15\", \"Topic15\", \"Topic15\", \"Topic15\", \"Topic15\", \"Topic15\", \"Topic15\", \"Topic15\", \"Topic15\", \"Topic15\", \"Topic15\", \"Topic15\", \"Topic15\", \"Topic15\", \"Topic15\", \"Topic15\", \"Topic15\", \"Topic15\", \"Topic15\", \"Topic15\", \"Topic15\", \"Topic15\", \"Topic15\", \"Topic15\", \"Topic15\", \"Topic15\", \"Topic15\", \"Topic15\", \"Topic15\", \"Topic15\", \"Topic15\", \"Topic15\", \"Topic15\", \"Topic15\", \"Topic15\", \"Topic16\", \"Topic16\", \"Topic16\", \"Topic16\", \"Topic16\", \"Topic16\", \"Topic16\", \"Topic16\", \"Topic16\", \"Topic16\", \"Topic16\", \"Topic16\", \"Topic16\", \"Topic16\", \"Topic16\", \"Topic16\", \"Topic16\", \"Topic16\", \"Topic16\", \"Topic16\", \"Topic16\", \"Topic16\", \"Topic16\", \"Topic16\", \"Topic16\", \"Topic16\", \"Topic16\", \"Topic16\", \"Topic16\", \"Topic16\", \"Topic16\", \"Topic16\", \"Topic16\", \"Topic16\", \"Topic16\", \"Topic16\", \"Topic16\", \"Topic16\", \"Topic16\", \"Topic16\", \"Topic16\", \"Topic16\", \"Topic16\", \"Topic16\", \"Topic16\", \"Topic16\", \"Topic16\", \"Topic16\", \"Topic16\", \"Topic16\", \"Topic16\", \"Topic16\", \"Topic16\", \"Topic16\", \"Topic16\", \"Topic17\", \"Topic17\", \"Topic17\", \"Topic17\", \"Topic17\", \"Topic17\", \"Topic17\", \"Topic17\", \"Topic17\", \"Topic17\", \"Topic17\", \"Topic17\", \"Topic17\", \"Topic17\", \"Topic17\", \"Topic17\", \"Topic17\", \"Topic17\", \"Topic17\", \"Topic17\", \"Topic17\", \"Topic17\", \"Topic17\", \"Topic17\", \"Topic17\", \"Topic17\", \"Topic17\", \"Topic17\", \"Topic17\", \"Topic17\", \"Topic17\", \"Topic17\", \"Topic17\", \"Topic17\", \"Topic17\", \"Topic17\", \"Topic17\", \"Topic17\", \"Topic17\", \"Topic17\", \"Topic17\", \"Topic17\", \"Topic17\", \"Topic17\", \"Topic17\", \"Topic17\", \"Topic17\", \"Topic17\", \"Topic17\", \"Topic17\", \"Topic17\", \"Topic17\", \"Topic17\", \"Topic17\", \"Topic17\", \"Topic18\", \"Topic18\", \"Topic18\", \"Topic18\", \"Topic18\", \"Topic18\", \"Topic18\", \"Topic18\", \"Topic18\", \"Topic18\", \"Topic18\", \"Topic18\", \"Topic18\", \"Topic18\", \"Topic18\", \"Topic18\", \"Topic18\", \"Topic18\", \"Topic18\", \"Topic18\", \"Topic18\", \"Topic18\", \"Topic18\", \"Topic18\", \"Topic18\", \"Topic18\", \"Topic18\", \"Topic18\", \"Topic18\", \"Topic18\", \"Topic18\", \"Topic18\", \"Topic18\", \"Topic18\", \"Topic18\", \"Topic18\", \"Topic18\", \"Topic18\", \"Topic18\", \"Topic18\", \"Topic18\", \"Topic18\", \"Topic18\", \"Topic18\", \"Topic18\", \"Topic18\", \"Topic18\", \"Topic18\", \"Topic18\", \"Topic18\", \"Topic18\", \"Topic18\", \"Topic19\", \"Topic19\", \"Topic19\", \"Topic19\", \"Topic19\", \"Topic19\", \"Topic19\", \"Topic19\", \"Topic19\", \"Topic19\", \"Topic19\", \"Topic19\", \"Topic19\", \"Topic19\", \"Topic19\", \"Topic19\", \"Topic19\", \"Topic19\", \"Topic19\", \"Topic19\", \"Topic19\", \"Topic19\", \"Topic19\", \"Topic19\", \"Topic19\", \"Topic19\", \"Topic19\", \"Topic19\", \"Topic19\", \"Topic19\", \"Topic19\", \"Topic19\", \"Topic19\", \"Topic19\", \"Topic19\", \"Topic19\", \"Topic19\", \"Topic19\", \"Topic19\", \"Topic19\", \"Topic19\", \"Topic19\", \"Topic19\", \"Topic19\", \"Topic19\", \"Topic19\", \"Topic19\", \"Topic19\", \"Topic19\", \"Topic19\", \"Topic19\", \"Topic19\"], \"logprob\": [30.0, 29.0, 28.0, 27.0, 26.0, 25.0, 24.0, 23.0, 22.0, 21.0, 20.0, 19.0, 18.0, 17.0, 16.0, 15.0, 14.0, 13.0, 12.0, 11.0, 10.0, 9.0, 8.0, 7.0, 6.0, 5.0, 4.0, 3.0, 2.0, 1.0, -6.5172, -6.539, -6.5467, -6.6027, -6.629, -6.6318, -6.6322, -6.632, -6.6622, -6.7223, -6.7441, -6.7432, -6.7554, -6.7767, -6.7771, -6.848, -6.9284, -6.9285, -6.9321, -7.0117, -7.0519, -7.0519, -7.0472, -7.086, -7.1423, -7.1797, -7.1838, -7.1836, -7.2318, -7.2365, -6.3613, -5.4127, -6.1723, -5.2795, -5.8829, -5.2819, -6.2557, -4.9835, -6.0759, -5.5492, -5.6644, -5.4502, -5.3174, -5.3054, -5.0779, -4.3364, -5.0213, -3.8758, -5.7713, -5.5047, -4.1734, -4.0629, -2.4305, -5.4332, -5.8907, -5.0419, -2.9023, -4.5886, -3.8179, -5.4426, -4.3983, -4.8469, -4.6243, -4.4976, -4.8899, -4.3515, -4.4703, -4.9977, -4.7812, -4.8698, -4.8166, -5.2073, -4.9664, -5.0468, -5.1353, -5.1877, -5.0479, -5.2411, -5.5644, -5.6298, -5.8733, -5.9579, -5.8284, -6.1203, -6.1435, -6.309, -6.3127, -6.3862, -6.453, -6.4583, -6.4583, -6.5748, -6.6129, -6.6477, -6.7228, -6.7227, -6.7274, -6.7245, -6.7647, -6.8511, -6.8546, -6.8978, -6.8985, -6.9443, -6.9961, -7.0016, -7.0519, -7.0522, -4.221, -4.7688, -6.094, -4.9046, -5.5219, -4.5326, -4.2669, -5.0279, -6.2205, -4.1545, -5.834, -4.9523, -5.9546, -5.4076, -4.7997, -4.6628, -5.1219, -4.3287, -2.4341, -4.9882, -5.124, -5.0704, -3.8758, -5.1007, -3.194, -4.8155, -5.348, -4.5557, -5.331, -4.5084, -4.7608, -4.9729, -4.7672, -4.9396, -4.7374, -4.948, -5.1298, -4.8425, -4.9282, -5.1217, -6.0293, -6.0603, -6.1097, -5.5021, -6.3422, -6.3678, -6.5904, -6.5555, -6.7431, -6.7439, -6.748, -6.8365, -6.5357, -6.9456, -6.9982, -7.0035, -7.0036, -7.0618, -7.0663, -5.5589, -6.4694, -7.1909, -7.1914, -7.0883, -7.1924, -7.1925, -7.1927, -7.1946, -7.1955, -5.7511, -6.3899, -6.0204, -5.0489, -5.9728, -5.46, -6.202, -3.688, -6.7448, -5.426, -4.7045, -5.8837, -4.9193, -5.8483, -6.1669, -4.9871, -4.0212, -4.46, -3.3031, -5.5221, -5.5585, -3.8495, -4.4789, -2.4967, -5.26, -5.5132, -4.5181, -3.1547, -4.3181, -4.7968, -4.7265, -5.2153, -4.7326, -4.7696, -4.4236, -4.6291, -4.909, -4.859, -4.8751, -4.6434, -4.951, -5.1379, -5.2267, -5.0604, -5.1625, -5.7072, -5.8128, -5.8746, -5.997, -5.9994, -6.0765, -6.2155, -5.0702, -6.3994, -6.4393, -6.513, -6.5815, -6.5848, -5.9232, -6.1563, -6.6201, -6.6202, -6.6217, -6.6218, -6.6252, -6.6659, -6.6791, -5.8176, -6.7607, -6.7659, -6.813, -6.8137, -6.8225, -6.8684, -6.9232, -3.2748, -6.0859, -6.5117, -3.9681, -5.1921, -6.0039, -6.2739, -5.651, -3.5013, -5.6514, -6.0728, -6.2847, -4.3968, -3.8417, -5.8456, -5.4453, -4.0754, -2.2563, -4.0808, -5.7767, -4.9844, -4.234, -5.0822, -3.3598, -4.3393, -4.7036, -4.4777, -4.7848, -4.8175, -5.2397, -5.0396, -4.6782, -5.3648, -5.1865, -5.1416, -5.1471, -4.8825, -4.9804, -5.1057, -5.2034, -5.3094, -5.2738, -4.6033, -5.2144, -5.5664, -5.6588, -5.7245, -5.874, -5.8967, -6.052, -6.1586, -6.3003, -6.3208, -6.3294, -6.422, -6.4889, -6.5241, -6.5247, -6.5319, -6.565, -6.5686, -6.5723, -6.6465, -6.6466, -6.6505, -4.5904, -6.7398, -6.7859, -6.7861, -6.7864, -6.7951, -6.8386, -6.0885, -4.4861, -5.842, -5.9004, -4.8729, -6.0031, -5.7502, -5.7639, -6.0308, -5.5531, -6.236, -4.9282, -5.4756, -4.577, -4.176, -3.8192, -4.4298, -4.4498, -4.5983, -4.7565, -4.5609, -4.7186, -2.4973, -3.0522, -4.4751, -4.9899, -4.5728, -4.1989, -5.0604, -4.5491, -5.1439, -4.5558, -4.7721, -4.7333, -5.2815, -4.8709, -5.0085, -5.1266, -5.1229, -5.283, -5.8205, -5.8472, -5.9281, -5.8662, -5.9892, -6.1186, -6.223, -6.2916, -6.2949, -4.837, -6.1094, -6.5297, -6.5301, -6.5375, -6.5759, -6.5807, -6.542, -6.7053, -6.7554, -6.7554, -6.8035, -6.8086, -6.8647, -6.8699, -6.8699, -6.9185, -6.9238, -6.9238, -6.9745, -4.2563, -5.5712, -5.7479, -4.9136, -5.2067, -6.0851, -3.774, -5.4668, -5.8345, -4.5825, -4.9094, -4.1527, -3.7343, -5.4802, -3.4562, -3.9968, -5.8447, -5.1815, -4.4372, -2.5731, -2.9354, -3.5175, -3.9001, -4.1621, -5.2414, -5.0834, -4.933, -4.4171, -5.0725, -5.0416, -5.0502, -5.1618, -4.9134, -4.7166, -4.8653, -5.1615, -5.1043, -5.1384, -3.4439, -4.5444, -5.3989, -5.5648, -6.05, -6.0519, -6.1005, -6.101, -6.1606, -4.4979, -6.4675, -6.5456, -6.5954, -6.5959, -5.8494, -6.6437, -6.6852, -6.6573, -6.2383, -5.4466, -5.0143, -6.9145, -6.9145, -6.9755, -7.0402, -7.042, -7.046, -3.5967, -7.1151, -7.1153, -5.917, -5.7737, -5.6641, -4.4965, -5.3865, -5.4481, -6.2157, -5.8902, -2.322, -4.1181, -3.3062, -5.0651, -5.4136, -6.1569, -4.2726, -5.5308, -3.9355, -3.9835, -2.9333, -4.7437, -5.0112, -4.4845, -3.9354, -4.1342, -3.1862, -4.6135, -4.3453, -4.7818, -4.9428, -5.0237, -4.8129, -4.7874, -4.9541, -5.1634, -5.0534, -5.0936, -4.7456, -4.7603, -4.7968, -5.9774, -4.8489, -6.2564, -6.0355, -6.3213, -6.3245, -6.3247, -6.3977, -6.4363, -6.4422, -6.442, -6.4768, -6.4806, -6.52, -6.52, -6.5202, -6.5207, -6.5749, -6.6649, -6.6616, -6.7637, -6.8229, -6.823, -6.8294, -6.8801, -7.0168, -7.0172, -5.727, -4.8528, -2.8078, -3.2614, -4.3853, -5.1367, -3.1884, -4.4562, -5.4212, -5.5398, -3.4295, -5.3784, -4.9128, -5.1849, -4.5862, -5.7623, -5.8196, -4.3479, -4.8668, -4.7409, -3.5872, -3.0558, -2.8496, -5.4739, -4.9286, -5.1087, -4.5947, -4.7502, -5.0641, -4.8824, -4.8486, -4.8188, -5.0119, -4.9307, -5.0989, -4.8078, -5.6605, -5.7185, -5.7552, -5.8807, -6.006, -6.1118, -6.1426, -6.1697, -6.2649, -6.2649, -6.406, -6.4879, -6.5279, -6.5734, -6.5735, -6.6728, -6.72, -6.7751, -6.8302, -6.1697, -7.0223, -7.0251, -7.0254, -6.21, -7.0976, -5.7706, -5.7961, -7.1799, -5.5881, -3.5268, -5.0419, -5.5063, -3.1906, -5.1531, -4.9707, -4.1623, -3.6568, -4.0057, -5.5884, -5.8414, -5.3649, -4.6519, -4.3392, -4.3685, -3.5777, -4.3984, -4.9838, -4.3426, -2.5603, -4.9659, -4.3533, -4.7097, -3.803, -4.3705, -3.2202, -4.0409, -4.8396, -4.6487, -4.3753, -4.9309, -4.9911, -4.7775, -4.6334, -4.8403, -4.7527, -4.8327, -4.9101, -4.9612, -4.4896, -5.0349, -5.1235, -5.2019, -5.3363, -5.5446, -5.638, -5.6265, -4.8726, -5.6428, -6.1318, -6.2307, -3.9985, -6.3437, -6.3435, -6.3513, -6.5198, -6.6179, -6.6182, -4.1258, -5.3773, -6.6727, -6.6836, -5.9509, -4.9494, -6.7882, -6.789, -6.7895, -6.8549, -4.4698, -3.3611, -4.8243, -4.2441, -5.5481, -3.0774, -4.687, -4.2184, -5.8107, -3.4455, -4.0257, -4.8693, -5.4603, -3.0394, -4.2193, -4.5477, -4.3062, -4.7151, -3.2685, -3.3147, -4.9992, -4.7284, -4.965, -4.5764, -4.7815, -4.8593, -4.858, -4.8916, -4.9904, -5.2784, -5.4017, -5.8493, -5.8788, -5.8788, -5.8788, -5.9711, -6.037, -6.0402, -6.1458, -5.7126, -6.2674, -6.2719, -6.3139, -6.4071, -6.4072, -6.408, -6.4593, -6.4654, -5.8076, -6.5684, -6.5685, -6.5709, -6.5741, -4.0593, -6.7613, -6.7614, -6.7614, -6.7632, -5.5332, -5.7191, -6.0263, -4.9468, -5.22, -5.4971, -3.3962, -4.6558, -5.7399, -3.3221, -5.5594, -5.1167, -4.8531, -5.7553, -5.1071, -5.6897, -3.4247, -5.0999, -2.6555, -3.0088, -5.2707, -4.5102, -5.0859, -5.1942, -4.7984, -4.6402, -4.8185, -4.6529, -5.2379, -5.4824, -4.5406, -5.051, -4.6736, -5.2613, -5.271, -5.1654, -5.252, -5.1586, -5.1959, -5.2702, -5.1924, -5.3824, -5.5143, -5.687, -5.7999, -5.8584, -5.8955, -5.9633, -5.9976, -6.1592, -6.214, -6.2942, -6.2945, -6.3466, -6.3467, -6.4582, -6.4613, -6.4615, -6.5187, -6.5245, -5.9672, -6.6498, -6.6508, -6.651, -6.6555, -6.7247, -6.725, -6.7273, -6.8073, -6.8883, -3.8234, -4.3905, -4.3066, -4.9575, -5.2416, -5.1987, -4.7386, -4.4286, -4.8997, -4.6174, -3.5784, -3.801, -4.3623, -4.8359, -3.6917, -4.3845, -4.3126, -5.5548, -4.5185, -5.4896, -3.9821, -3.0573, -3.8705, -2.8694, -5.1068, -4.8177, -4.7356, -4.8475, -4.8535, -4.8653, -4.6999, -4.4474, -4.8206, -5.0012, -5.0233, -4.7204, -4.9861, -5.3459, -5.4966, -4.3681, -5.7339, -5.9662, -6.1209, -6.1653, -6.1743, -6.3118, -6.3218, -6.3709, -6.4888, -6.4888, -6.5499, -6.6144, -6.6898, -6.7812, -6.8546, -4.0466, -6.0856, -6.9511, -3.6667, -7.0588, -4.5308, -7.1679, -7.1688, -7.1702, -7.1709, -4.7527, -5.3673, -3.9442, -4.7517, -3.495, -3.6505, -5.2987, -4.0532, -3.9463, -3.748, -4.7355, -3.6833, -4.311, -4.6291, -4.9416, -3.6336, -5.2465, -4.3436, -4.2359, -5.4416, -4.0038, -2.8412, -3.5928, -2.6849, -4.4066, -4.6178, -5.0255, -4.4049, -4.8485, -4.832, -3.4251, -2.6545, -4.1577, -4.3932, -4.3933, -4.8083, -2.8237, -5.1394, -3.6946, -5.196, -5.3838, -5.543, -5.6256, -5.7762, -5.8265, -5.8265, -5.8852, -6.0727, -6.149, -6.1493, -6.1501, -6.2317, -6.3134, -6.3141, -6.3212, -6.4094, -6.4097, -6.518, -4.8728, -5.8263, -4.8754, -3.8432, -4.1266, -5.0506, -3.8687, -5.185, -5.0245, -4.8099, -4.6881, -3.3788, -5.2287, -4.7644, -3.8685, -5.1714, -4.963, -3.85, -4.2599, -4.6249, -2.8392, -3.9458, -3.9872, -3.8839, -3.7184, -4.5127, -4.1131, -4.8331, -4.7398, -4.7735, -4.7877, -4.2092, -5.1009, -5.1869, -5.3582, -5.3617, -5.4404, -5.4485, -5.4846, -5.4889, -5.6242, -5.7276, -5.7868, -5.8442, -5.8493, -5.8493, -5.8493, -5.9745, -5.3472, -6.1323, -6.1325, -6.133, -6.2135, -6.2137, -6.2154, -6.2239, -6.3117, -6.5301, -6.5405, -6.5405, -6.6649, -4.2118, -4.3047, -4.9175, -5.6298, -3.8612, -4.6087, -5.1088, -5.3237, -5.6296, -3.8533, -5.0092, -3.8477, -4.0511, -4.6756, -4.0084, -4.6085, -4.503, -5.1922, -4.2262, -3.6043, -4.7101, -4.7833, -4.8404, -3.1607, -4.5644, -4.5131, -4.6545, -3.6003, -4.4458, -4.7973, -5.1326, -4.7279, -4.6978, -4.5973, -4.7681, -4.9672, -3.4465, -3.6834, -4.7238, -4.9789, -5.1943, -5.4162, -5.4214, -2.2956, -5.4747, -5.5197, -5.6352, -5.6362, -5.8419, -3.8355, -3.5588, -3.7814, -6.1029, -5.2765, -6.3221, -6.4569, -6.4571, -5.843, -5.2643, -4.255, -4.866, -6.6152, -6.635, -6.1059, -5.5207, -7.0099, -4.1128, -3.3071, -4.7285, -5.2638, -3.7668, -4.7117, -3.7161, -5.3817, -4.4633, -4.3901, -4.128, -4.5153, -4.6292, -4.1768, -3.2525, -4.958, -4.5869, -5.0697, -3.9722, -4.5916, -4.6844, -4.8556, -4.9489, -4.8889, -4.9443, -3.384, -4.5153, -5.2505, -3.8735, -3.8334, -5.573, -5.1105, -5.8336, -5.8338, -5.8429, -2.4678, -5.3718, -6.0509, -6.0514, -6.0523, -6.0632, -6.0634, -5.1624, -6.3454, -6.3454, -6.3459, -5.1182, -6.5136, -6.5145, -5.5728, -4.362, -3.8336, -5.5726, -5.6765, -6.7402, -4.9362, -3.2014, -4.1725, -3.3979, -5.3978, -4.3398, -4.856, -4.0269, -4.7651, -4.9467, -4.9584, -4.3967, -4.47, -3.157, -4.8614, -3.4281, -4.9572, -4.6427, -4.3311, -4.7075, -4.8132, -4.8332, -4.9187, -4.9532, -4.8871, -3.5222, -3.9537, -4.256, -4.561, -4.6273, -4.7325, -4.0539, -4.8941, -5.0819, -5.1908, -5.2534, -5.6229, -5.6233, -5.6233, -4.0277, -5.9381, -5.9384, -5.9387, -5.9391, -5.9398, -6.0746, -4.9892, -6.2329, -5.0964, -6.2447, -4.9064, -4.0162, -6.401, -6.401, -6.401, -4.6863, -4.6622, -4.9472, -4.1033, -4.4181, -4.827, -5.1913, -4.8768, -3.6803, -4.8781, -5.1912, -4.5444, -4.0645, -4.2413, -4.225, -4.3945, -3.7835, -4.3881, -4.2765, -4.5598, -4.6967, -4.659, -3.879, -4.1643, -4.5199, -5.1374, -5.2023, -5.4502, -2.697, -5.7566, -5.8938, -5.8945, -2.648, -4.0649, -6.0508, -6.0508, -6.2195, -6.2209, -3.8101, -5.647, -5.2555, -6.4569, -7.1078, -7.1078, -7.1078, -7.1078, -7.1079, -7.1079, -7.1079, -7.1079, -7.1079, -7.1081, -4.8518, -2.7861, -2.5468, -3.0547, -6.0694, -3.9465, -4.0016, -6.4458, -5.0985, -5.1785, -3.6241, -3.3464, -4.763, -4.4274, -4.0731, -4.5334, -4.8238, -5.0964, -4.4103, -4.9275, -4.4273, -4.4729], \"loglift\": [30.0, 29.0, 28.0, 27.0, 26.0, 25.0, 24.0, 23.0, 22.0, 21.0, 20.0, 19.0, 18.0, 17.0, 16.0, 15.0, 14.0, 13.0, 12.0, 11.0, 10.0, 9.0, 8.0, 7.0, 6.0, 5.0, 4.0, 3.0, 2.0, 1.0, 2.1337, 2.1324, 2.1319, 2.1287, 2.1272, 2.1271, 2.127, 2.127, 2.1252, 2.1212, 2.1198, 2.1198, 2.119, 2.1175, 2.1175, 2.1124, 2.1061, 2.1061, 2.1058, 2.0991, 2.0956, 2.0956, 2.093, 2.0925, 2.0871, 2.0833, 2.0829, 2.0828, 2.0779, 2.0774, 2.0759, 2.0661, 2.0681, 2.0424, 2.0406, 2.0147, 2.0163, 1.8636, 1.9818, 1.891, 1.8944, 1.7886, 1.7264, 1.6945, 1.6289, 1.3149, 1.5429, 1.1252, 1.7727, 1.6705, 1.1217, 1.045, 0.2257, 1.5656, 1.7664, 1.3362, 0.219, 1.0588, 0.5859, 1.505, 0.878, 1.1186, 0.9377, 0.7562, 1.023, 0.5558, 0.591, 1.0596, 0.6351, 0.6091, 0.3321, 1.0497, 0.4069, 0.3411, 0.5489, 0.8717, -0.9251, -0.7181, 2.4043, 2.4025, 2.3941, 2.391, 2.3864, 2.3839, 2.3823, 2.3741, 2.3727, 2.3696, 2.3653, 2.365, 2.365, 2.357, 2.3541, 2.3512, 2.3454, 2.3454, 2.345, 2.344, 2.3418, 2.334, 2.3337, 2.3295, 2.3291, 2.3249, 2.3195, 2.3189, 2.3134, 2.3133, 2.2407, 2.2514, 2.2816, 2.2311, 2.243, 2.1554, 2.0259, 2.084, 2.2119, 1.7633, 2.129, 1.9047, 2.1468, 1.9985, 1.8345, 1.5456, 1.6437, 1.2409, 0.222, 1.5751, 1.5729, 1.4612, 0.5281, 1.4519, -0.0727, 1.2265, 1.6176, 0.593, 1.4823, 0.1689, 0.528, 0.8382, 0.4149, 0.6857, -0.0199, 0.5309, 1.0477, 0.0217, 0.0728, 0.4724, 2.4575, 2.4549, 2.4536, 2.4435, 2.4405, 2.4389, 2.423, 2.4213, 2.4101, 2.41, 2.4092, 2.4012, 2.3981, 2.3897, 2.384, 2.3834, 2.3834, 2.3766, 2.376, 2.3751, 2.3744, 2.3601, 2.36, 2.36, 2.3599, 2.3599, 2.3598, 2.3596, 2.3595, 2.3549, 2.3425, 2.273, 2.1601, 2.2405, 2.166, 2.2364, 1.8463, 2.2992, 2.0167, 1.8354, 2.0976, 1.7727, 2.0478, 2.129, 1.6692, 1.2912, 1.413, 0.8197, 1.8488, 1.8587, 1.0147, 1.2896, 0.1595, 1.5915, 1.7528, 1.0439, -0.0333, 0.6828, 1.0143, 0.8676, 1.3831, 0.7463, 0.7149, 0.2537, 0.3921, 0.81, 0.7107, 0.4982, -0.2396, 0.3028, 0.8924, 1.0798, 0.0883, 0.0196, 2.5529, 2.5493, 2.5467, 2.541, 2.5408, 2.537, 2.5291, 2.526, 2.517, 2.514, 2.5084, 2.5028, 2.5025, 2.5016, 2.5016, 2.4995, 2.4995, 2.4994, 2.4994, 2.499, 2.4954, 2.4942, 2.4908, 2.4863, 2.4844, 2.481, 2.4809, 2.48, 2.4751, 2.4689, 2.4667, 2.4635, 2.4652, 2.3286, 2.3826, 2.4187, 2.4416, 2.3688, 2.0928, 2.3603, 2.4075, 2.4322, 2.0158, 1.728, 2.2182, 2.052, 1.4444, 0.3998, 1.1013, 2.0995, 1.5019, 0.7872, 1.4577, -0.2385, 0.3782, 0.7809, 0.3865, 0.5885, 0.4777, 1.1348, 0.6794, -0.1552, 1.2324, 0.7828, 0.5096, 0.5003, -0.4786, -0.3031, -0.1984, 0.0503, 0.75, 0.3384, 2.5854, 2.5747, 2.565, 2.5618, 2.5594, 2.5533, 2.5523, 2.5447, 2.5389, 2.5302, 2.5284, 2.5282, 2.5217, 2.5165, 2.5138, 2.5137, 2.5131, 2.5104, 2.5101, 2.5098, 2.5033, 2.5033, 2.5029, 2.4984, 2.4945, 2.4898, 2.4898, 2.4898, 2.4889, 2.4843, 2.4814, 2.4592, 2.457, 2.4572, 2.3835, 2.4445, 2.4001, 2.3862, 2.4165, 2.2847, 2.4329, 2.124, 2.1289, 1.7765, 1.6196, 1.4345, 1.6005, 1.5922, 1.5913, 1.6488, 1.5068, 1.5914, 0.1588, 0.0692, 1.0094, 1.4687, 0.7396, 0.205, 1.3135, 0.5123, 1.3849, -0.0327, 0.0921, -0.056, 1.3757, -0.1534, 0.1736, 0.4988, 0.356, 2.6061, 2.588, 2.5865, 2.5825, 2.5802, 2.5799, 2.5731, 2.5668, 2.5623, 2.5619, 2.5583, 2.5541, 2.5444, 2.5443, 2.5437, 2.5404, 2.5393, 2.5392, 2.5283, 2.5233, 2.5233, 2.5182, 2.5177, 2.5114, 2.5109, 2.5109, 2.5051, 2.5046, 2.5046, 2.4984, 2.4935, 2.4971, 2.4509, 2.3679, 2.3635, 2.4054, 2.036, 2.2806, 2.3326, 2.0697, 2.0311, 1.7602, 1.5545, 2.0507, 1.0669, 1.2983, 2.1694, 1.771, 1.2909, 0.0831, 0.1859, 0.6054, 0.5037, 0.5555, 1.5866, 1.3873, 1.0951, 0.2602, 1.2564, 1.1359, 1.1006, 1.2795, 0.734, 0.2844, 0.508, 1.2515, 0.8773, 0.919, 2.687, 2.6793, 2.6616, 2.6554, 2.6341, 2.6325, 2.6311, 2.6311, 2.6267, 2.6084, 2.605, 2.5983, 2.5937, 2.5934, 2.5896, 2.589, 2.5848, 2.5798, 2.5776, 2.5761, 2.5664, 2.5589, 2.5589, 2.551, 2.5422, 2.542, 2.5414, 2.5347, 2.5314, 2.5314, 2.5249, 2.5181, 2.5165, 2.4913, 2.502, 2.4564, 2.4878, 2.445, 1.8008, 2.0991, 1.8017, 2.1514, 2.2183, 2.4542, 1.5091, 2.136, 1.2132, 1.1987, 0.1881, 1.3967, 1.6409, 1.0497, 0.4685, 0.5431, -0.53, 0.871, 0.1778, 0.8435, 1.0853, 1.2488, 0.666, 0.525, 0.9189, 0.9871, -0.0323, 0.1602, 2.6765, 2.6761, 2.676, 2.6417, 2.6341, 2.6248, 2.6224, 2.6201, 2.6199, 2.6199, 2.6143, 2.6112, 2.6107, 2.6107, 2.6079, 2.6075, 2.6041, 2.6041, 2.6041, 2.6038, 2.5992, 2.5904, 2.5895, 2.5801, 2.5734, 2.5732, 2.5717, 2.5666, 2.5489, 2.5486, 2.5109, 2.3819, 2.0994, 2.0148, 2.1717, 2.2393, 1.8327, 2.0782, 2.2804, 2.2987, 1.6318, 2.2219, 1.9674, 2.0269, 1.6863, 2.2594, 2.2854, 1.2644, 1.5197, 1.4098, 0.5356, 0.0656, -0.1935, 1.9383, 1.4495, 1.5511, 0.9052, 0.9011, 1.0864, 0.5339, 0.4465, -0.1415, 0.2769, -0.2132, -0.2347, 2.7606, 2.7357, 2.7331, 2.7314, 2.7252, 2.7175, 2.7116, 2.709, 2.7077, 2.7008, 2.7008, 2.6894, 2.682, 2.6783, 2.6738, 2.6738, 2.6627, 2.6581, 2.6516, 2.6449, 2.6217, 2.6186, 2.6181, 2.6181, 2.6095, 2.607, 2.6015, 2.6005, 2.5935, 2.5858, 2.5279, 2.5098, 2.5288, 2.3094, 2.4702, 2.3751, 2.2509, 2.1428, 2.1067, 2.4272, 2.4764, 2.3222, 2.045, 1.909, 1.8574, 1.4836, 1.742, 1.9242, 1.4259, 0.0958, 1.8099, 1.2087, 1.4987, 0.6008, 1.1493, -0.0989, 0.6364, 1.35, 1.0356, 0.4889, 1.3979, 1.3828, 0.7014, 0.0842, 0.785, 0.1546, 0.5406, 0.7022, 0.1466, 2.8032, 2.7919, 2.7908, 2.7885, 2.784, 2.7769, 2.7731, 2.7673, 2.7578, 2.7547, 2.7459, 2.7388, 2.7364, 2.7298, 2.7297, 2.7291, 2.7137, 2.7036, 2.7036, 2.7021, 2.7017, 2.6976, 2.6963, 2.6929, 2.6889, 2.6838, 2.6837, 2.6837, 2.6752, 2.6705, 2.6245, 2.6162, 2.5621, 2.6139, 2.3505, 2.4256, 2.3359, 2.5156, 1.9423, 2.0719, 2.2449, 2.4278, 1.4837, 1.9209, 1.9807, 1.7811, 1.718, -0.1471, -0.6586, 1.6664, 0.8839, 1.3726, 0.2878, 0.6348, 0.6252, 0.2907, -0.1741, 1.4223, 2.9622, 2.9395, 2.9344, 2.9325, 2.9325, 2.9325, 2.9263, 2.9215, 2.9213, 2.9129, 2.9023, 2.9023, 2.9018, 2.8979, 2.8885, 2.8885, 2.8884, 2.8829, 2.8813, 2.8788, 2.8703, 2.87, 2.87, 2.8696, 2.864, 2.8448, 2.8448, 2.8448, 2.8445, 2.844, 2.8261, 2.8116, 2.7229, 2.7377, 2.7324, 2.3995, 2.5756, 2.7109, 2.0943, 2.6335, 2.4671, 2.3674, 2.6688, 2.3537, 2.5997, 1.2929, 2.0567, 0.0006, 0.1126, 2.1714, 1.2179, 1.8636, 1.8705, 1.2437, 0.9218, 1.1508, 0.7749, 1.702, 2.19, -0.0175, 1.0466, 0.0037, 1.5521, 1.3632, 0.7076, 1.2066, -0.2944, 0.0929, -0.2692, 3.068, 3.0605, 3.0506, 3.0446, 3.0375, 3.0335, 3.0309, 3.0258, 3.0231, 3.0092, 3.0, 2.996, 2.9959, 2.9904, 2.9904, 2.9775, 2.9772, 2.9771, 2.97, 2.969, 2.9543, 2.9524, 2.9522, 2.9522, 2.9515, 2.9413, 2.9413, 2.9409, 2.9283, 2.9147, 2.7905, 2.7954, 2.734, 2.665, 2.6928, 2.6607, 2.5639, 2.4841, 2.5833, 2.3321, 1.9415, 1.9271, 2.1533, 2.2326, 1.5971, 1.755, 1.6691, 2.4771, 1.6886, 2.4223, 1.0189, 0.064, 0.8471, -0.2133, 1.981, 1.52, 1.398, 1.5103, 1.518, 1.5212, 1.0192, 0.2299, 1.2234, 1.6458, 0.1254, 3.1103, 3.103, 3.0895, 3.0823, 3.0727, 3.0687, 3.0519, 3.0388, 3.0347, 3.0338, 3.0197, 3.0187, 3.01, 2.9989, 2.9989, 2.9909, 2.982, 2.971, 2.9566, 2.9443, 2.9395, 2.9306, 2.9268, 2.9095, 2.9057, 2.8907, 2.8824, 2.8822, 2.8819, 2.8817, 2.8646, 2.8692, 2.8059, 2.8107, 2.7558, 2.7625, 2.7886, 2.6047, 2.4868, 2.3857, 2.3861, 2.001, 2.2174, 2.2789, 2.4017, 1.7943, 2.5383, 2.1003, 1.9035, 2.6056, 1.384, 0.2802, 0.9302, -0.0287, 1.6374, 1.3677, 2.1608, 0.2724, 1.2917, -0.1144, 3.6829, 3.6825, 3.6704, 3.664, 3.664, 3.6485, 3.6351, 3.6309, 3.6281, 3.6272, 3.6138, 3.6004, 3.5918, 3.577, 3.5713, 3.5713, 3.5643, 3.5394, 3.528, 3.5279, 3.5278, 3.5148, 3.5009, 3.5007, 3.4995, 3.4832, 3.4832, 3.4616, 3.4541, 3.4386, 3.3738, 3.2988, 3.2157, 3.2923, 3.0583, 3.266, 3.2018, 3.0248, 2.9569, 2.4029, 3.1413, 2.8941, 2.282, 3.0839, 2.9041, 1.7753, 1.8911, 2.3125, -0.183, 1.2363, 1.1206, 0.6392, -0.5971, 1.5746, 0.2908, 2.2811, 0.9077, 0.8778, 0.5856, 3.7401, 3.7009, 3.6958, 3.6829, 3.6827, 3.676, 3.6753, 3.672, 3.6716, 3.6584, 3.6472, 3.6403, 3.6333, 3.6327, 3.6327, 3.6327, 3.616, 3.5993, 3.5922, 3.5921, 3.592, 3.5786, 3.5786, 3.5783, 3.5768, 3.561, 3.5164, 3.5141, 3.5141, 3.4848, 3.4159, 3.388, 3.4045, 3.4398, 3.2454, 3.2304, 3.2971, 3.3224, 3.3193, 2.5153, 2.9854, 2.22, 2.3025, 2.6354, 1.9571, 2.505, 2.3272, 2.9974, 1.9809, 1.2599, 2.426, 2.4901, 2.5292, -0.5045, 1.8096, 1.6264, 1.9217, -0.479, 1.0741, 1.7343, 2.842, 0.751, 0.3032, -0.4744, -0.0505, 2.0055, 4.0207, 4.0038, 3.9779, 3.9611, 3.9436, 3.9215, 3.9209, 3.917, 3.9145, 3.9096, 3.895, 3.8948, 3.8649, 3.8575, 3.8557, 3.8302, 3.8186, 3.7838, 3.7715, 3.7383, 3.7383, 3.7338, 3.7233, 3.722, 3.7032, 3.6949, 3.6756, 3.6609, 3.5664, 3.5635, 3.47, 3.3924, 3.4151, 3.493, 3.0549, 3.1248, 2.6971, 3.3087, 2.5361, 2.4492, 2.0791, 2.365, 2.4833, 1.6228, -0.5963, 2.6734, 1.6612, 2.8713, -0.8509, 1.1274, 1.3596, 1.334, 1.8012, 0.7954, 1.4272, 4.2244, 4.175, 4.1238, 4.1213, 4.0865, 4.0816, 4.0459, 4.0378, 4.0378, 4.0361, 4.0291, 4.0128, 3.9935, 3.9934, 3.9932, 3.9908, 3.9908, 3.9628, 3.9203, 3.9203, 3.9202, 3.8924, 3.8709, 3.8706, 3.8535, 3.8291, 3.8285, 3.7996, 3.7974, 3.7946, 3.7042, 3.5642, 3.6229, 3.4413, 3.5527, 3.121, 3.3092, 2.8034, 3.2224, 3.0138, 2.9801, 2.2006, 2.1956, -0.0357, 2.4586, -0.7719, 2.3746, 1.3228, 0.3462, 1.0921, 1.4438, 1.3071, 1.9567, 2.046, 0.1139, 4.391, 4.3768, 4.3521, 4.3439, 4.3391, 4.3307, 4.3243, 4.3162, 4.2964, 4.2834, 4.2753, 4.2176, 4.2175, 4.2175, 4.203, 4.1525, 4.1525, 4.1524, 4.1523, 4.1521, 4.119, 4.1008, 4.0756, 4.0653, 4.0637, 4.0442, 4.0338, 4.024, 4.024, 4.024, 3.9863, 3.9556, 3.9637, 3.8372, 3.8431, 3.8785, 3.9262, 3.7882, 3.1961, 3.6829, 3.7752, 3.3799, 2.9698, 2.1405, 2.1127, 2.2038, 0.3393, 1.7198, 0.7446, 1.8529, 2.358, -2.0029, 4.5278, 4.5136, 4.4897, 4.4245, 4.4152, 4.3753, 4.3504, 4.3133, 4.2803, 4.2801, 4.2462, 4.2434, 4.2382, 4.2382, 4.1874, 4.1869, 4.1235, 4.0321, 3.8362, 3.8284, 3.8111, 3.8111, 3.8111, 3.8111, 3.8111, 3.8111, 3.8111, 3.8111, 3.8111, 3.811, 3.8066, 3.5884, 3.5655, 3.1537, 3.618, 3.1937, 3.0862, 3.6262, 3.193, 3.1091, 2.3576, 2.1878, 2.8595, 2.6289, 2.3682, 1.8244, 2.1623, 2.5231, 0.8785, 1.7381, -0.3045, -1.8168]}, \"token.table\": {\"Topic\": [2, 4, 5, 7, 9, 10, 12, 13, 16, 18, 8, 6, 9, 10, 11, 12, 13, 14, 8, 9, 10, 16, 3, 10, 11, 12, 13, 16, 19, 15, 1, 2, 4, 7, 8, 9, 10, 12, 14, 4, 9, 10, 12, 13, 5, 13, 4, 6, 13, 16, 1, 2, 3, 4, 5, 7, 8, 10, 11, 14, 1, 4, 5, 7, 3, 15, 4, 10, 5, 10, 12, 17, 5, 6, 10, 12, 16, 3, 10, 12, 13, 16, 17, 3, 12, 8, 5, 7, 2, 4, 16, 15, 8, 14, 8, 17, 15, 8, 2, 5, 7, 9, 11, 9, 16, 10, 11, 13, 10, 17, 5, 10, 15, 9, 12, 10, 9, 2, 5, 6, 16, 10, 15, 1, 4, 11, 13, 10, 13, 1, 2, 3, 4, 5, 6, 7, 8, 9, 10, 11, 12, 13, 14, 15, 16, 17, 18, 1, 3, 9, 10, 13, 15, 16, 17, 1, 2, 3, 5, 8, 11, 15, 3, 17, 18, 8, 15, 2, 3, 4, 5, 6, 7, 8, 10, 2, 11, 15, 1, 7, 15, 1, 3, 4, 7, 8, 11, 12, 16, 12, 15, 4, 11, 19, 11, 6, 11, 17, 4, 6, 8, 14, 8, 8, 2, 7, 9, 12, 13, 4, 10, 12, 3, 15, 9, 1, 2, 3, 5, 7, 8, 9, 14, 3, 11, 5, 1, 2, 3, 4, 5, 6, 7, 8, 9, 9, 12, 1, 3, 9, 13, 16, 7, 19, 2, 7, 11, 17, 18, 10, 3, 5, 5, 18, 14, 1, 2, 8, 9, 8, 17, 4, 6, 8, 11, 14, 19, 9, 2, 4, 6, 7, 8, 10, 13, 1, 6, 7, 11, 14, 1, 5, 11, 15, 10, 13, 18, 3, 3, 7, 3, 8, 18, 15, 7, 15, 18, 2, 8, 15, 1, 2, 3, 4, 5, 6, 9, 12, 18, 3, 6, 7, 8, 14, 16, 10, 15, 8, 9, 12, 3, 11, 4, 17, 17, 1, 3, 5, 7, 8, 9, 1, 2, 4, 5, 11, 12, 17, 9, 1, 3, 4, 5, 6, 11, 18, 12, 18, 3, 6, 8, 9, 11, 12, 13, 14, 16, 1, 7, 11, 13, 18, 5, 6, 1, 2, 3, 4, 6, 1, 2, 3, 5, 6, 7, 10, 19, 1, 2, 3, 6, 7, 8, 11, 12, 2, 9, 15, 16, 4, 9, 1, 2, 4, 5, 6, 10, 18, 10, 7, 11, 16, 3, 10, 11, 17, 3, 10, 12, 3, 18, 2, 5, 10, 14, 1, 3, 4, 6, 8, 9, 10, 12, 15, 16, 3, 5, 7, 9, 10, 12, 13, 16, 18, 19, 1, 2, 5, 7, 9, 10, 11, 7, 8, 9, 11, 12, 19, 1, 2, 3, 4, 5, 6, 7, 8, 9, 10, 11, 12, 13, 14, 15, 16, 17, 18, 19, 1, 2, 3, 4, 5, 6, 7, 8, 10, 11, 12, 10, 5, 3, 4, 5, 7, 9, 10, 12, 15, 17, 14, 5, 7, 13, 15, 16, 1, 2, 3, 4, 5, 6, 7, 8, 10, 11, 12, 13, 14, 16, 18, 5, 10, 3, 1, 2, 3, 4, 5, 7, 8, 9, 10, 14, 15, 3, 4, 9, 19, 2, 13, 2, 7, 8, 11, 13, 11, 15, 18, 4, 8, 3, 19, 18, 14, 8, 15, 16, 7, 12, 16, 17, 7, 2, 5, 6, 7, 15, 18, 10, 11, 14, 1, 18, 1, 2, 3, 4, 5, 7, 9, 12, 15, 17, 3, 7, 8, 15, 1, 11, 1, 2, 3, 9, 1, 2, 3, 5, 6, 7, 8, 9, 10, 14, 17, 1, 2, 3, 5, 9, 13, 10, 5, 17, 2, 10, 11, 13, 4, 5, 9, 13, 1, 4, 6, 8, 10, 18, 1, 2, 6, 8, 11, 16, 17, 12, 1, 7, 13, 9, 2, 3, 4, 5, 8, 9, 10, 11, 12, 13, 15, 16, 1, 8, 18, 1, 2, 3, 4, 5, 6, 7, 8, 9, 15, 17, 4, 11, 12, 18, 3, 13, 3, 4, 6, 1, 10, 15, 10, 6, 8, 10, 14, 6, 1, 3, 10, 14, 1, 2, 3, 4, 8, 9, 11, 12, 16, 19, 7, 17, 4, 12, 8, 11, 14, 15, 4, 6, 7, 7, 7, 4, 6, 8, 12, 19, 10, 18, 3, 7, 19, 10, 13, 3, 4, 5, 10, 12, 13, 14, 16, 12, 4, 10, 7, 15, 1, 2, 3, 4, 6, 7, 9, 10, 11, 12, 17, 18, 3, 11, 17, 1, 4, 6, 11, 12, 3, 8, 7, 7, 9, 7, 18, 1, 3, 4, 17, 12, 1, 1, 4, 10, 11, 12, 13, 15, 10, 11, 13, 11, 1, 2, 3, 4, 6, 7, 8, 9, 10, 11, 12, 14, 18, 2, 3, 5, 10, 12, 13, 15, 16, 16, 7, 12, 1, 2, 3, 4, 6, 7, 8, 9, 12, 14, 16, 1, 12, 13, 17, 1, 4, 5, 6, 8, 11, 4, 2, 3, 5, 7, 9, 10, 15, 18, 1, 2, 3, 4, 6, 8, 9, 10, 11, 12, 3, 5, 9, 12, 5, 10, 15, 16, 18, 12, 1, 2, 4, 8, 18, 2, 5, 15, 14, 1, 2, 3, 4, 5, 6, 7, 10, 12, 14, 15, 16, 2, 3, 4, 5, 2, 6, 16, 3, 16, 18, 10, 6, 4, 16, 5, 1, 5, 5, 3, 4, 1, 2, 5, 7, 9, 1, 2, 4, 6, 8, 9, 10, 14, 15, 19, 1, 1, 2, 3, 4, 6, 7, 8, 11, 12, 14, 15, 17, 18, 8, 2, 16, 8, 16, 6, 1, 2, 4, 5, 6, 7, 8, 9, 10, 2, 3, 4, 8, 11, 12, 1, 9, 1, 2, 3, 4, 5, 6, 7, 8, 11, 1, 2, 3, 4, 6, 8, 11, 14, 17, 16, 14, 8, 1, 2, 3, 4, 6, 7, 8, 12, 19, 1, 2, 3, 4, 5, 6, 7, 8, 9, 11, 5, 11, 15, 18, 1, 2, 3, 6, 14, 6, 19, 17, 12, 14, 10, 3, 18, 9, 12, 9, 1, 3, 7, 8, 11, 8, 3, 6, 7, 8, 9, 10, 11, 12, 18, 5, 1, 2, 3, 4, 5, 6, 7, 8, 9, 10, 11, 12, 13, 14, 15, 16, 17, 18, 19, 1, 3, 4, 5, 7, 8, 9, 10, 11, 12, 15, 18, 3, 8, 4, 14, 17, 11, 2, 3, 4, 5, 6, 9, 12, 15, 3, 7, 18, 8, 18, 1, 17, 5, 1, 5, 11, 1, 3, 5, 6, 7, 4, 13, 1, 2, 3, 5, 6, 9, 19, 12, 4, 5, 6, 8, 9, 11, 12, 13, 19, 11, 2, 1, 2, 3, 4, 6, 7, 8, 9, 10, 11, 12, 13, 14, 15, 16, 17, 4, 5, 3, 4, 5, 6, 8, 9, 10, 1, 3, 4, 6, 8, 9, 10, 11, 12, 13, 19, 7, 11, 16, 2, 13, 13, 3, 6, 4, 8, 3, 13, 14, 1, 2, 3, 4, 6, 7, 8, 9, 11, 14, 15, 18, 1, 12, 4, 18, 6, 8, 15, 7, 4, 9, 5, 10, 15, 1, 3, 4, 6, 7, 9, 17, 5, 14, 1, 1, 2, 7, 10, 18, 3, 18, 19, 5, 11, 12, 15, 1, 4, 16, 16, 2, 1, 6, 5, 1, 4, 12, 2, 3, 6, 8, 10, 12, 13, 15, 16, 5, 4, 10, 18, 1, 2, 4, 7, 9, 12, 14, 2, 14, 6, 8, 15, 3, 4, 17, 5, 8, 9, 12, 16, 5, 5, 14, 15, 1, 2, 3, 4, 5, 7, 9, 10, 12, 14, 5, 7, 14, 11, 17, 18, 5, 8, 9, 13, 17, 13, 18, 6, 10, 11, 13, 4, 17, 1, 2, 3, 4, 5, 6, 7, 9, 11, 12, 18, 2, 3, 19, 6, 2, 3, 6, 9, 11, 13, 15, 3, 1, 4, 4, 17, 15, 2, 3, 4, 7, 8, 12, 14, 17, 1, 4, 5, 7, 8, 10, 11, 14, 17, 3, 4, 5, 11, 17, 7, 7, 3, 3, 18, 19, 5, 15, 2, 4, 10, 11, 12, 13, 13, 14, 19, 7, 13, 19, 3, 15, 2, 12, 15, 16, 17, 1, 3, 4, 8, 10, 12, 15, 18, 1, 6, 10, 13, 5, 17, 1, 3, 4, 5, 11, 2, 5, 7, 8, 10, 13, 17, 19, 6, 11, 2, 3, 8, 6, 9, 10, 4, 2, 16, 2, 18, 1, 2, 3, 4, 7, 11, 12, 13, 2, 16, 14, 14, 2, 3, 4, 5, 9, 10, 11, 16, 17, 19, 6, 15, 13, 1, 12, 1, 3, 6, 11, 12, 19, 4, 17, 15, 1, 3, 5, 8, 9, 10, 11, 12, 13, 15, 16, 5, 6, 3, 11, 12, 16, 18, 4, 19, 4, 8, 19, 5, 7, 9, 10, 18, 1, 2, 5, 7, 19, 6, 5, 6, 7, 11, 12, 18, 1, 2, 3, 4, 5, 6, 7, 8, 9, 10, 11, 12, 13, 14, 18, 1, 2, 3, 6, 7, 8, 1, 3, 5, 10, 13, 9, 1, 2, 3, 4, 5, 7, 9, 11, 18, 10, 11, 13, 16, 1, 2, 3, 5, 10, 11, 18, 4, 6, 12, 4, 7, 4, 11, 9, 17, 3, 7, 7, 8, 7, 12, 19, 6, 9, 9, 18, 6, 6, 10, 6, 19, 15, 3, 12, 18, 1, 2, 3, 4, 5, 10, 11, 15, 17, 12, 9, 17, 11, 1, 3, 4, 6, 7, 14, 17, 18, 2, 1, 1, 6, 8, 5, 3, 11, 1, 2, 3, 8, 9, 18, 19, 17, 8, 1, 1, 19, 1, 2, 5, 7, 12, 3, 7, 1, 2, 3, 4, 5, 6, 7, 8, 9, 10, 11, 12, 13, 14, 15, 18, 19, 4, 1, 2, 6, 7, 12, 9, 5, 6, 4, 11, 18, 1, 2, 3, 8, 9, 10, 11, 12, 9, 1, 3, 4, 6, 7, 8, 9, 18, 1, 2, 3, 4, 5, 6, 15, 17, 18, 2, 5, 6, 7, 8, 9, 12, 15, 6, 12, 5, 9, 1, 2, 3, 5, 7, 15, 10, 11, 12, 13, 4, 6, 11, 12, 18, 13, 15, 8, 16, 4, 6, 15, 9, 6, 14, 2, 3, 7, 1, 2, 3, 5, 6, 7, 9, 10, 11, 12, 18, 17, 17, 4, 11, 10, 11, 11, 13, 1, 5, 8, 9, 12, 16, 9, 13, 11, 13, 4, 1, 2, 3, 5, 6, 9, 11, 12, 13, 16, 1, 2, 3, 4, 5, 6, 10, 11, 15, 1, 1, 2, 3, 6, 15, 1, 2, 3, 4, 5, 6, 7, 11, 12, 13, 17, 1, 2, 4, 1, 2, 3, 4, 5, 6, 7, 8, 9, 10, 12, 16, 1, 2, 5, 14, 4, 10, 1, 10, 2, 9, 12, 1, 5, 8, 9, 1, 12, 1, 1, 2, 4, 6, 7, 8, 10, 11, 18, 9, 12, 18, 6, 13, 15, 6, 17, 1, 2, 3, 4, 5, 6, 7, 8, 9, 10, 12, 13, 14, 19, 3, 17, 19, 19, 18, 2, 8, 10, 18, 4, 3, 1, 2, 5, 6, 8, 15, 12, 1, 2, 3, 5, 7, 9, 12, 13, 16, 18, 2, 7, 4, 12, 19, 6, 12, 19, 5, 6, 1, 6, 9, 12, 15, 6, 6, 10, 18, 12, 3, 2, 5, 6, 7, 9, 11, 12, 1, 2, 4, 5, 6, 8, 9, 10, 11, 13, 14, 3, 9, 2, 13, 15, 1, 6, 8, 12, 18, 14, 4, 5, 11, 11, 6, 6, 7, 9, 16, 14, 9, 1, 2, 3, 5, 7, 8, 9, 11, 15, 4, 6, 8, 1, 6, 8, 1, 2, 3, 4, 5, 6, 7, 9, 12, 15, 12, 2, 6, 10, 2, 1, 2, 6, 16, 17, 19, 1, 5, 7, 9, 18, 1, 8, 16, 2, 2, 18, 1, 10, 4, 1, 3, 12, 2, 3, 14, 9, 3, 6, 8, 10, 15, 6, 10, 11, 13, 15, 2, 18, 1, 2, 5, 10, 11, 12, 18, 1, 4, 1, 3, 4, 6, 10, 1, 4, 12, 9, 2, 8, 7, 8, 2, 13, 17, 14, 2, 14, 10, 2, 8, 4, 6, 8, 1, 7, 19, 19, 4, 19, 6, 10, 7, 10, 18, 11, 14, 12, 9, 10, 6, 14, 7, 13, 2, 5, 8, 12, 13, 2, 3, 8, 11, 12, 15, 12, 17, 16, 2, 5, 1, 5, 7, 11, 13, 6, 10, 2, 1, 4, 5, 6, 7, 8, 9, 11, 12, 13, 15, 13, 17, 2, 1, 2, 9, 16, 2, 4, 5, 11, 12, 17, 18, 19, 16, 2, 3, 1, 2, 3, 4, 6, 7, 8, 11, 12, 16, 19, 3, 6, 1, 2, 3, 5, 6, 9, 10, 11, 13, 17, 3, 4, 19, 7, 1, 3, 4, 5, 8, 11, 12, 2, 12, 19, 18, 13, 13, 14, 15, 19, 6, 7, 1, 2, 3, 5, 6, 7, 8, 10, 14, 17, 3, 6, 8, 12, 7, 8, 11, 14, 11, 2, 9, 1, 3, 12, 2, 6, 4, 8, 19, 3, 5, 7, 8, 9, 11, 12, 13, 18, 2, 2, 13, 1, 2, 3, 4, 5, 6, 8, 11, 12, 13, 1, 13, 15, 1, 2, 3, 4, 5, 7, 8, 10, 11, 12, 18, 5, 10, 12, 1, 9, 15, 7, 6, 1, 3, 14, 4, 15, 3, 4, 8, 10, 2, 3, 4, 5, 6, 8, 9, 10, 11, 12, 13, 16, 12, 5, 9, 10, 4, 6, 9, 18, 2, 3, 4, 5, 6, 7, 8, 10, 2, 3, 4, 5, 6, 10, 17, 18, 15, 1, 2, 3, 4, 5, 6, 7, 8, 9, 10, 11, 12, 15, 16, 17, 2, 4, 10, 6, 1, 2, 3, 8, 13, 4, 18, 2, 5, 8, 13, 10, 3, 4, 8, 12, 3, 6, 8, 16, 17, 5, 15, 2, 3, 16, 1, 2, 4, 5, 6, 7, 8, 10, 11, 12, 13, 14, 7, 11, 1, 3, 6, 11, 14, 8, 18, 19, 4, 3, 3, 6, 10, 12, 2, 3, 19, 12, 9, 5, 15, 4, 5, 11, 12, 13, 1, 2, 3, 6, 9, 10, 11, 12, 15, 16, 17, 11, 8, 13, 6, 1, 8, 15, 1, 2, 3, 9, 11, 12, 5, 7, 5, 1, 2, 3, 4, 9, 19, 2, 5, 16, 17, 2, 11, 15, 8, 5, 11, 3, 4, 11, 14, 19, 4, 15, 6, 1, 4, 11, 12, 14, 16, 1, 10, 17, 13, 1, 2, 3, 4, 5, 6, 7, 8, 9, 10, 11, 12, 13, 15, 14, 12, 13, 2, 8, 17, 1, 4, 6, 7, 10, 13, 18, 4, 6, 16, 2, 3, 10, 11, 10, 3, 4, 7, 12, 11, 18, 5, 7, 18, 5, 9, 1, 2, 4, 8, 9, 10, 11, 12, 14, 11, 5, 16, 12, 1, 2, 5, 9, 15, 2, 15, 1, 2, 3, 5, 6, 11, 12, 8, 9, 3, 16, 18, 5, 6, 3, 5, 8, 11, 12, 12, 6, 9, 11, 12, 13, 12, 12, 5, 15, 2, 9, 4, 6, 1, 2, 3, 4, 5, 6, 7, 8, 9, 11, 13, 14, 16, 17, 14, 7, 10, 17, 11, 13, 15, 7, 17, 2, 5, 7, 10, 5, 6, 11, 1, 7, 1, 4, 6, 11, 14, 2, 6, 5, 5, 14, 13, 1, 3, 5, 6, 8, 10, 15, 2, 4, 9, 15, 17, 4, 6, 11, 13, 13, 1, 4, 8, 9, 10, 11, 13, 19, 10, 1, 2, 3, 4, 5, 11, 16, 15, 18, 1, 2, 3, 4, 5, 9, 10, 13, 15, 14, 1, 3, 6, 8, 9, 11, 16, 1, 2, 10, 16, 1, 2, 3, 4, 5, 6, 7, 8, 9, 10, 11, 12, 15, 18, 19, 6, 19, 3, 3, 1, 8, 18, 6, 11, 1, 2, 3, 6, 12, 13, 15, 16, 18, 1, 2, 3, 5, 6, 7, 8, 10, 11, 12, 15, 16, 17, 1, 2, 3, 4, 5, 7, 8, 9, 10, 12, 15, 16, 1, 4, 13, 7, 15, 3, 7, 8, 14, 4, 5, 9, 12, 13, 7, 9, 19, 13, 1, 2, 3, 4, 5, 6, 8, 10, 11, 12, 13, 16, 2, 6, 8, 9, 1, 2, 3, 4, 6, 7, 8, 9, 11, 7, 1, 3, 4, 5, 6, 7, 11, 13, 17, 2, 4, 12, 13, 14, 1, 2, 3, 6, 10, 11, 13, 15, 1, 2, 3, 4, 5, 6, 7, 8, 9, 11, 13, 14, 18, 2, 1, 13, 1, 2, 4, 5, 6, 9, 12, 14, 5, 6, 7, 9, 11, 17, 16, 6, 19, 1, 2, 3, 4, 5, 6, 9, 10, 11, 2, 4, 5, 4, 5, 6, 18, 6, 16, 11, 12, 16, 3, 1, 2, 3, 4, 5, 8, 9, 13, 14, 15, 1, 2, 3, 6, 14, 14, 18, 6, 18, 1, 2, 3, 5, 6, 7, 8, 9, 11, 14, 15, 1, 2, 3, 4, 5, 8, 12, 17, 2, 3, 5, 7, 9, 11, 15, 14, 18, 13, 4, 12, 19, 4, 15, 11, 14, 7, 6, 3, 6, 8, 10, 15, 17], \"Freq\": [0.03563749793501448, 0.041577080924183565, 0.06533541288085988, 0.041577080924183565, 0.06533541288085988, 0.2375833195667632, 0.20194582163174873, 0.1544291577183961, 0.05345624690252172, 0.10097291081587437, 0.8672808701591787, 0.04163267169523447, 0.235918472939662, 0.04163267169523447, 0.09714290062221376, 0.11102045785395859, 0.37469404525711025, 0.08326534339046894, 0.09023471695801623, 0.012890673851145175, 0.6703150402595491, 0.2062507816183228, 0.9236366912038424, 0.07976808719399091, 0.10635744959198788, 0.07976808719399091, 0.23930426158197274, 0.39884043596995455, 0.07976808719399091, 0.9083322268204524, 0.26919914686353624, 0.09041803406103506, 0.07397839150448324, 0.0020549553195689787, 0.5055190086139688, 0.008219821278275915, 0.02054955319568979, 0.024659463834827745, 0.0041099106391379574, 0.0162378737582467, 0.09742724254948021, 0.1299029900659736, 0.2760438538901939, 0.48713621274740104, 0.9239897582159929, 0.9486321539754968, 0.03588785388739831, 0.1256074886058941, 0.7177570777479663, 0.10766356166219494, 0.06936265297478926, 0.013872530594957851, 0.009248353729971901, 0.14334948281456447, 0.032369238054901654, 0.08785936043473307, 0.06936265297478926, 0.3560616186039182, 0.09710771416470497, 0.12022859848963471, 0.05324510287034778, 0.07986765430552167, 0.7188088887496951, 0.10649020574069556, 0.08068132517799223, 0.8068132517799222, 0.043273450798544257, 0.9520159175679737, 0.1493820869609589, 0.18672760870119862, 0.5975283478438356, 0.056018282610359585, 0.1771176799782967, 0.11807845331886445, 0.265676519967445, 0.08855883998914835, 0.32471574662687724, 0.8860156380131256, 0.8615057680806801, 0.10603147914839141, 0.013253934893548926, 0.8628033505012722, 0.6800950302569526, 0.8736994140530964, 0.0728082845044247, 0.96612585729198, 0.9208718555019961, 0.8845363017353115, 0.0641341737229336, 0.8337442583981369, 0.8793235343784829, 0.8781978562874886, 0.867253234056303, 0.8312860316492447, 0.897426003582295, 0.7259218232976459, 0.8148593954580332, 0.9069526805010228, 0.30052614632579894, 0.3668186786035487, 0.022097510759249924, 0.13700456670734953, 0.1723605839221494, 0.8379566193200806, 0.13965943655334676, 0.6719246785232218, 0.13998430802567122, 0.13998430802567122, 0.9613796274072663, 0.6035820845534887, 0.8370261388715614, 0.109177322461508, 0.03639244082050267, 0.9035146597704664, 0.9104283276701547, 0.9284601477989206, 0.9046367035274602, 0.8270711983264459, 0.08741402909141298, 0.033620780419774225, 0.047069092587683915, 0.8193652646533681, 0.8994599996837654, 0.8877435140723914, 0.06406402107014243, 0.14948271583033235, 0.7687682528417091, 0.8940933357201719, 0.05960622238134479, 0.038384263320654304, 0.10386330075000576, 0.10499224967120148, 0.05531849713859002, 0.06999483311413432, 0.09370276045924433, 0.11628173888315863, 0.058705343902177166, 0.11741068780435433, 0.027094774108697154, 0.04967375253261145, 0.05644744605978574, 0.05757639498098145, 0.0011289489211957148, 0.016934233817935723, 0.005644744605978574, 0.020321080581522866, 0.005644744605978574, 0.03920772739654741, 0.013069242465515803, 0.026138484931031606, 0.333265682870653, 0.5227696986206322, 0.0065346212327579015, 0.04574234862930531, 0.0065346212327579015, 0.016690840932988643, 0.016690840932988643, 0.517416068922648, 0.08345420466494323, 0.11683588653092052, 0.2169809321288524, 0.016690840932988643, 0.03790364433435853, 0.644361953684095, 0.22742186600615116, 0.897210156141577, 0.7330515154212328, 0.008716917008938072, 0.1089614626117259, 0.09152762859384975, 0.13511221363854012, 0.21356446671898277, 0.20048909120557565, 0.13511221363854012, 0.10460300410725686, 0.1792444231736271, 0.1194962821157514, 0.6572295516366328, 0.45007937263200576, 0.25004409590666987, 0.28338330869422584, 0.012288959929637846, 0.22120127873348122, 0.03686687978891354, 0.2089123188038434, 0.024577919859275692, 0.319512958170584, 0.09831167943710277, 0.08602271950746493, 0.832573990707439, 0.8787303606792293, 0.12006653020197003, 0.7804324463128052, 0.09004989765147753, 0.9238317342772621, 0.16201000044507344, 0.24301500066761017, 0.48603000133522034, 0.8745898062661843, 0.2919773690933665, 0.08110482474815738, 0.616396668085996, 0.98016510683387, 0.8854321922069166, 0.9701766930535033, 0.07999977280485429, 0.7599978416461157, 0.09999971600606786, 0.019999943201213573, 0.7009103550779995, 0.1001300507254285, 0.200260101450857, 0.18250770673047498, 0.7300308269218999, 0.9678551262643726, 0.16137381521808702, 0.15464990625066674, 0.2958519945664929, 0.020171726902260878, 0.043705408288231905, 0.023533681385971027, 0.2588704952456813, 0.040343453804521756, 0.8004836949709571, 0.08894263277455079, 0.9413302436421013, 0.15599341960056312, 0.23110136237120463, 0.040442738414960815, 0.08666301088920174, 0.3639846457346473, 0.0057775340592801155, 0.0346652043556807, 0.040442738414960815, 0.040442738414960815, 0.9363020367800469, 0.9333261860473575, 0.7961278777742498, 0.13268797962904164, 0.13571891904673844, 0.7992336343863485, 0.060319519576328195, 0.9151210677018717, 0.8265649242151756, 0.9111492653796587, 0.09875110678196705, 0.1316681423759561, 0.03291703559398902, 0.6912577474737694, 0.9224299224391552, 0.08444422121063398, 0.8866643227116568, 0.2871787810252736, 0.5743575620505472, 0.8382353136711365, 0.2893605798400807, 0.44517012283089336, 0.17806804913235733, 0.08903402456617866, 0.2734256113176411, 0.6835640282941027, 0.06625964566001918, 0.3180462991680921, 0.2517866535080729, 0.06625964566001918, 0.03975578739601151, 0.2517866535080729, 0.8695647298783219, 0.922631996696638, 0.05427194618222142, 0.5535738510586585, 0.09768950312799855, 0.010854389236444285, 0.2605053416746628, 0.02170877847288857, 0.040674063982805576, 0.569436895759278, 0.3497969502521279, 0.024404438389683345, 0.01626962559312223, 0.02763541901091178, 0.37653258402367296, 0.5492539528418716, 0.04490755589273164, 0.11831093824336103, 0.03943697941445368, 0.7887395882890735, 0.8331669002123436, 0.12655028582380226, 0.8225768578547148, 0.9488964745536819, 0.02965301482980256, 0.789020864699722, 0.8268958322404606, 0.8402969728484134, 0.05601979818989423, 0.08402969728484135, 0.976481625676493, 0.926380513000213, 0.9561820034831081, 0.04804682899319958, 0.04804682899319958, 0.20092310306247096, 0.008735787089672651, 0.3669030577662513, 0.06115050962770856, 0.16597995470378035, 0.08298997735189018, 0.013103680634508976, 0.08566804003222471, 0.021417010008056177, 0.23558711008861793, 0.010708505004028089, 0.5247167451973763, 0.10708505004028089, 0.2592410748323296, 0.6913095328862122, 0.15039426821153765, 0.7304864455988971, 0.10742447729395546, 0.8871916467213455, 0.9077035432642226, 0.1156027236515415, 0.8670204273865613, 0.9736502743411086, 0.01053164898890216, 0.16324055932798348, 0.08425319191121727, 0.5529115719173634, 0.10005066539457051, 0.08425319191121727, 0.018262844875147406, 0.07305137950058962, 0.10957706925088444, 0.20089129362662148, 0.5296225013792748, 0.07305137950058962, 0.018262844875147406, 0.9771834932531884, 0.10158835559841305, 0.482544689092462, 0.05079417779920652, 0.04232848149933877, 0.25397088899603265, 0.04232848149933877, 0.016931392599735508, 0.9065778013634797, 0.8697513764837949, 0.07364396412723018, 0.2577538744453056, 0.027616486547711316, 0.37742531615205466, 0.03682198206361509, 0.07364396412723018, 0.05523297309542263, 0.009205495515903772, 0.09205495515903772, 0.0708004304707046, 0.9204055961191597, 0.9285369628928303, 0.04570473769572261, 0.9140947539144522, 0.8972834922719723, 0.943603801476574, 0.026907420322128308, 0.044845700536880514, 0.026907420322128308, 0.026907420322128308, 0.8700065904154819, 0.01595905845200458, 0.021278744602672775, 0.5186693996901488, 0.045217332280679645, 0.09841419378736158, 0.19416854449938906, 0.010639372301336388, 0.09309450763669339, 0.018710359700668592, 0.09978858507023249, 0.10602537163712202, 0.17463002387290685, 0.0623678656688953, 0.305602541777587, 0.018710359700668592, 0.2058139567073545, 0.10890165203347586, 0.5893501168870459, 0.038435877188285596, 0.26264516078661826, 0.8324356767897234, 0.0640335135992095, 0.5027964316820412, 0.06558214326287495, 0.03279107163143748, 0.04372142884191663, 0.2623285730514998, 0.021860714420958317, 0.05465178605239579, 0.9080827307058027, 0.25301098761792323, 0.1807221340128023, 0.5421664020384069, 0.3331233752228461, 0.34898639309060064, 0.12690414294203659, 0.17449319654530032, 0.7751357571707874, 0.19378393929269686, 0.8880528295754797, 0.8703888397077849, 0.1044466607649342, 0.12224351636016084, 0.8557046145211259, 0.17367745469874635, 0.7815485461443585, 0.08861502074023221, 0.05733913106720908, 0.005212648278837189, 0.05733913106720908, 0.07297707590372064, 0.14595415180744128, 0.026063241394185945, 0.2397818208265107, 0.16680474492279004, 0.1407415035286041, 0.1737911822523232, 0.108619488907702, 0.0271548722269255, 0.4181850322946527, 0.0325858466723106, 0.1031885144623169, 0.0271548722269255, 0.0923265655715467, 0.0108619488907702, 0.7891878942450757, 0.14381637008998327, 0.1581980070989816, 0.2948235586844657, 0.1797704626124791, 0.014381637008998327, 0.07190818504499163, 0.12943473308098494, 0.864627306832881, 0.056895785922030456, 0.5120620732982741, 0.028447892961015228, 0.028447892961015228, 0.36508129299969544, 0.14016682517382006, 0.10965024850844195, 0.09573827973451957, 0.11174452337763456, 0.08721158919566392, 0.07808653440846752, 0.0397912225146597, 0.0556478750956895, 0.06836311537293038, 0.030965349851633673, 0.049813823674367215, 0.03620103702461521, 0.04233427057010787, 0.020643566567755782, 0.013911968773922374, 0.009723419035537143, 0.00658200673174822, 0.001645501682937055, 0.001645501682937055, 0.2103886401052342, 0.02836700765463832, 0.06146184991838303, 0.00709175191365958, 0.0023639173045531935, 0.023639173045531932, 0.016547421131872353, 0.11583194792310647, 0.11346803061855328, 0.40422985907859604, 0.016547421131872353, 0.9880113909571073, 0.9601196073852295, 0.0052435230944726284, 0.317233147215594, 0.010487046188945257, 0.020974092377890514, 0.19663211604272357, 0.05767875403919891, 0.31198962412112136, 0.06816580022814417, 0.007865284641708943, 0.9271765924056766, 0.14499878926725215, 0.2729388974442394, 0.03411736218052992, 0.02558802163539744, 0.5202897732530812, 0.05418572367378107, 0.013546430918445268, 0.02612525962843016, 0.06386174575838484, 0.07160256342606784, 0.20900207702744128, 0.0812785855106716, 0.003870408833841505, 0.26318780070122233, 0.04934771263147919, 0.003870408833841505, 0.1103066517644829, 0.04741250821455844, 0.0019352044169207525, 0.7077854616964253, 0.8903231482261015, 0.9038186634682037, 0.8895305972367302, 0.23909853522998822, 0.024110776661847553, 0.11050772636680128, 0.07836002415100454, 0.31143086521553087, 0.08036925553949184, 0.02009231388487296, 0.05625847887764429, 0.052240016100669695, 0.008036925553949184, 0.016073851107898367, 0.031089605561777253, 0.01036320185392575, 0.22799044078636652, 0.7254241297748025, 0.9299261082142946, 0.8374245861227331, 0.15609837992239073, 0.06504099163432947, 0.2081311732298543, 0.09105738828806126, 0.4682951397671722, 0.6835087193550775, 0.26580894641586345, 0.8204940929627226, 0.9444804622581041, 0.8674212349188094, 0.9349206738268633, 0.9453304176753353, 0.976140748508938, 0.9615773145944311, 0.8992013141424549, 0.18079615091013804, 0.8135826790956211, 0.5864598723632092, 0.11443119460745545, 0.15734289258525125, 0.1287350939333874, 0.9796727816956168, 0.13002453022555802, 0.043341510075186, 0.06501226511277901, 0.628451896090197, 0.06501226511277901, 0.043341510075186, 0.9501384082711574, 0.9259369020939141, 0.9615618039048781, 0.8890233824596445, 0.7599557151525199, 0.009720701133340809, 0.05832420680004486, 0.02916210340002243, 0.009720701133340809, 0.038882804533363235, 0.16525191926679378, 0.0874863102000673, 0.13608981586677132, 0.23329682720017944, 0.23329682720017944, 0.8935034635800622, 0.04698653266382851, 0.28191919598297105, 0.6108249246297707, 0.8760809661885748, 0.07964372419896135, 0.625811410965106, 0.08424384378376426, 0.1564528527412765, 0.13238318308877242, 0.08449107010486046, 0.17480911056178025, 0.0903180404569198, 0.12236637739324617, 0.026221366584267037, 0.15732819950560223, 0.04370227764044506, 0.13693380327339452, 0.020394396232207696, 0.14567425880148355, 0.8189127781541627, 0.0425352299049523, 0.42535229904952304, 0.01701409196198092, 0.01701409196198092, 0.4763945749354658, 0.01701409196198092, 0.9160517638911447, 0.9641021299459551, 0.8662924421241175, 0.9710901869747398, 0.6265426602834623, 0.10761228897998398, 0.26066087775151675, 0.05049753918571738, 0.10099507837143476, 0.2777364655214456, 0.5554729310428912, 0.17083205270193855, 0.1423600439182821, 0.09965203074279748, 0.5124961581058156, 0.02847200878365642, 0.02847200878365642, 0.5670675479715073, 0.06014352781515986, 0.08591932545022837, 0.08591932545022837, 0.10310319054027405, 0.07732739290520553, 0.017183865090045675, 0.9558755012834182, 0.17068374844008793, 0.8192819925124222, 0.8316971118704453, 0.8099176377388265, 0.035424740395653014, 0.14169896158261205, 0.07084948079130603, 0.1328427764836988, 0.04428092549456626, 0.01328427764836988, 0.0664213882418494, 0.035424740395653014, 0.1505551466815253, 0.22583272002228794, 0.017712370197826507, 0.07084948079130603, 0.9462427161047061, 0.9663469499237148, 0.8665050464701252, 0.31781755576423276, 0.1917864560646232, 0.19726606909504102, 0.09863303454752051, 0.016438839091253418, 0.027398065152089028, 0.005479613030417806, 0.054796130304178056, 0.005479613030417806, 0.021918452121671223, 0.060275743334595865, 0.24485866973992845, 0.054413037719984104, 0.6529564526398092, 0.027206518859992052, 0.7108768201749667, 0.25850066188180604, 0.0757670379719903, 0.5871945442829248, 0.3220099113809588, 0.9509231476623381, 0.8196550408409279, 0.8062417334239406, 0.8677846953601827, 0.15494784623299293, 0.02582464103883215, 0.5681421028543073, 0.24533408986890545, 0.9231779031417381, 0.9156668885439925, 0.09066630138712885, 0.27199890416138656, 0.5893309590163376, 0.8858119250286002, 0.9381615155494534, 0.04280634472158318, 0.02140317236079159, 0.14982220652554112, 0.1712253788863327, 0.1712253788863327, 0.2140317236079159, 0.08561268944316636, 0.12841903416474953, 0.8198409428710989, 0.8199671228570683, 0.4525636231215824, 0.5172155692818085, 0.08034875849535514, 0.08034875849535514, 0.7231388264581963, 0.08034875849535514, 0.895098375263787, 0.04262373215541843, 0.9632933564044189, 0.9757040078859154, 0.8123807933046021, 0.12575960032893882, 0.314399000822347, 0.012575960032893881, 0.3269749608552409, 0.22636728059208985, 0.9771171250823327, 0.6299630239756655, 0.8872789277280217, 0.8853052484039291, 0.10294247074464292, 0.8228517009679217, 0.17125339969383144, 0.06638797758158464, 0.16228172297720692, 0.02950576781403762, 0.6196211240947901, 0.04425865172105643, 0.02950576781403762, 0.036882209767547025, 0.007376441953509405, 0.9488752901707066, 0.914937355217543, 0.08317612320159483, 0.8630866203627608, 0.7330563099092422, 0.2653181029994608, 0.15739209499968013, 0.18887051399961616, 0.15739209499968013, 0.04946608699989947, 0.013490750999972583, 0.04496916999990861, 0.013490750999972583, 0.031478418999936024, 0.031478418999936024, 0.017987667999963444, 0.026981501999945166, 0.8773452316466854, 0.0934485339648711, 0.8721863170054636, 0.8582558226942772, 0.03178725269238064, 0.01589362634619032, 0.06357450538476128, 0.03178725269238064, 0.11917057283206024, 0.8341940098244216, 0.9157198767110748, 0.8252348506563139, 0.11253202508949735, 0.1862607636569327, 0.7450430546277308, 0.27828783020208514, 0.12368348008981561, 0.18552522013472342, 0.37105044026944684, 0.8364977415935672, 0.8564443483669103, 0.21959505571116403, 0.028033411367382643, 0.4765679932455049, 0.14016705683691322, 0.018688940911588427, 0.08877246933004503, 0.028033411367382643, 0.8232087095547558, 0.017895841512059908, 0.14316673209647926, 0.7802278185140994, 0.23131636572123507, 0.16050523335759168, 0.014162226472728677, 0.03304519510303358, 0.042486679418186034, 0.03304519510303358, 0.17466745983032037, 0.13690152256971055, 0.02360371078788113, 0.037765937260609804, 0.0047207421575762255, 0.042486679418186034, 0.06609039020606716, 0.15834038194179448, 0.17342041831720345, 0.15080036375408998, 0.09802023644015848, 0.015080036375408997, 0.19604047288031695, 0.15834038194179448, 0.04524010912622699, 0.8677238133138094, 0.9223796206481664, 0.06405414032278933, 0.08866664397827824, 0.201962911283856, 0.014777773996379705, 0.014777773996379705, 0.01970369866183961, 0.1822592126220164, 0.201962911283856, 0.02955554799275941, 0.004925924665459902, 0.2413703086075352, 0.9474181101599906, 0.23223301651562328, 0.5383583564680358, 0.12667255446306724, 0.09500441584730043, 0.54075704105463, 0.046021875834436586, 0.046021875834436586, 0.11505468958609147, 0.16107656542052806, 0.08053828271026403, 0.9653183058699982, 0.3649668088155575, 0.012165560293851917, 0.03649668088155575, 0.09732448235081534, 0.15815228382007493, 0.0729933617631115, 0.12165560293851917, 0.12165560293851917, 0.13560312189750834, 0.0419723948730383, 0.016143228797322422, 0.019371874556786906, 0.2615203065166232, 0.006457291518928969, 0.012914583037857938, 0.025829166075715875, 0.1678895794921532, 0.306721347149126, 0.17455884010233153, 0.03580694155945262, 0.7788009789180944, 0.008951735389863155, 0.04126345041940113, 0.28884415293580795, 0.04126345041940113, 0.5570565806619153, 0.04126345041940113, 0.9751154709970282, 0.7452411896387242, 0.020141653774019573, 0.040283307548039146, 0.18127488396617614, 0.7892731082438526, 0.20501927358872046, 0.1793918643901304, 0.5894304115675714, 0.8374852697430981, 0.3216834406602949, 0.10424926317694742, 0.08637796091804215, 0.12212056543585269, 0.05361390677671581, 0.1489275188242106, 0.026806953388357906, 0.020849852635389483, 0.01787130225890527, 0.06254955790616845, 0.03276405414132633, 0.8684659424198433, 0.6397261112086913, 0.08644947448766098, 0.08644947448766098, 0.17289894897532196, 0.030600626649867662, 0.21420438654907364, 0.7344150395968239, 0.7995129534019545, 0.6312986828013454, 0.7609043932509961, 0.8600524060721063, 0.8719268121208678, 0.15152812910768831, 0.7576406455384416, 0.8840184118231155, 0.1469292483113142, 0.8325990737641138, 0.8970841075508492, 0.15968186117175892, 0.7984093058587947, 0.22839513319759247, 0.0743612061573557, 0.1487224123147114, 0.143410897589186, 0.3983636044144055, 0.23656754241108566, 0.0837843379372595, 0.07392735700346427, 0.11335528073864522, 0.1626401854076214, 0.04928490466897618, 0.054213395135873796, 0.1626401854076214, 0.04928490466897618, 0.009856980933795237, 0.9366031232977701, 0.34343458969915897, 0.06072928720290006, 0.027223473573713818, 0.12145857440580012, 0.26385828232984165, 0.0104705667591207, 0.10470566759120699, 0.027223473573713818, 0.01256468011094484, 0.00628234005547242, 0.00837645340729656, 0.00628234005547242, 0.00628234005547242, 0.9068942375911956, 0.911213019530127, 0.9618003055409271, 0.13821335527697273, 0.8292801316618363, 0.9393209438330428, 0.011774839266376201, 0.176622588995643, 0.04121193743231671, 0.04121193743231671, 0.25315904422708835, 0.176622588995643, 0.0353245177991286, 0.25315904422708835, 0.0058874196331881005, 0.03635704037827455, 0.5089985652958436, 0.31994195532881603, 0.07998548883220401, 0.03635704037827455, 0.0072714080756549095, 0.9320352534406416, 0.9539143249488017, 0.10273553236922232, 0.008218842589537785, 0.11095437495876011, 0.1643768517907557, 0.09451668977968453, 0.12328263884306678, 0.10684495366399122, 0.13150148143260457, 0.15615800920121792, 0.31074897363551107, 0.04272798387488277, 0.031074897363551107, 0.1359526759655361, 0.4195111144079399, 0.019421810852219442, 0.02330617302266333, 0.007768724340887777, 0.0038843621704438883, 0.8555701143790032, 0.8869045697775255, 0.8992652348622372, 0.16486672738228275, 0.14547064180789654, 0.03879217114877241, 0.16486672738228275, 0.3491295403389517, 0.019396085574386206, 0.10667847065912413, 0.019396085574386206, 0.5799587902314282, 0.006355291724584536, 0.012710583449169073, 0.1398164179408598, 0.1398164179408598, 0.3876727951996567, 0.012710583449169073, 0.10803995931793711, 0.06355291724584536, 0.08261879241959898, 0.03177645862292268, 0.959655839207339, 0.29039109991541895, 0.05807821998308379, 0.6388604198139217, 0.02839167692447265, 0.14195838462236324, 0.7097919231118163, 0.0567833538489453, 0.04258751538670898, 0.4838926271431244, 0.4838926271431244, 0.7326976020008071, 0.047715131552570594, 0.9383975872005551, 0.9318968128022087, 0.8731601304456161, 0.9453033422919235, 0.8526965058098381, 0.07105804215081984, 0.9129476385116305, 0.6549391580011489, 0.03969328230309993, 0.0595399234546499, 0.1786197703639497, 0.0595399234546499, 0.8675908115580244, 0.3237781470014911, 0.0077090035000355024, 0.2312701050010651, 0.20814309450095858, 0.0077090035000355024, 0.015418007000071005, 0.06938103150031953, 0.015418007000071005, 0.10792604900049704, 0.8930085918130586, 0.13934271903128523, 0.08170008996193305, 0.07907997045878068, 0.05907178516198075, 0.07979454850509496, 0.08670213628613303, 0.08170008996193305, 0.07193418999563785, 0.05621347297672361, 0.051687812016733156, 0.05573708761251409, 0.04763853642095221, 0.05764262906935218, 0.013576982879971382, 0.014291560926285665, 0.007622165827352354, 0.013815175562076143, 0.0019055414568380886, 0.0009527707284190443, 0.0531444438014037, 0.16702539480441161, 0.16449470700434476, 0.20498571180541425, 0.16196401920427794, 0.0708592584018716, 0.030368253600802114, 0.11135026320294109, 0.010122751200267371, 0.0075920634002005286, 0.0075920634002005286, 0.012653439000334214, 0.8762744295400526, 0.9475485476126178, 0.23762439371749128, 0.11881219685874564, 0.5940609842937282, 0.780264640921319, 0.15378286992508156, 0.054922453544671984, 0.10984490708934397, 0.010984490708934397, 0.4174106469395071, 0.14279837921614716, 0.09886041638040957, 0.823236972175912, 0.24354295124218417, 0.12177147562109208, 0.5479716402949143, 0.983794038923367, 0.7892647013890419, 0.43379716088178094, 0.5358670810892587, 0.9404076742433864, 0.0640127314791548, 0.053343942899295664, 0.8748406635484489, 0.20853327406102884, 0.39720623630672164, 0.06951109135367628, 0.18867296224569277, 0.12909202679968454, 0.9141891422852675, 0.9533305202213838, 0.0329427799328974, 0.2833079074229176, 0.0988283397986922, 0.07906267183895375, 0.2569536834765997, 0.13835967571816907, 0.11200545177185116, 0.7808932294287617, 0.02424249123364516, 0.1333337017850484, 0.0606062280841129, 0.07272747370093548, 0.17575806144392742, 0.1333337017850484, 0.20000055267757258, 0.1272730789766371, 0.0666668508925242, 0.9150822416335163, 0.9352257231162813, 0.15623171847934325, 0.02297525271755048, 0.03676040434808076, 0.03446287907632572, 0.02067772744579543, 0.006892575815265143, 0.027570303261060573, 0.027570303261060573, 0.4158520741876637, 0.006892575815265143, 0.03905792961983581, 0.17461192065338363, 0.004595050543510095, 0.00919010108702019, 0.01148762635877524, 0.0022975252717550476, 0.9001515675467147, 0.9565719472373801, 0.139162731363397, 0.052186024261273875, 0.03479068284084925, 0.15655807278382164, 0.4696742183514649, 0.0695813656816985, 0.08697670710212313, 0.03744561329841104, 0.029124365898764142, 0.04992748439788138, 0.17474619539258485, 0.11233683989523312, 0.12065808729488, 0.029124365898764142, 0.09153372139611587, 0.23715555088993656, 0.012481871099470345, 0.10817621619540967, 0.10802087921447434, 0.8641670337157947, 0.8438387193975317, 0.08650793098359175, 0.7785713788523257, 0.8931949882899227, 0.8466354790134756, 0.06512580607795966, 0.926041333736437, 0.9633146329207244, 0.9147984079930895, 0.8770371795334564, 0.8376790670063572, 0.41560458121347216, 0.011959844063697041, 0.059799220318485204, 0.12557836266881894, 0.08072894742995503, 0.0029899610159242604, 0.16743781689175857, 0.01793976609554556, 0.05082933727071243, 0.059799220318485204, 0.005979922031848521, 0.0029899610159242604, 0.07869054123752711, 0.8655959536127983, 0.24302777189616784, 0.6480740583897808, 0.9166137179917474, 0.9335431658608162, 0.03734172663443265, 0.8198409574035288, 0.9747144816713542, 0.8333120301799544, 0.19420791000436474, 0.08631462666860655, 0.712095670016004, 0.6727961797649394, 0.10238202735553426, 0.02925200781586693, 0.014626003907933465, 0.043878011723800396, 0.10238202735553426, 0.043878011723800396, 0.8975168250079857, 0.7848228905212025, 0.9605743583048243, 0.6104992508047465, 0.09215083031015041, 0.08063197652138161, 0.18430166062030082, 0.023037707577537602, 0.4065791800690073, 0.5692108520966103, 0.5799589297576724, 0.057916046745249326, 0.9266567479239892, 0.8302222301985849, 0.9821651648842555, 0.8877435414612443, 0.10482761909750178, 0.8857933813738901, 0.9740232250771437, 0.9335760196345779, 0.8887756112399933, 0.911912258929394, 0.965427920719498, 0.007829135879273062, 0.25053234813673797, 0.7281096367723948, 0.058461817506736846, 0.12179545313903509, 0.024359090627807018, 0.038974545004491226, 0.034102726878929825, 0.2582063606547544, 0.29230908753368423, 0.11692363501347369, 0.048718181255614036, 0.88981052671268, 0.13017242635375176, 0.7376437493379265, 0.08678161756916783, 0.06988868008437683, 0.5890617321397477, 0.059904582929465856, 0.19968194309821952, 0.04992048577455488, 0.019968194309821954, 0.8482468386112173, 0.8547394405528215, 0.8842197915568178, 0.8719268235067144, 0.9304349311141863, 0.8783545346965634, 0.08933186380815236, 0.245662625472419, 0.6699889785611427, 0.057559012031634424, 0.3453540721898065, 0.18418883850123016, 0.18418883850123016, 0.21872424572021082, 0.976022138665284, 0.8845291980236917, 0.7735197203572557, 0.8667555068631051, 0.052368816312624994, 0.13279235564987052, 0.08416416907386161, 0.22443778419696428, 0.08790479881047768, 0.22443778419696428, 0.05985007578585714, 0.044887556839392856, 0.0018703148683080356, 0.08603448394216964, 0.08083986306069965, 0.3233594522427986, 0.5254591098945478, 0.9008913416326682, 0.7502518363972414, 0.12504197273287357, 0.27090187415553113, 0.06020041647900691, 0.030100208239503455, 0.331102290634538, 0.30100208239503456, 0.38042820208349604, 0.5706423031252441, 0.009489656891891003, 0.7781518651350623, 0.09489656891891003, 0.11387588270269204, 0.9109964437905355, 0.6038123377287458, 0.12980322788836868, 0.20347533020338873, 0.2245245022933945, 0.0947212744050258, 0.007016390696668578, 0.11226225114669725, 0.07016390696668577, 0.021049172090005733, 0.02455736743834002, 0.08068849301168864, 0.02806556278667431, 0.20511917282812347, 0.11721095590178485, 0.6446602574598166, 0.9561278379328845, 0.6644139104458614, 0.03407250822799289, 0.02839375685666074, 0.05678751371332148, 0.07950251919865008, 0.09653877331264653, 0.02839375685666074, 0.8964240127777239, 0.8702441454291417, 0.11603255272388556, 0.8672911390699656, 0.936650031425972, 0.8897604752350429, 0.19230479558519986, 0.029585353166953824, 0.07396338291738455, 0.007396338291738456, 0.5917070633390764, 0.014792676583476912, 0.07396338291738455, 0.007396338291738456, 0.2377209989808393, 0.20493189567313733, 0.07377548244232944, 0.024591827480776478, 0.31969375725009425, 0.05738093078847845, 0.03278910330770197, 0.008197275826925492, 0.040986379134627465, 0.27392126789682225, 0.1460913428783052, 0.12782992501851706, 0.1095685071587289, 0.3287055214761867, 0.9950577878754989, 0.8593310518686265, 0.9588145928018328, 0.1692472138271391, 0.3384944276542782, 0.3384944276542782, 0.8038089530484982, 0.17862421178855514, 0.05990239323011059, 0.08713075378925177, 0.09257642590107999, 0.049011049006454116, 0.016337016335484705, 0.6861546860903576, 0.817888841447858, 0.07951697069631952, 0.09087653793865089, 0.9189176387527185, 0.8240329099163409, 0.6177851429178653, 0.8874375722871364, 0.9075165467498272, 0.4048810546932142, 0.06228939302972526, 0.4671704477229395, 0.03114469651486263, 0.03114469651486263, 0.025608905227134875, 0.019206678920351158, 0.5633959149969673, 0.019206678920351158, 0.24968682596456504, 0.038413357840702315, 0.006402226306783719, 0.07682671568140463, 0.6444546980334528, 0.13333545476554196, 0.04444515158851398, 0.15555803055979894, 0.25805853649062194, 0.6881560973083252, 0.03586691084690857, 0.6097374843974457, 0.07173382169381715, 0.17933455423454286, 0.08966727711727143, 0.09069236212607147, 0.14016092328574684, 0.14016092328574684, 0.09069236212607147, 0.31330088734461053, 0.024734280579837675, 0.1319161630924676, 0.05771332135295457, 0.9380277713601187, 0.9162560744827773, 0.10432947644455788, 0.20865895288911576, 0.6607533508155332, 0.08138946521625016, 0.6673936147732513, 0.24416839564875048, 0.8399812328113742, 0.9247661366810689, 0.8389645736104627, 0.911501742106907, 0.6298464493286788, 0.3675685834348947, 0.07351371668697894, 0.432914109378876, 0.0408409537149883, 0.02450457222899298, 0.01633638148599532, 0.0408409537149883, 0.8316970866225074, 0.16812941382713814, 0.7565823622221216, 0.9469881886341431, 0.9340766914024862, 0.11791712391550806, 0.020808904220383777, 0.027745205627178367, 0.0901719182883297, 0.5306270576197862, 0.06242671266115132, 0.01734075351698648, 0.0901719182883297, 0.041617808440767554, 0.5799589429199002, 0.9587935398198552, 0.8959333507022458, 0.7568396580362591, 0.9647510154768411, 0.9101307378370677, 0.18859838179735033, 0.13471312985525025, 0.08082787791315015, 0.39066807658022573, 0.18859838179735033, 0.5800190227266134, 0.9098217832249154, 0.04788535701183765, 0.8670066188904091, 0.2022179268916994, 0.009945143945493413, 0.12431429931866766, 0.3447649901104383, 0.2734914585010689, 0.0016575239909155687, 0.0016575239909155687, 0.006630095963662275, 0.019890287890986826, 0.016575239909155687, 0.8437238249364835, 0.8817715884624281, 0.09797462094026978, 0.021234619659230063, 0.042469239318460125, 0.12740771795538036, 0.8069155470507423, 0.9586714511301961, 0.9543625854858024, 0.9251160605971817, 0.9394989406900377, 0.8790170108065272, 0.6950853053000344, 0.03866374447290166, 0.8554353464629492, 0.08216045700491603, 0.004832968059112708, 0.01933187223645083, 0.13462496389875045, 0.11218746991562538, 0.15706245788187553, 0.583374843561252, 0.5799588802829179, 0.9403683326400597, 0.9516615943982446, 0.13539304102265104, 0.06769652051132552, 0.45131013674217013, 0.22565506837108507, 0.11282753418554253, 0.031631778622173666, 0.10352218458165928, 0.028756162383794245, 0.1063978008200387, 0.05176109229082964, 0.008626848715138273, 0.043134243575691365, 0.23867614778549223, 0.12652711448869466, 0.1437808119189712, 0.037383011098932516, 0.048885476052450215, 0.02012931366865597, 0.005751232476758849, 0.011502464953517698, 0.38294586187477175, 0.37558151837718, 0.10310080896628471, 0.044186060985550585, 0.03682171748795882, 0.051550404483142354, 0.10541891791269492, 0.021083783582538984, 0.6325135074761695, 0.18975405224285086, 0.04216756716507797, 0.8718588185840255, 0.07152692994454238, 0.011921154990757065, 0.08344808493529945, 0.07152692994454238, 0.05960577495378532, 0.34571349473195484, 0.08344808493529945, 0.03576346497227119, 0.2384230998151413, 0.4312820029361341, 0.13657263426310914, 0.40252986940705854, 0.021564100146806705, 0.14076928531465438, 0.14076928531465438, 0.1742857818181435, 0.3217583664334957, 0.04692309510488479, 0.16758248251744567, 0.006703299300697827, 0.8098877425913711, 0.10123596782392139, 0.834568606022855, 0.8599788672340336, 0.09555320747044818, 0.9252523891040909, 0.92376295784933, 0.8719559021568821, 0.813967972610322, 0.06405803614250408, 0.8968125059950571, 0.9308593187189992, 0.9795068704834221, 0.8920469320408443, 0.30776102466771627, 0.6155220493354325, 0.2151277904464559, 0.73143448751795, 0.9756977224675802, 0.9066953835730274, 0.9143989494197953, 0.8601544628391473, 0.9742569886266988, 0.3357023122612322, 0.5035534683918482, 0.9216685250227974, 0.7977704242516421, 0.1259637511976277, 0.0419879170658759, 0.3438816014247743, 0.13100251482848546, 0.02865680011873119, 0.06550125741424273, 0.1391901720052658, 0.004093828588390171, 0.07368891459102307, 0.1637531435356068, 0.05321977164907221, 0.7599313636355296, 0.8077780564009631, 0.7264456014447375, 0.9162561613880656, 0.33541995343036296, 0.05409999248876821, 0.0757399894842755, 0.2055799714573192, 0.04327999399101457, 0.2488599654483338, 0.010819998497753643, 0.021639996995507286, 0.9272829873362699, 0.9364076924331238, 0.09294047854567467, 0.23235119636418666, 0.6505833498197227, 0.8606277084079622, 0.1969502224038425, 0.7484108451346014, 0.015658353964368897, 0.41233665439504763, 0.005219451321456299, 0.04175561057165039, 0.27663092003718387, 0.005219451321456299, 0.24009476078698974, 0.789969609505697, 0.9116620960083951, 0.8811418885846728, 0.9109032477187926, 0.579958972804812, 0.1335026653181421, 0.10922945344211625, 0.6189669028386587, 0.09709284750410334, 0.024273211876025835, 0.048569531820307606, 0.9228211045858444, 0.047013511992900346, 0.08579965938704313, 0.012928715798047595, 0.10930641538349331, 0.06346824119041547, 0.12576114458100843, 0.02585743159609519, 0.0540655387918354, 0.06699425458988299, 0.050539525392367876, 0.18100202117266634, 0.10460506418420328, 0.03878614739414279, 0.0047013511992900344, 0.022331418196627664, 0.0023506755996450172, 0.0023506755996450172, 0.9230560087650265, 0.3329954476658656, 0.0391759350195136, 0.5680510577829472, 0.0391759350195136, 0.9236600921027491, 0.9078956867733189, 0.9434682811821065, 0.9422166606440707, 0.8818418663469597, 0.9217308234307304, 0.8423425112192464, 0.2871350955787257, 0.12305789810516815, 0.23244269642087317, 0.0027346199578926257, 0.20783111679983954, 0.01640771974735575, 0.12579251806306077, 0.005469239915785251, 0.9046367112489593, 0.010179432305990742, 0.010179432305990742, 0.19340921381382412, 0.24430637534377783, 0.020358864611981484, 0.04071772922396297, 0.17305034920184262, 0.2952035368737315, 0.07118844205271618, 0.28475376821086473, 0.23390488103035317, 0.06101866461661387, 0.09152799692492081, 0.10169777436102312, 0.030509332308306936, 0.10169777436102312, 0.010169777436102312, 0.203543447503118, 0.17640432116936894, 0.2849608265043652, 0.047493471084060865, 0.1221260685018708, 0.013569563166874533, 0.07463259741780993, 0.06784781583437267, 0.7401253099611144, 0.2220375929883343, 0.8899206937934735, 0.9273498759189642, 0.039595416177060846, 0.07919083235412169, 0.07919083235412169, 0.31676332941648677, 0.22437402500334477, 0.2639694411804056, 0.8921971795897362, 0.0484889771516161, 0.0484889771516161, 0.8720197336508324, 0.014361110209440833, 0.14361110209440833, 0.5313610777493109, 0.28722220418881667, 0.7077734034828861, 0.8191096680715217, 0.8269024296662014, 0.22128912598235181, 0.7191896594426435, 0.9136314243640696, 0.9231535063611773, 0.8268957966428145, 0.9760550850196718, 0.0059358419425434876, 0.985349762462219, 0.10489024898971047, 0.5244512449485523, 0.3496341632990349, 0.03270401367330322, 0.049056020509954834, 0.09811204101990967, 0.294336123059729, 0.008176003418325806, 0.10628804443823549, 0.1553440649481903, 0.10628804443823549, 0.01635200683665161, 0.08176003418325806, 0.049056020509954834, 0.6035821155641877, 0.6796942970738418, 0.22503435456316717, 0.7651168055147685, 0.07237840713674007, 0.7961624785041408, 0.6691436330812006, 0.2927503394730253, 0.010219214318763797, 0.25548035796909496, 0.4803030729818985, 0.051096071593818994, 0.010219214318763797, 0.18394585773774835, 0.8176781628688106, 0.13627969381146843, 0.24256939369027378, 0.7277081810708214, 0.9565042625885205, 0.19469026097117165, 0.04635482404075515, 0.01236128641086804, 0.11434189930052938, 0.03708385923260412, 0.17614833135486957, 0.027812894424453092, 0.0309032160271701, 0.32139344668256903, 0.04017418083532113, 0.13094149026844512, 0.027566629530198974, 0.04134994429529846, 0.33769121174493744, 0.1585081197986441, 0.062024916442947685, 0.13783314765099486, 0.0068916573825497434, 0.08959154597314666, 0.9281136101000306, 0.04854171538314305, 0.04854171538314305, 0.7766674461302888, 0.0970834307662861, 0.8868794568269999, 0.3231070243707663, 0.1884790975496137, 0.0359007804856407, 0.01795039024282035, 0.0718015609712814, 0.17950390242820352, 0.05385117072846105, 0.07628915853198649, 0.008975195121410175, 0.01795039024282035, 0.026925585364230526, 0.8727017032857634, 0.04848342796032019, 0.9287725887219187, 0.04687279352877496, 0.04900337505281018, 0.2961508318408963, 0.06604802724509198, 0.15553245125457144, 0.06604802724509198, 0.11505140229790216, 0.06391744572105676, 0.03195872286052838, 0.08096209791333855, 0.008522326096140901, 0.019175233716317026, 0.5901327971032071, 0.06862009268641943, 0.13724018537283886, 0.1784122409846905, 0.07069236221519189, 0.9190007087974946, 0.10904537030660214, 0.8723629624528171, 0.03725702622435255, 0.819654576935756, 0.11177107867305765, 0.1413563460475346, 0.06425288456706119, 0.16705749987435908, 0.6245380379918347, 0.9191787823481419, 0.9238367238597174, 0.9257700348309175, 0.11686448985035602, 0.1001695627288766, 0.016694927121479432, 0.08903961131455697, 0.23372897970071205, 0.3617234209653877, 0.022259902828639242, 0.0500847813644383, 0.0055649757071598105, 0.24539266622432818, 0.061348166556082044, 0.6748298321169024, 0.7741676596449449, 0.1222369988913071, 0.08149133259420473, 0.2607139476391717, 0.6517848690979292, 0.20097547751804568, 0.14858443423342693, 0.06441521715321977, 0.04637895635031823, 0.09104017357655061, 0.11938286912396731, 0.10821756481740921, 0.024048347737202047, 0.1133707821896668, 0.02490721729924498, 0.014600782554729814, 0.006870956496343442, 0.03349591291967428, 0.003435478248171721, 0.9434735135766713, 0.7256529981160557, 0.6957676897678879, 0.5799588537899837, 0.9053028246412034, 0.13321905617832966, 0.6660952808916483, 0.15986286741399558, 0.02664381123566593, 0.8717335255618631, 0.8636813466970793, 0.07931805856247455, 0.37495809502260696, 0.15142538452836052, 0.11537172154541753, 0.1442146519317719, 0.12979318673859472, 0.9211964490480186, 0.06146945427310661, 0.09732663593241879, 0.03585718165931219, 0.36369427111588076, 0.06146945427310661, 0.24075536256966754, 0.020489818091035537, 0.02561227261379442, 0.06659190879586549, 0.020489818091035537, 0.9150909794606368, 0.9254923199612511, 0.24968494730583923, 0.7351834559560821, 0.6177850550153751, 0.4052867849012251, 0.5767542708209742, 0.895701986003748, 0.96675536523378, 0.9657030140382529, 0.9188939111574917, 0.05331922659386021, 0.026659613296930104, 0.31991535956316125, 0.5865114925324623, 0.9100318846387063, 0.1646226515252753, 0.3292453030505506, 0.4938679545758259, 0.9404552473480794, 0.927286884655589, 0.029037935715994993, 0.04355690357399249, 0.10163277500598247, 0.05807587143198999, 0.10163277500598247, 0.6533535536098873, 0.936463102072678, 0.1296596518556428, 0.08760787287543433, 0.05957335355529534, 0.010512944745052119, 0.5501774416577275, 0.0035043149150173728, 0.08410355796041695, 0.0070086298300347455, 0.028034519320138982, 0.0035043149150173728, 0.03504314915017373, 0.8888548094193098, 0.9682439794995539, 0.9704351087809959, 0.8900080424956965, 0.751915467518697, 0.9363025924245681, 0.14513772864139302, 0.0870826371848358, 0.3773580944676218, 0.3483305487393432, 0.7686168752476685, 0.05536222346146899, 0.8857955753835038, 0.9162560709220787, 0.9158109377768712, 0.8998162488045567, 0.2165870117789568, 0.4548327247358093, 0.06497610353368705, 0.2599044141347482, 0.7690612751825433, 0.922253953968261, 0.0306307360223776, 0.2511720353834963, 0.02450458881790208, 0.18991056333874112, 0.01225229440895104, 0.00612614720447552, 0.1286490912939859, 0.06738761924923072, 0.2879289186103494, 0.03352782773185889, 0.8717235210283312, 0.06705565546371778, 0.2675426823640115, 0.7053397989596668, 0.8752883909724714, 0.08196584582657712, 0.5113107525372191, 0.07025643927992324, 0.011709406546653874, 0.07415957479547454, 0.03903135515551291, 0.007806271031102582, 0.14831914959094908, 0.019515677577756456, 0.03122508412441033, 0.9334950694069531, 0.7588144331850386, 0.18548797255634278, 0.042156357399168815, 0.9058235489097363, 0.04558885346661055, 0.8661882158656004, 0.04558885346661055, 0.04558885346661055, 0.7326035750096327, 0.5799589202793963, 0.7217043654872256, 0.08897725053952096, 0.009886361171057885, 0.1384090563948104, 0.01977272234211577, 0.24761163342074832, 0.7282695100610245, 0.9618985363081137, 0.9535308164865961, 0.8912377486129036, 0.7600819789157812, 0.8810675371070469, 0.8187659054086736, 0.9674173096774439, 0.12628372181886258, 0.6735131830339337, 0.16837829575848343, 0.2822100131254568, 0.620862028876005, 0.05644200262509136, 0.9414032817409725, 0.060562917826827815, 0.12112583565365563, 0.15140729456706956, 0.37851823641767385, 0.2725331302207252, 0.7631708997255552, 0.015263417994511103, 0.030526835989022207, 0.12210734395608883, 0.04579025398353331, 0.9217854471574485, 0.9287675496832876, 0.7334734686562133, 0.07155838718597203, 0.16100637116843705, 0.09828595516233371, 0.7371446637175028, 0.049142977581166855, 0.049142977581166855, 0.9192288091654882, 0.8646725823912846, 0.034208169124899115, 0.17104084562449556, 0.7696838053102301, 0.005701361520816519, 0.005701361520816519, 0.8840425169755414, 0.29990417803575303, 0.6837815259215169, 0.86092359118499, 0.9818354881374525, 0.9295307995593046, 0.8280615259736194, 0.09741900305571993, 0.4555942952868146, 0.027335657717208875, 0.5102656107212323, 0.9756458655892751, 0.9272483991949497, 0.988121462373637, 0.9446717475607022, 0.8584633780432913, 0.8402193833913139, 0.1905315413980518, 0.6351051379935061, 0.15877628449837652, 0.1278562490974377, 0.08523749939829181, 0.7245187448854803, 0.8261288441952246, 0.959278784718351, 0.940583593936078, 0.06777437847404978, 0.8810669201626472, 0.2655252689209918, 0.14751403828943987, 0.5605533454998716, 0.8708279766562762, 0.06220199833259116, 0.9325734380176025, 0.8212267806422553, 0.9391236838201227, 0.30883457000163506, 0.661788364289218, 0.035797980088823185, 0.9307474823094029, 0.7086121340639576, 0.09018699888086733, 0.10307085586384838, 0.05153542793192419, 0.05153542793192419, 0.18864047309812915, 0.015720039424844096, 0.07860019712422048, 0.11004027597390867, 0.2672406702223496, 0.3144007884968819, 0.19293096845050142, 0.7717238738020057, 0.8351505023742851, 0.9321405981952702, 0.9045012929890871, 0.09847661648157523, 0.1641276941359587, 0.03282553882719175, 0.0656510776543835, 0.5908596988894513, 0.9560689281932643, 0.9393641964399847, 0.8587616262411497, 0.07802643830800535, 0.014629957182751003, 0.07314978591375501, 0.08777974309650602, 0.2730925340780187, 0.014629957182751003, 0.3559956247802744, 0.019506609577001337, 0.019506609577001337, 0.06339648112525434, 0.7517368659390732, 0.0995245203216996, 0.7961961625735968, 0.8549879460861393, 0.9338606941487213, 0.3469866352741843, 0.2698784941021433, 0.3759021882136996, 0.2437057836050954, 0.34118809704713354, 0.07311173508152861, 0.02437057836050954, 0.06092644590127385, 0.08529702426178339, 0.01218528918025477, 0.14622347016305723, 0.6309329704712856, 0.9540084550129343, 0.8773098316881895, 0.024970654727253055, 0.14982392836351835, 0.03329420630300407, 0.016647103151502037, 0.34126561460579175, 0.03121331840906632, 0.08947817943932346, 0.054103085242381624, 0.220574116757402, 0.014566215257564283, 0.024970654727253055, 0.11459314369942648, 0.8403497204624609, 0.17064221069937976, 0.0780078677482879, 0.004875491734267994, 0.024377458671339967, 0.01462647520280398, 0.06338139254548392, 0.40954130567851144, 0.024377458671339967, 0.1560157354965758, 0.053630409076947924, 0.12524101535558776, 0.6262050767779389, 0.25048203071117553, 0.8125175721548338, 0.01911584671188714, 0.28673770067830706, 0.07646338684754855, 0.09557923355943569, 0.07646338684754855, 0.23894808389858924, 0.20071639047481496, 0.15026526272291743, 0.6439939830982175, 0.17173172882619134, 0.7077854998384367, 0.9781393010246416, 0.9432112670341422, 0.6390266297275286, 0.29493536756655164, 0.7772832786364733, 0.9235710144376452, 0.0513095008020914, 0.11582348342436066, 0.006813146083785921, 0.13626292167571843, 0.010219719125678883, 0.006813146083785921, 0.30659157377036644, 0.027252584335143683, 0.09538404517300289, 0.2759324163933298, 0.017032865209464804, 0.0839845664917005, 0.020996141622925124, 0.6298842486877537, 0.2519536994751015, 0.9142866271900566, 0.8926207271859815, 0.9151796795024848, 0.6800618028151495, 0.924914429497366, 0.19457849254898318, 0.7783139701959327, 0.8998843092571566, 0.879362850044625, 0.0879362850044625, 0.15340278536695623, 0.8181481886237665, 0.791989567641951, 0.19007749623406825, 0.5799589077116616, 0.024217007272904763, 0.0048434014545809525, 0.033903810182066674, 0.0629642189095524, 0.1937360581832381, 0.014530204363742858, 0.17920585381949525, 0.4746533425489334, 0.0048434014545809525, 0.9467946580337363, 0.2733344602425472, 0.7175029581366863, 0.4267827705525997, 0.049482060353924606, 0.04329680280968403, 0.024741030176962303, 0.049482060353924606, 0.018555772632721727, 0.2845218470350665, 0.04329680280968403, 0.06185257544240576, 0.7311947646829239, 0.8813258429483316, 0.7537007817570813, 0.1983423109887056, 0.1716793608888675, 0.007464320038646413, 0.33589440173908863, 0.07091104036714092, 0.007464320038646413, 0.16794720086954432, 0.08957184046375696, 0.01119648005796962, 0.10076832052172659, 0.02612512013526245, 0.014928640077292827, 0.11045117075641477, 0.8099752522137083, 0.07363411383760984, 0.8367625868163476, 0.09297362075737196, 0.04648681037868598, 0.9311145766827945, 0.9391546561506289, 0.13277175858383009, 0.1858804620173621, 0.6771359687775333, 0.8645962320321384, 0.9033606706428177, 0.009816358571683094, 0.8834722714514784, 0.032721195238943644, 0.07198662952567603, 0.024278985146288196, 0.04855797029257639, 0.04855797029257639, 0.12139492573144098, 0.07283695543886458, 0.016185990097525464, 0.06474396039010186, 0.08902294553639005, 0.04855797029257639, 0.23469685641411922, 0.210417871267831, 0.016185990097525464, 0.9488876884535279, 0.32060524755142417, 0.6412104951028483, 0.022900374825101728, 0.9409318898606238, 0.041819195104916614, 0.41152436218338034, 0.49382923462005646, 0.05912621461712037, 0.08376213737425386, 0.10839806013138735, 0.04434466096284028, 0.2167961202627747, 0.10839806013138735, 0.2759223348798951, 0.09854369102853396, 0.3031131462866242, 0.16533444342906775, 0.42160283074412275, 0.019289018400057905, 0.02480016651436016, 0.035822462742964675, 0.013777870285755646, 0.011022296228604516, 0.7529136604616644, 0.07213250649152532, 0.08982538544227682, 0.2259244542942114, 0.11024024577006701, 0.08165944131116075, 0.0013609906885193458, 0.025858823081867568, 0.05307863685225448, 0.10071331095043158, 0.0802984506226414, 0.03674674859002233, 0.019053869639270842, 0.08165944131116075, 0.012248916196674111, 0.009526934819635421, 0.1227855920767967, 0.8185706138453114, 0.04092853069226557, 0.867881297019247, 0.34566516831479116, 0.10520244253058862, 0.46589653120689245, 0.03005784072302532, 0.03005784072302532, 0.31142597819658024, 0.6228519563931605, 0.834508472119106, 0.011753640452381774, 0.12929004497619953, 0.011753640452381774, 0.8711348136923848, 0.05865137718282565, 0.029325688591412824, 0.2346055087313026, 0.674490837602495, 0.19617517257414432, 0.03923503451482886, 0.10789634491577937, 0.20598393120285152, 0.45120289692053195, 0.9320513054361533, 0.7271544083068734, 0.09220229566702279, 0.6761501682248339, 0.21513868988971985, 0.006605711305619336, 0.13871993741800603, 0.04623997913933535, 0.1321142261123867, 0.013211422611238671, 0.019817133916858007, 0.039634267833716014, 0.013211422611238671, 0.07926853566743203, 0.13871993741800603, 0.3567084105034441, 0.019817133916858007, 0.23924720525258864, 0.717741615757766, 0.1857780462187723, 0.05307944177679209, 0.07961916266518812, 0.1326986044419802, 0.5042546968795248, 0.24863009866783103, 0.24863009866783103, 0.49726019733566207, 0.9214340825595729, 0.8863744878882704, 0.08601741373461023, 0.17203482746922047, 0.20070729871409054, 0.5161044824076614, 0.8202180653583261, 0.09649624298333248, 0.09649624298333248, 0.9167699637729777, 0.8097366470777375, 0.3235142473220035, 0.647028494644007, 0.12390106688198858, 0.06195053344099429, 0.5782049787826135, 0.14455124469565336, 0.08260071125465906, 0.06758584180543614, 0.06758584180543614, 0.18432502310573493, 0.07373000924229396, 0.06144167436857831, 0.11059501386344095, 0.10445084642658312, 0.20275752541630843, 0.043009172058004815, 0.07373000924229396, 0.8138029094662691, 0.8427060220973334, 0.9313567426469013, 0.9584459503855179, 0.8637594053899286, 0.3200035652422876, 0.6400071304845752, 0.758232676499428, 0.031802516965061506, 0.15901258482530753, 0.09540755089518452, 0.6996553732313531, 0.867507530334839, 0.09131658214050936, 0.8507052543540368, 0.08954792151095124, 0.9890286701405517, 0.09860273350847014, 0.006162670844279384, 0.08011472097563199, 0.23418149208261657, 0.19720546701694028, 0.3759229215010424, 0.11840214267584956, 0.048753823454761584, 0.020894495766326394, 0.8079205029646206, 0.15263726838021655, 0.42738435146460635, 0.39685689778856303, 0.889825188829542, 0.9177852433940463, 0.9467039923812167, 0.039263549493716694, 0.11779064848115008, 0.039263549493716694, 0.6282167918994671, 0.15705419797486678, 0.8678278978824439, 0.05423924361765274, 0.899816255000379, 0.8924700022505382, 0.037186250093772424, 0.037186250093772424, 0.037186250093772424, 0.9520573936890403, 0.9152174543749945, 0.26500480957033734, 0.4122297037760803, 0.29444978841148595, 0.9678911338450529, 0.15556544107900047, 0.15918324203432607, 0.08863612340547701, 0.059693715762872274, 0.05607591480754668, 0.05064921337455829, 0.22792146018551232, 0.018089004776627962, 0.0036178009553255925, 0.07959162101716304, 0.01989790525429076, 0.05064921337455829, 0.0018089004776627963, 0.027133507164941943, 0.831457188630467, 0.828607744579795, 0.949609468813681, 0.18466835816224553, 0.36933671632449105, 0.40627038795694015, 0.1986547250023562, 0.1986547250023562, 0.1986547250023562, 0.04345572109426542, 0.11174328281382537, 0.14278308359544353, 0.10553532265750173, 0.8935476343104211, 0.33369405875130975, 0.6006493057523575, 0.7623507731899797, 0.034652307872271804, 0.17326153936135902, 0.9558431688334112, 0.8628005294931059, 0.8927928319200763, 0.12575960279167495, 0.8383973519444997, 0.9261572224588039, 0.959839062616149, 0.9202900953743064, 0.8003542903163556, 0.10913922140677577, 0.07275948093785051, 0.06908366063191482, 0.8290039275829779, 0.19466113165743115, 0.05257271438923323, 0.061098019425325105, 0.549882174827926, 0.07246509280678094, 0.0341012201443675, 0.0014208841726819793, 0.022734146762911668, 0.008525305036091875, 0.9026205618551408, 0.18325183445406074, 0.7330073378162429, 0.9750037941276587, 0.19093109000933087, 0.13549948323242836, 0.27715803388451254, 0.24636269678623335, 0.1416585506520842, 0.49202572833600533, 0.45417759538708186, 0.20608508188144803, 0.1301589990830198, 0.0650794995415099, 0.09761924931226486, 0.21693166513836634, 0.2711645814229579, 0.010846583256918316, 0.885548479052647, 0.934511989932397, 0.3747048338569358, 0.4996064451425811, 0.12490161128564528, 0.9876839197489413, 0.8194784423534143, 0.10951596870580209, 0.01095159687058021, 0.08761277496464168, 0.3175963092468261, 0.4599670685643688, 0.828369493448449, 0.1472683896211223, 0.06545261760938768, 0.06545261760938768, 0.12272365801760192, 0.5890735584844892, 0.8346378808107265, 0.9111610625244423, 0.29936798248184954, 0.6908491903427296, 0.724176960145627, 0.24139232004854236, 0.9593626733256051, 0.9144369691299652, 0.16756053698749857, 0.05434395794189143, 0.13359556327381641, 0.13585989485472857, 0.061136952684627856, 0.12000957378834357, 0.079251605331925, 0.020378984228209284, 0.10642358430287072, 0.027171978970945716, 0.015850321066385, 0.045286631618242854, 0.022643315809121427, 0.00905732632364857, 0.8869045800507824, 0.7969145227368787, 0.14230616477444263, 0.028461232954888525, 0.08779593870376662, 0.7901634483338996, 0.10535512644451996, 0.2469946595796421, 0.6174866489491052, 0.9331178985244961, 0.17306662952716406, 0.8076442711267656, 0.953504681750813, 0.9064068305337235, 0.08812288630188979, 0.8389281356228957, 0.9633188931263164, 0.925694050488914, 0.40058743160692434, 0.044509714622991595, 0.022254857311495797, 0.044509714622991595, 0.4450971462299159, 0.8168254082629097, 0.1485137105932563, 0.9339557590854204, 0.05363708555017717, 0.9386489971281005, 0.8987004919780269, 0.07742031105731065, 0.20645416281949505, 0.14193723693840285, 0.0645169258810922, 0.18064739246705816, 0.05161354070487376, 0.2838744738768057, 0.36988587271226003, 0.16812994214193636, 0.25779924461763576, 0.16812994214193636, 0.022417325618924847, 0.044830620241027914, 0.24977059848572694, 0.006404374320146845, 0.6916724265758593, 0.9082159119404769, 0.007230711772998395, 0.05784569418398716, 0.5423033829748797, 0.23861348850894704, 0.15907565900596468, 0.7815000865796696, 0.7315743849258802, 0.5799589070147282, 0.9157833091539177, 0.3051987119388143, 0.4243006483051808, 0.07443871022897909, 0.02977548409159164, 0.06699483920608118, 0.037219355114489545, 0.05955096818318328, 0.9132508920418818, 0.7605307489928513, 0.01206955555539347, 0.09655644444314776, 0.006034777777696735, 0.07845211111005757, 0.4405387777718617, 0.1025912222208445, 0.01206955555539347, 0.018104333333090205, 0.22932155555247594, 0.933925769890378, 0.5214877697100531, 0.08939790337886624, 0.13409685506829938, 0.029799301126288747, 0.20859510788402125, 0.007449825281572187, 0.8792295450857961, 0.965735058158559, 0.10461359287563753, 0.05230679643781876, 0.8369087430051002, 0.04409404796563466, 0.0006484418818475685, 0.1854543782084046, 0.015562605164341645, 0.01815637269173192, 0.13163370201505642, 0.4098152693276633, 0.1154226549688672, 0.009726628227713528, 0.010375070109561096, 0.014914163282494076, 0.003890651291085411, 0.014265721400646508, 0.01685948892803678, 0.007781302582170822, 0.9296383909193704, 0.7443723085271302, 0.9680000475115471, 0.9119678170647486, 0.26842988096471354, 0.6375209672911947, 0.10066120536176759, 0.9662844273366658, 0.8981739656989319, 0.1277343913183331, 0.14192710146481458, 0.007096355073240729, 0.1277343913183331, 0.38320317395499937, 0.042578130439444375, 0.09934897102537021, 0.04967448551268511, 0.014192710146481458, 0.34485998665641204, 0.09518759812688296, 0.1622870525441939, 0.00936271456985734, 0.09518759812688296, 0.0015604524283095566, 0.057736739847453596, 0.021846333996333792, 0.03745085827942936, 0.12327574183645498, 0.031209048566191135, 0.00468135728492867, 0.015604524283095568, 0.20635920919970743, 0.14847796759491144, 0.1711271490924403, 0.005033151443895303, 0.10569618032180136, 0.1308619375412779, 0.01509945433168591, 0.12582878609738257, 0.027682332941424168, 0.005033151443895303, 0.04781493871700538, 0.005033151443895303, 0.8219688387601077, 0.12329532581401616, 0.9272012445405449, 0.7881076585970526, 0.17513503524378946, 0.27415302365360256, 0.21932241892288204, 0.027415302365360255, 0.4660601402111243, 0.07354643748404005, 0.06303980355774862, 0.42026535705165746, 0.010506633926291436, 0.42026535705165746, 0.9647354088143997, 0.7124757461840241, 0.2514620280649497, 0.9356249093906699, 0.06079171998693341, 0.12158343997386682, 0.18237515996080023, 0.14717995365257563, 0.009598692629515801, 0.11198474734435102, 0.035195206308224605, 0.031995642098386005, 0.06719084840661062, 0.12478300418370543, 0.04799346314757901, 0.05439259156725621, 0.817952837600323, 0.0791567262193861, 0.03957836310969305, 0.03957836310969305, 0.019115822012721106, 0.38231644025442213, 0.19115822012721106, 0.03823164402544221, 0.03823164402544221, 0.02867373301908166, 0.06690537704452387, 0.11469493207632664, 0.11469493207632664, 0.911555349698048, 0.07700416267394877, 0.3003162344284002, 0.25411373682403093, 0.023101248802184633, 0.08470457894134366, 0.007700416267394878, 0.09240499520873853, 0.03080166506957951, 0.13090707654571293, 0.3330862899319769, 0.04934611702695955, 0.41944199472915616, 0.1727114095943584, 0.024673058513479774, 0.01598054357212246, 0.551328753238225, 0.03196108714424492, 0.03196108714424492, 0.023970815358183694, 0.19176652286546955, 0.11186380500485724, 0.023970815358183694, 0.030253367892477234, 0.025476520330507145, 0.12101347156990894, 0.16400509962763973, 0.023884237809850446, 0.030253367892477234, 0.06528358334692455, 0.4219548679740246, 0.030253367892477234, 0.02866108537182054, 0.02706880285116384, 0.004776847561970089, 0.025476520330507145, 0.9333794718639505, 0.900854401311795, 0.7298869645721165, 0.060724499135838404, 0.24795837147134014, 0.11132824841570374, 0.13156974812764988, 0.22265649683140748, 0.0910867487037576, 0.12144899827167681, 0.005060374927986533, 0.21508444178675817, 0.0358474069644597, 0.08961851741114923, 0.08961851741114923, 0.43016888357351635, 0.12546592437560894, 0.7622251576843185, 0.46642287572430213, 0.46642287572430213, 0.008471710867491496, 0.14119518112485827, 0.1948493499523044, 0.6071392788368905, 0.02259122897997732, 0.002823903622497165, 0.002823903622497165, 0.002823903622497165, 0.01694342173498299, 0.032718406758328454, 0.08724908468887588, 0.8724908468887588, 0.6086223195534168, 0.13832325444395838, 0.22131720711033337, 0.02766465088879167, 0.9808677161264328, 0.8209908880444629, 0.7802624871425545, 0.2785712475510986, 0.64999957761923, 0.9488311124374169, 0.1324245557990279, 0.2475763434503565, 0.24181875406779008, 0.028787946912832152, 0.08636384073849646, 0.057575893825664304, 0.04030312567796501, 0.02303035753026572, 0.10363660888619575, 0.04606071506053144, 0.04390810986488888, 0.02195405493244444, 0.197586494392, 0.24149460425688887, 0.48298920851377775, 0.897810935217863, 0.7602714945654381, 0.20010948375404095, 0.7003831931391433, 0.31777881157715204, 0.06598685704880752, 0.0034729924762530277, 0.03646642100065679, 0.0017364962381265139, 0.40981311219785727, 0.0017364962381265139, 0.07119634576318706, 0.005209488714379542, 0.07640583447756662, 0.00868248119063257, 0.20717947307661566, 0.0690598243588719, 0.2877492681619662, 0.03452991217943595, 0.11509970726478648, 0.03452991217943595, 0.1381196487177438, 0.11509970726478648, 0.21765612230870626, 0.022672512740490234, 0.3355531885592555, 0.06348303567337266, 0.1269660713467453, 0.01813801019239219, 0.2131216197606082, 0.7764901707758366, 0.11092716725369094, 0.7304101450991036, 0.06039060608260735, 0.1207812121652147, 0.797156000290417, 0.9068070568233992, 0.06045380378822661, 0.9112782711899797, 0.9393890687301801, 0.9111223616965921, 0.9168726162121008, 0.3210294844848289, 0.12841179379393156, 0.09630884534544867, 0.11236031956969011, 0.17656621646665588, 0.16051474224241444], \"Term\": [\"10\", \"10\", \"10\", \"10\", \"10\", \"10\", \"10\", \"10\", \"10\", \"10\", \"1082\", \"11\", \"11\", \"11\", \"11\", \"11\", \"11\", \"11\", \"12\", \"12\", \"12\", \"12\", \"132\", \"15\", \"15\", \"15\", \"15\", \"15\", \"15\", \"150\", \"19\", \"19\", \"19\", \"19\", \"19\", \"19\", \"19\", \"19\", \"19\", \"20\", \"20\", \"20\", \"20\", \"20\", \"2015\", \"2016\", \"2020\", \"2020\", \"2020\", \"2020\", \"2021\", \"2021\", \"2021\", \"2021\", \"2021\", \"2021\", \"2021\", \"2021\", \"2021\", \"2021\", \"2022\", \"2022\", \"2022\", \"2022\", \"2024\", \"2024\", \"22\", \"22\", \"24\", \"24\", \"24\", \"24\", \"25\", \"25\", \"25\", \"25\", \"25\", \"2835\", \"29\", \"29\", \"29\", \"3,339\", \"3010\", \"40\", \"40\", \"41\", \"45\", \"480\", \"5000\", \"5000\", \"556\", \"600\", \"628\", \"6463\", \"67\", \"8348\", \"84\", \"92\", \"AI\", \"AI\", \"AI\", \"AI\", \"AI\", \"AR\", \"AR\", \"CBS\", \"CBS\", \"CBS\", \"DB\", \"Hub\", \"ICT\", \"ICT\", \"ICT\", \"K-MOOC\", \"KERIS\", \"News\", \"OSE\", \"SW\", \"SW\", \"SW\", \"SW\", \"TF\", \"TV\", \"WM\", \"com\", \"com\", \"com\", \"\\u3134\\uac00\", \"\\u3134\\uac00\", \"\\u3134\\ub2e4\", \"\\u3134\\ub2e4\", \"\\u3134\\ub2e4\", \"\\u3134\\ub2e4\", \"\\u3134\\ub2e4\", \"\\u3134\\ub2e4\", \"\\u3134\\ub2e4\", \"\\u3134\\ub2e4\", \"\\u3134\\ub2e4\", \"\\u3134\\ub2e4\", \"\\u3134\\ub2e4\", \"\\u3134\\ub2e4\", \"\\u3134\\ub2e4\", \"\\u3134\\ub2e4\", \"\\u3134\\ub2e4\", \"\\u3134\\ub2e4\", \"\\u3134\\ub2e4\", \"\\u3134\\ub2e4\", \"\\u3134\\ub2e4\\uace0\", \"\\u3134\\ub2e4\\uace0\", \"\\u3134\\ub2e4\\uace0\", \"\\u3134\\ub2e4\\uace0\", \"\\u3134\\ub2e4\\uace0\", \"\\u3134\\ub2e4\\uace0\", \"\\u3134\\ub2e4\\uace0\", \"\\u3134\\ub2e4\\uace0\", \"\\u3134\\ub2e4\\ub294\", \"\\u3134\\ub2e4\\ub294\", \"\\u3134\\ub2e4\\ub294\", \"\\u3134\\ub2e4\\ub294\", \"\\u3134\\ub2e4\\ub294\", \"\\u3134\\ub2e4\\ub294\", \"\\u3134\\ub2e4\\ub294\", \"\\u3139\\ub77c\", \"\\u3139\\ub77c\", \"\\u3139\\ub77c\", \"\\u3139\\uc9c0\", \"\\u5927\\u8cde\", \"\\uac00\\ub2a5\", \"\\uac00\\ub2a5\", \"\\uac00\\ub2a5\", \"\\uac00\\ub2a5\", \"\\uac00\\ub2a5\", \"\\uac00\\ub2a5\", \"\\uac00\\ub2a5\", \"\\uac00\\ub2a5\", \"\\uac00\\uc0c1\\ud604\\uc2e4\", \"\\uac00\\uc0c1\\ud604\\uc2e4\", \"\\uac00\\uc0c1\\ud604\\uc2e4\", \"\\uac00\\uc6b4\\ub370\", \"\\uac00\\uc6b4\\ub370\", \"\\uac00\\uc6b4\\ub370\", \"\\uac00\\uc9c0\", \"\\uac00\\uc9c0\", \"\\uac00\\uc9c0\", \"\\uac00\\uc9c0\", \"\\uac00\\uc9c0\", \"\\uac00\\uc9c0\", \"\\uac00\\uc9c0\", \"\\uac00\\uc9c0\", \"\\uac01\\uc624\", \"\\uac01\\uc790\", \"\\uac04\\ub2f4\\ud68c\", \"\\uac04\\ub2f4\\ud68c\", \"\\uac04\\ub2f4\\ud68c\", \"\\uac04\\ubd80\", \"\\uac10\\uc0ac\", \"\\uac10\\uc0ac\", \"\\uac10\\uc0ac\", \"\\uac10\\uc131\", \"\\uac10\\uc18c\", \"\\uac10\\uc18c\", \"\\uac10\\uc18c\", \"\\uac10\\uc5fc\\uc99d\", \"\\uac10\\ucd95\", \"\\uac15\\uc0ac\", \"\\uac15\\uc5f0\", \"\\uac15\\uc5f0\", \"\\uac15\\uc5f0\", \"\\uac15\\uc5f0\", \"\\uac15\\uc6d0\", \"\\uac15\\uc6d0\", \"\\uac15\\uc6d0\", \"\\uac15\\uc758\\uc2e4\", \"\\uac15\\uc758\\uc2e4\", \"\\uac15\\uc88c\", \"\\uac15\\ud654\", \"\\uac15\\ud654\", \"\\uac15\\ud654\", \"\\uac15\\ud654\", \"\\uac15\\ud654\", \"\\uac15\\ud654\", \"\\uac15\\ud654\", \"\\uac15\\ud654\", \"\\uac1c\\uad50\", \"\\uac1c\\uad50\", \"\\uac1c\\ub144\", \"\\uac1c\\ubc1c\", \"\\uac1c\\ubc1c\", \"\\uac1c\\ubc1c\", \"\\uac1c\\ubc1c\", \"\\uac1c\\ubc1c\", \"\\uac1c\\ubc1c\", \"\\uac1c\\ubc1c\", \"\\uac1c\\ubc1c\", \"\\uac1c\\ubc1c\", \"\\uac1c\\ubc1c\\uc6d0\", \"\\uac1c\\ubc29\\ud615\", \"\\uac1c\\ubcc4\\ud654\", \"\\uac1c\\ubcc4\\ud654\", \"\\uac1c\\ucd5c\", \"\\uac1c\\ucd5c\", \"\\uac1c\\ucd5c\", \"\\uac1c\\ucd95\", \"\\uac1c\\ud1b5\", \"\\uac70\\ub9ac\", \"\\uac70\\uc810\", \"\\uac70\\uc810\", \"\\uac70\\uc810\", \"\\uac70\\uc810\", \"\\uac74\\uad6d\", \"\\uac74\\ub9bd\", \"\\uac74\\ub9bd\", \"\\uac74\\uc124\", \"\\uac74\\uc124\", \"\\uac78\\uc74c\", \"\\uaca9\\ucc28\", \"\\uaca9\\ucc28\", \"\\uaca9\\ucc28\", \"\\uaca9\\ucc28\", \"\\uacac\\uc778\", \"\\uacac\\uc778\", \"\\uacb0\\uacfc\", \"\\uacb0\\uacfc\", \"\\uacb0\\uacfc\", \"\\uacb0\\uacfc\", \"\\uacb0\\uacfc\", \"\\uacb0\\uacfc\", \"\\uacb8\\ube44\", \"\\uacbd\\uacc4\", \"\\uacbd\\uae30\", \"\\uacbd\\uae30\", \"\\uacbd\\uae30\", \"\\uacbd\\uae30\", \"\\uacbd\\uae30\", \"\\uacbd\\uae30\", \"\\uacbd\\uae30\\ub3c4\", \"\\uacbd\\uae30\\ub3c4\", \"\\uacbd\\uae30\\ub3c4\", \"\\uacbd\\uae30\\ub3c4\", \"\\uacbd\\uae30\\ub3c4\", \"\\uacbd\\ub0a8\", \"\\uacbd\\ub0a8\", \"\\uacbd\\ub0a8\", \"\\uacbd\\ub0a8\", \"\\uacbd\\uc601\", \"\\uacbd\\uc601\", \"\\uacbd\\uc601\", \"\\uacbd\\uc6b0\", \"\\uacbd\\uc7c1\", \"\\uacbd\\uc7c1\", \"\\uacbd\\uc7c1\\ub825\", \"\\uacbd\\uc7c1\\ub825\", \"\\uacbd\\ucc30\", \"\\uacbd\\ucca0\", \"\\uacbd\\ud76c\\ub300\", \"\\uacbd\\ud76c\\ub300\", \"\\uacbd\\ud76c\\ub300\", \"\\uacc4\\uace0\", \"\\uacc4\\uc5f4\", \"\\uacc4\\uc815\", \"\\uacc4\\ud68d\", \"\\uacc4\\ud68d\", \"\\uacc4\\ud68d\", \"\\uacc4\\ud68d\", \"\\uacc4\\ud68d\", \"\\uacc4\\ud68d\", \"\\uacc4\\ud68d\", \"\\uacc4\\ud68d\", \"\\uacc4\\ud68d\", \"\\uace0\\uad50\", \"\\uace0\\uad50\", \"\\uace0\\uad50\", \"\\uace0\\uad50\", \"\\uace0\\uad50\", \"\\uace0\\uad50\", \"\\uace0\\ub3c4\\ud654\", \"\\uace0\\ub3c4\\ud654\", \"\\uace0\\ub4f1\", \"\\uace0\\ub4f1\", \"\\uace0\\ub4f1\", \"\\uace0\\uc2dc\", \"\\uace0\\ucc3d\", \"\\uace1\\uc131\", \"\\uace1\\uc131\", \"\\uace1\\uc131\\uad70\", \"\\uacf5\\uac04\", \"\\uacf5\\uac04\", \"\\uacf5\\uac04\", \"\\uacf5\\uac04\", \"\\uacf5\\uac04\", \"\\uacf5\\uac04\", \"\\uacf5\\uac10\", \"\\uacf5\\uac10\", \"\\uacf5\\uac10\", \"\\uacf5\\uac10\", \"\\uacf5\\uac10\", \"\\uacf5\\uac10\", \"\\uacf5\\uac10\", \"\\uacf5\\uac1c\", \"\\uacf5\\ub3d9\\uccb4\", \"\\uacf5\\ub3d9\\uccb4\", \"\\uacf5\\ub3d9\\uccb4\", \"\\uacf5\\ub3d9\\uccb4\", \"\\uacf5\\ub3d9\\uccb4\", \"\\uacf5\\ub3d9\\uccb4\", \"\\uacf5\\ub3d9\\uccb4\", \"\\uacf5\\ubc31\", \"\\uacf5\\uc57d\", \"\\uacf5\\uc720\", \"\\uacf5\\uc720\", \"\\uacf5\\uc720\", \"\\uacf5\\uc720\", \"\\uacf5\\uc720\", \"\\uacf5\\uc720\", \"\\uacf5\\uc720\", \"\\uacf5\\uc720\", \"\\uacf5\\uc720\", \"\\uacf5\\uc874\", \"\\uacf5\\uc874\", \"\\uacf5\\uc9c1\", \"\\uacf5\\ud559\", \"\\uacf5\\ud559\", \"\\uacfc\\ubaa9\", \"\\uacfc\\ubc00\", \"\\uacfc\\uc7a5\", \"\\uacfc\\uc7a5\", \"\\uacfc\\uc7a5\", \"\\uacfc\\uc7a5\", \"\\uacfc\\uc7a5\", \"\\uacfc\\uc815\", \"\\uacfc\\uc815\", \"\\uacfc\\uc815\", \"\\uacfc\\uc815\", \"\\uacfc\\uc815\", \"\\uacfc\\uc815\", \"\\uacfc\\uc815\", \"\\uacfc\\uc815\", \"\\uacfc\\uc81c\", \"\\uacfc\\uc81c\", \"\\uacfc\\uc81c\", \"\\uacfc\\uc81c\", \"\\uacfc\\uc81c\", \"\\uacfc\\uc81c\", \"\\uacfc\\uc81c\", \"\\uacfc\\uc81c\", \"\\uacfc\\ud559\", \"\\uacfc\\ud559\", \"\\uacfc\\ud559\", \"\\uacfc\\ud559\", \"\\uad00\\uacc4\", \"\\uad00\\uacc4\", \"\\uad00\\uacc4\\uc790\", \"\\uad00\\uacc4\\uc790\", \"\\uad00\\uacc4\\uc790\", \"\\uad00\\uacc4\\uc790\", \"\\uad00\\uacc4\\uc790\", \"\\uad00\\uacc4\\uc790\", \"\\uad00\\uacc4\\uc790\", \"\\uad00\\uad11\", \"\\uad00\\ud558\", \"\\uad00\\ud558\", \"\\uad00\\ud558\", \"\\uad11\\uc8fc\", \"\\uad11\\uc8fc\", \"\\uad11\\uc8fc\", \"\\uad11\\uc8fc\", \"\\uad11\\uc8fc\\uc2dc\", \"\\uad11\\uc8fc\\uc2dc\", \"\\uad50\\uac10\", \"\\uad50\\uacfc\", \"\\uad50\\uacfc\", \"\\uad50\\ubcf4\", \"\\uad50\\ubcf4\", \"\\uad50\\ubd80\\uae08\", \"\\uad50\\ubd80\\uae08\", \"\\uad50\\uc0ac\", \"\\uad50\\uc0ac\", \"\\uad50\\uc0ac\", \"\\uad50\\uc0ac\", \"\\uad50\\uc0ac\", \"\\uad50\\uc0ac\", \"\\uad50\\uc0ac\", \"\\uad50\\uc0ac\", \"\\uad50\\uc0ac\", \"\\uad50\\uc0ac\", \"\\uad50\\uc218\", \"\\uad50\\uc218\", \"\\uad50\\uc218\", \"\\uad50\\uc218\", \"\\uad50\\uc218\", \"\\uad50\\uc218\", \"\\uad50\\uc218\", \"\\uad50\\uc218\", \"\\uad50\\uc218\", \"\\uad50\\uc218\\uc9c4\", \"\\uad50\\uc2e4\", \"\\uad50\\uc2e4\", \"\\uad50\\uc2e4\", \"\\uad50\\uc2e4\", \"\\uad50\\uc2e4\", \"\\uad50\\uc2e4\", \"\\uad50\\uc2e4\", \"\\uad50\\uc591\", \"\\uad50\\uc6d0\", \"\\uad50\\uc6d0\", \"\\uad50\\uc6d0\", \"\\uad50\\uc6d0\", \"\\uad50\\uc6d0\", \"\\uad50\\uc721\", \"\\uad50\\uc721\", \"\\uad50\\uc721\", \"\\uad50\\uc721\", \"\\uad50\\uc721\", \"\\uad50\\uc721\", \"\\uad50\\uc721\", \"\\uad50\\uc721\", \"\\uad50\\uc721\", \"\\uad50\\uc721\", \"\\uad50\\uc721\", \"\\uad50\\uc721\", \"\\uad50\\uc721\", \"\\uad50\\uc721\", \"\\uad50\\uc721\", \"\\uad50\\uc721\", \"\\uad50\\uc721\", \"\\uad50\\uc721\", \"\\uad50\\uc721\", \"\\uad50\\uc721\\uac10\", \"\\uad50\\uc721\\uac10\", \"\\uad50\\uc721\\uac10\", \"\\uad50\\uc721\\uac10\", \"\\uad50\\uc721\\uac10\", \"\\uad50\\uc721\\uac10\", \"\\uad50\\uc721\\uac10\", \"\\uad50\\uc721\\uac10\", \"\\uad50\\uc721\\uac10\", \"\\uad50\\uc721\\uac10\", \"\\uad50\\uc721\\uac10\", \"\\uad50\\uc721\\uad00\", \"\\uad50\\uc721\\ub300\", \"\\uad50\\uc721\\ubd80\", \"\\uad50\\uc721\\ubd80\", \"\\uad50\\uc721\\ubd80\", \"\\uad50\\uc721\\ubd80\", \"\\uad50\\uc721\\ubd80\", \"\\uad50\\uc721\\ubd80\", \"\\uad50\\uc721\\ubd80\", \"\\uad50\\uc721\\ubd80\", \"\\uad50\\uc721\\ubd80\", \"\\uad50\\uc721\\ube44\", \"\\uad50\\uc721\\uc6d0\", \"\\uad50\\uc721\\uc6d0\", \"\\uad50\\uc721\\uc6d0\", \"\\uad50\\uc721\\uc6d0\", \"\\uad50\\uc721\\uc6d0\", \"\\uad50\\uc721\\uccad\", \"\\uad50\\uc721\\uccad\", \"\\uad50\\uc721\\uccad\", \"\\uad50\\uc721\\uccad\", \"\\uad50\\uc721\\uccad\", \"\\uad50\\uc721\\uccad\", \"\\uad50\\uc721\\uccad\", \"\\uad50\\uc721\\uccad\", \"\\uad50\\uc721\\uccad\", \"\\uad50\\uc721\\uccad\", \"\\uad50\\uc721\\uccad\", \"\\uad50\\uc721\\uccad\", \"\\uad50\\uc721\\uccad\", \"\\uad50\\uc721\\uccad\", \"\\uad50\\uc815\", \"\\uad50\\uccb4\", \"\\uad6c\\ubbf8\", \"\\uad6c\\uc870\\uc801\", \"\\uad6c\\ucd95\", \"\\uad6c\\ucd95\", \"\\uad6c\\ucd95\", \"\\uad6c\\ucd95\", \"\\uad6c\\ucd95\", \"\\uad6c\\ucd95\", \"\\uad6c\\ucd95\", \"\\uad6c\\ucd95\", \"\\uad6c\\ucd95\", \"\\uad6c\\ucd95\", \"\\uad6c\\ucd95\", \"\\uad6d\\uac00\", \"\\uad6d\\uac00\", \"\\uad6d\\uac00\", \"\\uad6d\\uac00\", \"\\uad6d\\ub0b4\\uc678\", \"\\uad6d\\uc5b4\", \"\\uad6d\\uc81c\", \"\\uad6d\\uc81c\", \"\\uad6d\\uc81c\", \"\\uad6d\\uc81c\", \"\\uad6d\\uc81c\", \"\\uad6d\\ud68c\", \"\\uad6d\\ud68c\", \"\\uad6d\\ud68c\\uc758\\uc6d0\", \"\\uad70\\uc0b0\", \"\\uad70\\uc11c\", \"\\uad70\\uc778\", \"\\uad8c\\uace0\", \"\\uad8c\\uc5ed\", \"\\uaddc\\ubaa8\", \"\\uaddc\\uc815\", \"\\uadf8\\uac04\", \"\\uadf8\\uac04\", \"\\uadf8\\ub9ac\", \"\\uadf8\\ub9ac\", \"\\uadf8\\ub9ac\", \"\\uadf8\\ub9ac\", \"\\uadf8\\ub9b0\", \"\\uae00\\ub85c\\ubc8c\", \"\\uae00\\ub85c\\ubc8c\", \"\\uae00\\ub85c\\ubc8c\", \"\\uae00\\ub85c\\ubc8c\", \"\\uae00\\ub85c\\ubc8c\", \"\\uae00\\ub85c\\ubc8c\", \"\\uae08\\uc9c0\", \"\\uae09\\uc18d\", \"\\uae09\\uc2dd\", \"\\uae30\\uac00\", \"\\uae30\\uacc4\", \"\\uae30\\uad00\", \"\\uae30\\uad00\", \"\\uae30\\uad00\", \"\\uae30\\uad00\", \"\\uae30\\uad00\", \"\\uae30\\uad00\", \"\\uae30\\uad00\", \"\\uae30\\uad00\", \"\\uae30\\uad00\", \"\\uae30\\uad00\", \"\\uae30\\ub150\", \"\\uae30\\ub2a5\", \"\\uae30\\ub2a5\", \"\\uae30\\ub2a5\", \"\\uae30\\ub300\\ub418\", \"\\uae30\\ub300\\ub418\", \"\\uae30\\ub974\", \"\\uae30\\ub974\", \"\\uae30\\ub974\", \"\\uae30\\ub974\", \"\\uae30\\ubc18\", \"\\uae30\\ubc18\", \"\\uae30\\ubc18\", \"\\uae30\\ubc18\", \"\\uae30\\ubc18\", \"\\uae30\\ubc18\", \"\\uae30\\ubc18\", \"\\uae30\\ubc18\", \"\\uae30\\ubc18\", \"\\uae30\\ubc18\", \"\\uae30\\uc058\", \"\\uae30\\uc220\", \"\\uae30\\uc220\", \"\\uae30\\uc220\", \"\\uae30\\uc220\", \"\\uae30\\uc220\", \"\\uae30\\uc220\", \"\\uae30\\uc220\\uc6d0\", \"\\uae30\\uc5c5\", \"\\uae30\\uc5d0\", \"\\uae30\\uc5ec\", \"\\uae30\\uc790\", \"\\uae30\\uc790\", \"\\uae30\\uc790\", \"\\uae30\\uc870\", \"\\uae30\\uc870\", \"\\uae30\\uc870\", \"\\uae30\\uc870\", \"\\uae30\\ucd08\", \"\\uae30\\ucd08\", \"\\uae30\\ucd08\", \"\\uae30\\ucd08\", \"\\uae30\\ucd08\", \"\\uae30\\ucd08\", \"\\uae30\\ud68c\", \"\\uae30\\ud68c\", \"\\uae30\\ud68c\", \"\\uae30\\ud68c\", \"\\uae30\\ud68c\", \"\\uae30\\ud68c\", \"\\uae30\\ud68c\", \"\\uae30\\ud68d\\ub2e8\", \"\\uae30\\ud6c4\", \"\\uae30\\ud6c4\", \"\\uae34\\ucd95\", \"\\uae4a\\uc774\", \"\\uae4c\\uc9c0\", \"\\uae4c\\uc9c0\", \"\\uae4c\\uc9c0\", \"\\uae4c\\uc9c0\", \"\\uae4c\\uc9c0\", \"\\uae4c\\uc9c0\", \"\\uae4c\\uc9c0\", \"\\uae4c\\uc9c0\", \"\\uae4c\\uc9c0\", \"\\uae4c\\uc9c0\", \"\\uae4c\\uc9c0\", \"\\uae4c\\uc9c0\", \"\\uaf43\\ud53c\\uc6b0\", \"\\uafc8\\uafb8\", \"\\ub04a\\uc784\\uc5c6\\uc774\", \"\\ub098\\uac00\", \"\\ub098\\uac00\", \"\\ub098\\uac00\", \"\\ub098\\uac00\", \"\\ub098\\uac00\", \"\\ub098\\uac00\", \"\\ub098\\uac00\", \"\\ub098\\uac00\", \"\\ub098\\uac00\", \"\\ub098\\uac00\", \"\\ub098\\uac00\", \"\\ub098\\ub204\", \"\\ub098\\ub204\", \"\\ub098\\ub204\", \"\\ub098\\ub204\", \"\\ub098\\ub214\", \"\\ub098\\ub214\", \"\\ub098\\uc544\\uac00\", \"\\ub098\\uc544\\uac00\", \"\\ub098\\uc544\\uac00\", \"\\ub0a0\\ub85c\", \"\\ub0a8\\uad6c\", \"\\ub0a8\\ub2e4\\ub974\", \"\\ub0a8\\ub300\", \"\\ub0a8\\ub3c4\", \"\\ub0a8\\ub3c4\", \"\\ub0a8\\ub3c4\", \"\\ub0a8\\ub3c4\", \"\\ub0a8\\uc758\", \"\\ub0a8\\ud615\", \"\\ub0b4\\ub144\\ub3c4\", \"\\ub0b4\\ub144\\ub3c4\", \"\\ub0b4\\ub144\\ub3c4\", \"\\ub0b4\\ub193\", \"\\ub0b4\\ub2e4\\ubcf4\", \"\\ub0b4\\uc6a9\", \"\\ub0b4\\uc6a9\", \"\\ub0b4\\uc6a9\", \"\\ub0b4\\uc6a9\", \"\\ub0b4\\uc6a9\", \"\\ub0b4\\uc6a9\", \"\\ub0b4\\uc6a9\", \"\\ub0b4\\uc6a9\", \"\\ub0b4\\uc9c4\", \"\\ub108\\uc640\", \"\\ub124\\ud2b8\\uc6cc\\ud06c\", \"\\ub124\\ud2b8\\uc6cc\\ud06c\", \"\\ub144\\ub3c4\", \"\\ub144\\ub3c4\", \"\\ub144\\ub3c4\", \"\\ub144\\ub3c4\", \"\\ub178\\uba40\", \"\\ub178\\uba40\", \"\\ub178\\ud2b8\\ubd81\", \"\\ub178\\ud6c4\", \"\\ub179\\uc9c0\", \"\\ub17c\\uc758\", \"\\ub17c\\uc758\", \"\\ub17c\\uc758\", \"\\ub17c\\uc758\", \"\\ub17c\\uc758\", \"\\ub18d\\uc5c5\", \"\\ub193\\uc774\", \"\\ub193\\uce58\", \"\\ub274\\ub51c\", \"\\ub274\\ub51c\", \"\\ub274\\uc2a4\", \"\\ub274\\uc2a4\", \"\\ub2e4\\uace0\", \"\\ub2e4\\uace0\", \"\\ub2e4\\uace0\", \"\\ub2e4\\uace0\", \"\\ub2e4\\uace0\", \"\\ub2e4\\uace0\", \"\\ub2e4\\uace0\", \"\\ub2e4\\uace0\", \"\\ub2e4\\ub978\", \"\\ub2e4\\ubb38\\ud654\", \"\\ub2e4\\ubb38\\ud654\", \"\\ub2e4\\uc12f\", \"\\ub2e4\\uc218\", \"\\ub2e4\\uc591\", \"\\ub2e4\\uc591\", \"\\ub2e4\\uc591\", \"\\ub2e4\\uc591\", \"\\ub2e4\\uc591\", \"\\ub2e4\\uc591\", \"\\ub2e4\\uc591\", \"\\ub2e4\\uc591\", \"\\ub2e4\\uc591\", \"\\ub2e4\\uc591\", \"\\ub2e4\\uc591\", \"\\ub2e4\\uc591\", \"\\ub2e4\\uc591\\uc131\", \"\\ub2e4\\uc74c\", \"\\ub2e4\\uc74c\", \"\\ub2e4\\ud558\", \"\\ub2e4\\ud558\", \"\\ub2e4\\ud558\", \"\\ub2e4\\ud558\", \"\\ub2e4\\ud558\", \"\\ub2e8\\uacc4\", \"\\ub2e8\\uacc4\", \"\\ub2e8\\uc7a5\", \"\\ub2f4\\ub2f9\", \"\\ub2f4\\ub2f9\", \"\\ub2f9\\uba74\", \"\\ub2f9\\uba74\", \"\\ub2f9\\ubd80\", \"\\ub2f9\\ubd80\", \"\\ub2f9\\ubd80\", \"\\ub2f9\\ubd80\", \"\\ub2f9\\uc0ac\\uc790\", \"\\ub2f9\\ud558\", \"\\ub300\\uad6c\", \"\\ub300\\uad6c\", \"\\ub300\\uad6c\", \"\\ub300\\uad6c\", \"\\ub300\\uad6c\", \"\\ub300\\uad6c\", \"\\ub300\\uad6c\", \"\\ub300\\uad6c\\uc2dc\", \"\\ub300\\uad6c\\uc2dc\", \"\\ub300\\uad6c\\uc2dc\", \"\\ub300\\ubc95\\uc6d0\", \"\\ub300\\ube44\", \"\\ub300\\ube44\", \"\\ub300\\ube44\", \"\\ub300\\ube44\", \"\\ub300\\ube44\", \"\\ub300\\ube44\", \"\\ub300\\ube44\", \"\\ub300\\ube44\", \"\\ub300\\ube44\", \"\\ub300\\ube44\", \"\\ub300\\ube44\", \"\\ub300\\ube44\", \"\\ub300\\ube44\", \"\\ub300\\uc0c1\", \"\\ub300\\uc0c1\", \"\\ub300\\uc0c1\", \"\\ub300\\uc0c1\", \"\\ub300\\uc0c1\", \"\\ub300\\uc0c1\", \"\\ub300\\uc0c1\", \"\\ub300\\uc0c1\", \"\\ub300\\uc0dd\", \"\\ub300\\uc548\", \"\\ub300\\uc548\", \"\\ub300\\uc751\", \"\\ub300\\uc751\", \"\\ub300\\uc751\", \"\\ub300\\uc751\", \"\\ub300\\uc751\", \"\\ub300\\uc751\", \"\\ub300\\uc751\", \"\\ub300\\uc751\", \"\\ub300\\uc751\", \"\\ub300\\uc751\", \"\\ub300\\uc785\", \"\\ub300\\uc804\", \"\\ub300\\uc804\", \"\\ub300\\uc804\", \"\\ub300\\uc804\", \"\\ub300\\uc804\\ud658\", \"\\ub300\\uc804\\ud658\", \"\\ub300\\uc804\\ud658\", \"\\ub300\\uc804\\ud658\", \"\\ub300\\uc804\\ud658\", \"\\ub300\\uc804\\ud658\", \"\\ub300\\ud1b5\\ub839\", \"\\ub300\\ud45c\", \"\\ub300\\ud45c\", \"\\ub300\\ud45c\", \"\\ub300\\ud45c\", \"\\ub300\\ud45c\", \"\\ub300\\ud45c\", \"\\ub300\\ud45c\", \"\\ub300\\ud45c\", \"\\ub300\\ud558\", \"\\ub300\\ud558\", \"\\ub300\\ud558\", \"\\ub300\\ud558\", \"\\ub300\\ud558\", \"\\ub300\\ud558\", \"\\ub300\\ud558\", \"\\ub300\\ud558\", \"\\ub300\\ud558\", \"\\ub300\\ud558\", \"\\ub300\\ud559\", \"\\ub300\\ud559\", \"\\ub300\\ud559\", \"\\ub300\\ud559\", \"\\ub300\\ud559\\uad50\", \"\\ub300\\ud559\\uad50\", \"\\ub300\\ud559\\uad50\", \"\\ub300\\ud559\\uad50\", \"\\ub300\\ud559\\uad50\", \"\\ub300\\ud654\", \"\\ub354\\uc6b1\", \"\\ub354\\uc6b1\", \"\\ub354\\uc6b1\", \"\\ub354\\uc6b1\", \"\\ub355\\uc131\", \"\\ub370\\uc774\\ud130\", \"\\ub370\\uc774\\ud130\", \"\\ub370\\uc774\\ud130\", \"\\ub3c4\\ub798\", \"\\ub3c4\\ub85d\", \"\\ub3c4\\ub85d\", \"\\ub3c4\\ub85d\", \"\\ub3c4\\ub85d\", \"\\ub3c4\\ub85d\", \"\\ub3c4\\ub85d\", \"\\ub3c4\\ub85d\", \"\\ub3c4\\ub85d\", \"\\ub3c4\\ub85d\", \"\\ub3c4\\ub85d\", \"\\ub3c4\\ub85d\", \"\\ub3c4\\uc131\", \"\\ub3c4\\uc2dc\", \"\\ub3c4\\uc2dc\", \"\\ub3c4\\uc2dc\", \"\\ub3c4\\uc2dc\", \"\\ub3c5\\uc11c\", \"\\ub3c5\\uc11c\", \"\\ub3c5\\uc11c\", \"\\ub3cc\\ubcf4\", \"\\ub418\\uae30\", \"\\ub418\\ub3cc\\uc544\\ubcf4\", \"\\ub4b7\\ubc1b\\uce68\", \"\\ub4dc\\ub7ec\\ub0b4\", \"\\ub4dc\\ub9bc\", \"\\ub4dc\\ub9bc\", \"\\ub4e4\\uc5b4\\uc11c\", \"\\ub4e4\\uc774\", \"\\ub4e4\\uc774\", \"\\ub514\\ub4dc\", \"\\ub514\\uc790\\uc778\", \"\\ub514\\uc790\\uc778\", \"\\ub514\\uc9c0\\ud138\", \"\\ub514\\uc9c0\\ud138\", \"\\ub514\\uc9c0\\ud138\", \"\\ub514\\uc9c0\\ud138\", \"\\ub514\\uc9c0\\ud138\", \"\\ub530\\ub974\", \"\\ub530\\ub974\", \"\\ub530\\ub974\", \"\\ub530\\ub974\", \"\\ub530\\ub974\", \"\\ub530\\ub974\", \"\\ub530\\ub974\", \"\\ub530\\ub974\", \"\\ub530\\ub974\", \"\\ub530\\ub974\", \"\\ub5a0\\uc624\\ub974\", \"\\ub77c\\uace0\", \"\\ub77c\\uace0\", \"\\ub77c\\uace0\", \"\\ub77c\\uace0\", \"\\ub77c\\uace0\", \"\\ub77c\\uace0\", \"\\ub77c\\uace0\", \"\\ub77c\\uace0\", \"\\ub77c\\uace0\", \"\\ub77c\\uace0\", \"\\ub77c\\uace0\", \"\\ub77c\\uace0\", \"\\ub77c\\uace0\", \"\\ub77c\\uba74\\uc11c\", \"\\ub77c\\uc778\", \"\\ub7ec\\ub2dd\", \"\\ub80c\\ub514\\ub4dc\", \"\\ub80c\\ub514\\ub4dc\", \"\\ub85c\\uc368\", \"\\ub9c8\\ub828\", \"\\ub9c8\\ub828\", \"\\ub9c8\\ub828\", \"\\ub9c8\\ub828\", \"\\ub9c8\\ub828\", \"\\ub9c8\\ub828\", \"\\ub9c8\\ub828\", \"\\ub9c8\\ub828\", \"\\ub9c8\\ub828\", \"\\ub9c8\\uc744\", \"\\ub9c8\\uc744\", \"\\ub9c8\\uc744\", \"\\ub9c8\\uc744\", \"\\ub9c8\\uc744\", \"\\ub9c8\\uc744\", \"\\ub9c8\\uc911\\ubb3c\", \"\\ub9cc\\ub098\", \"\\ub9cc\\ub4e4\", \"\\ub9cc\\ub4e4\", \"\\ub9cc\\ub4e4\", \"\\ub9cc\\ub4e4\", \"\\ub9cc\\ub4e4\", \"\\ub9cc\\ub4e4\", \"\\ub9cc\\ub4e4\", \"\\ub9cc\\ub4e4\", \"\\ub9cc\\ub4e4\", \"\\ub9d0\\ud558\", \"\\ub9d0\\ud558\", \"\\ub9d0\\ud558\", \"\\ub9d0\\ud558\", \"\\ub9d0\\ud558\", \"\\ub9d0\\ud558\", \"\\ub9d0\\ud558\", \"\\ub9d0\\ud558\", \"\\ub9d0\\ud558\", \"\\ub9e4\\uc8fc\", \"\\uba38\\ub2c8\", \"\\uba38\\ub9ac\", \"\\uba74\\uc11c\", \"\\uba74\\uc11c\", \"\\uba74\\uc11c\", \"\\uba74\\uc11c\", \"\\uba74\\uc11c\", \"\\uba74\\uc11c\", \"\\uba74\\uc11c\", \"\\uba74\\uc11c\", \"\\uba85\\uc7a5\", \"\\ubaa8\\ub378\", \"\\ubaa8\\ub378\", \"\\ubaa8\\ub378\", \"\\ubaa8\\ub378\", \"\\ubaa8\\ub378\", \"\\ubaa8\\ub378\", \"\\ubaa8\\ub378\", \"\\ubaa8\\ub378\", \"\\ubaa8\\ub378\", \"\\ubaa8\\ub378\", \"\\ubaa8\\ubc14\\uc77c\", \"\\ubaa8\\uc73c\", \"\\ubaa8\\uc73c\", \"\\ubaa8\\uc73c\", \"\\ubaa9\\ud45c\", \"\\ubaa9\\ud45c\", \"\\ubaa9\\ud45c\", \"\\ubaa9\\ud45c\", \"\\ubaa9\\ud45c\", \"\\ubabd\\uc2e4\", \"\\ubabd\\uc2e4\", \"\\ubb34\\ub8cc\", \"\\ubb34\\uc0c1\", \"\\ubb34\\uc0c1\", \"\\ubb34\\uc548\", \"\\ubb34\\uc5ed\\ub7c9\", \"\\ubb34\\uc6a9\", \"\\ubb38\\ub2e8\", \"\\ubb38\\ub2e8\", \"\\ubb38\\uba85\", \"\\ubb38\\uc81c\", \"\\ubb38\\uc81c\", \"\\ubb38\\uc81c\", \"\\ubb38\\uc81c\", \"\\ubb38\\uc81c\", \"\\ubb38\\uc81c\\uc810\", \"\\ubb38\\ud654\", \"\\ubb38\\ud654\", \"\\ubb38\\ud654\", \"\\ubb38\\ud654\", \"\\ubb38\\ud654\", \"\\ubb38\\ud654\", \"\\ubb38\\ud654\", \"\\ubb38\\ud654\", \"\\ubb38\\ud654\", \"\\ubbf8\\uad6d\", \"\\ubbf8\\ub798\", \"\\ubbf8\\ub798\", \"\\ubbf8\\ub798\", \"\\ubbf8\\ub798\", \"\\ubbf8\\ub798\", \"\\ubbf8\\ub798\", \"\\ubbf8\\ub798\", \"\\ubbf8\\ub798\", \"\\ubbf8\\ub798\", \"\\ubbf8\\ub798\", \"\\ubbf8\\ub798\", \"\\ubbf8\\ub798\", \"\\ubbf8\\ub798\", \"\\ubbf8\\ub798\", \"\\ubbf8\\ub798\", \"\\ubbf8\\ub798\", \"\\ubbf8\\ub798\", \"\\ubbf8\\ub798\", \"\\ubbf8\\ub798\", \"\\ubbf8\\ub798\\ud615\", \"\\ubbf8\\ub798\\ud615\", \"\\ubbf8\\ub798\\ud615\", \"\\ubbf8\\ub798\\ud615\", \"\\ubbf8\\ub798\\ud615\", \"\\ubbf8\\ub798\\ud615\", \"\\ubbf8\\ub798\\ud615\", \"\\ubbf8\\ub798\\ud615\", \"\\ubbf8\\ub798\\ud615\", \"\\ubbf8\\ub798\\ud615\", \"\\ubbf8\\ub798\\ud615\", \"\\ubbf8\\ub798\\ud615\", \"\\ubbf8\\ub9ac\", \"\\ubbf8\\uc6a9\", \"\\ubbfc\\uac04\", \"\\ubbfc\\uac04\", \"\\ubbfc\\uac04\", \"\\ubbfc\\uc8fc\\ub2f9\", \"\\ubc14\\ub77c\", \"\\ubc14\\ub77c\", \"\\ubc14\\ub77c\", \"\\ubc14\\ub77c\", \"\\ubc14\\ub77c\", \"\\ubc14\\ub77c\", \"\\ubc14\\ub77c\", \"\\ubc14\\ub77c\\ubcf4\", \"\\ubc14\\ub85c\", \"\\ubc14\\ub85c\", \"\\ubc14\\ub85c\", \"\\ubc14\\uc774\\ub7ec\\uc2a4\", \"\\ubc14\\uc774\\uc624\", \"\\ubc15\\ub78c\\ud68c\", \"\\ubc15\\ub78c\\ud68c\", \"\\ubc15\\uc815\", \"\\ubc15\\uc885\\ud6c8\", \"\\ubc15\\uc885\\ud6c8\", \"\\ubc15\\uc885\\ud6c8\", \"\\ubc18\\uc601\", \"\\ubc18\\uc601\", \"\\ubc18\\uc601\", \"\\ubc18\\uc601\", \"\\ubc18\\uc601\", \"\\ubc1c\\ub3cb\\uc6c0\", \"\\ubc1c\\ub9de\\ucd94\", \"\\ubc1c\\uc804\", \"\\ubc1c\\uc804\", \"\\ubc1c\\uc804\", \"\\ubc1c\\uc804\", \"\\ubc1c\\uc804\", \"\\ubc1c\\uc804\", \"\\ubc1c\\uc804\", \"\\ubc1c\\uc871\", \"\\ubc1c\\ud45c\", \"\\ubc1c\\ud45c\", \"\\ubc1c\\ud45c\", \"\\ubc1c\\ud45c\", \"\\ubc1c\\ud45c\", \"\\ubc1c\\ud45c\", \"\\ubc1c\\ud45c\", \"\\ubc1c\\ud45c\", \"\\ubc1c\\ud45c\", \"\\ubc1c\\ud45c\\ud68c\", \"\\ubc1c\\ud718\", \"\\ubc1d\\ud788\", \"\\ubc1d\\ud788\", \"\\ubc1d\\ud788\", \"\\ubc1d\\ud788\", \"\\ubc1d\\ud788\", \"\\ubc1d\\ud788\", \"\\ubc1d\\ud788\", \"\\ubc1d\\ud788\", \"\\ubc1d\\ud788\", \"\\ubc1d\\ud788\", \"\\ubc1d\\ud788\", \"\\ubc1d\\ud788\", \"\\ubc1d\\ud788\", \"\\ubc1d\\ud788\", \"\\ubc1d\\ud788\", \"\\ubc1d\\ud788\", \"\\ubc29\\uacfc\", \"\\ubc29\\ubb38\", \"\\ubc29\\uc2dd\", \"\\ubc29\\uc2dd\", \"\\ubc29\\uc2dd\", \"\\ubc29\\uc2dd\", \"\\ubc29\\uc2dd\", \"\\ubc29\\uc2dd\", \"\\ubc29\\uc2dd\", \"\\ubc29\\ud5a5\", \"\\ubc29\\ud5a5\", \"\\ubc29\\ud5a5\", \"\\ubc29\\ud5a5\", \"\\ubc29\\ud5a5\", \"\\ubc29\\ud5a5\", \"\\ubc29\\ud5a5\", \"\\ubc29\\ud5a5\", \"\\ubc29\\ud5a5\", \"\\ubc29\\ud5a5\", \"\\ubc29\\ud5a5\", \"\\ubc29\\ud5a5\\uc131\", \"\\ubc29\\ud5a5\\uc131\", \"\\ubc30\\ub355\", \"\\ubc30\\ubd84\", \"\\ubc30\\ubd84\", \"\\ubc30\\uc131\", \"\\ubc30\\uc6c0\\ud130\", \"\\ubc30\\uc6c0\\ud130\", \"\\ubc30\\ucd9c\", \"\\ubc30\\uce58\", \"\\ubc84\\ub10c\\uc2a4\", \"\\ubc8c\\uc774\", \"\\ubc95\\uc801\", \"\\ubcc0\\ud654\", \"\\ubcc0\\ud654\", \"\\ubcc0\\ud654\", \"\\ubcc0\\ud654\", \"\\ubcc0\\ud654\", \"\\ubcc0\\ud654\", \"\\ubcc0\\ud654\", \"\\ubcc0\\ud654\", \"\\ubcc0\\ud654\", \"\\ubcc0\\ud654\", \"\\ubcc0\\ud654\", \"\\ubcc0\\ud654\", \"\\ubcc4\\ub3c4\", \"\\ubcc4\\ub3c4\", \"\\ubcc4\\ub85c\", \"\\ubcc4\\ub85c\", \"\\ubcd1\\uc870\", \"\\ubcd1\\ud589\", \"\\ubcd1\\ud589\", \"\\ubcf4\\uac15\", \"\\ubcf4\\uace0\", \"\\ubcf4\\uace0\\uc11c\", \"\\ubcf4\\uae09\", \"\\ubcf4\\uae09\", \"\\ubcf4\\uae09\", \"\\ubcf4\\ub2e4\", \"\\ubcf4\\ub2e4\", \"\\ubcf4\\ub2e4\", \"\\ubcf4\\ub2e4\", \"\\ubcf4\\ub2e4\", \"\\ubcf4\\ub2e4\", \"\\ubcf4\\ub2e4\", \"\\ubcf4\\uc644\", \"\\ubcf4\\ud1b5\", \"\\ubcf4\\ud3b8\\uc801\", \"\\ubcf5\\uc9c0\", \"\\ubcf5\\uc9c0\", \"\\ubcf5\\uc9c0\", \"\\ubcf5\\uc9c0\", \"\\ubcf5\\uc9c0\", \"\\ubcf5\\ud569\", \"\\ubcf5\\ud569\", \"\\ubcf8\\uad50\", \"\\ubcf8\\uc9c8\", \"\\ubcf8\\uc9c8\", \"\\ubd80\\ubaa8\\ub2d8\", \"\\ubd80\\ubb38\", \"\\ubd80\\ubb38\\uc7a5\", \"\\ubd80\\uc0b0\", \"\\ubd80\\uc0b0\", \"\\ubd80\\uc0b0\\uc2dc\", \"\\ubd80\\uc640\", \"\\ubd80\\uc751\", \"\\ubd80\\uc871\", \"\\ubd80\\uc9c0\", \"\\ubd80\\ucd1d\\ub9ac\", \"\\ubd80\\ucd1d\\ub9ac\", \"\\ubd80\\ucd1d\\ub9ac\", \"\\ubd80\\ud130\", \"\\ubd80\\ud130\", \"\\ubd80\\ud130\", \"\\ubd80\\ud130\", \"\\ubd80\\ud130\", \"\\ubd80\\ud130\", \"\\ubd80\\ud130\", \"\\ubd80\\ud130\", \"\\ubd80\\ud130\", \"\\ubd80\\ud68c\\uc7a5\", \"\\ubd81\\uad6c\", \"\\ubd81\\uad6c\", \"\\ubd81\\uad6c\", \"\\ubd84\\uc57c\", \"\\ubd84\\uc57c\", \"\\ubd84\\uc57c\", \"\\ubd84\\uc57c\", \"\\ubd84\\uc57c\", \"\\ubd84\\uc57c\", \"\\ubd88\\uad6c\", \"\\ubd88\\uade0\\ud615\", \"\\ubd88\\uc694\\ubd88\\uae09\", \"\\ube48\\ud2c8\", \"\\ube5b\\ub098\", \"\\uc0ac\\uac01\\uc9c0\\ub300\", \"\\uc0ac\\ub78c\", \"\\uc0ac\\ub78c\", \"\\uc0ac\\ub78c\", \"\\uc0ac\\ub840\", \"\\uc0ac\\ub840\", \"\\uc0ac\\ub840\", \"\\uc0ac\\ub840\", \"\\uc0ac\\ub840\", \"\\uc0ac\\ubc94\", \"\\uc0ac\\ubc94\\ub300\", \"\\uc0ac\\ubc95\", \"\\uc0ac\\uc124\", \"\\uc0ac\\uc5c5\", \"\\uc0ac\\uc5c5\", \"\\uc0ac\\uc5c5\", \"\\uc0ac\\uc5c5\", \"\\uc0ac\\uc5c5\", \"\\uc0ac\\uc5c5\", \"\\uc0ac\\uc5c5\", \"\\uc0ac\\uc5c5\", \"\\uc0ac\\uc5c5\", \"\\uc0ac\\uc5c5\", \"\\uc0ac\\uc5c5\\ube44\", \"\\uc0ac\\uc5c5\\ube44\", \"\\uc0ac\\uc5c5\\ube44\", \"\\uc0ac\\uc6a9\\uc790\", \"\\uc0ac\\uc774\", \"\\uc0ac\\uc774\", \"\\uc0ac\\uc774\\ubc84\", \"\\uc0ac\\uc774\\ubc84\", \"\\uc0ac\\uc774\\ubc84\", \"\\uc0ac\\uc774\\ubc84\", \"\\uc0ac\\uc774\\ubc84\", \"\\uc0ac\\uc804\", \"\\uc0ac\\uc804\", \"\\uc0ac\\uc9c4\", \"\\uc0ac\\uc9c4\", \"\\uc0ac\\uc9c4\", \"\\uc0ac\\uc9c4\", \"\\uc0ac\\ud558\\uad6c\", \"\\uc0ac\\ud559\", \"\\uc0ac\\ud68c\", \"\\uc0ac\\ud68c\", \"\\uc0ac\\ud68c\", \"\\uc0ac\\ud68c\", \"\\uc0ac\\ud68c\", \"\\uc0ac\\ud68c\", \"\\uc0ac\\ud68c\", \"\\uc0ac\\ud68c\", \"\\uc0ac\\ud68c\", \"\\uc0ac\\ud68c\", \"\\uc0ac\\ud68c\", \"\\uc0ac\\ud68c\\uc801\", \"\\uc0ac\\ud68c\\uc801\", \"\\uc0ac\\ud68c\\uc801\", \"\\uc0ad\\uac10\", \"\\uc0b0\\uc5c5\", \"\\uc0b0\\uc5c5\", \"\\uc0b0\\uc5c5\", \"\\uc0b0\\uc5c5\", \"\\uc0b0\\uc5c5\", \"\\uc0b0\\uc5c5\", \"\\uc0b0\\uc5c5\", \"\\uc0b0\\ud559\", \"\\uc0b4\\uc544\\uac00\", \"\\uc0b4\\uc544\\uac00\", \"\\uc0b4\\ud3b4\\ubcf4\", \"\\uc0c1\\ub2f4\", \"\\uc0c1\\ub2f9\", \"\\uc0c1\\ud669\", \"\\uc0c1\\ud669\", \"\\uc0c1\\ud669\", \"\\uc0c1\\ud669\", \"\\uc0c1\\ud669\", \"\\uc0c1\\ud669\", \"\\uc0c1\\ud669\", \"\\uc0c1\\ud669\", \"\\uc0c8\\ub86d\", \"\\uc0c8\\ub86d\", \"\\uc0c8\\ub86d\", \"\\uc0c8\\ub86d\", \"\\uc0c8\\ub86d\", \"\\uc0c8\\ub86d\", \"\\uc0c8\\ub86d\", \"\\uc0c8\\ub86d\", \"\\uc0c8\\ub86d\", \"\\uc0dd\\uac01\", \"\\uc0dd\\uac01\", \"\\uc0dd\\uac01\", \"\\uc0dd\\uac01\", \"\\uc0dd\\uac01\", \"\\uc0dd\\ud0dc\", \"\\uc0dd\\ud0dc\\uc801\", \"\\uc11c\\ub85c\", \"\\uc11c\\ubd80\", \"\\uc11c\\ubd80\", \"\\uc11c\\ubd80\", \"\\uc11c\\ube44\\uc2a4\", \"\\uc11c\\ube44\\uc2a4\", \"\\uc11c\\uc6b8\", \"\\uc11c\\uc6b8\", \"\\uc11c\\uc6b8\", \"\\uc11c\\uc6b8\", \"\\uc11c\\uc6b8\", \"\\uc11c\\uc6b8\", \"\\uc11c\\uc6b8\\uc2dc\", \"\\uc11c\\uc6b8\\uc2dc\", \"\\uc11c\\uc6b8\\uc2dc\", \"\\uc11d\\uba74\", \"\\uc11d\\ubb38\", \"\\uc11d\\uc9c4\", \"\\uc120\\ub3c4\\uc801\", \"\\uc120\\ubb3c\", \"\\uc120\\uc0dd\\ub2d8\", \"\\uc120\\uc0dd\\ub2d8\", \"\\uc120\\uc0dd\\ub2d8\", \"\\uc120\\uc0dd\\ub2d8\", \"\\uc120\\uc0dd\\ub2d8\", \"\\uc120\\uc815\", \"\\uc120\\uc815\", \"\\uc120\\uc815\", \"\\uc120\\uc815\", \"\\uc120\\uc815\", \"\\uc120\\uc815\", \"\\uc120\\uc815\", \"\\uc120\\uc815\", \"\\uc120\\uc81c\", \"\\uc120\\uc81c\", \"\\uc120\\uc81c\", \"\\uc120\\uc81c\", \"\\uc120\\ud3ec\", \"\\uc120\\ud3ec\", \"\\uc124\\uacc4\", \"\\uc124\\uacc4\", \"\\uc124\\uacc4\", \"\\uc124\\uacc4\", \"\\uc124\\uacc4\", \"\\uc124\\ub9bd\", \"\\uc124\\ub9bd\", \"\\uc124\\ub9bd\", \"\\uc124\\ub9bd\", \"\\uc124\\ub9bd\", \"\\uc124\\ub9bd\", \"\\uc124\\ub9bd\", \"\\uc124\\ub9bd\", \"\\uc124\\ubb38\", \"\\uc124\\uc131\", \"\\uc124\\uc815\", \"\\uc124\\uc815\", \"\\uc124\\uc815\", \"\\uc124\\uce58\", \"\\uc124\\uce58\", \"\\uc124\\uce58\", \"\\uc131\\uacf5\", \"\\uc131\\uad50\\uc721\", \"\\uc131\\uae30\", \"\\uc131\\uc218\", \"\\uc131\\uc5f4\", \"\\uc131\\uc7a5\", \"\\uc131\\uc7a5\", \"\\uc131\\uc7a5\", \"\\uc131\\uc7a5\", \"\\uc131\\uc7a5\", \"\\uc131\\uc7a5\", \"\\uc131\\uc7a5\", \"\\uc138\\ubc00\", \"\\uc138\\ubd80\", \"\\uc138\\ubd80\", \"\\uc138\\uc785\", \"\\uc138\\ucd9c\", \"\\uc13c\\ud130\", \"\\uc13c\\ud130\", \"\\uc13c\\ud130\", \"\\uc13c\\ud130\", \"\\uc13c\\ud130\", \"\\uc13c\\ud130\", \"\\uc13c\\ud130\", \"\\uc13c\\ud130\", \"\\uc13c\\ud130\", \"\\uc170\\ud504\", \"\\uc18c\\uba78\", \"\\uc18c\\uc18d\", \"\\uc18c\\uc2a4\", \"\\uc18c\\uc678\", \"\\uc18c\\uc7a5\", \"\\uc18c\\ud1b5\", \"\\uc18c\\ud1b5\", \"\\uc18c\\ud1b5\", \"\\uc18c\\ud1b5\", \"\\uc18c\\ud1b5\", \"\\uc1a1\\ub144\", \"\\uc218\\ub2a5\", \"\\uc218\\ub2a5\", \"\\uc218\\uc0c1\\uc790\", \"\\uc218\\uc5c5\", \"\\uc218\\uc5c5\", \"\\uc218\\uc5c5\", \"\\uc218\\uc5c5\", \"\\uc218\\uc5c5\", \"\\uc218\\uc5c5\", \"\\uc218\\uc5c5\", \"\\uc218\\uc5c5\", \"\\uc218\\uc5c5\", \"\\uc218\\uc5c5\", \"\\uc218\\uc694\\uc77c\", \"\\uc218\\uc900\", \"\\uc218\\uc900\", \"\\uc218\\ud559\", \"\\uc218\\ud559\", \"\\uc218\\ud559\", \"\\uc218\\ud559\", \"\\uc218\\ud589\", \"\\uc218\\ud5d8\\uc0dd\", \"\\uc219\\uc758\", \"\\uc21c\\ucc9c\", \"\\uc21c\\ud658\", \"\\uc290\\ub7ad\", \"\\uc2a4\\ub9c8\\ud2b8\", \"\\uc2a4\\ub9c8\\ud2b8\", \"\\uc2a4\\ub9c8\\ud2b8\", \"\\uc2a4\\ub9c8\\ud2b8\", \"\\uc2a4\\ub9c8\\ud2b8\", \"\\uc2a4\\ucfe8\", \"\\uc2a4\\ucfe8\", \"\\uc2a4\\ucfe8\", \"\\uc2a4\\ucfe8\", \"\\uc2a4\\ud0c0\", \"\\uc2a4\\ud3ec\\uce20\", \"\\uc2ac\\ub85c\\uac74\", \"\\uc2dc\\uac04\", \"\\uc2dc\\uac04\", \"\\uc2dc\\uac04\", \"\\uc2dc\\uac04\", \"\\uc2dc\\uac04\", \"\\uc2dc\\ub300\", \"\\uc2dc\\ub300\", \"\\uc2dc\\ub300\", \"\\uc2dc\\ub300\", \"\\uc2dc\\ub300\", \"\\uc2dc\\ub300\", \"\\uc2dc\\ub300\", \"\\uc2dc\\ub300\", \"\\uc2dc\\ub300\", \"\\uc2dc\\ub300\", \"\\uc2dc\\ub300\", \"\\uc2dc\\ub300\", \"\\uc2dc\\ub300\", \"\\uc2dc\\ub300\", \"\\uc2dc\\ub300\", \"\\uc2dc\\ubbfc\", \"\\uc2dc\\ubbfc\", \"\\uc2dc\\ubbfc\", \"\\uc2dc\\ubbfc\", \"\\uc2dc\\ubbfc\", \"\\uc2dc\\ubbfc\", \"\\uc2dc\\ubc94\", \"\\uc2dc\\ubc94\", \"\\uc2dc\\ubc94\", \"\\uc2dc\\ubc94\", \"\\uc2dc\\ubc94\", \"\\uc2dc\\uc0ac\\uc810\", \"\\uc2dc\\uc124\", \"\\uc2dc\\uc124\", \"\\uc2dc\\uc124\", \"\\uc2dc\\uc124\", \"\\uc2dc\\uc124\", \"\\uc2dc\\uc124\", \"\\uc2dc\\uc124\", \"\\uc2dc\\uc124\", \"\\uc2dc\\uc124\", \"\\uc2dc\\uc2a4\", \"\\uc2dc\\uc2a4\", \"\\uc2dc\\uc2a4\", \"\\uc2dc\\uc2a4\", \"\\uc2dc\\uc2a4\\ud15c\", \"\\uc2dc\\uc2a4\\ud15c\", \"\\uc2dc\\uc2a4\\ud15c\", \"\\uc2dc\\uc2a4\\ud15c\", \"\\uc2dc\\uc2a4\\ud15c\", \"\\uc2dc\\uc2a4\\ud15c\", \"\\uc2dc\\uc2a4\\ud15c\", \"\\uc2dc\\uc791\\ud558\", \"\\uc2dc\\uc791\\ud558\", \"\\uc2dc\\ud2f0\", \"\\uc2dc\\ud5d8\", \"\\uc2dc\\ud5d8\", \"\\uc2dc\\ud765\", \"\\uc2e0\\uae30\", \"\\uc2e0\\ub77c\", \"\\uc2e0\\ub8b0\", \"\\uc2e0\\uc124\", \"\\uc2e0\\uc124\", \"\\uc2e0\\uc785\\uc0dd\", \"\\uc2e0\\uc885\", \"\\uc2e0\\ucd95\", \"\\uc2e4\\ub825\", \"\\uc2e4\\ub825\", \"\\uc2e4\\ubb34\", \"\\uc2e4\\ubb34\", \"\\uc2e4\\uc2b5\\uc2e4\", \"\\uc2e4\\uc6a9\", \"\\uc2ec\\uac01\", \"\\uc2ec\\ub3c4\", \"\\uc2ec\\uc0ac\", \"\\uc2ec\\uc758\", \"\\uc2ec\\uc758\", \"\\uc544\\uc11c\", \"\\uc544\\uc6b0\\ub974\", \"\\uc544\\uc6b0\\ub974\", \"\\uc544\\uc6b0\\ub974\", \"\\uc544\\uc774\", \"\\uc544\\uc774\", \"\\uc544\\uc774\", \"\\uc544\\uc774\", \"\\uc544\\uc774\", \"\\uc544\\uc774\", \"\\uc544\\uc774\", \"\\uc544\\uc774\", \"\\uc544\\uc774\", \"\\uc544\\ud2b8\", \"\\uc548\\ub3d9\\uc2dc\", \"\\uc548\\ubd80\", \"\\uc548\\uc131\", \"\\uc548\\uc804\", \"\\uc548\\uc804\", \"\\uc548\\uc804\", \"\\uc548\\uc804\", \"\\uc548\\uc804\", \"\\uc548\\uc804\", \"\\uc548\\uc804\", \"\\uc548\\uc804\", \"\\uc548\\uc804\\uacfc\", \"\\uc548\\ucc29\", \"\\uc55e\\ub2f9\\uae30\", \"\\uc55e\\ub2f9\\uae30\", \"\\uc55e\\ub2f9\\uae30\", \"\\uc591\\uc0ac\", \"\\uc591\\uc0b0\", \"\\uc591\\uc0b0\", \"\\uc591\\uc131\", \"\\uc591\\uc131\", \"\\uc591\\uc131\", \"\\uc591\\uc131\", \"\\uc591\\uc131\", \"\\uc591\\uc131\", \"\\uc591\\uc131\", \"\\uc5b4\\ub290\\uc0c8\", \"\\uc5b4\\ub460\", \"\\uc5b4\\ub824\\uc6cc\\uc9c0\", \"\\uc5b4\\ub9b0\\uc774\", \"\\uc5b4\\ud559\", \"\\uc5c5\\ubb34\", \"\\uc5c5\\ubb34\", \"\\uc5c5\\ubb34\", \"\\uc5c5\\ubb34\", \"\\uc5c5\\ubb34\", \"\\uc5d0\\ub108\\uc9c0\", \"\\uc5d0\\ub108\\uc9c0\", \"\\uc5d0\\uc11c\", \"\\uc5d0\\uc11c\", \"\\uc5d0\\uc11c\", \"\\uc5d0\\uc11c\", \"\\uc5d0\\uc11c\", \"\\uc5d0\\uc11c\", \"\\uc5d0\\uc11c\", \"\\uc5d0\\uc11c\", \"\\uc5d0\\uc11c\", \"\\uc5d0\\uc11c\", \"\\uc5d0\\uc11c\", \"\\uc5d0\\uc11c\", \"\\uc5d0\\uc11c\", \"\\uc5d0\\uc11c\", \"\\uc5d0\\uc11c\", \"\\uc5d0\\uc11c\", \"\\uc5d0\\uc11c\", \"\\uc5d0\\uc774\", \"\\uc5ec\\uac74\", \"\\uc5ec\\uac74\", \"\\uc5ec\\uac74\", \"\\uc5ec\\uac74\", \"\\uc5ec\\uace0\", \"\\uc5ec\\ub300\", \"\\uc5ec\\ub7ec\\ubd84\", \"\\uc5ec\\ub860\", \"\\uc5ec\\uc6b8\", \"\\uc5ec\\uc758\\ub3c4\", \"\\uc5ec\\uc790\", \"\\uc5ed\\ub7c9\", \"\\uc5ed\\ub7c9\", \"\\uc5ed\\ub7c9\", \"\\uc5ed\\ub7c9\", \"\\uc5ed\\ub7c9\", \"\\uc5ed\\ub7c9\", \"\\uc5ed\\ub7c9\", \"\\uc5ed\\ub7c9\", \"\\uc5ed\\uc784\", \"\\uc5ed\\ud560\", \"\\uc5ed\\ud560\", \"\\uc5ed\\ud560\", \"\\uc5ed\\ud560\", \"\\uc5ed\\ud560\", \"\\uc5ed\\ud560\", \"\\uc5ed\\ud560\", \"\\uc5ed\\ud560\", \"\\uc5f0\\uacc4\", \"\\uc5f0\\uacc4\", \"\\uc5f0\\uacc4\", \"\\uc5f0\\uacc4\", \"\\uc5f0\\uacc4\", \"\\uc5f0\\uacc4\", \"\\uc5f0\\uacc4\", \"\\uc5f0\\uacc4\", \"\\uc5f0\\uacc4\", \"\\uc5f0\\uad6c\", \"\\uc5f0\\uad6c\", \"\\uc5f0\\uad6c\", \"\\uc5f0\\uad6c\", \"\\uc5f0\\uad6c\", \"\\uc5f0\\uad6c\", \"\\uc5f0\\uad6c\", \"\\uc5f0\\uad6c\", \"\\uc5f0\\uad6c\\uc18c\", \"\\uc5f0\\uad6c\\uc18c\", \"\\uc5f0\\uad6c\\ud68c\", \"\\uc5f0\\uc138\\ub300\", \"\\uc5f0\\uc218\", \"\\uc5f0\\uc218\", \"\\uc5f0\\uc218\", \"\\uc5f0\\uc218\", \"\\uc5f0\\uc218\", \"\\uc5f0\\uc218\", \"\\uc5f0\\ud569\", \"\\uc5f0\\ud569\", \"\\uc5f0\\ud569\", \"\\uc5f0\\ud76c\", \"\\uc5f4\\ub9ac\", \"\\uc5f4\\ub9ac\", \"\\uc5f4\\ub9ac\", \"\\uc5f4\\ub9ac\", \"\\uc5f4\\uc758\", \"\\uc601\\uaddc\", \"\\uc601\\ub3c4\", \"\\uc601\\uc5b4\", \"\\uc601\\uc5b4\", \"\\uc601\\uc7ac\", \"\\uc608\\uacb0\\uc704\", \"\\uc608\\ubd09\", \"\\uc608\\ube44\", \"\\uc608\\uc0b0\", \"\\uc608\\uc0b0\", \"\\uc608\\uc220\", \"\\uc608\\uc220\", \"\\uc608\\uc220\", \"\\uc608\\uc815\", \"\\uc608\\uc815\", \"\\uc608\\uc815\", \"\\uc608\\uc815\", \"\\uc608\\uc815\", \"\\uc608\\uc815\", \"\\uc608\\uc815\", \"\\uc608\\uc815\", \"\\uc608\\uc815\", \"\\uc608\\uc815\", \"\\uc608\\uc815\", \"\\uc624\\uae08\", \"\\uc624\\uae08\\ub3d9\", \"\\uc624\\uc0b0\", \"\\uc624\\uc0b0\", \"\\uc624\\uc0b0\\uc2dc\", \"\\uc624\\uc0b0\\uc2dc\", \"\\uc624\\uc804\", \"\\uc624\\uc804\", \"\\uc624\\ud504\\ub77c\\uc778\", \"\\uc624\\ud504\\ub77c\\uc778\", \"\\uc624\\ud504\\ub77c\\uc778\", \"\\uc624\\ud504\\ub77c\\uc778\", \"\\uc624\\ud504\\ub77c\\uc778\", \"\\uc624\\ud504\\ub77c\\uc778\", \"\\uc624\\ud508\", \"\\uc624\\ud508\", \"\\uc624\\ud6c4\", \"\\uc624\\ud6c4\", \"\\uc625\\ucc9c\", \"\\uc628\\ub77c\\uc778\", \"\\uc628\\ub77c\\uc778\", \"\\uc628\\ub77c\\uc778\", \"\\uc628\\ub77c\\uc778\", \"\\uc628\\ub77c\\uc778\", \"\\uc628\\ub77c\\uc778\", \"\\uc628\\ub77c\\uc778\", \"\\uc628\\ub77c\\uc778\", \"\\uc628\\ub77c\\uc778\", \"\\uc628\\ub77c\\uc778\", \"\\uc62c\\ud574\", \"\\uc62c\\ud574\", \"\\uc62c\\ud574\", \"\\uc62c\\ud574\", \"\\uc62c\\ud574\", \"\\uc62c\\ud574\", \"\\uc62c\\ud574\", \"\\uc62c\\ud574\", \"\\uc62c\\ud574\", \"\\uc640\\uc774\", \"\\uc644\\uc131\", \"\\uc644\\uc131\", \"\\uc644\\uc131\", \"\\uc644\\uc131\", \"\\uc67c\\ucabd\", \"\\uc6b0\\ub9ac\", \"\\uc6b0\\ub9ac\", \"\\uc6b0\\ub9ac\", \"\\uc6b0\\ub9ac\", \"\\uc6b0\\ub9ac\", \"\\uc6b0\\ub9ac\", \"\\uc6b0\\ub9ac\", \"\\uc6b0\\ub9ac\", \"\\uc6b0\\ub9ac\", \"\\uc6b0\\ub9ac\", \"\\uc6b0\\ub9ac\", \"\\uc6b0\\uc120\", \"\\uc6b0\\uc120\", \"\\uc6b4\\ub3d9\", \"\\uc6b4\\uc601\", \"\\uc6b4\\uc601\", \"\\uc6b4\\uc601\", \"\\uc6b4\\uc601\", \"\\uc6b4\\uc601\", \"\\uc6b4\\uc601\", \"\\uc6b4\\uc601\", \"\\uc6b4\\uc601\", \"\\uc6b4\\uc601\", \"\\uc6b4\\uc601\", \"\\uc6b4\\uc601\", \"\\uc6b4\\uc601\", \"\\uc6b4\\uc6a9\", \"\\uc6b4\\uc6a9\", \"\\uc6b4\\uc6a9\", \"\\uc6b4\\uc6a9\", \"\\uc6b8\\uc0b0\", \"\\uc6b8\\uc0b0\", \"\\uc6b8\\uc0b0\\uc2dc\", \"\\uc6b8\\uc0b0\\uc2dc\", \"\\uc6cc\\ud06c\\uc20d\", \"\\uc6cc\\ud06c\\uc20d\", \"\\uc6cc\\ud06c\\uc20d\", \"\\uc6d0\\uaca9\", \"\\uc6d0\\uaca9\", \"\\uc6d0\\uaca9\", \"\\uc6d0\\uaca9\", \"\\uc6d0\\uc8fc\", \"\\uc6d0\\ud0c1\", \"\\uc6d0\\ud65c\", \"\\uc704\\uae30\", \"\\uc704\\uae30\", \"\\uc704\\uae30\", \"\\uc704\\uae30\", \"\\uc704\\uae30\", \"\\uc704\\uae30\", \"\\uc704\\uae30\", \"\\uc704\\uae30\", \"\\uc704\\uae30\", \"\\uc704\\uc6d0\\uc7a5\", \"\\uc704\\uc6d0\\uc7a5\", \"\\uc704\\uc6d0\\uc7a5\", \"\\uc704\\uc6d0\\ud68c\", \"\\uc704\\uc6d0\\ud68c\", \"\\uc704\\uc6d0\\ud68c\", \"\\uc704\\uce58\", \"\\uc704\\uce58\", \"\\uc704\\ud558\", \"\\uc704\\ud558\", \"\\uc704\\ud558\", \"\\uc704\\ud558\", \"\\uc704\\ud558\", \"\\uc704\\ud558\", \"\\uc704\\ud558\", \"\\uc704\\ud558\", \"\\uc704\\ud558\", \"\\uc704\\ud558\", \"\\uc704\\ud558\", \"\\uc704\\ud558\", \"\\uc704\\ud558\", \"\\uc704\\ud558\", \"\\uc704\\ud574\", \"\\uc720\\ub3c4\", \"\\uc720\\ub7fd\", \"\\uc720\\uba85\", \"\\uc720\\uce58\", \"\\uc720\\uce58\\uc6d0\", \"\\uc720\\uce58\\uc6d0\", \"\\uc720\\uce58\\uc6d0\", \"\\uc720\\uce58\\uc6d0\", \"\\uc720\\ud559\\uc0dd\", \"\\uc720\\ud68c\", \"\\uc721\\uc131\", \"\\uc721\\uc131\", \"\\uc721\\uc131\", \"\\uc721\\uc131\", \"\\uc721\\uc131\", \"\\uc721\\uc131\", \"\\uc721\\uc544\", \"\\uc735\\ud569\", \"\\uc735\\ud569\", \"\\uc735\\ud569\", \"\\uc735\\ud569\", \"\\uc735\\ud569\", \"\\uc735\\ud569\", \"\\uc735\\ud569\", \"\\uc735\\ud569\", \"\\uc735\\ud569\", \"\\uc735\\ud569\", \"\\uc73c\\uba74\", \"\\uc740\\ud589\", \"\\uc740\\ud61c\", \"\\uc740\\ud61c\", \"\\uc751\\ubaa8\", \"\\uc758\\uacac\", \"\\uc758\\uacac\", \"\\uc758\\uacb0\", \"\\uc758\\ub839\\uad70\", \"\\uc758\\ub8b0\", \"\\uc758\\uc2dd\", \"\\uc758\\uc6d0\", \"\\uc758\\uc6d0\", \"\\uc758\\uc6d0\", \"\\uc758\\uc6d0\", \"\\uc758\\uc758\", \"\\uc758\\uc9c0\", \"\\uc758\\uc9c0\", \"\\uc758\\uc9c0\", \"\\uc758\\ud639\", \"\\uc774\\ub04c\\uc5b4\\ub0b4\", \"\\uc774\\ub0a0\", \"\\uc774\\ub0a0\", \"\\uc774\\ub0a0\", \"\\uc774\\ub0a0\", \"\\uc774\\ub0a0\", \"\\uc774\\ub0a0\", \"\\uc774\\ub2ec\", \"\\uc774\\ubc88\", \"\\uc774\\ubc88\", \"\\uc774\\ubc88\", \"\\uc774\\ubc88\", \"\\uc774\\ubc88\", \"\\uc774\\ubc88\", \"\\uc774\\ubc88\", \"\\uc774\\ubc88\", \"\\uc774\\ubc88\", \"\\uc774\\ubc88\", \"\\uc774\\ubc88\", \"\\uc774\\ubca4\\ud2b8\", \"\\uc774\\uc0ac\", \"\\uc774\\uc0ac\\uc7a5\", \"\\uc774\\uc0ac\\ud68c\", \"\\uc774\\uc218\", \"\\uc774\\uc288\", \"\\uc774\\uc57c\\uae30\", \"\\uc774\\uc57c\\uae30\", \"\\uc774\\uc57c\\uae30\", \"\\uc774\\uc57c\\uae30\", \"\\uc774\\uc591\", \"\\uc774\\uc5b4\\uc9c0\", \"\\uc774\\uc5b4\\uc9c0\", \"\\uc774\\ucc9c\", \"\\uc774\\ud2c0\\uac04\", \"\\uc774\\ud55c\\ubcf5\", \"\\uc774\\ud574\", \"\\uc774\\ud574\", \"\\uc774\\ud574\", \"\\uc774\\ud574\", \"\\uc774\\ud574\\ub3c4\", \"\\uc774\\ud654\", \"\\uc778\\uacf5\\uc9c0\\ub2a5\", \"\\uc778\\uacf5\\uc9c0\\ub2a5\", \"\\uc778\\uacf5\\uc9c0\\ub2a5\", \"\\uc778\\uacf5\\uc9c0\\ub2a5\", \"\\uc778\\uacf5\\uc9c0\\ub2a5\", \"\\uc778\\uacf5\\uc9c0\\ub2a5\", \"\\uc778\\uacf5\\uc9c0\\ub2a5\", \"\\uc778\\uacf5\\uc9c0\\ub2a5\", \"\\uc778\\uacf5\\uc9c0\\ub2a5\", \"\\uc778\\uad6c\", \"\\uc778\\uad6c\", \"\\uc778\\uad6c\", \"\\uc778\\uc2dd\", \"\\uc778\\uc2dd\", \"\\uc778\\uc6d0\", \"\\uc778\\uc7ac\", \"\\uc778\\uc7ac\", \"\\uc778\\uc7ac\", \"\\uc778\\uc7ac\", \"\\uc778\\uc7ac\", \"\\uc778\\uc7ac\", \"\\uc778\\uc7ac\", \"\\uc778\\uc7ac\", \"\\uc778\\uc7ac\", \"\\uc778\\uc7ac\", \"\\uc778\\uc815\", \"\\uc778\\ucc9c\", \"\\uc778\\ucc9c\", \"\\uc778\\ucc9c\", \"\\uc778\\ucc9c\\uad11\\uc5ed\\uc2dc\", \"\\uc778\\ucc9c\\uc2dc\", \"\\uc778\\ucc9c\\uc2dc\", \"\\uc778\\ucc9c\\uc2dc\", \"\\uc778\\ucc9c\\uc2dc\", \"\\uc778\\ud130\\ub137\\ub9dd\", \"\\uc778\\ud134\", \"\\uc778\\ud504\\ub77c\", \"\\uc778\\ud504\\ub77c\", \"\\uc778\\ud504\\ub77c\", \"\\uc778\\ud504\\ub77c\", \"\\uc778\\ud504\\ub77c\", \"\\uc778\\ud558\", \"\\uc778\\ud558\", \"\\uc77c\\uac04\", \"\\uc77c\\uc120\", \"\\uc77c\\ud658\", \"\\uc784\\uae30\", \"\\uc784\\uba85\", \"\\uc784\\uc0c1\", \"\\uc785\\uc2dc\", \"\\uc790\\uae30\", \"\\uc790\\uae30\", \"\\uc790\\uae30\", \"\\uc790\\ub140\", \"\\uc790\\ub140\", \"\\uc790\\ub140\", \"\\uc790\\ub85c\", \"\\uc790\\ub8cc\", \"\\uc790\\ub8cc\", \"\\uc790\\ub8cc\", \"\\uc790\\ub8cc\", \"\\uc790\\ub8cc\", \"\\uc790\\ub9ac\", \"\\uc790\\ub9ac\", \"\\uc790\\ub9ac\", \"\\uc790\\ub9ac\", \"\\uc790\\ub9ac\", \"\\uc790\\ubb38\", \"\\uc790\\ubc1c\\uc801\", \"\\uc790\\uc0b0\", \"\\uc790\\uc0b0\", \"\\uc790\\uc0b0\", \"\\uc790\\uc2e0\", \"\\uc790\\uc2e0\", \"\\uc790\\uc2e0\", \"\\uc790\\uc2e0\", \"\\uc790\\uc5f0\", \"\\uc790\\uc758\", \"\\uc790\\uce58\", \"\\uc790\\uce58\", \"\\uc790\\uce58\", \"\\uc790\\uce58\", \"\\uc790\\uce58\", \"\\uc7a0\\uc7ac\\ub825\", \"\\uc7a5\\uad00\", \"\\uc7a5\\uad00\", \"\\uc7a5\\ubcd1\", \"\\uc7a5\\ud559\", \"\\uc7a5\\ud559\\uc0ac\", \"\\uc7ac\\ub09c\", \"\\uc7ac\\ub09c\", \"\\uc7ac\\ub2e8\", \"\\uc7ac\\ub2e8\", \"\\uc7ac\\ub2e8\", \"\\uc7ac\\uc6d0\", \"\\uc7ac\\uc778\", \"\\uc7ac\\uc815\", \"\\uc7ac\\ud310\\ub9e4\", \"\\uc800\\ubcc0\", \"\\uc800\\ucd9c\\uc0b0\", \"\\uc801\\uadf9\", \"\\uc801\\uadf9\", \"\\uc801\\uadf9\", \"\\uc801\\uc6a9\", \"\\uc801\\uc6a9\", \"\\uc801\\uc6a9\", \"\\uc801\\uc751\", \"\\uc801\\uc808\", \"\\uc801\\ud569\", \"\\uc804\\uacbd\", \"\\uc804\\uacbd\", \"\\uc804\\uacf5\", \"\\uc804\\uacf5\", \"\\uc804\\uacf5\", \"\\uc804\\uad50\\uc870\", \"\\uc804\\uad50\\uc870\", \"\\uc804\\ub0a0\", \"\\uc804\\ub2ec\", \"\\uc804\\ub2f4\", \"\\uc804\\ub77c\", \"\\uc804\\ub77c\", \"\\uc804\\ub7b5\", \"\\uc804\\ub7b5\", \"\\uc804\\ubb38\", \"\\uc804\\ubb38\", \"\\uc804\\ubb38\", \"\\uc804\\ubb38\", \"\\uc804\\ubb38\", \"\\uc804\\ubb38\\uac00\", \"\\uc804\\ubb38\\uac00\", \"\\uc804\\ubb38\\uac00\", \"\\uc804\\ubb38\\uac00\", \"\\uc804\\ubb38\\uac00\", \"\\uc804\\ubb38\\uac00\", \"\\uc804\\ubb38\\uc801\", \"\\uc804\\ubb38\\uc801\", \"\\uc804\\ubb38\\uc9c1\", \"\\uc804\\ubc18\", \"\\uc804\\uc0b0\\ub9dd\", \"\\uc804\\uc2dc\", \"\\uc804\\uc2dc\", \"\\uc804\\uc2dc\", \"\\uc804\\uc2dc\", \"\\uc804\\uc2dc\", \"\\uc804\\uc561\", \"\\uc804\\uc790\", \"\\uc804\\ud30c\", \"\\uc804\\ud658\", \"\\uc804\\ud658\", \"\\uc804\\ud658\", \"\\uc804\\ud658\", \"\\uc804\\ud658\", \"\\uc804\\ud658\", \"\\uc804\\ud658\", \"\\uc804\\ud658\", \"\\uc804\\ud658\", \"\\uc804\\ud658\", \"\\uc804\\ud658\\uc810\", \"\\uc810\\uac80\", \"\\uc810\\uac80\", \"\\uc811\\uadfc\", \"\\uc811\\ud558\", \"\\uc815\\ubcf4\", \"\\uc815\\ubcf4\", \"\\uc815\\ubcf4\", \"\\uc815\\ubd80\", \"\\uc815\\ubd80\", \"\\uc815\\ubd80\", \"\\uc815\\ubd80\", \"\\uc815\\ubd80\", \"\\uc815\\ubd80\", \"\\uc815\\ubd80\", \"\\uc815\\ubd80\", \"\\uc815\\uc2dc\", \"\\uc815\\uc2dd\", \"\\uc815\\uc9c4\", \"\\uc815\\ucc45\", \"\\uc815\\ucc45\", \"\\uc815\\ucc45\", \"\\uc815\\ucc45\", \"\\uc815\\ucc45\", \"\\uc815\\ucc45\", \"\\uc815\\ucc45\", \"\\uc815\\ucc45\", \"\\uc815\\ucc45\", \"\\uc815\\ucc45\", \"\\uc815\\ucc45\", \"\\uc81c\\uace0\", \"\\uc81c\\uace0\", \"\\uc81c\\uacf5\", \"\\uc81c\\uacf5\", \"\\uc81c\\uacf5\", \"\\uc81c\\uacf5\", \"\\uc81c\\uacf5\", \"\\uc81c\\uacf5\", \"\\uc81c\\uacf5\", \"\\uc81c\\uacf5\", \"\\uc81c\\uacf5\", \"\\uc81c\\uacf5\", \"\\uc81c\\ub3c4\", \"\\uc81c\\ub3c4\", \"\\uc81c\\ub3c4\", \"\\uc81c\\ub85c\", \"\\uc81c\\uc2dc\", \"\\uc81c\\uc2dc\", \"\\uc81c\\uc2dc\", \"\\uc81c\\uc2dc\", \"\\uc81c\\uc2dc\", \"\\uc81c\\uc2dc\", \"\\uc81c\\uc2dc\", \"\\uc81c\\uc548\", \"\\uc81c\\uc548\", \"\\uc81c\\uc548\", \"\\uc81c\\uc870\", \"\\uc81c\\uc8fc\", \"\\uc81c\\uc8fc\\ub3c4\", \"\\uc81c\\ucd9c\", \"\\uc81c\\ucd9c\", \"\\uc870\\ub9ac\", \"\\uc870\\uc0ac\", \"\\uc870\\uc0ac\", \"\\uc870\\uc131\", \"\\uc870\\uc131\", \"\\uc870\\uc131\", \"\\uc870\\uc131\", \"\\uc870\\uc131\", \"\\uc870\\uc131\", \"\\uc870\\uc131\", \"\\uc870\\uc131\", \"\\uc870\\uc131\", \"\\uc870\\uc131\", \"\\uc870\\uc9c1\", \"\\uc870\\uc9c1\", \"\\uc870\\uc9c1\", \"\\uc870\\uc9c1\", \"\\uc870\\ucc98\", \"\\uc870\\ud569\", \"\\uc870\\ud76c\", \"\\uc885\\ub2e8\", \"\\uc885\\uba85\", \"\\uc885\\ud569\", \"\\uc885\\ud569\", \"\\uc8fc\\ub3c4\\uc131\", \"\\uc8fc\\ub3c4\\uc801\", \"\\uc8fc\\ub3c4\\uc801\", \"\\uc8fc\\ub825\", \"\\uc8fc\\ub825\", \"\\uc8fc\\ubbfc\", \"\\uc8fc\\ubbfc\", \"\\uc8fc\\ubc29\\uc7a5\", \"\\uc8fc\\uc81c\", \"\\uc8fc\\uc81c\", \"\\uc8fc\\uc81c\", \"\\uc8fc\\uc81c\", \"\\uc8fc\\uc81c\", \"\\uc8fc\\uc81c\", \"\\uc8fc\\uc81c\", \"\\uc8fc\\uc81c\", \"\\uc8fc\\uc81c\", \"\\uc8fc\\uccb4\\uc801\", \"\\uc8fc\\ucd5c\", \"\\uc8fc\\ucd5c\", \"\\uc900\\ube44\", \"\\uc900\\ube44\", \"\\uc900\\ube44\", \"\\uc900\\ube44\", \"\\uc900\\ube44\", \"\\uc900\\ube44\", \"\\uc900\\ube44\", \"\\uc900\\ube44\", \"\\uc900\\ube44\", \"\\uc900\\uc218\", \"\\uc904\\uc774\", \"\\uc911\\uacc4\", \"\\uc911\\uacc4\", \"\\uc911\\uc2ec\", \"\\uc911\\uc2ec\", \"\\uc911\\uc2ec\", \"\\uc911\\uc2ec\", \"\\uc911\\uc2ec\", \"\\uc911\\uc2ec\", \"\\uc911\\uc2ec\", \"\\uc911\\uc2ec\", \"\\uc911\\uc2ec\", \"\\uc911\\uc2ec\", \"\\uc911\\uc2ec\", \"\\uc911\\uc559\", \"\\uc911\\uc559\", \"\\uc911\\uc559\", \"\\uc911\\uc694\", \"\\uc911\\uc694\", \"\\uc911\\uc694\", \"\\uc911\\uc774\", \"\\uc911\\uc7a5\\uae30\", \"\\uc911\\uc810\", \"\\uc911\\uc810\", \"\\uc911\\uc810\", \"\\uc99d\\uac00\", \"\\uc99d\\uac15\", \"\\uc9c0\\uad6c\", \"\\uc9c0\\uad6c\", \"\\uc9c0\\uad6c\", \"\\uc9c0\\uad6c\", \"\\uc9c0\\ub098\", \"\\uc9c0\\ub098\", \"\\uc9c0\\ub098\", \"\\uc9c0\\ub098\", \"\\uc9c0\\ub098\", \"\\uc9c0\\ub098\", \"\\uc9c0\\ub098\", \"\\uc9c0\\ub098\", \"\\uc9c0\\ub098\", \"\\uc9c0\\ub098\", \"\\uc9c0\\ub098\", \"\\uc9c0\\ub098\", \"\\uc9c0\\ub09c\\ub2ec\", \"\\uc9c0\\ub2a5\", \"\\uc9c0\\ub2a5\", \"\\uc9c0\\ub2a5\", \"\\uc9c0\\ubc29\", \"\\uc9c0\\ubc29\", \"\\uc9c0\\uc0ac\", \"\\uc9c0\\uc0ac\", \"\\uc9c0\\uc18d\", \"\\uc9c0\\uc18d\", \"\\uc9c0\\uc18d\", \"\\uc9c0\\uc18d\", \"\\uc9c0\\uc18d\", \"\\uc9c0\\uc18d\", \"\\uc9c0\\uc18d\", \"\\uc9c0\\uc18d\", \"\\uc9c0\\uc5ed\", \"\\uc9c0\\uc5ed\", \"\\uc9c0\\uc5ed\", \"\\uc9c0\\uc5ed\", \"\\uc9c0\\uc5ed\", \"\\uc9c0\\uc5ed\", \"\\uc9c0\\uc5ed\", \"\\uc9c0\\uc5ed\", \"\\uc9c0\\uc5ed\\ubbfc\", \"\\uc9c0\\uc6d0\", \"\\uc9c0\\uc6d0\", \"\\uc9c0\\uc6d0\", \"\\uc9c0\\uc6d0\", \"\\uc9c0\\uc6d0\", \"\\uc9c0\\uc6d0\", \"\\uc9c0\\uc6d0\", \"\\uc9c0\\uc6d0\", \"\\uc9c0\\uc6d0\", \"\\uc9c0\\uc6d0\", \"\\uc9c0\\uc6d0\", \"\\uc9c0\\uc6d0\", \"\\uc9c0\\uc6d0\", \"\\uc9c0\\uc6d0\", \"\\uc9c0\\uc6d0\", \"\\uc9c0\\uc790\\uccb4\", \"\\uc9c0\\uc790\\uccb4\", \"\\uc9c0\\uc790\\uccb4\", \"\\uc9c0\\ud45c\", \"\\uc9c0\\ud5a5\", \"\\uc9c0\\ud5a5\", \"\\uc9c0\\ud5a5\", \"\\uc9c0\\ud5a5\", \"\\uc9c0\\ud5a5\", \"\\uc9c0\\ud61c\", \"\\uc9c0\\ud61c\", \"\\uc9c1\\uc5c5\", \"\\uc9c1\\uc5c5\", \"\\uc9c1\\uc5c5\", \"\\uc9c1\\uc5c5\", \"\\uc9c4\\uad6c\", \"\\uc9c4\\ub2e8\", \"\\uc9c4\\ub2e8\", \"\\uc9c4\\ub2e8\", \"\\uc9c4\\ub2e8\", \"\\uc9c4\\ub85c\", \"\\uc9c4\\ub85c\", \"\\uc9c4\\ub85c\", \"\\uc9c4\\ub85c\", \"\\uc9c4\\ub85c\", \"\\uc9c4\\uc8fc\", \"\\uc9c4\\ucc9c\", \"\\uc9c4\\ud559\", \"\\uc9c4\\ud559\", \"\\uc9c4\\ud559\", \"\\uc9c4\\ud589\", \"\\uc9c4\\ud589\", \"\\uc9c4\\ud589\", \"\\uc9c4\\ud589\", \"\\uc9c4\\ud589\", \"\\uc9c4\\ud589\", \"\\uc9c4\\ud589\", \"\\uc9c4\\ud589\", \"\\uc9c4\\ud589\", \"\\uc9c4\\ud589\", \"\\uc9c4\\ud589\", \"\\uc9c4\\ud589\", \"\\uc9c8\\uc758\", \"\\uc9c8\\uc758\", \"\\uc9d1\\uc911\", \"\\uc9d1\\uc911\", \"\\uc9d1\\uc911\", \"\\uc9d1\\uc911\", \"\\uc9d1\\uc911\", \"\\uc9d1\\ud604\\uc804\", \"\\uc9d1\\ud604\\uc804\", \"\\uc9d1\\ud604\\uc804\", \"\\ucc28\\uadfc\\ucc28\\uadfc\", \"\\ucc28\\ub144\", \"\\ucc28\\ub840\", \"\\ucc28\\ub840\", \"\\ucc28\\ub840\", \"\\ucc28\\ub840\", \"\\ucc28\\uc9c8\", \"\\ucc28\\uc9c8\", \"\\ucc28\\uc9c8\", \"\\ucc38\\uac00\", \"\\ucc38\\uac00\\uc790\", \"\\ucc38\\uc0ac\\ub78c\", \"\\ucc38\\uc0ac\\ub78c\", \"\\ucc38\\uc11d\", \"\\ucc38\\uc11d\", \"\\ucc38\\uc11d\", \"\\ucc38\\uc11d\", \"\\ucc38\\uc11d\", \"\\ucc38\\uc5ec\", \"\\ucc38\\uc5ec\", \"\\ucc38\\uc5ec\", \"\\ucc38\\uc5ec\", \"\\ucc38\\uc5ec\", \"\\ucc38\\uc5ec\", \"\\ucc38\\uc5ec\", \"\\ucc38\\uc5ec\", \"\\ucc38\\uc5ec\", \"\\ucc38\\uc5ec\", \"\\ucc38\\uc5ec\\ub85c\", \"\\ucc38\\uc5ec\\uc790\", \"\\ucc3d\\uc6d0\", \"\\ucc44\\ub110\", \"\\ucc44\\uc6b0\", \"\\ucc45\\uc784\", \"\\ucc45\\uc784\", \"\\ucc9c\\ub9cc\", \"\\ucca8\\ub2e8\", \"\\ucca8\\ub2e8\", \"\\ucca8\\ub2e8\", \"\\ucca8\\ub2e8\", \"\\uccad\\ub834\", \"\\uccad\\ub834\", \"\\uccad\\uc0ac\\uc9c4\", \"\\uccad\\uc0ac\\uc9c4\", \"\\uccb4\\uacb0\", \"\\uccb4\\uc81c\", \"\\uccb4\\uc81c\", \"\\uccb4\\uc81c\", \"\\uccb4\\uc81c\", \"\\uccb4\\uc81c\", \"\\uccb4\\uc81c\", \"\\uccb4\\ud5d8\", \"\\uccb4\\ud5d8\", \"\\uccb4\\ud5d8\", \"\\uccb4\\ud5d8\", \"\\ucd08\\ub4f1\\ud559\\uad50\", \"\\ucd08\\ub4f1\\ud559\\uad50\", \"\\ucd08\\ub4f1\\ud559\\uad50\", \"\\ucd08\\uc720\", \"\\ucd09\\uc9c4\", \"\\ucd2c\\uc601\", \"\\ucd5c\\uadfc\", \"\\ucd5c\\uadfc\", \"\\ucd5c\\uadfc\", \"\\ucd5c\\uadfc\", \"\\ucd5c\\uadfc\", \"\\ucd5c\\ub300\", \"\\ucd5c\\ub300\", \"\\ucd5c\\uc0c1\", \"\\ucd5c\\uc120\", \"\\ucd5c\\uc120\", \"\\ucd5c\\uc120\", \"\\ucd5c\\uc120\", \"\\ucd5c\\uc18c\\ud654\", \"\\ucd5c\\uc2e0\", \"\\ucd5c\\ucd08\", \"\\ucd5c\\ucd08\", \"\\ucd5c\\ucd08\", \"\\ucd94\\uacbd\", \"\\ucd94\\uc9c4\", \"\\ucd94\\uc9c4\", \"\\ucd94\\uc9c4\", \"\\ucd94\\uc9c4\", \"\\ucd94\\uc9c4\", \"\\ucd94\\uc9c4\", \"\\ucd94\\uc9c4\", \"\\ucd94\\uc9c4\", \"\\ucd94\\uc9c4\", \"\\ucd94\\uc9c4\", \"\\ucd94\\uc9c4\", \"\\ucd94\\uc9c4\", \"\\ucd94\\uc9c4\", \"\\ucd94\\uc9c4\", \"\\ucd95\\uc18c\", \"\\ucd95\\uc801\", \"\\ucd95\\uc81c\", \"\\ucd9c\\ubc94\", \"\\ucd9c\\ubc94\", \"\\ucd9c\\ubc94\", \"\\ucda9\\ubd81\", \"\\ucda9\\ubd81\", \"\\ucda9\\ubd81\", \"\\ucda9\\ubd81\", \"\\ucda9\\ubd81\", \"\\ucda9\\ubd81\", \"\\ucda9\\ubd81\", \"\\ucda9\\uc8fc\", \"\\ucda9\\uccad\\ubd81\\ub3c4\", \"\\ucda9\\uccad\\ubd81\\ub3c4\", \"\\ucde8\\uc5c5\", \"\\ucde8\\uc5c5\", \"\\ucde8\\uc5c5\", \"\\ucde8\\uc784\", \"\\ucde8\\uc7ac\", \"\\ucde8\\uc9c0\", \"\\uce58\\uc720\", \"\\uce58\\uc720\", \"\\uce74\\ub4dc\", \"\\uce74\\ud398\", \"\\ucea0\\ud37c\\uc2a4\", \"\\ucef4\\ud4e8\\ud130\", \"\\ucef4\\ud4e8\\ud130\", \"\\ucef4\\ud4e8\\ud130\", \"\\ucf00\\uc774\", \"\\ucf00\\uc774\", \"\\ucf54\\ub85c\\ub098\", \"\\ucf54\\ub85c\\ub098\", \"\\ucf54\\ub85c\\ub098\", \"\\ucf54\\ub85c\\ub098\", \"\\ucf54\\ub85c\\ub098\", \"\\ucf54\\ub85c\\ub098\", \"\\ucf54\\ub85c\\ub098\", \"\\ucf54\\ub85c\\ub098\", \"\\ucf54\\ub85c\\ub098\", \"\\ucf54\\ub9ac\\uc544\", \"\\ucf54\\uce6d\", \"\\ucf54\\uce6d\", \"\\ucf58\\uc11c\\ud2b8\", \"\\ucf58\\ud150\\uce20\", \"\\ucf58\\ud150\\uce20\", \"\\ucf58\\ud150\\uce20\", \"\\ucf58\\ud150\\uce20\", \"\\ucf58\\ud150\\uce20\", \"\\ud074\\ub77c\\uc6b0\\ub4dc\", \"\\ud074\\ub77c\\uc6b0\\ub4dc\", \"\\ud0a4\\uc6b0\", \"\\ud0a4\\uc6b0\", \"\\ud0a4\\uc6b0\", \"\\ud0a4\\uc6b0\", \"\\ud0a4\\uc6b0\", \"\\ud0a4\\uc6b0\", \"\\ud0a4\\uc6b0\", \"\\ud0a4\\uc6cc\\ub4dc\", \"\\ud0d0\\uad6c\", \"\\ud0d0\\uc0c9\", \"\\ud0d0\\uc0c9\", \"\\ud0d0\\uc0c9\", \"\\ud14c\\ub9c8\", \"\\ud14c\\ud06c\\ub178\", \"\\ud1a0\\ub860\", \"\\ud1a0\\ub860\", \"\\ud1a0\\ub860\", \"\\ud1a0\\ub860\", \"\\ud1a0\\ub860\", \"\\ud1a0\\ub860\\uc790\", \"\\ud1a0\\ub860\\ud68c\", \"\\ud1a0\\ub860\\ud68c\", \"\\ud1a0\\ub860\\ud68c\", \"\\ud1a0\\ub860\\ud68c\", \"\\ud1a0\\ub860\\ud68c\", \"\\ud1a0\\uc758\", \"\\ud1a0\\ud06c\", \"\\ud1a1\\ud1a1\", \"\\ud1a1\\ud1a1\", \"\\ud1b5\\uc2e0\", \"\\ud1b5\\uc2e0\", \"\\ud1b5\\uc77c\", \"\\ud1b5\\ud3d0\\ud569\", \"\\ud1b5\\ud558\", \"\\ud1b5\\ud558\", \"\\ud1b5\\ud558\", \"\\ud1b5\\ud558\", \"\\ud1b5\\ud558\", \"\\ud1b5\\ud558\", \"\\ud1b5\\ud558\", \"\\ud1b5\\ud558\", \"\\ud1b5\\ud558\", \"\\ud1b5\\ud558\", \"\\ud1b5\\ud558\", \"\\ud1b5\\ud558\", \"\\ud1b5\\ud558\", \"\\ud1b5\\ud558\", \"\\ud22c\\ub370\\uc774\", \"\\ud22c\\uc785\", \"\\ud22c\\uc785\", \"\\ud22c\\uc785\", \"\\ud29c\\ube0c\", \"\\ud29c\\ube0c\", \"\\ud29c\\ube0c\", \"\\ud2b9\\uc9d5\", \"\\ud2b9\\uc9d5\", \"\\ud2b9\\ud654\", \"\\ud300\\uc7a5\", \"\\ud300\\uc7a5\", \"\\ud30c\\uc774\\ub0b8\\uc15c\", \"\\ud30c\\ud06c\", \"\\ud30c\\ud06c\", \"\\ud310\\uacb0\", \"\\ud310\\ub2e8\", \"\\ud328\\ub4dc\", \"\\ud328\\ub7ec\\ub2e4\\uc784\", \"\\ud328\\ub7ec\\ub2e4\\uc784\", \"\\ud328\\ub7ec\\ub2e4\\uc784\", \"\\ud328\\ub7ec\\ub2e4\\uc784\", \"\\ud328\\ub7ec\\ub2e4\\uc784\", \"\\ud398\\uc2a4\\ud2f0\\ubc8c\", \"\\ud398\\uc2a4\\ud2f0\\ubc8c\", \"\\ud398\\uc774\\uc9c0\", \"\\ud3b8\\uc131\", \"\\ud3b8\\uc131\", \"\\ud3b8\\uc9d1\", \"\\ud3c9\\uac00\", \"\\ud3c9\\uac00\", \"\\ud3c9\\uac00\", \"\\ud3c9\\uac00\", \"\\ud3c9\\uac00\", \"\\ud3c9\\uac00\", \"\\ud3c9\\uac00\", \"\\ud3c9\\uc0dd\", \"\\ud3c9\\uc0dd\", \"\\ud3c9\\uc0dd\", \"\\ud3c9\\uc0dd\", \"\\ud3c9\\uc0dd\", \"\\ud3ec\\ub7fc\", \"\\ud3ec\\ub7fc\", \"\\ud3ec\\ub7fc\", \"\\ud3ec\\ub7fc\", \"\\ud3ec\\uc2a4\\ud130\", \"\\ud3ec\\uc2a4\\ud2b8\", \"\\ud3ec\\uc2a4\\ud2b8\", \"\\ud3ec\\uc2a4\\ud2b8\", \"\\ud3ec\\uc2a4\\ud2b8\", \"\\ud3ec\\uc2a4\\ud2b8\", \"\\ud3ec\\uc6a9\", \"\\ud3ec\\ud56d\", \"\\ud488\\uc9c8\", \"\\ud504\\ub808\\uc2a4\", \"\\ud504\\ub85c\\uadf8\\ub7a8\", \"\\ud504\\ub85c\\uadf8\\ub7a8\", \"\\ud504\\ub85c\\uadf8\\ub7a8\", \"\\ud504\\ub85c\\uadf8\\ub7a8\", \"\\ud504\\ub85c\\uadf8\\ub7a8\", \"\\ud504\\ub85c\\uadf8\\ub7a8\", \"\\ud504\\ub85c\\uadf8\\ub7a8\", \"\\ud504\\ub9b0\\ud130\", \"\\ud50c\\ub79c\", \"\\ud50c\\ub7ab\\ud3fc\", \"\\ud50c\\ub7ab\\ud3fc\", \"\\ud50c\\ub7ab\\ud3fc\", \"\\ud50c\\ub7ab\\ud3fc\", \"\\ud50c\\ub7ab\\ud3fc\", \"\\ud50c\\ub7ab\\ud3fc\", \"\\ud50c\\ub7ab\\ud3fc\", \"\\ud50c\\ub7ab\\ud3fc\", \"\\ud50c\\ub7ab\\ud3fc\", \"\\ud540\\uc14b\", \"\\ud544\\uc694\", \"\\ud544\\uc694\", \"\\ud544\\uc694\", \"\\ud544\\uc694\", \"\\ud544\\uc694\", \"\\ud544\\uc694\", \"\\ud558\\uacbd\", \"\\ud558\\uc6b0\\uc2a4\", \"\\ud559\\uacfc\", \"\\ud559\\uacfc\", \"\\ud559\\uacfc\", \"\\ud559\\uad50\", \"\\ud559\\uad50\", \"\\ud559\\uad50\", \"\\ud559\\uad50\", \"\\ud559\\uad50\", \"\\ud559\\uad50\", \"\\ud559\\uad50\", \"\\ud559\\uad50\", \"\\ud559\\uad50\", \"\\ud559\\uad50\", \"\\ud559\\uad50\", \"\\ud559\\uad50\", \"\\ud559\\uad50\", \"\\ud559\\uad50\", \"\\ud559\\uad50\", \"\\ud559\\uae09\", \"\\ud559\\uae30\\uc81c\", \"\\ud559\\ub144\", \"\\ud559\\ub144\\uc81c\", \"\\ud559\\ub825\", \"\\ud559\\ub825\", \"\\ud559\\ub825\", \"\\ud559\\ub839\", \"\\ud559\\ubd80\", \"\\ud559\\ubd80\\ubaa8\", \"\\ud559\\ubd80\\ubaa8\", \"\\ud559\\ubd80\\ubaa8\", \"\\ud559\\ubd80\\ubaa8\", \"\\ud559\\ubd80\\ubaa8\", \"\\ud559\\ubd80\\ubaa8\", \"\\ud559\\ubd80\\ubaa8\", \"\\ud559\\ubd80\\ubaa8\", \"\\ud559\\ubd80\\ubaa8\", \"\\ud559\\uc0dd\", \"\\ud559\\uc0dd\", \"\\ud559\\uc0dd\", \"\\ud559\\uc0dd\", \"\\ud559\\uc0dd\", \"\\ud559\\uc0dd\", \"\\ud559\\uc0dd\", \"\\ud559\\uc0dd\", \"\\ud559\\uc0dd\", \"\\ud559\\uc0dd\", \"\\ud559\\uc0dd\", \"\\ud559\\uc0dd\", \"\\ud559\\uc0dd\", \"\\ud559\\uc2b5\", \"\\ud559\\uc2b5\", \"\\ud559\\uc2b5\", \"\\ud559\\uc2b5\", \"\\ud559\\uc2b5\", \"\\ud559\\uc2b5\", \"\\ud559\\uc2b5\", \"\\ud559\\uc2b5\", \"\\ud559\\uc2b5\", \"\\ud559\\uc2b5\", \"\\ud559\\uc2b5\", \"\\ud559\\uc2b5\", \"\\ud559\\uc2b5\\uc790\", \"\\ud559\\uc2b5\\uc790\", \"\\ud559\\uc5c5\", \"\\ud559\\uc704\", \"\\ud559\\uc704\", \"\\ud559\\uc810\\uc81c\", \"\\ud559\\uc810\\uc81c\", \"\\ud559\\uc810\\uc81c\", \"\\ud559\\uc810\\uc81c\", \"\\ud55c\\uad6d\", \"\\ud55c\\uad6d\", \"\\ud55c\\uad6d\", \"\\ud55c\\uad6d\", \"\\ud55c\\uad6d\", \"\\ud55c\\uad6d\\ud310\", \"\\ud55c\\uad6d\\ud615\", \"\\ud55c\\uad6d\\ud615\", \"\\ud55c\\ub9c8\\ub2f9\", \"\\ud568\\uaed8\", \"\\ud568\\uaed8\", \"\\ud568\\uaed8\", \"\\ud568\\uaed8\", \"\\ud568\\uaed8\", \"\\ud568\\uaed8\", \"\\ud568\\uaed8\", \"\\ud568\\uaed8\", \"\\ud568\\uaed8\", \"\\ud568\\uaed8\", \"\\ud568\\uaed8\", \"\\ud568\\uaed8\", \"\\ud574\\uc18c\", \"\\ud574\\uc18c\", \"\\ud574\\uc18c\", \"\\ud574\\uc18c\", \"\\ud575\\uc2ec\", \"\\ud575\\uc2ec\", \"\\ud575\\uc2ec\", \"\\ud575\\uc2ec\", \"\\ud575\\uc2ec\", \"\\ud575\\uc2ec\", \"\\ud575\\uc2ec\", \"\\ud575\\uc2ec\", \"\\ud575\\uc2ec\", \"\\ud589\\ub3d9\", \"\\ud589\\ubcf5\", \"\\ud589\\ubcf5\", \"\\ud589\\ubcf5\", \"\\ud589\\ubcf5\", \"\\ud589\\ubcf5\", \"\\ud589\\ubcf5\", \"\\ud589\\ubcf5\", \"\\ud589\\ubcf5\", \"\\ud589\\ubcf5\", \"\\ud589\\uc0ac\", \"\\ud589\\uc0ac\", \"\\ud589\\uc0ac\", \"\\ud589\\uc0ac\", \"\\ud589\\uc0ac\", \"\\ud601\\uba85\", \"\\ud601\\uba85\", \"\\ud601\\uba85\", \"\\ud601\\uba85\", \"\\ud601\\uba85\", \"\\ud601\\uba85\", \"\\ud601\\uba85\", \"\\ud601\\uba85\", \"\\ud601\\uc2e0\", \"\\ud601\\uc2e0\", \"\\ud601\\uc2e0\", \"\\ud601\\uc2e0\", \"\\ud601\\uc2e0\", \"\\ud601\\uc2e0\", \"\\ud601\\uc2e0\", \"\\ud601\\uc2e0\", \"\\ud601\\uc2e0\", \"\\ud601\\uc2e0\", \"\\ud601\\uc2e0\", \"\\ud601\\uc2e0\", \"\\ud601\\uc2e0\", \"\\ud601\\uc2e0\\uc801\", \"\\ud604\\ub300\", \"\\ud604\\uc0c1\", \"\\ud604\\uc7a5\", \"\\ud604\\uc7a5\", \"\\ud604\\uc7a5\", \"\\ud604\\uc7a5\", \"\\ud604\\uc7a5\", \"\\ud604\\uc7a5\", \"\\ud604\\uc7a5\", \"\\ud604\\uc7a5\", \"\\ud604\\uc7ac\", \"\\ud604\\uc7ac\", \"\\ud604\\uc7ac\", \"\\ud604\\uc7ac\", \"\\ud604\\uc7ac\", \"\\ud604\\uc7ac\", \"\\ud604\\uc9c1\", \"\\ud611\\ub3d9\\uc870\\ud569\", \"\\ud611\\ub3d9\\uc870\\ud569\", \"\\ud611\\ub825\", \"\\ud611\\ub825\", \"\\ud611\\ub825\", \"\\ud611\\ub825\", \"\\ud611\\ub825\", \"\\ud611\\ub825\", \"\\ud611\\ub825\", \"\\ud611\\ub825\", \"\\ud611\\ub825\", \"\\ud611\\uc57d\", \"\\ud611\\uc57d\", \"\\ud611\\uc57d\", \"\\ud611\\uc758\\ud68c\", \"\\ud611\\uc758\\ud68c\", \"\\ud611\\uc758\\ud68c\", \"\\ud611\\uc758\\ud68c\", \"\\ud611\\uce58\", \"\\ud615\\uc124\", \"\\ud615\\uc2dd\", \"\\ud63c\\ud569\\ud615\", \"\\ud63c\\ud569\\ud615\", \"\\ud654\\uc131\", \"\\ud655\\ub300\", \"\\ud655\\ub300\", \"\\ud655\\ub300\", \"\\ud655\\ub300\", \"\\ud655\\ub300\", \"\\ud655\\ub300\", \"\\ud655\\ub300\", \"\\ud655\\ub300\", \"\\ud655\\ub300\", \"\\ud655\\ub300\", \"\\ud655\\ubcf4\", \"\\ud655\\ubcf4\", \"\\ud655\\ubcf4\", \"\\ud655\\ubcf4\", \"\\ud655\\ubcf4\", \"\\ud655\\uc2e4\", \"\\ud655\\uc2e4\\uc131\", \"\\ud655\\uc815\", \"\\ud655\\uc815\", \"\\ud658\\uacbd\", \"\\ud658\\uacbd\", \"\\ud658\\uacbd\", \"\\ud658\\uacbd\", \"\\ud658\\uacbd\", \"\\ud658\\uacbd\", \"\\ud658\\uacbd\", \"\\ud658\\uacbd\", \"\\ud658\\uacbd\", \"\\ud658\\uacbd\", \"\\ud658\\uacbd\", \"\\ud65c\\ub3d9\", \"\\ud65c\\ub3d9\", \"\\ud65c\\ub3d9\", \"\\ud65c\\ub3d9\", \"\\ud65c\\ub3d9\", \"\\ud65c\\ub3d9\", \"\\ud65c\\ub3d9\", \"\\ud65c\\ub3d9\", \"\\ud65c\\uc6a9\", \"\\ud65c\\uc6a9\", \"\\ud65c\\uc6a9\", \"\\ud65c\\uc6a9\", \"\\ud65c\\uc6a9\", \"\\ud65c\\uc6a9\", \"\\ud65c\\uc6a9\", \"\\ud68c\\uacc4\", \"\\ud68c\\uacc4\", \"\\ud68c\\uc6d0\", \"\\ud68c\\uc758\", \"\\ud68c\\uc758\", \"\\ud68c\\uc758\", \"\\ud68c\\uc7a5\", \"\\ud68c\\uc7a5\", \"\\ud68d\\uae30\\uc801\", \"\\ud6a8\\uc728\\uc131\", \"\\ud734\\uc2dd\", \"\\ud765\\ubbf8\", \"\\ud76c\\ub9dd\", \"\\ud76c\\ub9dd\", \"\\ud76c\\ub9dd\", \"\\ud76c\\ub9dd\", \"\\ud76c\\ub9dd\", \"\\ud76c\\ub9dd\"]}, \"R\": 30, \"lambda.step\": 0.01, \"plot.opts\": {\"xlab\": \"PC1\", \"ylab\": \"PC2\"}, \"topic.order\": [18, 4, 11, 5, 12, 2, 8, 6, 16, 1, 3, 17, 10, 14, 7, 9, 15, 13, 19]};\n",
       "\n",
       "function LDAvis_load_lib(url, callback){\n",
       "  var s = document.createElement('script');\n",
       "  s.src = url;\n",
       "  s.async = true;\n",
       "  s.onreadystatechange = s.onload = callback;\n",
       "  s.onerror = function(){console.warn(\"failed to load library \" + url);};\n",
       "  document.getElementsByTagName(\"head\")[0].appendChild(s);\n",
       "}\n",
       "\n",
       "if(typeof(LDAvis) !== \"undefined\"){\n",
       "   // already loaded: just create the visualization\n",
       "   !function(LDAvis){\n",
       "       new LDAvis(\"#\" + \"ldavis_el2059671399708420691368058211507\", ldavis_el2059671399708420691368058211507_data);\n",
       "   }(LDAvis);\n",
       "}else if(typeof define === \"function\" && define.amd){\n",
       "   // require.js is available: use it to load d3/LDAvis\n",
       "   require.config({paths: {d3: \"https://d3js.org/d3.v5\"}});\n",
       "   require([\"d3\"], function(d3){\n",
       "      window.d3 = d3;\n",
       "      LDAvis_load_lib(\"https://cdn.jsdelivr.net/gh/bmabey/pyLDAvis@3.3.1/pyLDAvis/js/ldavis.v3.0.0.js\", function(){\n",
       "        new LDAvis(\"#\" + \"ldavis_el2059671399708420691368058211507\", ldavis_el2059671399708420691368058211507_data);\n",
       "      });\n",
       "    });\n",
       "}else{\n",
       "    // require.js not available: dynamically load d3 & LDAvis\n",
       "    LDAvis_load_lib(\"https://d3js.org/d3.v5.js\", function(){\n",
       "         LDAvis_load_lib(\"https://cdn.jsdelivr.net/gh/bmabey/pyLDAvis@3.3.1/pyLDAvis/js/ldavis.v3.0.0.js\", function(){\n",
       "                 new LDAvis(\"#\" + \"ldavis_el2059671399708420691368058211507\", ldavis_el2059671399708420691368058211507_data);\n",
       "            })\n",
       "         });\n",
       "}\n",
       "</script>"
      ],
      "text/plain": [
       "<IPython.core.display.HTML object>"
      ]
     },
     "execution_count": 48,
     "metadata": {},
     "output_type": "execute_result"
    }
   ],
   "source": [
    "import pyLDAvis.gensim_models\n",
    "\n",
    "pyLDAvis.enable_notebook()\n",
    "vis = pyLDAvis.gensim_models.prepare(ldamodel, corpus, dictionary)\n",
    "pyLDAvis.display(vis)"
   ]
  },
  {
   "cell_type": "code",
   "execution_count": 49,
   "id": "satisfactory-hopkins",
   "metadata": {},
   "outputs": [
    {
     "name": "stdout",
     "output_type": "stream",
     "text": [
      "0 번째 문서의 topic 비율: [(6, 0.24788609), (7, 0.38450477), (15, 0.33249533)]\n",
      "1 번째 문서의 topic 비율: [(2, 0.37002775), (11, 0.58522034)]\n",
      "2 번째 문서의 topic 비율: [(0, 0.41732052), (5, 0.16565137), (7, 0.3898582)]\n",
      "3 번째 문서의 topic 비율: [(0, 0.059364054), (7, 0.8999606)]\n",
      "4 번째 문서의 topic 비율: [(2, 0.17947692), (5, 0.20247202), (14, 0.02465419), (17, 0.5779121)]\n"
     ]
    }
   ],
   "source": [
    "for i, topic_list in enumerate(ldamodel[corpus]):\n",
    "    if i==5: # 처음 5개까지만 살펴보자\n",
    "        break\n",
    "    print(i, '번째 문서의 topic 비율:', topic_list)\n",
    "    # (토픽번호, 토픽비율)로 출력됨"
   ]
  },
  {
   "cell_type": "code",
   "execution_count": 50,
   "id": "conditional-adjustment",
   "metadata": {},
   "outputs": [
    {
     "data": {
      "text/plain": [
       "[(0,\n",
       "  '0.048*\"교육청\" + 0.046*\"기자\" + 0.038*\"미래\" + 0.036*\"교육\" + 0.035*\"뉴스\" + 0.032*\"밝히\" + 0.018*\"울산\" + 0.018*\"대구\"'),\n",
       " (1,\n",
       "  '0.076*\"교육\" + 0.053*\"미래\" + 0.032*\"교육청\" + 0.030*\"학교\" + 0.024*\"정책\" + 0.023*\"이번\" + 0.020*\"위하\" + 0.018*\"라고\"'),\n",
       " (2,\n",
       "  '0.070*\"교육\" + 0.049*\"미래\" + 0.036*\"교육감\" + 0.034*\"경남\" + 0.033*\"에서\" + 0.017*\"박종훈\" + 0.011*\"대하\" + 0.011*\"교육청\"'),\n",
       " (3,\n",
       "  '0.088*\"교육\" + 0.041*\"미래\" + 0.021*\"위하\" + 0.016*\"인재\" + 0.015*\"SW\" + 0.014*\"산업\" + 0.013*\"지역\" + 0.011*\"ㄴ다\"'),\n",
       " (4,\n",
       "  '0.105*\"교육\" + 0.038*\"지구\" + 0.035*\"미래\" + 0.030*\"협력\" + 0.021*\"지역\" + 0.019*\"자치\" + 0.017*\"교육부\" + 0.017*\"사업\"'),\n",
       " (5,\n",
       "  '0.060*\"코로나\" + 0.058*\"교육\" + 0.047*\"미래\" + 0.041*\"혁신\" + 0.038*\"19\" + 0.032*\"수업\" + 0.028*\"학교\" + 0.013*\"시대\"'),\n",
       " (6,\n",
       "  '0.042*\"교육\" + 0.027*\"미래\" + 0.027*\"지원\" + 0.021*\"활용\" + 0.021*\"인공지능\" + 0.021*\"데이터\" + 0.018*\"아이\" + 0.017*\"플랫폼\"'),\n",
       " (7,\n",
       "  '0.098*\"학교\" + 0.053*\"미래\" + 0.041*\"교육\" + 0.037*\"환경\" + 0.032*\"생태\" + 0.027*\"스마트\" + 0.020*\"위하\" + 0.020*\"추진\"'),\n",
       " (8,\n",
       "  '0.101*\"부산\" + 0.039*\"교육\" + 0.037*\"교육원\" + 0.032*\"부산시\" + 0.028*\"학과\" + 0.025*\"러닝\" + 0.024*\"과학\" + 0.023*\"정보\"'),\n",
       " (9,\n",
       "  '0.068*\"교육\" + 0.058*\"미래\" + 0.030*\"서울\" + 0.028*\"교육청\" + 0.026*\"기자\" + 0.026*\"포럼\" + 0.026*\"개최\" + 0.025*\"온라인\"'),\n",
       " (10,\n",
       "  '0.082*\"교육\" + 0.043*\"미래\" + 0.037*\"학교\" + 0.025*\"과정\" + 0.021*\"지원\" + 0.018*\"운영\" + 0.013*\"학생\" + 0.012*\"ㄴ다\"'),\n",
       " (11,\n",
       "  '0.082*\"교육\" + 0.047*\"미래\" + 0.022*\"구축\" + 0.015*\"경남\" + 0.015*\"위하\" + 0.012*\"계획\" + 0.012*\"AI\" + 0.011*\"미래형\"'),\n",
       " (12,\n",
       "  '0.030*\"권역\" + 0.025*\"역할\" + 0.023*\"학교\" + 0.019*\"수행\" + 0.018*\"거점\" + 0.018*\"경영\" + 0.017*\"공학\" + 0.017*\"시설\"'),\n",
       " (13,\n",
       "  '0.070*\"예산\" + 0.059*\"편성\" + 0.058*\"교육\" + 0.034*\"조성\" + 0.033*\"재정\" + 0.025*\"무상\" + 0.024*\"미래\" + 0.021*\"중점\"'),\n",
       " (14,\n",
       "  '0.085*\"체험\" + 0.043*\"미래\" + 0.041*\"재단\" + 0.034*\"곡성군\" + 0.033*\"진로\" + 0.032*\"교육\" + 0.022*\"곡성\" + 0.022*\"사람\"'),\n",
       " (15,\n",
       "  '0.077*\"교육\" + 0.041*\"원격\" + 0.040*\"미래\" + 0.029*\"대학\" + 0.028*\"수업\" + 0.026*\"센터\" + 0.022*\"위하\" + 0.018*\"교원\"'),\n",
       " (16,\n",
       "  '0.057*\"교육\" + 0.047*\"미래\" + 0.028*\"교육부\" + 0.025*\"정책\" + 0.022*\"대하\" + 0.022*\"부총리\" + 0.021*\"에서\" + 0.019*\"학생\"'),\n",
       " (17,\n",
       "  '0.088*\"교육\" + 0.055*\"미래\" + 0.022*\"위하\" + 0.021*\"학생\" + 0.017*\"환경\" + 0.015*\"라고\" + 0.013*\"변화\" + 0.013*\"코로나\"'),\n",
       " (18,\n",
       "  '0.078*\"교원\" + 0.071*\"국가\" + 0.067*\"회의\" + 0.062*\"체제\" + 0.047*\"양성\" + 0.035*\"과정\" + 0.027*\"방향\" + 0.022*\"사회적\"')]"
      ]
     },
     "execution_count": 50,
     "metadata": {},
     "output_type": "execute_result"
    }
   ],
   "source": [
    "topics = ldamodel.print_topics(num_words=8)\n",
    "\n",
    "[topic for topic in topics]"
   ]
  },
  {
   "cell_type": "code",
   "execution_count": null,
   "id": "afraid-reception",
   "metadata": {},
   "outputs": [],
   "source": []
  }
 ],
 "metadata": {
  "kernelspec": {
   "display_name": "knlp",
   "language": "python",
   "name": "knlp"
  },
  "language_info": {
   "codemirror_mode": {
    "name": "ipython",
    "version": 3
   },
   "file_extension": ".py",
   "mimetype": "text/x-python",
   "name": "python",
   "nbconvert_exporter": "python",
   "pygments_lexer": "ipython3",
   "version": "3.8.15"
  }
 },
 "nbformat": 4,
 "nbformat_minor": 5
}
